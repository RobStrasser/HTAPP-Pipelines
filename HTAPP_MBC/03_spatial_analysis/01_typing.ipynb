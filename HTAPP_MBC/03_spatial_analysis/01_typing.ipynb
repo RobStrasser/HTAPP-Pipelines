{
 "cells": [
  {
   "cell_type": "code",
   "execution_count": 1,
   "metadata": {},
   "outputs": [],
   "source": [
    "import numpy as np\n",
    "import warnings\n",
    "warnings.simplefilter(action='ignore', category=FutureWarning)\n",
    "import pandas as pd\n",
    "import scanpy as sc\n",
    "import anndata\n",
    "import os\n",
    "import sys"
   ]
  },
  {
   "cell_type": "code",
   "execution_count": 4,
   "metadata": {},
   "outputs": [],
   "source": [
    "sys.path.insert(1, '/secure/projects/tacco/')\n",
    "import tacco as tc"
   ]
  },
  {
   "cell_type": "code",
   "execution_count": 5,
   "metadata": {},
   "outputs": [],
   "source": [
    "sys.path.insert(1, '/secure/projects/HTAPP_MBC/src/spatial')\n",
    "from spatial_utils import *"
   ]
  },
  {
   "cell_type": "code",
   "execution_count": 4,
   "metadata": {},
   "outputs": [],
   "source": [
    "sample_sheet=pd.read_csv(codeDir+\"/meta/sampletracking_HTAPP_MBC_spatial.csv\")"
   ]
  },
  {
   "cell_type": "code",
   "execution_count": 5,
   "metadata": {},
   "outputs": [
    {
     "data": {
      "text/plain": [
       "['scRNAseq',\n",
       " 'slide_seq',\n",
       " 'merfish',\n",
       " 'merfish_bin',\n",
       " 'exseq',\n",
       " 'exseq_bin',\n",
       " 'codex']"
      ]
     },
     "execution_count": 5,
     "metadata": {},
     "output_type": "execute_result"
    }
   ],
   "source": [
    "#These identifiers are set as defaults in many functions. If names are changed, this has to be adapted when calling the functions.\n",
    "ct_column='cell_type'\n",
    "sm_methods=[\"slide_seq\",\"merfish\",\"merfish_bin\",\"exseq\",\"exseq_bin\",\"codex\"] #spatial mathod names are hard-coded for now because some methods need special treatments. Can be fixed by giving eatch method it's own variable.\n",
    "sc_method=\"scRNAseq\"\n",
    "all_methods=[sc_method,*sm_methods]\n",
    "all_methods"
   ]
  },
  {
   "cell_type": "code",
   "execution_count": 6,
   "metadata": {},
   "outputs": [
    {
     "data": {
      "text/plain": [
       "['HTAPP-944-SMP-7479',\n",
       " 'HTAPP-895-SMP-7359',\n",
       " 'HTAPP-880-SMP-7179',\n",
       " 'HTAPP-878-SMP-7149',\n",
       " 'HTAPP-812-SMP-8239',\n",
       " 'HTAPP-514-SMP-6760',\n",
       " 'HTAPP-982-SMP-7629',\n",
       " 'HTAPP-997-SMP-7789',\n",
       " 'HTAPP-917-SMP-4531',\n",
       " 'HTAPP-853-SMP-4381',\n",
       " 'HTAPP-313-SMP-932',\n",
       " 'HTAPP-330-SMP-1082',\n",
       " 'HTAPP-783-SMP-4081',\n",
       " 'HTAPP-364-SMP-1321',\n",
       " 'HTAPP-213-SMP-6752']"
      ]
     },
     "execution_count": 6,
     "metadata": {},
     "output_type": "execute_result"
    }
   ],
   "source": [
    "run_samples=list(filter(lambda a: not a in [], list(sample_sheet['sample'].unique()))) \n",
    "run_samples"
   ]
  },
  {
   "cell_type": "markdown",
   "metadata": {},
   "source": [
    "### Annotate"
   ]
  },
  {
   "cell_type": "code",
   "execution_count": 8,
   "metadata": {},
   "outputs": [
    {
     "name": "stdout",
     "output_type": "stream",
     "text": [
      "-------------------HTAPP-944-SMP-7479-------------------\n",
      "reading  scRNAseq  from buffer\n",
      "reading  slide_seq  from buffer\n",
      "reading  merfish  from buffer\n",
      "reading  merfish_bin  from buffer\n",
      "No data for exseq\n",
      "No data for exseq_bin\n",
      "No data for codex\n",
      "++slide_seq++\n",
      "reading  OT  from buffer\n",
      "reading  OT_max  from buffer\n",
      "reading  RCTD  from buffer\n",
      "++merfish++\n",
      "reading  OT  from buffer\n",
      "reading  OT_max  from buffer\n",
      "reading  RCTD  from buffer\n",
      "++merfish++\n",
      "reading  OT  from buffer\n",
      "reading  OT_max  from buffer\n",
      "reading  RCTD  from buffer\n",
      "++merfish++\n",
      "reading  OT  from buffer\n",
      "reading  OT_max  from buffer\n",
      "reading  RCTD  from buffer\n",
      "++merfish_bin++\n",
      "reading  OT  from buffer\n",
      "reading  OT_max  from buffer\n",
      "reading  RCTD  from buffer\n",
      "++merfish_bin++\n",
      "reading  OT  from buffer\n",
      "reading  OT_max  from buffer\n",
      "reading  RCTD  from buffer\n",
      "++merfish_bin++\n",
      "reading  OT  from buffer\n",
      "reading  OT_max  from buffer\n",
      "reading  RCTD  from buffer\n",
      "Writing slide_seq\n",
      "Writing merfish\n",
      "Writing merfish_bin\n",
      "exseq not available.\n",
      "exseq_bin not available.\n",
      "codex not available.\n",
      "-------------------HTAPP-895-SMP-7359-------------------\n",
      "reading  scRNAseq  from buffer\n",
      "reading  slide_seq  from buffer\n",
      "No data for merfish\n",
      "No data for merfish_bin\n",
      "reading  exseq  from buffer\n",
      "No data for exseq_bin\n",
      "No data for codex\n",
      "++slide_seq++\n",
      "reading  OT  from buffer\n",
      "reading  OT_max  from buffer\n",
      "reading  RCTD  from buffer\n",
      "++exseq++\n",
      "reading  OT  from buffer\n",
      "reading  OT_max  from buffer\n",
      "reading  RCTD  from buffer\n",
      "Writing slide_seq\n",
      "merfish not available.\n",
      "merfish_bin not available.\n",
      "Writing exseq\n",
      "exseq_bin not available.\n",
      "codex not available.\n",
      "-------------------HTAPP-880-SMP-7179-------------------\n",
      "reading  scRNAseq  from buffer\n",
      "reading  slide_seq  from buffer\n",
      "reading  merfish  from buffer\n",
      "reading  merfish_bin  from buffer\n",
      "reading  exseq  from buffer\n",
      "reading  exseq_bin  from buffer\n",
      "reading  codex  from buffer\n",
      "++slide_seq++\n",
      "reading  OT  from buffer\n",
      "reading  OT_max  from buffer\n",
      "reading  RCTD  from buffer\n",
      "++slide_seq++\n",
      "reading  OT  from buffer\n",
      "reading  OT_max  from buffer\n",
      "reading  RCTD  from buffer\n",
      "++merfish++\n",
      "reading  OT  from buffer\n",
      "reading  OT_max  from buffer\n",
      "reading  RCTD  from buffer\n",
      "++merfish_bin++\n",
      "reading  OT  from buffer\n",
      "reading  OT_max  from buffer\n",
      "reading  RCTD  from buffer\n",
      "++exseq++\n",
      "reading  OT  from buffer\n",
      "reading  OT_max  from buffer\n",
      "reading  RCTD  from buffer\n",
      "++exseq_bin++\n",
      "reading  OT  from buffer\n",
      "reading  OT_max  from buffer\n",
      "reading  RCTD  from buffer\n",
      "++codex++\n",
      "reading  OT  from buffer\n",
      "reading  OT_max  from buffer\n",
      "reading  RCTD  from buffer\n",
      "Writing slide_seq\n",
      "Writing merfish\n",
      "Writing merfish_bin\n",
      "Writing exseq\n",
      "Writing exseq_bin\n",
      "Writing codex\n",
      "-------------------HTAPP-878-SMP-7149-------------------\n",
      "reading  scRNAseq  from buffer\n",
      "reading  slide_seq  from buffer\n",
      "reading  merfish  from buffer\n",
      "reading  merfish_bin  from buffer\n",
      "No data for exseq\n",
      "No data for exseq_bin\n",
      "reading  codex  from buffer\n",
      "++slide_seq++\n",
      "reading  OT  from buffer\n",
      "reading  OT_max  from buffer\n",
      "reading  RCTD  from buffer\n",
      "++slide_seq++\n",
      "reading  OT  from buffer\n",
      "reading  OT_max  from buffer\n",
      "reading  RCTD  from buffer\n",
      "++merfish++\n",
      "reading  OT  from buffer\n",
      "reading  OT_max  from buffer\n",
      "reading  RCTD  from buffer\n",
      "++merfish_bin++\n",
      "reading  OT  from buffer\n",
      "reading  OT_max  from buffer\n",
      "reading  RCTD  from buffer\n",
      "++codex++\n",
      "reading  OT  from buffer\n",
      "reading  OT_max  from buffer\n",
      "reading  RCTD  from buffer\n",
      "Writing slide_seq\n",
      "Writing merfish\n",
      "Writing merfish_bin\n",
      "exseq not available.\n",
      "exseq_bin not available.\n",
      "Writing codex\n",
      "-------------------HTAPP-812-SMP-8239-------------------\n",
      "reading  scRNAseq  from buffer\n",
      "reading  slide_seq  from buffer\n",
      "reading  merfish  from buffer\n",
      "reading  merfish_bin  from buffer\n",
      "No data for exseq\n",
      "No data for exseq_bin\n",
      "reading  codex  from buffer\n",
      "++slide_seq++\n",
      "reading  OT  from buffer\n",
      "reading  OT_max  from buffer\n",
      "reading  RCTD  from buffer\n",
      "++slide_seq++\n",
      "reading  OT  from buffer\n",
      "reading  OT_max  from buffer\n",
      "reading  RCTD  from buffer\n",
      "++merfish++\n",
      "reading  OT  from buffer\n",
      "reading  OT_max  from buffer\n",
      "reading  RCTD  from buffer\n",
      "++merfish_bin++\n",
      "reading  OT  from buffer\n",
      "reading  OT_max  from buffer\n",
      "reading  RCTD  from buffer\n",
      "++codex++\n",
      "reading  OT  from buffer\n",
      "reading  OT_max  from buffer\n",
      "reading  RCTD  from buffer\n",
      "Writing slide_seq\n",
      "Writing merfish\n",
      "Writing merfish_bin\n",
      "exseq not available.\n",
      "exseq_bin not available.\n",
      "Writing codex\n",
      "-------------------HTAPP-514-SMP-6760-------------------\n",
      "reading  scRNAseq  from buffer\n",
      "reading  slide_seq  from buffer\n",
      "reading  merfish  from buffer\n",
      "reading  merfish_bin  from buffer\n",
      "reading  exseq  from buffer\n",
      "reading  exseq_bin  from buffer\n",
      "reading  codex  from buffer\n",
      "++slide_seq++\n",
      "reading  OT  from buffer\n",
      "reading  OT_max  from buffer\n",
      "reading  RCTD  from buffer\n",
      "++slide_seq++\n",
      "reading  OT  from buffer\n",
      "reading  OT_max  from buffer\n",
      "reading  RCTD  from buffer\n",
      "++merfish++\n",
      "reading  OT  from buffer\n",
      "reading  OT_max  from buffer\n",
      "reading  RCTD  from buffer\n",
      "++merfish_bin++\n",
      "reading  OT  from buffer\n",
      "reading  OT_max  from buffer\n",
      "reading  RCTD  from buffer\n",
      "++exseq++\n",
      "reading  OT  from buffer\n",
      "reading  OT_max  from buffer\n",
      "reading  RCTD  from buffer\n",
      "++exseq_bin++\n",
      "reading  OT  from buffer\n",
      "reading  OT_max  from buffer\n",
      "reading  RCTD  from buffer\n",
      "++codex++\n",
      "reading  OT  from buffer\n",
      "reading  OT_max  from buffer\n",
      "reading  RCTD  from buffer\n",
      "Writing slide_seq\n",
      "Writing merfish\n",
      "Writing merfish_bin\n",
      "Writing exseq\n",
      "Writing exseq_bin\n",
      "Writing codex\n",
      "-------------------HTAPP-982-SMP-7629-------------------\n",
      "reading  scRNAseq  from buffer\n",
      "reading  slide_seq  from buffer\n",
      "reading  merfish  from buffer\n",
      "reading  merfish_bin  from buffer\n",
      "reading  exseq  from buffer\n",
      "reading  exseq_bin  from buffer\n",
      "reading  codex  from buffer\n",
      "++slide_seq++\n",
      "reading  OT  from buffer\n",
      "reading  OT_max  from buffer\n",
      "reading  RCTD  from buffer\n",
      "++merfish++\n",
      "reading  OT  from buffer\n",
      "reading  OT_max  from buffer\n",
      "reading  RCTD  from buffer\n",
      "++merfish++\n",
      "reading  OT  from buffer\n",
      "reading  OT_max  from buffer\n",
      "reading  RCTD  from buffer\n",
      "++merfish_bin++\n",
      "reading  OT  from buffer\n",
      "reading  OT_max  from buffer\n",
      "reading  RCTD  from buffer\n",
      "++merfish_bin++\n",
      "reading  OT  from buffer\n",
      "reading  OT_max  from buffer\n",
      "reading  RCTD  from buffer\n",
      "++exseq++\n",
      "reading  OT  from buffer\n",
      "reading  OT_max  from buffer\n",
      "reading  RCTD  from buffer\n",
      "++exseq_bin++\n",
      "reading  OT  from buffer\n",
      "reading  OT_max  from buffer\n",
      "reading  RCTD  from buffer\n",
      "++codex++\n",
      "reading  OT  from buffer\n",
      "reading  OT_max  from buffer\n",
      "reading  RCTD  from buffer\n",
      "Writing slide_seq\n",
      "Writing merfish\n",
      "Writing merfish_bin\n",
      "Writing exseq\n",
      "Writing exseq_bin\n",
      "Writing codex\n",
      "-------------------HTAPP-997-SMP-7789-------------------\n",
      "reading  scRNAseq  from buffer\n",
      "reading  slide_seq  from buffer\n",
      "No data for merfish\n",
      "No data for merfish_bin\n",
      "No data for exseq\n",
      "No data for exseq_bin\n",
      "reading  codex  from buffer\n",
      "++slide_seq++\n",
      "reading  OT  from buffer\n",
      "reading  OT_max  from buffer\n",
      "reading  RCTD  from buffer\n",
      "++slide_seq++\n",
      "reading  OT  from buffer\n",
      "reading  OT_max  from buffer\n",
      "reading  RCTD  from buffer\n",
      "++codex++\n",
      "reading  OT  from buffer\n",
      "reading  OT_max  from buffer\n",
      "reading  RCTD  from buffer\n",
      "Writing slide_seq\n",
      "merfish not available.\n",
      "merfish_bin not available.\n",
      "exseq not available.\n",
      "exseq_bin not available.\n",
      "Writing codex\n",
      "-------------------HTAPP-917-SMP-4531-------------------\n",
      "reading  scRNAseq  from buffer\n",
      "reading  slide_seq  from buffer\n",
      "reading  merfish  from buffer\n",
      "reading  merfish_bin  from buffer\n",
      "reading  exseq  from buffer\n",
      "reading  exseq_bin  from buffer\n",
      "reading  codex  from buffer\n",
      "++slide_seq++\n",
      "reading  OT  from buffer\n",
      "reading  OT_max  from buffer\n",
      "reading  RCTD  from buffer\n",
      "++merfish++\n",
      "reading  OT  from buffer\n",
      "reading  OT_max  from buffer\n",
      "reading  RCTD  from buffer\n",
      "++merfish_bin++\n",
      "reading  OT  from buffer\n",
      "reading  OT_max  from buffer\n",
      "reading  RCTD  from buffer\n",
      "++exseq++\n",
      "reading  OT  from buffer\n",
      "reading  OT_max  from buffer\n",
      "reading  RCTD  from buffer\n",
      "++exseq_bin++\n",
      "reading  OT  from buffer\n",
      "reading  OT_max  from buffer\n",
      "reading  RCTD  from buffer\n",
      "++codex++\n",
      "reading  OT  from buffer\n",
      "reading  OT_max  from buffer\n",
      "reading  RCTD  from buffer\n",
      "Writing slide_seq\n",
      "Writing merfish\n",
      "Writing merfish_bin\n",
      "Writing exseq\n",
      "Writing exseq_bin\n",
      "Writing codex\n",
      "-------------------HTAPP-853-SMP-4381-------------------\n",
      "reading  scRNAseq  from buffer\n",
      "reading  slide_seq  from buffer\n",
      "reading  merfish  from buffer\n",
      "reading  merfish_bin  from buffer\n",
      "No data for exseq\n",
      "No data for exseq_bin\n",
      "reading  codex  from buffer\n",
      "++slide_seq++\n",
      "reading  OT  from buffer\n",
      "reading  OT_max  from buffer\n",
      "reading  RCTD  from buffer\n",
      "++slide_seq++\n",
      "reading  OT  from buffer\n",
      "reading  OT_max  from buffer\n",
      "reading  RCTD  from buffer\n",
      "++merfish++\n",
      "reading  OT  from buffer\n",
      "reading  OT_max  from buffer\n",
      "reading  RCTD  from buffer\n",
      "++merfish_bin++\n",
      "reading  OT  from buffer\n",
      "reading  OT_max  from buffer\n",
      "reading  RCTD  from buffer\n",
      "++codex++\n",
      "reading  OT  from buffer\n",
      "reading  OT_max  from buffer\n",
      "reading  RCTD  from buffer\n",
      "Writing slide_seq\n",
      "Writing merfish\n",
      "Writing merfish_bin\n",
      "exseq not available.\n",
      "exseq_bin not available.\n",
      "Writing codex\n",
      "-------------------HTAPP-313-SMP-932-------------------\n",
      "reading  scRNAseq  from buffer\n",
      "reading  slide_seq  from buffer\n",
      "reading  merfish  from buffer\n",
      "reading  merfish_bin  from buffer\n",
      "reading  exseq  from buffer\n",
      "reading  exseq_bin  from buffer\n",
      "reading  codex  from buffer\n",
      "++slide_seq++\n",
      "reading  OT  from buffer\n",
      "reading  OT_max  from buffer\n",
      "reading  RCTD  from buffer\n",
      "++slide_seq++\n",
      "reading  OT  from buffer\n",
      "reading  OT_max  from buffer\n",
      "reading  RCTD  from buffer\n",
      "++merfish++\n",
      "reading  OT  from buffer\n",
      "reading  OT_max  from buffer\n",
      "reading  RCTD  from buffer\n",
      "++merfish_bin++\n",
      "reading  OT  from buffer\n",
      "reading  OT_max  from buffer\n",
      "reading  RCTD  from buffer\n",
      "++exseq++\n",
      "reading  OT  from buffer\n",
      "reading  OT_max  from buffer\n",
      "reading  RCTD  from buffer\n",
      "++exseq_bin++\n",
      "reading  OT  from buffer\n",
      "reading  OT_max  from buffer\n",
      "reading  RCTD  from buffer\n",
      "++codex++\n",
      "reading  OT  from buffer\n",
      "reading  OT_max  from buffer\n",
      "reading  RCTD  from buffer\n",
      "Writing slide_seq\n",
      "Writing merfish\n",
      "Writing merfish_bin\n",
      "Writing exseq\n",
      "Writing exseq_bin\n",
      "Writing codex\n",
      "-------------------HTAPP-330-SMP-1082-------------------\n",
      "reading  scRNAseq  from buffer\n",
      "reading  slide_seq  from buffer\n",
      "No data for merfish\n",
      "No data for merfish_bin\n",
      "reading  exseq  from buffer\n",
      "reading  exseq_bin  from buffer\n",
      "reading  codex  from buffer\n",
      "++slide_seq++\n",
      "reading  OT  from buffer\n",
      "reading  OT_max  from buffer\n",
      "reading  RCTD  from buffer\n",
      "++exseq++\n",
      "reading  OT  from buffer\n",
      "reading  OT_max  from buffer\n",
      "reading  RCTD  from buffer\n",
      "++exseq_bin++\n",
      "reading  OT  from buffer\n",
      "reading  OT_max  from buffer\n",
      "reading  RCTD  from buffer\n",
      "++codex++\n",
      "reading  OT  from buffer\n",
      "reading  OT_max  from buffer\n",
      "reading  RCTD  from buffer\n",
      "Writing slide_seq\n",
      "merfish not available.\n",
      "merfish_bin not available.\n",
      "Writing exseq\n",
      "Writing exseq_bin\n",
      "Writing codex\n",
      "-------------------HTAPP-783-SMP-4081-------------------\n",
      "reading  scRNAseq  from buffer\n",
      "reading  slide_seq  from buffer\n",
      "No data for merfish\n",
      "No data for merfish_bin\n",
      "reading  exseq  from buffer\n",
      "reading  exseq_bin  from buffer\n",
      "reading  codex  from buffer\n",
      "++slide_seq++\n",
      "reading  OT  from buffer\n",
      "reading  OT_max  from buffer\n",
      "reading  RCTD  from buffer\n",
      "++slide_seq++\n",
      "reading  OT  from buffer\n",
      "reading  OT_max  from buffer\n",
      "reading  RCTD  from buffer\n",
      "++exseq++\n",
      "reading  OT  from buffer\n",
      "reading  OT_max  from buffer\n",
      "reading  RCTD  from buffer\n",
      "++exseq_bin++\n",
      "reading  OT  from buffer\n",
      "reading  OT_max  from buffer\n",
      "reading  RCTD  from buffer\n",
      "++codex++\n",
      "reading  OT  from buffer\n",
      "reading  OT_max  from buffer\n",
      "reading  RCTD  from buffer\n",
      "Writing slide_seq\n",
      "merfish not available.\n",
      "merfish_bin not available.\n",
      "Writing exseq\n",
      "Writing exseq_bin\n",
      "Writing codex\n",
      "-------------------HTAPP-364-SMP-1321-------------------\n",
      "reading  scRNAseq  from buffer\n",
      "reading  slide_seq  from buffer\n",
      "No data for merfish\n",
      "No data for merfish_bin\n",
      "reading  exseq  from buffer\n",
      "reading  exseq_bin  from buffer\n",
      "reading  codex  from buffer\n",
      "++slide_seq++\n",
      "reading  OT  from buffer\n",
      "reading  OT_max  from buffer\n",
      "reading  RCTD  from buffer\n",
      "++slide_seq++\n",
      "reading  OT  from buffer\n",
      "reading  OT_max  from buffer\n",
      "reading  RCTD  from buffer\n",
      "++exseq++\n",
      "reading  OT  from buffer\n",
      "reading  OT_max  from buffer\n",
      "reading  RCTD  from buffer\n",
      "++exseq_bin++\n",
      "reading  OT  from buffer\n",
      "reading  OT_max  from buffer\n",
      "reading  RCTD  from buffer\n",
      "++codex++\n",
      "reading  OT  from buffer\n",
      "reading  OT_max  from buffer\n",
      "reading  RCTD  from buffer\n",
      "Writing slide_seq\n",
      "merfish not available.\n",
      "merfish_bin not available.\n",
      "Writing exseq\n",
      "Writing exseq_bin\n",
      "Writing codex\n",
      "-------------------HTAPP-213-SMP-6752-------------------\n",
      "reading  scRNAseq  from buffer\n",
      "reading  slide_seq  from buffer\n",
      "No data for merfish\n",
      "No data for merfish_bin\n",
      "No data for exseq\n",
      "No data for exseq_bin\n",
      "reading  codex  from buffer\n",
      "++slide_seq++\n",
      "reading  OT  from buffer\n",
      "reading  OT_max  from buffer\n",
      "reading  RCTD  from buffer\n",
      "++slide_seq++\n",
      "reading  OT  from buffer\n",
      "reading  OT_max  from buffer\n",
      "reading  RCTD  from buffer\n",
      "++codex++\n",
      "reading  OT  from buffer\n",
      "reading  OT_max  from buffer\n",
      "reading  RCTD  from buffer\n",
      "Writing slide_seq\n",
      "merfish not available.\n",
      "merfish_bin not available.\n",
      "exseq not available.\n",
      "exseq_bin not available.\n",
      "Writing codex\n"
     ]
    }
   ],
   "source": [
    "for sample in run_samples:\n",
    "    print(\"-------------------\"+sample+\"-------------------\")\n",
    "    out_dir=out_dir_base+sample \n",
    "    adatas=get_and_process_data(sample,data_dir,out_dir,methods=all_methods,process=False)\n",
    "    sp_typing=run_typing(adatas,out_dir,sample,RCTD=True)\n",
    "    add_typing_results(adatas,sp_typing)\n",
    "    update_processed_adatas(adatas,sample,out_dir,sm_methods,overwrite=True,process=False)"
   ]
  },
  {
   "cell_type": "markdown",
   "metadata": {},
   "source": [
    "### Group annotations by compartment"
   ]
  },
  {
   "cell_type": "code",
   "execution_count": 11,
   "metadata": {},
   "outputs": [
    {
     "name": "stdout",
     "output_type": "stream",
     "text": [
      "HTAPP-944-SMP-7479\n",
      "reading  scRNAseq  from buffer\n",
      "reading  slide_seq  from buffer\n",
      "reading  merfish  from buffer\n",
      "reading  merfish_bin  from buffer\n",
      "No data for exseq\n",
      "No data for exseq_bin\n",
      "No data for codex\n",
      "Writing slide_seq\n",
      "Writing merfish\n",
      "Writing merfish_bin\n",
      "exseq not available.\n",
      "exseq_bin not available.\n",
      "codex not available.\n",
      "HTAPP-895-SMP-7359\n",
      "reading  scRNAseq  from buffer\n",
      "reading  slide_seq  from buffer\n",
      "No data for merfish\n",
      "No data for merfish_bin\n",
      "reading  exseq  from buffer\n",
      "No data for exseq_bin\n",
      "No data for codex\n",
      "Writing slide_seq\n",
      "merfish not available.\n",
      "merfish_bin not available.\n",
      "Writing exseq\n",
      "exseq_bin not available.\n",
      "codex not available.\n",
      "HTAPP-880-SMP-7179\n",
      "reading  scRNAseq  from buffer\n",
      "reading  slide_seq  from buffer\n",
      "reading  merfish  from buffer\n",
      "reading  merfish_bin  from buffer\n",
      "reading  exseq  from buffer\n",
      "reading  exseq_bin  from buffer\n",
      "reading  codex  from buffer\n",
      "Writing slide_seq\n",
      "Writing merfish\n",
      "Writing merfish_bin\n",
      "Writing exseq\n",
      "Writing exseq_bin\n",
      "Writing codex\n",
      "HTAPP-878-SMP-7149\n",
      "reading  scRNAseq  from buffer\n",
      "reading  slide_seq  from buffer\n",
      "reading  merfish  from buffer\n",
      "reading  merfish_bin  from buffer\n",
      "No data for exseq\n",
      "No data for exseq_bin\n",
      "reading  codex  from buffer\n",
      "Writing slide_seq\n",
      "Writing merfish\n",
      "Writing merfish_bin\n",
      "exseq not available.\n",
      "exseq_bin not available.\n",
      "Writing codex\n",
      "HTAPP-812-SMP-8239\n",
      "reading  scRNAseq  from buffer\n",
      "reading  slide_seq  from buffer\n",
      "reading  merfish  from buffer\n",
      "reading  merfish_bin  from buffer\n",
      "No data for exseq\n",
      "No data for exseq_bin\n",
      "reading  codex  from buffer\n",
      "Writing slide_seq\n",
      "Writing merfish\n",
      "Writing merfish_bin\n",
      "exseq not available.\n",
      "exseq_bin not available.\n",
      "Writing codex\n",
      "HTAPP-514-SMP-6760\n",
      "reading  scRNAseq  from buffer\n",
      "reading  slide_seq  from buffer\n",
      "reading  merfish  from buffer\n",
      "reading  merfish_bin  from buffer\n",
      "reading  exseq  from buffer\n",
      "reading  exseq_bin  from buffer\n",
      "reading  codex  from buffer\n",
      "Writing slide_seq\n",
      "Writing merfish\n",
      "Writing merfish_bin\n",
      "Writing exseq\n",
      "Writing exseq_bin\n",
      "Writing codex\n",
      "HTAPP-982-SMP-7629\n",
      "reading  scRNAseq  from buffer\n",
      "reading  slide_seq  from buffer\n",
      "reading  merfish  from buffer\n",
      "reading  merfish_bin  from buffer\n",
      "reading  exseq  from buffer\n",
      "reading  exseq_bin  from buffer\n",
      "reading  codex  from buffer\n",
      "Writing slide_seq\n",
      "Writing merfish\n",
      "Writing merfish_bin\n",
      "Writing exseq\n",
      "Writing exseq_bin\n",
      "Writing codex\n",
      "HTAPP-997-SMP-7789\n",
      "reading  scRNAseq  from buffer\n",
      "reading  slide_seq  from buffer\n",
      "No data for merfish\n",
      "No data for merfish_bin\n",
      "No data for exseq\n",
      "No data for exseq_bin\n",
      "reading  codex  from buffer\n",
      "Writing slide_seq\n",
      "merfish not available.\n",
      "merfish_bin not available.\n",
      "exseq not available.\n",
      "exseq_bin not available.\n",
      "Writing codex\n",
      "HTAPP-917-SMP-4531\n",
      "reading  scRNAseq  from buffer\n",
      "reading  slide_seq  from buffer\n",
      "reading  merfish  from buffer\n",
      "reading  merfish_bin  from buffer\n",
      "reading  exseq  from buffer\n",
      "reading  exseq_bin  from buffer\n",
      "reading  codex  from buffer\n",
      "Writing slide_seq\n",
      "Writing merfish\n",
      "Writing merfish_bin\n",
      "Writing exseq\n",
      "Writing exseq_bin\n",
      "Writing codex\n",
      "HTAPP-853-SMP-4381\n",
      "reading  scRNAseq  from buffer\n",
      "reading  slide_seq  from buffer\n",
      "reading  merfish  from buffer\n",
      "reading  merfish_bin  from buffer\n",
      "No data for exseq\n",
      "No data for exseq_bin\n",
      "reading  codex  from buffer\n",
      "Writing slide_seq\n",
      "Writing merfish\n",
      "Writing merfish_bin\n",
      "exseq not available.\n",
      "exseq_bin not available.\n",
      "Writing codex\n",
      "HTAPP-313-SMP-932\n",
      "reading  scRNAseq  from buffer\n",
      "reading  slide_seq  from buffer\n",
      "reading  merfish  from buffer\n",
      "reading  merfish_bin  from buffer\n",
      "reading  exseq  from buffer\n",
      "reading  exseq_bin  from buffer\n",
      "reading  codex  from buffer\n",
      "Writing slide_seq\n",
      "Writing merfish\n",
      "Writing merfish_bin\n",
      "Writing exseq\n",
      "Writing exseq_bin\n",
      "Writing codex\n",
      "HTAPP-330-SMP-1082\n",
      "reading  scRNAseq  from buffer\n",
      "reading  slide_seq  from buffer\n",
      "No data for merfish\n",
      "No data for merfish_bin\n",
      "reading  exseq  from buffer\n",
      "reading  exseq_bin  from buffer\n",
      "reading  codex  from buffer\n",
      "Writing slide_seq\n",
      "merfish not available.\n",
      "merfish_bin not available.\n",
      "Writing exseq\n",
      "Writing exseq_bin\n",
      "Writing codex\n",
      "HTAPP-783-SMP-4081\n",
      "reading  scRNAseq  from buffer\n",
      "reading  slide_seq  from buffer\n",
      "No data for merfish\n",
      "No data for merfish_bin\n",
      "reading  exseq  from buffer\n",
      "reading  exseq_bin  from buffer\n",
      "reading  codex  from buffer\n",
      "Writing slide_seq\n",
      "merfish not available.\n",
      "merfish_bin not available.\n",
      "Writing exseq\n",
      "Writing exseq_bin\n",
      "Writing codex\n",
      "HTAPP-364-SMP-1321\n",
      "reading  scRNAseq  from buffer\n",
      "reading  slide_seq  from buffer\n",
      "No data for merfish\n",
      "No data for merfish_bin\n",
      "reading  exseq  from buffer\n",
      "reading  exseq_bin  from buffer\n",
      "reading  codex  from buffer\n",
      "Writing slide_seq\n",
      "merfish not available.\n",
      "merfish_bin not available.\n",
      "Writing exseq\n",
      "Writing exseq_bin\n",
      "Writing codex\n",
      "HTAPP-213-SMP-6752\n",
      "reading  scRNAseq  from buffer\n",
      "reading  slide_seq  from buffer\n",
      "No data for merfish\n",
      "No data for merfish_bin\n",
      "No data for exseq\n",
      "No data for exseq_bin\n",
      "reading  codex  from buffer\n",
      "Writing slide_seq\n",
      "merfish not available.\n",
      "merfish_bin not available.\n",
      "exseq not available.\n",
      "exseq_bin not available.\n",
      "Writing codex\n"
     ]
    }
   ],
   "source": [
    "for sample in run_samples:\n",
    "    print(sample)\n",
    "    out_dir=out_dir_base+sample \n",
    "    adatas=get_and_process_data(sample,data_dir,out_dir,methods=all_methods,process=False)\n",
    "    for method in adatas.index[adatas.index != sc_method]:\n",
    "        tc.utils.merge_annotation(adatas[method],mapping=compartments,result_key='OT_compartment',annotation_key='OT')\n",
    "        tc.utils.merge_annotation(adatas[method],mapping=compartments,result_key='OT_max_compartment',annotation_key='OT_max')\n",
    "        tc.utils.merge_annotation(adatas[method],mapping=compartments,result_key='RCTD_compartment',annotation_key='RCTD')\n",
    "    update_processed_adatas(adatas,sample,out_dir,sm_methods,overwrite=True,process=False)"
   ]
  },
  {
   "cell_type": "markdown",
   "metadata": {},
   "source": [
    "### Add annotations to obs"
   ]
  },
  {
   "cell_type": "code",
   "execution_count": 21,
   "metadata": {},
   "outputs": [
    {
     "name": "stdout",
     "output_type": "stream",
     "text": [
      "HTAPP-944-SMP-7479\n",
      "reading  scRNAseq  from buffer\n",
      "reading  slide_seq  from buffer\n",
      "reading  merfish  from buffer\n",
      "reading  merfish_bin  from buffer\n",
      "No data for exseq\n",
      "No data for exseq_bin\n",
      "No data for codex\n"
     ]
    },
    {
     "name": "stderr",
     "output_type": "stream",
     "text": [
      "... storing 'RCTD' as categorical\n",
      "... storing 'OT' as categorical\n",
      "... storing 'OT_max' as categorical\n"
     ]
    },
    {
     "name": "stdout",
     "output_type": "stream",
     "text": [
      "Writing slide_seq\n"
     ]
    },
    {
     "name": "stderr",
     "output_type": "stream",
     "text": [
      "... storing 'RCTD' as categorical\n",
      "... storing 'OT' as categorical\n",
      "... storing 'OT_max' as categorical\n"
     ]
    },
    {
     "name": "stdout",
     "output_type": "stream",
     "text": [
      "Writing merfish\n"
     ]
    },
    {
     "name": "stderr",
     "output_type": "stream",
     "text": [
      "... storing 'RCTD' as categorical\n",
      "... storing 'OT' as categorical\n",
      "... storing 'OT_max' as categorical\n"
     ]
    },
    {
     "name": "stdout",
     "output_type": "stream",
     "text": [
      "Writing merfish_bin\n",
      "exseq not available.\n",
      "exseq_bin not available.\n",
      "codex not available.\n",
      "HTAPP-895-SMP-7359\n",
      "reading  scRNAseq  from buffer\n",
      "reading  slide_seq  from buffer\n",
      "No data for merfish\n",
      "No data for merfish_bin\n",
      "reading  exseq  from buffer\n",
      "No data for exseq_bin\n",
      "No data for codex\n"
     ]
    },
    {
     "name": "stderr",
     "output_type": "stream",
     "text": [
      "... storing 'RCTD' as categorical\n",
      "... storing 'OT' as categorical\n",
      "... storing 'OT_max' as categorical\n"
     ]
    },
    {
     "name": "stdout",
     "output_type": "stream",
     "text": [
      "Writing slide_seq\n"
     ]
    },
    {
     "name": "stderr",
     "output_type": "stream",
     "text": [
      "... storing 'RCTD' as categorical\n",
      "... storing 'OT' as categorical\n",
      "... storing 'OT_max' as categorical\n"
     ]
    },
    {
     "name": "stdout",
     "output_type": "stream",
     "text": [
      "merfish not available.\n",
      "merfish_bin not available.\n",
      "Writing exseq\n",
      "exseq_bin not available.\n",
      "codex not available.\n",
      "HTAPP-880-SMP-7179\n",
      "reading  scRNAseq  from buffer\n",
      "reading  slide_seq  from buffer\n",
      "reading  merfish  from buffer\n",
      "reading  merfish_bin  from buffer\n",
      "reading  exseq  from buffer\n",
      "reading  exseq_bin  from buffer\n",
      "reading  codex  from buffer\n"
     ]
    },
    {
     "name": "stderr",
     "output_type": "stream",
     "text": [
      "... storing 'RCTD' as categorical\n",
      "... storing 'OT' as categorical\n",
      "... storing 'OT_max' as categorical\n"
     ]
    },
    {
     "name": "stdout",
     "output_type": "stream",
     "text": [
      "Writing slide_seq\n"
     ]
    },
    {
     "name": "stderr",
     "output_type": "stream",
     "text": [
      "... storing 'RCTD' as categorical\n",
      "... storing 'OT' as categorical\n",
      "... storing 'OT_max' as categorical\n",
      "... storing 'RCTD' as categorical\n"
     ]
    },
    {
     "name": "stdout",
     "output_type": "stream",
     "text": [
      "Writing merfish\n",
      "Writing merfish_bin\n"
     ]
    },
    {
     "name": "stderr",
     "output_type": "stream",
     "text": [
      "... storing 'OT' as categorical\n",
      "... storing 'OT_max' as categorical\n",
      "... storing 'RCTD' as categorical\n",
      "... storing 'OT' as categorical\n",
      "... storing 'OT_max' as categorical\n",
      "... storing 'RCTD' as categorical\n",
      "... storing 'OT' as categorical\n",
      "... storing 'OT_max' as categorical\n"
     ]
    },
    {
     "name": "stdout",
     "output_type": "stream",
     "text": [
      "Writing exseq\n",
      "Writing exseq_bin\n"
     ]
    },
    {
     "name": "stderr",
     "output_type": "stream",
     "text": [
      "... storing 'RCTD' as categorical\n",
      "... storing 'OT' as categorical\n",
      "... storing 'OT_max' as categorical\n"
     ]
    },
    {
     "name": "stdout",
     "output_type": "stream",
     "text": [
      "Writing codex\n",
      "HTAPP-878-SMP-7149\n",
      "reading  scRNAseq  from buffer\n",
      "reading  slide_seq  from buffer\n",
      "reading  merfish  from buffer\n",
      "reading  merfish_bin  from buffer\n",
      "No data for exseq\n",
      "No data for exseq_bin\n",
      "reading  codex  from buffer\n"
     ]
    },
    {
     "name": "stderr",
     "output_type": "stream",
     "text": [
      "... storing 'RCTD' as categorical\n",
      "... storing 'OT' as categorical\n",
      "... storing 'OT_max' as categorical\n"
     ]
    },
    {
     "name": "stdout",
     "output_type": "stream",
     "text": [
      "Writing slide_seq\n"
     ]
    },
    {
     "name": "stderr",
     "output_type": "stream",
     "text": [
      "... storing 'RCTD' as categorical\n",
      "... storing 'OT' as categorical\n",
      "... storing 'OT_max' as categorical\n"
     ]
    },
    {
     "name": "stdout",
     "output_type": "stream",
     "text": [
      "Writing merfish\n"
     ]
    },
    {
     "name": "stderr",
     "output_type": "stream",
     "text": [
      "... storing 'RCTD' as categorical\n",
      "... storing 'OT' as categorical\n",
      "... storing 'OT_max' as categorical\n"
     ]
    },
    {
     "name": "stdout",
     "output_type": "stream",
     "text": [
      "Writing merfish_bin\n"
     ]
    },
    {
     "name": "stderr",
     "output_type": "stream",
     "text": [
      "... storing 'RCTD' as categorical\n",
      "... storing 'OT' as categorical\n",
      "... storing 'OT_max' as categorical\n"
     ]
    },
    {
     "name": "stdout",
     "output_type": "stream",
     "text": [
      "exseq not available.\n",
      "exseq_bin not available.\n",
      "Writing codex\n",
      "HTAPP-812-SMP-8239\n",
      "reading  scRNAseq  from buffer\n",
      "reading  slide_seq  from buffer\n",
      "reading  merfish  from buffer\n",
      "reading  merfish_bin  from buffer\n",
      "No data for exseq\n",
      "No data for exseq_bin\n",
      "reading  codex  from buffer\n"
     ]
    },
    {
     "name": "stderr",
     "output_type": "stream",
     "text": [
      "... storing 'RCTD' as categorical\n",
      "... storing 'OT' as categorical\n",
      "... storing 'OT_max' as categorical\n"
     ]
    },
    {
     "name": "stdout",
     "output_type": "stream",
     "text": [
      "Writing slide_seq\n"
     ]
    },
    {
     "name": "stderr",
     "output_type": "stream",
     "text": [
      "... storing 'RCTD' as categorical\n",
      "... storing 'OT' as categorical\n",
      "... storing 'OT_max' as categorical\n",
      "... storing 'RCTD' as categorical\n",
      "... storing 'OT' as categorical\n"
     ]
    },
    {
     "name": "stdout",
     "output_type": "stream",
     "text": [
      "Writing merfish\n",
      "Writing merfish_bin\n"
     ]
    },
    {
     "name": "stderr",
     "output_type": "stream",
     "text": [
      "... storing 'OT_max' as categorical\n",
      "... storing 'RCTD' as categorical\n",
      "... storing 'OT' as categorical\n",
      "... storing 'OT_max' as categorical\n"
     ]
    },
    {
     "name": "stdout",
     "output_type": "stream",
     "text": [
      "exseq not available.\n",
      "exseq_bin not available.\n",
      "Writing codex\n",
      "HTAPP-514-SMP-6760\n",
      "reading  scRNAseq  from buffer\n",
      "reading  slide_seq  from buffer\n",
      "reading  merfish  from buffer\n",
      "reading  merfish_bin  from buffer\n",
      "reading  exseq  from buffer\n",
      "reading  exseq_bin  from buffer\n",
      "reading  codex  from buffer\n"
     ]
    },
    {
     "name": "stderr",
     "output_type": "stream",
     "text": [
      "... storing 'RCTD' as categorical\n",
      "... storing 'OT' as categorical\n",
      "... storing 'OT_max' as categorical\n"
     ]
    },
    {
     "name": "stdout",
     "output_type": "stream",
     "text": [
      "Writing slide_seq\n"
     ]
    },
    {
     "name": "stderr",
     "output_type": "stream",
     "text": [
      "... storing 'RCTD' as categorical\n",
      "... storing 'OT' as categorical\n",
      "... storing 'OT_max' as categorical\n"
     ]
    },
    {
     "name": "stdout",
     "output_type": "stream",
     "text": [
      "Writing merfish\n"
     ]
    },
    {
     "name": "stderr",
     "output_type": "stream",
     "text": [
      "... storing 'RCTD' as categorical\n",
      "... storing 'OT' as categorical\n",
      "... storing 'OT_max' as categorical\n"
     ]
    },
    {
     "name": "stdout",
     "output_type": "stream",
     "text": [
      "Writing merfish_bin\n"
     ]
    },
    {
     "name": "stderr",
     "output_type": "stream",
     "text": [
      "... storing 'RCTD' as categorical\n",
      "... storing 'OT' as categorical\n",
      "... storing 'OT_max' as categorical\n",
      "... storing 'RCTD' as categorical\n",
      "... storing 'OT' as categorical\n",
      "... storing 'OT_max' as categorical\n"
     ]
    },
    {
     "name": "stdout",
     "output_type": "stream",
     "text": [
      "Writing exseq\n",
      "Writing exseq_bin\n"
     ]
    },
    {
     "name": "stderr",
     "output_type": "stream",
     "text": [
      "... storing 'RCTD' as categorical\n",
      "... storing 'OT' as categorical\n",
      "... storing 'OT_max' as categorical\n"
     ]
    },
    {
     "name": "stdout",
     "output_type": "stream",
     "text": [
      "Writing codex\n",
      "HTAPP-982-SMP-7629\n",
      "reading  scRNAseq  from buffer\n",
      "reading  slide_seq  from buffer\n",
      "reading  merfish  from buffer\n",
      "reading  merfish_bin  from buffer\n",
      "reading  exseq  from buffer\n",
      "reading  exseq_bin  from buffer\n",
      "reading  codex  from buffer\n"
     ]
    },
    {
     "name": "stderr",
     "output_type": "stream",
     "text": [
      "... storing 'RCTD' as categorical\n",
      "... storing 'OT' as categorical\n",
      "... storing 'OT_max' as categorical\n"
     ]
    },
    {
     "name": "stdout",
     "output_type": "stream",
     "text": [
      "Writing slide_seq\n"
     ]
    },
    {
     "name": "stderr",
     "output_type": "stream",
     "text": [
      "... storing 'RCTD' as categorical\n",
      "... storing 'OT' as categorical\n",
      "... storing 'OT_max' as categorical\n"
     ]
    },
    {
     "name": "stdout",
     "output_type": "stream",
     "text": [
      "Writing merfish\n"
     ]
    },
    {
     "name": "stderr",
     "output_type": "stream",
     "text": [
      "... storing 'RCTD' as categorical\n",
      "... storing 'OT' as categorical\n",
      "... storing 'OT_max' as categorical\n"
     ]
    },
    {
     "name": "stdout",
     "output_type": "stream",
     "text": [
      "Writing merfish_bin\n"
     ]
    },
    {
     "name": "stderr",
     "output_type": "stream",
     "text": [
      "... storing 'RCTD' as categorical\n",
      "... storing 'OT' as categorical\n",
      "... storing 'OT_max' as categorical\n",
      "... storing 'RCTD' as categorical\n",
      "... storing 'OT' as categorical\n",
      "... storing 'OT_max' as categorical\n"
     ]
    },
    {
     "name": "stdout",
     "output_type": "stream",
     "text": [
      "Writing exseq\n",
      "Writing exseq_bin\n"
     ]
    },
    {
     "name": "stderr",
     "output_type": "stream",
     "text": [
      "... storing 'RCTD' as categorical\n",
      "... storing 'OT' as categorical\n",
      "... storing 'OT_max' as categorical\n"
     ]
    },
    {
     "name": "stdout",
     "output_type": "stream",
     "text": [
      "Writing codex\n",
      "HTAPP-997-SMP-7789\n",
      "reading  scRNAseq  from buffer\n",
      "reading  slide_seq  from buffer\n",
      "No data for merfish\n",
      "No data for merfish_bin\n",
      "No data for exseq\n",
      "No data for exseq_bin\n",
      "reading  codex  from buffer\n"
     ]
    },
    {
     "name": "stderr",
     "output_type": "stream",
     "text": [
      "... storing 'RCTD' as categorical\n",
      "... storing 'OT' as categorical\n",
      "... storing 'OT_max' as categorical\n"
     ]
    },
    {
     "name": "stdout",
     "output_type": "stream",
     "text": [
      "Writing slide_seq\n"
     ]
    },
    {
     "name": "stderr",
     "output_type": "stream",
     "text": [
      "... storing 'RCTD' as categorical\n",
      "... storing 'OT' as categorical\n",
      "... storing 'OT_max' as categorical\n"
     ]
    },
    {
     "name": "stdout",
     "output_type": "stream",
     "text": [
      "merfish not available.\n",
      "merfish_bin not available.\n",
      "exseq not available.\n",
      "exseq_bin not available.\n",
      "Writing codex\n",
      "HTAPP-917-SMP-4531\n",
      "reading  scRNAseq  from buffer\n",
      "reading  slide_seq  from buffer\n",
      "reading  merfish  from buffer\n",
      "reading  merfish_bin  from buffer\n",
      "reading  exseq  from buffer\n",
      "reading  exseq_bin  from buffer\n",
      "reading  codex  from buffer\n"
     ]
    },
    {
     "name": "stderr",
     "output_type": "stream",
     "text": [
      "... storing 'RCTD' as categorical\n",
      "... storing 'OT' as categorical\n",
      "... storing 'OT_max' as categorical\n"
     ]
    },
    {
     "name": "stdout",
     "output_type": "stream",
     "text": [
      "Writing slide_seq\n"
     ]
    },
    {
     "name": "stderr",
     "output_type": "stream",
     "text": [
      "... storing 'RCTD' as categorical\n",
      "... storing 'OT' as categorical\n",
      "... storing 'OT_max' as categorical\n"
     ]
    },
    {
     "name": "stdout",
     "output_type": "stream",
     "text": [
      "Writing merfish\n"
     ]
    },
    {
     "name": "stderr",
     "output_type": "stream",
     "text": [
      "... storing 'RCTD' as categorical\n",
      "... storing 'OT' as categorical\n",
      "... storing 'OT_max' as categorical\n"
     ]
    },
    {
     "name": "stdout",
     "output_type": "stream",
     "text": [
      "Writing merfish_bin\n"
     ]
    },
    {
     "name": "stderr",
     "output_type": "stream",
     "text": [
      "... storing 'RCTD' as categorical\n",
      "... storing 'OT' as categorical\n",
      "... storing 'OT_max' as categorical\n",
      "... storing 'RCTD' as categorical\n",
      "... storing 'OT' as categorical\n",
      "... storing 'OT_max' as categorical\n"
     ]
    },
    {
     "name": "stdout",
     "output_type": "stream",
     "text": [
      "Writing exseq\n",
      "Writing exseq_bin\n"
     ]
    },
    {
     "name": "stderr",
     "output_type": "stream",
     "text": [
      "... storing 'RCTD' as categorical\n",
      "... storing 'OT' as categorical\n",
      "... storing 'OT_max' as categorical\n"
     ]
    },
    {
     "name": "stdout",
     "output_type": "stream",
     "text": [
      "Writing codex\n",
      "HTAPP-853-SMP-4381\n",
      "reading  scRNAseq  from buffer\n",
      "reading  slide_seq  from buffer\n",
      "reading  merfish  from buffer\n",
      "reading  merfish_bin  from buffer\n",
      "No data for exseq\n",
      "No data for exseq_bin\n",
      "reading  codex  from buffer\n"
     ]
    },
    {
     "name": "stderr",
     "output_type": "stream",
     "text": [
      "... storing 'RCTD' as categorical\n",
      "... storing 'OT' as categorical\n",
      "... storing 'OT_max' as categorical\n"
     ]
    },
    {
     "name": "stdout",
     "output_type": "stream",
     "text": [
      "Writing slide_seq\n"
     ]
    },
    {
     "name": "stderr",
     "output_type": "stream",
     "text": [
      "... storing 'RCTD' as categorical\n",
      "... storing 'OT' as categorical\n",
      "... storing 'OT_max' as categorical\n",
      "... storing 'RCTD' as categorical\n",
      "... storing 'OT' as categorical\n",
      "... storing 'OT_max' as categorical\n"
     ]
    },
    {
     "name": "stdout",
     "output_type": "stream",
     "text": [
      "Writing merfish\n",
      "Writing merfish_bin\n"
     ]
    },
    {
     "name": "stderr",
     "output_type": "stream",
     "text": [
      "... storing 'RCTD' as categorical\n",
      "... storing 'OT' as categorical\n",
      "... storing 'OT_max' as categorical\n"
     ]
    },
    {
     "name": "stdout",
     "output_type": "stream",
     "text": [
      "exseq not available.\n",
      "exseq_bin not available.\n",
      "Writing codex\n",
      "HTAPP-313-SMP-932\n",
      "reading  scRNAseq  from buffer\n",
      "reading  slide_seq  from buffer\n",
      "reading  merfish  from buffer\n",
      "reading  merfish_bin  from buffer\n",
      "reading  exseq  from buffer\n",
      "reading  exseq_bin  from buffer\n",
      "reading  codex  from buffer\n"
     ]
    },
    {
     "name": "stderr",
     "output_type": "stream",
     "text": [
      "... storing 'RCTD' as categorical\n",
      "... storing 'OT' as categorical\n",
      "... storing 'OT_max' as categorical\n"
     ]
    },
    {
     "name": "stdout",
     "output_type": "stream",
     "text": [
      "Writing slide_seq\n"
     ]
    },
    {
     "name": "stderr",
     "output_type": "stream",
     "text": [
      "... storing 'RCTD' as categorical\n",
      "... storing 'OT' as categorical\n",
      "... storing 'OT_max' as categorical\n"
     ]
    },
    {
     "name": "stdout",
     "output_type": "stream",
     "text": [
      "Writing merfish\n"
     ]
    },
    {
     "name": "stderr",
     "output_type": "stream",
     "text": [
      "... storing 'RCTD' as categorical\n",
      "... storing 'OT' as categorical\n",
      "... storing 'OT_max' as categorical\n"
     ]
    },
    {
     "name": "stdout",
     "output_type": "stream",
     "text": [
      "Writing merfish_bin\n"
     ]
    },
    {
     "name": "stderr",
     "output_type": "stream",
     "text": [
      "... storing 'RCTD' as categorical\n",
      "... storing 'OT' as categorical\n",
      "... storing 'OT_max' as categorical\n",
      "... storing 'RCTD' as categorical\n",
      "... storing 'OT' as categorical\n",
      "... storing 'OT_max' as categorical\n"
     ]
    },
    {
     "name": "stdout",
     "output_type": "stream",
     "text": [
      "Writing exseq\n",
      "Writing exseq_bin\n"
     ]
    },
    {
     "name": "stderr",
     "output_type": "stream",
     "text": [
      "... storing 'RCTD' as categorical\n",
      "... storing 'OT' as categorical\n",
      "... storing 'OT_max' as categorical\n"
     ]
    },
    {
     "name": "stdout",
     "output_type": "stream",
     "text": [
      "Writing codex\n",
      "HTAPP-330-SMP-1082\n",
      "reading  scRNAseq  from buffer\n",
      "reading  slide_seq  from buffer\n",
      "No data for merfish\n",
      "No data for merfish_bin\n",
      "reading  exseq  from buffer\n",
      "reading  exseq_bin  from buffer\n",
      "reading  codex  from buffer\n"
     ]
    },
    {
     "name": "stderr",
     "output_type": "stream",
     "text": [
      "... storing 'RCTD' as categorical\n",
      "... storing 'OT' as categorical\n",
      "... storing 'OT_max' as categorical\n"
     ]
    },
    {
     "name": "stdout",
     "output_type": "stream",
     "text": [
      "Writing slide_seq\n"
     ]
    },
    {
     "name": "stderr",
     "output_type": "stream",
     "text": [
      "... storing 'RCTD' as categorical\n",
      "... storing 'OT' as categorical\n",
      "... storing 'OT_max' as categorical\n",
      "... storing 'RCTD' as categorical\n",
      "... storing 'OT' as categorical\n",
      "... storing 'OT_max' as categorical\n"
     ]
    },
    {
     "name": "stdout",
     "output_type": "stream",
     "text": [
      "merfish not available.\n",
      "merfish_bin not available.\n",
      "Writing exseq\n",
      "Writing exseq_bin\n"
     ]
    },
    {
     "name": "stderr",
     "output_type": "stream",
     "text": [
      "... storing 'RCTD' as categorical\n",
      "... storing 'OT' as categorical\n",
      "... storing 'OT_max' as categorical\n"
     ]
    },
    {
     "name": "stdout",
     "output_type": "stream",
     "text": [
      "Writing codex\n",
      "HTAPP-783-SMP-4081\n",
      "reading  scRNAseq  from buffer\n",
      "reading  slide_seq  from buffer\n",
      "No data for merfish\n",
      "No data for merfish_bin\n",
      "reading  exseq  from buffer\n",
      "reading  exseq_bin  from buffer\n",
      "reading  codex  from buffer\n"
     ]
    },
    {
     "name": "stderr",
     "output_type": "stream",
     "text": [
      "... storing 'RCTD' as categorical\n",
      "... storing 'OT' as categorical\n",
      "... storing 'OT_max' as categorical\n"
     ]
    },
    {
     "name": "stdout",
     "output_type": "stream",
     "text": [
      "Writing slide_seq\n"
     ]
    },
    {
     "name": "stderr",
     "output_type": "stream",
     "text": [
      "... storing 'RCTD' as categorical\n",
      "... storing 'OT' as categorical\n",
      "... storing 'OT_max' as categorical\n",
      "... storing 'RCTD' as categorical\n",
      "... storing 'OT' as categorical\n",
      "... storing 'OT_max' as categorical\n"
     ]
    },
    {
     "name": "stdout",
     "output_type": "stream",
     "text": [
      "merfish not available.\n",
      "merfish_bin not available.\n",
      "Writing exseq\n",
      "Writing exseq_bin\n"
     ]
    },
    {
     "name": "stderr",
     "output_type": "stream",
     "text": [
      "... storing 'RCTD' as categorical\n",
      "... storing 'OT' as categorical\n",
      "... storing 'OT_max' as categorical\n"
     ]
    },
    {
     "name": "stdout",
     "output_type": "stream",
     "text": [
      "Writing codex\n",
      "HTAPP-364-SMP-1321\n",
      "reading  scRNAseq  from buffer\n",
      "reading  slide_seq  from buffer\n",
      "No data for merfish\n",
      "No data for merfish_bin\n",
      "reading  exseq  from buffer\n",
      "reading  exseq_bin  from buffer\n",
      "reading  codex  from buffer\n"
     ]
    },
    {
     "name": "stderr",
     "output_type": "stream",
     "text": [
      "... storing 'RCTD' as categorical\n",
      "... storing 'OT' as categorical\n",
      "... storing 'OT_max' as categorical\n"
     ]
    },
    {
     "name": "stdout",
     "output_type": "stream",
     "text": [
      "Writing slide_seq\n"
     ]
    },
    {
     "name": "stderr",
     "output_type": "stream",
     "text": [
      "... storing 'RCTD' as categorical\n",
      "... storing 'OT' as categorical\n",
      "... storing 'OT_max' as categorical\n",
      "... storing 'RCTD' as categorical\n",
      "... storing 'OT' as categorical\n",
      "... storing 'OT_max' as categorical\n"
     ]
    },
    {
     "name": "stdout",
     "output_type": "stream",
     "text": [
      "merfish not available.\n",
      "merfish_bin not available.\n",
      "Writing exseq\n",
      "Writing exseq_bin\n"
     ]
    },
    {
     "name": "stderr",
     "output_type": "stream",
     "text": [
      "... storing 'RCTD' as categorical\n",
      "... storing 'OT' as categorical\n",
      "... storing 'OT_max' as categorical\n"
     ]
    },
    {
     "name": "stdout",
     "output_type": "stream",
     "text": [
      "Writing codex\n",
      "HTAPP-213-SMP-6752\n",
      "reading  scRNAseq  from buffer\n",
      "reading  slide_seq  from buffer\n",
      "No data for merfish\n",
      "No data for merfish_bin\n",
      "No data for exseq\n",
      "No data for exseq_bin\n",
      "reading  codex  from buffer\n"
     ]
    },
    {
     "name": "stderr",
     "output_type": "stream",
     "text": [
      "... storing 'RCTD' as categorical\n",
      "... storing 'OT' as categorical\n",
      "... storing 'OT_max' as categorical\n"
     ]
    },
    {
     "name": "stdout",
     "output_type": "stream",
     "text": [
      "Writing slide_seq\n"
     ]
    },
    {
     "name": "stderr",
     "output_type": "stream",
     "text": [
      "... storing 'RCTD' as categorical\n",
      "... storing 'OT' as categorical\n",
      "... storing 'OT_max' as categorical\n"
     ]
    },
    {
     "name": "stdout",
     "output_type": "stream",
     "text": [
      "merfish not available.\n",
      "merfish_bin not available.\n",
      "exseq not available.\n",
      "exseq_bin not available.\n",
      "Writing codex\n"
     ]
    }
   ],
   "source": [
    "for sample in run_samples:\n",
    "    print(sample)\n",
    "    out_dir=out_dir_base+sample \n",
    "    adatas=get_and_process_data(sample,data_dir,out_dir,methods=all_methods,process=False)\n",
    "    for method in adatas.index[adatas.index != sc_method]:\n",
    "        for todel in ['RCTD','OT','OT_max']: #delete old entries before adding new ones\n",
    "            try: \n",
    "                del(adatas[method].obs[todel])\n",
    "            except:\n",
    "                pass\n",
    "        \n",
    "        adatas[method].obsm['RCTD'].fillna(0,inplace=True)\n",
    "        adatas[method].obsm['OT'].fillna(0,inplace=True)\n",
    "        adatas[method].obsm['OT_max'].fillna(0,inplace=True)\n",
    "        typing_to_obs(adatas[method],['RCTD','OT','OT_max'])\n",
    "    update_processed_adatas(adatas,sample,out_dir,sm_methods,overwrite=True,process=False)"
   ]
  },
  {
   "cell_type": "code",
   "execution_count": null,
   "metadata": {},
   "outputs": [],
   "source": []
  }
 ],
 "metadata": {
  "kernelspec": {
   "display_name": "scanpy",
   "language": "python",
   "name": "scanpy"
  },
  "language_info": {
   "codemirror_mode": {
    "name": "ipython",
    "version": 3
   },
   "file_extension": ".py",
   "mimetype": "text/x-python",
   "name": "python",
   "nbconvert_exporter": "python",
   "pygments_lexer": "ipython3",
   "version": "3.6.10"
  }
 },
 "nbformat": 4,
 "nbformat_minor": 2
}
