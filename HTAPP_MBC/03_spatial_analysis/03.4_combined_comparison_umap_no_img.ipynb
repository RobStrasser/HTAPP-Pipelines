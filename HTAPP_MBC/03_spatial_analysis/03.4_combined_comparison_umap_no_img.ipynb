{
 "cells": [
  {
   "cell_type": "code",
   "execution_count": null,
   "metadata": {},
   "outputs": [],
   "source": [
    "import numpy as np\n",
    "import warnings\n",
    "warnings.simplefilter(action='ignore', category=FutureWarning)\n",
    "import pandas as pd\n",
    "import scanpy as sc\n",
    "import anndata\n",
    "import os\n",
    "import sys"
   ]
  },
  {
   "cell_type": "code",
   "execution_count": null,
   "metadata": {},
   "outputs": [],
   "source": [
    "sys.path.insert(1, '/secure/projects/tacco/')\n",
    "import tacco as tc"
   ]
  },
  {
   "cell_type": "code",
   "execution_count": null,
   "metadata": {},
   "outputs": [],
   "source": [
    "sys.path.insert(1, '/secure/projects/HTAPP_MBC/src/spatial')\n",
    "from spatial_utils import *"
   ]
  },
  {
   "cell_type": "code",
   "execution_count": null,
   "metadata": {},
   "outputs": [],
   "source": [
    "combined_dir=out_dir_base+\"/combined_all/\"\n",
    "os.makedirs(combined_dir, exist_ok=True)"
   ]
  },
  {
   "cell_type": "code",
   "execution_count": null,
   "metadata": {},
   "outputs": [],
   "source": [
    "sample_sheet=pd.read_csv(codeDir+\"/meta/sampletracking_HTAPP_MBC_spatial.csv\")"
   ]
  },
  {
   "cell_type": "code",
   "execution_count": null,
   "metadata": {},
   "outputs": [],
   "source": [
    "#sc sample annotation\n",
    "sc_samples=pd.read_excel(codeDir+\"/meta/clinical features2.xlsx\")\n",
    "sc_samples['sample']=sc_samples['htapp_id']+'-'+sc_samples['htapp_caseid']"
   ]
  },
  {
   "cell_type": "code",
   "execution_count": null,
   "metadata": {},
   "outputs": [],
   "source": [
    "sc_samples.head()"
   ]
  },
  {
   "cell_type": "code",
   "execution_count": null,
   "metadata": {},
   "outputs": [],
   "source": [
    "#These identifiers are set as defaults in many functions. If names are changed, this has to be adapted when calling the functions.\n",
    "ct_column='cell_type'\n",
    "sm_methods=[\"slide_seq\",\"merfish\",\"merfish_bin\",\"codex\",\"exseq\",\"exseq_bin\"] #spatial mathod names are hard-coded for now because some methods need special treatments. Can be fixed by giving eatch method it's own variable.\n",
    "sc_method=\"scRNAseq\"\n",
    "all_methods=[sc_method,*sm_methods]\n",
    "all_methods"
   ]
  },
  {
   "cell_type": "code",
   "execution_count": null,
   "metadata": {},
   "outputs": [],
   "source": [
    "run_samples=list(filter(lambda a: not a in [''], list(sample_sheet['sample'].unique()))) \n",
    "run_samples"
   ]
  },
  {
   "cell_type": "code",
   "execution_count": null,
   "metadata": {},
   "outputs": [],
   "source": [
    "sc_samples=sc_samples.loc[sc_samples['sample'].isin(run_samples)][['sample','method','receptors_biopsy','site_biopsy']].set_index('sample')"
   ]
  },
  {
   "cell_type": "code",
   "execution_count": null,
   "metadata": {},
   "outputs": [],
   "source": [
    "sc_samples"
   ]
  },
  {
   "cell_type": "code",
   "execution_count": null,
   "metadata": {},
   "outputs": [],
   "source": [
    "adatas_combined=pd.Series([[] for i in range(len(all_methods))],index=all_methods,dtype=object) \n",
    "#add combined scRNAseq that was produced in the MERFISH analysis \n",
    "adatas_combined['scRNAseq']=sc.read_h5ad(out_dir_base+\"/combined_merfish/scRNAseq.h5ad\")\n",
    "for method in sm_methods:\n",
    "    adatas_combined[method]=sc.read(combined_dir+\"/\"+method+\".h5ad\",compression=\"gzip\")"
   ]
  },
  {
   "cell_type": "code",
   "execution_count": null,
   "metadata": {},
   "outputs": [],
   "source": [
    "adatas_combined"
   ]
  },
  {
   "cell_type": "code",
   "execution_count": null,
   "metadata": {},
   "outputs": [],
   "source": [
    "for method in sm_methods:\n",
    "    adatas_combined[method].obsm['OT'].fillna(0,inplace=True)\n",
    "    adatas_combined[method].obsm['RCTD'].fillna(0,inplace=True)\n",
    "    adatas_combined[method].obsm['OT_max'].fillna(0,inplace=True)\n",
    "\n",
    "for method in all_methods:    \n",
    "    for col in sc_samples.columns:\n",
    "        adatas_combined[method].obs[col]=adatas_combined[method].obs['sample'].map(sc_samples[col])"
   ]
  },
  {
   "cell_type": "code",
   "execution_count": null,
   "metadata": {},
   "outputs": [],
   "source": [
    "sel_colors=colors[colors.index.isin(adatas_combined[sc_method].obs[ct_column])]\n",
    "keys=pd.Series([['OT']]*len(adatas_combined.index), index=adatas_combined.index)\n",
    "keys['scRNAseq'] = ['cell_type']\n",
    "fig = tc.pl.scatter(adatas_combined, keys=keys,colors=sel_colors,joint=True,position_key=\"X_umap\",axsize=(6,6), share_scaling=False, padding=0.75);\n",
    "figheight = fig.get_size_inches()[1]\n",
    "fig.savefig(combined_dir+'/all_UMAP_OT.pdf',bbox_inches='tight')"
   ]
  },
  {
   "cell_type": "code",
   "execution_count": null,
   "metadata": {},
   "outputs": [],
   "source": [
    "fig = tc.pl.scatter(adatas_combined, keys=['sample'],joint=True,position_key=\"X_umap\",axsize=(6,6), share_scaling=False, padding=0.75);\n",
    "fig.savefig(combined_dir+'/all_UMAP_sample.pdf',bbox_inches='tight')"
   ]
  },
  {
   "cell_type": "code",
   "execution_count": null,
   "metadata": {},
   "outputs": [],
   "source": [
    "keys=pd.Series([['replicate']]*len(adatas_combined.index), index=adatas_combined.index)\n",
    "keys['scRNAseq'] = ['method']\n",
    "fig = tc.pl.scatter(adatas_combined, keys=keys,joint=True,position_key=\"X_umap\",axsize=(6,6), share_scaling=False, padding=0.75);\n",
    "fig.savefig(combined_dir+'/all_UMAP_repl.pdf',bbox_inches='tight')"
   ]
  },
  {
   "cell_type": "code",
   "execution_count": null,
   "metadata": {},
   "outputs": [],
   "source": [
    "fig = tc.pl.scatter(adatas_combined, keys=['leiden'],joint=True,position_key=\"X_umap\",axsize=(6,6), share_scaling=False, padding=0.75);\n",
    "fig.savefig(combined_dir+'/all_UMAP_leiden.pdf',bbox_inches='tight')"
   ]
  },
  {
   "cell_type": "code",
   "execution_count": null,
   "metadata": {},
   "outputs": [],
   "source": [
    "fig = tc.pl.scatter(adatas_combined, keys=['site_biopsy'],joint=True,position_key=\"X_umap\",axsize=(6,6), share_scaling=False, padding=0.75);\n",
    "fig.savefig(combined_dir+'/all_UMAP_site.pdf',bbox_inches='tight')"
   ]
  },
  {
   "cell_type": "code",
   "execution_count": null,
   "metadata": {},
   "outputs": [],
   "source": [
    "fig = tc.pl.scatter(adatas_combined, keys=['receptors_biopsy'],joint=True,position_key=\"X_umap\",axsize=(6,6), share_scaling=False, padding=0.75);\n",
    "fig.savefig(combined_dir+'/all_UMAP_receptor.pdf',bbox_inches='tight')"
   ]
  },
  {
   "cell_type": "code",
   "execution_count": null,
   "metadata": {},
   "outputs": [],
   "source": [
    "df=pd.DataFrame(adatas_combined['merfish'].obsm['X_pca']).set_index(adatas_combined['merfish'].obs.index)"
   ]
  },
  {
   "cell_type": "code",
   "execution_count": null,
   "metadata": {},
   "outputs": [],
   "source": [
    "df['OT']=adatas_combined['merfish'].obs['OT']"
   ]
  },
  {
   "cell_type": "code",
   "execution_count": null,
   "metadata": {},
   "outputs": [],
   "source": [
    "df_sub=df.iloc[:].sort_values(\"OT\")\n",
    "sel_colors=colors[colors.index.isin(df_sub['OT'])].sort_index()\n",
    "matplotlib.rcParams['figure.dpi'] = low_dpi\n",
    "fig,ax=plt.subplots(figsize=[10,5])\n",
    "pd.plotting.parallel_coordinates(df_sub, class_column='OT',cols=np.arange(10),color=sel_colors,ax=ax,linewidth=0.1)\n",
    "ax.legend(bbox_to_anchor=(1.0, 1.0))\n",
    "ax.hlines(0,xmin=0,xmax=9)\n",
    "matplotlib.rcParams['figure.dpi'] = high_dpi"
   ]
  },
  {
   "cell_type": "code",
   "execution_count": null,
   "metadata": {},
   "outputs": [],
   "source": []
  }
 ],
 "metadata": {
  "kernelspec": {
   "display_name": "scanpy",
   "language": "python",
   "name": "scanpy"
  },
  "language_info": {
   "codemirror_mode": {
    "name": "ipython",
    "version": 3
   },
   "file_extension": ".py",
   "mimetype": "text/x-python",
   "name": "python",
   "nbconvert_exporter": "python",
   "pygments_lexer": "ipython3",
   "version": "3.6.10"
  }
 },
 "nbformat": 4,
 "nbformat_minor": 2
}
