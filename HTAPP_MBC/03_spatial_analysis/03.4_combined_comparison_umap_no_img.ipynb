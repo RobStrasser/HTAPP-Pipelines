{
 "cells": [
  {
   "cell_type": "code",
   "execution_count": 1,
   "metadata": {},
   "outputs": [],
   "source": [
    "import numpy as np\n",
    "import warnings\n",
    "warnings.simplefilter(action='ignore', category=FutureWarning)\n",
    "import pandas as pd\n",
    "import scanpy as sc\n",
    "import anndata\n",
    "import os\n",
    "import sys"
   ]
  },
  {
   "cell_type": "code",
   "execution_count": 2,
   "metadata": {},
   "outputs": [],
   "source": [
    "sys.path.insert(1, '/secure/projects/tacco/')\n",
    "import tacco as tc"
   ]
  },
  {
   "cell_type": "code",
   "execution_count": 3,
   "metadata": {},
   "outputs": [],
   "source": [
    "sys.path.insert(1, '/secure/projects/HTAPP_MBC/src/spatial')\n",
    "from spatial_utils import *"
   ]
  },
  {
   "cell_type": "code",
   "execution_count": 4,
   "metadata": {},
   "outputs": [],
   "source": [
    "combined_dir=out_dir_base+\"/combined_all/\"\n",
    "os.makedirs(combined_dir, exist_ok=True)"
   ]
  },
  {
   "cell_type": "code",
   "execution_count": 5,
   "metadata": {},
   "outputs": [],
   "source": [
    "sample_sheet=pd.read_csv(codeDir+\"/meta/sampletracking_HTAPP_MBC_spatial.csv\")"
   ]
  },
  {
   "cell_type": "code",
   "execution_count": 82,
   "metadata": {},
   "outputs": [],
   "source": [
    "#sc sample annotation\n",
    "sc_samples=pd.read_excel(codeDir+\"/meta/clinical features2.xlsx\")\n",
    "sc_samples['sample']=sc_samples['htapp_id']+'-'+sc_samples['htapp_caseid']"
   ]
  },
  {
   "cell_type": "code",
   "execution_count": 83,
   "metadata": {},
   "outputs": [
    {
     "data": {
      "text/html": [
       "<div>\n",
       "<style scoped>\n",
       "    .dataframe tbody tr th:only-of-type {\n",
       "        vertical-align: middle;\n",
       "    }\n",
       "\n",
       "    .dataframe tbody tr th {\n",
       "        vertical-align: top;\n",
       "    }\n",
       "\n",
       "    .dataframe thead th {\n",
       "        text-align: right;\n",
       "    }\n",
       "</style>\n",
       "<table border=\"1\" class=\"dataframe\">\n",
       "  <thead>\n",
       "    <tr style=\"text-align: right;\">\n",
       "      <th></th>\n",
       "      <th>ccpm_id</th>\n",
       "      <th>ccpm_id_long</th>\n",
       "      <th>sample</th>\n",
       "      <th>htapp</th>\n",
       "      <th>htapp_id</th>\n",
       "      <th>htapp_caseid</th>\n",
       "      <th>method</th>\n",
       "      <th>site_biopsy</th>\n",
       "      <th>receptors_biopsy</th>\n",
       "      <th>metastatic_presentation</th>\n",
       "      <th>biopsy_days_after_metastasis</th>\n",
       "      <th>histology_breast</th>\n",
       "      <th>known hereditary predisposition</th>\n",
       "      <th>treatment_status</th>\n",
       "      <th>treatment_current_class</th>\n",
       "      <th>treatment_most_recent_class</th>\n",
       "    </tr>\n",
       "  </thead>\n",
       "  <tbody>\n",
       "    <tr>\n",
       "      <th>0</th>\n",
       "      <td>260</td>\n",
       "      <td>300260</td>\n",
       "      <td>HTAPP-225-SMP-6756</td>\n",
       "      <td>HTAPP</td>\n",
       "      <td>HTAPP-225</td>\n",
       "      <td>SMP-6756</td>\n",
       "      <td>snRNAseq</td>\n",
       "      <td>Breast</td>\n",
       "      <td>ER+/PR+/HER2-</td>\n",
       "      <td>De novo</td>\n",
       "      <td>846</td>\n",
       "      <td>Invasive lobular carcinoma</td>\n",
       "      <td>NaN</td>\n",
       "      <td>on-treatment</td>\n",
       "      <td>Endocrine</td>\n",
       "      <td>Endocrine</td>\n",
       "    </tr>\n",
       "    <tr>\n",
       "      <th>1</th>\n",
       "      <td>289</td>\n",
       "      <td>300289</td>\n",
       "      <td>HTAPP-983-SMP-7659</td>\n",
       "      <td>HTAPP</td>\n",
       "      <td>HTAPP-983</td>\n",
       "      <td>SMP-7659</td>\n",
       "      <td>scRNAseq</td>\n",
       "      <td>Liver</td>\n",
       "      <td>ER+/PR+/HER2+</td>\n",
       "      <td>De novo</td>\n",
       "      <td>1466</td>\n",
       "      <td>Invasive ductal carcinoma with mucinous features</td>\n",
       "      <td>ATM</td>\n",
       "      <td>between treatments</td>\n",
       "      <td>off-treatment</td>\n",
       "      <td>Chemotherapy</td>\n",
       "    </tr>\n",
       "    <tr>\n",
       "      <th>2</th>\n",
       "      <td>294</td>\n",
       "      <td>300294</td>\n",
       "      <td>HTAPP-589-SMP-2860</td>\n",
       "      <td>HTAPP</td>\n",
       "      <td>HTAPP-589</td>\n",
       "      <td>SMP-2860</td>\n",
       "      <td>snRNAseq</td>\n",
       "      <td>Liver</td>\n",
       "      <td>ER+/PR-/HER2-</td>\n",
       "      <td>Recurrent</td>\n",
       "      <td>823</td>\n",
       "      <td>Invasive ductal carcinoma</td>\n",
       "      <td>NaN</td>\n",
       "      <td>on-treatment</td>\n",
       "      <td>Endocrine + HER2-targeted</td>\n",
       "      <td>Endocrine + HER2-targeted</td>\n",
       "    </tr>\n",
       "    <tr>\n",
       "      <th>3</th>\n",
       "      <td>294</td>\n",
       "      <td>300294</td>\n",
       "      <td>HTAPP-589-SMP-2851</td>\n",
       "      <td>HTAPP</td>\n",
       "      <td>HTAPP-589</td>\n",
       "      <td>SMP-2851</td>\n",
       "      <td>snRNAseq</td>\n",
       "      <td>Brain</td>\n",
       "      <td>ER+/PR-/HER2+</td>\n",
       "      <td>Recurrent</td>\n",
       "      <td>900</td>\n",
       "      <td>Invasive ductal carcinoma</td>\n",
       "      <td>NaN</td>\n",
       "      <td>on-treatment</td>\n",
       "      <td>Endocrine</td>\n",
       "      <td>Endocrine</td>\n",
       "    </tr>\n",
       "    <tr>\n",
       "      <th>4</th>\n",
       "      <td>360</td>\n",
       "      <td>300360</td>\n",
       "      <td>HTAPP-231-SMP-6758</td>\n",
       "      <td>HTAPP</td>\n",
       "      <td>HTAPP-231</td>\n",
       "      <td>SMP-6758</td>\n",
       "      <td>snRNAseq</td>\n",
       "      <td>Liver</td>\n",
       "      <td>ER+/PR-/HER2-</td>\n",
       "      <td>Recurrent</td>\n",
       "      <td>675</td>\n",
       "      <td>Invasive ductal carcinoma</td>\n",
       "      <td>NaN</td>\n",
       "      <td>between treatments</td>\n",
       "      <td>off-treatment</td>\n",
       "      <td>Immunotherapy</td>\n",
       "    </tr>\n",
       "  </tbody>\n",
       "</table>\n",
       "</div>"
      ],
      "text/plain": [
       "   ccpm_id  ccpm_id_long              sample  htapp   htapp_id htapp_caseid  \\\n",
       "0      260        300260  HTAPP-225-SMP-6756  HTAPP  HTAPP-225     SMP-6756   \n",
       "1      289        300289  HTAPP-983-SMP-7659  HTAPP  HTAPP-983     SMP-7659   \n",
       "2      294        300294  HTAPP-589-SMP-2860  HTAPP  HTAPP-589     SMP-2860   \n",
       "3      294        300294  HTAPP-589-SMP-2851  HTAPP  HTAPP-589     SMP-2851   \n",
       "4      360        300360  HTAPP-231-SMP-6758  HTAPP  HTAPP-231     SMP-6758   \n",
       "\n",
       "     method site_biopsy receptors_biopsy metastatic_presentation  \\\n",
       "0  snRNAseq      Breast    ER+/PR+/HER2-                 De novo   \n",
       "1  scRNAseq       Liver    ER+/PR+/HER2+                 De novo   \n",
       "2  snRNAseq       Liver    ER+/PR-/HER2-               Recurrent   \n",
       "3  snRNAseq       Brain    ER+/PR-/HER2+               Recurrent   \n",
       "4  snRNAseq       Liver    ER+/PR-/HER2-               Recurrent   \n",
       "\n",
       "  biopsy_days_after_metastasis  \\\n",
       "0                          846   \n",
       "1                         1466   \n",
       "2                          823   \n",
       "3                          900   \n",
       "4                          675   \n",
       "\n",
       "                                   histology_breast  \\\n",
       "0                        Invasive lobular carcinoma   \n",
       "1  Invasive ductal carcinoma with mucinous features   \n",
       "2                         Invasive ductal carcinoma   \n",
       "3                         Invasive ductal carcinoma   \n",
       "4                         Invasive ductal carcinoma   \n",
       "\n",
       "  known hereditary predisposition    treatment_status  \\\n",
       "0                             NaN        on-treatment   \n",
       "1                             ATM  between treatments   \n",
       "2                             NaN        on-treatment   \n",
       "3                             NaN        on-treatment   \n",
       "4                             NaN  between treatments   \n",
       "\n",
       "     treatment_current_class treatment_most_recent_class  \n",
       "0                  Endocrine                   Endocrine  \n",
       "1              off-treatment                Chemotherapy  \n",
       "2  Endocrine + HER2-targeted   Endocrine + HER2-targeted  \n",
       "3                  Endocrine                   Endocrine  \n",
       "4              off-treatment               Immunotherapy  "
      ]
     },
     "execution_count": 83,
     "metadata": {},
     "output_type": "execute_result"
    }
   ],
   "source": [
    "sc_samples.head()"
   ]
  },
  {
   "cell_type": "code",
   "execution_count": 6,
   "metadata": {},
   "outputs": [
    {
     "data": {
      "text/plain": [
       "['scRNAseq',\n",
       " 'slide_seq',\n",
       " 'merfish',\n",
       " 'merfish_bin',\n",
       " 'codex',\n",
       " 'exseq',\n",
       " 'exseq_bin']"
      ]
     },
     "execution_count": 6,
     "metadata": {},
     "output_type": "execute_result"
    }
   ],
   "source": [
    "#These identifiers are set as defaults in many functions. If names are changed, this has to be adapted when calling the functions.\n",
    "ct_column='cell_type'\n",
    "sm_methods=[\"slide_seq\",\"merfish\",\"merfish_bin\",\"codex\",\"exseq\",\"exseq_bin\"] #spatial mathod names are hard-coded for now because some methods need special treatments. Can be fixed by giving eatch method it's own variable.\n",
    "sc_method=\"scRNAseq\"\n",
    "all_methods=[sc_method,*sm_methods]\n",
    "all_methods"
   ]
  },
  {
   "cell_type": "code",
   "execution_count": 7,
   "metadata": {},
   "outputs": [
    {
     "data": {
      "text/plain": [
       "['HTAPP-944-SMP-7479',\n",
       " 'HTAPP-895-SMP-7359',\n",
       " 'HTAPP-880-SMP-7179',\n",
       " 'HTAPP-878-SMP-7149',\n",
       " 'HTAPP-812-SMP-8239',\n",
       " 'HTAPP-514-SMP-6760',\n",
       " 'HTAPP-982-SMP-7629',\n",
       " 'HTAPP-997-SMP-7789',\n",
       " 'HTAPP-917-SMP-4531',\n",
       " 'HTAPP-853-SMP-4381',\n",
       " 'HTAPP-313-SMP-932',\n",
       " 'HTAPP-330-SMP-1082',\n",
       " 'HTAPP-783-SMP-4081',\n",
       " 'HTAPP-364-SMP-1321',\n",
       " 'HTAPP-213-SMP-6752']"
      ]
     },
     "execution_count": 7,
     "metadata": {},
     "output_type": "execute_result"
    }
   ],
   "source": [
    "run_samples=list(filter(lambda a: not a in [''], list(sample_sheet['sample'].unique()))) \n",
    "run_samples"
   ]
  },
  {
   "cell_type": "code",
   "execution_count": 102,
   "metadata": {},
   "outputs": [],
   "source": [
    "sc_samples=sc_samples.loc[sc_samples['sample'].isin(run_samples)][['sample','method','receptors_biopsy','site_biopsy']].set_index('sample')"
   ]
  },
  {
   "cell_type": "code",
   "execution_count": 103,
   "metadata": {},
   "outputs": [
    {
     "data": {
      "text/html": [
       "<div>\n",
       "<style scoped>\n",
       "    .dataframe tbody tr th:only-of-type {\n",
       "        vertical-align: middle;\n",
       "    }\n",
       "\n",
       "    .dataframe tbody tr th {\n",
       "        vertical-align: top;\n",
       "    }\n",
       "\n",
       "    .dataframe thead th {\n",
       "        text-align: right;\n",
       "    }\n",
       "</style>\n",
       "<table border=\"1\" class=\"dataframe\">\n",
       "  <thead>\n",
       "    <tr style=\"text-align: right;\">\n",
       "      <th></th>\n",
       "      <th>method</th>\n",
       "      <th>receptors_biopsy</th>\n",
       "      <th>site_biopsy</th>\n",
       "    </tr>\n",
       "    <tr>\n",
       "      <th>sample</th>\n",
       "      <th></th>\n",
       "      <th></th>\n",
       "      <th></th>\n",
       "    </tr>\n",
       "  </thead>\n",
       "  <tbody>\n",
       "    <tr>\n",
       "      <th>HTAPP-944-SMP-7479</th>\n",
       "      <td>snRNAseq</td>\n",
       "      <td>ER+/PR-/HER2-</td>\n",
       "      <td>Liver</td>\n",
       "    </tr>\n",
       "    <tr>\n",
       "      <th>HTAPP-514-SMP-6760</th>\n",
       "      <td>snRNAseq</td>\n",
       "      <td>ER-/PR-/HER2-</td>\n",
       "      <td>Axilla</td>\n",
       "    </tr>\n",
       "    <tr>\n",
       "      <th>HTAPP-895-SMP-7359</th>\n",
       "      <td>snRNAseq</td>\n",
       "      <td>ER+/PR+/HER2-</td>\n",
       "      <td>Liver</td>\n",
       "    </tr>\n",
       "    <tr>\n",
       "      <th>HTAPP-982-SMP-7629</th>\n",
       "      <td>scRNAseq</td>\n",
       "      <td>ER+/PR+/HER2-</td>\n",
       "      <td>Liver</td>\n",
       "    </tr>\n",
       "    <tr>\n",
       "      <th>HTAPP-213-SMP-6752</th>\n",
       "      <td>snRNAseq</td>\n",
       "      <td>ER-/PR-/HER2-</td>\n",
       "      <td>Chest wall</td>\n",
       "    </tr>\n",
       "    <tr>\n",
       "      <th>HTAPP-878-SMP-7149</th>\n",
       "      <td>snRNAseq</td>\n",
       "      <td>ER+/PR-/HER2-</td>\n",
       "      <td>Axilla</td>\n",
       "    </tr>\n",
       "    <tr>\n",
       "      <th>HTAPP-880-SMP-7179</th>\n",
       "      <td>snRNAseq</td>\n",
       "      <td>ER+/PR+/HER2-</td>\n",
       "      <td>Liver</td>\n",
       "    </tr>\n",
       "    <tr>\n",
       "      <th>HTAPP-364-SMP-1321</th>\n",
       "      <td>scRNAseq</td>\n",
       "      <td>ER+/PR-/HER2+</td>\n",
       "      <td>Liver</td>\n",
       "    </tr>\n",
       "    <tr>\n",
       "      <th>HTAPP-783-SMP-4081</th>\n",
       "      <td>scRNAseq</td>\n",
       "      <td>ER+/PR-/HER2-</td>\n",
       "      <td>Breast</td>\n",
       "    </tr>\n",
       "    <tr>\n",
       "      <th>HTAPP-853-SMP-4381</th>\n",
       "      <td>scRNAseq</td>\n",
       "      <td>ER+/PR+/HER2-</td>\n",
       "      <td>Liver</td>\n",
       "    </tr>\n",
       "    <tr>\n",
       "      <th>HTAPP-917-SMP-4531</th>\n",
       "      <td>scRNAseq</td>\n",
       "      <td>ER-/PR-/HER2-</td>\n",
       "      <td>Liver</td>\n",
       "    </tr>\n",
       "    <tr>\n",
       "      <th>HTAPP-313-SMP-932</th>\n",
       "      <td>scRNAseq</td>\n",
       "      <td>ER-/PR-/HER2+</td>\n",
       "      <td>Liver</td>\n",
       "    </tr>\n",
       "    <tr>\n",
       "      <th>HTAPP-330-SMP-1082</th>\n",
       "      <td>scRNAseq</td>\n",
       "      <td>ER+/PR+/HER2-</td>\n",
       "      <td>Liver</td>\n",
       "    </tr>\n",
       "    <tr>\n",
       "      <th>HTAPP-997-SMP-7789</th>\n",
       "      <td>scRNAseq</td>\n",
       "      <td>ER+/PR-/HER2-</td>\n",
       "      <td>Liver</td>\n",
       "    </tr>\n",
       "    <tr>\n",
       "      <th>HTAPP-812-SMP-8239</th>\n",
       "      <td>scRNAseq</td>\n",
       "      <td>ER-/PR-/HER2-</td>\n",
       "      <td>Axilla</td>\n",
       "    </tr>\n",
       "  </tbody>\n",
       "</table>\n",
       "</div>"
      ],
      "text/plain": [
       "                      method receptors_biopsy site_biopsy\n",
       "sample                                                   \n",
       "HTAPP-944-SMP-7479  snRNAseq    ER+/PR-/HER2-       Liver\n",
       "HTAPP-514-SMP-6760  snRNAseq    ER-/PR-/HER2-      Axilla\n",
       "HTAPP-895-SMP-7359  snRNAseq    ER+/PR+/HER2-       Liver\n",
       "HTAPP-982-SMP-7629  scRNAseq    ER+/PR+/HER2-       Liver\n",
       "HTAPP-213-SMP-6752  snRNAseq    ER-/PR-/HER2-  Chest wall\n",
       "HTAPP-878-SMP-7149  snRNAseq    ER+/PR-/HER2-      Axilla\n",
       "HTAPP-880-SMP-7179  snRNAseq    ER+/PR+/HER2-       Liver\n",
       "HTAPP-364-SMP-1321  scRNAseq    ER+/PR-/HER2+       Liver\n",
       "HTAPP-783-SMP-4081  scRNAseq    ER+/PR-/HER2-      Breast\n",
       "HTAPP-853-SMP-4381  scRNAseq    ER+/PR+/HER2-       Liver\n",
       "HTAPP-917-SMP-4531  scRNAseq    ER-/PR-/HER2-       Liver\n",
       "HTAPP-313-SMP-932   scRNAseq    ER-/PR-/HER2+       Liver\n",
       "HTAPP-330-SMP-1082  scRNAseq    ER+/PR+/HER2-       Liver\n",
       "HTAPP-997-SMP-7789  scRNAseq    ER+/PR-/HER2-       Liver\n",
       "HTAPP-812-SMP-8239  scRNAseq    ER-/PR-/HER2-      Axilla"
      ]
     },
     "execution_count": 103,
     "metadata": {},
     "output_type": "execute_result"
    }
   ],
   "source": [
    "sc_samples"
   ]
  },
  {
   "cell_type": "code",
   "execution_count": 11,
   "metadata": {},
   "outputs": [],
   "source": [
    "adatas_combined=pd.Series([[] for i in range(len(all_methods))],index=all_methods,dtype=object) \n",
    "add combined scRNAseq that was produced in the MERFISH analysis \n",
    "adatas_combined['scRNAseq']=sc.read_h5ad(out_dir_base+\"/combined_merfish/scRNAseq.h5ad\")\n",
    "for method in sm_methods:\n",
    "    adatas_combined[method]=sc.read(combined_dir+\"/\"+method+\".h5ad\",compression=\"gzip\")"
   ]
  },
  {
   "cell_type": "code",
   "execution_count": 12,
   "metadata": {},
   "outputs": [
    {
     "data": {
      "text/plain": [
       "scRNAseq       [[[View of AnnData object with n_obs × n_vars ...\n",
       "slide_seq      [[[View of AnnData object with n_obs × n_vars ...\n",
       "merfish        [[[View of AnnData object with n_obs × n_vars ...\n",
       "merfish_bin    [[[View of AnnData object with n_obs × n_vars ...\n",
       "codex          [[[View of AnnData object with n_obs × n_vars ...\n",
       "exseq          [[[View of AnnData object with n_obs × n_vars ...\n",
       "exseq_bin      [[[View of AnnData object with n_obs × n_vars ...\n",
       "dtype: object"
      ]
     },
     "execution_count": 12,
     "metadata": {},
     "output_type": "execute_result"
    }
   ],
   "source": [
    "adatas_combined"
   ]
  },
  {
   "cell_type": "code",
   "execution_count": 110,
   "metadata": {},
   "outputs": [],
   "source": [
    "for method in sm_methods:\n",
    "    adatas_combined[method].obsm['OT'].fillna(0,inplace=True)\n",
    "    adatas_combined[method].obsm['RCTD'].fillna(0,inplace=True)\n",
    "    adatas_combined[method].obsm['OT_max'].fillna(0,inplace=True)\n",
    "\n",
    "for method in all_methods:    \n",
    "    for col in sc_samples.columns:\n",
    "        adatas_combined[method].obs[col]=adatas_combined[method].obs['sample'].map(sc_samples[col])"
   ]
  },
  {
   "cell_type": "code",
   "execution_count": null,
   "metadata": {},
   "outputs": [],
   "source": [
    "sel_colors=colors[colors.index.isin(adatas_combined[sc_method].obs[ct_column])]\n",
    "keys=pd.Series([['OT']]*len(adatas_combined.index), index=adatas_combined.index)\n",
    "keys['scRNAseq'] = ['cell_type']\n",
    "fig = tc.pl.scatter(adatas_combined, keys=keys,colors=sel_colors,joint=True,position_key=\"X_umap\",axsize=(6,6), share_scaling=False, padding=0.75);\n",
    "figheight = fig.get_size_inches()[1]\n",
    "fig.savefig(combined_dir+'/all_UMAP_OT.pdf',bbox_inches='tight')"
   ]
  },
  {
   "cell_type": "code",
   "execution_count": null,
   "metadata": {},
   "outputs": [],
   "source": [
    "fig = tc.pl.scatter(adatas_combined, keys=['sample'],joint=True,position_key=\"X_umap\",axsize=(6,6), share_scaling=False, padding=0.75);\n",
    "fig.savefig(combined_dir+'/all_UMAP_sample.pdf',bbox_inches='tight')"
   ]
  },
  {
   "cell_type": "code",
   "execution_count": null,
   "metadata": {},
   "outputs": [],
   "source": [
    "keys=pd.Series([['replicate']]*len(adatas_combined.index), index=adatas_combined.index)\n",
    "keys['scRNAseq'] = ['method']\n",
    "fig = tc.pl.scatter(adatas_combined, keys=keys,joint=True,position_key=\"X_umap\",axsize=(6,6), share_scaling=False, padding=0.75);\n",
    "fig.savefig(combined_dir+'/all_UMAP_repl.pdf',bbox_inches='tight')"
   ]
  },
  {
   "cell_type": "code",
   "execution_count": null,
   "metadata": {},
   "outputs": [],
   "source": [
    "fig = tc.pl.scatter(adatas_combined, keys=['leiden'],joint=True,position_key=\"X_umap\",axsize=(6,6), share_scaling=False, padding=0.75);\n",
    "fig.savefig(combined_dir+'/all_UMAP_leiden.pdf',bbox_inches='tight')"
   ]
  },
  {
   "cell_type": "code",
   "execution_count": null,
   "metadata": {},
   "outputs": [],
   "source": [
    "fig = tc.pl.scatter(adatas_combined, keys=['site_biopsy'],joint=True,position_key=\"X_umap\",axsize=(6,6), share_scaling=False, padding=0.75);\n",
    "fig.savefig(combined_dir+'/all_UMAP_site.pdf',bbox_inches='tight')"
   ]
  },
  {
   "cell_type": "code",
   "execution_count": null,
   "metadata": {},
   "outputs": [],
   "source": [
    "fig = tc.pl.scatter(adatas_combined, keys=['receptors_biopsy'],joint=True,position_key=\"X_umap\",axsize=(6,6), share_scaling=False, padding=0.75);\n",
    "fig.savefig(combined_dir+'/all_UMAP_receptor.pdf',bbox_inches='tight')"
   ]
  },
  {
   "cell_type": "code",
   "execution_count": 140,
   "metadata": {},
   "outputs": [],
   "source": [
    "df=pd.DataFrame(adatas_combined['merfish'].obsm['X_pca']).set_index(adatas_combined['merfish'].obs.index)"
   ]
  },
  {
   "cell_type": "code",
   "execution_count": 141,
   "metadata": {},
   "outputs": [],
   "source": [
    "df['OT']=adatas_combined['merfish'].obs['OT']"
   ]
  },
  {
   "cell_type": "code",
   "execution_count": null,
   "metadata": {},
   "outputs": [],
   "source": [
    "df_sub=df.iloc[:].sort_values(\"OT\")\n",
    "sel_colors=colors[colors.index.isin(df_sub['OT'])].sort_index()\n",
    "matplotlib.rcParams['figure.dpi'] = low_dpi\n",
    "fig,ax=plt.subplots(figsize=[10,5])\n",
    "pd.plotting.parallel_coordinates(df_sub, class_column='OT',cols=np.arange(10),color=sel_colors,ax=ax,linewidth=0.1)\n",
    "ax.legend(bbox_to_anchor=(1.0, 1.0))\n",
    "ax.hlines(0,xmin=0,xmax=9)\n",
    "matplotlib.rcParams['figure.dpi'] = high_dpi"
   ]
  },
  {
   "cell_type": "code",
   "execution_count": null,
   "metadata": {},
   "outputs": [],
   "source": []
  }
 ],
 "metadata": {
  "kernelspec": {
   "display_name": "scanpy",
   "language": "python",
   "name": "scanpy"
  },
  "language_info": {
   "codemirror_mode": {
    "name": "ipython",
    "version": 3
   },
   "file_extension": ".py",
   "mimetype": "text/x-python",
   "name": "python",
   "nbconvert_exporter": "python",
   "pygments_lexer": "ipython3",
   "version": "3.6.10"
  }
 },
 "nbformat": 4,
 "nbformat_minor": 2
}
