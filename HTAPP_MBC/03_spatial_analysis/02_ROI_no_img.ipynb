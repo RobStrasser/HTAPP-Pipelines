{
 "cells": [
  {
   "cell_type": "code",
   "execution_count": 2,
   "metadata": {},
   "outputs": [],
   "source": [
    "import numpy as np\n",
    "import warnings\n",
    "warnings.simplefilter(action='ignore', category=FutureWarning)\n",
    "import pandas as pd\n",
    "import scanpy as sc\n",
    "import anndata\n",
    "import os\n",
    "import sys\n",
    "from mpl_toolkits.axes_grid1.anchored_artists import AnchoredSizeBar\n",
    "import matplotlib.font_manager as fm"
   ]
  },
  {
   "cell_type": "code",
   "execution_count": 3,
   "metadata": {},
   "outputs": [],
   "source": [
    "sys.path.insert(1, '/secure/projects/tacco/')\n",
    "import tacco as tc"
   ]
  },
  {
   "cell_type": "code",
   "execution_count": 4,
   "metadata": {},
   "outputs": [],
   "source": [
    "sys.path.insert(1, '/secure/projects/HTAPP_MBC/src/spatial')\n",
    "from spatial_utils import *"
   ]
  },
  {
   "cell_type": "code",
   "execution_count": 5,
   "metadata": {},
   "outputs": [],
   "source": [
    "plots_dir=out_dir_base+\"/plots/\"\n",
    "os.makedirs(plots_dir, exist_ok=True)"
   ]
  },
  {
   "cell_type": "code",
   "execution_count": 6,
   "metadata": {},
   "outputs": [],
   "source": [
    "sample_sheet=pd.read_csv(codeDir+\"/meta/sampletracking_HTAPP_MBC_spatial.csv\")"
   ]
  },
  {
   "cell_type": "code",
   "execution_count": 7,
   "metadata": {},
   "outputs": [
    {
     "data": {
      "text/plain": [
       "['scRNAseq',\n",
       " 'slide_seq',\n",
       " 'merfish',\n",
       " 'merfish_bin',\n",
       " 'exseq',\n",
       " 'exseq_bin',\n",
       " 'codex']"
      ]
     },
     "execution_count": 7,
     "metadata": {},
     "output_type": "execute_result"
    }
   ],
   "source": [
    "#These identifiers are set as defaults in many functions. If names are changed, this has to be adapted when calling the functions.\n",
    "ct_column='cell_type'\n",
    "#sm_methods=[\"exseq\",\"exseq_bin\",\"slide_seq\",\"merfish\",\"merfish_bin\",\"codex\"] #spatial mathod names are hard-coded for now because some methods need special treatments. Can be fixed by giving eatch method it's own variable.\n",
    "sm_methods=[\"slide_seq\",\"merfish\",\"merfish_bin\",\"exseq\",\"exseq_bin\",\"codex\"] #spatial mathod names are hard-coded for now because some methods need special treatments. Can be fixed by giving eatch method it's own variable.\n",
    "\n",
    "sc_method=\"scRNAseq\"\n",
    "all_methods=[sc_method,*sm_methods]\n",
    "all_methods"
   ]
  },
  {
   "cell_type": "code",
   "execution_count": 8,
   "metadata": {},
   "outputs": [
    {
     "data": {
      "text/plain": [
       "['HTAPP-944-SMP-7479',\n",
       " 'HTAPP-895-SMP-7359',\n",
       " 'HTAPP-880-SMP-7179',\n",
       " 'HTAPP-878-SMP-7149',\n",
       " 'HTAPP-812-SMP-8239',\n",
       " 'HTAPP-514-SMP-6760',\n",
       " 'HTAPP-982-SMP-7629',\n",
       " 'HTAPP-997-SMP-7789',\n",
       " 'HTAPP-917-SMP-4531',\n",
       " 'HTAPP-853-SMP-4381',\n",
       " 'HTAPP-313-SMP-932',\n",
       " 'HTAPP-330-SMP-1082',\n",
       " 'HTAPP-783-SMP-4081',\n",
       " 'HTAPP-364-SMP-1321',\n",
       " 'HTAPP-213-SMP-6752']"
      ]
     },
     "execution_count": 8,
     "metadata": {},
     "output_type": "execute_result"
    }
   ],
   "source": [
    "run_samples=list(filter(lambda a: not a in [''], list(sample_sheet['sample'].unique()))) \n",
    "run_samples"
   ]
  },
  {
   "cell_type": "code",
   "execution_count": null,
   "metadata": {},
   "outputs": [],
   "source": [
    "for sample in run_samples:\n",
    "    print(sample)\n",
    "    out_dir=out_dir_base+sample \n",
    "    adatas=get_and_process_data(sample,data_dir,out_dir,methods=all_methods,process=False,verbose=False)\n",
    "    adatas=get_squares(adatas)\n",
    "    update_processed_adatas(adatas,sample,out_dir,sm_methods,overwrite=True,process=False)"
   ]
  },
  {
   "cell_type": "code",
   "execution_count": null,
   "metadata": {},
   "outputs": [],
   "source": [
    "for sample in run_samples:\n",
    "    print(sample)\n",
    "    out_dir=out_dir_base+sample \n",
    "    adatas=get_and_process_data(sample,data_dir,out_dir,methods=all_methods,process=False,verbose=False)\n",
    "    sel_colors=colors[colors.index.isin(adatas[sc_method].obs[ct_column])]\n",
    "    fig=tc.pl.scatter(square(replicate_splitter(adatas[~adatas.index.isin(['scRNAseq'])])), keys=['RCTD','OT','OT_max'],\n",
    "                      colors=sel_colors,joint=True,padding=0.8);\n",
    "    figheight = fig.get_size_inches()[1]\n",
    "    x,y = fig.axes[0].transData.inverted().transform(fig.axes[0].transAxes.transform((0,1))+np.array([0,100]))\n",
    "    fig.axes[0].text(x, y, sample, ha=\"left\", va=\"bottom\", fontsize='large')\n",
    "    for ax in fig.get_axes():\n",
    "        scalebar = AnchoredSizeBar(ax.transData, 100, '100µm', 'lower left', pad=0.3, color='black', frameon=False, \n",
    "                                   size_vertical=2, fontproperties=fm.FontProperties(size=10))\n",
    "        ax.add_artist(scalebar)\n",
    "    fig.savefig(f'{plots_dir}{sample}_ROI.pdf',bbox_inches='tight');\n",
    "    #can't save when plots are shown in jl --> cleared output (first sample as example)"
   ]
  },
  {
   "cell_type": "code",
   "execution_count": null,
   "metadata": {},
   "outputs": [],
   "source": [
    "for sample in run_samples:\n",
    "    print(sample)\n",
    "    out_dir=out_dir_base+sample \n",
    "    adatas=get_and_process_data(sample,data_dir,out_dir,methods=all_methods,process=False,verbose=False)\n",
    "    sel_colors=colors[colors.index.isin(adatas[sc_method].obs[ct_column])]\n",
    "    fig = tc.pl.scatter(replicate_splitter(adatas[~adatas.index.isin(['scRNAseq'])]), keys=['RCTD','OT','OT_max'],\n",
    "                        colors=sel_colors,joint=True,sharex='all',sharey='all',axsize=1.5e-3,point_size=2, padding=0.4,margin=0.2);\n",
    "    figheight = fig.get_size_inches()[1]\n",
    "    x,y = fig.axes[0].transData.inverted().transform(fig.axes[0].transAxes.transform((0,1))+np.array([0,100]))\n",
    "    fig.axes[0].text(x, y, sample, ha=\"left\", va=\"bottom\", fontsize='large')\n",
    "    for ax in fig.get_axes():\n",
    "        scalebar = AnchoredSizeBar(ax.transData, 100, '100µm', 'lower left', pad=0.3, color='black', frameon=False, \n",
    "                                   size_vertical=2, fontproperties=fm.FontProperties(size=10))\n",
    "        ax.add_artist(scalebar)\n",
    "    fig.savefig(f'{plots_dir}{sample}_spatial_scatter.pdf',bbox_inches='tight')\n",
    "    \n",
    "    #can't save when plots are shown in jl --> cleared output (first sample as example)"
   ]
  },
  {
   "cell_type": "code",
   "execution_count": null,
   "metadata": {},
   "outputs": [
    {
     "name": "stdout",
     "output_type": "stream",
     "text": [
      "HTAPP-944-SMP-7479\n"
     ]
    },
    {
     "name": "stderr",
     "output_type": "stream",
     "text": [
      "/secure/projects/tacco/tacco/plots/_plots.py:872: RuntimeWarning: invalid value encountered in true_divide\n",
      "  weights = weights / weights.sum(axis=-1)[...,None]\n"
     ]
    },
    {
     "name": "stdout",
     "output_type": "stream",
     "text": [
      "HTAPP-895-SMP-7359\n"
     ]
    },
    {
     "name": "stderr",
     "output_type": "stream",
     "text": [
      "/secure/projects/tacco/tacco/plots/_plots.py:872: RuntimeWarning: invalid value encountered in true_divide\n",
      "  weights = weights / weights.sum(axis=-1)[...,None]\n"
     ]
    },
    {
     "name": "stdout",
     "output_type": "stream",
     "text": [
      "HTAPP-880-SMP-7179\n"
     ]
    },
    {
     "name": "stderr",
     "output_type": "stream",
     "text": [
      "/secure/projects/tacco/tacco/plots/_plots.py:872: RuntimeWarning: invalid value encountered in true_divide\n",
      "  weights = weights / weights.sum(axis=-1)[...,None]\n"
     ]
    },
    {
     "name": "stdout",
     "output_type": "stream",
     "text": [
      "HTAPP-878-SMP-7149\n"
     ]
    },
    {
     "name": "stderr",
     "output_type": "stream",
     "text": [
      "/secure/projects/tacco/tacco/plots/_plots.py:872: RuntimeWarning: invalid value encountered in true_divide\n",
      "  weights = weights / weights.sum(axis=-1)[...,None]\n"
     ]
    },
    {
     "name": "stdout",
     "output_type": "stream",
     "text": [
      "HTAPP-812-SMP-8239\n"
     ]
    },
    {
     "name": "stderr",
     "output_type": "stream",
     "text": [
      "/secure/projects/tacco/tacco/plots/_plots.py:872: RuntimeWarning: invalid value encountered in true_divide\n",
      "  weights = weights / weights.sum(axis=-1)[...,None]\n"
     ]
    },
    {
     "name": "stdout",
     "output_type": "stream",
     "text": [
      "HTAPP-514-SMP-6760\n"
     ]
    },
    {
     "name": "stderr",
     "output_type": "stream",
     "text": [
      "/secure/projects/tacco/tacco/plots/_plots.py:872: RuntimeWarning: invalid value encountered in true_divide\n",
      "  weights = weights / weights.sum(axis=-1)[...,None]\n"
     ]
    },
    {
     "name": "stdout",
     "output_type": "stream",
     "text": [
      "HTAPP-982-SMP-7629\n"
     ]
    },
    {
     "name": "stderr",
     "output_type": "stream",
     "text": [
      "/secure/projects/tacco/tacco/plots/_plots.py:872: RuntimeWarning: invalid value encountered in true_divide\n",
      "  weights = weights / weights.sum(axis=-1)[...,None]\n"
     ]
    },
    {
     "name": "stdout",
     "output_type": "stream",
     "text": [
      "HTAPP-997-SMP-7789\n"
     ]
    },
    {
     "name": "stderr",
     "output_type": "stream",
     "text": [
      "/secure/projects/tacco/tacco/plots/_plots.py:872: RuntimeWarning: invalid value encountered in true_divide\n",
      "  weights = weights / weights.sum(axis=-1)[...,None]\n"
     ]
    },
    {
     "name": "stdout",
     "output_type": "stream",
     "text": [
      "HTAPP-917-SMP-4531\n"
     ]
    },
    {
     "name": "stderr",
     "output_type": "stream",
     "text": [
      "/secure/projects/tacco/tacco/plots/_plots.py:872: RuntimeWarning: invalid value encountered in true_divide\n",
      "  weights = weights / weights.sum(axis=-1)[...,None]\n"
     ]
    },
    {
     "name": "stdout",
     "output_type": "stream",
     "text": [
      "HTAPP-853-SMP-4381\n"
     ]
    },
    {
     "name": "stderr",
     "output_type": "stream",
     "text": [
      "/secure/projects/tacco/tacco/plots/_plots.py:872: RuntimeWarning: invalid value encountered in true_divide\n",
      "  weights = weights / weights.sum(axis=-1)[...,None]\n"
     ]
    },
    {
     "name": "stdout",
     "output_type": "stream",
     "text": [
      "HTAPP-313-SMP-932\n"
     ]
    },
    {
     "name": "stderr",
     "output_type": "stream",
     "text": [
      "/secure/projects/tacco/tacco/plots/_plots.py:872: RuntimeWarning: invalid value encountered in true_divide\n",
      "  weights = weights / weights.sum(axis=-1)[...,None]\n"
     ]
    },
    {
     "name": "stdout",
     "output_type": "stream",
     "text": [
      "HTAPP-330-SMP-1082\n"
     ]
    },
    {
     "name": "stderr",
     "output_type": "stream",
     "text": [
      "/secure/projects/tacco/tacco/plots/_plots.py:872: RuntimeWarning: invalid value encountered in true_divide\n",
      "  weights = weights / weights.sum(axis=-1)[...,None]\n"
     ]
    },
    {
     "name": "stdout",
     "output_type": "stream",
     "text": [
      "HTAPP-783-SMP-4081\n"
     ]
    },
    {
     "name": "stderr",
     "output_type": "stream",
     "text": [
      "/secure/projects/tacco/tacco/plots/_plots.py:872: RuntimeWarning: invalid value encountered in true_divide\n",
      "  weights = weights / weights.sum(axis=-1)[...,None]\n"
     ]
    },
    {
     "name": "stdout",
     "output_type": "stream",
     "text": [
      "HTAPP-364-SMP-1321\n"
     ]
    },
    {
     "name": "stderr",
     "output_type": "stream",
     "text": [
      "/secure/projects/tacco/tacco/plots/_plots.py:872: RuntimeWarning: invalid value encountered in true_divide\n",
      "  weights = weights / weights.sum(axis=-1)[...,None]\n"
     ]
    },
    {
     "name": "stdout",
     "output_type": "stream",
     "text": [
      "HTAPP-213-SMP-6752\n"
     ]
    },
    {
     "name": "stderr",
     "output_type": "stream",
     "text": [
      "/secure/projects/tacco/tacco/plots/_plots.py:872: RuntimeWarning: invalid value encountered in true_divide\n",
      "  weights = weights / weights.sum(axis=-1)[...,None]\n"
     ]
    }
   ],
   "source": [
    "fig,axs=tc.pl.subplots(len(run_samples),len(sm_methods),sharex='col',sharey='col', x_padding=0.4,y_padding=0.4, width_ratios=[0.3,1,1,0.7,0.2,1,0.2,0.2,0.3,0.2,0.2,0.2,0.6,0.2,1])\n",
    "\n",
    "for i_sample,sample in enumerate(run_samples):\n",
    "    print(sample)\n",
    "    out_dir=out_dir_base+sample \n",
    "    adatas=get_and_process_data(sample,data_dir,out_dir,methods=all_methods,process=False,verbose=False)\n",
    "    sel_colors=colors[colors.index.isin(adatas[sc_method].obs[ct_column])]\n",
    "    \n",
    "    method_axes = []\n",
    "    method_adatas = {}\n",
    "    for i_method,method in enumerate(sm_methods):\n",
    "        \n",
    "        ax=axs[i_method,i_sample]\n",
    "        sel_adatas=replicate_splitter(adatas[adatas.index.isin([method])])\n",
    "        ax.axis(\"off\")\n",
    "        if len(sel_adatas)!=0:\n",
    "            method_axes.append(ax)\n",
    "            method_adatas[method] = sel_adatas.iloc[0]\n",
    "    \n",
    "    tc.pl.scatter(method_adatas, keys=['OT'],method_labels={'OT':''},\n",
    "                        colors=sel_colors,joint=True,sharex='all',sharey='all',point_size=2,margin=0.2,ax=np.array(method_axes)[None,:], grid=False, legend=False, noticks=True);\n",
    "    \n",
    "    for ax in method_axes:\n",
    "        scalebar = AnchoredSizeBar(ax.transData, 1000, '1mm', 'lower left', pad=0.3, color='black', frameon=False, \n",
    "                                   size_vertical=2, fontproperties=fm.FontProperties(size=10))\n",
    "        ax.add_artist(scalebar)\n",
    "        ax.set_title(\"\")\n",
    "    \n",
    "    ax=axs[0,i_sample]\n",
    "    figheight = fig.get_size_inches()[1]\n",
    "    x,y = ax.transData.inverted().transform(ax.transAxes.transform((0,1))+np.array([0,100]))\n",
    "    ax.text(x, y, sample, ha=\"left\", va=\"bottom\", fontsize='large')\n",
    "    \n",
    "fig.savefig(f'{plots_dir}joint_spatial_scatter.pdf',bbox_inches='tight')\n",
    "\n",
    "#can't save when plots are shown in jl --> cleared output (first sample as example)"
   ]
  },
  {
   "cell_type": "code",
   "execution_count": null,
   "metadata": {},
   "outputs": [],
   "source": []
  }
 ],
 "metadata": {
  "kernelspec": {
   "display_name": "scanpy",
   "language": "python",
   "name": "scanpy"
  },
  "language_info": {
   "codemirror_mode": {
    "name": "ipython",
    "version": 3
   },
   "file_extension": ".py",
   "mimetype": "text/x-python",
   "name": "python",
   "nbconvert_exporter": "python",
   "pygments_lexer": "ipython3",
   "version": "3.6.10"
  }
 },
 "nbformat": 4,
 "nbformat_minor": 2
}
