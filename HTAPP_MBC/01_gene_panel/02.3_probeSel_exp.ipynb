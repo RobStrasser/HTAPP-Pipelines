{
 "cells": [
  {
   "cell_type": "code",
   "execution_count": 1,
   "metadata": {},
   "outputs": [
    {
     "name": "stderr",
     "output_type": "stream",
     "text": [
      "Loading required package: cowplot\n",
      "\n",
      "Attaching package: 'cowplot'\n",
      "\n",
      "The following object is masked from 'package:ggplot2':\n",
      "\n",
      "    ggsave\n",
      "\n",
      "Loading required package: Matrix\n",
      "Loading combined annotation: annot\n"
     ]
    }
   ],
   "source": [
    "source(\"/ahg/regevdata/users/jklugham/projects/HTAPP_MBC/src/init.R\")\n",
    "library(\"LiblineaR\")"
   ]
  },
  {
   "cell_type": "code",
   "execution_count": 2,
   "metadata": {},
   "outputs": [
    {
     "name": "stderr",
     "output_type": "stream",
     "text": [
      "Warning message in dir.create(wd):\n",
      "\"'/ahg/regevdata/projects/HTAPP_MBC//analysis//00_spatial_probes' already exists\""
     ]
    }
   ],
   "source": [
    "wd=file.path(analysisDir,\"00_spatial_probes\")\n",
    "dir.create(wd)\n",
    "setwd(wd)"
   ]
  },
  {
   "cell_type": "code",
   "execution_count": 3,
   "metadata": {},
   "outputs": [
    {
     "name": "stderr",
     "output_type": "stream",
     "text": [
      "Warning message in simpleCache(cacheName = \"fresh_combined\", instruction = \"\", cacheDir = cacheDir, :\n",
      "\"Detected a character instruction; consider wrapping in {} instead ofquotes.\"::Loading cache::\t/ahg/regevdata/projects/HTAPP_MBC//RCache//combined_seurat/fresh_combined.RData\n"
     ]
    }
   ],
   "source": [
    "simpleCache(cacheName = \"fresh_combined\",\n",
    "            instruction = \"\", \n",
    "            cacheDir = cacheDir, \n",
    "            cacheSubDir = \"combined_seurat\", \n",
    "            recreate = FALSE,assignToVariable = \"cs\")"
   ]
  },
  {
   "cell_type": "code",
   "execution_count": 4,
   "metadata": {},
   "outputs": [],
   "source": [
    "#discriminate between b-cells and plasma cells\n",
    "lab_dt=as.data.table(cs@meta.data[,c(\"labels\",\"labels_detail\")],keep.rownames = \"cellid\")\n",
    "lab_dt[,labels_mod:=ifelse(labels==\"B_cell\"&labels_detail==\"B_cell:Plasma_cell\",\"Plasma_cell\",labels),]\n",
    "setnames(lab_dt,c(\"labels\",\"labels_mod\"),c(\"labels_orig\",\"labels\"))\n",
    "lab_df=data.frame(lab_dt,row.names = \"cellid\")\n",
    "cs=AddMetaData(cs,metadata = lab_df)\n",
    "\n",
    "cs=SetIdent(cs,ident.use = cs@meta.data$labels)"
   ]
  },
  {
   "cell_type": "code",
   "execution_count": 5,
   "metadata": {},
   "outputs": [],
   "source": [
    "cell_types=c(\"Epithelial_cells\",\"T_cells\",\"Fibroblasts\",\"Macrophage\",\"B_cell\",\"NK_cell\",\"Endothelial_cells\",\"Monocyte\",\"iPS_cells\",\"Plasma_cell\")"
   ]
  },
  {
   "cell_type": "markdown",
   "metadata": {},
   "source": [
    "#### Get importance of each gene for the prediction of each of the other genes"
   ]
  },
  {
   "cell_type": "code",
   "execution_count": null,
   "metadata": {},
   "outputs": [],
   "source": [
    "#run in console such that parallel computing can be used efficiently\n",
    "#prepare\n",
    "source(\"/ahg/regevdata/users/jklugham/projects/HTAPP_MBC/src/init.R\")\n",
    "library(\"LiblineaR\")\n",
    "library(parallel)\n",
    "\n",
    "wd=file.path(analysisDir,\"00_spatial_probes\")\n",
    "dir.create(wd)\n",
    "setwd(wd)\n",
    "\n",
    "simpleCache(cacheName = \"fresh_combined\",\n",
    "            instruction = \"\", \n",
    "            cacheDir = cacheDir, \n",
    "            cacheSubDir = \"combined_seurat\", \n",
    "            recreate = FALSE,assignToVariable = \"cs\")\n",
    "\n",
    "#discriminate between b-cells and plasma cells\n",
    "lab_dt=as.data.table(cs@meta.data[,c(\"labels\",\"labels_detail\")],keep.rownames = \"cellid\")\n",
    "lab_dt[,labels_mod:=ifelse(labels==\"B_cell\"&labels_detail==\"B_cell:Plasma_cell\",\"Plasma_cell\",labels),]\n",
    "setnames(lab_dt,c(\"labels\",\"labels_mod\"),c(\"labels_orig\",\"labels\"))\n",
    "lab_df=data.frame(lab_dt,row.names = \"cellid\")\n",
    "cs=AddMetaData(cs,metadata = lab_df)\n",
    "\n",
    "cs=SetIdent(cs,ident.use = cs@meta.data$labels)\n",
    "\n",
    "\n",
    "cell_types=c(\"Epithelial_cells\",\"T_cells\",\"Fibroblasts\",\"Macrophage\",\"B_cell\",\"NK_cell\",\"Endothelial_cells\",\"Monocyte\",\"iPS_cells\",\"Plasma_cell\")"
   ]
  },
  {
   "cell_type": "code",
   "execution_count": 8,
   "metadata": {},
   "outputs": [],
   "source": [
    "#function\n",
    "get_weights=function(obj,ct,gene_list=NULL,cpi=1000,run_name=NULL){\n",
    "\n",
    "    all_weights=data.table()\n",
    "\n",
    "    message(paste0(Sys.time(),\": \",ifelse(is.null(run_name),ct,run_name)))\n",
    "    \n",
    "    cells=WhichCells(obj,subset.name = \"labels\",accept.value = ct)    \n",
    "    sub1=SubsetData(obj,cells.use = cells,max.cells.per.ident = cpi,random.seed = 1234)\n",
    "    \n",
    "    test_cells=cells[!cells%in%sub1@cell.names]\n",
    "    if (length(test_cells)<500){\n",
    "        missing=500-length(test_cells)\n",
    "        add_from=length(cells)-length(test_cells)\n",
    "        test_cells=c(test_cells,cells[!cells%in%test_cells][sample(1:add_from,min(missing,length(cells)))])\n",
    "        message(paste0(ifelse(is.null(run_name),ct,run_name),\": \",missing,\" test cells missing. Using \",length(test_cells),\" cells.\"))\n",
    "    }\n",
    "    \n",
    "    sub2=SubsetData(obj,cells.use = test_cells,max.cells.per.ident = cpi,random.seed = 2345)\n",
    "\n",
    "    if (is.null(gene_list)){\n",
    "        gene_list=FindVariableGenes(SubsetData(obj,cells.use = cells),y.cutoff = 0.1,set.var.genes=FALSE,do.plot=FALSE,display.progress = FALSE)\n",
    "        message(paste0(ifelse(is.null(run_name),ct,run_name),\": \",length(gene_list),\" variable genes detected.\"))\n",
    "    }\n",
    "    \n",
    "    dat=t(as.matrix(sub1@data))[,gene_list]  \n",
    "    dat_test=t(as.matrix(sub2@data))[,gene_list]\n",
    "    \n",
    "    for (p_gene in gene_list){\n",
    "\n",
    "        dat_x=dat[,!grepl(p_gene,colnames(dat))]\n",
    "        dat_y=dat[,p_gene]\n",
    "\n",
    "        dat_test_x=dat_test[,!grepl(p_gene,colnames(dat_test))]\n",
    "        dat_test_y=dat_test[,p_gene]  \n",
    "\n",
    "        #liblinear\n",
    "        c=heuristicC(dat_x)\n",
    "        mse_cv=LiblineaR(dat_x,dat_y,type = 13,cost = c,svr_eps=0.1,cross=5)\n",
    "        m=LiblineaR(dat_x,dat_y,type = 13,cost = c,svr_eps=0.1)\n",
    "        w_dt=as.data.table(t(m$W),keep.rownames = \"gene\")\n",
    "        setnames(w_dt,\"V1\",\"weights\")\n",
    "        p=predict(m,newx = dat_test_x)\n",
    "        oldw <- getOption(\"warn\")\n",
    "        options(warn=-1)\n",
    "        c_l=cor.test(p$predictions,dat_test_y)\n",
    "        options(warn=oldw)\n",
    "        w_dt[,cell_type:=ifelse(is.null(run_name),ct,run_name),]\n",
    "        \n",
    "        w_dt[,pred_gene:=p_gene,]\n",
    "        w_dt[,cor:=c_l$estimate,]\n",
    "        w_dt[,pval:=c_l$p.value,]\n",
    "        w_dt[,mse:=mse_cv,]\n",
    "        w_dt[,mean_train:=mean(dat_y),]\n",
    "        w_dt[,sd_train:=sd(dat_y),]\n",
    "        w_dt[,mean_test:=mean(dat_test_y),]\n",
    "        w_dt[,sd_test:=sd(dat_test_y),]\n",
    "        w_dt[,ntrain:=length(sub1@cell.names),]\n",
    "        w_dt[,ntest:=length(sub2@cell.names),]\n",
    "        w_dt[,nsame:=sum(sub2@cell.names%in%sub1@cell.names),]\n",
    "        all_weights=rbindlist(list(all_weights,w_dt))\n",
    "       \n",
    "        rm(m)\n",
    "        rm(w_dt)\n",
    "        rm(dat_test_x)\n",
    "        rm(dat_test_y)\n",
    "        rm(dat_x)\n",
    "        rm(dat_y)\n",
    "        gc()\n",
    "    }\n",
    "    \n",
    "        save(all_weights,file=paste0(\"all_weights_\",ifelse(is.null(run_name),ct,run_name),\".RData\"))\n",
    "        return(paste0(ifelse(is.null(run_name),ct,run_name),\" done.\"))\n",
    "    \n",
    "}"
   ]
  },
  {
   "cell_type": "code",
   "execution_count": 9,
   "metadata": {},
   "outputs": [
    {
     "name": "stderr",
     "output_type": "stream",
     "text": [
      "2019-05-25 21:54:55: all_ct\n",
      "all_ct: 4808 variable genes detected.\n"
     ]
    },
    {
     "data": {
      "text/html": [
       "'all_ct done.'"
      ],
      "text/latex": [
       "'all\\_ct done.'"
      ],
      "text/markdown": [
       "'all_ct done.'"
      ],
      "text/plain": [
       "[1] \"all_ct done.\""
      ]
     },
     "metadata": {},
     "output_type": "display_data"
    }
   ],
   "source": [
    "#run\n",
    "#system.time(expr=res<-mclapply(cell_types,function(x)get_weights(cs,gene_list,x),mc.cores=8,mc.preschedule=FALSE))\n",
    "#mclapply(cell_types,function(x)get_weights(cs,x),mc.cores=4,mc.preschedule=FALSE)\n",
    "get_weights(cs,cell_types,cpi = 100,run_name = \"all_ct\")"
   ]
  },
  {
   "cell_type": "markdown",
   "metadata": {},
   "source": [
    "#### Parse results and select genes"
   ]
  },
  {
   "cell_type": "code",
   "execution_count": 6,
   "metadata": {},
   "outputs": [],
   "source": [
    "combined_weights=data.table()\n",
    "for (ct in cell_types){\n",
    "    load(paste0(\"all_weights_\",ct,\".RData\"))\n",
    "    dat=SubsetData(cs,ident.use = ct)@data[unique(all_weights$pred_gene),]\n",
    "    means=rbindlist(apply(dat,1,function(x){return(data.table(mean=mean(x),sd=sd(x)))}),idcol=\"pred_gene\")\n",
    "    all_weights=merge(all_weights,means,by=\"pred_gene\",all=TRUE)\n",
    "    \n",
    "    combined_weights=rbindlist(list(combined_weights,all_weights))\n",
    "    rm(dat,means,all_weights)\n",
    "    gc()\n",
    "}"
   ]
  },
  {
   "cell_type": "code",
   "execution_count": 10,
   "metadata": {},
   "outputs": [],
   "source": [
    "load(\"all_weights_all_ct.RData\")"
   ]
  },
  {
   "cell_type": "code",
   "execution_count": 11,
   "metadata": {},
   "outputs": [],
   "source": [
    "combined_weights=all_weights"
   ]
  },
  {
   "cell_type": "code",
   "execution_count": 12,
   "metadata": {},
   "outputs": [
    {
     "data": {
      "text/html": [
       "<table>\n",
       "<thead><tr><th scope=col>gene</th><th scope=col>weights</th><th scope=col>cell_type</th><th scope=col>pred_gene</th><th scope=col>cor</th><th scope=col>pval</th><th scope=col>mse</th><th scope=col>mean_train</th><th scope=col>sd_train</th><th scope=col>mean_test</th><th scope=col>sd_test</th><th scope=col>ntrain</th><th scope=col>ntest</th><th scope=col>nsame</th></tr></thead>\n",
       "<tbody>\n",
       "\t<tr><td>AAAS         </td><td>-0.0017729541</td><td>all_ct       </td><td>A2M          </td><td>0.692122     </td><td>1.778197e-143</td><td>0.3031812    </td><td>0.3695434    </td><td>0.7879628    </td><td>0.3283487    </td><td>0.743902     </td><td>1000         </td><td>1000         </td><td>0            </td></tr>\n",
       "\t<tr><td>AAED1        </td><td> 0.0145646851</td><td>all_ct       </td><td>A2M          </td><td>0.692122     </td><td>1.778197e-143</td><td>0.3031812    </td><td>0.3695434    </td><td>0.7879628    </td><td>0.3283487    </td><td>0.743902     </td><td>1000         </td><td>1000         </td><td>0            </td></tr>\n",
       "\t<tr><td>AAGAB        </td><td> 0.0025400766</td><td>all_ct       </td><td>A2M          </td><td>0.692122     </td><td>1.778197e-143</td><td>0.3031812    </td><td>0.3695434    </td><td>0.7879628    </td><td>0.3283487    </td><td>0.743902     </td><td>1000         </td><td>1000         </td><td>0            </td></tr>\n",
       "\t<tr><td>AAK1         </td><td> 0.0052318008</td><td>all_ct       </td><td>A2M          </td><td>0.692122     </td><td>1.778197e-143</td><td>0.3031812    </td><td>0.3695434    </td><td>0.7879628    </td><td>0.3283487    </td><td>0.743902     </td><td>1000         </td><td>1000         </td><td>0            </td></tr>\n",
       "\t<tr><td>AAMDC        </td><td>-0.0143333187</td><td>all_ct       </td><td>A2M          </td><td>0.692122     </td><td>1.778197e-143</td><td>0.3031812    </td><td>0.3695434    </td><td>0.7879628    </td><td>0.3283487    </td><td>0.743902     </td><td>1000         </td><td>1000         </td><td>0            </td></tr>\n",
       "\t<tr><td>AAR2         </td><td>-0.0004227297</td><td>all_ct       </td><td>A2M          </td><td>0.692122     </td><td>1.778197e-143</td><td>0.3031812    </td><td>0.3695434    </td><td>0.7879628    </td><td>0.3283487    </td><td>0.743902     </td><td>1000         </td><td>1000         </td><td>0            </td></tr>\n",
       "</tbody>\n",
       "</table>\n"
      ],
      "text/latex": [
       "\\begin{tabular}{r|llllllllllllll}\n",
       " gene & weights & cell\\_type & pred\\_gene & cor & pval & mse & mean\\_train & sd\\_train & mean\\_test & sd\\_test & ntrain & ntest & nsame\\\\\n",
       "\\hline\n",
       "\t AAAS          & -0.0017729541 & all\\_ct      & A2M           & 0.692122      & 1.778197e-143 & 0.3031812     & 0.3695434     & 0.7879628     & 0.3283487     & 0.743902      & 1000          & 1000          & 0            \\\\\n",
       "\t AAED1         &  0.0145646851 & all\\_ct      & A2M           & 0.692122      & 1.778197e-143 & 0.3031812     & 0.3695434     & 0.7879628     & 0.3283487     & 0.743902      & 1000          & 1000          & 0            \\\\\n",
       "\t AAGAB         &  0.0025400766 & all\\_ct      & A2M           & 0.692122      & 1.778197e-143 & 0.3031812     & 0.3695434     & 0.7879628     & 0.3283487     & 0.743902      & 1000          & 1000          & 0            \\\\\n",
       "\t AAK1          &  0.0052318008 & all\\_ct      & A2M           & 0.692122      & 1.778197e-143 & 0.3031812     & 0.3695434     & 0.7879628     & 0.3283487     & 0.743902      & 1000          & 1000          & 0            \\\\\n",
       "\t AAMDC         & -0.0143333187 & all\\_ct      & A2M           & 0.692122      & 1.778197e-143 & 0.3031812     & 0.3695434     & 0.7879628     & 0.3283487     & 0.743902      & 1000          & 1000          & 0            \\\\\n",
       "\t AAR2          & -0.0004227297 & all\\_ct      & A2M           & 0.692122      & 1.778197e-143 & 0.3031812     & 0.3695434     & 0.7879628     & 0.3283487     & 0.743902      & 1000          & 1000          & 0            \\\\\n",
       "\\end{tabular}\n"
      ],
      "text/markdown": [
       "\n",
       "| gene | weights | cell_type | pred_gene | cor | pval | mse | mean_train | sd_train | mean_test | sd_test | ntrain | ntest | nsame |\n",
       "|---|---|---|---|---|---|---|---|---|---|---|---|---|---|\n",
       "| AAAS          | -0.0017729541 | all_ct        | A2M           | 0.692122      | 1.778197e-143 | 0.3031812     | 0.3695434     | 0.7879628     | 0.3283487     | 0.743902      | 1000          | 1000          | 0             |\n",
       "| AAED1         |  0.0145646851 | all_ct        | A2M           | 0.692122      | 1.778197e-143 | 0.3031812     | 0.3695434     | 0.7879628     | 0.3283487     | 0.743902      | 1000          | 1000          | 0             |\n",
       "| AAGAB         |  0.0025400766 | all_ct        | A2M           | 0.692122      | 1.778197e-143 | 0.3031812     | 0.3695434     | 0.7879628     | 0.3283487     | 0.743902      | 1000          | 1000          | 0             |\n",
       "| AAK1          |  0.0052318008 | all_ct        | A2M           | 0.692122      | 1.778197e-143 | 0.3031812     | 0.3695434     | 0.7879628     | 0.3283487     | 0.743902      | 1000          | 1000          | 0             |\n",
       "| AAMDC         | -0.0143333187 | all_ct        | A2M           | 0.692122      | 1.778197e-143 | 0.3031812     | 0.3695434     | 0.7879628     | 0.3283487     | 0.743902      | 1000          | 1000          | 0             |\n",
       "| AAR2          | -0.0004227297 | all_ct        | A2M           | 0.692122      | 1.778197e-143 | 0.3031812     | 0.3695434     | 0.7879628     | 0.3283487     | 0.743902      | 1000          | 1000          | 0             |\n",
       "\n"
      ],
      "text/plain": [
       "  gene  weights       cell_type pred_gene cor      pval          mse      \n",
       "1 AAAS  -0.0017729541 all_ct    A2M       0.692122 1.778197e-143 0.3031812\n",
       "2 AAED1  0.0145646851 all_ct    A2M       0.692122 1.778197e-143 0.3031812\n",
       "3 AAGAB  0.0025400766 all_ct    A2M       0.692122 1.778197e-143 0.3031812\n",
       "4 AAK1   0.0052318008 all_ct    A2M       0.692122 1.778197e-143 0.3031812\n",
       "5 AAMDC -0.0143333187 all_ct    A2M       0.692122 1.778197e-143 0.3031812\n",
       "6 AAR2  -0.0004227297 all_ct    A2M       0.692122 1.778197e-143 0.3031812\n",
       "  mean_train sd_train  mean_test sd_test  ntrain ntest nsame\n",
       "1 0.3695434  0.7879628 0.3283487 0.743902 1000   1000  0    \n",
       "2 0.3695434  0.7879628 0.3283487 0.743902 1000   1000  0    \n",
       "3 0.3695434  0.7879628 0.3283487 0.743902 1000   1000  0    \n",
       "4 0.3695434  0.7879628 0.3283487 0.743902 1000   1000  0    \n",
       "5 0.3695434  0.7879628 0.3283487 0.743902 1000   1000  0    \n",
       "6 0.3695434  0.7879628 0.3283487 0.743902 1000   1000  0    "
      ]
     },
     "metadata": {},
     "output_type": "display_data"
    }
   ],
   "source": [
    "head(combined_weights)"
   ]
  },
  {
   "cell_type": "markdown",
   "metadata": {},
   "source": [
    "#### Check prediction"
   ]
  },
  {
   "cell_type": "code",
   "execution_count": 13,
   "metadata": {},
   "outputs": [],
   "source": [
    "#combined_weights_red=combined_weights[,.(N_train=.N),by=c(\"cell_type\",\"pred_gene\",\"cor\",\"pval\",\"mse\",\"ntrain\",\"ntest\",\"nsame\",\"mean\",\"sd\")]\n",
    "combined_weights_red=combined_weights[,.(N_train=.N),by=c(\"cell_type\",\"pred_gene\",\"cor\",\"pval\",\"mse\",\"ntrain\",\"ntest\",\"nsame\",\"mean_train\",\"sd_train\",\"mean_test\",\"sd_test\")]"
   ]
  },
  {
   "cell_type": "code",
   "execution_count": 15,
   "metadata": {},
   "outputs": [],
   "source": [
    "#combined_weights_red[,mse_norm:=mse/sd^2,by=c(\"cell_type\",\"pred_gene\")]\n",
    "combined_weights_red[,mse_norm:=mse/sd_train^2,by=c(\"cell_type\",\"pred_gene\")]"
   ]
  },
  {
   "cell_type": "code",
   "execution_count": 17,
   "metadata": {},
   "outputs": [
    {
     "data": {
      "image/png": "[encoded data removed]",
      "text/plain": [
       "plot without title"
      ]
     },
     "metadata": {},
     "output_type": "display_data"
    }
   ],
   "source": [
    "options(repr.plot.width = 16, repr.plot.height = 7)\n",
    "ggplot(combined_weights_red,aes(x=mse_norm,col=mean_train>1))+geom_density()+facet_wrap(~cell_type,scale=\"free\",ncol=5)"
   ]
  },
  {
   "cell_type": "code",
   "execution_count": 18,
   "metadata": {},
   "outputs": [
    {
     "data": {
      "image/png": "[encoded data removed]",
      "text/plain": [
       "plot without title"
      ]
     },
     "metadata": {},
     "output_type": "display_data"
    }
   ],
   "source": [
    "options(repr.plot.width = 16, repr.plot.height = 7)\n",
    "ggplot(combined_weights_red,aes(x=cor))+geom_density()+facet_wrap(~cell_type,scale=\"free\",ncol=5)"
   ]
  },
  {
   "cell_type": "code",
   "execution_count": 19,
   "metadata": {},
   "outputs": [
    {
     "data": {
      "text/html": [
       "<table>\n",
       "<thead><tr><th scope=col>cell_type</th><th scope=col>V1</th></tr></thead>\n",
       "<tbody>\n",
       "\t<tr><td>all_ct   </td><td>0.1915109</td></tr>\n",
       "</tbody>\n",
       "</table>\n"
      ],
      "text/latex": [
       "\\begin{tabular}{r|ll}\n",
       " cell\\_type & V1\\\\\n",
       "\\hline\n",
       "\t all\\_ct  & 0.1915109\\\\\n",
       "\\end{tabular}\n"
      ],
      "text/markdown": [
       "\n",
       "| cell_type | V1 |\n",
       "|---|---|\n",
       "| all_ct    | 0.1915109 |\n",
       "\n"
      ],
      "text/plain": [
       "  cell_type V1       \n",
       "1 all_ct    0.1915109"
      ]
     },
     "metadata": {},
     "output_type": "display_data"
    }
   ],
   "source": [
    "combined_weights_red[,mean(cor,na.rm = TRUE),by=\"cell_type\"]"
   ]
  },
  {
   "cell_type": "code",
   "execution_count": 15,
   "metadata": {},
   "outputs": [
    {
     "data": {
      "text/html": [
       "<table>\n",
       "<thead><tr><th scope=col>cell_type</th><th scope=col>V1</th></tr></thead>\n",
       "<tbody>\n",
       "\t<tr><td>Epithelial_cells </td><td>0.1890629        </td></tr>\n",
       "\t<tr><td>T_cells          </td><td>0.1311824        </td></tr>\n",
       "\t<tr><td>Fibroblasts      </td><td>0.1691304        </td></tr>\n",
       "\t<tr><td>Macrophage       </td><td>0.1658526        </td></tr>\n",
       "\t<tr><td>B_cell           </td><td>0.1338899        </td></tr>\n",
       "\t<tr><td>NK_cell          </td><td>0.1293151        </td></tr>\n",
       "\t<tr><td>Endothelial_cells</td><td>0.1566112        </td></tr>\n",
       "\t<tr><td>Monocyte         </td><td>0.1743331        </td></tr>\n",
       "\t<tr><td>iPS_cells        </td><td>0.2270651        </td></tr>\n",
       "\t<tr><td>Plasma_cell      </td><td>0.2281025        </td></tr>\n",
       "</tbody>\n",
       "</table>\n"
      ],
      "text/latex": [
       "\\begin{tabular}{r|ll}\n",
       " cell\\_type & V1\\\\\n",
       "\\hline\n",
       "\t Epithelial\\_cells  & 0.1890629          \\\\\n",
       "\t T\\_cells           & 0.1311824          \\\\\n",
       "\t Fibroblasts       & 0.1691304        \\\\\n",
       "\t Macrophage        & 0.1658526        \\\\\n",
       "\t B\\_cell            & 0.1338899          \\\\\n",
       "\t NK\\_cell           & 0.1293151          \\\\\n",
       "\t Endothelial\\_cells & 0.1566112          \\\\\n",
       "\t Monocyte          & 0.1743331        \\\\\n",
       "\t iPS\\_cells         & 0.2270651          \\\\\n",
       "\t Plasma\\_cell       & 0.2281025          \\\\\n",
       "\\end{tabular}\n"
      ],
      "text/markdown": [
       "\n",
       "| cell_type | V1 |\n",
       "|---|---|\n",
       "| Epithelial_cells  | 0.1890629         |\n",
       "| T_cells           | 0.1311824         |\n",
       "| Fibroblasts       | 0.1691304         |\n",
       "| Macrophage        | 0.1658526         |\n",
       "| B_cell            | 0.1338899         |\n",
       "| NK_cell           | 0.1293151         |\n",
       "| Endothelial_cells | 0.1566112         |\n",
       "| Monocyte          | 0.1743331         |\n",
       "| iPS_cells         | 0.2270651         |\n",
       "| Plasma_cell       | 0.2281025         |\n",
       "\n"
      ],
      "text/plain": [
       "   cell_type         V1       \n",
       "1  Epithelial_cells  0.1890629\n",
       "2  T_cells           0.1311824\n",
       "3  Fibroblasts       0.1691304\n",
       "4  Macrophage        0.1658526\n",
       "5  B_cell            0.1338899\n",
       "6  NK_cell           0.1293151\n",
       "7  Endothelial_cells 0.1566112\n",
       "8  Monocyte          0.1743331\n",
       "9  iPS_cells         0.2270651\n",
       "10 Plasma_cell       0.2281025"
      ]
     },
     "metadata": {},
     "output_type": "display_data"
    }
   ],
   "source": [
    "combined_weights_red[,mean(mean,na.rm = TRUE),by=\"cell_type\"]"
   ]
  },
  {
   "cell_type": "code",
   "execution_count": 21,
   "metadata": {},
   "outputs": [
    {
     "data": {
      "text/html": [
       "<table>\n",
       "<thead><tr><th scope=col>cell_type</th><th scope=col>V1</th></tr></thead>\n",
       "<tbody>\n",
       "\t<tr><td>Epithelial_cells </td><td>0.5687985        </td></tr>\n",
       "\t<tr><td>T_cells          </td><td>0.5301812        </td></tr>\n",
       "\t<tr><td>Fibroblasts      </td><td>0.4267968        </td></tr>\n",
       "\t<tr><td>Macrophage       </td><td>0.6463019        </td></tr>\n",
       "\t<tr><td>B_cell           </td><td>0.4508271        </td></tr>\n",
       "\t<tr><td>NK_cell          </td><td>0.5266696        </td></tr>\n",
       "\t<tr><td>Endothelial_cells</td><td>0.6040248        </td></tr>\n",
       "\t<tr><td>Monocyte         </td><td>0.5871008        </td></tr>\n",
       "\t<tr><td>iPS_cells        </td><td>0.5700640        </td></tr>\n",
       "\t<tr><td>Plasma_cell      </td><td>0.2219156        </td></tr>\n",
       "</tbody>\n",
       "</table>\n"
      ],
      "text/latex": [
       "\\begin{tabular}{r|ll}\n",
       " cell\\_type & V1\\\\\n",
       "\\hline\n",
       "\t Epithelial\\_cells  & 0.5687985          \\\\\n",
       "\t T\\_cells           & 0.5301812          \\\\\n",
       "\t Fibroblasts       & 0.4267968        \\\\\n",
       "\t Macrophage        & 0.6463019        \\\\\n",
       "\t B\\_cell            & 0.4508271          \\\\\n",
       "\t NK\\_cell           & 0.5266696          \\\\\n",
       "\t Endothelial\\_cells & 0.6040248          \\\\\n",
       "\t Monocyte          & 0.5871008        \\\\\n",
       "\t iPS\\_cells         & 0.5700640          \\\\\n",
       "\t Plasma\\_cell       & 0.2219156          \\\\\n",
       "\\end{tabular}\n"
      ],
      "text/markdown": [
       "\n",
       "| cell_type | V1 |\n",
       "|---|---|\n",
       "| Epithelial_cells  | 0.5687985         |\n",
       "| T_cells           | 0.5301812         |\n",
       "| Fibroblasts       | 0.4267968         |\n",
       "| Macrophage        | 0.6463019         |\n",
       "| B_cell            | 0.4508271         |\n",
       "| NK_cell           | 0.5266696         |\n",
       "| Endothelial_cells | 0.6040248         |\n",
       "| Monocyte          | 0.5871008         |\n",
       "| iPS_cells         | 0.5700640         |\n",
       "| Plasma_cell       | 0.2219156         |\n",
       "\n"
      ],
      "text/plain": [
       "   cell_type         V1       \n",
       "1  Epithelial_cells  0.5687985\n",
       "2  T_cells           0.5301812\n",
       "3  Fibroblasts       0.4267968\n",
       "4  Macrophage        0.6463019\n",
       "5  B_cell            0.4508271\n",
       "6  NK_cell           0.5266696\n",
       "7  Endothelial_cells 0.6040248\n",
       "8  Monocyte          0.5871008\n",
       "9  iPS_cells         0.5700640\n",
       "10 Plasma_cell       0.2219156"
      ]
     },
     "metadata": {},
     "output_type": "display_data"
    }
   ],
   "source": [
    "combined_weights_red[,cor(cor,mse,use=\"complete\"),by=\"cell_type\"]"
   ]
  },
  {
   "cell_type": "code",
   "execution_count": 9,
   "metadata": {},
   "outputs": [
    {
     "data": {
      "text/html": [
       "<table>\n",
       "<thead><tr><th scope=col>cell_type</th><th scope=col>V1</th></tr></thead>\n",
       "<tbody>\n",
       "\t<tr><td>Epithelial_cells </td><td>0.5289217        </td></tr>\n",
       "\t<tr><td>T_cells          </td><td>0.6810107        </td></tr>\n",
       "\t<tr><td>Fibroblasts      </td><td>0.3160820        </td></tr>\n",
       "\t<tr><td>Macrophage       </td><td>0.6692378        </td></tr>\n",
       "\t<tr><td>B_cell           </td><td>0.6658627        </td></tr>\n",
       "\t<tr><td>NK_cell          </td><td>0.6132722        </td></tr>\n",
       "\t<tr><td>Endothelial_cells</td><td>0.6058857        </td></tr>\n",
       "\t<tr><td>Monocyte         </td><td>0.6538015        </td></tr>\n",
       "\t<tr><td>iPS_cells        </td><td>0.6551502        </td></tr>\n",
       "\t<tr><td>Plasma_cell      </td><td>0.5425758        </td></tr>\n",
       "</tbody>\n",
       "</table>\n"
      ],
      "text/latex": [
       "\\begin{tabular}{r|ll}\n",
       " cell\\_type & V1\\\\\n",
       "\\hline\n",
       "\t Epithelial\\_cells  & 0.5289217          \\\\\n",
       "\t T\\_cells           & 0.6810107          \\\\\n",
       "\t Fibroblasts       & 0.3160820        \\\\\n",
       "\t Macrophage        & 0.6692378        \\\\\n",
       "\t B\\_cell            & 0.6658627          \\\\\n",
       "\t NK\\_cell           & 0.6132722          \\\\\n",
       "\t Endothelial\\_cells & 0.6058857          \\\\\n",
       "\t Monocyte          & 0.6538015        \\\\\n",
       "\t iPS\\_cells         & 0.6551502          \\\\\n",
       "\t Plasma\\_cell       & 0.5425758          \\\\\n",
       "\\end{tabular}\n"
      ],
      "text/markdown": [
       "\n",
       "| cell_type | V1 |\n",
       "|---|---|\n",
       "| Epithelial_cells  | 0.5289217         |\n",
       "| T_cells           | 0.6810107         |\n",
       "| Fibroblasts       | 0.3160820         |\n",
       "| Macrophage        | 0.6692378         |\n",
       "| B_cell            | 0.6658627         |\n",
       "| NK_cell           | 0.6132722         |\n",
       "| Endothelial_cells | 0.6058857         |\n",
       "| Monocyte          | 0.6538015         |\n",
       "| iPS_cells         | 0.6551502         |\n",
       "| Plasma_cell       | 0.5425758         |\n",
       "\n"
      ],
      "text/plain": [
       "   cell_type         V1       \n",
       "1  Epithelial_cells  0.5289217\n",
       "2  T_cells           0.6810107\n",
       "3  Fibroblasts       0.3160820\n",
       "4  Macrophage        0.6692378\n",
       "5  B_cell            0.6658627\n",
       "6  NK_cell           0.6132722\n",
       "7  Endothelial_cells 0.6058857\n",
       "8  Monocyte          0.6538015\n",
       "9  iPS_cells         0.6551502\n",
       "10 Plasma_cell       0.5425758"
      ]
     },
     "metadata": {},
     "output_type": "display_data"
    }
   ],
   "source": [
    "combined_weights_red[,cor(cor,mean,use=\"complete\"),by=\"cell_type\"]"
   ]
  },
  {
   "cell_type": "code",
   "execution_count": 11,
   "metadata": {},
   "outputs": [
    {
     "data": {
      "text/html": [
       "<table>\n",
       "<thead><tr><th scope=col>cell_type</th><th scope=col>pred_gene</th><th scope=col>cor</th><th scope=col>pval</th><th scope=col>mse</th><th scope=col>ntrain</th><th scope=col>ntest</th><th scope=col>nsame</th><th scope=col>N_train</th></tr></thead>\n",
       "<tbody>\n",
       "\t<tr><td>Epithelial_cells</td><td>ADIRF           </td><td>0.8831615       </td><td> 0.000000e+00   </td><td>0.39698493      </td><td>1000            </td><td>1000            </td><td>0               </td><td>4778            </td></tr>\n",
       "\t<tr><td>Epithelial_cells</td><td>AGTR1           </td><td>0.8043215       </td><td>7.538463e-228   </td><td>0.06551059      </td><td>1000            </td><td>1000            </td><td>0               </td><td>4778            </td></tr>\n",
       "\t<tr><td>Epithelial_cells</td><td>AMD1            </td><td>0.8080529       </td><td>1.414450e-231   </td><td>0.25589344      </td><td>1000            </td><td>1000            </td><td>0               </td><td>4775            </td></tr>\n",
       "\t<tr><td>Epithelial_cells</td><td>AQP5            </td><td>0.8153922       </td><td>3.764469e-239   </td><td>0.21705197      </td><td>1000            </td><td>1000            </td><td>0               </td><td>4778            </td></tr>\n",
       "\t<tr><td>Epithelial_cells</td><td>AZGP1           </td><td>0.8115352       </td><td>3.962944e-235   </td><td>0.68445404      </td><td>1000            </td><td>1000            </td><td>0               </td><td>4778            </td></tr>\n",
       "\t<tr><td>Epithelial_cells</td><td>BASP1           </td><td>0.8568363       </td><td>2.227688e-289   </td><td>0.24121033      </td><td>1000            </td><td>1000            </td><td>0               </td><td>4778            </td></tr>\n",
       "\t<tr><td>Epithelial_cells</td><td>BPIFB2          </td><td>0.8551233       </td><td>5.326251e-287   </td><td>0.16080438      </td><td>1000            </td><td>1000            </td><td>0               </td><td>4778            </td></tr>\n",
       "\t<tr><td>Epithelial_cells</td><td>BTG2            </td><td>0.8306702       </td><td>4.603387e-256   </td><td>0.49813508      </td><td>1000            </td><td>1000            </td><td>0               </td><td>4778            </td></tr>\n",
       "\t<tr><td>Epithelial_cells</td><td>CALML5          </td><td>0.9454066       </td><td> 0.000000e+00   </td><td>0.25622010      </td><td>1000            </td><td>1000            </td><td>0               </td><td>4778            </td></tr>\n",
       "\t<tr><td>Epithelial_cells</td><td>CARTPT          </td><td>0.9635517       </td><td> 0.000000e+00   </td><td>0.11230890      </td><td>1000            </td><td>1000            </td><td>0               </td><td>4778            </td></tr>\n",
       "\t<tr><td>...</td><td>...</td><td>...</td><td>...</td><td>...</td><td>...</td><td>...</td><td>...</td><td>...</td></tr>\n",
       "\t<tr><td>Epithelial_cells</td><td>SH3BGRL         </td><td>0.8185858       </td><td>1.489668e-242   </td><td>0.4632675       </td><td>1000            </td><td>1000            </td><td>0               </td><td>4778            </td></tr>\n",
       "\t<tr><td>Epithelial_cells</td><td>SLPI            </td><td>0.8030107       </td><td>1.470125e-226   </td><td>0.5616794       </td><td>1000            </td><td>1000            </td><td>0               </td><td>4778            </td></tr>\n",
       "\t<tr><td>Epithelial_cells</td><td>SOX4            </td><td>0.8085869       </td><td>4.078928e-232   </td><td>0.5337560       </td><td>1000            </td><td>1000            </td><td>0               </td><td>4778            </td></tr>\n",
       "\t<tr><td>Epithelial_cells</td><td>TFF1            </td><td>0.8390378       </td><td>4.615602e-266   </td><td>0.5869103       </td><td>1000            </td><td>1000            </td><td>0               </td><td>4778            </td></tr>\n",
       "\t<tr><td>Epithelial_cells</td><td>TFF2            </td><td>0.8886630       </td><td> 0.000000e+00   </td><td>0.1836805       </td><td>1000            </td><td>1000            </td><td>0               </td><td>4778            </td></tr>\n",
       "\t<tr><td>Epithelial_cells</td><td>TFF3            </td><td>0.9089030       </td><td> 0.000000e+00   </td><td>0.6314872       </td><td>1000            </td><td>1000            </td><td>0               </td><td>4778            </td></tr>\n",
       "\t<tr><td>Epithelial_cells</td><td>TMSB10          </td><td>0.8577410       </td><td>1.199968e-290   </td><td>0.4615277       </td><td>1000            </td><td>1000            </td><td>0               </td><td>4778            </td></tr>\n",
       "\t<tr><td>Epithelial_cells</td><td>TSPAN8          </td><td>0.9038307       </td><td> 0.000000e+00   </td><td>0.2403411       </td><td>1000            </td><td>1000            </td><td>0               </td><td>4778            </td></tr>\n",
       "\t<tr><td>Epithelial_cells</td><td>TTYH1           </td><td>0.9029242       </td><td> 0.000000e+00   </td><td>0.1564434       </td><td>1000            </td><td>1000            </td><td>0               </td><td>4778            </td></tr>\n",
       "\t<tr><td>Epithelial_cells</td><td>XBP1            </td><td>0.8141731       </td><td>7.198107e-238   </td><td>0.5474104       </td><td>1000            </td><td>1000            </td><td>0               </td><td>4777            </td></tr>\n",
       "</tbody>\n",
       "</table>\n"
      ],
      "text/latex": [
       "\\begin{tabular}{r|lllllllll}\n",
       " cell\\_type & pred\\_gene & cor & pval & mse & ntrain & ntest & nsame & N\\_train\\\\\n",
       "\\hline\n",
       "\t Epithelial\\_cells & ADIRF              & 0.8831615          &  0.000000e+00      & 0.39698493         & 1000               & 1000               & 0                  & 4778              \\\\\n",
       "\t Epithelial\\_cells & AGTR1              & 0.8043215          & 7.538463e-228      & 0.06551059         & 1000               & 1000               & 0                  & 4778              \\\\\n",
       "\t Epithelial\\_cells & AMD1               & 0.8080529          & 1.414450e-231      & 0.25589344         & 1000               & 1000               & 0                  & 4775              \\\\\n",
       "\t Epithelial\\_cells & AQP5               & 0.8153922          & 3.764469e-239      & 0.21705197         & 1000               & 1000               & 0                  & 4778              \\\\\n",
       "\t Epithelial\\_cells & AZGP1              & 0.8115352          & 3.962944e-235      & 0.68445404         & 1000               & 1000               & 0                  & 4778              \\\\\n",
       "\t Epithelial\\_cells & BASP1              & 0.8568363          & 2.227688e-289      & 0.24121033         & 1000               & 1000               & 0                  & 4778              \\\\\n",
       "\t Epithelial\\_cells & BPIFB2             & 0.8551233          & 5.326251e-287      & 0.16080438         & 1000               & 1000               & 0                  & 4778              \\\\\n",
       "\t Epithelial\\_cells & BTG2               & 0.8306702          & 4.603387e-256      & 0.49813508         & 1000               & 1000               & 0                  & 4778              \\\\\n",
       "\t Epithelial\\_cells & CALML5             & 0.9454066          &  0.000000e+00      & 0.25622010         & 1000               & 1000               & 0                  & 4778              \\\\\n",
       "\t Epithelial\\_cells & CARTPT             & 0.9635517          &  0.000000e+00      & 0.11230890         & 1000               & 1000               & 0                  & 4778              \\\\\n",
       "\t ... & ... & ... & ... & ... & ... & ... & ... & ...\\\\\n",
       "\t Epithelial\\_cells & SH3BGRL            & 0.8185858          & 1.489668e-242      & 0.4632675          & 1000               & 1000               & 0                  & 4778              \\\\\n",
       "\t Epithelial\\_cells & SLPI               & 0.8030107          & 1.470125e-226      & 0.5616794          & 1000               & 1000               & 0                  & 4778              \\\\\n",
       "\t Epithelial\\_cells & SOX4               & 0.8085869          & 4.078928e-232      & 0.5337560          & 1000               & 1000               & 0                  & 4778              \\\\\n",
       "\t Epithelial\\_cells & TFF1               & 0.8390378          & 4.615602e-266      & 0.5869103          & 1000               & 1000               & 0                  & 4778              \\\\\n",
       "\t Epithelial\\_cells & TFF2               & 0.8886630          &  0.000000e+00      & 0.1836805          & 1000               & 1000               & 0                  & 4778              \\\\\n",
       "\t Epithelial\\_cells & TFF3               & 0.9089030          &  0.000000e+00      & 0.6314872          & 1000               & 1000               & 0                  & 4778              \\\\\n",
       "\t Epithelial\\_cells & TMSB10             & 0.8577410          & 1.199968e-290      & 0.4615277          & 1000               & 1000               & 0                  & 4778              \\\\\n",
       "\t Epithelial\\_cells & TSPAN8             & 0.9038307          &  0.000000e+00      & 0.2403411          & 1000               & 1000               & 0                  & 4778              \\\\\n",
       "\t Epithelial\\_cells & TTYH1              & 0.9029242          &  0.000000e+00      & 0.1564434          & 1000               & 1000               & 0                  & 4778              \\\\\n",
       "\t Epithelial\\_cells & XBP1               & 0.8141731          & 7.198107e-238      & 0.5474104          & 1000               & 1000               & 0                  & 4777              \\\\\n",
       "\\end{tabular}\n"
      ],
      "text/markdown": [
       "\n",
       "| cell_type | pred_gene | cor | pval | mse | ntrain | ntest | nsame | N_train |\n",
       "|---|---|---|---|---|---|---|---|---|\n",
       "| Epithelial_cells | ADIRF            | 0.8831615        |  0.000000e+00    | 0.39698493       | 1000             | 1000             | 0                | 4778             |\n",
       "| Epithelial_cells | AGTR1            | 0.8043215        | 7.538463e-228    | 0.06551059       | 1000             | 1000             | 0                | 4778             |\n",
       "| Epithelial_cells | AMD1             | 0.8080529        | 1.414450e-231    | 0.25589344       | 1000             | 1000             | 0                | 4775             |\n",
       "| Epithelial_cells | AQP5             | 0.8153922        | 3.764469e-239    | 0.21705197       | 1000             | 1000             | 0                | 4778             |\n",
       "| Epithelial_cells | AZGP1            | 0.8115352        | 3.962944e-235    | 0.68445404       | 1000             | 1000             | 0                | 4778             |\n",
       "| Epithelial_cells | BASP1            | 0.8568363        | 2.227688e-289    | 0.24121033       | 1000             | 1000             | 0                | 4778             |\n",
       "| Epithelial_cells | BPIFB2           | 0.8551233        | 5.326251e-287    | 0.16080438       | 1000             | 1000             | 0                | 4778             |\n",
       "| Epithelial_cells | BTG2             | 0.8306702        | 4.603387e-256    | 0.49813508       | 1000             | 1000             | 0                | 4778             |\n",
       "| Epithelial_cells | CALML5           | 0.9454066        |  0.000000e+00    | 0.25622010       | 1000             | 1000             | 0                | 4778             |\n",
       "| Epithelial_cells | CARTPT           | 0.9635517        |  0.000000e+00    | 0.11230890       | 1000             | 1000             | 0                | 4778             |\n",
       "| ... | ... | ... | ... | ... | ... | ... | ... | ... |\n",
       "| Epithelial_cells | SH3BGRL          | 0.8185858        | 1.489668e-242    | 0.4632675        | 1000             | 1000             | 0                | 4778             |\n",
       "| Epithelial_cells | SLPI             | 0.8030107        | 1.470125e-226    | 0.5616794        | 1000             | 1000             | 0                | 4778             |\n",
       "| Epithelial_cells | SOX4             | 0.8085869        | 4.078928e-232    | 0.5337560        | 1000             | 1000             | 0                | 4778             |\n",
       "| Epithelial_cells | TFF1             | 0.8390378        | 4.615602e-266    | 0.5869103        | 1000             | 1000             | 0                | 4778             |\n",
       "| Epithelial_cells | TFF2             | 0.8886630        |  0.000000e+00    | 0.1836805        | 1000             | 1000             | 0                | 4778             |\n",
       "| Epithelial_cells | TFF3             | 0.9089030        |  0.000000e+00    | 0.6314872        | 1000             | 1000             | 0                | 4778             |\n",
       "| Epithelial_cells | TMSB10           | 0.8577410        | 1.199968e-290    | 0.4615277        | 1000             | 1000             | 0                | 4778             |\n",
       "| Epithelial_cells | TSPAN8           | 0.9038307        |  0.000000e+00    | 0.2403411        | 1000             | 1000             | 0                | 4778             |\n",
       "| Epithelial_cells | TTYH1            | 0.9029242        |  0.000000e+00    | 0.1564434        | 1000             | 1000             | 0                | 4778             |\n",
       "| Epithelial_cells | XBP1             | 0.8141731        | 7.198107e-238    | 0.5474104        | 1000             | 1000             | 0                | 4777             |\n",
       "\n"
      ],
      "text/plain": [
       "    cell_type        pred_gene cor       pval          mse        ntrain ntest\n",
       "1   Epithelial_cells ADIRF     0.8831615  0.000000e+00 0.39698493 1000   1000 \n",
       "2   Epithelial_cells AGTR1     0.8043215 7.538463e-228 0.06551059 1000   1000 \n",
       "3   Epithelial_cells AMD1      0.8080529 1.414450e-231 0.25589344 1000   1000 \n",
       "4   Epithelial_cells AQP5      0.8153922 3.764469e-239 0.21705197 1000   1000 \n",
       "5   Epithelial_cells AZGP1     0.8115352 3.962944e-235 0.68445404 1000   1000 \n",
       "6   Epithelial_cells BASP1     0.8568363 2.227688e-289 0.24121033 1000   1000 \n",
       "7   Epithelial_cells BPIFB2    0.8551233 5.326251e-287 0.16080438 1000   1000 \n",
       "8   Epithelial_cells BTG2      0.8306702 4.603387e-256 0.49813508 1000   1000 \n",
       "9   Epithelial_cells CALML5    0.9454066  0.000000e+00 0.25622010 1000   1000 \n",
       "10  Epithelial_cells CARTPT    0.9635517  0.000000e+00 0.11230890 1000   1000 \n",
       "... ...              ...       ...       ...           ...        ...    ...  \n",
       "61  Epithelial_cells SH3BGRL   0.8185858 1.489668e-242 0.4632675  1000   1000 \n",
       "62  Epithelial_cells SLPI      0.8030107 1.470125e-226 0.5616794  1000   1000 \n",
       "63  Epithelial_cells SOX4      0.8085869 4.078928e-232 0.5337560  1000   1000 \n",
       "64  Epithelial_cells TFF1      0.8390378 4.615602e-266 0.5869103  1000   1000 \n",
       "65  Epithelial_cells TFF2      0.8886630  0.000000e+00 0.1836805  1000   1000 \n",
       "66  Epithelial_cells TFF3      0.9089030  0.000000e+00 0.6314872  1000   1000 \n",
       "67  Epithelial_cells TMSB10    0.8577410 1.199968e-290 0.4615277  1000   1000 \n",
       "68  Epithelial_cells TSPAN8    0.9038307  0.000000e+00 0.2403411  1000   1000 \n",
       "69  Epithelial_cells TTYH1     0.9029242  0.000000e+00 0.1564434  1000   1000 \n",
       "70  Epithelial_cells XBP1      0.8141731 7.198107e-238 0.5474104  1000   1000 \n",
       "    nsame N_train\n",
       "1   0     4778   \n",
       "2   0     4778   \n",
       "3   0     4775   \n",
       "4   0     4778   \n",
       "5   0     4778   \n",
       "6   0     4778   \n",
       "7   0     4778   \n",
       "8   0     4778   \n",
       "9   0     4778   \n",
       "10  0     4778   \n",
       "... ...   ...    \n",
       "61  0     4778   \n",
       "62  0     4778   \n",
       "63  0     4778   \n",
       "64  0     4778   \n",
       "65  0     4778   \n",
       "66  0     4778   \n",
       "67  0     4778   \n",
       "68  0     4778   \n",
       "69  0     4778   \n",
       "70  0     4777   "
      ]
     },
     "metadata": {},
     "output_type": "display_data"
    }
   ],
   "source": [
    "combined_weights_red[cell_type==\"Epithelial_cells\"&cor>0.8]"
   ]
  },
  {
   "cell_type": "code",
   "execution_count": 23,
   "metadata": {},
   "outputs": [
    {
     "data": {
      "text/html": [
       "<table>\n",
       "<thead><tr><th scope=col>cell_type</th><th scope=col>pred_gene</th><th scope=col>cor</th><th scope=col>pval</th><th scope=col>mse</th><th scope=col>ntrain</th><th scope=col>ntest</th><th scope=col>nsame</th><th scope=col>N_train</th></tr></thead>\n",
       "<tbody>\n",
       "\t<tr><td>Epithelial_cells</td><td>GAPDH           </td><td>0.7384163       </td><td>5.728827e-173   </td><td>0.2422871       </td><td>1000            </td><td>1000            </td><td>0               </td><td>4778            </td></tr>\n",
       "</tbody>\n",
       "</table>\n"
      ],
      "text/latex": [
       "\\begin{tabular}{r|lllllllll}\n",
       " cell\\_type & pred\\_gene & cor & pval & mse & ntrain & ntest & nsame & N\\_train\\\\\n",
       "\\hline\n",
       "\t Epithelial\\_cells & GAPDH              & 0.7384163          & 5.728827e-173      & 0.2422871          & 1000               & 1000               & 0                  & 4778              \\\\\n",
       "\\end{tabular}\n"
      ],
      "text/markdown": [
       "\n",
       "| cell_type | pred_gene | cor | pval | mse | ntrain | ntest | nsame | N_train |\n",
       "|---|---|---|---|---|---|---|---|---|\n",
       "| Epithelial_cells | GAPDH            | 0.7384163        | 5.728827e-173    | 0.2422871        | 1000             | 1000             | 0                | 4778             |\n",
       "\n"
      ],
      "text/plain": [
       "  cell_type        pred_gene cor       pval          mse       ntrain ntest\n",
       "1 Epithelial_cells GAPDH     0.7384163 5.728827e-173 0.2422871 1000   1000 \n",
       "  nsame N_train\n",
       "1 0     4778   "
      ]
     },
     "metadata": {},
     "output_type": "display_data"
    }
   ],
   "source": [
    "combined_weights_red[cell_type==\"Epithelial_cells\"&pred_gene==\"GAPDH\"]"
   ]
  },
  {
   "cell_type": "code",
   "execution_count": 30,
   "metadata": {},
   "outputs": [
    {
     "data": {
      "text/html": [
       "<table>\n",
       "<thead><tr><th scope=col>cell_type</th><th scope=col>N</th></tr></thead>\n",
       "<tbody>\n",
       "\t<tr><td>Epithelial_cells </td><td> 175             </td></tr>\n",
       "\t<tr><td>T_cells          </td><td>  11             </td></tr>\n",
       "\t<tr><td>Fibroblasts      </td><td>5025             </td></tr>\n",
       "\t<tr><td>Macrophage       </td><td>  31             </td></tr>\n",
       "\t<tr><td>B_cell           </td><td>   6             </td></tr>\n",
       "\t<tr><td>NK_cell          </td><td>  17             </td></tr>\n",
       "\t<tr><td>Endothelial_cells</td><td>  32             </td></tr>\n",
       "\t<tr><td>Monocyte         </td><td>  39             </td></tr>\n",
       "\t<tr><td>iPS_cells        </td><td>  51             </td></tr>\n",
       "\t<tr><td>Plasma_cell      </td><td>1232             </td></tr>\n",
       "</tbody>\n",
       "</table>\n"
      ],
      "text/latex": [
       "\\begin{tabular}{r|ll}\n",
       " cell\\_type & N\\\\\n",
       "\\hline\n",
       "\t Epithelial\\_cells  &  175               \\\\\n",
       "\t T\\_cells           &   11               \\\\\n",
       "\t Fibroblasts       & 5025             \\\\\n",
       "\t Macrophage        &   31             \\\\\n",
       "\t B\\_cell            &    6               \\\\\n",
       "\t NK\\_cell           &   17               \\\\\n",
       "\t Endothelial\\_cells &   32               \\\\\n",
       "\t Monocyte          &   39             \\\\\n",
       "\t iPS\\_cells         &   51               \\\\\n",
       "\t Plasma\\_cell       & 1232               \\\\\n",
       "\\end{tabular}\n"
      ],
      "text/markdown": [
       "\n",
       "| cell_type | N |\n",
       "|---|---|\n",
       "| Epithelial_cells  |  175              |\n",
       "| T_cells           |   11              |\n",
       "| Fibroblasts       | 5025              |\n",
       "| Macrophage        |   31              |\n",
       "| B_cell            |    6              |\n",
       "| NK_cell           |   17              |\n",
       "| Endothelial_cells |   32              |\n",
       "| Monocyte          |   39              |\n",
       "| iPS_cells         |   51              |\n",
       "| Plasma_cell       | 1232              |\n",
       "\n"
      ],
      "text/plain": [
       "   cell_type         N   \n",
       "1  Epithelial_cells   175\n",
       "2  T_cells             11\n",
       "3  Fibroblasts       5025\n",
       "4  Macrophage          31\n",
       "5  B_cell               6\n",
       "6  NK_cell             17\n",
       "7  Endothelial_cells   32\n",
       "8  Monocyte            39\n",
       "9  iPS_cells           51\n",
       "10 Plasma_cell       1232"
      ]
     },
     "metadata": {},
     "output_type": "display_data"
    }
   ],
   "source": [
    "combined_weights_red[cor>0.7,.N,by=\"cell_type\"]"
   ]
  },
  {
   "cell_type": "code",
   "execution_count": 20,
   "metadata": {},
   "outputs": [],
   "source": [
    "good=combined_weights_red[cor>0.7,.N,by=\"pred_gene\"]"
   ]
  },
  {
   "cell_type": "code",
   "execution_count": 26,
   "metadata": {},
   "outputs": [
    {
     "data": {
      "text/plain": [
       "\n",
       "   1    2    3    4    5    6    8    9   10 \n",
       "5460  436   41   15    7    1    3    1    3 "
      ]
     },
     "metadata": {},
     "output_type": "display_data"
    }
   ],
   "source": [
    "table(good$N)"
   ]
  },
  {
   "cell_type": "code",
   "execution_count": 29,
   "metadata": {},
   "outputs": [
    {
     "data": {
      "text/html": [
       "<table>\n",
       "<thead><tr><th scope=col>pred_gene</th><th scope=col>N</th></tr></thead>\n",
       "<tbody>\n",
       "\t<tr><td>MT-CO2</td><td>8     </td></tr>\n",
       "\t<tr><td>MT-ND1</td><td>8     </td></tr>\n",
       "\t<tr><td>MT-ND3</td><td>8     </td></tr>\n",
       "</tbody>\n",
       "</table>\n"
      ],
      "text/latex": [
       "\\begin{tabular}{r|ll}\n",
       " pred\\_gene & N\\\\\n",
       "\\hline\n",
       "\t MT-CO2 & 8     \\\\\n",
       "\t MT-ND1 & 8     \\\\\n",
       "\t MT-ND3 & 8     \\\\\n",
       "\\end{tabular}\n"
      ],
      "text/markdown": [
       "\n",
       "| pred_gene | N |\n",
       "|---|---|\n",
       "| MT-CO2 | 8      |\n",
       "| MT-ND1 | 8      |\n",
       "| MT-ND3 | 8      |\n",
       "\n"
      ],
      "text/plain": [
       "  pred_gene N\n",
       "1 MT-CO2    8\n",
       "2 MT-ND1    8\n",
       "3 MT-ND3    8"
      ]
     },
     "metadata": {},
     "output_type": "display_data"
    }
   ],
   "source": [
    "good[N==8]"
   ]
  },
  {
   "cell_type": "code",
   "execution_count": null,
   "metadata": {},
   "outputs": [],
   "source": []
  }
 ],
 "metadata": {
  "kernelspec": {
   "display_name": "R",
   "language": "R",
   "name": "ir"
  },
  "language_info": {
   "codemirror_mode": "r",
   "file_extension": ".r",
   "mimetype": "text/x-r-source",
   "name": "R",
   "pygments_lexer": "r",
   "version": "3.5.0"
  }
 },
 "nbformat": 4,
 "nbformat_minor": 2
}
