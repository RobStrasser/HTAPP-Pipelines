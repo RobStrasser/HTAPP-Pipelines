{
 "cells": [
  {
   "cell_type": "code",
   "execution_count": 1,
   "metadata": {},
   "outputs": [
    {
     "name": "stderr",
     "output_type": "stream",
     "text": [
      "Registered S3 method overwritten by 'R.oo':\n",
      "  method        from       \n",
      "  throw.default R.methodsS3\n",
      "Loading combined annotation: annot\n"
     ]
    }
   ],
   "source": [
    "source(\"/secure/projects/HTAPP_MBC/src/init_phase2.R\")"
   ]
  },
  {
   "cell_type": "code",
   "execution_count": 2,
   "metadata": {},
   "outputs": [],
   "source": [
    "samples=c(unique(sample_sheet$sampleid))"
   ]
  },
  {
   "cell_type": "markdown",
   "metadata": {},
   "source": [
    "### Display qc plots"
   ]
  },
  {
   "cell_type": "code",
   "execution_count": 3,
   "metadata": {},
   "outputs": [
    {
     "name": "stderr",
     "output_type": "stream",
     "text": [
      "\n",
      "********************************************************\n",
      "Note: As of version 1.0.0, cowplot does not change the\n",
      "  default ggplot2 theme anymore. To recover the previous\n",
      "  behavior, execute:\n",
      "  theme_set(theme_cowplot())\n",
      "********************************************************\n",
      "\n",
      "Linking to ImageMagick 7.0.9.17\n",
      "Enabled features: cairo, fontconfig, freetype, fftw, pango, rsvg, webp, x11\n",
      "Disabled features: ghostscript, lcms\n"
     ]
    }
   ],
   "source": [
    "library(png)\n",
    "library(cowplot)\n",
    "library(magick)"
   ]
  },
  {
   "cell_type": "code",
   "execution_count": 4,
   "metadata": {},
   "outputs": [
    {
     "name": "stdout",
     "output_type": "stream",
     "text": [
      "[1] \"HTAPP-211-SMP-6751\"\n",
      "[1] \"HTAPP-213-SMP-6752\"\n",
      "[1] \"HTAPP-223-SMP-6755\"\n",
      "[1] \"HTAPP-223-SMP-7537\"\n",
      "[1] \"HTAPP-225-SMP-6756\"\n",
      "[1] \"HTAPP-226-SMP-6757\"\n",
      "[1] \"HTAPP-231-SMP-6758\"\n",
      "[1] \"HTAPP-232-SMP-6759\"\n",
      "[1] \"HTAPP-254-SMP-571\"\n",
      "[1] \"HTAPP-262-SMP-602\"\n",
      "[1] \"HTAPP-262-SMP-610\"\n",
      "[1] \"HTAPP-285-SMP-751\"\n",
      "[1] \"HTAPP-309-SMP-871\"\n",
      "[1] \"HTAPP-313-SMP-932\"\n",
      "[1] \"HTAPP-321-SMP-1021\"\n",
      "[1] \"HTAPP-330-SMP-1082\"\n",
      "[1] \"HTAPP-364-SMP-1321\"\n",
      "[1] \"HTAPP-382-SMP-1441\"\n",
      "[1] \"HTAPP-394-SMP-1561\"\n",
      "[1] \"HTAPP-414-SMP-1681\"\n",
      "[1] \"HTAPP-423-SMP-1741\"\n",
      "[1] \"HTAPP-425-SMP-1771\"\n",
      "[1] \"HTAPP-514-SMP-6760\"\n",
      "[1] \"HTAPP-516-SMP-6761\"\n",
      "[1] \"HTAPP-519-SMP-6762\"\n",
      "[1] \"HTAPP-521-SMP-6763\"\n",
      "[1] \"HTAPP-525-SMP-6765\"\n",
      "[1] \"HTAPP-562-SMP-2581\"\n",
      "[1] \"HTAPP-586-SMP-8599\"\n",
      "[1] \"HTAPP-589-SMP-2851\"\n",
      "[1] \"HTAPP-589-SMP-2860\"\n",
      "[1] \"HTAPP-600-SMP-2941\"\n",
      "[1] \"HTAPP-611-SMP-3062\"\n",
      "[1] \"HTAPP-627-SMP-3242\"\n",
      "[1] \"HTAPP-649-SMP-3422\"\n",
      "[1] \"HTAPP-662-SMP-3602\"\n",
      "[1] \"HTAPP-735-SMP-3841\"\n",
      "[1] \"HTAPP-745-SMP-3961\"\n",
      "[1] \"HTAPP-749-SMP-3991\"\n",
      "[1] \"HTAPP-752-SMP-4051\"\n",
      "[1] \"HTAPP-759-SMP-8359\"\n",
      "[1] \"HTAPP-783-SMP-4081\"\n",
      "[1] \"HTAPP-806-SMP-6789\"\n",
      "[1] \"HTAPP-806-SMP-6800\"\n",
      "[1] \"HTAPP-812-SMP-8239\"\n",
      "[1] \"HTAPP-814-SMP-6879\"\n",
      "[1] \"HTAPP-835-SMP-6999\"\n",
      "[1] \"HTAPP-851-SMP-4351\"\n",
      "[1] \"HTAPP-853-SMP-4381\"\n",
      "[1] \"HTAPP-861-SMP-7028\"\n",
      "[1] \"HTAPP-862-SMP-7059\"\n",
      "[1] \"HTAPP-862-SMP-7060\"\n",
      "[1] \"HTAPP-870-SMP-7089\"\n",
      "[1] \"HTAPP-873-SMP-7119\"\n",
      "[1] \"HTAPP-878-SMP-7149\"\n",
      "[1] \"HTAPP-880-SMP-7179\"\n",
      "[1] \"HTAPP-887-SMP-7239\"\n",
      "[1] \"HTAPP-887-SMP-7250\"\n",
      "[1] \"HTAPP-889-SMP-7269\"\n",
      "[1] \"HTAPP-889-SMP-7270\"\n",
      "[1] \"HTAPP-890-SMP-7299\"\n",
      "[1] \"HTAPP-895-SMP-7359\"\n",
      "[1] \"HTAPP-908-SMP-4412\"\n",
      "[1] \"HTAPP-917-SMP-4531\"\n",
      "[1] \"HTAPP-944-SMP-7479\"\n",
      "[1] \"HTAPP-947-SMP-7509\"\n",
      "[1] \"HTAPP-963-SMP-4741\"\n",
      "[1] \"HTAPP-982-SMP-7629\"\n",
      "[1] \"HTAPP-983-SMP-7659\"\n",
      "[1] \"HTAPP-988-SMP-7749\"\n",
      "[1] \"HTAPP-997-SMP-7789\"\n"
     ]
    }
   ],
   "source": [
    "img_list=list()\n",
    "for (sample in sort(grep(\"HTAPP-214-SMP-6753|SMP-iso\",samples,invert = TRUE,value = TRUE))){\n",
    "    dir=file.path(analysisDir,\"00_infercnv\",sample) \n",
    "    img_file=paste0(dir,\"/out/infercnv.png\")\n",
    "    if (!file.exists(img_file)){next}\n",
    "    print(sample)\n",
    "    img_list[[sample]]= ggdraw() + draw_image(img_file)\n",
    "}"
   ]
  },
  {
   "cell_type": "code",
   "execution_count": 5,
   "metadata": {},
   "outputs": [
    {
     "data": {
      "text/html": [
       "<strong>png:</strong> 2"
      ],
      "text/latex": [
       "\\textbf{png:} 2"
      ],
      "text/markdown": [
       "**png:** 2"
      ],
      "text/plain": [
       "png \n",
       "  2 "
      ]
     },
     "metadata": {},
     "output_type": "display_data"
    }
   ],
   "source": [
    "pdf(paste0(analysisDir,\"00_infercnv/summarized/heatmaps.pdf\"),height = 90,width=45)\n",
    "plot_grid(plotlist = img_list,labels = names(img_list),label_size = 16,ncol = 6,hjust=0)\n",
    "dev.off()"
   ]
  },
  {
   "cell_type": "code",
   "execution_count": null,
   "metadata": {},
   "outputs": [],
   "source": [
    "options(repr.plot.width = 45, repr.plot.height =95)\n",
    "plot_grid(plotlist = img_list,labels = names(img_list),label_size = 16,ncol = 6,hjust=0)"
   ]
  },
  {
   "cell_type": "code",
   "execution_count": 12,
   "metadata": {},
   "outputs": [
    {
     "name": "stdout",
     "output_type": "stream",
     "text": [
      "[1] \"HTAPP-211-SMP-6751\"\n",
      "[1] \"HTAPP-213-SMP-6752\"\n",
      "[1] \"Too few Hepatocytes\"\n",
      "[1] \"HTAPP-223-SMP-6755\"\n",
      "[1] \"HTAPP-223-SMP-7537\"\n",
      "[1] \"Too few Hepatocytes\"\n",
      "[1] \"HTAPP-225-SMP-6756\"\n",
      "[1] \"Too few Hepatocytes\"\n",
      "[1] \"HTAPP-226-SMP-6757\"\n",
      "[1] \"HTAPP-231-SMP-6758\"\n",
      "[1] \"Too few Hepatocytes\"\n",
      "[1] \"HTAPP-232-SMP-6759\"\n",
      "[1] \"HTAPP-254-SMP-571\"\n",
      "[1] \"Too few Hepatocytes\"\n",
      "[1] \"HTAPP-262-SMP-602\"\n",
      "[1] \"Too few Hepatocytes\"\n",
      "[1] \"HTAPP-262-SMP-610\"\n",
      "[1] \"Too few Hepatocytes\"\n",
      "[1] \"HTAPP-285-SMP-751\"\n",
      "[1] \"Too few Hepatocytes\"\n",
      "[1] \"HTAPP-309-SMP-871\"\n",
      "[1] \"Too few Hepatocytes\"\n",
      "[1] \"HTAPP-313-SMP-932\"\n",
      "[1] \"Too few Hepatocytes\"\n",
      "[1] \"HTAPP-321-SMP-1021\"\n",
      "[1] \"Too few Hepatocytes\"\n",
      "[1] \"HTAPP-330-SMP-1082\"\n",
      "[1] \"Too few Hepatocytes\"\n",
      "[1] \"HTAPP-364-SMP-1321\"\n",
      "[1] \"Too few Hepatocytes\"\n",
      "[1] \"HTAPP-382-SMP-1441\"\n",
      "[1] \"Too few Hepatocytes\"\n",
      "[1] \"HTAPP-394-SMP-1561\"\n",
      "[1] \"Too few Hepatocytes\"\n",
      "[1] \"HTAPP-414-SMP-1681\"\n",
      "[1] \"Too few Hepatocytes\"\n",
      "[1] \"HTAPP-423-SMP-1741\"\n",
      "[1] \"Too few Hepatocytes\"\n",
      "[1] \"HTAPP-425-SMP-1771\"\n",
      "[1] \"Too few Hepatocytes\"\n",
      "[1] \"HTAPP-514-SMP-6760\"\n",
      "[1] \"Too few Hepatocytes\"\n",
      "[1] \"HTAPP-516-SMP-6761\"\n",
      "[1] \"Too few Hepatocytes\"\n",
      "[1] \"HTAPP-519-SMP-6762\"\n",
      "[1] \"Too few Hepatocytes\"\n",
      "[1] \"HTAPP-521-SMP-6763\"\n",
      "[1] \"Too few Hepatocytes\"\n",
      "[1] \"HTAPP-525-SMP-6765\"\n",
      "[1] \"Too few Hepatocytes\"\n",
      "[1] \"HTAPP-562-SMP-2581\"\n",
      "[1] \"Too few Hepatocytes\"\n",
      "[1] \"HTAPP-586-SMP-8599\"\n",
      "[1] \"Too few Hepatocytes\"\n",
      "[1] \"HTAPP-589-SMP-2851\"\n",
      "[1] \"Too few Hepatocytes\"\n",
      "[1] \"HTAPP-589-SMP-2860\"\n",
      "[1] \"HTAPP-600-SMP-2941\"\n",
      "[1] \"HTAPP-611-SMP-3062\"\n",
      "[1] \"Too few Hepatocytes\"\n",
      "[1] \"HTAPP-627-SMP-3242\"\n",
      "[1] \"Too few Hepatocytes\"\n",
      "[1] \"HTAPP-649-SMP-3422\"\n",
      "[1] \"Too few Hepatocytes\"\n",
      "[1] \"HTAPP-662-SMP-3602\"\n",
      "[1] \"Too few Hepatocytes\"\n",
      "[1] \"HTAPP-735-SMP-3841\"\n",
      "[1] \"Too few Hepatocytes\"\n",
      "[1] \"HTAPP-745-SMP-3961\"\n",
      "[1] \"Too few Hepatocytes\"\n",
      "[1] \"HTAPP-749-SMP-3991\"\n",
      "[1] \"Too few Hepatocytes\"\n",
      "[1] \"HTAPP-752-SMP-4051\"\n",
      "[1] \"Too few Hepatocytes\"\n",
      "[1] \"HTAPP-759-SMP-8359\"\n",
      "[1] \"Too few Hepatocytes\"\n",
      "[1] \"HTAPP-783-SMP-4081\"\n",
      "[1] \"Too few Hepatocytes\"\n",
      "[1] \"HTAPP-806-SMP-6789\"\n",
      "[1] \"Too few Hepatocytes\"\n",
      "[1] \"HTAPP-806-SMP-6800\"\n",
      "[1] \"Too few Hepatocytes\"\n",
      "[1] \"HTAPP-812-SMP-8239\"\n",
      "[1] \"Too few Hepatocytes\"\n",
      "[1] \"HTAPP-814-SMP-6879\"\n",
      "[1] \"Too few Hepatocytes\"\n",
      "[1] \"HTAPP-835-SMP-6999\"\n",
      "[1] \"Too few Hepatocytes\"\n",
      "[1] \"HTAPP-851-SMP-4351\"\n",
      "[1] \"Too few Hepatocytes\"\n",
      "[1] \"HTAPP-853-SMP-4381\"\n",
      "[1] \"Too few Hepatocytes\"\n",
      "[1] \"HTAPP-861-SMP-7028\"\n",
      "[1] \"Too few Hepatocytes\"\n",
      "[1] \"HTAPP-862-SMP-7059\"\n",
      "[1] \"Too few Hepatocytes\"\n",
      "[1] \"HTAPP-862-SMP-7060\"\n",
      "[1] \"Too few Hepatocytes\"\n",
      "[1] \"HTAPP-870-SMP-7089\"\n",
      "[1] \"HTAPP-873-SMP-7119\"\n",
      "[1] \"HTAPP-878-SMP-7149\"\n",
      "[1] \"Too few Hepatocytes\"\n",
      "[1] \"HTAPP-880-SMP-7179\"\n",
      "[1] \"Too few Hepatocytes\"\n",
      "[1] \"HTAPP-887-SMP-7239\"\n",
      "[1] \"Too few Hepatocytes\"\n",
      "[1] \"HTAPP-887-SMP-7250\"\n",
      "[1] \"Too few Hepatocytes\"\n",
      "[1] \"HTAPP-889-SMP-7269\"\n",
      "[1] \"HTAPP-889-SMP-7270\"\n",
      "[1] \"HTAPP-890-SMP-7299\"\n",
      "[1] \"Too few Hepatocytes\"\n",
      "[1] \"HTAPP-895-SMP-7359\"\n",
      "[1] \"Too few Hepatocytes\"\n",
      "[1] \"HTAPP-908-SMP-4412\"\n",
      "[1] \"Too few Hepatocytes\"\n",
      "[1] \"HTAPP-917-SMP-4531\"\n",
      "[1] \"Too few Hepatocytes\"\n",
      "[1] \"HTAPP-944-SMP-7479\"\n",
      "[1] \"Too few Hepatocytes\"\n",
      "[1] \"HTAPP-947-SMP-7509\"\n",
      "[1] \"Too few Hepatocytes\"\n",
      "[1] \"HTAPP-963-SMP-4741\"\n",
      "[1] \"HTAPP-982-SMP-7629\"\n",
      "[1] \"Too few Hepatocytes\"\n",
      "[1] \"HTAPP-983-SMP-7659\"\n",
      "[1] \"Too few Hepatocytes\"\n",
      "[1] \"HTAPP-988-SMP-7749\"\n",
      "[1] \"Too few Hepatocytes\"\n",
      "[1] \"HTAPP-997-SMP-7789\"\n"
     ]
    }
   ],
   "source": [
    "#only ones with hepatocytes\n",
    "img_list=list()\n",
    "for (sample in sort(grep(\"HTAPP-214-SMP-6753|SMP-iso\",samples,invert = TRUE,value = TRUE))){\n",
    "    print(sample)\n",
    "    dir=file.path(analysisDir,\"00_infercnv\",sample) \n",
    "    annot=fread(paste0(dir,\"/annot.tsv\"),header=F)\n",
    "    if(sum(grepl(\"Hepatocytes\",annot$V2))<1000){print(\"Too few Hepatocytes\");next}\n",
    "    img_file=paste0(dir,\"/out/infercnv.png\")\n",
    "    if (!file.exists(img_file)){next}\n",
    "    img_list[[sample]]= ggdraw() + draw_image(img_file)\n",
    "}"
   ]
  },
  {
   "cell_type": "code",
   "execution_count": 5,
   "metadata": {},
   "outputs": [
    {
     "data": {
      "text/html": [
       "<strong>png:</strong> 2"
      ],
      "text/latex": [
       "\\textbf{png:} 2"
      ],
      "text/markdown": [
       "**png:** 2"
      ],
      "text/plain": [
       "png \n",
       "  2 "
      ]
     },
     "metadata": {},
     "output_type": "display_data"
    }
   ],
   "source": [
    "pdf(paste0(analysisDir,\"00_infercnv/summarized/heatmaps_hepatocytes.pdf\"),height = 90,width=45)\n",
    "plot_grid(plotlist = img_list,labels = names(img_list),label_size = 16,ncol = 6,hjust=0)\n",
    "dev.off()"
   ]
  },
  {
   "cell_type": "code",
   "execution_count": null,
   "metadata": {},
   "outputs": [],
   "source": [
    "options(repr.plot.width = 30, repr.plot.height =20)\n",
    "plot_grid(plotlist = img_list,labels = names(img_list),label_size = 16,ncol = 4,hjust=0)"
   ]
  },
  {
   "cell_type": "code",
   "execution_count": 9,
   "metadata": {},
   "outputs": [
    {
     "name": "stdout",
     "output_type": "stream",
     "text": [
      "[1] \"HTAPP-211-SMP-6751\"\n",
      "[1] \"HTAPP-213-SMP-6752\"\n",
      "[1] \"HTAPP-223-SMP-6755\"\n",
      "[1] \"HTAPP-223-SMP-7537\"\n",
      "[1] \"HTAPP-225-SMP-6756\"\n",
      "[1] \"HTAPP-226-SMP-6757\"\n",
      "[1] \"HTAPP-231-SMP-6758\"\n",
      "[1] \"HTAPP-232-SMP-6759\"\n",
      "[1] \"HTAPP-262-SMP-610\"\n",
      "[1] \"HTAPP-514-SMP-6760\"\n",
      "[1] \"HTAPP-516-SMP-6761\"\n",
      "[1] \"HTAPP-519-SMP-6762\"\n",
      "[1] \"HTAPP-521-SMP-6763\"\n",
      "[1] \"HTAPP-525-SMP-6765\"\n",
      "[1] \"HTAPP-589-SMP-2851\"\n",
      "[1] \"HTAPP-589-SMP-2860\"\n",
      "[1] \"HTAPP-752-SMP-4051\"\n",
      "[1] \"HTAPP-806-SMP-6789\"\n",
      "[1] \"HTAPP-814-SMP-6879\"\n",
      "[1] \"HTAPP-835-SMP-6999\"\n",
      "[1] \"HTAPP-861-SMP-7028\"\n",
      "[1] \"HTAPP-862-SMP-7059\"\n",
      "[1] \"HTAPP-862-SMP-7060\"\n",
      "[1] \"HTAPP-870-SMP-7089\"\n",
      "[1] \"HTAPP-873-SMP-7119\"\n",
      "[1] \"HTAPP-878-SMP-7149\"\n",
      "[1] \"HTAPP-880-SMP-7179\"\n",
      "[1] \"HTAPP-887-SMP-7239\"\n",
      "[1] \"HTAPP-887-SMP-7250\"\n",
      "[1] \"HTAPP-889-SMP-7269\"\n",
      "[1] \"HTAPP-889-SMP-7270\"\n",
      "[1] \"HTAPP-890-SMP-7299\"\n",
      "[1] \"HTAPP-895-SMP-7359\"\n",
      "[1] \"HTAPP-944-SMP-7479\"\n",
      "[1] \"HTAPP-947-SMP-7509\"\n",
      "[1] \"HTAPP-963-SMP-4741\"\n",
      "[1] \"HTAPP-997-SMP-7789\"\n"
     ]
    }
   ],
   "source": [
    "#only ones with Frozen\n",
    "img_list=list()\n",
    "for (sample in sort(grep(\"HTAPP-214-SMP-6753|SMP-iso\",samples[samples%in%sample_sheet[condition==\"TST\"]$sampleid],invert = TRUE,value = TRUE))){\n",
    "    print(sample)\n",
    "    dir=file.path(analysisDir,\"00_infercnv\",sample)\n",
    "    img_file=paste0(dir,\"/out/infercnv.png\")\n",
    "    img_list[[sample]]= ggdraw() + draw_image(img_file)\n",
    "}"
   ]
  },
  {
   "cell_type": "code",
   "execution_count": null,
   "metadata": {},
   "outputs": [],
   "source": [
    "options(repr.plot.width = 36, repr.plot.height =20)\n",
    "plot_grid(plotlist = img_list,labels = names(img_list),label_size = 16,ncol = 8,hjust=0)"
   ]
  },
  {
   "cell_type": "code",
   "execution_count": null,
   "metadata": {},
   "outputs": [],
   "source": []
  }
 ],
 "metadata": {
  "kernelspec": {
   "display_name": "R_S3",
   "language": "R",
   "name": "ir_s3"
  },
  "language_info": {
   "codemirror_mode": "r",
   "file_extension": ".r",
   "mimetype": "text/x-r-source",
   "name": "R",
   "pygments_lexer": "r",
   "version": "3.6.3"
  }
 },
 "nbformat": 4,
 "nbformat_minor": 2
}
