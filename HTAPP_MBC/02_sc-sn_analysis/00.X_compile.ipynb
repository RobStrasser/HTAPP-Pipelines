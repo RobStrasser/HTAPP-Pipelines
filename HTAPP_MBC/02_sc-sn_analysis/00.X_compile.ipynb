{
 "cells": [
  {
   "cell_type": "code",
   "execution_count": 1,
   "metadata": {},
   "outputs": [
    {
     "name": "stderr",
     "output_type": "stream",
     "text": [
      "Registered S3 method overwritten by 'R.oo':\n",
      "  method        from       \n",
      "  throw.default R.methodsS3\n",
      "Loading combined annotation: annot\n"
     ]
    }
   ],
   "source": [
    "source(\"/secure/projects/HTAPP_MBC/src/init_phase2.R\")"
   ]
  },
  {
   "cell_type": "code",
   "execution_count": 2,
   "metadata": {},
   "outputs": [
    {
     "data": {
      "text/html": [
       "<table>\n",
       "<caption>A data.table: 6 x 45</caption>\n",
       "<thead>\n",
       "\t<tr><th scope=col>name</th><th scope=col>condition</th><th scope=col>replicate</th><th scope=col>cellid</th><th scope=col>orig.ident</th><th scope=col>nCount_RNA</th><th scope=col>nFeature_RNA</th><th scope=col>percent.mito</th><th scope=col>RNA_snn_res.0.8</th><th scope=col>seurat_clusters</th><th scope=col>labels</th><th scope=col>labels_score</th><th scope=col>labels_unif</th><th scope=col>labels_cl</th><th scope=col>labels_cl_unif</th><th scope=col>ccpm</th><th scope=col>Quality</th><th scope=col>Order</th><th scope=col>run status</th><th scope=col>Note</th><th scope=col>date</th><th scope=col>run_pipeline</th><th scope=col>Channel Name</th><th scope=col>Lane</th><th scope=col>Index</th><th scope=col>cancer</th><th scope=col>site</th><th scope=col>reference</th><th scope=col>chemistry</th><th scope=col>flowcell</th><th scope=col>seq_dir</th><th scope=col>mode</th><th scope=col>min_umis</th><th scope=col>min_genes</th><th scope=col>percent_mito</th><th scope=col>expected_cells</th><th scope=col>total_droplets</th><th scope=col>z_dim</th><th scope=col>z_layers</th><th scope=col>channel_id</th><th scope=col>label_concordance</th><th scope=col>labels_cl_unif_per_channel</th><th scope=col>filt_median_genes</th><th scope=col>filt_median_umi</th><th scope=col>pass</th></tr>\n",
       "\t<tr><th scope=col>&lt;chr&gt;</th><th scope=col>&lt;chr&gt;</th><th scope=col>&lt;chr&gt;</th><th scope=col>&lt;chr&gt;</th><th scope=col>&lt;chr&gt;</th><th scope=col>&lt;int64&gt;</th><th scope=col>&lt;int&gt;</th><th scope=col>&lt;dbl&gt;</th><th scope=col>&lt;int&gt;</th><th scope=col>&lt;int&gt;</th><th scope=col>&lt;chr&gt;</th><th scope=col>&lt;dbl&gt;</th><th scope=col>&lt;chr&gt;</th><th scope=col>&lt;chr&gt;</th><th scope=col>&lt;chr&gt;</th><th scope=col>&lt;chr&gt;</th><th scope=col>&lt;chr&gt;</th><th scope=col>&lt;int&gt;</th><th scope=col>&lt;chr&gt;</th><th scope=col>&lt;chr&gt;</th><th scope=col>&lt;chr&gt;</th><th scope=col>&lt;lgl&gt;</th><th scope=col>&lt;chr&gt;</th><th scope=col>&lt;chr&gt;</th><th scope=col>&lt;chr&gt;</th><th scope=col>&lt;chr&gt;</th><th scope=col>&lt;chr&gt;</th><th scope=col>&lt;chr&gt;</th><th scope=col>&lt;chr&gt;</th><th scope=col>&lt;chr&gt;</th><th scope=col>&lt;chr&gt;</th><th scope=col>&lt;chr&gt;</th><th scope=col>&lt;int&gt;</th><th scope=col>&lt;int&gt;</th><th scope=col>&lt;int&gt;</th><th scope=col>&lt;int&gt;</th><th scope=col>&lt;int&gt;</th><th scope=col>&lt;int&gt;</th><th scope=col>&lt;int&gt;</th><th scope=col>&lt;chr&gt;</th><th scope=col>&lt;lgl&gt;</th><th scope=col>&lt;int&gt;</th><th scope=col>&lt;dbl&gt;</th><th scope=col>&lt;dbl&gt;</th><th scope=col>&lt;lgl&gt;</th></tr>\n",
       "</thead>\n",
       "<tbody>\n",
       "\t<tr><td>HTAPP-211-SMP-6751</td><td>TST</td><td>channel1</td><td>HTAPP-211-SMP-6751-TST-channel1_CAGGCCAAGTGGTTAA-1</td><td>HTAPP-211-SMP-6751-TST-channel1</td><td>26211</td><td> 9130</td><td> 9.507459</td><td>23</td><td>23</td><td>Epithelial cells</td><td>0.4647507</td><td>Epithelial </td><td>Epithelial cells</td><td>Epithelial</td><td>0300628_T1_TST</td><td></td><td>47</td><td>done1</td><td></td><td>2019_04_02</td><td>FALSE</td><td>0300628_T1_TST</td><td>1</td><td>SI-GA-A1</td><td>breast</td><td>liver</td><td>GRCh38_premrna_v3.0.0</td><td>SC3Pv3</td><td>HY3H7CCXY</td><td>/transfer/190330_SL-HXZ_0566_BFCHY3H7CCXY</td><td>V3</td><td>0</td><td>0</td><td>60</td><td>4000</td><td>30000</td><td>200</td><td>1000</td><td>HTAPP-211-SMP-6751_TST_channel1</td><td> TRUE</td><td>2282</td><td>1548</td><td>2076</td><td>FALSE</td></tr>\n",
       "\t<tr><td>HTAPP-211-SMP-6751</td><td>TST</td><td>channel1</td><td>HTAPP-211-SMP-6751-TST-channel1_TTGCTGCAGACTTCCA-1</td><td>HTAPP-211-SMP-6751-TST-channel1</td><td>24855</td><td> 9180</td><td> 2.687588</td><td>23</td><td>23</td><td>Epithelial cells</td><td>0.4394724</td><td>Epithelial </td><td>Epithelial cells</td><td>Epithelial</td><td>0300628_T1_TST</td><td></td><td>47</td><td>done1</td><td></td><td>2019_04_02</td><td>FALSE</td><td>0300628_T1_TST</td><td>1</td><td>SI-GA-A1</td><td>breast</td><td>liver</td><td>GRCh38_premrna_v3.0.0</td><td>SC3Pv3</td><td>HY3H7CCXY</td><td>/transfer/190330_SL-HXZ_0566_BFCHY3H7CCXY</td><td>V3</td><td>0</td><td>0</td><td>60</td><td>4000</td><td>30000</td><td>200</td><td>1000</td><td>HTAPP-211-SMP-6751_TST_channel1</td><td> TRUE</td><td>2282</td><td>1548</td><td>2076</td><td>FALSE</td></tr>\n",
       "\t<tr><td>HTAPP-211-SMP-6751</td><td>TST</td><td>channel1</td><td>HTAPP-211-SMP-6751-TST-channel1_CCCATTGTCTGTGCAA-1</td><td>HTAPP-211-SMP-6751-TST-channel1</td><td>24581</td><td>10099</td><td> 4.239046</td><td>23</td><td>23</td><td>Hepatocytes     </td><td>0.4999810</td><td>Hepatocytes</td><td>Epithelial cells</td><td>Epithelial</td><td>0300628_T1_TST</td><td></td><td>47</td><td>done1</td><td></td><td>2019_04_02</td><td>FALSE</td><td>0300628_T1_TST</td><td>1</td><td>SI-GA-A1</td><td>breast</td><td>liver</td><td>GRCh38_premrna_v3.0.0</td><td>SC3Pv3</td><td>HY3H7CCXY</td><td>/transfer/190330_SL-HXZ_0566_BFCHY3H7CCXY</td><td>V3</td><td>0</td><td>0</td><td>60</td><td>4000</td><td>30000</td><td>200</td><td>1000</td><td>HTAPP-211-SMP-6751_TST_channel1</td><td>FALSE</td><td>2282</td><td>1548</td><td>2076</td><td>FALSE</td></tr>\n",
       "\t<tr><td>HTAPP-211-SMP-6751</td><td>TST</td><td>channel1</td><td>HTAPP-211-SMP-6751-TST-channel1_GATCGTATCCCAGGAC-1</td><td>HTAPP-211-SMP-6751-TST-channel1</td><td>21205</td><td> 8796</td><td> 4.456496</td><td>23</td><td>23</td><td>Epithelial cells</td><td>0.4141249</td><td>Epithelial </td><td>Epithelial cells</td><td>Epithelial</td><td>0300628_T1_TST</td><td></td><td>47</td><td>done1</td><td></td><td>2019_04_02</td><td>FALSE</td><td>0300628_T1_TST</td><td>1</td><td>SI-GA-A1</td><td>breast</td><td>liver</td><td>GRCh38_premrna_v3.0.0</td><td>SC3Pv3</td><td>HY3H7CCXY</td><td>/transfer/190330_SL-HXZ_0566_BFCHY3H7CCXY</td><td>V3</td><td>0</td><td>0</td><td>60</td><td>4000</td><td>30000</td><td>200</td><td>1000</td><td>HTAPP-211-SMP-6751_TST_channel1</td><td> TRUE</td><td>2282</td><td>1548</td><td>2076</td><td>FALSE</td></tr>\n",
       "\t<tr><td>HTAPP-211-SMP-6751</td><td>TST</td><td>channel1</td><td>HTAPP-211-SMP-6751-TST-channel1_CCAATGACAGTTCACA-1</td><td>HTAPP-211-SMP-6751-TST-channel1</td><td>19870</td><td> 7710</td><td>17.075994</td><td>23</td><td>23</td><td>Epithelial cells</td><td>0.4295492</td><td>Epithelial </td><td>Epithelial cells</td><td>Epithelial</td><td>0300628_T1_TST</td><td></td><td>47</td><td>done1</td><td></td><td>2019_04_02</td><td>FALSE</td><td>0300628_T1_TST</td><td>1</td><td>SI-GA-A1</td><td>breast</td><td>liver</td><td>GRCh38_premrna_v3.0.0</td><td>SC3Pv3</td><td>HY3H7CCXY</td><td>/transfer/190330_SL-HXZ_0566_BFCHY3H7CCXY</td><td>V3</td><td>0</td><td>0</td><td>60</td><td>4000</td><td>30000</td><td>200</td><td>1000</td><td>HTAPP-211-SMP-6751_TST_channel1</td><td> TRUE</td><td>2282</td><td>1548</td><td>2076</td><td> TRUE</td></tr>\n",
       "\t<tr><td>HTAPP-211-SMP-6751</td><td>TST</td><td>channel1</td><td>HTAPP-211-SMP-6751-TST-channel1_TGGTGATAGCCTCTCT-1</td><td>HTAPP-211-SMP-6751-TST-channel1</td><td>19782</td><td> 8582</td><td> 5.039935</td><td>23</td><td>23</td><td>Epithelial cells</td><td>0.4603706</td><td>Epithelial </td><td>Epithelial cells</td><td>Epithelial</td><td>0300628_T1_TST</td><td></td><td>47</td><td>done1</td><td></td><td>2019_04_02</td><td>FALSE</td><td>0300628_T1_TST</td><td>1</td><td>SI-GA-A1</td><td>breast</td><td>liver</td><td>GRCh38_premrna_v3.0.0</td><td>SC3Pv3</td><td>HY3H7CCXY</td><td>/transfer/190330_SL-HXZ_0566_BFCHY3H7CCXY</td><td>V3</td><td>0</td><td>0</td><td>60</td><td>4000</td><td>30000</td><td>200</td><td>1000</td><td>HTAPP-211-SMP-6751_TST_channel1</td><td> TRUE</td><td>2282</td><td>1548</td><td>2076</td><td>FALSE</td></tr>\n",
       "</tbody>\n",
       "</table>\n"
      ],
      "text/latex": [
       "A data.table: 6 x 45\n",
       "\\begin{tabular}{r|lllllllllllllllllllllllllllllllllllllllllllll}\n",
       " name & condition & replicate & cellid & orig.ident & nCount\\_RNA & nFeature\\_RNA & percent.mito & RNA\\_snn\\_res.0.8 & seurat\\_clusters & labels & labels\\_score & labels\\_unif & labels\\_cl & labels\\_cl\\_unif & ccpm & Quality & Order & run status & Note & date & run\\_pipeline & Channel Name & Lane & Index & cancer & site & reference & chemistry & flowcell & seq\\_dir & mode & min\\_umis & min\\_genes & percent\\_mito & expected\\_cells & total\\_droplets & z\\_dim & z\\_layers & channel\\_id & label\\_concordance & labels\\_cl\\_unif\\_per\\_channel & filt\\_median\\_genes & filt\\_median\\_umi & pass\\\\\n",
       " <chr> & <chr> & <chr> & <chr> & <chr> & <int64> & <int> & <dbl> & <int> & <int> & <chr> & <dbl> & <chr> & <chr> & <chr> & <chr> & <chr> & <int> & <chr> & <chr> & <chr> & <lgl> & <chr> & <chr> & <chr> & <chr> & <chr> & <chr> & <chr> & <chr> & <chr> & <chr> & <int> & <int> & <int> & <int> & <int> & <int> & <int> & <chr> & <lgl> & <int> & <dbl> & <dbl> & <lgl>\\\\\n",
       "\\hline\n",
       "\t HTAPP-211-SMP-6751 & TST & channel1 & HTAPP-211-SMP-6751-TST-channel1\\_CAGGCCAAGTGGTTAA-1 & HTAPP-211-SMP-6751-TST-channel1 & 26211 &  9130 &  9.507459 & 23 & 23 & Epithelial cells & 0.4647507 & Epithelial  & Epithelial cells & Epithelial & 0300628\\_T1\\_TST &  & 47 & done1 &  & 2019\\_04\\_02 & FALSE & 0300628\\_T1\\_TST & 1 & SI-GA-A1 & breast & liver & GRCh38\\_premrna\\_v3.0.0 & SC3Pv3 & HY3H7CCXY & /transfer/190330\\_SL-HXZ\\_0566\\_BFCHY3H7CCXY & V3 & 0 & 0 & 60 & 4000 & 30000 & 200 & 1000 & HTAPP-211-SMP-6751\\_TST\\_channel1 &  TRUE & 2282 & 1548 & 2076 & FALSE\\\\\n",
       "\t HTAPP-211-SMP-6751 & TST & channel1 & HTAPP-211-SMP-6751-TST-channel1\\_TTGCTGCAGACTTCCA-1 & HTAPP-211-SMP-6751-TST-channel1 & 24855 &  9180 &  2.687588 & 23 & 23 & Epithelial cells & 0.4394724 & Epithelial  & Epithelial cells & Epithelial & 0300628\\_T1\\_TST &  & 47 & done1 &  & 2019\\_04\\_02 & FALSE & 0300628\\_T1\\_TST & 1 & SI-GA-A1 & breast & liver & GRCh38\\_premrna\\_v3.0.0 & SC3Pv3 & HY3H7CCXY & /transfer/190330\\_SL-HXZ\\_0566\\_BFCHY3H7CCXY & V3 & 0 & 0 & 60 & 4000 & 30000 & 200 & 1000 & HTAPP-211-SMP-6751\\_TST\\_channel1 &  TRUE & 2282 & 1548 & 2076 & FALSE\\\\\n",
       "\t HTAPP-211-SMP-6751 & TST & channel1 & HTAPP-211-SMP-6751-TST-channel1\\_CCCATTGTCTGTGCAA-1 & HTAPP-211-SMP-6751-TST-channel1 & 24581 & 10099 &  4.239046 & 23 & 23 & Hepatocytes      & 0.4999810 & Hepatocytes & Epithelial cells & Epithelial & 0300628\\_T1\\_TST &  & 47 & done1 &  & 2019\\_04\\_02 & FALSE & 0300628\\_T1\\_TST & 1 & SI-GA-A1 & breast & liver & GRCh38\\_premrna\\_v3.0.0 & SC3Pv3 & HY3H7CCXY & /transfer/190330\\_SL-HXZ\\_0566\\_BFCHY3H7CCXY & V3 & 0 & 0 & 60 & 4000 & 30000 & 200 & 1000 & HTAPP-211-SMP-6751\\_TST\\_channel1 & FALSE & 2282 & 1548 & 2076 & FALSE\\\\\n",
       "\t HTAPP-211-SMP-6751 & TST & channel1 & HTAPP-211-SMP-6751-TST-channel1\\_GATCGTATCCCAGGAC-1 & HTAPP-211-SMP-6751-TST-channel1 & 21205 &  8796 &  4.456496 & 23 & 23 & Epithelial cells & 0.4141249 & Epithelial  & Epithelial cells & Epithelial & 0300628\\_T1\\_TST &  & 47 & done1 &  & 2019\\_04\\_02 & FALSE & 0300628\\_T1\\_TST & 1 & SI-GA-A1 & breast & liver & GRCh38\\_premrna\\_v3.0.0 & SC3Pv3 & HY3H7CCXY & /transfer/190330\\_SL-HXZ\\_0566\\_BFCHY3H7CCXY & V3 & 0 & 0 & 60 & 4000 & 30000 & 200 & 1000 & HTAPP-211-SMP-6751\\_TST\\_channel1 &  TRUE & 2282 & 1548 & 2076 & FALSE\\\\\n",
       "\t HTAPP-211-SMP-6751 & TST & channel1 & HTAPP-211-SMP-6751-TST-channel1\\_CCAATGACAGTTCACA-1 & HTAPP-211-SMP-6751-TST-channel1 & 19870 &  7710 & 17.075994 & 23 & 23 & Epithelial cells & 0.4295492 & Epithelial  & Epithelial cells & Epithelial & 0300628\\_T1\\_TST &  & 47 & done1 &  & 2019\\_04\\_02 & FALSE & 0300628\\_T1\\_TST & 1 & SI-GA-A1 & breast & liver & GRCh38\\_premrna\\_v3.0.0 & SC3Pv3 & HY3H7CCXY & /transfer/190330\\_SL-HXZ\\_0566\\_BFCHY3H7CCXY & V3 & 0 & 0 & 60 & 4000 & 30000 & 200 & 1000 & HTAPP-211-SMP-6751\\_TST\\_channel1 &  TRUE & 2282 & 1548 & 2076 &  TRUE\\\\\n",
       "\t HTAPP-211-SMP-6751 & TST & channel1 & HTAPP-211-SMP-6751-TST-channel1\\_TGGTGATAGCCTCTCT-1 & HTAPP-211-SMP-6751-TST-channel1 & 19782 &  8582 &  5.039935 & 23 & 23 & Epithelial cells & 0.4603706 & Epithelial  & Epithelial cells & Epithelial & 0300628\\_T1\\_TST &  & 47 & done1 &  & 2019\\_04\\_02 & FALSE & 0300628\\_T1\\_TST & 1 & SI-GA-A1 & breast & liver & GRCh38\\_premrna\\_v3.0.0 & SC3Pv3 & HY3H7CCXY & /transfer/190330\\_SL-HXZ\\_0566\\_BFCHY3H7CCXY & V3 & 0 & 0 & 60 & 4000 & 30000 & 200 & 1000 & HTAPP-211-SMP-6751\\_TST\\_channel1 &  TRUE & 2282 & 1548 & 2076 & FALSE\\\\\n",
       "\\end{tabular}\n"
      ],
      "text/markdown": [
       "\n",
       "A data.table: 6 x 45\n",
       "\n",
       "| name &lt;chr&gt; | condition &lt;chr&gt; | replicate &lt;chr&gt; | cellid &lt;chr&gt; | orig.ident &lt;chr&gt; | nCount_RNA &lt;int64&gt; | nFeature_RNA &lt;int&gt; | percent.mito &lt;dbl&gt; | RNA_snn_res.0.8 &lt;int&gt; | seurat_clusters &lt;int&gt; | labels &lt;chr&gt; | labels_score &lt;dbl&gt; | labels_unif &lt;chr&gt; | labels_cl &lt;chr&gt; | labels_cl_unif &lt;chr&gt; | ccpm &lt;chr&gt; | Quality &lt;chr&gt; | Order &lt;int&gt; | run status &lt;chr&gt; | Note &lt;chr&gt; | date &lt;chr&gt; | run_pipeline &lt;lgl&gt; | Channel Name &lt;chr&gt; | Lane &lt;chr&gt; | Index &lt;chr&gt; | cancer &lt;chr&gt; | site &lt;chr&gt; | reference &lt;chr&gt; | chemistry &lt;chr&gt; | flowcell &lt;chr&gt; | seq_dir &lt;chr&gt; | mode &lt;chr&gt; | min_umis &lt;int&gt; | min_genes &lt;int&gt; | percent_mito &lt;int&gt; | expected_cells &lt;int&gt; | total_droplets &lt;int&gt; | z_dim &lt;int&gt; | z_layers &lt;int&gt; | channel_id &lt;chr&gt; | label_concordance &lt;lgl&gt; | labels_cl_unif_per_channel &lt;int&gt; | filt_median_genes &lt;dbl&gt; | filt_median_umi &lt;dbl&gt; | pass &lt;lgl&gt; |\n",
       "|---|---|---|---|---|---|---|---|---|---|---|---|---|---|---|---|---|---|---|---|---|---|---|---|---|---|---|---|---|---|---|---|---|---|---|---|---|---|---|---|---|---|---|---|---|\n",
       "| HTAPP-211-SMP-6751 | TST | channel1 | HTAPP-211-SMP-6751-TST-channel1_CAGGCCAAGTGGTTAA-1 | HTAPP-211-SMP-6751-TST-channel1 | 26211 |  9130 |  9.507459 | 23 | 23 | Epithelial cells | 0.4647507 | Epithelial  | Epithelial cells | Epithelial | 0300628_T1_TST | <!----> | 47 | done1 | <!----> | 2019_04_02 | FALSE | 0300628_T1_TST | 1 | SI-GA-A1 | breast | liver | GRCh38_premrna_v3.0.0 | SC3Pv3 | HY3H7CCXY | /transfer/190330_SL-HXZ_0566_BFCHY3H7CCXY | V3 | 0 | 0 | 60 | 4000 | 30000 | 200 | 1000 | HTAPP-211-SMP-6751_TST_channel1 |  TRUE | 2282 | 1548 | 2076 | FALSE |\n",
       "| HTAPP-211-SMP-6751 | TST | channel1 | HTAPP-211-SMP-6751-TST-channel1_TTGCTGCAGACTTCCA-1 | HTAPP-211-SMP-6751-TST-channel1 | 24855 |  9180 |  2.687588 | 23 | 23 | Epithelial cells | 0.4394724 | Epithelial  | Epithelial cells | Epithelial | 0300628_T1_TST | <!----> | 47 | done1 | <!----> | 2019_04_02 | FALSE | 0300628_T1_TST | 1 | SI-GA-A1 | breast | liver | GRCh38_premrna_v3.0.0 | SC3Pv3 | HY3H7CCXY | /transfer/190330_SL-HXZ_0566_BFCHY3H7CCXY | V3 | 0 | 0 | 60 | 4000 | 30000 | 200 | 1000 | HTAPP-211-SMP-6751_TST_channel1 |  TRUE | 2282 | 1548 | 2076 | FALSE |\n",
       "| HTAPP-211-SMP-6751 | TST | channel1 | HTAPP-211-SMP-6751-TST-channel1_CCCATTGTCTGTGCAA-1 | HTAPP-211-SMP-6751-TST-channel1 | 24581 | 10099 |  4.239046 | 23 | 23 | Hepatocytes      | 0.4999810 | Hepatocytes | Epithelial cells | Epithelial | 0300628_T1_TST | <!----> | 47 | done1 | <!----> | 2019_04_02 | FALSE | 0300628_T1_TST | 1 | SI-GA-A1 | breast | liver | GRCh38_premrna_v3.0.0 | SC3Pv3 | HY3H7CCXY | /transfer/190330_SL-HXZ_0566_BFCHY3H7CCXY | V3 | 0 | 0 | 60 | 4000 | 30000 | 200 | 1000 | HTAPP-211-SMP-6751_TST_channel1 | FALSE | 2282 | 1548 | 2076 | FALSE |\n",
       "| HTAPP-211-SMP-6751 | TST | channel1 | HTAPP-211-SMP-6751-TST-channel1_GATCGTATCCCAGGAC-1 | HTAPP-211-SMP-6751-TST-channel1 | 21205 |  8796 |  4.456496 | 23 | 23 | Epithelial cells | 0.4141249 | Epithelial  | Epithelial cells | Epithelial | 0300628_T1_TST | <!----> | 47 | done1 | <!----> | 2019_04_02 | FALSE | 0300628_T1_TST | 1 | SI-GA-A1 | breast | liver | GRCh38_premrna_v3.0.0 | SC3Pv3 | HY3H7CCXY | /transfer/190330_SL-HXZ_0566_BFCHY3H7CCXY | V3 | 0 | 0 | 60 | 4000 | 30000 | 200 | 1000 | HTAPP-211-SMP-6751_TST_channel1 |  TRUE | 2282 | 1548 | 2076 | FALSE |\n",
       "| HTAPP-211-SMP-6751 | TST | channel1 | HTAPP-211-SMP-6751-TST-channel1_CCAATGACAGTTCACA-1 | HTAPP-211-SMP-6751-TST-channel1 | 19870 |  7710 | 17.075994 | 23 | 23 | Epithelial cells | 0.4295492 | Epithelial  | Epithelial cells | Epithelial | 0300628_T1_TST | <!----> | 47 | done1 | <!----> | 2019_04_02 | FALSE | 0300628_T1_TST | 1 | SI-GA-A1 | breast | liver | GRCh38_premrna_v3.0.0 | SC3Pv3 | HY3H7CCXY | /transfer/190330_SL-HXZ_0566_BFCHY3H7CCXY | V3 | 0 | 0 | 60 | 4000 | 30000 | 200 | 1000 | HTAPP-211-SMP-6751_TST_channel1 |  TRUE | 2282 | 1548 | 2076 |  TRUE |\n",
       "| HTAPP-211-SMP-6751 | TST | channel1 | HTAPP-211-SMP-6751-TST-channel1_TGGTGATAGCCTCTCT-1 | HTAPP-211-SMP-6751-TST-channel1 | 19782 |  8582 |  5.039935 | 23 | 23 | Epithelial cells | 0.4603706 | Epithelial  | Epithelial cells | Epithelial | 0300628_T1_TST | <!----> | 47 | done1 | <!----> | 2019_04_02 | FALSE | 0300628_T1_TST | 1 | SI-GA-A1 | breast | liver | GRCh38_premrna_v3.0.0 | SC3Pv3 | HY3H7CCXY | /transfer/190330_SL-HXZ_0566_BFCHY3H7CCXY | V3 | 0 | 0 | 60 | 4000 | 30000 | 200 | 1000 | HTAPP-211-SMP-6751_TST_channel1 |  TRUE | 2282 | 1548 | 2076 | FALSE |\n",
       "\n"
      ],
      "text/plain": [
       "  name               condition replicate\n",
       "1 HTAPP-211-SMP-6751 TST       channel1 \n",
       "2 HTAPP-211-SMP-6751 TST       channel1 \n",
       "3 HTAPP-211-SMP-6751 TST       channel1 \n",
       "4 HTAPP-211-SMP-6751 TST       channel1 \n",
       "5 HTAPP-211-SMP-6751 TST       channel1 \n",
       "6 HTAPP-211-SMP-6751 TST       channel1 \n",
       "  cellid                                            \n",
       "1 HTAPP-211-SMP-6751-TST-channel1_CAGGCCAAGTGGTTAA-1\n",
       "2 HTAPP-211-SMP-6751-TST-channel1_TTGCTGCAGACTTCCA-1\n",
       "3 HTAPP-211-SMP-6751-TST-channel1_CCCATTGTCTGTGCAA-1\n",
       "4 HTAPP-211-SMP-6751-TST-channel1_GATCGTATCCCAGGAC-1\n",
       "5 HTAPP-211-SMP-6751-TST-channel1_CCAATGACAGTTCACA-1\n",
       "6 HTAPP-211-SMP-6751-TST-channel1_TGGTGATAGCCTCTCT-1\n",
       "  orig.ident                      nCount_RNA nFeature_RNA percent.mito\n",
       "1 HTAPP-211-SMP-6751-TST-channel1 26211       9130         9.507459   \n",
       "2 HTAPP-211-SMP-6751-TST-channel1 24855       9180         2.687588   \n",
       "3 HTAPP-211-SMP-6751-TST-channel1 24581      10099         4.239046   \n",
       "4 HTAPP-211-SMP-6751-TST-channel1 21205       8796         4.456496   \n",
       "5 HTAPP-211-SMP-6751-TST-channel1 19870       7710        17.075994   \n",
       "6 HTAPP-211-SMP-6751-TST-channel1 19782       8582         5.039935   \n",
       "  RNA_snn_res.0.8 seurat_clusters labels           labels_score labels_unif\n",
       "1 23              23              Epithelial cells 0.4647507    Epithelial \n",
       "2 23              23              Epithelial cells 0.4394724    Epithelial \n",
       "3 23              23              Hepatocytes      0.4999810    Hepatocytes\n",
       "4 23              23              Epithelial cells 0.4141249    Epithelial \n",
       "5 23              23              Epithelial cells 0.4295492    Epithelial \n",
       "6 23              23              Epithelial cells 0.4603706    Epithelial \n",
       "  labels_cl        labels_cl_unif ccpm           Quality Order run status Note\n",
       "1 Epithelial cells Epithelial     0300628_T1_TST         47    done1          \n",
       "2 Epithelial cells Epithelial     0300628_T1_TST         47    done1          \n",
       "3 Epithelial cells Epithelial     0300628_T1_TST         47    done1          \n",
       "4 Epithelial cells Epithelial     0300628_T1_TST         47    done1          \n",
       "5 Epithelial cells Epithelial     0300628_T1_TST         47    done1          \n",
       "6 Epithelial cells Epithelial     0300628_T1_TST         47    done1          \n",
       "  date       run_pipeline Channel Name   Lane Index    cancer site \n",
       "1 2019_04_02 FALSE        0300628_T1_TST 1    SI-GA-A1 breast liver\n",
       "2 2019_04_02 FALSE        0300628_T1_TST 1    SI-GA-A1 breast liver\n",
       "3 2019_04_02 FALSE        0300628_T1_TST 1    SI-GA-A1 breast liver\n",
       "4 2019_04_02 FALSE        0300628_T1_TST 1    SI-GA-A1 breast liver\n",
       "5 2019_04_02 FALSE        0300628_T1_TST 1    SI-GA-A1 breast liver\n",
       "6 2019_04_02 FALSE        0300628_T1_TST 1    SI-GA-A1 breast liver\n",
       "  reference             chemistry flowcell \n",
       "1 GRCh38_premrna_v3.0.0 SC3Pv3    HY3H7CCXY\n",
       "2 GRCh38_premrna_v3.0.0 SC3Pv3    HY3H7CCXY\n",
       "3 GRCh38_premrna_v3.0.0 SC3Pv3    HY3H7CCXY\n",
       "4 GRCh38_premrna_v3.0.0 SC3Pv3    HY3H7CCXY\n",
       "5 GRCh38_premrna_v3.0.0 SC3Pv3    HY3H7CCXY\n",
       "6 GRCh38_premrna_v3.0.0 SC3Pv3    HY3H7CCXY\n",
       "  seq_dir                                                 mode min_umis\n",
       "1 /transfer/190330_SL-HXZ_0566_BFCHY3H7CCXY V3   0       \n",
       "2 /transfer/190330_SL-HXZ_0566_BFCHY3H7CCXY V3   0       \n",
       "3 /transfer/190330_SL-HXZ_0566_BFCHY3H7CCXY V3   0       \n",
       "4 /transfer/190330_SL-HXZ_0566_BFCHY3H7CCXY V3   0       \n",
       "5 /transfer/190330_SL-HXZ_0566_BFCHY3H7CCXY V3   0       \n",
       "6 /transfer/190330_SL-HXZ_0566_BFCHY3H7CCXY V3   0       \n",
       "  min_genes percent_mito expected_cells total_droplets z_dim z_layers\n",
       "1 0         60           4000           30000          200   1000    \n",
       "2 0         60           4000           30000          200   1000    \n",
       "3 0         60           4000           30000          200   1000    \n",
       "4 0         60           4000           30000          200   1000    \n",
       "5 0         60           4000           30000          200   1000    \n",
       "6 0         60           4000           30000          200   1000    \n",
       "  channel_id                      label_concordance labels_cl_unif_per_channel\n",
       "1 HTAPP-211-SMP-6751_TST_channel1  TRUE             2282                      \n",
       "2 HTAPP-211-SMP-6751_TST_channel1  TRUE             2282                      \n",
       "3 HTAPP-211-SMP-6751_TST_channel1 FALSE             2282                      \n",
       "4 HTAPP-211-SMP-6751_TST_channel1  TRUE             2282                      \n",
       "5 HTAPP-211-SMP-6751_TST_channel1  TRUE             2282                      \n",
       "6 HTAPP-211-SMP-6751_TST_channel1  TRUE             2282                      \n",
       "  filt_median_genes filt_median_umi pass \n",
       "1 1548              2076            FALSE\n",
       "2 1548              2076            FALSE\n",
       "3 1548              2076            FALSE\n",
       "4 1548              2076            FALSE\n",
       "5 1548              2076             TRUE\n",
       "6 1548              2076            FALSE"
      ]
     },
     "metadata": {},
     "output_type": "display_data"
    }
   ],
   "source": [
    "filtered=fread(paste0(statsSummaryDir,\"/all_stats_filt.tsv\"))\n",
    "head(filtered)"
   ]
  },
  {
   "cell_type": "code",
   "execution_count": 3,
   "metadata": {},
   "outputs": [
    {
     "data": {
      "text/plain": [
       "\n",
       "       Adipocytes                 B                BM        BM & Prog. \n",
       "             7088             15822               219               133 \n",
       "     CD4+ T-cells      CD8+ T-cells               CMP       Chondrocyte \n",
       "            28373             62617                94             13353 \n",
       "               DC       Endothelial        Epithelial      Erythrocytes \n",
       "             8642             55109            534140              2382 \n",
       "       Fibroblast               HSC       Hepatocytes     Keratinocytes \n",
       "            40631              1446            110341               158 \n",
       "              MEP        Macrophage       Melanocytes   Mesangial cells \n",
       "               35             86419               193              2632 \n",
       "         Monocyte          Myocytes                NK           Neurons \n",
       "             7015              1308              7453             11737 \n",
       "       Neutrophil         Platelets  Pre-B_cell_CD34-  Pro-B_cell_CD34+ \n",
       "             1590               150              2653               506 \n",
       "    Pro-Myelocyte   Skeletal muscle     Smooth muscle           T_cells \n",
       "              414              2724             21478               854 \n",
       "Tissue_stem_cells         iPS_cells \n",
       "              452              5537 "
      ]
     },
     "metadata": {},
     "output_type": "display_data"
    }
   ],
   "source": [
    "table(filtered$labels_cl_unif)"
   ]
  },
  {
   "cell_type": "code",
   "execution_count": 13,
   "metadata": {},
   "outputs": [
    {
     "data": {
      "text/html": [
       "<table>\n",
       "<caption>A data.table: 6 x 28</caption>\n",
       "<thead>\n",
       "\t<tr><th scope=col>name</th><th scope=col>condition</th><th scope=col>replicate</th><th scope=col>ccpm</th><th scope=col>date</th><th scope=col>channel_id</th><th scope=col>Lane</th><th scope=col>Index</th><th scope=col>cancer</th><th scope=col>site</th><th scope=col>reference</th><th scope=col>flowcell</th><th scope=col>mode</th><th scope=col>orig.ident</th><th scope=col>mean_UMI</th><th scope=col>mean_genes</th><th scope=col>N_cells</th><th scope=col>mean_percent.mito</th><th scope=col>percent_epithelial</th><th scope=col>percent_chondrocyte</th><th scope=col>percent_epithelial_neuro</th><th scope=col>percent_epithelial_stem</th><th scope=col>percent_lymphocyte</th><th scope=col>percent_mono_macro</th><th scope=col>percent_fibroblast</th><th scope=col>percent_smooth_muscle</th><th scope=col>percent_endothelial</th><th scope=col>ccpmID</th></tr>\n",
       "\t<tr><th scope=col>&lt;chr&gt;</th><th scope=col>&lt;chr&gt;</th><th scope=col>&lt;chr&gt;</th><th scope=col>&lt;chr&gt;</th><th scope=col>&lt;chr&gt;</th><th scope=col>&lt;chr&gt;</th><th scope=col>&lt;chr&gt;</th><th scope=col>&lt;chr&gt;</th><th scope=col>&lt;chr&gt;</th><th scope=col>&lt;chr&gt;</th><th scope=col>&lt;chr&gt;</th><th scope=col>&lt;chr&gt;</th><th scope=col>&lt;chr&gt;</th><th scope=col>&lt;chr&gt;</th><th scope=col>&lt;int64&gt;</th><th scope=col>&lt;dbl&gt;</th><th scope=col>&lt;int&gt;</th><th scope=col>&lt;dbl&gt;</th><th scope=col>&lt;dbl&gt;</th><th scope=col>&lt;dbl&gt;</th><th scope=col>&lt;dbl&gt;</th><th scope=col>&lt;dbl&gt;</th><th scope=col>&lt;dbl&gt;</th><th scope=col>&lt;dbl&gt;</th><th scope=col>&lt;dbl&gt;</th><th scope=col>&lt;dbl&gt;</th><th scope=col>&lt;dbl&gt;</th><th scope=col>&lt;chr&gt;</th></tr>\n",
       "</thead>\n",
       "<tbody>\n",
       "\t<tr><td>HTAPP-211-SMP-6751</td><td>TST</td><td>channel1</td><td>0300628_T1_TST</td><td>2019_04_02</td><td>HTAPP-211-SMP-6751_TST_channel1</td><td>1</td><td>SI-GA-A1</td><td>breast</td><td>liver     </td><td>GRCh38_premrna_v3.0.0</td><td>HY3H7CCXY</td><td>V3</td><td>HTAPP-211-SMP-6751-TST-channel1</td><td>2234</td><td>1721.665</td><td>7766</td><td>0.9661109</td><td>15.13005</td><td>0.000000</td><td>0</td><td>0</td><td> 9.052279</td><td>18.54236</td><td> 0.00000</td><td>4.107649</td><td>10.803502</td><td>0300628T1</td></tr>\n",
       "\t<tr><td>HTAPP-211-SMP-6751</td><td>TST</td><td>channel2</td><td>0300628_T1_TST</td><td>2019_04_02</td><td>HTAPP-211-SMP-6751_TST_channel2</td><td>1</td><td>SI-GA-B1</td><td>breast</td><td>liver     </td><td>GRCh38_premrna_v3.0.0</td><td>HY3H7CCXY</td><td>V3</td><td>HTAPP-211-SMP-6751-TST-channel2</td><td>3139</td><td>2162.913</td><td>8876</td><td>1.7265257</td><td>14.55611</td><td>0.000000</td><td>0</td><td>0</td><td>12.460568</td><td>15.94187</td><td> 0.00000</td><td>3.864353</td><td>11.807120</td><td>0300628T1</td></tr>\n",
       "\t<tr><td>HTAPP-213-SMP-6752</td><td>TST</td><td>channel1</td><td>0300596_T1_TST</td><td>2019_04_02</td><td>HTAPP-213-SMP-6752_TST_channel1</td><td>1</td><td>SI-GA-C1</td><td>breast</td><td>chest wall</td><td>GRCh38_premrna_v3.0.0</td><td>HY3H7CCXY</td><td>V3</td><td>HTAPP-213-SMP-6752-TST-channel1</td><td>3305</td><td>2202.729</td><td>4921</td><td>2.3141744</td><td>32.71693</td><td>3.617151</td><td>0</td><td>0</td><td> 7.498476</td><td>20.62589</td><td>14.52957</td><td>0.000000</td><td> 6.441780</td><td>0300596T1</td></tr>\n",
       "\t<tr><td>HTAPP-213-SMP-6752</td><td>TST</td><td>channel2</td><td>0300596_T1_TST</td><td>2019_04_02</td><td>HTAPP-213-SMP-6752_TST_channel2</td><td>1</td><td>SI-GA-D1</td><td>breast</td><td>chest wall</td><td>GRCh38_premrna_v3.0.0</td><td>HY3H7CCXY</td><td>V3</td><td>HTAPP-213-SMP-6752-TST-channel2</td><td>2959</td><td>2078.521</td><td>5479</td><td>2.3462021</td><td>33.54627</td><td>5.201679</td><td>0</td><td>0</td><td> 6.844315</td><td>19.51086</td><td>13.25059</td><td>0.000000</td><td> 5.785727</td><td>0300596T1</td></tr>\n",
       "\t<tr><td>HTAPP-214-SMP-6753</td><td>TST</td><td>channel1</td><td>0200471_T1_TST</td><td>2019_04_02</td><td>HTAPP-214-SMP-6753_TST_channel1</td><td>2</td><td>SI-GA-E1</td><td>breast</td><td>liver     </td><td>GRCh38_premrna_v3.0.0</td><td>HY3H7CCXY</td><td>V3</td><td>HTAPP-214-SMP-6753-TST-channel1</td><td>2456</td><td>1879.743</td><td>  35</td><td>1.0271234</td><td>42.85714</td><td>0.000000</td><td>0</td><td>0</td><td> 0.000000</td><td>57.14286</td><td> 0.00000</td><td>0.000000</td><td> 0.000000</td><td>0200471T1</td></tr>\n",
       "\t<tr><td>HTAPP-214-SMP-6753</td><td>TST</td><td>channel2</td><td>0200471_T1_TST</td><td>2019_04_02</td><td>HTAPP-214-SMP-6753_TST_channel2</td><td>2</td><td>SI-GA-F1</td><td>breast</td><td>liver     </td><td>GRCh38_premrna_v3.0.0</td><td>HY3H7CCXY</td><td>V3</td><td>HTAPP-214-SMP-6753-TST-channel2</td><td>2224</td><td>1648.931</td><td>  29</td><td>1.2861955</td><td>37.93103</td><td>0.000000</td><td>0</td><td>0</td><td> 0.000000</td><td>62.06897</td><td> 0.00000</td><td>0.000000</td><td> 0.000000</td><td>0200471T1</td></tr>\n",
       "</tbody>\n",
       "</table>\n"
      ],
      "text/latex": [
       "A data.table: 6 x 28\n",
       "\\begin{tabular}{r|llllllllllllllllllllllllllll}\n",
       " name & condition & replicate & ccpm & date & channel\\_id & Lane & Index & cancer & site & reference & flowcell & mode & orig.ident & mean\\_UMI & mean\\_genes & N\\_cells & mean\\_percent.mito & percent\\_epithelial & percent\\_chondrocyte & percent\\_epithelial\\_neuro & percent\\_epithelial\\_stem & percent\\_lymphocyte & percent\\_mono\\_macro & percent\\_fibroblast & percent\\_smooth\\_muscle & percent\\_endothelial & ccpmID\\\\\n",
       " <chr> & <chr> & <chr> & <chr> & <chr> & <chr> & <chr> & <chr> & <chr> & <chr> & <chr> & <chr> & <chr> & <chr> & <int64> & <dbl> & <int> & <dbl> & <dbl> & <dbl> & <dbl> & <dbl> & <dbl> & <dbl> & <dbl> & <dbl> & <dbl> & <chr>\\\\\n",
       "\\hline\n",
       "\t HTAPP-211-SMP-6751 & TST & channel1 & 0300628\\_T1\\_TST & 2019\\_04\\_02 & HTAPP-211-SMP-6751\\_TST\\_channel1 & 1 & SI-GA-A1 & breast & liver      & GRCh38\\_premrna\\_v3.0.0 & HY3H7CCXY & V3 & HTAPP-211-SMP-6751-TST-channel1 & 2234 & 1721.665 & 7766 & 0.9661109 & 15.13005 & 0.000000 & 0 & 0 &  9.052279 & 18.54236 &  0.00000 & 4.107649 & 10.803502 & 0300628T1\\\\\n",
       "\t HTAPP-211-SMP-6751 & TST & channel2 & 0300628\\_T1\\_TST & 2019\\_04\\_02 & HTAPP-211-SMP-6751\\_TST\\_channel2 & 1 & SI-GA-B1 & breast & liver      & GRCh38\\_premrna\\_v3.0.0 & HY3H7CCXY & V3 & HTAPP-211-SMP-6751-TST-channel2 & 3139 & 2162.913 & 8876 & 1.7265257 & 14.55611 & 0.000000 & 0 & 0 & 12.460568 & 15.94187 &  0.00000 & 3.864353 & 11.807120 & 0300628T1\\\\\n",
       "\t HTAPP-213-SMP-6752 & TST & channel1 & 0300596\\_T1\\_TST & 2019\\_04\\_02 & HTAPP-213-SMP-6752\\_TST\\_channel1 & 1 & SI-GA-C1 & breast & chest wall & GRCh38\\_premrna\\_v3.0.0 & HY3H7CCXY & V3 & HTAPP-213-SMP-6752-TST-channel1 & 3305 & 2202.729 & 4921 & 2.3141744 & 32.71693 & 3.617151 & 0 & 0 &  7.498476 & 20.62589 & 14.52957 & 0.000000 &  6.441780 & 0300596T1\\\\\n",
       "\t HTAPP-213-SMP-6752 & TST & channel2 & 0300596\\_T1\\_TST & 2019\\_04\\_02 & HTAPP-213-SMP-6752\\_TST\\_channel2 & 1 & SI-GA-D1 & breast & chest wall & GRCh38\\_premrna\\_v3.0.0 & HY3H7CCXY & V3 & HTAPP-213-SMP-6752-TST-channel2 & 2959 & 2078.521 & 5479 & 2.3462021 & 33.54627 & 5.201679 & 0 & 0 &  6.844315 & 19.51086 & 13.25059 & 0.000000 &  5.785727 & 0300596T1\\\\\n",
       "\t HTAPP-214-SMP-6753 & TST & channel1 & 0200471\\_T1\\_TST & 2019\\_04\\_02 & HTAPP-214-SMP-6753\\_TST\\_channel1 & 2 & SI-GA-E1 & breast & liver      & GRCh38\\_premrna\\_v3.0.0 & HY3H7CCXY & V3 & HTAPP-214-SMP-6753-TST-channel1 & 2456 & 1879.743 &   35 & 1.0271234 & 42.85714 & 0.000000 & 0 & 0 &  0.000000 & 57.14286 &  0.00000 & 0.000000 &  0.000000 & 0200471T1\\\\\n",
       "\t HTAPP-214-SMP-6753 & TST & channel2 & 0200471\\_T1\\_TST & 2019\\_04\\_02 & HTAPP-214-SMP-6753\\_TST\\_channel2 & 2 & SI-GA-F1 & breast & liver      & GRCh38\\_premrna\\_v3.0.0 & HY3H7CCXY & V3 & HTAPP-214-SMP-6753-TST-channel2 & 2224 & 1648.931 &   29 & 1.2861955 & 37.93103 & 0.000000 & 0 & 0 &  0.000000 & 62.06897 &  0.00000 & 0.000000 &  0.000000 & 0200471T1\\\\\n",
       "\\end{tabular}\n"
      ],
      "text/markdown": [
       "\n",
       "A data.table: 6 x 28\n",
       "\n",
       "| name &lt;chr&gt; | condition &lt;chr&gt; | replicate &lt;chr&gt; | ccpm &lt;chr&gt; | date &lt;chr&gt; | channel_id &lt;chr&gt; | Lane &lt;chr&gt; | Index &lt;chr&gt; | cancer &lt;chr&gt; | site &lt;chr&gt; | reference &lt;chr&gt; | flowcell &lt;chr&gt; | mode &lt;chr&gt; | orig.ident &lt;chr&gt; | mean_UMI &lt;int64&gt; | mean_genes &lt;dbl&gt; | N_cells &lt;int&gt; | mean_percent.mito &lt;dbl&gt; | percent_epithelial &lt;dbl&gt; | percent_chondrocyte &lt;dbl&gt; | percent_epithelial_neuro &lt;dbl&gt; | percent_epithelial_stem &lt;dbl&gt; | percent_lymphocyte &lt;dbl&gt; | percent_mono_macro &lt;dbl&gt; | percent_fibroblast &lt;dbl&gt; | percent_smooth_muscle &lt;dbl&gt; | percent_endothelial &lt;dbl&gt; | ccpmID &lt;chr&gt; |\n",
       "|---|---|---|---|---|---|---|---|---|---|---|---|---|---|---|---|---|---|---|---|---|---|---|---|---|---|---|---|\n",
       "| HTAPP-211-SMP-6751 | TST | channel1 | 0300628_T1_TST | 2019_04_02 | HTAPP-211-SMP-6751_TST_channel1 | 1 | SI-GA-A1 | breast | liver      | GRCh38_premrna_v3.0.0 | HY3H7CCXY | V3 | HTAPP-211-SMP-6751-TST-channel1 | 2234 | 1721.665 | 7766 | 0.9661109 | 15.13005 | 0.000000 | 0 | 0 |  9.052279 | 18.54236 |  0.00000 | 4.107649 | 10.803502 | 0300628T1 |\n",
       "| HTAPP-211-SMP-6751 | TST | channel2 | 0300628_T1_TST | 2019_04_02 | HTAPP-211-SMP-6751_TST_channel2 | 1 | SI-GA-B1 | breast | liver      | GRCh38_premrna_v3.0.0 | HY3H7CCXY | V3 | HTAPP-211-SMP-6751-TST-channel2 | 3139 | 2162.913 | 8876 | 1.7265257 | 14.55611 | 0.000000 | 0 | 0 | 12.460568 | 15.94187 |  0.00000 | 3.864353 | 11.807120 | 0300628T1 |\n",
       "| HTAPP-213-SMP-6752 | TST | channel1 | 0300596_T1_TST | 2019_04_02 | HTAPP-213-SMP-6752_TST_channel1 | 1 | SI-GA-C1 | breast | chest wall | GRCh38_premrna_v3.0.0 | HY3H7CCXY | V3 | HTAPP-213-SMP-6752-TST-channel1 | 3305 | 2202.729 | 4921 | 2.3141744 | 32.71693 | 3.617151 | 0 | 0 |  7.498476 | 20.62589 | 14.52957 | 0.000000 |  6.441780 | 0300596T1 |\n",
       "| HTAPP-213-SMP-6752 | TST | channel2 | 0300596_T1_TST | 2019_04_02 | HTAPP-213-SMP-6752_TST_channel2 | 1 | SI-GA-D1 | breast | chest wall | GRCh38_premrna_v3.0.0 | HY3H7CCXY | V3 | HTAPP-213-SMP-6752-TST-channel2 | 2959 | 2078.521 | 5479 | 2.3462021 | 33.54627 | 5.201679 | 0 | 0 |  6.844315 | 19.51086 | 13.25059 | 0.000000 |  5.785727 | 0300596T1 |\n",
       "| HTAPP-214-SMP-6753 | TST | channel1 | 0200471_T1_TST | 2019_04_02 | HTAPP-214-SMP-6753_TST_channel1 | 2 | SI-GA-E1 | breast | liver      | GRCh38_premrna_v3.0.0 | HY3H7CCXY | V3 | HTAPP-214-SMP-6753-TST-channel1 | 2456 | 1879.743 |   35 | 1.0271234 | 42.85714 | 0.000000 | 0 | 0 |  0.000000 | 57.14286 |  0.00000 | 0.000000 |  0.000000 | 0200471T1 |\n",
       "| HTAPP-214-SMP-6753 | TST | channel2 | 0200471_T1_TST | 2019_04_02 | HTAPP-214-SMP-6753_TST_channel2 | 2 | SI-GA-F1 | breast | liver      | GRCh38_premrna_v3.0.0 | HY3H7CCXY | V3 | HTAPP-214-SMP-6753-TST-channel2 | 2224 | 1648.931 |   29 | 1.2861955 | 37.93103 | 0.000000 | 0 | 0 |  0.000000 | 62.06897 |  0.00000 | 0.000000 |  0.000000 | 0200471T1 |\n",
       "\n"
      ],
      "text/plain": [
       "  name               condition replicate ccpm           date      \n",
       "1 HTAPP-211-SMP-6751 TST       channel1  0300628_T1_TST 2019_04_02\n",
       "2 HTAPP-211-SMP-6751 TST       channel2  0300628_T1_TST 2019_04_02\n",
       "3 HTAPP-213-SMP-6752 TST       channel1  0300596_T1_TST 2019_04_02\n",
       "4 HTAPP-213-SMP-6752 TST       channel2  0300596_T1_TST 2019_04_02\n",
       "5 HTAPP-214-SMP-6753 TST       channel1  0200471_T1_TST 2019_04_02\n",
       "6 HTAPP-214-SMP-6753 TST       channel2  0200471_T1_TST 2019_04_02\n",
       "  channel_id                      Lane Index    cancer site      \n",
       "1 HTAPP-211-SMP-6751_TST_channel1 1    SI-GA-A1 breast liver     \n",
       "2 HTAPP-211-SMP-6751_TST_channel2 1    SI-GA-B1 breast liver     \n",
       "3 HTAPP-213-SMP-6752_TST_channel1 1    SI-GA-C1 breast chest wall\n",
       "4 HTAPP-213-SMP-6752_TST_channel2 1    SI-GA-D1 breast chest wall\n",
       "5 HTAPP-214-SMP-6753_TST_channel1 2    SI-GA-E1 breast liver     \n",
       "6 HTAPP-214-SMP-6753_TST_channel2 2    SI-GA-F1 breast liver     \n",
       "  reference             flowcell  mode orig.ident                      mean_UMI\n",
       "1 GRCh38_premrna_v3.0.0 HY3H7CCXY V3   HTAPP-211-SMP-6751-TST-channel1 2234    \n",
       "2 GRCh38_premrna_v3.0.0 HY3H7CCXY V3   HTAPP-211-SMP-6751-TST-channel2 3139    \n",
       "3 GRCh38_premrna_v3.0.0 HY3H7CCXY V3   HTAPP-213-SMP-6752-TST-channel1 3305    \n",
       "4 GRCh38_premrna_v3.0.0 HY3H7CCXY V3   HTAPP-213-SMP-6752-TST-channel2 2959    \n",
       "5 GRCh38_premrna_v3.0.0 HY3H7CCXY V3   HTAPP-214-SMP-6753-TST-channel1 2456    \n",
       "6 GRCh38_premrna_v3.0.0 HY3H7CCXY V3   HTAPP-214-SMP-6753-TST-channel2 2224    \n",
       "  mean_genes N_cells mean_percent.mito percent_epithelial percent_chondrocyte\n",
       "1 1721.665   7766    0.9661109         15.13005           0.000000           \n",
       "2 2162.913   8876    1.7265257         14.55611           0.000000           \n",
       "3 2202.729   4921    2.3141744         32.71693           3.617151           \n",
       "4 2078.521   5479    2.3462021         33.54627           5.201679           \n",
       "5 1879.743     35    1.0271234         42.85714           0.000000           \n",
       "6 1648.931     29    1.2861955         37.93103           0.000000           \n",
       "  percent_epithelial_neuro percent_epithelial_stem percent_lymphocyte\n",
       "1 0                        0                        9.052279         \n",
       "2 0                        0                       12.460568         \n",
       "3 0                        0                        7.498476         \n",
       "4 0                        0                        6.844315         \n",
       "5 0                        0                        0.000000         \n",
       "6 0                        0                        0.000000         \n",
       "  percent_mono_macro percent_fibroblast percent_smooth_muscle\n",
       "1 18.54236            0.00000           4.107649             \n",
       "2 15.94187            0.00000           3.864353             \n",
       "3 20.62589           14.52957           0.000000             \n",
       "4 19.51086           13.25059           0.000000             \n",
       "5 57.14286            0.00000           0.000000             \n",
       "6 62.06897            0.00000           0.000000             \n",
       "  percent_endothelial ccpmID   \n",
       "1 10.803502           0300628T1\n",
       "2 11.807120           0300628T1\n",
       "3  6.441780           0300596T1\n",
       "4  5.785727           0300596T1\n",
       "5  0.000000           0200471T1\n",
       "6  0.000000           0200471T1"
      ]
     },
     "metadata": {},
     "output_type": "display_data"
    }
   ],
   "source": [
    "filtered_red=filtered[pass==TRUE,.(mean_UMI=mean(nCount_RNA),mean_genes=mean(nFeature_RNA),N_cells=.N,mean_percent.mito=mean(percent.mito),\n",
    "                         percent_epithelial=sum(labels_cl_unif%in%c(\"Epithelial\"))/.N*100,\n",
    "                         percent_chondrocyte=sum(labels_cl_unif%in%c(\"Chondrocyte\"))/.N*100,\n",
    "                         percent_epithelial_neuro=sum(labels_cl_unif%in%c(\"Neurons\"))/.N*100, \n",
    "                         percent_epithelial_stem=sum(labels_cl_unif%in%c(\"iPS_cells\"))/.N*100,\n",
    "                         percent_lymphocyte=sum(labels_cl_unif%in%c(\"B\",\"CD4+ T-cells\",\"CD8+ T-cells\",\"NK\"))/.N*100,\n",
    "                         percent_mono_macro=sum(labels_cl_unif%in%c(\"Monocyte\",\"Macrophage\"))/.N*100,\n",
    "                         percent_fibroblast=sum(labels_cl_unif%in%c(\"Fibroblast\"))/.N*100,\n",
    "                         percent_smooth_muscle=sum(labels_cl_unif%in%c(\"Smooth muscle\"))/.N*100,\n",
    "                         percent_endothelial=sum(labels_cl_unif%in%c(\"Endothelial\"))/.N*100),\n",
    "                      by=c(\"name\",\"condition\",\"replicate\",\"ccpm\",\"date\",\"channel_id\",\"Lane\",\"Index\",\"cancer\",\"site\",\"reference\",\"flowcell\",\"mode\",\"orig.ident\")]\n",
    "filtered_red[,ccpmID:=sub(\"_.*|\\\\(.*\",\"\",sub(\"_\",\"\",ccpm)),]\n",
    "head(filtered_red)"
   ]
  },
  {
   "cell_type": "code",
   "execution_count": 14,
   "metadata": {},
   "outputs": [
    {
     "data": {
      "text/html": [
       "125"
      ],
      "text/latex": [
       "125"
      ],
      "text/markdown": [
       "125"
      ],
      "text/plain": [
       "[1] 125"
      ]
     },
     "metadata": {},
     "output_type": "display_data"
    }
   ],
   "source": [
    "nrow(filtered_red)"
   ]
  },
  {
   "cell_type": "code",
   "execution_count": 15,
   "metadata": {},
   "outputs": [
    {
     "data": {
      "text/html": [
       "72"
      ],
      "text/latex": [
       "72"
      ],
      "text/markdown": [
       "72"
      ],
      "text/plain": [
       "[1] 72"
      ]
     },
     "metadata": {},
     "output_type": "display_data"
    }
   ],
   "source": [
    "length(unique(filtered_red$name))"
   ]
  },
  {
   "cell_type": "code",
   "execution_count": 16,
   "metadata": {},
   "outputs": [],
   "source": [
    "#collect scrublet\n",
    "files=list.files(path = paste0(analysisDir,\"/00_scrublet\"),pattern = \"doublet_scores.tsv\",recursive = TRUE,full.names = TRUE)"
   ]
  },
  {
   "cell_type": "code",
   "execution_count": 17,
   "metadata": {},
   "outputs": [
    {
     "data": {
      "text/html": [
       "<table>\n",
       "<caption>A data.table: 6 x 4</caption>\n",
       "<thead>\n",
       "\t<tr><th scope=col>cellid</th><th scope=col>doublet_scores</th><th scope=col>is.doublet</th><th scope=col>ident</th></tr>\n",
       "\t<tr><th scope=col>&lt;chr&gt;</th><th scope=col>&lt;dbl&gt;</th><th scope=col>&lt;lgl&gt;</th><th scope=col>&lt;chr&gt;</th></tr>\n",
       "</thead>\n",
       "<tbody>\n",
       "\t<tr><td>HTAPP-211-SMP-6751-TST-channel1_CCAATGACAGTTCACA-1</td><td>0.04502823</td><td>FALSE</td><td>HTAPP-211-SMP-6751-TST-channel1</td></tr>\n",
       "\t<tr><td>HTAPP-211-SMP-6751-TST-channel1_ATTTCACGTTGCATAC-1</td><td>0.04674157</td><td>FALSE</td><td>HTAPP-211-SMP-6751-TST-channel1</td></tr>\n",
       "\t<tr><td>HTAPP-211-SMP-6751-TST-channel1_AACCTGAAGTTCATGC-1</td><td>0.04420558</td><td>FALSE</td><td>HTAPP-211-SMP-6751-TST-channel1</td></tr>\n",
       "\t<tr><td>HTAPP-211-SMP-6751-TST-channel1_CAACAGTAGCTGTTCA-1</td><td>0.11697667</td><td>FALSE</td><td>HTAPP-211-SMP-6751-TST-channel1</td></tr>\n",
       "\t<tr><td>HTAPP-211-SMP-6751-TST-channel1_GGGTCTGGTTACGTAC-1</td><td>0.04855204</td><td>FALSE</td><td>HTAPP-211-SMP-6751-TST-channel1</td></tr>\n",
       "\t<tr><td>HTAPP-211-SMP-6751-TST-channel1_GATGCTAAGGGCAGGA-1</td><td>0.04763415</td><td>FALSE</td><td>HTAPP-211-SMP-6751-TST-channel1</td></tr>\n",
       "</tbody>\n",
       "</table>\n"
      ],
      "text/latex": [
       "A data.table: 6 x 4\n",
       "\\begin{tabular}{r|llll}\n",
       " cellid & doublet\\_scores & is.doublet & ident\\\\\n",
       " <chr> & <dbl> & <lgl> & <chr>\\\\\n",
       "\\hline\n",
       "\t HTAPP-211-SMP-6751-TST-channel1\\_CCAATGACAGTTCACA-1 & 0.04502823 & FALSE & HTAPP-211-SMP-6751-TST-channel1\\\\\n",
       "\t HTAPP-211-SMP-6751-TST-channel1\\_ATTTCACGTTGCATAC-1 & 0.04674157 & FALSE & HTAPP-211-SMP-6751-TST-channel1\\\\\n",
       "\t HTAPP-211-SMP-6751-TST-channel1\\_AACCTGAAGTTCATGC-1 & 0.04420558 & FALSE & HTAPP-211-SMP-6751-TST-channel1\\\\\n",
       "\t HTAPP-211-SMP-6751-TST-channel1\\_CAACAGTAGCTGTTCA-1 & 0.11697667 & FALSE & HTAPP-211-SMP-6751-TST-channel1\\\\\n",
       "\t HTAPP-211-SMP-6751-TST-channel1\\_GGGTCTGGTTACGTAC-1 & 0.04855204 & FALSE & HTAPP-211-SMP-6751-TST-channel1\\\\\n",
       "\t HTAPP-211-SMP-6751-TST-channel1\\_GATGCTAAGGGCAGGA-1 & 0.04763415 & FALSE & HTAPP-211-SMP-6751-TST-channel1\\\\\n",
       "\\end{tabular}\n"
      ],
      "text/markdown": [
       "\n",
       "A data.table: 6 x 4\n",
       "\n",
       "| cellid &lt;chr&gt; | doublet_scores &lt;dbl&gt; | is.doublet &lt;lgl&gt; | ident &lt;chr&gt; |\n",
       "|---|---|---|---|\n",
       "| HTAPP-211-SMP-6751-TST-channel1_CCAATGACAGTTCACA-1 | 0.04502823 | FALSE | HTAPP-211-SMP-6751-TST-channel1 |\n",
       "| HTAPP-211-SMP-6751-TST-channel1_ATTTCACGTTGCATAC-1 | 0.04674157 | FALSE | HTAPP-211-SMP-6751-TST-channel1 |\n",
       "| HTAPP-211-SMP-6751-TST-channel1_AACCTGAAGTTCATGC-1 | 0.04420558 | FALSE | HTAPP-211-SMP-6751-TST-channel1 |\n",
       "| HTAPP-211-SMP-6751-TST-channel1_CAACAGTAGCTGTTCA-1 | 0.11697667 | FALSE | HTAPP-211-SMP-6751-TST-channel1 |\n",
       "| HTAPP-211-SMP-6751-TST-channel1_GGGTCTGGTTACGTAC-1 | 0.04855204 | FALSE | HTAPP-211-SMP-6751-TST-channel1 |\n",
       "| HTAPP-211-SMP-6751-TST-channel1_GATGCTAAGGGCAGGA-1 | 0.04763415 | FALSE | HTAPP-211-SMP-6751-TST-channel1 |\n",
       "\n"
      ],
      "text/plain": [
       "  cellid                                             doublet_scores is.doublet\n",
       "1 HTAPP-211-SMP-6751-TST-channel1_CCAATGACAGTTCACA-1 0.04502823     FALSE     \n",
       "2 HTAPP-211-SMP-6751-TST-channel1_ATTTCACGTTGCATAC-1 0.04674157     FALSE     \n",
       "3 HTAPP-211-SMP-6751-TST-channel1_AACCTGAAGTTCATGC-1 0.04420558     FALSE     \n",
       "4 HTAPP-211-SMP-6751-TST-channel1_CAACAGTAGCTGTTCA-1 0.11697667     FALSE     \n",
       "5 HTAPP-211-SMP-6751-TST-channel1_GGGTCTGGTTACGTAC-1 0.04855204     FALSE     \n",
       "6 HTAPP-211-SMP-6751-TST-channel1_GATGCTAAGGGCAGGA-1 0.04763415     FALSE     \n",
       "  ident                          \n",
       "1 HTAPP-211-SMP-6751-TST-channel1\n",
       "2 HTAPP-211-SMP-6751-TST-channel1\n",
       "3 HTAPP-211-SMP-6751-TST-channel1\n",
       "4 HTAPP-211-SMP-6751-TST-channel1\n",
       "5 HTAPP-211-SMP-6751-TST-channel1\n",
       "6 HTAPP-211-SMP-6751-TST-channel1"
      ]
     },
     "metadata": {},
     "output_type": "display_data"
    }
   ],
   "source": [
    "doublet_scores=data.table()\n",
    "for (file in files){\n",
    "    doublet_scores=rbindlist(list(doublet_scores,fread(file)))\n",
    "}\n",
    "head(doublet_scores)"
   ]
  },
  {
   "cell_type": "code",
   "execution_count": 18,
   "metadata": {},
   "outputs": [
    {
     "data": {
      "text/html": [
       "<table>\n",
       "<caption>A data.table: 6 x 3</caption>\n",
       "<thead>\n",
       "\t<tr><th scope=col>ident</th><th scope=col>mean_doublet_score</th><th scope=col>percent_doublet</th></tr>\n",
       "\t<tr><th scope=col>&lt;chr&gt;</th><th scope=col>&lt;dbl&gt;</th><th scope=col>&lt;dbl&gt;</th></tr>\n",
       "</thead>\n",
       "<tbody>\n",
       "\t<tr><td>HTAPP-211-SMP-6751-TST-channel1</td><td>0.06210106</td><td>0.78547515</td></tr>\n",
       "\t<tr><td>HTAPP-211-SMP-6751-TST-channel2</td><td>0.06733134</td><td>0.92383957</td></tr>\n",
       "\t<tr><td>HTAPP-213-SMP-6752-TST-channel1</td><td>0.03925322</td><td>0.30481609</td></tr>\n",
       "\t<tr><td>HTAPP-213-SMP-6752-TST-channel2</td><td>0.04787930</td><td>0.82131776</td></tr>\n",
       "\t<tr><td>HTAPP-223-SMP-6755-TST-channel1</td><td>0.09308575</td><td>0.06076811</td></tr>\n",
       "\t<tr><td>HTAPP-223-SMP-6755-TST-channel2</td><td>0.05616194</td><td>0.05279134</td></tr>\n",
       "</tbody>\n",
       "</table>\n"
      ],
      "text/latex": [
       "A data.table: 6 x 3\n",
       "\\begin{tabular}{r|lll}\n",
       " ident & mean\\_doublet\\_score & percent\\_doublet\\\\\n",
       " <chr> & <dbl> & <dbl>\\\\\n",
       "\\hline\n",
       "\t HTAPP-211-SMP-6751-TST-channel1 & 0.06210106 & 0.78547515\\\\\n",
       "\t HTAPP-211-SMP-6751-TST-channel2 & 0.06733134 & 0.92383957\\\\\n",
       "\t HTAPP-213-SMP-6752-TST-channel1 & 0.03925322 & 0.30481609\\\\\n",
       "\t HTAPP-213-SMP-6752-TST-channel2 & 0.04787930 & 0.82131776\\\\\n",
       "\t HTAPP-223-SMP-6755-TST-channel1 & 0.09308575 & 0.06076811\\\\\n",
       "\t HTAPP-223-SMP-6755-TST-channel2 & 0.05616194 & 0.05279134\\\\\n",
       "\\end{tabular}\n"
      ],
      "text/markdown": [
       "\n",
       "A data.table: 6 x 3\n",
       "\n",
       "| ident &lt;chr&gt; | mean_doublet_score &lt;dbl&gt; | percent_doublet &lt;dbl&gt; |\n",
       "|---|---|---|\n",
       "| HTAPP-211-SMP-6751-TST-channel1 | 0.06210106 | 0.78547515 |\n",
       "| HTAPP-211-SMP-6751-TST-channel2 | 0.06733134 | 0.92383957 |\n",
       "| HTAPP-213-SMP-6752-TST-channel1 | 0.03925322 | 0.30481609 |\n",
       "| HTAPP-213-SMP-6752-TST-channel2 | 0.04787930 | 0.82131776 |\n",
       "| HTAPP-223-SMP-6755-TST-channel1 | 0.09308575 | 0.06076811 |\n",
       "| HTAPP-223-SMP-6755-TST-channel2 | 0.05616194 | 0.05279134 |\n",
       "\n"
      ],
      "text/plain": [
       "  ident                           mean_doublet_score percent_doublet\n",
       "1 HTAPP-211-SMP-6751-TST-channel1 0.06210106         0.78547515     \n",
       "2 HTAPP-211-SMP-6751-TST-channel2 0.06733134         0.92383957     \n",
       "3 HTAPP-213-SMP-6752-TST-channel1 0.03925322         0.30481609     \n",
       "4 HTAPP-213-SMP-6752-TST-channel2 0.04787930         0.82131776     \n",
       "5 HTAPP-223-SMP-6755-TST-channel1 0.09308575         0.06076811     \n",
       "6 HTAPP-223-SMP-6755-TST-channel2 0.05616194         0.05279134     "
      ]
     },
     "metadata": {},
     "output_type": "display_data"
    },
    {
     "data": {
      "text/plain": [
       "   Min. 1st Qu.  Median    Mean 3rd Qu.    Max. \n",
       " 0.0000  0.1216  0.3006  1.0805  0.7170 60.0808 "
      ]
     },
     "metadata": {},
     "output_type": "display_data"
    }
   ],
   "source": [
    "doublet_scores_red=doublet_scores[,.(mean_doublet_score=mean(doublet_scores),percent_doublet=sum(is.doublet)/.N*100),by=ident]\n",
    "head(doublet_scores_red)\n",
    "summary(doublet_scores_red$percent_doublet)"
   ]
  },
  {
   "cell_type": "markdown",
   "metadata": {},
   "source": [
    "### Stats"
   ]
  },
  {
   "cell_type": "code",
   "execution_count": 19,
   "metadata": {},
   "outputs": [],
   "source": [
    "sample_sheet[,stats_data:=paste0(dataDir,sampleid,\"_10x/\",channel_id,\"/metrics_summary.csv\"),]"
   ]
  },
  {
   "cell_type": "code",
   "execution_count": 20,
   "metadata": {},
   "outputs": [],
   "source": [
    "parse_stats=function(files,cols=c(\"Estimated Number of Cells\", \"Mean Reads per Cell\", \"Median Genes per Cell\", \"Number of Reads\",\"Fraction Reads in Cells\",\n",
    "                                  \"Sequencing Saturation\",\"Reads Mapped Confidently to Genome\",\"Reads Mapped Confidently to Transcriptome\",\"Reads Mapped Antisense to Gene\")){\n",
    "  all_stats=data.table()\n",
    "  for (file in files){\n",
    "    sample_name=unlist(strsplit(file,\"/\"))[11]\n",
    "    stats=fread(file)\n",
    "    stats_sel=stats[,cols,with=FALSE] \n",
    "    stats_sel=as.data.table(apply(stats_sel,c(1,2),function(x){as.numeric(gsub(\",|%\",\"\",x))}))\n",
    "    stats_sel[,sampleName:=sample_name,]\n",
    "    stats_sel[,sampleid:=unlist(strsplit(sample_name,\"_\"))[1],by=1:nrow(stats_sel)]\n",
    "    all_stats=rbindlist(list(all_stats,stats_sel),use.names = TRUE)\n",
    "  }\n",
    "  return(all_stats)\n",
    "}"
   ]
  },
  {
   "cell_type": "code",
   "execution_count": 21,
   "metadata": {},
   "outputs": [
    {
     "data": {
      "text/html": [
       "<table>\n",
       "<caption>A data.table: 6 x 11</caption>\n",
       "<thead>\n",
       "\t<tr><th scope=col>Estimated Number of Cells</th><th scope=col>Mean Reads per Cell</th><th scope=col>Median Genes per Cell</th><th scope=col>Number of Reads</th><th scope=col>Fraction Reads in Cells</th><th scope=col>Sequencing Saturation</th><th scope=col>Reads Mapped Confidently to Genome</th><th scope=col>Reads Mapped Confidently to Transcriptome</th><th scope=col>Reads Mapped Antisense to Gene</th><th scope=col>sampleName</th><th scope=col>sampleid</th></tr>\n",
       "\t<tr><th scope=col>&lt;dbl&gt;</th><th scope=col>&lt;dbl&gt;</th><th scope=col>&lt;dbl&gt;</th><th scope=col>&lt;dbl&gt;</th><th scope=col>&lt;dbl&gt;</th><th scope=col>&lt;dbl&gt;</th><th scope=col>&lt;dbl&gt;</th><th scope=col>&lt;dbl&gt;</th><th scope=col>&lt;dbl&gt;</th><th scope=col>&lt;chr&gt;</th><th scope=col>&lt;chr&gt;</th></tr>\n",
       "</thead>\n",
       "<tbody>\n",
       "\t<tr><td>2271</td><td>42127</td><td> 352</td><td> 95671434</td><td>68.6</td><td>69.8</td><td>86.3</td><td>59.0</td><td> 1.4</td><td>HTAPP-988-SMP-7749_fresh_channel1</td><td>HTAPP-988-SMP-7749</td></tr>\n",
       "\t<tr><td>5016</td><td>20213</td><td>2206</td><td>101391650</td><td>90.0</td><td>19.9</td><td>92.7</td><td>60.3</td><td> 1.5</td><td>HTAPP-759-SMP-8359_fresh_channel1</td><td>HTAPP-759-SMP-8359</td></tr>\n",
       "\t<tr><td>5116</td><td>20864</td><td>2234</td><td>106743745</td><td>89.3</td><td>20.4</td><td>91.9</td><td>60.2</td><td> 1.5</td><td>HTAPP-759-SMP-8359_fresh_channel2</td><td>HTAPP-759-SMP-8359</td></tr>\n",
       "\t<tr><td>6589</td><td>17858</td><td> 981</td><td>117669602</td><td>73.5</td><td>19.9</td><td>93.9</td><td>60.6</td><td> 1.9</td><td>HTAPP-812-SMP-8239_fresh_channel1</td><td>HTAPP-812-SMP-8239</td></tr>\n",
       "\t<tr><td>6980</td><td>39980</td><td>2518</td><td>279061732</td><td>81.9</td><td>31.8</td><td>51.8</td><td>27.9</td><td>14.8</td><td>HTAPP-997-SMP-7789_TST_channel1  </td><td>HTAPP-997-SMP-7789</td></tr>\n",
       "\t<tr><td>6851</td><td>21690</td><td>1989</td><td>148599626</td><td>81.1</td><td>24.0</td><td>61.5</td><td>33.3</td><td>17.3</td><td>HTAPP-997-SMP-7789_TST_channel2  </td><td>HTAPP-997-SMP-7789</td></tr>\n",
       "</tbody>\n",
       "</table>\n"
      ],
      "text/latex": [
       "A data.table: 6 x 11\n",
       "\\begin{tabular}{r|lllllllllll}\n",
       " Estimated Number of Cells & Mean Reads per Cell & Median Genes per Cell & Number of Reads & Fraction Reads in Cells & Sequencing Saturation & Reads Mapped Confidently to Genome & Reads Mapped Confidently to Transcriptome & Reads Mapped Antisense to Gene & sampleName & sampleid\\\\\n",
       " <dbl> & <dbl> & <dbl> & <dbl> & <dbl> & <dbl> & <dbl> & <dbl> & <dbl> & <chr> & <chr>\\\\\n",
       "\\hline\n",
       "\t 2271 & 42127 &  352 &  95671434 & 68.6 & 69.8 & 86.3 & 59.0 &  1.4 & HTAPP-988-SMP-7749\\_fresh\\_channel1 & HTAPP-988-SMP-7749\\\\\n",
       "\t 5016 & 20213 & 2206 & 101391650 & 90.0 & 19.9 & 92.7 & 60.3 &  1.5 & HTAPP-759-SMP-8359\\_fresh\\_channel1 & HTAPP-759-SMP-8359\\\\\n",
       "\t 5116 & 20864 & 2234 & 106743745 & 89.3 & 20.4 & 91.9 & 60.2 &  1.5 & HTAPP-759-SMP-8359\\_fresh\\_channel2 & HTAPP-759-SMP-8359\\\\\n",
       "\t 6589 & 17858 &  981 & 117669602 & 73.5 & 19.9 & 93.9 & 60.6 &  1.9 & HTAPP-812-SMP-8239\\_fresh\\_channel1 & HTAPP-812-SMP-8239\\\\\n",
       "\t 6980 & 39980 & 2518 & 279061732 & 81.9 & 31.8 & 51.8 & 27.9 & 14.8 & HTAPP-997-SMP-7789\\_TST\\_channel1   & HTAPP-997-SMP-7789\\\\\n",
       "\t 6851 & 21690 & 1989 & 148599626 & 81.1 & 24.0 & 61.5 & 33.3 & 17.3 & HTAPP-997-SMP-7789\\_TST\\_channel2   & HTAPP-997-SMP-7789\\\\\n",
       "\\end{tabular}\n"
      ],
      "text/markdown": [
       "\n",
       "A data.table: 6 x 11\n",
       "\n",
       "| Estimated Number of Cells &lt;dbl&gt; | Mean Reads per Cell &lt;dbl&gt; | Median Genes per Cell &lt;dbl&gt; | Number of Reads &lt;dbl&gt; | Fraction Reads in Cells &lt;dbl&gt; | Sequencing Saturation &lt;dbl&gt; | Reads Mapped Confidently to Genome &lt;dbl&gt; | Reads Mapped Confidently to Transcriptome &lt;dbl&gt; | Reads Mapped Antisense to Gene &lt;dbl&gt; | sampleName &lt;chr&gt; | sampleid &lt;chr&gt; |\n",
       "|---|---|---|---|---|---|---|---|---|---|---|\n",
       "| 2271 | 42127 |  352 |  95671434 | 68.6 | 69.8 | 86.3 | 59.0 |  1.4 | HTAPP-988-SMP-7749_fresh_channel1 | HTAPP-988-SMP-7749 |\n",
       "| 5016 | 20213 | 2206 | 101391650 | 90.0 | 19.9 | 92.7 | 60.3 |  1.5 | HTAPP-759-SMP-8359_fresh_channel1 | HTAPP-759-SMP-8359 |\n",
       "| 5116 | 20864 | 2234 | 106743745 | 89.3 | 20.4 | 91.9 | 60.2 |  1.5 | HTAPP-759-SMP-8359_fresh_channel2 | HTAPP-759-SMP-8359 |\n",
       "| 6589 | 17858 |  981 | 117669602 | 73.5 | 19.9 | 93.9 | 60.6 |  1.9 | HTAPP-812-SMP-8239_fresh_channel1 | HTAPP-812-SMP-8239 |\n",
       "| 6980 | 39980 | 2518 | 279061732 | 81.9 | 31.8 | 51.8 | 27.9 | 14.8 | HTAPP-997-SMP-7789_TST_channel1   | HTAPP-997-SMP-7789 |\n",
       "| 6851 | 21690 | 1989 | 148599626 | 81.1 | 24.0 | 61.5 | 33.3 | 17.3 | HTAPP-997-SMP-7789_TST_channel2   | HTAPP-997-SMP-7789 |\n",
       "\n"
      ],
      "text/plain": [
       "  Estimated Number of Cells Mean Reads per Cell Median Genes per Cell\n",
       "1 2271                      42127                352                 \n",
       "2 5016                      20213               2206                 \n",
       "3 5116                      20864               2234                 \n",
       "4 6589                      17858                981                 \n",
       "5 6980                      39980               2518                 \n",
       "6 6851                      21690               1989                 \n",
       "  Number of Reads Fraction Reads in Cells Sequencing Saturation\n",
       "1  95671434       68.6                    69.8                 \n",
       "2 101391650       90.0                    19.9                 \n",
       "3 106743745       89.3                    20.4                 \n",
       "4 117669602       73.5                    19.9                 \n",
       "5 279061732       81.9                    31.8                 \n",
       "6 148599626       81.1                    24.0                 \n",
       "  Reads Mapped Confidently to Genome Reads Mapped Confidently to Transcriptome\n",
       "1 86.3                               59.0                                     \n",
       "2 92.7                               60.3                                     \n",
       "3 91.9                               60.2                                     \n",
       "4 93.9                               60.6                                     \n",
       "5 51.8                               27.9                                     \n",
       "6 61.5                               33.3                                     \n",
       "  Reads Mapped Antisense to Gene sampleName                       \n",
       "1  1.4                           HTAPP-988-SMP-7749_fresh_channel1\n",
       "2  1.5                           HTAPP-759-SMP-8359_fresh_channel1\n",
       "3  1.5                           HTAPP-759-SMP-8359_fresh_channel2\n",
       "4  1.9                           HTAPP-812-SMP-8239_fresh_channel1\n",
       "5 14.8                           HTAPP-997-SMP-7789_TST_channel1  \n",
       "6 17.3                           HTAPP-997-SMP-7789_TST_channel2  \n",
       "  sampleid          \n",
       "1 HTAPP-988-SMP-7749\n",
       "2 HTAPP-759-SMP-8359\n",
       "3 HTAPP-759-SMP-8359\n",
       "4 HTAPP-812-SMP-8239\n",
       "5 HTAPP-997-SMP-7789\n",
       "6 HTAPP-997-SMP-7789"
      ]
     },
     "metadata": {},
     "output_type": "display_data"
    }
   ],
   "source": [
    "cr_stats=parse_stats(unique(sample_sheet$stats_data))\n",
    "tail(cr_stats)"
   ]
  },
  {
   "cell_type": "markdown",
   "metadata": {},
   "source": [
    "### Clinical"
   ]
  },
  {
   "cell_type": "code",
   "execution_count": 22,
   "metadata": {},
   "outputs": [
    {
     "data": {
      "text/html": [
       "<table>\n",
       "<caption>A data.table: 6 x 40</caption>\n",
       "<thead>\n",
       "\t<tr><th scope=col>ccpm_id</th><th scope=col>ccpm_id_long</th><th scope=col>sample</th><th scope=col>cohort</th><th scope=col>sequenced</th><th scope=col>annotated</th><th scope=col>fresh</th><th scope=col>frozen</th><th scope=col>path_tumor_present</th><th scope=col>ofir</th><th scope=col>stage_at_diagnosis</th><th scope=col>metastatic_presentation</th><th scope=col>biopsy_days_after_dob</th><th scope=col>biopsy_days_after_diagnosis</th><th scope=col>biopsy_days_after_metastasis</th><th scope=col>prior_lines_tx_metastatic</th><th scope=col>prior_lines_tx_total</th><th scope=col>ER_primary_fraction</th><th scope=col>ER_primary</th><th scope=col>ER_biopsy_fraction</th><th scope=col>ER_biopsy</th><th scope=col>ER_concordance</th><th scope=col>PR_primary_fraction</th><th scope=col>PR_primary</th><th scope=col>PR_biopsy_fraction</th><th scope=col>PR_biopsy</th><th scope=col>PR_concordance</th><th scope=col>HER2_primary</th><th scope=col>HER2_biopsy</th><th scope=col>HER2_concordance</th><th scope=col>receptors_primary</th><th scope=col>receptors_biopsy</th><th scope=col>site_biopsy</th><th scope=col>site_biopsy_detail</th><th scope=col>grade_breast</th><th scope=col>histology_breast</th><th scope=col>histology_breast2</th><th scope=col>histology_biopsy</th><th scope=col>inflammatory</th><th scope=col>ccpmID</th></tr>\n",
       "\t<tr><th scope=col>&lt;dbl&gt;</th><th scope=col>&lt;dbl&gt;</th><th scope=col>&lt;chr&gt;</th><th scope=col>&lt;chr&gt;</th><th scope=col>&lt;chr&gt;</th><th scope=col>&lt;chr&gt;</th><th scope=col>&lt;chr&gt;</th><th scope=col>&lt;chr&gt;</th><th scope=col>&lt;chr&gt;</th><th scope=col>&lt;lgl&gt;</th><th scope=col>&lt;chr&gt;</th><th scope=col>&lt;chr&gt;</th><th scope=col>&lt;chr&gt;</th><th scope=col>&lt;chr&gt;</th><th scope=col>&lt;chr&gt;</th><th scope=col>&lt;dbl&gt;</th><th scope=col>&lt;dbl&gt;</th><th scope=col>&lt;chr&gt;</th><th scope=col>&lt;chr&gt;</th><th scope=col>&lt;chr&gt;</th><th scope=col>&lt;chr&gt;</th><th scope=col>&lt;chr&gt;</th><th scope=col>&lt;chr&gt;</th><th scope=col>&lt;chr&gt;</th><th scope=col>&lt;chr&gt;</th><th scope=col>&lt;chr&gt;</th><th scope=col>&lt;chr&gt;</th><th scope=col>&lt;chr&gt;</th><th scope=col>&lt;chr&gt;</th><th scope=col>&lt;chr&gt;</th><th scope=col>&lt;chr&gt;</th><th scope=col>&lt;chr&gt;</th><th scope=col>&lt;chr&gt;</th><th scope=col>&lt;chr&gt;</th><th scope=col>&lt;chr&gt;</th><th scope=col>&lt;chr&gt;</th><th scope=col>&lt;chr&gt;</th><th scope=col>&lt;chr&gt;</th><th scope=col>&lt;chr&gt;</th><th scope=col>&lt;chr&gt;</th></tr>\n",
       "</thead>\n",
       "<tbody>\n",
       "\t<tr><td> NA</td><td><span style=white-space:pre-wrap>    NA</span></td><td>NA</td><td><span style=white-space:pre-wrap>NA   </span></td><td><span style=white-space:pre-wrap>NA  </span></td><td><span style=white-space:pre-wrap>NA     </span></td><td>fresh sample</td><td>frozen sample</td><td>Does the specimine contain tumor per path read</td><td><span style=white-space:pre-wrap>   NA</span></td><td>NA </td><td>Recurrence\r\n",
       "De novo</td><td>timing of biopsy as days after DOB</td><td>timing of biopsy as days after diagnosis</td><td>timing of biopsy as days after metastatic diagnosis</td><td>NA</td><td>NA</td><td>IHC for ER from primary tumor (NA if de novo)</td><td>Positive (&lt;U+2265&gt;10%)\r\n",
       "Low (&lt;U+2265&gt;1%)\r\n",
       "Negative (&lt;1%)</td><td>ER IHC from biopsy</td><td>Positive (&lt;U+2265&gt;10%)\r\n",
       "Low (&lt;U+2265&gt;1%)\r\n",
       "Negative (&lt;1%)</td><td>Positive\r\n",
       "Negative\r\n",
       "Unknown\r\n",
       "NA if de novo</td><td>IHC for PR from primary tumor (NA if de novo)</td><td>Positive (&lt;U+2265&gt;10%)\r\n",
       "Low (&lt;U+2265&gt;1%)\r\n",
       "Negative (&lt;1%)</td><td>IHC for PR from biopsy</td><td>Positive (&lt;U+2265&gt;10%)\r\n",
       "Low (&lt;U+2265&gt;1%)\r\n",
       "Negative (&lt;1%)</td><td>Positive\r\n",
       "Negative\r\n",
       "Unknown\r\n",
       "NA if de novo</td><td>Positive\r\n",
       "Negative\r\n",
       "Unknown\r\n",
       "NA if de novo</td><td>Positive\r\n",
       "Negative\r\n",
       "Unknown\r\n",
       "NA if de novo</td><td>Positive\r\n",
       "Negative\r\n",
       "Unknown\r\n",
       "NA if de novo</td><td>Primary tumor receptor status</td><td>Biopsy receptor status</td><td>Biopsy site</td><td>NA</td><td>Histologic grade of primary OR de novo metastatic breast biopsy</td><td>Histology of primary OR de novo metastatic breast biopsy</td><td><span style=white-space:pre-wrap>Shortened                 </span></td><td>Histology of biopsy specimen</td><td>Inflammatory breast cancer?</td><td><span style=white-space:pre-wrap>0NANA    </span></td></tr>\n",
       "\t<tr><td>260</td><td>300260</td><td>T2</td><td>HTAPP</td><td>TRUE</td><td>TRUE   </td><td>FALSE       </td><td>TRUE         </td><td>TRUE                                          </td><td>   NA</td><td>IV </td><td>De novo              </td><td>20740                             </td><td>846                                     </td><td>846                                                </td><td> 2</td><td> 2</td><td>0.95                                         </td><td>Positive                                                    </td><td>0.7               </td><td>Positive                                                    </td><td>TRUE                                            </td><td>0.5                                          </td><td>Positive                                                    </td><td>0.1                   </td><td>Positive                                                    </td><td>TRUE                                            </td><td>Negative                                        </td><td>Negative                                        </td><td>TRUE                                            </td><td>NA                           </td><td>ER+/PR+/HER2-         </td><td>Breast     </td><td>NA</td><td>2                                                              </td><td>Invasive lobular carcinoma                              </td><td>Invasive lobular carcinoma</td><td>Invasive lobular carcinoma  </td><td>FALSE                      </td><td>0300260T2</td></tr>\n",
       "\t<tr><td>289</td><td>300289</td><td>T1</td><td>HTAPP</td><td>TRUE</td><td>Pending</td><td>TRUE        </td><td>FALSE        </td><td>TRUE                                          </td><td>FALSE</td><td>IV </td><td>De novo              </td><td>14267                             </td><td>1466                                    </td><td>1466                                               </td><td>NA</td><td>NA</td><td>0.8                                          </td><td>Positive                                                    </td><td>0.95              </td><td>Positive                                                    </td><td>TRUE                                            </td><td>0.8                                          </td><td>Positive                                                    </td><td>0.9                   </td><td>Positive                                                    </td><td>TRUE                                            </td><td>Positive                                        </td><td>Positive                                        </td><td>TRUE                                            </td><td>NA                           </td><td>ER+/PR+/HER2+         </td><td>Liver      </td><td>NA</td><td>2                                                              </td><td>Invasive ductal carcinoma with mucinous features        </td><td>Mucinous features         </td><td>Metastatic carcinoma        </td><td>FALSE                      </td><td>0300289T1</td></tr>\n",
       "\t<tr><td>294</td><td>300294</td><td>T2</td><td>HTAPP</td><td>TRUE</td><td>TRUE   </td><td>FALSE       </td><td>TRUE         </td><td>TRUE                                          </td><td>FALSE</td><td>IA </td><td>Recurrent            </td><td>16923                             </td><td>2087                                    </td><td>823                                                </td><td> 2</td><td> 4</td><td>0.9                                          </td><td>Positive                                                    </td><td>0.95              </td><td>Positive                                                    </td><td>TRUE                                            </td><td>0.2                                          </td><td>Positive                                                    </td><td>0                     </td><td>Negative                                                    </td><td>FALSE                                           </td><td>Unknown                                         </td><td>Negative                                        </td><td>Unknown                                         </td><td>ER+/PR+/                     </td><td>ER+/PR-/HER2-         </td><td>Liver      </td><td>NA</td><td>3                                                              </td><td>Invasive ductal carcinoma                               </td><td>Invasive ductal carcinoma </td><td>Metastatic carcinoma        </td><td>FALSE                      </td><td>0300294T2</td></tr>\n",
       "\t<tr><td>294</td><td>300294</td><td>T3</td><td>HTAPP</td><td>TRUE</td><td>TRUE   </td><td>FALSE       </td><td>TRUE         </td><td>TRUE                                          </td><td> TRUE</td><td>IA </td><td>Recurrent            </td><td>17000                             </td><td>2164                                    </td><td>900                                                </td><td> 3</td><td> 5</td><td>0.9                                          </td><td>Positive                                                    </td><td>0.3               </td><td>Positive                                                    </td><td>TRUE                                            </td><td>0.2                                          </td><td>Positive                                                    </td><td>0                     </td><td>Negative                                                    </td><td>FALSE                                           </td><td>Unknown                                         </td><td>Positive                                        </td><td>Unknown                                         </td><td>ER+/PR+/                     </td><td>ER+/PR-/HER2+         </td><td>Brain      </td><td>NA</td><td>3                                                              </td><td>Invasive ductal carcinoma                               </td><td>Invasive ductal carcinoma </td><td>Metastatic carcinoma        </td><td>FALSE                      </td><td>0300294T3</td></tr>\n",
       "\t<tr><td>360</td><td>300360</td><td>T1</td><td>HTAPP</td><td>TRUE</td><td>Pending</td><td>FALSE       </td><td>TRUE         </td><td>TRUE                                          </td><td>FALSE</td><td>IIA</td><td>Recurrent            </td><td>21662                             </td><td>3360                                    </td><td>675                                                </td><td>NA</td><td>NA</td><td>0.8                                          </td><td>Positive                                                    </td><td>0.05              </td><td>Low                                                         </td><td>FALSE                                           </td><td>0.05                                         </td><td>Low                                                         </td><td>0                     </td><td>Negative                                                    </td><td>FALSE                                           </td><td>Negative                                        </td><td>Negative                                        </td><td>TRUE                                            </td><td>ER+/PR-low/HER2-             </td><td>ER-low/PR-/HER2-      </td><td>Liver      </td><td>NA</td><td>3                                                              </td><td>Invasive ductal carcinoma                               </td><td>Invasive ductal carcinoma </td><td>Metastatic carcinoma        </td><td>FALSE                      </td><td>0300360T1</td></tr>\n",
       "</tbody>\n",
       "</table>\n"
      ],
      "text/latex": [
       "A data.table: 6 x 40\n",
       "\\begin{tabular}{r|llllllllllllllllllllllllllllllllllllllll}\n",
       " ccpm\\_id & ccpm\\_id\\_long & sample & cohort & sequenced & annotated & fresh & frozen & path\\_tumor\\_present & ofir & stage\\_at\\_diagnosis & metastatic\\_presentation & biopsy\\_days\\_after\\_dob & biopsy\\_days\\_after\\_diagnosis & biopsy\\_days\\_after\\_metastasis & prior\\_lines\\_tx\\_metastatic & prior\\_lines\\_tx\\_total & ER\\_primary\\_fraction & ER\\_primary & ER\\_biopsy\\_fraction & ER\\_biopsy & ER\\_concordance & PR\\_primary\\_fraction & PR\\_primary & PR\\_biopsy\\_fraction & PR\\_biopsy & PR\\_concordance & HER2\\_primary & HER2\\_biopsy & HER2\\_concordance & receptors\\_primary & receptors\\_biopsy & site\\_biopsy & site\\_biopsy\\_detail & grade\\_breast & histology\\_breast & histology\\_breast2 & histology\\_biopsy & inflammatory & ccpmID\\\\\n",
       " <dbl> & <dbl> & <chr> & <chr> & <chr> & <chr> & <chr> & <chr> & <chr> & <lgl> & <chr> & <chr> & <chr> & <chr> & <chr> & <dbl> & <dbl> & <chr> & <chr> & <chr> & <chr> & <chr> & <chr> & <chr> & <chr> & <chr> & <chr> & <chr> & <chr> & <chr> & <chr> & <chr> & <chr> & <chr> & <chr> & <chr> & <chr> & <chr> & <chr> & <chr>\\\\\n",
       "\\hline\n",
       "\t  NA &     NA & NA & NA    & NA   & NA      & fresh sample & frozen sample & Does the specimine contain tumor per path read &    NA & NA  & Recurrence\r\n",
       "De novo & timing of biopsy as days after DOB & timing of biopsy as days after diagnosis & timing of biopsy as days after metastatic diagnosis & NA & NA & IHC for ER from primary tumor (NA if de novo) & Positive (<U+2265>10\\%)\r\n",
       "Low (<U+2265>1\\%)\r\n",
       "Negative (<1\\%) & ER IHC from biopsy & Positive (<U+2265>10\\%)\r\n",
       "Low (<U+2265>1\\%)\r\n",
       "Negative (<1\\%) & Positive\r\n",
       "Negative\r\n",
       "Unknown\r\n",
       "NA if de novo & IHC for PR from primary tumor (NA if de novo) & Positive (<U+2265>10\\%)\r\n",
       "Low (<U+2265>1\\%)\r\n",
       "Negative (<1\\%) & IHC for PR from biopsy & Positive (<U+2265>10\\%)\r\n",
       "Low (<U+2265>1\\%)\r\n",
       "Negative (<1\\%) & Positive\r\n",
       "Negative\r\n",
       "Unknown\r\n",
       "NA if de novo & Positive\r\n",
       "Negative\r\n",
       "Unknown\r\n",
       "NA if de novo & Positive\r\n",
       "Negative\r\n",
       "Unknown\r\n",
       "NA if de novo & Positive\r\n",
       "Negative\r\n",
       "Unknown\r\n",
       "NA if de novo & Primary tumor receptor status & Biopsy receptor status & Biopsy site & NA & Histologic grade of primary OR de novo metastatic breast biopsy & Histology of primary OR de novo metastatic breast biopsy & Shortened                  & Histology of biopsy specimen & Inflammatory breast cancer? & 0NANA    \\\\\n",
       "\t 260 & 300260 & T2 & HTAPP & TRUE & TRUE    & FALSE        & TRUE          & TRUE                                           &    NA & IV  & De novo               & 20740                              & 846                                      & 846                                                 &  2 &  2 & 0.95                                          & Positive                                                     & 0.7                & Positive                                                     & TRUE                                             & 0.5                                           & Positive                                                     & 0.1                    & Positive                                                     & TRUE                                             & Negative                                         & Negative                                         & TRUE                                             & NA                            & ER+/PR+/HER2-          & Breast      & NA & 2                                                               & Invasive lobular carcinoma                               & Invasive lobular carcinoma & Invasive lobular carcinoma   & FALSE                       & 0300260T2\\\\\n",
       "\t 289 & 300289 & T1 & HTAPP & TRUE & Pending & TRUE         & FALSE         & TRUE                                           & FALSE & IV  & De novo               & 14267                              & 1466                                     & 1466                                                & NA & NA & 0.8                                           & Positive                                                     & 0.95               & Positive                                                     & TRUE                                             & 0.8                                           & Positive                                                     & 0.9                    & Positive                                                     & TRUE                                             & Positive                                         & Positive                                         & TRUE                                             & NA                            & ER+/PR+/HER2+          & Liver       & NA & 2                                                               & Invasive ductal carcinoma with mucinous features         & Mucinous features          & Metastatic carcinoma         & FALSE                       & 0300289T1\\\\\n",
       "\t 294 & 300294 & T2 & HTAPP & TRUE & TRUE    & FALSE        & TRUE          & TRUE                                           & FALSE & IA  & Recurrent             & 16923                              & 2087                                     & 823                                                 &  2 &  4 & 0.9                                           & Positive                                                     & 0.95               & Positive                                                     & TRUE                                             & 0.2                                           & Positive                                                     & 0                      & Negative                                                     & FALSE                                            & Unknown                                          & Negative                                         & Unknown                                          & ER+/PR+/                      & ER+/PR-/HER2-          & Liver       & NA & 3                                                               & Invasive ductal carcinoma                                & Invasive ductal carcinoma  & Metastatic carcinoma         & FALSE                       & 0300294T2\\\\\n",
       "\t 294 & 300294 & T3 & HTAPP & TRUE & TRUE    & FALSE        & TRUE          & TRUE                                           &  TRUE & IA  & Recurrent             & 17000                              & 2164                                     & 900                                                 &  3 &  5 & 0.9                                           & Positive                                                     & 0.3                & Positive                                                     & TRUE                                             & 0.2                                           & Positive                                                     & 0                      & Negative                                                     & FALSE                                            & Unknown                                          & Positive                                         & Unknown                                          & ER+/PR+/                      & ER+/PR-/HER2+          & Brain       & NA & 3                                                               & Invasive ductal carcinoma                                & Invasive ductal carcinoma  & Metastatic carcinoma         & FALSE                       & 0300294T3\\\\\n",
       "\t 360 & 300360 & T1 & HTAPP & TRUE & Pending & FALSE        & TRUE          & TRUE                                           & FALSE & IIA & Recurrent             & 21662                              & 3360                                     & 675                                                 & NA & NA & 0.8                                           & Positive                                                     & 0.05               & Low                                                          & FALSE                                            & 0.05                                          & Low                                                          & 0                      & Negative                                                     & FALSE                                            & Negative                                         & Negative                                         & TRUE                                             & ER+/PR-low/HER2-              & ER-low/PR-/HER2-       & Liver       & NA & 3                                                               & Invasive ductal carcinoma                                & Invasive ductal carcinoma  & Metastatic carcinoma         & FALSE                       & 0300360T1\\\\\n",
       "\\end{tabular}\n"
      ],
      "text/markdown": [
       "\n",
       "A data.table: 6 x 40\n",
       "\n",
       "| ccpm_id &lt;dbl&gt; | ccpm_id_long &lt;dbl&gt; | sample &lt;chr&gt; | cohort &lt;chr&gt; | sequenced &lt;chr&gt; | annotated &lt;chr&gt; | fresh &lt;chr&gt; | frozen &lt;chr&gt; | path_tumor_present &lt;chr&gt; | ofir &lt;lgl&gt; | stage_at_diagnosis &lt;chr&gt; | metastatic_presentation &lt;chr&gt; | biopsy_days_after_dob &lt;chr&gt; | biopsy_days_after_diagnosis &lt;chr&gt; | biopsy_days_after_metastasis &lt;chr&gt; | prior_lines_tx_metastatic &lt;dbl&gt; | prior_lines_tx_total &lt;dbl&gt; | ER_primary_fraction &lt;chr&gt; | ER_primary &lt;chr&gt; | ER_biopsy_fraction &lt;chr&gt; | ER_biopsy &lt;chr&gt; | ER_concordance &lt;chr&gt; | PR_primary_fraction &lt;chr&gt; | PR_primary &lt;chr&gt; | PR_biopsy_fraction &lt;chr&gt; | PR_biopsy &lt;chr&gt; | PR_concordance &lt;chr&gt; | HER2_primary &lt;chr&gt; | HER2_biopsy &lt;chr&gt; | HER2_concordance &lt;chr&gt; | receptors_primary &lt;chr&gt; | receptors_biopsy &lt;chr&gt; | site_biopsy &lt;chr&gt; | site_biopsy_detail &lt;chr&gt; | grade_breast &lt;chr&gt; | histology_breast &lt;chr&gt; | histology_breast2 &lt;chr&gt; | histology_biopsy &lt;chr&gt; | inflammatory &lt;chr&gt; | ccpmID &lt;chr&gt; |\n",
       "|---|---|---|---|---|---|---|---|---|---|---|---|---|---|---|---|---|---|---|---|---|---|---|---|---|---|---|---|---|---|---|---|---|---|---|---|---|---|---|---|\n",
       "|  NA |     NA | NA | NA    | NA   | NA      | fresh sample | frozen sample | Does the specimine contain tumor per path read |    NA | NA  | Recurrence\r\n",
       "De novo | timing of biopsy as days after DOB | timing of biopsy as days after diagnosis | timing of biopsy as days after metastatic diagnosis | NA | NA | IHC for ER from primary tumor (NA if de novo) | Positive (&lt;U+2265&gt;10%)\r\n",
       "Low (&lt;U+2265&gt;1%)\r\n",
       "Negative (&lt;1%) | ER IHC from biopsy | Positive (&lt;U+2265&gt;10%)\r\n",
       "Low (&lt;U+2265&gt;1%)\r\n",
       "Negative (&lt;1%) | Positive\r\n",
       "Negative\r\n",
       "Unknown\r\n",
       "NA if de novo | IHC for PR from primary tumor (NA if de novo) | Positive (&lt;U+2265&gt;10%)\r\n",
       "Low (&lt;U+2265&gt;1%)\r\n",
       "Negative (&lt;1%) | IHC for PR from biopsy | Positive (&lt;U+2265&gt;10%)\r\n",
       "Low (&lt;U+2265&gt;1%)\r\n",
       "Negative (&lt;1%) | Positive\r\n",
       "Negative\r\n",
       "Unknown\r\n",
       "NA if de novo | Positive\r\n",
       "Negative\r\n",
       "Unknown\r\n",
       "NA if de novo | Positive\r\n",
       "Negative\r\n",
       "Unknown\r\n",
       "NA if de novo | Positive\r\n",
       "Negative\r\n",
       "Unknown\r\n",
       "NA if de novo | Primary tumor receptor status | Biopsy receptor status | Biopsy site | NA | Histologic grade of primary OR de novo metastatic breast biopsy | Histology of primary OR de novo metastatic breast biopsy | Shortened                  | Histology of biopsy specimen | Inflammatory breast cancer? | 0NANA     |\n",
       "| 260 | 300260 | T2 | HTAPP | TRUE | TRUE    | FALSE        | TRUE          | TRUE                                           |    NA | IV  | De novo               | 20740                              | 846                                      | 846                                                 |  2 |  2 | 0.95                                          | Positive                                                     | 0.7                | Positive                                                     | TRUE                                             | 0.5                                           | Positive                                                     | 0.1                    | Positive                                                     | TRUE                                             | Negative                                         | Negative                                         | TRUE                                             | NA                            | ER+/PR+/HER2-          | Breast      | NA | 2                                                               | Invasive lobular carcinoma                               | Invasive lobular carcinoma | Invasive lobular carcinoma   | FALSE                       | 0300260T2 |\n",
       "| 289 | 300289 | T1 | HTAPP | TRUE | Pending | TRUE         | FALSE         | TRUE                                           | FALSE | IV  | De novo               | 14267                              | 1466                                     | 1466                                                | NA | NA | 0.8                                           | Positive                                                     | 0.95               | Positive                                                     | TRUE                                             | 0.8                                           | Positive                                                     | 0.9                    | Positive                                                     | TRUE                                             | Positive                                         | Positive                                         | TRUE                                             | NA                            | ER+/PR+/HER2+          | Liver       | NA | 2                                                               | Invasive ductal carcinoma with mucinous features         | Mucinous features          | Metastatic carcinoma         | FALSE                       | 0300289T1 |\n",
       "| 294 | 300294 | T2 | HTAPP | TRUE | TRUE    | FALSE        | TRUE          | TRUE                                           | FALSE | IA  | Recurrent             | 16923                              | 2087                                     | 823                                                 |  2 |  4 | 0.9                                           | Positive                                                     | 0.95               | Positive                                                     | TRUE                                             | 0.2                                           | Positive                                                     | 0                      | Negative                                                     | FALSE                                            | Unknown                                          | Negative                                         | Unknown                                          | ER+/PR+/                      | ER+/PR-/HER2-          | Liver       | NA | 3                                                               | Invasive ductal carcinoma                                | Invasive ductal carcinoma  | Metastatic carcinoma         | FALSE                       | 0300294T2 |\n",
       "| 294 | 300294 | T3 | HTAPP | TRUE | TRUE    | FALSE        | TRUE          | TRUE                                           |  TRUE | IA  | Recurrent             | 17000                              | 2164                                     | 900                                                 |  3 |  5 | 0.9                                           | Positive                                                     | 0.3                | Positive                                                     | TRUE                                             | 0.2                                           | Positive                                                     | 0                      | Negative                                                     | FALSE                                            | Unknown                                          | Positive                                         | Unknown                                          | ER+/PR+/                      | ER+/PR-/HER2+          | Brain       | NA | 3                                                               | Invasive ductal carcinoma                                | Invasive ductal carcinoma  | Metastatic carcinoma         | FALSE                       | 0300294T3 |\n",
       "| 360 | 300360 | T1 | HTAPP | TRUE | Pending | FALSE        | TRUE          | TRUE                                           | FALSE | IIA | Recurrent             | 21662                              | 3360                                     | 675                                                 | NA | NA | 0.8                                           | Positive                                                     | 0.05               | Low                                                          | FALSE                                            | 0.05                                          | Low                                                          | 0                      | Negative                                                     | FALSE                                            | Negative                                         | Negative                                         | TRUE                                             | ER+/PR-low/HER2-              | ER-low/PR-/HER2-       | Liver       | NA | 3                                                               | Invasive ductal carcinoma                                | Invasive ductal carcinoma  | Metastatic carcinoma         | FALSE                       | 0300360T1 |\n",
       "\n"
      ],
      "text/plain": [
       "  ccpm_id ccpm_id_long sample cohort sequenced annotated fresh       \n",
       "1  NA         NA       NA     NA     NA        NA        fresh sample\n",
       "2 260     300260       T2     HTAPP  TRUE      TRUE      FALSE       \n",
       "3 289     300289       T1     HTAPP  TRUE      Pending   TRUE        \n",
       "4 294     300294       T2     HTAPP  TRUE      TRUE      FALSE       \n",
       "5 294     300294       T3     HTAPP  TRUE      TRUE      FALSE       \n",
       "6 360     300360       T1     HTAPP  TRUE      Pending   FALSE       \n",
       "  frozen        path_tumor_present                             ofir \n",
       "1 frozen sample Does the specimine contain tumor per path read    NA\n",
       "2 TRUE          TRUE                                              NA\n",
       "3 FALSE         TRUE                                           FALSE\n",
       "4 TRUE          TRUE                                           FALSE\n",
       "5 TRUE          TRUE                                            TRUE\n",
       "6 TRUE          TRUE                                           FALSE\n",
       "  stage_at_diagnosis metastatic_presentation biopsy_days_after_dob             \n",
       "1 NA                 Recurrence\\r\\nDe novo   timing of biopsy as days after DOB\n",
       "2 IV                 De novo                 20740                             \n",
       "3 IV                 De novo                 14267                             \n",
       "4 IA                 Recurrent               16923                             \n",
       "5 IA                 Recurrent               17000                             \n",
       "6 IIA                Recurrent               21662                             \n",
       "  biopsy_days_after_diagnosis             \n",
       "1 timing of biopsy as days after diagnosis\n",
       "2 846                                     \n",
       "3 1466                                    \n",
       "4 2087                                    \n",
       "5 2164                                    \n",
       "6 3360                                    \n",
       "  biopsy_days_after_metastasis                        prior_lines_tx_metastatic\n",
       "1 timing of biopsy as days after metastatic diagnosis NA                       \n",
       "2 846                                                  2                       \n",
       "3 1466                                                NA                       \n",
       "4 823                                                  2                       \n",
       "5 900                                                  3                       \n",
       "6 675                                                 NA                       \n",
       "  prior_lines_tx_total ER_primary_fraction                          \n",
       "1 NA                   IHC for ER from primary tumor (NA if de novo)\n",
       "2  2                   0.95                                         \n",
       "3 NA                   0.8                                          \n",
       "4  4                   0.9                                          \n",
       "5  5                   0.9                                          \n",
       "6 NA                   0.8                                          \n",
       "  ER_primary                                                  \n",
       "1 Positive (<U+2265>10%)\\r\\nLow (<U+2265>1%)\\r\\nNegative (<1%)\n",
       "2 Positive                                                    \n",
       "3 Positive                                                    \n",
       "4 Positive                                                    \n",
       "5 Positive                                                    \n",
       "6 Positive                                                    \n",
       "  ER_biopsy_fraction\n",
       "1 ER IHC from biopsy\n",
       "2 0.7               \n",
       "3 0.95              \n",
       "4 0.95              \n",
       "5 0.3               \n",
       "6 0.05              \n",
       "  ER_biopsy                                                   \n",
       "1 Positive (<U+2265>10%)\\r\\nLow (<U+2265>1%)\\r\\nNegative (<1%)\n",
       "2 Positive                                                    \n",
       "3 Positive                                                    \n",
       "4 Positive                                                    \n",
       "5 Positive                                                    \n",
       "6 Low                                                         \n",
       "  ER_concordance                                  \n",
       "1 Positive\\r\\nNegative\\r\\nUnknown\\r\\nNA if de novo\n",
       "2 TRUE                                            \n",
       "3 TRUE                                            \n",
       "4 TRUE                                            \n",
       "5 TRUE                                            \n",
       "6 FALSE                                           \n",
       "  PR_primary_fraction                          \n",
       "1 IHC for PR from primary tumor (NA if de novo)\n",
       "2 0.5                                          \n",
       "3 0.8                                          \n",
       "4 0.2                                          \n",
       "5 0.2                                          \n",
       "6 0.05                                         \n",
       "  PR_primary                                                  \n",
       "1 Positive (<U+2265>10%)\\r\\nLow (<U+2265>1%)\\r\\nNegative (<1%)\n",
       "2 Positive                                                    \n",
       "3 Positive                                                    \n",
       "4 Positive                                                    \n",
       "5 Positive                                                    \n",
       "6 Low                                                         \n",
       "  PR_biopsy_fraction    \n",
       "1 IHC for PR from biopsy\n",
       "2 0.1                   \n",
       "3 0.9                   \n",
       "4 0                     \n",
       "5 0                     \n",
       "6 0                     \n",
       "  PR_biopsy                                                   \n",
       "1 Positive (<U+2265>10%)\\r\\nLow (<U+2265>1%)\\r\\nNegative (<1%)\n",
       "2 Positive                                                    \n",
       "3 Positive                                                    \n",
       "4 Negative                                                    \n",
       "5 Negative                                                    \n",
       "6 Negative                                                    \n",
       "  PR_concordance                                  \n",
       "1 Positive\\r\\nNegative\\r\\nUnknown\\r\\nNA if de novo\n",
       "2 TRUE                                            \n",
       "3 TRUE                                            \n",
       "4 FALSE                                           \n",
       "5 FALSE                                           \n",
       "6 FALSE                                           \n",
       "  HER2_primary                                    \n",
       "1 Positive\\r\\nNegative\\r\\nUnknown\\r\\nNA if de novo\n",
       "2 Negative                                        \n",
       "3 Positive                                        \n",
       "4 Unknown                                         \n",
       "5 Unknown                                         \n",
       "6 Negative                                        \n",
       "  HER2_biopsy                                     \n",
       "1 Positive\\r\\nNegative\\r\\nUnknown\\r\\nNA if de novo\n",
       "2 Negative                                        \n",
       "3 Positive                                        \n",
       "4 Negative                                        \n",
       "5 Positive                                        \n",
       "6 Negative                                        \n",
       "  HER2_concordance                                \n",
       "1 Positive\\r\\nNegative\\r\\nUnknown\\r\\nNA if de novo\n",
       "2 TRUE                                            \n",
       "3 TRUE                                            \n",
       "4 Unknown                                         \n",
       "5 Unknown                                         \n",
       "6 TRUE                                            \n",
       "  receptors_primary             receptors_biopsy       site_biopsy\n",
       "1 Primary tumor receptor status Biopsy receptor status Biopsy site\n",
       "2 NA                            ER+/PR+/HER2-          Breast     \n",
       "3 NA                            ER+/PR+/HER2+          Liver      \n",
       "4 ER+/PR+/                      ER+/PR-/HER2-          Liver      \n",
       "5 ER+/PR+/                      ER+/PR-/HER2+          Brain      \n",
       "6 ER+/PR-low/HER2-              ER-low/PR-/HER2-       Liver      \n",
       "  site_biopsy_detail\n",
       "1 NA                \n",
       "2 NA                \n",
       "3 NA                \n",
       "4 NA                \n",
       "5 NA                \n",
       "6 NA                \n",
       "  grade_breast                                                   \n",
       "1 Histologic grade of primary OR de novo metastatic breast biopsy\n",
       "2 2                                                              \n",
       "3 2                                                              \n",
       "4 3                                                              \n",
       "5 3                                                              \n",
       "6 3                                                              \n",
       "  histology_breast                                        \n",
       "1 Histology of primary OR de novo metastatic breast biopsy\n",
       "2 Invasive lobular carcinoma                              \n",
       "3 Invasive ductal carcinoma with mucinous features        \n",
       "4 Invasive ductal carcinoma                               \n",
       "5 Invasive ductal carcinoma                               \n",
       "6 Invasive ductal carcinoma                               \n",
       "  histology_breast2          histology_biopsy            \n",
       "1 Shortened                  Histology of biopsy specimen\n",
       "2 Invasive lobular carcinoma Invasive lobular carcinoma  \n",
       "3 Mucinous features          Metastatic carcinoma        \n",
       "4 Invasive ductal carcinoma  Metastatic carcinoma        \n",
       "5 Invasive ductal carcinoma  Metastatic carcinoma        \n",
       "6 Invasive ductal carcinoma  Metastatic carcinoma        \n",
       "  inflammatory                ccpmID   \n",
       "1 Inflammatory breast cancer? 0NANA    \n",
       "2 FALSE                       0300260T2\n",
       "3 FALSE                       0300289T1\n",
       "4 FALSE                       0300294T2\n",
       "5 FALSE                       0300294T3\n",
       "6 FALSE                       0300360T1"
      ]
     },
     "metadata": {},
     "output_type": "display_data"
    }
   ],
   "source": [
    "clin=as.data.table(read_xlsx(file.path(metaDir,\"Single cell annotations_deidentified2.xlsx\"),sheet = \"Samples\"))\n",
    "clin[,ccpmID:=paste0(\"0\",ccpm_id_long,sample),by=1:nrow(clin)]\n",
    "head(clin)"
   ]
  },
  {
   "cell_type": "markdown",
   "metadata": {},
   "source": [
    "### Now merge all"
   ]
  },
  {
   "cell_type": "code",
   "execution_count": 23,
   "metadata": {},
   "outputs": [
    {
     "data": {
      "text/html": [
       "<table>\n",
       "<caption>A data.table: 6 x 73</caption>\n",
       "<thead>\n",
       "\t<tr><th scope=col>ccpmID</th><th scope=col>orig.ident</th><th scope=col>sampleName</th><th scope=col>sampleid</th><th scope=col>Estimated Number of Cells</th><th scope=col>Mean Reads per Cell</th><th scope=col>Median Genes per Cell</th><th scope=col>Number of Reads</th><th scope=col>Fraction Reads in Cells</th><th scope=col>Sequencing Saturation</th><th scope=col>Reads Mapped Confidently to Genome</th><th scope=col>Reads Mapped Confidently to Transcriptome</th><th scope=col>Reads Mapped Antisense to Gene</th><th scope=col>condition</th><th scope=col>replicate</th><th scope=col>ccpm</th><th scope=col>date</th><th scope=col>Lane</th><th scope=col>Index</th><th scope=col>cancer</th><th scope=col>site</th><th scope=col>reference</th><th scope=col>flowcell</th><th scope=col>mode</th><th scope=col>mean_UMI</th><th scope=col>mean_genes</th><th scope=col>N_cells</th><th scope=col>mean_percent.mito</th><th scope=col>percent_epithelial</th><th scope=col>percent_chondrocyte</th><th scope=col>percent_epithelial_neuro</th><th scope=col>percent_epithelial_stem</th><th scope=col>percent_lymphocyte</th><th scope=col>percent_mono_macro</th><th scope=col>percent_fibroblast</th><th scope=col>percent_smooth_muscle</th><th scope=col>percent_endothelial</th><th scope=col>mean_doublet_score</th><th scope=col>percent_doublet</th><th scope=col>ccpm_id</th><th scope=col>ccpm_id_long</th><th scope=col>sample</th><th scope=col>fresh</th><th scope=col>frozen</th><th scope=col>stage_at_diagnosis</th><th scope=col>metastatic_presentation</th><th scope=col>biopsy_days_after_dob</th><th scope=col>biopsy_days_after_diagnosis</th><th scope=col>biopsy_days_after_metastasis</th><th scope=col>prior_lines_tx_metastatic</th><th scope=col>prior_lines_tx_total</th><th scope=col>ER_primary_fraction</th><th scope=col>ER_primary</th><th scope=col>ER_biopsy_fraction</th><th scope=col>ER_biopsy</th><th scope=col>ER_concordance</th><th scope=col>PR_primary_fraction</th><th scope=col>PR_primary</th><th scope=col>PR_biopsy_fraction</th><th scope=col>PR_biopsy</th><th scope=col>PR_concordance</th><th scope=col>HER2_primary</th><th scope=col>HER2_biopsy</th><th scope=col>HER2_concordance</th><th scope=col>receptors_primary</th><th scope=col>receptors_biopsy</th><th scope=col>site_biopsy</th><th scope=col>site_biopsy_detail</th><th scope=col>grade_breast</th><th scope=col>histology_breast</th><th scope=col>histology_breast2</th><th scope=col>histology_biopsy</th><th scope=col>inflammatory</th></tr>\n",
       "\t<tr><th scope=col>&lt;chr&gt;</th><th scope=col>&lt;chr&gt;</th><th scope=col>&lt;chr&gt;</th><th scope=col>&lt;chr&gt;</th><th scope=col>&lt;dbl&gt;</th><th scope=col>&lt;dbl&gt;</th><th scope=col>&lt;dbl&gt;</th><th scope=col>&lt;dbl&gt;</th><th scope=col>&lt;dbl&gt;</th><th scope=col>&lt;dbl&gt;</th><th scope=col>&lt;dbl&gt;</th><th scope=col>&lt;dbl&gt;</th><th scope=col>&lt;dbl&gt;</th><th scope=col>&lt;chr&gt;</th><th scope=col>&lt;chr&gt;</th><th scope=col>&lt;chr&gt;</th><th scope=col>&lt;chr&gt;</th><th scope=col>&lt;chr&gt;</th><th scope=col>&lt;chr&gt;</th><th scope=col>&lt;chr&gt;</th><th scope=col>&lt;chr&gt;</th><th scope=col>&lt;chr&gt;</th><th scope=col>&lt;chr&gt;</th><th scope=col>&lt;chr&gt;</th><th scope=col>&lt;int64&gt;</th><th scope=col>&lt;dbl&gt;</th><th scope=col>&lt;int&gt;</th><th scope=col>&lt;dbl&gt;</th><th scope=col>&lt;dbl&gt;</th><th scope=col>&lt;dbl&gt;</th><th scope=col>&lt;dbl&gt;</th><th scope=col>&lt;dbl&gt;</th><th scope=col>&lt;dbl&gt;</th><th scope=col>&lt;dbl&gt;</th><th scope=col>&lt;dbl&gt;</th><th scope=col>&lt;dbl&gt;</th><th scope=col>&lt;dbl&gt;</th><th scope=col>&lt;dbl&gt;</th><th scope=col>&lt;dbl&gt;</th><th scope=col>&lt;dbl&gt;</th><th scope=col>&lt;dbl&gt;</th><th scope=col>&lt;chr&gt;</th><th scope=col>&lt;chr&gt;</th><th scope=col>&lt;chr&gt;</th><th scope=col>&lt;chr&gt;</th><th scope=col>&lt;chr&gt;</th><th scope=col>&lt;chr&gt;</th><th scope=col>&lt;chr&gt;</th><th scope=col>&lt;chr&gt;</th><th scope=col>&lt;dbl&gt;</th><th scope=col>&lt;dbl&gt;</th><th scope=col>&lt;chr&gt;</th><th scope=col>&lt;chr&gt;</th><th scope=col>&lt;chr&gt;</th><th scope=col>&lt;chr&gt;</th><th scope=col>&lt;chr&gt;</th><th scope=col>&lt;chr&gt;</th><th scope=col>&lt;chr&gt;</th><th scope=col>&lt;chr&gt;</th><th scope=col>&lt;chr&gt;</th><th scope=col>&lt;chr&gt;</th><th scope=col>&lt;chr&gt;</th><th scope=col>&lt;chr&gt;</th><th scope=col>&lt;chr&gt;</th><th scope=col>&lt;chr&gt;</th><th scope=col>&lt;chr&gt;</th><th scope=col>&lt;chr&gt;</th><th scope=col>&lt;chr&gt;</th><th scope=col>&lt;chr&gt;</th><th scope=col>&lt;chr&gt;</th><th scope=col>&lt;chr&gt;</th><th scope=col>&lt;chr&gt;</th><th scope=col>&lt;chr&gt;</th></tr>\n",
       "</thead>\n",
       "<tbody>\n",
       "\t<tr><td>0300861T1</td><td>HTAPP-997-SMP-7789-TST-channel1  </td><td>HTAPP-997-SMP-7789_TST_channel1  </td><td>HTAPP-997-SMP-7789</td><td>6980</td><td> 39980</td><td>2518</td><td>279061732</td><td>81.9</td><td>31.8</td><td>51.8</td><td>27.9</td><td>14.8</td><td>TST  </td><td>channel1</td><td>0300861_T1</td><td>2019_10_01</td><td>7</td><td>SI-GA-E1</td><td>breast</td><td>liver     </td><td>GRCh38_premrna_v3.0.0</td><td>H5JYCCCX2</td><td>V3</td><td>5396</td><td>3156.026</td><td>6595</td><td> 6.033237</td><td>54.93556</td><td> 0.00000</td><td>0.7733131</td><td>0</td><td> 1.667930</td><td> 2.805155</td><td> 0.39423806</td><td>7.065959</td><td>7.884761</td><td>0.06096114</td><td>0.1061410</td><td> NA</td><td>    NA</td><td>NA</td><td>NA  </td><td>NA   </td><td>NA</td><td>NA       </td><td>NA   </td><td>NA  </td><td>NA  </td><td>NA</td><td>NA</td><td>NA      </td><td>NA      </td><td>NA  </td><td>NA      </td><td>NA  </td><td>NA      </td><td>NA      </td><td>NA </td><td>NA      </td><td>NA  </td><td>NA      </td><td>NA      </td><td>NA  </td><td>NA           </td><td>NA           </td><td>NA             </td><td>NA        </td><td>NA</td><td>NA                       </td><td>NA                       </td><td>NA                  </td><td>NA   </td></tr>\n",
       "\t<tr><td>0300861T1</td><td>HTAPP-997-SMP-7789-TST-channel2  </td><td>HTAPP-997-SMP-7789_TST_channel2  </td><td>HTAPP-997-SMP-7789</td><td>6851</td><td> 21690</td><td>1989</td><td>148599626</td><td>81.1</td><td>24.0</td><td>61.5</td><td>33.3</td><td>17.3</td><td>TST  </td><td>channel2</td><td>0300861_T1</td><td>2019_10_01</td><td>8</td><td>SI-GA-F1</td><td>breast</td><td>liver     </td><td>GRCh38_premrna_v3.0.0</td><td>H5JYCCCX2</td><td>V3</td><td>4406</td><td>2812.707</td><td>6321</td><td> 4.612674</td><td>54.18446</td><td> 0.00000</td><td>0.5695301</td><td>0</td><td> 2.119918</td><td> 2.816010</td><td> 0.07910141</td><td>7.530454</td><td>7.514634</td><td>0.06849898</td><td>2.0882772</td><td> NA</td><td>    NA</td><td>NA</td><td>NA  </td><td>NA   </td><td>NA</td><td>NA       </td><td>NA   </td><td>NA  </td><td>NA  </td><td>NA</td><td>NA</td><td>NA      </td><td>NA      </td><td>NA  </td><td>NA      </td><td>NA  </td><td>NA      </td><td>NA      </td><td>NA </td><td>NA      </td><td>NA  </td><td>NA      </td><td>NA      </td><td>NA  </td><td>NA           </td><td>NA           </td><td>NA             </td><td>NA        </td><td>NA</td><td>NA                       </td><td>NA                       </td><td>NA                  </td><td>NA   </td></tr>\n",
       "\t<tr><td>0300864T1</td><td>HTAPP-586-SMP-8599-fresh-channel1</td><td>HTAPP-586-SMP-8599_fresh_channel1</td><td>HTAPP-586-SMP-8599</td><td>1541</td><td>103391</td><td>1254</td><td>159327054</td><td>68.6</td><td>70.5</td><td>87.3</td><td>52.1</td><td> 2.1</td><td>fresh</td><td>channel1</td><td>0300864_T1</td><td>2019_08_22</td><td>6</td><td>SI-GA-D6</td><td>breast</td><td>lymph node</td><td>GRCh38_v3.0.0        </td><td>H2VLKCCX2</td><td>V3</td><td>2995</td><td> 992.815</td><td>2092</td><td>30.905205</td><td> 0.00000</td><td>19.02486</td><td>0.0000000</td><td>0</td><td>35.850860</td><td>17.925430</td><td>14.14913958</td><td>0.000000</td><td>3.776291</td><td>0.02304191</td><td>0.0000000</td><td>864</td><td>300864</td><td>T1</td><td>TRUE</td><td>FALSE</td><td>IA</td><td>Recurrent</td><td>24693</td><td>8390</td><td>1797</td><td>NA</td><td>NA</td><td>Negative</td><td>Negative</td><td>0   </td><td>Negative</td><td>TRUE</td><td>Negative</td><td>Negative</td><td>0  </td><td>Negative</td><td>TRUE</td><td>Negative</td><td>Negative</td><td>TRUE</td><td>ER-/PR-/HER2-</td><td>ER-/PR-/HER2-</td><td>Supraclavicular</td><td>Lymph node</td><td>3 </td><td>Invasive ductal carcinoma</td><td>Invasive ductal carcinoma</td><td>Malignant neoplasm  </td><td>FALSE</td></tr>\n",
       "\t<tr><td>0300872T1</td><td>HTAPP-759-SMP-8359-fresh-channel1</td><td>HTAPP-759-SMP-8359_fresh_channel1</td><td>HTAPP-759-SMP-8359</td><td>5016</td><td> 20213</td><td>2206</td><td>101391650</td><td>90.0</td><td>19.9</td><td>92.7</td><td>60.3</td><td> 1.5</td><td>fresh</td><td>channel1</td><td>0300872_T1</td><td>2019_09_05</td><td>6</td><td>SI-GA-C9</td><td>breast</td><td>liver     </td><td>GRCh38_v3.0.0        </td><td>H2TN7CCX2</td><td>V3</td><td>6851</td><td>2552.482</td><td>5042</td><td> 7.214782</td><td>73.04641</td><td> 0.00000</td><td>0.0000000</td><td>0</td><td> 9.718366</td><td> 8.012693</td><td> 1.56683856</td><td>0.000000</td><td>4.224514</td><td>0.07584753</td><td>0.2181674</td><td>872</td><td>300872</td><td>T1</td><td>TRUE</td><td>FALSE</td><td>0 </td><td>Recurrent</td><td>20319</td><td>9895</td><td>1   </td><td>NA</td><td>NA</td><td>Positive</td><td>Positive</td><td>0.95</td><td>Positive</td><td>TRUE</td><td>Positive</td><td>Positive</td><td>0.9</td><td>Positive</td><td>TRUE</td><td>Negative</td><td>Negative</td><td>TRUE</td><td>ER+/PR+/HER2-</td><td>ER+/PR+/HER2-</td><td>Liver          </td><td>NA        </td><td>2 </td><td>Ductal carcinoma in situ </td><td>Ductal carcinoma in situ </td><td>Metastatic carcinoma</td><td>FALSE</td></tr>\n",
       "\t<tr><td>0300872T1</td><td>HTAPP-759-SMP-8359-fresh-channel2</td><td>HTAPP-759-SMP-8359_fresh_channel2</td><td>HTAPP-759-SMP-8359</td><td>5116</td><td> 20864</td><td>2234</td><td>106743745</td><td>89.3</td><td>20.4</td><td>91.9</td><td>60.2</td><td> 1.5</td><td>fresh</td><td>channel2</td><td>0300872_T1</td><td>2019_09_05</td><td>6</td><td>SI-GA-D9</td><td>breast</td><td>liver     </td><td>GRCh38_v3.0.0        </td><td>H2TN7CCX2</td><td>V3</td><td>6378</td><td>2441.225</td><td>5612</td><td> 7.472791</td><td>72.79045</td><td> 0.00000</td><td>0.0000000</td><td>0</td><td> 9.301497</td><td> 8.374911</td><td> 2.45901639</td><td>0.000000</td><td>3.688525</td><td>0.07361897</td><td>0.2851033</td><td>872</td><td>300872</td><td>T1</td><td>TRUE</td><td>FALSE</td><td>0 </td><td>Recurrent</td><td>20319</td><td>9895</td><td>1   </td><td>NA</td><td>NA</td><td>Positive</td><td>Positive</td><td>0.95</td><td>Positive</td><td>TRUE</td><td>Positive</td><td>Positive</td><td>0.9</td><td>Positive</td><td>TRUE</td><td>Negative</td><td>Negative</td><td>TRUE</td><td>ER+/PR+/HER2-</td><td>ER+/PR+/HER2-</td><td>Liver          </td><td>NA        </td><td>2 </td><td>Ductal carcinoma in situ </td><td>Ductal carcinoma in situ </td><td>Metastatic carcinoma</td><td>FALSE</td></tr>\n",
       "\t<tr><td>0300876T1</td><td>HTAPP-812-SMP-8239-fresh-channel1</td><td>HTAPP-812-SMP-8239_fresh_channel1</td><td>HTAPP-812-SMP-8239</td><td>6589</td><td> 17858</td><td> 981</td><td>117669602</td><td>73.5</td><td>19.9</td><td>93.9</td><td>60.6</td><td> 1.9</td><td>fresh</td><td>channel1</td><td>0300876_T1</td><td>2019_10_01</td><td>8</td><td>SI-GA-B2</td><td>breast</td><td>axilla    </td><td>GRCh38_v3.0.0        </td><td>H5JYCCCX2</td><td>V3</td><td>5223</td><td>1976.832</td><td>5772</td><td> 8.289853</td><td>41.23354</td><td> 0.00000</td><td>0.0000000</td><td>0</td><td>27.460152</td><td> 8.610534</td><td> 7.81358281</td><td>0.000000</td><td>6.739432</td><td>0.06169018</td><td>0.1039501</td><td> NA</td><td>    NA</td><td>NA</td><td>NA  </td><td>NA   </td><td>NA</td><td>NA       </td><td>NA   </td><td>NA  </td><td>NA  </td><td>NA</td><td>NA</td><td>NA      </td><td>NA      </td><td>NA  </td><td>NA      </td><td>NA  </td><td>NA      </td><td>NA      </td><td>NA </td><td>NA      </td><td>NA  </td><td>NA      </td><td>NA      </td><td>NA  </td><td>NA           </td><td>NA           </td><td>NA             </td><td>NA        </td><td>NA</td><td>NA                       </td><td>NA                       </td><td>NA                  </td><td>NA   </td></tr>\n",
       "</tbody>\n",
       "</table>\n"
      ],
      "text/latex": [
       "A data.table: 6 x 73\n",
       "\\begin{tabular}{r|lllllllllllllllllllllllllllllllllllllllllllllllllllllllllllllllllllllllll}\n",
       " ccpmID & orig.ident & sampleName & sampleid & Estimated Number of Cells & Mean Reads per Cell & Median Genes per Cell & Number of Reads & Fraction Reads in Cells & Sequencing Saturation & Reads Mapped Confidently to Genome & Reads Mapped Confidently to Transcriptome & Reads Mapped Antisense to Gene & condition & replicate & ccpm & date & Lane & Index & cancer & site & reference & flowcell & mode & mean\\_UMI & mean\\_genes & N\\_cells & mean\\_percent.mito & percent\\_epithelial & percent\\_chondrocyte & percent\\_epithelial\\_neuro & percent\\_epithelial\\_stem & percent\\_lymphocyte & percent\\_mono\\_macro & percent\\_fibroblast & percent\\_smooth\\_muscle & percent\\_endothelial & mean\\_doublet\\_score & percent\\_doublet & ccpm\\_id & ccpm\\_id\\_long & sample & fresh & frozen & stage\\_at\\_diagnosis & metastatic\\_presentation & biopsy\\_days\\_after\\_dob & biopsy\\_days\\_after\\_diagnosis & biopsy\\_days\\_after\\_metastasis & prior\\_lines\\_tx\\_metastatic & prior\\_lines\\_tx\\_total & ER\\_primary\\_fraction & ER\\_primary & ER\\_biopsy\\_fraction & ER\\_biopsy & ER\\_concordance & PR\\_primary\\_fraction & PR\\_primary & PR\\_biopsy\\_fraction & PR\\_biopsy & PR\\_concordance & HER2\\_primary & HER2\\_biopsy & HER2\\_concordance & receptors\\_primary & receptors\\_biopsy & site\\_biopsy & site\\_biopsy\\_detail & grade\\_breast & histology\\_breast & histology\\_breast2 & histology\\_biopsy & inflammatory\\\\\n",
       " <chr> & <chr> & <chr> & <chr> & <dbl> & <dbl> & <dbl> & <dbl> & <dbl> & <dbl> & <dbl> & <dbl> & <dbl> & <chr> & <chr> & <chr> & <chr> & <chr> & <chr> & <chr> & <chr> & <chr> & <chr> & <chr> & <int64> & <dbl> & <int> & <dbl> & <dbl> & <dbl> & <dbl> & <dbl> & <dbl> & <dbl> & <dbl> & <dbl> & <dbl> & <dbl> & <dbl> & <dbl> & <dbl> & <chr> & <chr> & <chr> & <chr> & <chr> & <chr> & <chr> & <chr> & <dbl> & <dbl> & <chr> & <chr> & <chr> & <chr> & <chr> & <chr> & <chr> & <chr> & <chr> & <chr> & <chr> & <chr> & <chr> & <chr> & <chr> & <chr> & <chr> & <chr> & <chr> & <chr> & <chr> & <chr>\\\\\n",
       "\\hline\n",
       "\t 0300861T1 & HTAPP-997-SMP-7789-TST-channel1   & HTAPP-997-SMP-7789\\_TST\\_channel1   & HTAPP-997-SMP-7789 & 6980 &  39980 & 2518 & 279061732 & 81.9 & 31.8 & 51.8 & 27.9 & 14.8 & TST   & channel1 & 0300861\\_T1 & 2019\\_10\\_01 & 7 & SI-GA-E1 & breast & liver      & GRCh38\\_premrna\\_v3.0.0 & H5JYCCCX2 & V3 & 5396 & 3156.026 & 6595 &  6.033237 & 54.93556 &  0.00000 & 0.7733131 & 0 &  1.667930 &  2.805155 &  0.39423806 & 7.065959 & 7.884761 & 0.06096114 & 0.1061410 &  NA &     NA & NA & NA   & NA    & NA & NA        & NA    & NA   & NA   & NA & NA & NA       & NA       & NA   & NA       & NA   & NA       & NA       & NA  & NA       & NA   & NA       & NA       & NA   & NA            & NA            & NA              & NA         & NA & NA                        & NA                        & NA                   & NA   \\\\\n",
       "\t 0300861T1 & HTAPP-997-SMP-7789-TST-channel2   & HTAPP-997-SMP-7789\\_TST\\_channel2   & HTAPP-997-SMP-7789 & 6851 &  21690 & 1989 & 148599626 & 81.1 & 24.0 & 61.5 & 33.3 & 17.3 & TST   & channel2 & 0300861\\_T1 & 2019\\_10\\_01 & 8 & SI-GA-F1 & breast & liver      & GRCh38\\_premrna\\_v3.0.0 & H5JYCCCX2 & V3 & 4406 & 2812.707 & 6321 &  4.612674 & 54.18446 &  0.00000 & 0.5695301 & 0 &  2.119918 &  2.816010 &  0.07910141 & 7.530454 & 7.514634 & 0.06849898 & 2.0882772 &  NA &     NA & NA & NA   & NA    & NA & NA        & NA    & NA   & NA   & NA & NA & NA       & NA       & NA   & NA       & NA   & NA       & NA       & NA  & NA       & NA   & NA       & NA       & NA   & NA            & NA            & NA              & NA         & NA & NA                        & NA                        & NA                   & NA   \\\\\n",
       "\t 0300864T1 & HTAPP-586-SMP-8599-fresh-channel1 & HTAPP-586-SMP-8599\\_fresh\\_channel1 & HTAPP-586-SMP-8599 & 1541 & 103391 & 1254 & 159327054 & 68.6 & 70.5 & 87.3 & 52.1 &  2.1 & fresh & channel1 & 0300864\\_T1 & 2019\\_08\\_22 & 6 & SI-GA-D6 & breast & lymph node & GRCh38\\_v3.0.0         & H2VLKCCX2 & V3 & 2995 &  992.815 & 2092 & 30.905205 &  0.00000 & 19.02486 & 0.0000000 & 0 & 35.850860 & 17.925430 & 14.14913958 & 0.000000 & 3.776291 & 0.02304191 & 0.0000000 & 864 & 300864 & T1 & TRUE & FALSE & IA & Recurrent & 24693 & 8390 & 1797 & NA & NA & Negative & Negative & 0    & Negative & TRUE & Negative & Negative & 0   & Negative & TRUE & Negative & Negative & TRUE & ER-/PR-/HER2- & ER-/PR-/HER2- & Supraclavicular & Lymph node & 3  & Invasive ductal carcinoma & Invasive ductal carcinoma & Malignant neoplasm   & FALSE\\\\\n",
       "\t 0300872T1 & HTAPP-759-SMP-8359-fresh-channel1 & HTAPP-759-SMP-8359\\_fresh\\_channel1 & HTAPP-759-SMP-8359 & 5016 &  20213 & 2206 & 101391650 & 90.0 & 19.9 & 92.7 & 60.3 &  1.5 & fresh & channel1 & 0300872\\_T1 & 2019\\_09\\_05 & 6 & SI-GA-C9 & breast & liver      & GRCh38\\_v3.0.0         & H2TN7CCX2 & V3 & 6851 & 2552.482 & 5042 &  7.214782 & 73.04641 &  0.00000 & 0.0000000 & 0 &  9.718366 &  8.012693 &  1.56683856 & 0.000000 & 4.224514 & 0.07584753 & 0.2181674 & 872 & 300872 & T1 & TRUE & FALSE & 0  & Recurrent & 20319 & 9895 & 1    & NA & NA & Positive & Positive & 0.95 & Positive & TRUE & Positive & Positive & 0.9 & Positive & TRUE & Negative & Negative & TRUE & ER+/PR+/HER2- & ER+/PR+/HER2- & Liver           & NA         & 2  & Ductal carcinoma in situ  & Ductal carcinoma in situ  & Metastatic carcinoma & FALSE\\\\\n",
       "\t 0300872T1 & HTAPP-759-SMP-8359-fresh-channel2 & HTAPP-759-SMP-8359\\_fresh\\_channel2 & HTAPP-759-SMP-8359 & 5116 &  20864 & 2234 & 106743745 & 89.3 & 20.4 & 91.9 & 60.2 &  1.5 & fresh & channel2 & 0300872\\_T1 & 2019\\_09\\_05 & 6 & SI-GA-D9 & breast & liver      & GRCh38\\_v3.0.0         & H2TN7CCX2 & V3 & 6378 & 2441.225 & 5612 &  7.472791 & 72.79045 &  0.00000 & 0.0000000 & 0 &  9.301497 &  8.374911 &  2.45901639 & 0.000000 & 3.688525 & 0.07361897 & 0.2851033 & 872 & 300872 & T1 & TRUE & FALSE & 0  & Recurrent & 20319 & 9895 & 1    & NA & NA & Positive & Positive & 0.95 & Positive & TRUE & Positive & Positive & 0.9 & Positive & TRUE & Negative & Negative & TRUE & ER+/PR+/HER2- & ER+/PR+/HER2- & Liver           & NA         & 2  & Ductal carcinoma in situ  & Ductal carcinoma in situ  & Metastatic carcinoma & FALSE\\\\\n",
       "\t 0300876T1 & HTAPP-812-SMP-8239-fresh-channel1 & HTAPP-812-SMP-8239\\_fresh\\_channel1 & HTAPP-812-SMP-8239 & 6589 &  17858 &  981 & 117669602 & 73.5 & 19.9 & 93.9 & 60.6 &  1.9 & fresh & channel1 & 0300876\\_T1 & 2019\\_10\\_01 & 8 & SI-GA-B2 & breast & axilla     & GRCh38\\_v3.0.0         & H5JYCCCX2 & V3 & 5223 & 1976.832 & 5772 &  8.289853 & 41.23354 &  0.00000 & 0.0000000 & 0 & 27.460152 &  8.610534 &  7.81358281 & 0.000000 & 6.739432 & 0.06169018 & 0.1039501 &  NA &     NA & NA & NA   & NA    & NA & NA        & NA    & NA   & NA   & NA & NA & NA       & NA       & NA   & NA       & NA   & NA       & NA       & NA  & NA       & NA   & NA       & NA       & NA   & NA            & NA            & NA              & NA         & NA & NA                        & NA                        & NA                   & NA   \\\\\n",
       "\\end{tabular}\n"
      ],
      "text/markdown": [
       "\n",
       "A data.table: 6 x 73\n",
       "\n",
       "| ccpmID &lt;chr&gt; | orig.ident &lt;chr&gt; | sampleName &lt;chr&gt; | sampleid &lt;chr&gt; | Estimated Number of Cells &lt;dbl&gt; | Mean Reads per Cell &lt;dbl&gt; | Median Genes per Cell &lt;dbl&gt; | Number of Reads &lt;dbl&gt; | Fraction Reads in Cells &lt;dbl&gt; | Sequencing Saturation &lt;dbl&gt; | Reads Mapped Confidently to Genome &lt;dbl&gt; | Reads Mapped Confidently to Transcriptome &lt;dbl&gt; | Reads Mapped Antisense to Gene &lt;dbl&gt; | condition &lt;chr&gt; | replicate &lt;chr&gt; | ccpm &lt;chr&gt; | date &lt;chr&gt; | Lane &lt;chr&gt; | Index &lt;chr&gt; | cancer &lt;chr&gt; | site &lt;chr&gt; | reference &lt;chr&gt; | flowcell &lt;chr&gt; | mode &lt;chr&gt; | mean_UMI &lt;int64&gt; | mean_genes &lt;dbl&gt; | N_cells &lt;int&gt; | mean_percent.mito &lt;dbl&gt; | percent_epithelial &lt;dbl&gt; | percent_chondrocyte &lt;dbl&gt; | percent_epithelial_neuro &lt;dbl&gt; | percent_epithelial_stem &lt;dbl&gt; | percent_lymphocyte &lt;dbl&gt; | percent_mono_macro &lt;dbl&gt; | percent_fibroblast &lt;dbl&gt; | percent_smooth_muscle &lt;dbl&gt; | percent_endothelial &lt;dbl&gt; | mean_doublet_score &lt;dbl&gt; | percent_doublet &lt;dbl&gt; | ccpm_id &lt;dbl&gt; | ccpm_id_long &lt;dbl&gt; | sample &lt;chr&gt; | fresh &lt;chr&gt; | frozen &lt;chr&gt; | stage_at_diagnosis &lt;chr&gt; | metastatic_presentation &lt;chr&gt; | biopsy_days_after_dob &lt;chr&gt; | biopsy_days_after_diagnosis &lt;chr&gt; | biopsy_days_after_metastasis &lt;chr&gt; | prior_lines_tx_metastatic &lt;dbl&gt; | prior_lines_tx_total &lt;dbl&gt; | ER_primary_fraction &lt;chr&gt; | ER_primary &lt;chr&gt; | ER_biopsy_fraction &lt;chr&gt; | ER_biopsy &lt;chr&gt; | ER_concordance &lt;chr&gt; | PR_primary_fraction &lt;chr&gt; | PR_primary &lt;chr&gt; | PR_biopsy_fraction &lt;chr&gt; | PR_biopsy &lt;chr&gt; | PR_concordance &lt;chr&gt; | HER2_primary &lt;chr&gt; | HER2_biopsy &lt;chr&gt; | HER2_concordance &lt;chr&gt; | receptors_primary &lt;chr&gt; | receptors_biopsy &lt;chr&gt; | site_biopsy &lt;chr&gt; | site_biopsy_detail &lt;chr&gt; | grade_breast &lt;chr&gt; | histology_breast &lt;chr&gt; | histology_breast2 &lt;chr&gt; | histology_biopsy &lt;chr&gt; | inflammatory &lt;chr&gt; |\n",
       "|---|---|---|---|---|---|---|---|---|---|---|---|---|---|---|---|---|---|---|---|---|---|---|---|---|---|---|---|---|---|---|---|---|---|---|---|---|---|---|---|---|---|---|---|---|---|---|---|---|---|---|---|---|---|---|---|---|---|---|---|---|---|---|---|---|---|---|---|---|---|---|---|---|\n",
       "| 0300861T1 | HTAPP-997-SMP-7789-TST-channel1   | HTAPP-997-SMP-7789_TST_channel1   | HTAPP-997-SMP-7789 | 6980 |  39980 | 2518 | 279061732 | 81.9 | 31.8 | 51.8 | 27.9 | 14.8 | TST   | channel1 | 0300861_T1 | 2019_10_01 | 7 | SI-GA-E1 | breast | liver      | GRCh38_premrna_v3.0.0 | H5JYCCCX2 | V3 | 5396 | 3156.026 | 6595 |  6.033237 | 54.93556 |  0.00000 | 0.7733131 | 0 |  1.667930 |  2.805155 |  0.39423806 | 7.065959 | 7.884761 | 0.06096114 | 0.1061410 |  NA |     NA | NA | NA   | NA    | NA | NA        | NA    | NA   | NA   | NA | NA | NA       | NA       | NA   | NA       | NA   | NA       | NA       | NA  | NA       | NA   | NA       | NA       | NA   | NA            | NA            | NA              | NA         | NA | NA                        | NA                        | NA                   | NA    |\n",
       "| 0300861T1 | HTAPP-997-SMP-7789-TST-channel2   | HTAPP-997-SMP-7789_TST_channel2   | HTAPP-997-SMP-7789 | 6851 |  21690 | 1989 | 148599626 | 81.1 | 24.0 | 61.5 | 33.3 | 17.3 | TST   | channel2 | 0300861_T1 | 2019_10_01 | 8 | SI-GA-F1 | breast | liver      | GRCh38_premrna_v3.0.0 | H5JYCCCX2 | V3 | 4406 | 2812.707 | 6321 |  4.612674 | 54.18446 |  0.00000 | 0.5695301 | 0 |  2.119918 |  2.816010 |  0.07910141 | 7.530454 | 7.514634 | 0.06849898 | 2.0882772 |  NA |     NA | NA | NA   | NA    | NA | NA        | NA    | NA   | NA   | NA | NA | NA       | NA       | NA   | NA       | NA   | NA       | NA       | NA  | NA       | NA   | NA       | NA       | NA   | NA            | NA            | NA              | NA         | NA | NA                        | NA                        | NA                   | NA    |\n",
       "| 0300864T1 | HTAPP-586-SMP-8599-fresh-channel1 | HTAPP-586-SMP-8599_fresh_channel1 | HTAPP-586-SMP-8599 | 1541 | 103391 | 1254 | 159327054 | 68.6 | 70.5 | 87.3 | 52.1 |  2.1 | fresh | channel1 | 0300864_T1 | 2019_08_22 | 6 | SI-GA-D6 | breast | lymph node | GRCh38_v3.0.0         | H2VLKCCX2 | V3 | 2995 |  992.815 | 2092 | 30.905205 |  0.00000 | 19.02486 | 0.0000000 | 0 | 35.850860 | 17.925430 | 14.14913958 | 0.000000 | 3.776291 | 0.02304191 | 0.0000000 | 864 | 300864 | T1 | TRUE | FALSE | IA | Recurrent | 24693 | 8390 | 1797 | NA | NA | Negative | Negative | 0    | Negative | TRUE | Negative | Negative | 0   | Negative | TRUE | Negative | Negative | TRUE | ER-/PR-/HER2- | ER-/PR-/HER2- | Supraclavicular | Lymph node | 3  | Invasive ductal carcinoma | Invasive ductal carcinoma | Malignant neoplasm   | FALSE |\n",
       "| 0300872T1 | HTAPP-759-SMP-8359-fresh-channel1 | HTAPP-759-SMP-8359_fresh_channel1 | HTAPP-759-SMP-8359 | 5016 |  20213 | 2206 | 101391650 | 90.0 | 19.9 | 92.7 | 60.3 |  1.5 | fresh | channel1 | 0300872_T1 | 2019_09_05 | 6 | SI-GA-C9 | breast | liver      | GRCh38_v3.0.0         | H2TN7CCX2 | V3 | 6851 | 2552.482 | 5042 |  7.214782 | 73.04641 |  0.00000 | 0.0000000 | 0 |  9.718366 |  8.012693 |  1.56683856 | 0.000000 | 4.224514 | 0.07584753 | 0.2181674 | 872 | 300872 | T1 | TRUE | FALSE | 0  | Recurrent | 20319 | 9895 | 1    | NA | NA | Positive | Positive | 0.95 | Positive | TRUE | Positive | Positive | 0.9 | Positive | TRUE | Negative | Negative | TRUE | ER+/PR+/HER2- | ER+/PR+/HER2- | Liver           | NA         | 2  | Ductal carcinoma in situ  | Ductal carcinoma in situ  | Metastatic carcinoma | FALSE |\n",
       "| 0300872T1 | HTAPP-759-SMP-8359-fresh-channel2 | HTAPP-759-SMP-8359_fresh_channel2 | HTAPP-759-SMP-8359 | 5116 |  20864 | 2234 | 106743745 | 89.3 | 20.4 | 91.9 | 60.2 |  1.5 | fresh | channel2 | 0300872_T1 | 2019_09_05 | 6 | SI-GA-D9 | breast | liver      | GRCh38_v3.0.0         | H2TN7CCX2 | V3 | 6378 | 2441.225 | 5612 |  7.472791 | 72.79045 |  0.00000 | 0.0000000 | 0 |  9.301497 |  8.374911 |  2.45901639 | 0.000000 | 3.688525 | 0.07361897 | 0.2851033 | 872 | 300872 | T1 | TRUE | FALSE | 0  | Recurrent | 20319 | 9895 | 1    | NA | NA | Positive | Positive | 0.95 | Positive | TRUE | Positive | Positive | 0.9 | Positive | TRUE | Negative | Negative | TRUE | ER+/PR+/HER2- | ER+/PR+/HER2- | Liver           | NA         | 2  | Ductal carcinoma in situ  | Ductal carcinoma in situ  | Metastatic carcinoma | FALSE |\n",
       "| 0300876T1 | HTAPP-812-SMP-8239-fresh-channel1 | HTAPP-812-SMP-8239_fresh_channel1 | HTAPP-812-SMP-8239 | 6589 |  17858 |  981 | 117669602 | 73.5 | 19.9 | 93.9 | 60.6 |  1.9 | fresh | channel1 | 0300876_T1 | 2019_10_01 | 8 | SI-GA-B2 | breast | axilla     | GRCh38_v3.0.0         | H5JYCCCX2 | V3 | 5223 | 1976.832 | 5772 |  8.289853 | 41.23354 |  0.00000 | 0.0000000 | 0 | 27.460152 |  8.610534 |  7.81358281 | 0.000000 | 6.739432 | 0.06169018 | 0.1039501 |  NA |     NA | NA | NA   | NA    | NA | NA        | NA    | NA   | NA   | NA | NA | NA       | NA       | NA   | NA       | NA   | NA       | NA       | NA  | NA       | NA   | NA       | NA       | NA   | NA            | NA            | NA              | NA         | NA | NA                        | NA                        | NA                   | NA    |\n",
       "\n"
      ],
      "text/plain": [
       "  ccpmID    orig.ident                        sampleName                       \n",
       "1 0300861T1 HTAPP-997-SMP-7789-TST-channel1   HTAPP-997-SMP-7789_TST_channel1  \n",
       "2 0300861T1 HTAPP-997-SMP-7789-TST-channel2   HTAPP-997-SMP-7789_TST_channel2  \n",
       "3 0300864T1 HTAPP-586-SMP-8599-fresh-channel1 HTAPP-586-SMP-8599_fresh_channel1\n",
       "4 0300872T1 HTAPP-759-SMP-8359-fresh-channel1 HTAPP-759-SMP-8359_fresh_channel1\n",
       "5 0300872T1 HTAPP-759-SMP-8359-fresh-channel2 HTAPP-759-SMP-8359_fresh_channel2\n",
       "6 0300876T1 HTAPP-812-SMP-8239-fresh-channel1 HTAPP-812-SMP-8239_fresh_channel1\n",
       "  sampleid           Estimated Number of Cells Mean Reads per Cell\n",
       "1 HTAPP-997-SMP-7789 6980                       39980             \n",
       "2 HTAPP-997-SMP-7789 6851                       21690             \n",
       "3 HTAPP-586-SMP-8599 1541                      103391             \n",
       "4 HTAPP-759-SMP-8359 5016                       20213             \n",
       "5 HTAPP-759-SMP-8359 5116                       20864             \n",
       "6 HTAPP-812-SMP-8239 6589                       17858             \n",
       "  Median Genes per Cell Number of Reads Fraction Reads in Cells\n",
       "1 2518                  279061732       81.9                   \n",
       "2 1989                  148599626       81.1                   \n",
       "3 1254                  159327054       68.6                   \n",
       "4 2206                  101391650       90.0                   \n",
       "5 2234                  106743745       89.3                   \n",
       "6  981                  117669602       73.5                   \n",
       "  Sequencing Saturation Reads Mapped Confidently to Genome\n",
       "1 31.8                  51.8                              \n",
       "2 24.0                  61.5                              \n",
       "3 70.5                  87.3                              \n",
       "4 19.9                  92.7                              \n",
       "5 20.4                  91.9                              \n",
       "6 19.9                  93.9                              \n",
       "  Reads Mapped Confidently to Transcriptome Reads Mapped Antisense to Gene\n",
       "1 27.9                                      14.8                          \n",
       "2 33.3                                      17.3                          \n",
       "3 52.1                                       2.1                          \n",
       "4 60.3                                       1.5                          \n",
       "5 60.2                                       1.5                          \n",
       "6 60.6                                       1.9                          \n",
       "  condition replicate ccpm       date       Lane Index    cancer site      \n",
       "1 TST       channel1  0300861_T1 2019_10_01 7    SI-GA-E1 breast liver     \n",
       "2 TST       channel2  0300861_T1 2019_10_01 8    SI-GA-F1 breast liver     \n",
       "3 fresh     channel1  0300864_T1 2019_08_22 6    SI-GA-D6 breast lymph node\n",
       "4 fresh     channel1  0300872_T1 2019_09_05 6    SI-GA-C9 breast liver     \n",
       "5 fresh     channel2  0300872_T1 2019_09_05 6    SI-GA-D9 breast liver     \n",
       "6 fresh     channel1  0300876_T1 2019_10_01 8    SI-GA-B2 breast axilla    \n",
       "  reference             flowcell  mode mean_UMI mean_genes N_cells\n",
       "1 GRCh38_premrna_v3.0.0 H5JYCCCX2 V3   5396     3156.026   6595   \n",
       "2 GRCh38_premrna_v3.0.0 H5JYCCCX2 V3   4406     2812.707   6321   \n",
       "3 GRCh38_v3.0.0         H2VLKCCX2 V3   2995      992.815   2092   \n",
       "4 GRCh38_v3.0.0         H2TN7CCX2 V3   6851     2552.482   5042   \n",
       "5 GRCh38_v3.0.0         H2TN7CCX2 V3   6378     2441.225   5612   \n",
       "6 GRCh38_v3.0.0         H5JYCCCX2 V3   5223     1976.832   5772   \n",
       "  mean_percent.mito percent_epithelial percent_chondrocyte\n",
       "1  6.033237         54.93556            0.00000           \n",
       "2  4.612674         54.18446            0.00000           \n",
       "3 30.905205          0.00000           19.02486           \n",
       "4  7.214782         73.04641            0.00000           \n",
       "5  7.472791         72.79045            0.00000           \n",
       "6  8.289853         41.23354            0.00000           \n",
       "  percent_epithelial_neuro percent_epithelial_stem percent_lymphocyte\n",
       "1 0.7733131                0                        1.667930         \n",
       "2 0.5695301                0                        2.119918         \n",
       "3 0.0000000                0                       35.850860         \n",
       "4 0.0000000                0                        9.718366         \n",
       "5 0.0000000                0                        9.301497         \n",
       "6 0.0000000                0                       27.460152         \n",
       "  percent_mono_macro percent_fibroblast percent_smooth_muscle\n",
       "1  2.805155           0.39423806        7.065959             \n",
       "2  2.816010           0.07910141        7.530454             \n",
       "3 17.925430          14.14913958        0.000000             \n",
       "4  8.012693           1.56683856        0.000000             \n",
       "5  8.374911           2.45901639        0.000000             \n",
       "6  8.610534           7.81358281        0.000000             \n",
       "  percent_endothelial mean_doublet_score percent_doublet ccpm_id ccpm_id_long\n",
       "1 7.884761            0.06096114         0.1061410        NA         NA      \n",
       "2 7.514634            0.06849898         2.0882772        NA         NA      \n",
       "3 3.776291            0.02304191         0.0000000       864     300864      \n",
       "4 4.224514            0.07584753         0.2181674       872     300872      \n",
       "5 3.688525            0.07361897         0.2851033       872     300872      \n",
       "6 6.739432            0.06169018         0.1039501        NA         NA      \n",
       "  sample fresh frozen stage_at_diagnosis metastatic_presentation\n",
       "1 NA     NA    NA     NA                 NA                     \n",
       "2 NA     NA    NA     NA                 NA                     \n",
       "3 T1     TRUE  FALSE  IA                 Recurrent              \n",
       "4 T1     TRUE  FALSE  0                  Recurrent              \n",
       "5 T1     TRUE  FALSE  0                  Recurrent              \n",
       "6 NA     NA    NA     NA                 NA                     \n",
       "  biopsy_days_after_dob biopsy_days_after_diagnosis\n",
       "1 NA                    NA                         \n",
       "2 NA                    NA                         \n",
       "3 24693                 8390                       \n",
       "4 20319                 9895                       \n",
       "5 20319                 9895                       \n",
       "6 NA                    NA                         \n",
       "  biopsy_days_after_metastasis prior_lines_tx_metastatic prior_lines_tx_total\n",
       "1 NA                           NA                        NA                  \n",
       "2 NA                           NA                        NA                  \n",
       "3 1797                         NA                        NA                  \n",
       "4 1                            NA                        NA                  \n",
       "5 1                            NA                        NA                  \n",
       "6 NA                           NA                        NA                  \n",
       "  ER_primary_fraction ER_primary ER_biopsy_fraction ER_biopsy ER_concordance\n",
       "1 NA                  NA         NA                 NA        NA            \n",
       "2 NA                  NA         NA                 NA        NA            \n",
       "3 Negative            Negative   0                  Negative  TRUE          \n",
       "4 Positive            Positive   0.95               Positive  TRUE          \n",
       "5 Positive            Positive   0.95               Positive  TRUE          \n",
       "6 NA                  NA         NA                 NA        NA            \n",
       "  PR_primary_fraction PR_primary PR_biopsy_fraction PR_biopsy PR_concordance\n",
       "1 NA                  NA         NA                 NA        NA            \n",
       "2 NA                  NA         NA                 NA        NA            \n",
       "3 Negative            Negative   0                  Negative  TRUE          \n",
       "4 Positive            Positive   0.9                Positive  TRUE          \n",
       "5 Positive            Positive   0.9                Positive  TRUE          \n",
       "6 NA                  NA         NA                 NA        NA            \n",
       "  HER2_primary HER2_biopsy HER2_concordance receptors_primary receptors_biopsy\n",
       "1 NA           NA          NA               NA                NA              \n",
       "2 NA           NA          NA               NA                NA              \n",
       "3 Negative     Negative    TRUE             ER-/PR-/HER2-     ER-/PR-/HER2-   \n",
       "4 Negative     Negative    TRUE             ER+/PR+/HER2-     ER+/PR+/HER2-   \n",
       "5 Negative     Negative    TRUE             ER+/PR+/HER2-     ER+/PR+/HER2-   \n",
       "6 NA           NA          NA               NA                NA              \n",
       "  site_biopsy     site_biopsy_detail grade_breast histology_breast         \n",
       "1 NA              NA                 NA           NA                       \n",
       "2 NA              NA                 NA           NA                       \n",
       "3 Supraclavicular Lymph node         3            Invasive ductal carcinoma\n",
       "4 Liver           NA                 2            Ductal carcinoma in situ \n",
       "5 Liver           NA                 2            Ductal carcinoma in situ \n",
       "6 NA              NA                 NA           NA                       \n",
       "  histology_breast2         histology_biopsy     inflammatory\n",
       "1 NA                        NA                   NA          \n",
       "2 NA                        NA                   NA          \n",
       "3 Invasive ductal carcinoma Malignant neoplasm   FALSE       \n",
       "4 Ductal carcinoma in situ  Metastatic carcinoma FALSE       \n",
       "5 Ductal carcinoma in situ  Metastatic carcinoma FALSE       \n",
       "6 NA                        NA                   NA          "
      ]
     },
     "metadata": {},
     "output_type": "display_data"
    }
   ],
   "source": [
    "all_stats=merge(merge(merge(cr_stats,filtered_red,by.x=c(\"sampleName\",\"sampleid\"),by.y=c(\"channel_id\",\"name\"),all=TRUE),doublet_scores_red,by.x=c(\"orig.ident\"),by.y=c(\"ident\"),all=TRUE),\n",
    "                clin[,-c(\"cohort\",\n",
    "                         \"sequenced\",\n",
    "                         \"annotated\",\n",
    "                         \"path_tumor_present\",\n",
    "                         \"ofir\"),with=FALSE],\n",
    "                by=\"ccpmID\",all.x=TRUE)\n",
    "tail(all_stats)"
   ]
  },
  {
   "cell_type": "code",
   "execution_count": 24,
   "metadata": {},
   "outputs": [],
   "source": [
    "all_stats=all_stats[!grep(\"-iso\",sampleid)]"
   ]
  },
  {
   "cell_type": "code",
   "execution_count": 25,
   "metadata": {},
   "outputs": [
    {
     "data": {
      "text/html": [
       "<ol class=list-inline>\n",
       "\t<li>'0200471T1'</li>\n",
       "\t<li>'0300732T1'</li>\n",
       "\t<li>'0300861T1'</li>\n",
       "\t<li>'0300876T1'</li>\n",
       "</ol>\n"
      ],
      "text/latex": [
       "\\begin{enumerate*}\n",
       "\\item '0200471T1'\n",
       "\\item '0300732T1'\n",
       "\\item '0300861T1'\n",
       "\\item '0300876T1'\n",
       "\\end{enumerate*}\n"
      ],
      "text/markdown": [
       "1. '0200471T1'\n",
       "2. '0300732T1'\n",
       "3. '0300861T1'\n",
       "4. '0300876T1'\n",
       "\n",
       "\n"
      ],
      "text/plain": [
       "[1] \"0200471T1\" \"0300732T1\" \"0300861T1\" \"0300876T1\""
      ]
     },
     "metadata": {},
     "output_type": "display_data"
    }
   ],
   "source": [
    "unique(all_stats[is.na(ccpm_id)]$ccpmID)"
   ]
  },
  {
   "cell_type": "code",
   "execution_count": 26,
   "metadata": {},
   "outputs": [
    {
     "data": {
      "text/html": [
       "72"
      ],
      "text/latex": [
       "72"
      ],
      "text/markdown": [
       "72"
      ],
      "text/plain": [
       "[1] 72"
      ]
     },
     "metadata": {},
     "output_type": "display_data"
    }
   ],
   "source": [
    "length(unique(all_stats$sampleid))"
   ]
  },
  {
   "cell_type": "code",
   "execution_count": 27,
   "metadata": {},
   "outputs": [
    {
     "data": {
      "text/html": [
       "127"
      ],
      "text/latex": [
       "127"
      ],
      "text/markdown": [
       "127"
      ],
      "text/plain": [
       "[1] 127"
      ]
     },
     "metadata": {},
     "output_type": "display_data"
    },
    {
     "data": {
      "text/html": [
       "127"
      ],
      "text/latex": [
       "127"
      ],
      "text/markdown": [
       "127"
      ],
      "text/plain": [
       "[1] 127"
      ]
     },
     "metadata": {},
     "output_type": "display_data"
    }
   ],
   "source": [
    "nrow(all_stats)\n",
    "nrow(unique(all_stats))"
   ]
  },
  {
   "cell_type": "code",
   "execution_count": 28,
   "metadata": {},
   "outputs": [],
   "source": [
    "write.table(all_stats,file.path(statsSummaryDir,\"sample_annot.tsv\"),sep=\"\\t\",quote=FALSE,row.names=FALSE)"
   ]
  },
  {
   "cell_type": "code",
   "execution_count": null,
   "metadata": {},
   "outputs": [],
   "source": []
  }
 ],
 "metadata": {
  "kernelspec": {
   "display_name": "R_S3",
   "language": "R",
   "name": "ir_s3"
  },
  "language_info": {
   "codemirror_mode": "r",
   "file_extension": ".r",
   "mimetype": "text/x-r-source",
   "name": "R",
   "pygments_lexer": "r",
   "version": "3.6.3"
  }
 },
 "nbformat": 4,
 "nbformat_minor": 2
}
