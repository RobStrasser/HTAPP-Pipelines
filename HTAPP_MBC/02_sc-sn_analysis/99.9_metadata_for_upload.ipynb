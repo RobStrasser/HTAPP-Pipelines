{
 "cells": [
  {
   "cell_type": "code",
   "execution_count": 1,
   "metadata": {},
   "outputs": [
    {
     "name": "stderr",
     "output_type": "stream",
     "text": [
      "Registered S3 method overwritten by 'R.oo':\n",
      "  method        from       \n",
      "  throw.default R.methodsS3\n",
      "Loading combined annotation: annot\n"
     ]
    }
   ],
   "source": [
    "source(\"/secure/projects/HTAPP_MBC/src/init_phase2.R\")"
   ]
  },
  {
   "cell_type": "code",
   "execution_count": 2,
   "metadata": {},
   "outputs": [],
   "source": [
    "out=\"/scratch/projects/HTAPP_MBC/phase2/analysis/99_meta\"\n",
    "dir.create(out,recursive = TRUE,showWarnings = F)"
   ]
  },
  {
   "cell_type": "markdown",
   "metadata": {},
   "source": [
    "### L1"
   ]
  },
  {
   "cell_type": "code",
   "execution_count": 73,
   "metadata": {},
   "outputs": [],
   "source": [
    "sheetL1 = fread(paste0(codeDir,\"/meta/MBC HTAPP_ HTAN scRNA-seqLevel1.tsv\"))"
   ]
  },
  {
   "cell_type": "code",
   "execution_count": 74,
   "metadata": {},
   "outputs": [],
   "source": [
    "sheetL1_orig=copy(sheetL1)"
   ]
  },
  {
   "cell_type": "code",
   "execution_count": 75,
   "metadata": {},
   "outputs": [],
   "source": [
    "sheetL1[,file:=gsub(\".*/\",\"\",Filename),]"
   ]
  },
  {
   "cell_type": "code",
   "execution_count": 76,
   "metadata": {},
   "outputs": [],
   "source": [
    "sheetL1[,sample_name:=gsub(\"_S[0-9][0-9]*_.*\",\"\",file),]"
   ]
  },
  {
   "cell_type": "code",
   "execution_count": 77,
   "metadata": {},
   "outputs": [],
   "source": [
    "sheetL1[,filepath:=list.files(paste0(baseDir,\"/pipeline/fastq/10x\"),pattern = file,recursive = TRUE,full.names = TRUE),by=1:nrow(sheetL1)]"
   ]
  },
  {
   "cell_type": "code",
   "execution_count": 78,
   "metadata": {},
   "outputs": [],
   "source": [
    "sheetL1=merge(sheetL1,sample_sheet,by.x=\"sample_name\",by.y=\"channel_id\",all.x=TRUE,sort=FALSE)"
   ]
  },
  {
   "cell_type": "code",
   "execution_count": 79,
   "metadata": {},
   "outputs": [
    {
     "data": {
      "text/html": [
       "<table>\n",
       "<caption>A data.table: 6 x 40</caption>\n",
       "<thead>\n",
       "\t<tr><th scope=col>Component</th><th scope=col>Filename</th><th scope=col>File Format</th><th scope=col>HTAN Parent Biospecimen ID</th><th scope=col>HTAN Data File ID</th><th scope=col>Nucleic Acid Source</th><th scope=col>Cryopreserved Cells in Sample</th><th scope=col>Single Cell Isolation Method</th><th scope=col>Dissociation Method</th><th scope=col>Library Construction Method</th><th scope=col>Read Indicator</th><th scope=col>Read1</th><th scope=col>Read2</th><th scope=col>End Bias</th><th scope=col>Reverse Transcription Primer</th><th scope=col>Spike In</th><th scope=col>Sequencing Platform</th><th scope=col>Total Number of Input Cells</th><th scope=col>Input Cells and Nuclei</th><th scope=col>Library Preparation Days from Index</th><th scope=col>Single Cell Dissociation Days from Index</th><th scope=col>Sequencing Library Construction Days from Index</th><th scope=col>Nucleic Acid Capture Days from Index</th><th scope=col>Protocol Link</th><th scope=col>Technical Replicate Group</th><th scope=col>Both Spike in Mixes</th><th scope=col>Cell Barcode Length</th><th scope=col>Cell Barcode Offset</th><th scope=col>Empty Well Barcode</th><th scope=col>Feature Reference Id</th><th scope=col>Median UMIs per Cell Number</th><th scope=col>Spike In Concentration</th><th scope=col>Spike In Mix 1</th><th scope=col>Spike In Mix 2</th><th scope=col>UMI Barcode Length</th><th scope=col>UMI Barcode Offset</th><th scope=col>Valid Barcodes Cell Number</th><th scope=col>Well Index</th><th scope=col>cDNA Length</th><th scope=col>cDNA Offset</th></tr>\n",
       "\t<tr><th scope=col>&lt;chr&gt;</th><th scope=col>&lt;chr&gt;</th><th scope=col>&lt;chr&gt;</th><th scope=col>&lt;lgl&gt;</th><th scope=col>&lt;lgl&gt;</th><th scope=col>&lt;chr&gt;</th><th scope=col>&lt;chr&gt;</th><th scope=col>&lt;chr&gt;</th><th scope=col>&lt;lgl&gt;</th><th scope=col>&lt;lgl&gt;</th><th scope=col>&lt;chr&gt;</th><th scope=col>&lt;chr&gt;</th><th scope=col>&lt;chr&gt;</th><th scope=col>&lt;lgl&gt;</th><th scope=col>&lt;chr&gt;</th><th scope=col>&lt;chr&gt;</th><th scope=col>&lt;lgl&gt;</th><th scope=col>&lt;chr&gt;</th><th scope=col>&lt;lgl&gt;</th><th scope=col>&lt;lgl&gt;</th><th scope=col>&lt;lgl&gt;</th><th scope=col>&lt;lgl&gt;</th><th scope=col>&lt;lgl&gt;</th><th scope=col>&lt;lgl&gt;</th><th scope=col>&lt;lgl&gt;</th><th scope=col>&lt;lgl&gt;</th><th scope=col>&lt;lgl&gt;</th><th scope=col>&lt;lgl&gt;</th><th scope=col>&lt;lgl&gt;</th><th scope=col>&lt;lgl&gt;</th><th scope=col>&lt;lgl&gt;</th><th scope=col>&lt;lgl&gt;</th><th scope=col>&lt;lgl&gt;</th><th scope=col>&lt;lgl&gt;</th><th scope=col>&lt;lgl&gt;</th><th scope=col>&lt;lgl&gt;</th><th scope=col>&lt;lgl&gt;</th><th scope=col>&lt;lgl&gt;</th><th scope=col>&lt;lgl&gt;</th><th scope=col>&lt;lgl&gt;</th></tr>\n",
       "</thead>\n",
       "<tbody>\n",
       "\t<tr><td></td><td>single_cell_RNAseq_level_1_breast/HTAPP-211-SMP-6751_TST_channel1_S1_L001_R1_001.fastq.gz</td><td></td><td>NA</td><td>NA</td><td>Single Nucleus</td><td>No</td><td>10x</td><td>NA</td><td>NA</td><td>R1</td><td>Cell Barcode and UMI</td><td>cDNA</td><td>NA</td><td>Poly-dT</td><td>No Spike In</td><td>NA</td><td>Not Applicable</td><td>NA</td><td>NA</td><td>NA</td><td>NA</td><td>NA</td><td>NA</td><td>NA</td><td>NA</td><td>NA</td><td>NA</td><td>NA</td><td>NA</td><td>NA</td><td>NA</td><td>NA</td><td>NA</td><td>NA</td><td>NA</td><td>NA</td><td>NA</td><td>NA</td><td>NA</td></tr>\n",
       "\t<tr><td></td><td>single_cell_RNAseq_level_1_breast/HTAPP-211-SMP-6751_TST_channel1_S1_L001_R2_001.fastq.gz</td><td></td><td>NA</td><td>NA</td><td>              </td><td>  </td><td>   </td><td>NA</td><td>NA</td><td>R2</td><td>Cell Barcode and UMI</td><td>cDNA</td><td>NA</td><td>Poly-dT</td><td>No Spike In</td><td>NA</td><td>Not Applicable</td><td>NA</td><td>NA</td><td>NA</td><td>NA</td><td>NA</td><td>NA</td><td>NA</td><td>NA</td><td>NA</td><td>NA</td><td>NA</td><td>NA</td><td>NA</td><td>NA</td><td>NA</td><td>NA</td><td>NA</td><td>NA</td><td>NA</td><td>NA</td><td>NA</td><td>NA</td></tr>\n",
       "\t<tr><td></td><td>single_cell_RNAseq_level_1_breast/HTAPP-211-SMP-6751_TST_channel2_S2_L001_R1_001.fastq.gz</td><td></td><td>NA</td><td>NA</td><td>              </td><td>  </td><td>   </td><td>NA</td><td>NA</td><td>  </td><td>                    </td><td>    </td><td>NA</td><td>       </td><td>           </td><td>NA</td><td>              </td><td>NA</td><td>NA</td><td>NA</td><td>NA</td><td>NA</td><td>NA</td><td>NA</td><td>NA</td><td>NA</td><td>NA</td><td>NA</td><td>NA</td><td>NA</td><td>NA</td><td>NA</td><td>NA</td><td>NA</td><td>NA</td><td>NA</td><td>NA</td><td>NA</td><td>NA</td></tr>\n",
       "\t<tr><td></td><td>single_cell_RNAseq_level_1_breast/HTAPP-211-SMP-6751_TST_channel2_S2_L001_R2_001.fastq.gz</td><td></td><td>NA</td><td>NA</td><td>              </td><td>  </td><td>   </td><td>NA</td><td>NA</td><td>  </td><td>                    </td><td>    </td><td>NA</td><td>       </td><td>           </td><td>NA</td><td>              </td><td>NA</td><td>NA</td><td>NA</td><td>NA</td><td>NA</td><td>NA</td><td>NA</td><td>NA</td><td>NA</td><td>NA</td><td>NA</td><td>NA</td><td>NA</td><td>NA</td><td>NA</td><td>NA</td><td>NA</td><td>NA</td><td>NA</td><td>NA</td><td>NA</td><td>NA</td></tr>\n",
       "\t<tr><td></td><td>single_cell_RNAseq_level_1_breast/HTAPP-213-SMP-6752_TST_channel1_S3_L001_R1_001.fastq.gz</td><td></td><td>NA</td><td>NA</td><td>              </td><td>  </td><td>   </td><td>NA</td><td>NA</td><td>  </td><td>                    </td><td>    </td><td>NA</td><td>       </td><td>           </td><td>NA</td><td>              </td><td>NA</td><td>NA</td><td>NA</td><td>NA</td><td>NA</td><td>NA</td><td>NA</td><td>NA</td><td>NA</td><td>NA</td><td>NA</td><td>NA</td><td>NA</td><td>NA</td><td>NA</td><td>NA</td><td>NA</td><td>NA</td><td>NA</td><td>NA</td><td>NA</td><td>NA</td></tr>\n",
       "\t<tr><td></td><td>single_cell_RNAseq_level_1_breast/HTAPP-213-SMP-6752_TST_channel1_S3_L001_R2_001.fastq.gz</td><td></td><td>NA</td><td>NA</td><td>              </td><td>  </td><td>   </td><td>NA</td><td>NA</td><td>  </td><td>                    </td><td>    </td><td>NA</td><td>       </td><td>           </td><td>NA</td><td>              </td><td>NA</td><td>NA</td><td>NA</td><td>NA</td><td>NA</td><td>NA</td><td>NA</td><td>NA</td><td>NA</td><td>NA</td><td>NA</td><td>NA</td><td>NA</td><td>NA</td><td>NA</td><td>NA</td><td>NA</td><td>NA</td><td>NA</td><td>NA</td><td>NA</td><td>NA</td></tr>\n",
       "</tbody>\n",
       "</table>\n"
      ],
      "text/latex": [
       "A data.table: 6 x 40\n",
       "\\begin{tabular}{r|llllllllllllllllllllllllllllllllllllllll}\n",
       " Component & Filename & File Format & HTAN Parent Biospecimen ID & HTAN Data File ID & Nucleic Acid Source & Cryopreserved Cells in Sample & Single Cell Isolation Method & Dissociation Method & Library Construction Method & Read Indicator & Read1 & Read2 & End Bias & Reverse Transcription Primer & Spike In & Sequencing Platform & Total Number of Input Cells & Input Cells and Nuclei & Library Preparation Days from Index & Single Cell Dissociation Days from Index & Sequencing Library Construction Days from Index & Nucleic Acid Capture Days from Index & Protocol Link & Technical Replicate Group & Both Spike in Mixes & Cell Barcode Length & Cell Barcode Offset & Empty Well Barcode & Feature Reference Id & Median UMIs per Cell Number & Spike In Concentration & Spike In Mix 1 & Spike In Mix 2 & UMI Barcode Length & UMI Barcode Offset & Valid Barcodes Cell Number & Well Index & cDNA Length & cDNA Offset\\\\\n",
       " <chr> & <chr> & <chr> & <lgl> & <lgl> & <chr> & <chr> & <chr> & <lgl> & <lgl> & <chr> & <chr> & <chr> & <lgl> & <chr> & <chr> & <lgl> & <chr> & <lgl> & <lgl> & <lgl> & <lgl> & <lgl> & <lgl> & <lgl> & <lgl> & <lgl> & <lgl> & <lgl> & <lgl> & <lgl> & <lgl> & <lgl> & <lgl> & <lgl> & <lgl> & <lgl> & <lgl> & <lgl> & <lgl>\\\\\n",
       "\\hline\n",
       "\t  & single\\_cell\\_RNAseq\\_level\\_1\\_breast/HTAPP-211-SMP-6751\\_TST\\_channel1\\_S1\\_L001\\_R1\\_001.fastq.gz &  & NA & NA & Single Nucleus & No & 10x & NA & NA & R1 & Cell Barcode and UMI & cDNA & NA & Poly-dT & No Spike In & NA & Not Applicable & NA & NA & NA & NA & NA & NA & NA & NA & NA & NA & NA & NA & NA & NA & NA & NA & NA & NA & NA & NA & NA & NA\\\\\n",
       "\t  & single\\_cell\\_RNAseq\\_level\\_1\\_breast/HTAPP-211-SMP-6751\\_TST\\_channel1\\_S1\\_L001\\_R2\\_001.fastq.gz &  & NA & NA &                &    &     & NA & NA & R2 & Cell Barcode and UMI & cDNA & NA & Poly-dT & No Spike In & NA & Not Applicable & NA & NA & NA & NA & NA & NA & NA & NA & NA & NA & NA & NA & NA & NA & NA & NA & NA & NA & NA & NA & NA & NA\\\\\n",
       "\t  & single\\_cell\\_RNAseq\\_level\\_1\\_breast/HTAPP-211-SMP-6751\\_TST\\_channel2\\_S2\\_L001\\_R1\\_001.fastq.gz &  & NA & NA &                &    &     & NA & NA &    &                      &      & NA &         &             & NA &                & NA & NA & NA & NA & NA & NA & NA & NA & NA & NA & NA & NA & NA & NA & NA & NA & NA & NA & NA & NA & NA & NA\\\\\n",
       "\t  & single\\_cell\\_RNAseq\\_level\\_1\\_breast/HTAPP-211-SMP-6751\\_TST\\_channel2\\_S2\\_L001\\_R2\\_001.fastq.gz &  & NA & NA &                &    &     & NA & NA &    &                      &      & NA &         &             & NA &                & NA & NA & NA & NA & NA & NA & NA & NA & NA & NA & NA & NA & NA & NA & NA & NA & NA & NA & NA & NA & NA & NA\\\\\n",
       "\t  & single\\_cell\\_RNAseq\\_level\\_1\\_breast/HTAPP-213-SMP-6752\\_TST\\_channel1\\_S3\\_L001\\_R1\\_001.fastq.gz &  & NA & NA &                &    &     & NA & NA &    &                      &      & NA &         &             & NA &                & NA & NA & NA & NA & NA & NA & NA & NA & NA & NA & NA & NA & NA & NA & NA & NA & NA & NA & NA & NA & NA & NA\\\\\n",
       "\t  & single\\_cell\\_RNAseq\\_level\\_1\\_breast/HTAPP-213-SMP-6752\\_TST\\_channel1\\_S3\\_L001\\_R2\\_001.fastq.gz &  & NA & NA &                &    &     & NA & NA &    &                      &      & NA &         &             & NA &                & NA & NA & NA & NA & NA & NA & NA & NA & NA & NA & NA & NA & NA & NA & NA & NA & NA & NA & NA & NA & NA & NA\\\\\n",
       "\\end{tabular}\n"
      ],
      "text/markdown": [
       "\n",
       "A data.table: 6 x 40\n",
       "\n",
       "| Component &lt;chr&gt; | Filename &lt;chr&gt; | File Format &lt;chr&gt; | HTAN Parent Biospecimen ID &lt;lgl&gt; | HTAN Data File ID &lt;lgl&gt; | Nucleic Acid Source &lt;chr&gt; | Cryopreserved Cells in Sample &lt;chr&gt; | Single Cell Isolation Method &lt;chr&gt; | Dissociation Method &lt;lgl&gt; | Library Construction Method &lt;lgl&gt; | Read Indicator &lt;chr&gt; | Read1 &lt;chr&gt; | Read2 &lt;chr&gt; | End Bias &lt;lgl&gt; | Reverse Transcription Primer &lt;chr&gt; | Spike In &lt;chr&gt; | Sequencing Platform &lt;lgl&gt; | Total Number of Input Cells &lt;chr&gt; | Input Cells and Nuclei &lt;lgl&gt; | Library Preparation Days from Index &lt;lgl&gt; | Single Cell Dissociation Days from Index &lt;lgl&gt; | Sequencing Library Construction Days from Index &lt;lgl&gt; | Nucleic Acid Capture Days from Index &lt;lgl&gt; | Protocol Link &lt;lgl&gt; | Technical Replicate Group &lt;lgl&gt; | Both Spike in Mixes &lt;lgl&gt; | Cell Barcode Length &lt;lgl&gt; | Cell Barcode Offset &lt;lgl&gt; | Empty Well Barcode &lt;lgl&gt; | Feature Reference Id &lt;lgl&gt; | Median UMIs per Cell Number &lt;lgl&gt; | Spike In Concentration &lt;lgl&gt; | Spike In Mix 1 &lt;lgl&gt; | Spike In Mix 2 &lt;lgl&gt; | UMI Barcode Length &lt;lgl&gt; | UMI Barcode Offset &lt;lgl&gt; | Valid Barcodes Cell Number &lt;lgl&gt; | Well Index &lt;lgl&gt; | cDNA Length &lt;lgl&gt; | cDNA Offset &lt;lgl&gt; |\n",
       "|---|---|---|---|---|---|---|---|---|---|---|---|---|---|---|---|---|---|---|---|---|---|---|---|---|---|---|---|---|---|---|---|---|---|---|---|---|---|---|---|\n",
       "| <!----> | single_cell_RNAseq_level_1_breast/HTAPP-211-SMP-6751_TST_channel1_S1_L001_R1_001.fastq.gz | <!----> | NA | NA | Single Nucleus | No | 10x | NA | NA | R1 | Cell Barcode and UMI | cDNA | NA | Poly-dT | No Spike In | NA | Not Applicable | NA | NA | NA | NA | NA | NA | NA | NA | NA | NA | NA | NA | NA | NA | NA | NA | NA | NA | NA | NA | NA | NA |\n",
       "| <!----> | single_cell_RNAseq_level_1_breast/HTAPP-211-SMP-6751_TST_channel1_S1_L001_R2_001.fastq.gz | <!----> | NA | NA | <!----> | <!----> | <!----> | NA | NA | R2 | Cell Barcode and UMI | cDNA | NA | Poly-dT | No Spike In | NA | Not Applicable | NA | NA | NA | NA | NA | NA | NA | NA | NA | NA | NA | NA | NA | NA | NA | NA | NA | NA | NA | NA | NA | NA |\n",
       "| <!----> | single_cell_RNAseq_level_1_breast/HTAPP-211-SMP-6751_TST_channel2_S2_L001_R1_001.fastq.gz | <!----> | NA | NA | <!----> | <!----> | <!----> | NA | NA | <!----> | <!----> | <!----> | NA | <!----> | <!----> | NA | <!----> | NA | NA | NA | NA | NA | NA | NA | NA | NA | NA | NA | NA | NA | NA | NA | NA | NA | NA | NA | NA | NA | NA |\n",
       "| <!----> | single_cell_RNAseq_level_1_breast/HTAPP-211-SMP-6751_TST_channel2_S2_L001_R2_001.fastq.gz | <!----> | NA | NA | <!----> | <!----> | <!----> | NA | NA | <!----> | <!----> | <!----> | NA | <!----> | <!----> | NA | <!----> | NA | NA | NA | NA | NA | NA | NA | NA | NA | NA | NA | NA | NA | NA | NA | NA | NA | NA | NA | NA | NA | NA |\n",
       "| <!----> | single_cell_RNAseq_level_1_breast/HTAPP-213-SMP-6752_TST_channel1_S3_L001_R1_001.fastq.gz | <!----> | NA | NA | <!----> | <!----> | <!----> | NA | NA | <!----> | <!----> | <!----> | NA | <!----> | <!----> | NA | <!----> | NA | NA | NA | NA | NA | NA | NA | NA | NA | NA | NA | NA | NA | NA | NA | NA | NA | NA | NA | NA | NA | NA |\n",
       "| <!----> | single_cell_RNAseq_level_1_breast/HTAPP-213-SMP-6752_TST_channel1_S3_L001_R2_001.fastq.gz | <!----> | NA | NA | <!----> | <!----> | <!----> | NA | NA | <!----> | <!----> | <!----> | NA | <!----> | <!----> | NA | <!----> | NA | NA | NA | NA | NA | NA | NA | NA | NA | NA | NA | NA | NA | NA | NA | NA | NA | NA | NA | NA | NA | NA |\n",
       "\n"
      ],
      "text/plain": [
       "  Component\n",
       "1          \n",
       "2          \n",
       "3          \n",
       "4          \n",
       "5          \n",
       "6          \n",
       "  Filename                                                                                 \n",
       "1 single_cell_RNAseq_level_1_breast/HTAPP-211-SMP-6751_TST_channel1_S1_L001_R1_001.fastq.gz\n",
       "2 single_cell_RNAseq_level_1_breast/HTAPP-211-SMP-6751_TST_channel1_S1_L001_R2_001.fastq.gz\n",
       "3 single_cell_RNAseq_level_1_breast/HTAPP-211-SMP-6751_TST_channel2_S2_L001_R1_001.fastq.gz\n",
       "4 single_cell_RNAseq_level_1_breast/HTAPP-211-SMP-6751_TST_channel2_S2_L001_R2_001.fastq.gz\n",
       "5 single_cell_RNAseq_level_1_breast/HTAPP-213-SMP-6752_TST_channel1_S3_L001_R1_001.fastq.gz\n",
       "6 single_cell_RNAseq_level_1_breast/HTAPP-213-SMP-6752_TST_channel1_S3_L001_R2_001.fastq.gz\n",
       "  File Format HTAN Parent Biospecimen ID HTAN Data File ID Nucleic Acid Source\n",
       "1             NA                         NA                Single Nucleus     \n",
       "2             NA                         NA                                   \n",
       "3             NA                         NA                                   \n",
       "4             NA                         NA                                   \n",
       "5             NA                         NA                                   \n",
       "6             NA                         NA                                   \n",
       "  Cryopreserved Cells in Sample Single Cell Isolation Method\n",
       "1 No                            10x                         \n",
       "2                                                           \n",
       "3                                                           \n",
       "4                                                           \n",
       "5                                                           \n",
       "6                                                           \n",
       "  Dissociation Method Library Construction Method Read Indicator\n",
       "1 NA                  NA                          R1            \n",
       "2 NA                  NA                          R2            \n",
       "3 NA                  NA                                        \n",
       "4 NA                  NA                                        \n",
       "5 NA                  NA                                        \n",
       "6 NA                  NA                                        \n",
       "  Read1                Read2 End Bias Reverse Transcription Primer Spike In   \n",
       "1 Cell Barcode and UMI cDNA  NA       Poly-dT                      No Spike In\n",
       "2 Cell Barcode and UMI cDNA  NA       Poly-dT                      No Spike In\n",
       "3                            NA                                               \n",
       "4                            NA                                               \n",
       "5                            NA                                               \n",
       "6                            NA                                               \n",
       "  Sequencing Platform Total Number of Input Cells Input Cells and Nuclei\n",
       "1 NA                  Not Applicable              NA                    \n",
       "2 NA                  Not Applicable              NA                    \n",
       "3 NA                                              NA                    \n",
       "4 NA                                              NA                    \n",
       "5 NA                                              NA                    \n",
       "6 NA                                              NA                    \n",
       "  Library Preparation Days from Index Single Cell Dissociation Days from Index\n",
       "1 NA                                  NA                                      \n",
       "2 NA                                  NA                                      \n",
       "3 NA                                  NA                                      \n",
       "4 NA                                  NA                                      \n",
       "5 NA                                  NA                                      \n",
       "6 NA                                  NA                                      \n",
       "  Sequencing Library Construction Days from Index\n",
       "1 NA                                             \n",
       "2 NA                                             \n",
       "3 NA                                             \n",
       "4 NA                                             \n",
       "5 NA                                             \n",
       "6 NA                                             \n",
       "  Nucleic Acid Capture Days from Index Protocol Link Technical Replicate Group\n",
       "1 NA                                   NA            NA                       \n",
       "2 NA                                   NA            NA                       \n",
       "3 NA                                   NA            NA                       \n",
       "4 NA                                   NA            NA                       \n",
       "5 NA                                   NA            NA                       \n",
       "6 NA                                   NA            NA                       \n",
       "  Both Spike in Mixes Cell Barcode Length Cell Barcode Offset\n",
       "1 NA                  NA                  NA                 \n",
       "2 NA                  NA                  NA                 \n",
       "3 NA                  NA                  NA                 \n",
       "4 NA                  NA                  NA                 \n",
       "5 NA                  NA                  NA                 \n",
       "6 NA                  NA                  NA                 \n",
       "  Empty Well Barcode Feature Reference Id Median UMIs per Cell Number\n",
       "1 NA                 NA                   NA                         \n",
       "2 NA                 NA                   NA                         \n",
       "3 NA                 NA                   NA                         \n",
       "4 NA                 NA                   NA                         \n",
       "5 NA                 NA                   NA                         \n",
       "6 NA                 NA                   NA                         \n",
       "  Spike In Concentration Spike In Mix 1 Spike In Mix 2 UMI Barcode Length\n",
       "1 NA                     NA             NA             NA                \n",
       "2 NA                     NA             NA             NA                \n",
       "3 NA                     NA             NA             NA                \n",
       "4 NA                     NA             NA             NA                \n",
       "5 NA                     NA             NA             NA                \n",
       "6 NA                     NA             NA             NA                \n",
       "  UMI Barcode Offset Valid Barcodes Cell Number Well Index cDNA Length\n",
       "1 NA                 NA                         NA         NA         \n",
       "2 NA                 NA                         NA         NA         \n",
       "3 NA                 NA                         NA         NA         \n",
       "4 NA                 NA                         NA         NA         \n",
       "5 NA                 NA                         NA         NA         \n",
       "6 NA                 NA                         NA         NA         \n",
       "  cDNA Offset\n",
       "1 NA         \n",
       "2 NA         \n",
       "3 NA         \n",
       "4 NA         \n",
       "5 NA         \n",
       "6 NA         "
      ]
     },
     "metadata": {},
     "output_type": "display_data"
    }
   ],
   "source": [
    "head(sheetL1_orig)"
   ]
  },
  {
   "cell_type": "code",
   "execution_count": 80,
   "metadata": {},
   "outputs": [],
   "source": [
    "sheetL1[,`File Format`:=as.character(`File Format`),]\n",
    "sheetL1[,`File Format`:=\"fastq\",]\n",
    "sheetL1[,`Nucleic Acid Source`:=ifelse(condition%in%c(\"TST\",\"NST\",\"CST\"),\"Single Nucleus\",\"Single Cell\"),]\n",
    "sheetL1[,`Library Construction Method`:=ifelse(mode%in%c(\"V2\"),\"10xV2\",\"10xV3\"),]\n",
    "sheetL1[,`Read Indicator`:=substring(file, regexpr(\"_R[12]\", file) + 1,regexpr(\"_R[12]\", file) + 2),by=1:nrow(sheetL1)]\n",
    "sheetL1[,`Cell Barcode Length`:=ifelse(`Read Indicator`==\"R1\",16,\"\")]\n",
    "sheetL1[,`Cell Barcode Offset`:=ifelse(`Read Indicator`==\"R1\",0,\"\")]\n",
    "sheetL1[,`UMI Barcode Length`:=ifelse(`Read Indicator`==\"R1\",ifelse(mode%in%c(\"V2\"),10,12),\"\")]\n",
    "sheetL1[,`UMI Barcode Offset`:=ifelse(`Read Indicator`==\"R1\",16,\"\")]"
   ]
  },
  {
   "cell_type": "code",
   "execution_count": 81,
   "metadata": {},
   "outputs": [
    {
     "data": {
      "text/html": [
       "<table>\n",
       "<caption>A data.table: 6 x 71</caption>\n",
       "<thead>\n",
       "\t<tr><th scope=col>sample_name</th><th scope=col>Component</th><th scope=col>Filename</th><th scope=col>File Format</th><th scope=col>HTAN Parent Biospecimen ID</th><th scope=col>HTAN Data File ID</th><th scope=col>Nucleic Acid Source</th><th scope=col>Cryopreserved Cells in Sample</th><th scope=col>Single Cell Isolation Method</th><th scope=col>Dissociation Method</th><th scope=col>Library Construction Method</th><th scope=col>Read Indicator</th><th scope=col>Read1</th><th scope=col>Read2</th><th scope=col>End Bias</th><th scope=col>Reverse Transcription Primer</th><th scope=col>Spike In</th><th scope=col>Sequencing Platform</th><th scope=col>Total Number of Input Cells</th><th scope=col>Input Cells and Nuclei</th><th scope=col>Library Preparation Days from Index</th><th scope=col>Single Cell Dissociation Days from Index</th><th scope=col>Sequencing Library Construction Days from Index</th><th scope=col>Nucleic Acid Capture Days from Index</th><th scope=col>Protocol Link</th><th scope=col>Technical Replicate Group</th><th scope=col>Both Spike in Mixes</th><th scope=col>Cell Barcode Length</th><th scope=col>Cell Barcode Offset</th><th scope=col>Empty Well Barcode</th><th scope=col>Feature Reference Id</th><th scope=col>Median UMIs per Cell Number</th><th scope=col>Spike In Concentration</th><th scope=col>Spike In Mix 1</th><th scope=col>Spike In Mix 2</th><th scope=col>UMI Barcode Length</th><th scope=col>UMI Barcode Offset</th><th scope=col>Valid Barcodes Cell Number</th><th scope=col>Well Index</th><th scope=col>cDNA Length</th><th scope=col>cDNA Offset</th><th scope=col>file</th><th scope=col>filepath</th><th scope=col>Quality</th><th scope=col>Order</th><th scope=col>run status</th><th scope=col>Note</th><th scope=col>date</th><th scope=col>run_pipeline</th><th scope=col>Channel Name</th><th scope=col>sampleid</th><th scope=col>condition</th><th scope=col>replicate</th><th scope=col>Lane</th><th scope=col>Index</th><th scope=col>cancer</th><th scope=col>site</th><th scope=col>reference</th><th scope=col>chemistry</th><th scope=col>flowcell</th><th scope=col>seq_dir</th><th scope=col>mode</th><th scope=col>min_umis</th><th scope=col>min_genes</th><th scope=col>percent_mito</th><th scope=col>expected_cells</th><th scope=col>total_droplets</th><th scope=col>z_dim</th><th scope=col>z_layers</th><th scope=col>channel_id_match</th><th scope=col>site_group</th></tr>\n",
       "\t<tr><th scope=col>&lt;chr&gt;</th><th scope=col>&lt;chr&gt;</th><th scope=col>&lt;chr&gt;</th><th scope=col>&lt;chr&gt;</th><th scope=col>&lt;lgl&gt;</th><th scope=col>&lt;lgl&gt;</th><th scope=col>&lt;chr&gt;</th><th scope=col>&lt;chr&gt;</th><th scope=col>&lt;chr&gt;</th><th scope=col>&lt;lgl&gt;</th><th scope=col>&lt;chr&gt;</th><th scope=col>&lt;chr&gt;</th><th scope=col>&lt;chr&gt;</th><th scope=col>&lt;chr&gt;</th><th scope=col>&lt;lgl&gt;</th><th scope=col>&lt;chr&gt;</th><th scope=col>&lt;chr&gt;</th><th scope=col>&lt;lgl&gt;</th><th scope=col>&lt;chr&gt;</th><th scope=col>&lt;lgl&gt;</th><th scope=col>&lt;lgl&gt;</th><th scope=col>&lt;lgl&gt;</th><th scope=col>&lt;lgl&gt;</th><th scope=col>&lt;lgl&gt;</th><th scope=col>&lt;lgl&gt;</th><th scope=col>&lt;lgl&gt;</th><th scope=col>&lt;lgl&gt;</th><th scope=col>&lt;chr&gt;</th><th scope=col>&lt;chr&gt;</th><th scope=col>&lt;lgl&gt;</th><th scope=col>&lt;lgl&gt;</th><th scope=col>&lt;lgl&gt;</th><th scope=col>&lt;lgl&gt;</th><th scope=col>&lt;lgl&gt;</th><th scope=col>&lt;lgl&gt;</th><th scope=col>&lt;chr&gt;</th><th scope=col>&lt;chr&gt;</th><th scope=col>&lt;lgl&gt;</th><th scope=col>&lt;lgl&gt;</th><th scope=col>&lt;lgl&gt;</th><th scope=col>&lt;lgl&gt;</th><th scope=col>&lt;chr&gt;</th><th scope=col>&lt;chr&gt;</th><th scope=col>&lt;chr&gt;</th><th scope=col>&lt;int&gt;</th><th scope=col>&lt;chr&gt;</th><th scope=col>&lt;chr&gt;</th><th scope=col>&lt;chr&gt;</th><th scope=col>&lt;lgl&gt;</th><th scope=col>&lt;chr&gt;</th><th scope=col>&lt;chr&gt;</th><th scope=col>&lt;chr&gt;</th><th scope=col>&lt;chr&gt;</th><th scope=col>&lt;chr&gt;</th><th scope=col>&lt;chr&gt;</th><th scope=col>&lt;chr&gt;</th><th scope=col>&lt;chr&gt;</th><th scope=col>&lt;chr&gt;</th><th scope=col>&lt;chr&gt;</th><th scope=col>&lt;chr&gt;</th><th scope=col>&lt;chr&gt;</th><th scope=col>&lt;chr&gt;</th><th scope=col>&lt;int&gt;</th><th scope=col>&lt;int&gt;</th><th scope=col>&lt;int&gt;</th><th scope=col>&lt;int&gt;</th><th scope=col>&lt;int&gt;</th><th scope=col>&lt;int&gt;</th><th scope=col>&lt;int&gt;</th><th scope=col>&lt;chr&gt;</th><th scope=col>&lt;chr&gt;</th></tr>\n",
       "</thead>\n",
       "<tbody>\n",
       "\t<tr><td>HTAPP-211-SMP-6751_TST_channel1</td><td></td><td>single_cell_RNAseq_level_1_breast/HTAPP-211-SMP-6751_TST_channel1_S1_L001_R1_001.fastq.gz</td><td>fastq</td><td>NA</td><td>NA</td><td>Single Nucleus</td><td>No</td><td>10x</td><td>NA</td><td>10xV3</td><td>R1</td><td>Cell Barcode and UMI</td><td>cDNA</td><td>NA</td><td>Poly-dT</td><td>No Spike In</td><td>NA</td><td>Not Applicable</td><td>NA</td><td>NA</td><td>NA</td><td>NA</td><td>NA</td><td>NA</td><td>NA</td><td>NA</td><td>16</td><td>0</td><td>NA</td><td>NA</td><td>NA</td><td>NA</td><td>NA</td><td>NA</td><td>12</td><td>16</td><td>NA</td><td>NA</td><td>NA</td><td>NA</td><td>HTAPP-211-SMP-6751_TST_channel1_S1_L001_R1_001.fastq.gz</td><td>/scratch/projects/HTAPP_MBC//phase2/pipeline/fastq/10x/2019_04_02_HY3H7CCXY_10x/HY3H7CCXY/HTAPP-211-SMP-6751_TST_channel1/HTAPP-211-SMP-6751_TST_channel1_S1_L001_R1_001.fastq.gz</td><td></td><td>47</td><td>done1</td><td></td><td>2019_04_02</td><td>FALSE</td><td>0300628_T1_TST</td><td>HTAPP-211-SMP-6751</td><td>TST</td><td>channel1</td><td>1</td><td>SI-GA-A1</td><td>breast</td><td>liver     </td><td>GRCh38_premrna_v3.0.0</td><td>SC3Pv3</td><td>HY3H7CCXY</td><td>/transfer/190330_SL-HXZ_0566_BFCHY3H7CCXY</td><td>V3</td><td>0</td><td>0</td><td>60</td><td>4000</td><td>30000</td><td>200</td><td>1000</td><td>HTAPP-211-SMP-6751-TST-channel1</td><td>liver</td></tr>\n",
       "\t<tr><td>HTAPP-211-SMP-6751_TST_channel1</td><td></td><td>single_cell_RNAseq_level_1_breast/HTAPP-211-SMP-6751_TST_channel1_S1_L001_R2_001.fastq.gz</td><td>fastq</td><td>NA</td><td>NA</td><td>Single Nucleus</td><td>  </td><td>   </td><td>NA</td><td>10xV3</td><td>R2</td><td>Cell Barcode and UMI</td><td>cDNA</td><td>NA</td><td>Poly-dT</td><td>No Spike In</td><td>NA</td><td>Not Applicable</td><td>NA</td><td>NA</td><td>NA</td><td>NA</td><td>NA</td><td>NA</td><td>NA</td><td>NA</td><td>  </td><td> </td><td>NA</td><td>NA</td><td>NA</td><td>NA</td><td>NA</td><td>NA</td><td>  </td><td>  </td><td>NA</td><td>NA</td><td>NA</td><td>NA</td><td>HTAPP-211-SMP-6751_TST_channel1_S1_L001_R2_001.fastq.gz</td><td>/scratch/projects/HTAPP_MBC//phase2/pipeline/fastq/10x/2019_04_02_HY3H7CCXY_10x/HY3H7CCXY/HTAPP-211-SMP-6751_TST_channel1/HTAPP-211-SMP-6751_TST_channel1_S1_L001_R2_001.fastq.gz</td><td></td><td>47</td><td>done1</td><td></td><td>2019_04_02</td><td>FALSE</td><td>0300628_T1_TST</td><td>HTAPP-211-SMP-6751</td><td>TST</td><td>channel1</td><td>1</td><td>SI-GA-A1</td><td>breast</td><td>liver     </td><td>GRCh38_premrna_v3.0.0</td><td>SC3Pv3</td><td>HY3H7CCXY</td><td>/transfer/190330_SL-HXZ_0566_BFCHY3H7CCXY</td><td>V3</td><td>0</td><td>0</td><td>60</td><td>4000</td><td>30000</td><td>200</td><td>1000</td><td>HTAPP-211-SMP-6751-TST-channel1</td><td>liver</td></tr>\n",
       "\t<tr><td>HTAPP-211-SMP-6751_TST_channel2</td><td></td><td>single_cell_RNAseq_level_1_breast/HTAPP-211-SMP-6751_TST_channel2_S2_L001_R1_001.fastq.gz</td><td>fastq</td><td>NA</td><td>NA</td><td>Single Nucleus</td><td>  </td><td>   </td><td>NA</td><td>10xV3</td><td>R1</td><td>                    </td><td>    </td><td>NA</td><td>       </td><td>           </td><td>NA</td><td>              </td><td>NA</td><td>NA</td><td>NA</td><td>NA</td><td>NA</td><td>NA</td><td>NA</td><td>NA</td><td>16</td><td>0</td><td>NA</td><td>NA</td><td>NA</td><td>NA</td><td>NA</td><td>NA</td><td>12</td><td>16</td><td>NA</td><td>NA</td><td>NA</td><td>NA</td><td>HTAPP-211-SMP-6751_TST_channel2_S2_L001_R1_001.fastq.gz</td><td>/scratch/projects/HTAPP_MBC//phase2/pipeline/fastq/10x/2019_04_02_HY3H7CCXY_10x/HY3H7CCXY/HTAPP-211-SMP-6751_TST_channel2/HTAPP-211-SMP-6751_TST_channel2_S2_L001_R1_001.fastq.gz</td><td></td><td>48</td><td>done1</td><td></td><td>2019_04_02</td><td>FALSE</td><td>0300628_T1_TST</td><td>HTAPP-211-SMP-6751</td><td>TST</td><td>channel2</td><td>1</td><td>SI-GA-B1</td><td>breast</td><td>liver     </td><td>GRCh38_premrna_v3.0.0</td><td>SC3Pv3</td><td>HY3H7CCXY</td><td>/transfer/190330_SL-HXZ_0566_BFCHY3H7CCXY</td><td>V3</td><td>0</td><td>0</td><td>60</td><td>4000</td><td>30000</td><td>200</td><td>1000</td><td>HTAPP-211-SMP-6751-TST-channel2</td><td>liver</td></tr>\n",
       "\t<tr><td>HTAPP-211-SMP-6751_TST_channel2</td><td></td><td>single_cell_RNAseq_level_1_breast/HTAPP-211-SMP-6751_TST_channel2_S2_L001_R2_001.fastq.gz</td><td>fastq</td><td>NA</td><td>NA</td><td>Single Nucleus</td><td>  </td><td>   </td><td>NA</td><td>10xV3</td><td>R2</td><td>                    </td><td>    </td><td>NA</td><td>       </td><td>           </td><td>NA</td><td>              </td><td>NA</td><td>NA</td><td>NA</td><td>NA</td><td>NA</td><td>NA</td><td>NA</td><td>NA</td><td>  </td><td> </td><td>NA</td><td>NA</td><td>NA</td><td>NA</td><td>NA</td><td>NA</td><td>  </td><td>  </td><td>NA</td><td>NA</td><td>NA</td><td>NA</td><td>HTAPP-211-SMP-6751_TST_channel2_S2_L001_R2_001.fastq.gz</td><td>/scratch/projects/HTAPP_MBC//phase2/pipeline/fastq/10x/2019_04_02_HY3H7CCXY_10x/HY3H7CCXY/HTAPP-211-SMP-6751_TST_channel2/HTAPP-211-SMP-6751_TST_channel2_S2_L001_R2_001.fastq.gz</td><td></td><td>48</td><td>done1</td><td></td><td>2019_04_02</td><td>FALSE</td><td>0300628_T1_TST</td><td>HTAPP-211-SMP-6751</td><td>TST</td><td>channel2</td><td>1</td><td>SI-GA-B1</td><td>breast</td><td>liver     </td><td>GRCh38_premrna_v3.0.0</td><td>SC3Pv3</td><td>HY3H7CCXY</td><td>/transfer/190330_SL-HXZ_0566_BFCHY3H7CCXY</td><td>V3</td><td>0</td><td>0</td><td>60</td><td>4000</td><td>30000</td><td>200</td><td>1000</td><td>HTAPP-211-SMP-6751-TST-channel2</td><td>liver</td></tr>\n",
       "\t<tr><td>HTAPP-213-SMP-6752_TST_channel1</td><td></td><td>single_cell_RNAseq_level_1_breast/HTAPP-213-SMP-6752_TST_channel1_S3_L001_R1_001.fastq.gz</td><td>fastq</td><td>NA</td><td>NA</td><td>Single Nucleus</td><td>  </td><td>   </td><td>NA</td><td>10xV3</td><td>R1</td><td>                    </td><td>    </td><td>NA</td><td>       </td><td>           </td><td>NA</td><td>              </td><td>NA</td><td>NA</td><td>NA</td><td>NA</td><td>NA</td><td>NA</td><td>NA</td><td>NA</td><td>16</td><td>0</td><td>NA</td><td>NA</td><td>NA</td><td>NA</td><td>NA</td><td>NA</td><td>12</td><td>16</td><td>NA</td><td>NA</td><td>NA</td><td>NA</td><td>HTAPP-213-SMP-6752_TST_channel1_S3_L001_R1_001.fastq.gz</td><td>/scratch/projects/HTAPP_MBC//phase2/pipeline/fastq/10x/2019_04_02_HY3H7CCXY_10x/HY3H7CCXY/HTAPP-213-SMP-6752_TST_channel1/HTAPP-213-SMP-6752_TST_channel1_S3_L001_R1_001.fastq.gz</td><td></td><td>49</td><td>done1</td><td></td><td>2019_04_02</td><td>FALSE</td><td>0300596_T1_TST</td><td>HTAPP-213-SMP-6752</td><td>TST</td><td>channel1</td><td>1</td><td>SI-GA-C1</td><td>breast</td><td>chest wall</td><td>GRCh38_premrna_v3.0.0</td><td>SC3Pv3</td><td>HY3H7CCXY</td><td>/transfer/190330_SL-HXZ_0566_BFCHY3H7CCXY</td><td>V3</td><td>0</td><td>0</td><td>60</td><td>4000</td><td>30000</td><td>200</td><td>1000</td><td>HTAPP-213-SMP-6752-TST-channel1</td><td>chest</td></tr>\n",
       "\t<tr><td>HTAPP-213-SMP-6752_TST_channel1</td><td></td><td>single_cell_RNAseq_level_1_breast/HTAPP-213-SMP-6752_TST_channel1_S3_L001_R2_001.fastq.gz</td><td>fastq</td><td>NA</td><td>NA</td><td>Single Nucleus</td><td>  </td><td>   </td><td>NA</td><td>10xV3</td><td>R2</td><td>                    </td><td>    </td><td>NA</td><td>       </td><td>           </td><td>NA</td><td>              </td><td>NA</td><td>NA</td><td>NA</td><td>NA</td><td>NA</td><td>NA</td><td>NA</td><td>NA</td><td>  </td><td> </td><td>NA</td><td>NA</td><td>NA</td><td>NA</td><td>NA</td><td>NA</td><td>  </td><td>  </td><td>NA</td><td>NA</td><td>NA</td><td>NA</td><td>HTAPP-213-SMP-6752_TST_channel1_S3_L001_R2_001.fastq.gz</td><td>/scratch/projects/HTAPP_MBC//phase2/pipeline/fastq/10x/2019_04_02_HY3H7CCXY_10x/HY3H7CCXY/HTAPP-213-SMP-6752_TST_channel1/HTAPP-213-SMP-6752_TST_channel1_S3_L001_R2_001.fastq.gz</td><td></td><td>49</td><td>done1</td><td></td><td>2019_04_02</td><td>FALSE</td><td>0300596_T1_TST</td><td>HTAPP-213-SMP-6752</td><td>TST</td><td>channel1</td><td>1</td><td>SI-GA-C1</td><td>breast</td><td>chest wall</td><td>GRCh38_premrna_v3.0.0</td><td>SC3Pv3</td><td>HY3H7CCXY</td><td>/transfer/190330_SL-HXZ_0566_BFCHY3H7CCXY</td><td>V3</td><td>0</td><td>0</td><td>60</td><td>4000</td><td>30000</td><td>200</td><td>1000</td><td>HTAPP-213-SMP-6752-TST-channel1</td><td>chest</td></tr>\n",
       "</tbody>\n",
       "</table>\n"
      ],
      "text/latex": [
       "A data.table: 6 x 71\n",
       "\\begin{tabular}{r|lllllllllllllllllllllllllllllllllllllllllllllllllllllllllllllllllllllll}\n",
       " sample\\_name & Component & Filename & File Format & HTAN Parent Biospecimen ID & HTAN Data File ID & Nucleic Acid Source & Cryopreserved Cells in Sample & Single Cell Isolation Method & Dissociation Method & Library Construction Method & Read Indicator & Read1 & Read2 & End Bias & Reverse Transcription Primer & Spike In & Sequencing Platform & Total Number of Input Cells & Input Cells and Nuclei & Library Preparation Days from Index & Single Cell Dissociation Days from Index & Sequencing Library Construction Days from Index & Nucleic Acid Capture Days from Index & Protocol Link & Technical Replicate Group & Both Spike in Mixes & Cell Barcode Length & Cell Barcode Offset & Empty Well Barcode & Feature Reference Id & Median UMIs per Cell Number & Spike In Concentration & Spike In Mix 1 & Spike In Mix 2 & UMI Barcode Length & UMI Barcode Offset & Valid Barcodes Cell Number & Well Index & cDNA Length & cDNA Offset & file & filepath & Quality & Order & run status & Note & date & run\\_pipeline & Channel Name & sampleid & condition & replicate & Lane & Index & cancer & site & reference & chemistry & flowcell & seq\\_dir & mode & min\\_umis & min\\_genes & percent\\_mito & expected\\_cells & total\\_droplets & z\\_dim & z\\_layers & channel\\_id\\_match & site\\_group\\\\\n",
       " <chr> & <chr> & <chr> & <chr> & <lgl> & <lgl> & <chr> & <chr> & <chr> & <lgl> & <chr> & <chr> & <chr> & <chr> & <lgl> & <chr> & <chr> & <lgl> & <chr> & <lgl> & <lgl> & <lgl> & <lgl> & <lgl> & <lgl> & <lgl> & <lgl> & <chr> & <chr> & <lgl> & <lgl> & <lgl> & <lgl> & <lgl> & <lgl> & <chr> & <chr> & <lgl> & <lgl> & <lgl> & <lgl> & <chr> & <chr> & <chr> & <int> & <chr> & <chr> & <chr> & <lgl> & <chr> & <chr> & <chr> & <chr> & <chr> & <chr> & <chr> & <chr> & <chr> & <chr> & <chr> & <chr> & <chr> & <int> & <int> & <int> & <int> & <int> & <int> & <int> & <chr> & <chr>\\\\\n",
       "\\hline\n",
       "\t HTAPP-211-SMP-6751\\_TST\\_channel1 &  & single\\_cell\\_RNAseq\\_level\\_1\\_breast/HTAPP-211-SMP-6751\\_TST\\_channel1\\_S1\\_L001\\_R1\\_001.fastq.gz & fastq & NA & NA & Single Nucleus & No & 10x & NA & 10xV3 & R1 & Cell Barcode and UMI & cDNA & NA & Poly-dT & No Spike In & NA & Not Applicable & NA & NA & NA & NA & NA & NA & NA & NA & 16 & 0 & NA & NA & NA & NA & NA & NA & 12 & 16 & NA & NA & NA & NA & HTAPP-211-SMP-6751\\_TST\\_channel1\\_S1\\_L001\\_R1\\_001.fastq.gz & /scratch/projects/HTAPP\\_MBC//phase2/pipeline/fastq/10x/2019\\_04\\_02\\_HY3H7CCXY\\_10x/HY3H7CCXY/HTAPP-211-SMP-6751\\_TST\\_channel1/HTAPP-211-SMP-6751\\_TST\\_channel1\\_S1\\_L001\\_R1\\_001.fastq.gz &  & 47 & done1 &  & 2019\\_04\\_02 & FALSE & 0300628\\_T1\\_TST & HTAPP-211-SMP-6751 & TST & channel1 & 1 & SI-GA-A1 & breast & liver      & GRCh38\\_premrna\\_v3.0.0 & SC3Pv3 & HY3H7CCXY & /transfer/190330\\_SL-HXZ\\_0566\\_BFCHY3H7CCXY & V3 & 0 & 0 & 60 & 4000 & 30000 & 200 & 1000 & HTAPP-211-SMP-6751-TST-channel1 & liver\\\\\n",
       "\t HTAPP-211-SMP-6751\\_TST\\_channel1 &  & single\\_cell\\_RNAseq\\_level\\_1\\_breast/HTAPP-211-SMP-6751\\_TST\\_channel1\\_S1\\_L001\\_R2\\_001.fastq.gz & fastq & NA & NA & Single Nucleus &    &     & NA & 10xV3 & R2 & Cell Barcode and UMI & cDNA & NA & Poly-dT & No Spike In & NA & Not Applicable & NA & NA & NA & NA & NA & NA & NA & NA &    &   & NA & NA & NA & NA & NA & NA &    &    & NA & NA & NA & NA & HTAPP-211-SMP-6751\\_TST\\_channel1\\_S1\\_L001\\_R2\\_001.fastq.gz & /scratch/projects/HTAPP\\_MBC//phase2/pipeline/fastq/10x/2019\\_04\\_02\\_HY3H7CCXY\\_10x/HY3H7CCXY/HTAPP-211-SMP-6751\\_TST\\_channel1/HTAPP-211-SMP-6751\\_TST\\_channel1\\_S1\\_L001\\_R2\\_001.fastq.gz &  & 47 & done1 &  & 2019\\_04\\_02 & FALSE & 0300628\\_T1\\_TST & HTAPP-211-SMP-6751 & TST & channel1 & 1 & SI-GA-A1 & breast & liver      & GRCh38\\_premrna\\_v3.0.0 & SC3Pv3 & HY3H7CCXY & /transfer/190330\\_SL-HXZ\\_0566\\_BFCHY3H7CCXY & V3 & 0 & 0 & 60 & 4000 & 30000 & 200 & 1000 & HTAPP-211-SMP-6751-TST-channel1 & liver\\\\\n",
       "\t HTAPP-211-SMP-6751\\_TST\\_channel2 &  & single\\_cell\\_RNAseq\\_level\\_1\\_breast/HTAPP-211-SMP-6751\\_TST\\_channel2\\_S2\\_L001\\_R1\\_001.fastq.gz & fastq & NA & NA & Single Nucleus &    &     & NA & 10xV3 & R1 &                      &      & NA &         &             & NA &                & NA & NA & NA & NA & NA & NA & NA & NA & 16 & 0 & NA & NA & NA & NA & NA & NA & 12 & 16 & NA & NA & NA & NA & HTAPP-211-SMP-6751\\_TST\\_channel2\\_S2\\_L001\\_R1\\_001.fastq.gz & /scratch/projects/HTAPP\\_MBC//phase2/pipeline/fastq/10x/2019\\_04\\_02\\_HY3H7CCXY\\_10x/HY3H7CCXY/HTAPP-211-SMP-6751\\_TST\\_channel2/HTAPP-211-SMP-6751\\_TST\\_channel2\\_S2\\_L001\\_R1\\_001.fastq.gz &  & 48 & done1 &  & 2019\\_04\\_02 & FALSE & 0300628\\_T1\\_TST & HTAPP-211-SMP-6751 & TST & channel2 & 1 & SI-GA-B1 & breast & liver      & GRCh38\\_premrna\\_v3.0.0 & SC3Pv3 & HY3H7CCXY & /transfer/190330\\_SL-HXZ\\_0566\\_BFCHY3H7CCXY & V3 & 0 & 0 & 60 & 4000 & 30000 & 200 & 1000 & HTAPP-211-SMP-6751-TST-channel2 & liver\\\\\n",
       "\t HTAPP-211-SMP-6751\\_TST\\_channel2 &  & single\\_cell\\_RNAseq\\_level\\_1\\_breast/HTAPP-211-SMP-6751\\_TST\\_channel2\\_S2\\_L001\\_R2\\_001.fastq.gz & fastq & NA & NA & Single Nucleus &    &     & NA & 10xV3 & R2 &                      &      & NA &         &             & NA &                & NA & NA & NA & NA & NA & NA & NA & NA &    &   & NA & NA & NA & NA & NA & NA &    &    & NA & NA & NA & NA & HTAPP-211-SMP-6751\\_TST\\_channel2\\_S2\\_L001\\_R2\\_001.fastq.gz & /scratch/projects/HTAPP\\_MBC//phase2/pipeline/fastq/10x/2019\\_04\\_02\\_HY3H7CCXY\\_10x/HY3H7CCXY/HTAPP-211-SMP-6751\\_TST\\_channel2/HTAPP-211-SMP-6751\\_TST\\_channel2\\_S2\\_L001\\_R2\\_001.fastq.gz &  & 48 & done1 &  & 2019\\_04\\_02 & FALSE & 0300628\\_T1\\_TST & HTAPP-211-SMP-6751 & TST & channel2 & 1 & SI-GA-B1 & breast & liver      & GRCh38\\_premrna\\_v3.0.0 & SC3Pv3 & HY3H7CCXY & /transfer/190330\\_SL-HXZ\\_0566\\_BFCHY3H7CCXY & V3 & 0 & 0 & 60 & 4000 & 30000 & 200 & 1000 & HTAPP-211-SMP-6751-TST-channel2 & liver\\\\\n",
       "\t HTAPP-213-SMP-6752\\_TST\\_channel1 &  & single\\_cell\\_RNAseq\\_level\\_1\\_breast/HTAPP-213-SMP-6752\\_TST\\_channel1\\_S3\\_L001\\_R1\\_001.fastq.gz & fastq & NA & NA & Single Nucleus &    &     & NA & 10xV3 & R1 &                      &      & NA &         &             & NA &                & NA & NA & NA & NA & NA & NA & NA & NA & 16 & 0 & NA & NA & NA & NA & NA & NA & 12 & 16 & NA & NA & NA & NA & HTAPP-213-SMP-6752\\_TST\\_channel1\\_S3\\_L001\\_R1\\_001.fastq.gz & /scratch/projects/HTAPP\\_MBC//phase2/pipeline/fastq/10x/2019\\_04\\_02\\_HY3H7CCXY\\_10x/HY3H7CCXY/HTAPP-213-SMP-6752\\_TST\\_channel1/HTAPP-213-SMP-6752\\_TST\\_channel1\\_S3\\_L001\\_R1\\_001.fastq.gz &  & 49 & done1 &  & 2019\\_04\\_02 & FALSE & 0300596\\_T1\\_TST & HTAPP-213-SMP-6752 & TST & channel1 & 1 & SI-GA-C1 & breast & chest wall & GRCh38\\_premrna\\_v3.0.0 & SC3Pv3 & HY3H7CCXY & /transfer/190330\\_SL-HXZ\\_0566\\_BFCHY3H7CCXY & V3 & 0 & 0 & 60 & 4000 & 30000 & 200 & 1000 & HTAPP-213-SMP-6752-TST-channel1 & chest\\\\\n",
       "\t HTAPP-213-SMP-6752\\_TST\\_channel1 &  & single\\_cell\\_RNAseq\\_level\\_1\\_breast/HTAPP-213-SMP-6752\\_TST\\_channel1\\_S3\\_L001\\_R2\\_001.fastq.gz & fastq & NA & NA & Single Nucleus &    &     & NA & 10xV3 & R2 &                      &      & NA &         &             & NA &                & NA & NA & NA & NA & NA & NA & NA & NA &    &   & NA & NA & NA & NA & NA & NA &    &    & NA & NA & NA & NA & HTAPP-213-SMP-6752\\_TST\\_channel1\\_S3\\_L001\\_R2\\_001.fastq.gz & /scratch/projects/HTAPP\\_MBC//phase2/pipeline/fastq/10x/2019\\_04\\_02\\_HY3H7CCXY\\_10x/HY3H7CCXY/HTAPP-213-SMP-6752\\_TST\\_channel1/HTAPP-213-SMP-6752\\_TST\\_channel1\\_S3\\_L001\\_R2\\_001.fastq.gz &  & 49 & done1 &  & 2019\\_04\\_02 & FALSE & 0300596\\_T1\\_TST & HTAPP-213-SMP-6752 & TST & channel1 & 1 & SI-GA-C1 & breast & chest wall & GRCh38\\_premrna\\_v3.0.0 & SC3Pv3 & HY3H7CCXY & /transfer/190330\\_SL-HXZ\\_0566\\_BFCHY3H7CCXY & V3 & 0 & 0 & 60 & 4000 & 30000 & 200 & 1000 & HTAPP-213-SMP-6752-TST-channel1 & chest\\\\\n",
       "\\end{tabular}\n"
      ],
      "text/markdown": [
       "\n",
       "A data.table: 6 x 71\n",
       "\n",
       "| sample_name &lt;chr&gt; | Component &lt;chr&gt; | Filename &lt;chr&gt; | File Format &lt;chr&gt; | HTAN Parent Biospecimen ID &lt;lgl&gt; | HTAN Data File ID &lt;lgl&gt; | Nucleic Acid Source &lt;chr&gt; | Cryopreserved Cells in Sample &lt;chr&gt; | Single Cell Isolation Method &lt;chr&gt; | Dissociation Method &lt;lgl&gt; | Library Construction Method &lt;chr&gt; | Read Indicator &lt;chr&gt; | Read1 &lt;chr&gt; | Read2 &lt;chr&gt; | End Bias &lt;lgl&gt; | Reverse Transcription Primer &lt;chr&gt; | Spike In &lt;chr&gt; | Sequencing Platform &lt;lgl&gt; | Total Number of Input Cells &lt;chr&gt; | Input Cells and Nuclei &lt;lgl&gt; | Library Preparation Days from Index &lt;lgl&gt; | Single Cell Dissociation Days from Index &lt;lgl&gt; | Sequencing Library Construction Days from Index &lt;lgl&gt; | Nucleic Acid Capture Days from Index &lt;lgl&gt; | Protocol Link &lt;lgl&gt; | Technical Replicate Group &lt;lgl&gt; | Both Spike in Mixes &lt;lgl&gt; | Cell Barcode Length &lt;chr&gt; | Cell Barcode Offset &lt;chr&gt; | Empty Well Barcode &lt;lgl&gt; | Feature Reference Id &lt;lgl&gt; | Median UMIs per Cell Number &lt;lgl&gt; | Spike In Concentration &lt;lgl&gt; | Spike In Mix 1 &lt;lgl&gt; | Spike In Mix 2 &lt;lgl&gt; | UMI Barcode Length &lt;chr&gt; | UMI Barcode Offset &lt;chr&gt; | Valid Barcodes Cell Number &lt;lgl&gt; | Well Index &lt;lgl&gt; | cDNA Length &lt;lgl&gt; | cDNA Offset &lt;lgl&gt; | file &lt;chr&gt; | filepath &lt;chr&gt; | Quality &lt;chr&gt; | Order &lt;int&gt; | run status &lt;chr&gt; | Note &lt;chr&gt; | date &lt;chr&gt; | run_pipeline &lt;lgl&gt; | Channel Name &lt;chr&gt; | sampleid &lt;chr&gt; | condition &lt;chr&gt; | replicate &lt;chr&gt; | Lane &lt;chr&gt; | Index &lt;chr&gt; | cancer &lt;chr&gt; | site &lt;chr&gt; | reference &lt;chr&gt; | chemistry &lt;chr&gt; | flowcell &lt;chr&gt; | seq_dir &lt;chr&gt; | mode &lt;chr&gt; | min_umis &lt;int&gt; | min_genes &lt;int&gt; | percent_mito &lt;int&gt; | expected_cells &lt;int&gt; | total_droplets &lt;int&gt; | z_dim &lt;int&gt; | z_layers &lt;int&gt; | channel_id_match &lt;chr&gt; | site_group &lt;chr&gt; |\n",
       "|---|---|---|---|---|---|---|---|---|---|---|---|---|---|---|---|---|---|---|---|---|---|---|---|---|---|---|---|---|---|---|---|---|---|---|---|---|---|---|---|---|---|---|---|---|---|---|---|---|---|---|---|---|---|---|---|---|---|---|---|---|---|---|---|---|---|---|---|---|---|---|\n",
       "| HTAPP-211-SMP-6751_TST_channel1 | <!----> | single_cell_RNAseq_level_1_breast/HTAPP-211-SMP-6751_TST_channel1_S1_L001_R1_001.fastq.gz | fastq | NA | NA | Single Nucleus | No | 10x | NA | 10xV3 | R1 | Cell Barcode and UMI | cDNA | NA | Poly-dT | No Spike In | NA | Not Applicable | NA | NA | NA | NA | NA | NA | NA | NA | 16 | 0 | NA | NA | NA | NA | NA | NA | 12 | 16 | NA | NA | NA | NA | HTAPP-211-SMP-6751_TST_channel1_S1_L001_R1_001.fastq.gz | /scratch/projects/HTAPP_MBC//phase2/pipeline/fastq/10x/2019_04_02_HY3H7CCXY_10x/HY3H7CCXY/HTAPP-211-SMP-6751_TST_channel1/HTAPP-211-SMP-6751_TST_channel1_S1_L001_R1_001.fastq.gz | <!----> | 47 | done1 | <!----> | 2019_04_02 | FALSE | 0300628_T1_TST | HTAPP-211-SMP-6751 | TST | channel1 | 1 | SI-GA-A1 | breast | liver      | GRCh38_premrna_v3.0.0 | SC3Pv3 | HY3H7CCXY | /transfer/190330_SL-HXZ_0566_BFCHY3H7CCXY | V3 | 0 | 0 | 60 | 4000 | 30000 | 200 | 1000 | HTAPP-211-SMP-6751-TST-channel1 | liver |\n",
       "| HTAPP-211-SMP-6751_TST_channel1 | <!----> | single_cell_RNAseq_level_1_breast/HTAPP-211-SMP-6751_TST_channel1_S1_L001_R2_001.fastq.gz | fastq | NA | NA | Single Nucleus | <!----> | <!----> | NA | 10xV3 | R2 | Cell Barcode and UMI | cDNA | NA | Poly-dT | No Spike In | NA | Not Applicable | NA | NA | NA | NA | NA | NA | NA | NA | <!----> | <!----> | NA | NA | NA | NA | NA | NA | <!----> | <!----> | NA | NA | NA | NA | HTAPP-211-SMP-6751_TST_channel1_S1_L001_R2_001.fastq.gz | /scratch/projects/HTAPP_MBC//phase2/pipeline/fastq/10x/2019_04_02_HY3H7CCXY_10x/HY3H7CCXY/HTAPP-211-SMP-6751_TST_channel1/HTAPP-211-SMP-6751_TST_channel1_S1_L001_R2_001.fastq.gz | <!----> | 47 | done1 | <!----> | 2019_04_02 | FALSE | 0300628_T1_TST | HTAPP-211-SMP-6751 | TST | channel1 | 1 | SI-GA-A1 | breast | liver      | GRCh38_premrna_v3.0.0 | SC3Pv3 | HY3H7CCXY | /transfer/190330_SL-HXZ_0566_BFCHY3H7CCXY | V3 | 0 | 0 | 60 | 4000 | 30000 | 200 | 1000 | HTAPP-211-SMP-6751-TST-channel1 | liver |\n",
       "| HTAPP-211-SMP-6751_TST_channel2 | <!----> | single_cell_RNAseq_level_1_breast/HTAPP-211-SMP-6751_TST_channel2_S2_L001_R1_001.fastq.gz | fastq | NA | NA | Single Nucleus | <!----> | <!----> | NA | 10xV3 | R1 | <!----> | <!----> | NA | <!----> | <!----> | NA | <!----> | NA | NA | NA | NA | NA | NA | NA | NA | 16 | 0 | NA | NA | NA | NA | NA | NA | 12 | 16 | NA | NA | NA | NA | HTAPP-211-SMP-6751_TST_channel2_S2_L001_R1_001.fastq.gz | /scratch/projects/HTAPP_MBC//phase2/pipeline/fastq/10x/2019_04_02_HY3H7CCXY_10x/HY3H7CCXY/HTAPP-211-SMP-6751_TST_channel2/HTAPP-211-SMP-6751_TST_channel2_S2_L001_R1_001.fastq.gz | <!----> | 48 | done1 | <!----> | 2019_04_02 | FALSE | 0300628_T1_TST | HTAPP-211-SMP-6751 | TST | channel2 | 1 | SI-GA-B1 | breast | liver      | GRCh38_premrna_v3.0.0 | SC3Pv3 | HY3H7CCXY | /transfer/190330_SL-HXZ_0566_BFCHY3H7CCXY | V3 | 0 | 0 | 60 | 4000 | 30000 | 200 | 1000 | HTAPP-211-SMP-6751-TST-channel2 | liver |\n",
       "| HTAPP-211-SMP-6751_TST_channel2 | <!----> | single_cell_RNAseq_level_1_breast/HTAPP-211-SMP-6751_TST_channel2_S2_L001_R2_001.fastq.gz | fastq | NA | NA | Single Nucleus | <!----> | <!----> | NA | 10xV3 | R2 | <!----> | <!----> | NA | <!----> | <!----> | NA | <!----> | NA | NA | NA | NA | NA | NA | NA | NA | <!----> | <!----> | NA | NA | NA | NA | NA | NA | <!----> | <!----> | NA | NA | NA | NA | HTAPP-211-SMP-6751_TST_channel2_S2_L001_R2_001.fastq.gz | /scratch/projects/HTAPP_MBC//phase2/pipeline/fastq/10x/2019_04_02_HY3H7CCXY_10x/HY3H7CCXY/HTAPP-211-SMP-6751_TST_channel2/HTAPP-211-SMP-6751_TST_channel2_S2_L001_R2_001.fastq.gz | <!----> | 48 | done1 | <!----> | 2019_04_02 | FALSE | 0300628_T1_TST | HTAPP-211-SMP-6751 | TST | channel2 | 1 | SI-GA-B1 | breast | liver      | GRCh38_premrna_v3.0.0 | SC3Pv3 | HY3H7CCXY | /transfer/190330_SL-HXZ_0566_BFCHY3H7CCXY | V3 | 0 | 0 | 60 | 4000 | 30000 | 200 | 1000 | HTAPP-211-SMP-6751-TST-channel2 | liver |\n",
       "| HTAPP-213-SMP-6752_TST_channel1 | <!----> | single_cell_RNAseq_level_1_breast/HTAPP-213-SMP-6752_TST_channel1_S3_L001_R1_001.fastq.gz | fastq | NA | NA | Single Nucleus | <!----> | <!----> | NA | 10xV3 | R1 | <!----> | <!----> | NA | <!----> | <!----> | NA | <!----> | NA | NA | NA | NA | NA | NA | NA | NA | 16 | 0 | NA | NA | NA | NA | NA | NA | 12 | 16 | NA | NA | NA | NA | HTAPP-213-SMP-6752_TST_channel1_S3_L001_R1_001.fastq.gz | /scratch/projects/HTAPP_MBC//phase2/pipeline/fastq/10x/2019_04_02_HY3H7CCXY_10x/HY3H7CCXY/HTAPP-213-SMP-6752_TST_channel1/HTAPP-213-SMP-6752_TST_channel1_S3_L001_R1_001.fastq.gz | <!----> | 49 | done1 | <!----> | 2019_04_02 | FALSE | 0300596_T1_TST | HTAPP-213-SMP-6752 | TST | channel1 | 1 | SI-GA-C1 | breast | chest wall | GRCh38_premrna_v3.0.0 | SC3Pv3 | HY3H7CCXY | /transfer/190330_SL-HXZ_0566_BFCHY3H7CCXY | V3 | 0 | 0 | 60 | 4000 | 30000 | 200 | 1000 | HTAPP-213-SMP-6752-TST-channel1 | chest |\n",
       "| HTAPP-213-SMP-6752_TST_channel1 | <!----> | single_cell_RNAseq_level_1_breast/HTAPP-213-SMP-6752_TST_channel1_S3_L001_R2_001.fastq.gz | fastq | NA | NA | Single Nucleus | <!----> | <!----> | NA | 10xV3 | R2 | <!----> | <!----> | NA | <!----> | <!----> | NA | <!----> | NA | NA | NA | NA | NA | NA | NA | NA | <!----> | <!----> | NA | NA | NA | NA | NA | NA | <!----> | <!----> | NA | NA | NA | NA | HTAPP-213-SMP-6752_TST_channel1_S3_L001_R2_001.fastq.gz | /scratch/projects/HTAPP_MBC//phase2/pipeline/fastq/10x/2019_04_02_HY3H7CCXY_10x/HY3H7CCXY/HTAPP-213-SMP-6752_TST_channel1/HTAPP-213-SMP-6752_TST_channel1_S3_L001_R2_001.fastq.gz | <!----> | 49 | done1 | <!----> | 2019_04_02 | FALSE | 0300596_T1_TST | HTAPP-213-SMP-6752 | TST | channel1 | 1 | SI-GA-C1 | breast | chest wall | GRCh38_premrna_v3.0.0 | SC3Pv3 | HY3H7CCXY | /transfer/190330_SL-HXZ_0566_BFCHY3H7CCXY | V3 | 0 | 0 | 60 | 4000 | 30000 | 200 | 1000 | HTAPP-213-SMP-6752-TST-channel1 | chest |\n",
       "\n"
      ],
      "text/plain": [
       "  sample_name                     Component\n",
       "1 HTAPP-211-SMP-6751_TST_channel1          \n",
       "2 HTAPP-211-SMP-6751_TST_channel1          \n",
       "3 HTAPP-211-SMP-6751_TST_channel2          \n",
       "4 HTAPP-211-SMP-6751_TST_channel2          \n",
       "5 HTAPP-213-SMP-6752_TST_channel1          \n",
       "6 HTAPP-213-SMP-6752_TST_channel1          \n",
       "  Filename                                                                                 \n",
       "1 single_cell_RNAseq_level_1_breast/HTAPP-211-SMP-6751_TST_channel1_S1_L001_R1_001.fastq.gz\n",
       "2 single_cell_RNAseq_level_1_breast/HTAPP-211-SMP-6751_TST_channel1_S1_L001_R2_001.fastq.gz\n",
       "3 single_cell_RNAseq_level_1_breast/HTAPP-211-SMP-6751_TST_channel2_S2_L001_R1_001.fastq.gz\n",
       "4 single_cell_RNAseq_level_1_breast/HTAPP-211-SMP-6751_TST_channel2_S2_L001_R2_001.fastq.gz\n",
       "5 single_cell_RNAseq_level_1_breast/HTAPP-213-SMP-6752_TST_channel1_S3_L001_R1_001.fastq.gz\n",
       "6 single_cell_RNAseq_level_1_breast/HTAPP-213-SMP-6752_TST_channel1_S3_L001_R2_001.fastq.gz\n",
       "  File Format HTAN Parent Biospecimen ID HTAN Data File ID Nucleic Acid Source\n",
       "1 fastq       NA                         NA                Single Nucleus     \n",
       "2 fastq       NA                         NA                Single Nucleus     \n",
       "3 fastq       NA                         NA                Single Nucleus     \n",
       "4 fastq       NA                         NA                Single Nucleus     \n",
       "5 fastq       NA                         NA                Single Nucleus     \n",
       "6 fastq       NA                         NA                Single Nucleus     \n",
       "  Cryopreserved Cells in Sample Single Cell Isolation Method\n",
       "1 No                            10x                         \n",
       "2                                                           \n",
       "3                                                           \n",
       "4                                                           \n",
       "5                                                           \n",
       "6                                                           \n",
       "  Dissociation Method Library Construction Method Read Indicator\n",
       "1 NA                  10xV3                       R1            \n",
       "2 NA                  10xV3                       R2            \n",
       "3 NA                  10xV3                       R1            \n",
       "4 NA                  10xV3                       R2            \n",
       "5 NA                  10xV3                       R1            \n",
       "6 NA                  10xV3                       R2            \n",
       "  Read1                Read2 End Bias Reverse Transcription Primer Spike In   \n",
       "1 Cell Barcode and UMI cDNA  NA       Poly-dT                      No Spike In\n",
       "2 Cell Barcode and UMI cDNA  NA       Poly-dT                      No Spike In\n",
       "3                            NA                                               \n",
       "4                            NA                                               \n",
       "5                            NA                                               \n",
       "6                            NA                                               \n",
       "  Sequencing Platform Total Number of Input Cells Input Cells and Nuclei\n",
       "1 NA                  Not Applicable              NA                    \n",
       "2 NA                  Not Applicable              NA                    \n",
       "3 NA                                              NA                    \n",
       "4 NA                                              NA                    \n",
       "5 NA                                              NA                    \n",
       "6 NA                                              NA                    \n",
       "  Library Preparation Days from Index Single Cell Dissociation Days from Index\n",
       "1 NA                                  NA                                      \n",
       "2 NA                                  NA                                      \n",
       "3 NA                                  NA                                      \n",
       "4 NA                                  NA                                      \n",
       "5 NA                                  NA                                      \n",
       "6 NA                                  NA                                      \n",
       "  Sequencing Library Construction Days from Index\n",
       "1 NA                                             \n",
       "2 NA                                             \n",
       "3 NA                                             \n",
       "4 NA                                             \n",
       "5 NA                                             \n",
       "6 NA                                             \n",
       "  Nucleic Acid Capture Days from Index Protocol Link Technical Replicate Group\n",
       "1 NA                                   NA            NA                       \n",
       "2 NA                                   NA            NA                       \n",
       "3 NA                                   NA            NA                       \n",
       "4 NA                                   NA            NA                       \n",
       "5 NA                                   NA            NA                       \n",
       "6 NA                                   NA            NA                       \n",
       "  Both Spike in Mixes Cell Barcode Length Cell Barcode Offset\n",
       "1 NA                  16                  0                  \n",
       "2 NA                                                         \n",
       "3 NA                  16                  0                  \n",
       "4 NA                                                         \n",
       "5 NA                  16                  0                  \n",
       "6 NA                                                         \n",
       "  Empty Well Barcode Feature Reference Id Median UMIs per Cell Number\n",
       "1 NA                 NA                   NA                         \n",
       "2 NA                 NA                   NA                         \n",
       "3 NA                 NA                   NA                         \n",
       "4 NA                 NA                   NA                         \n",
       "5 NA                 NA                   NA                         \n",
       "6 NA                 NA                   NA                         \n",
       "  Spike In Concentration Spike In Mix 1 Spike In Mix 2 UMI Barcode Length\n",
       "1 NA                     NA             NA             12                \n",
       "2 NA                     NA             NA                               \n",
       "3 NA                     NA             NA             12                \n",
       "4 NA                     NA             NA                               \n",
       "5 NA                     NA             NA             12                \n",
       "6 NA                     NA             NA                               \n",
       "  UMI Barcode Offset Valid Barcodes Cell Number Well Index cDNA Length\n",
       "1 16                 NA                         NA         NA         \n",
       "2                    NA                         NA         NA         \n",
       "3 16                 NA                         NA         NA         \n",
       "4                    NA                         NA         NA         \n",
       "5 16                 NA                         NA         NA         \n",
       "6                    NA                         NA         NA         \n",
       "  cDNA Offset file                                                   \n",
       "1 NA          HTAPP-211-SMP-6751_TST_channel1_S1_L001_R1_001.fastq.gz\n",
       "2 NA          HTAPP-211-SMP-6751_TST_channel1_S1_L001_R2_001.fastq.gz\n",
       "3 NA          HTAPP-211-SMP-6751_TST_channel2_S2_L001_R1_001.fastq.gz\n",
       "4 NA          HTAPP-211-SMP-6751_TST_channel2_S2_L001_R2_001.fastq.gz\n",
       "5 NA          HTAPP-213-SMP-6752_TST_channel1_S3_L001_R1_001.fastq.gz\n",
       "6 NA          HTAPP-213-SMP-6752_TST_channel1_S3_L001_R2_001.fastq.gz\n",
       "  filepath                                                                                                                                                                               \n",
       "1 /scratch/projects/HTAPP_MBC//phase2/pipeline/fastq/10x/2019_04_02_HY3H7CCXY_10x/HY3H7CCXY/HTAPP-211-SMP-6751_TST_channel1/HTAPP-211-SMP-6751_TST_channel1_S1_L001_R1_001.fastq.gz\n",
       "2 /scratch/projects/HTAPP_MBC//phase2/pipeline/fastq/10x/2019_04_02_HY3H7CCXY_10x/HY3H7CCXY/HTAPP-211-SMP-6751_TST_channel1/HTAPP-211-SMP-6751_TST_channel1_S1_L001_R2_001.fastq.gz\n",
       "3 /scratch/projects/HTAPP_MBC//phase2/pipeline/fastq/10x/2019_04_02_HY3H7CCXY_10x/HY3H7CCXY/HTAPP-211-SMP-6751_TST_channel2/HTAPP-211-SMP-6751_TST_channel2_S2_L001_R1_001.fastq.gz\n",
       "4 /scratch/projects/HTAPP_MBC//phase2/pipeline/fastq/10x/2019_04_02_HY3H7CCXY_10x/HY3H7CCXY/HTAPP-211-SMP-6751_TST_channel2/HTAPP-211-SMP-6751_TST_channel2_S2_L001_R2_001.fastq.gz\n",
       "5 /scratch/projects/HTAPP_MBC//phase2/pipeline/fastq/10x/2019_04_02_HY3H7CCXY_10x/HY3H7CCXY/HTAPP-213-SMP-6752_TST_channel1/HTAPP-213-SMP-6752_TST_channel1_S3_L001_R1_001.fastq.gz\n",
       "6 /scratch/projects/HTAPP_MBC//phase2/pipeline/fastq/10x/2019_04_02_HY3H7CCXY_10x/HY3H7CCXY/HTAPP-213-SMP-6752_TST_channel1/HTAPP-213-SMP-6752_TST_channel1_S3_L001_R2_001.fastq.gz\n",
       "  Quality Order run status Note date       run_pipeline Channel Name  \n",
       "1         47    done1           2019_04_02 FALSE        0300628_T1_TST\n",
       "2         47    done1           2019_04_02 FALSE        0300628_T1_TST\n",
       "3         48    done1           2019_04_02 FALSE        0300628_T1_TST\n",
       "4         48    done1           2019_04_02 FALSE        0300628_T1_TST\n",
       "5         49    done1           2019_04_02 FALSE        0300596_T1_TST\n",
       "6         49    done1           2019_04_02 FALSE        0300596_T1_TST\n",
       "  sampleid           condition replicate Lane Index    cancer site      \n",
       "1 HTAPP-211-SMP-6751 TST       channel1  1    SI-GA-A1 breast liver     \n",
       "2 HTAPP-211-SMP-6751 TST       channel1  1    SI-GA-A1 breast liver     \n",
       "3 HTAPP-211-SMP-6751 TST       channel2  1    SI-GA-B1 breast liver     \n",
       "4 HTAPP-211-SMP-6751 TST       channel2  1    SI-GA-B1 breast liver     \n",
       "5 HTAPP-213-SMP-6752 TST       channel1  1    SI-GA-C1 breast chest wall\n",
       "6 HTAPP-213-SMP-6752 TST       channel1  1    SI-GA-C1 breast chest wall\n",
       "  reference             chemistry flowcell \n",
       "1 GRCh38_premrna_v3.0.0 SC3Pv3    HY3H7CCXY\n",
       "2 GRCh38_premrna_v3.0.0 SC3Pv3    HY3H7CCXY\n",
       "3 GRCh38_premrna_v3.0.0 SC3Pv3    HY3H7CCXY\n",
       "4 GRCh38_premrna_v3.0.0 SC3Pv3    HY3H7CCXY\n",
       "5 GRCh38_premrna_v3.0.0 SC3Pv3    HY3H7CCXY\n",
       "6 GRCh38_premrna_v3.0.0 SC3Pv3    HY3H7CCXY\n",
       "  seq_dir                                                 mode min_umis\n",
       "1 /transfer/190330_SL-HXZ_0566_BFCHY3H7CCXY V3   0       \n",
       "2 /transfer/190330_SL-HXZ_0566_BFCHY3H7CCXY V3   0       \n",
       "3 /transfer/190330_SL-HXZ_0566_BFCHY3H7CCXY V3   0       \n",
       "4 /transfer/190330_SL-HXZ_0566_BFCHY3H7CCXY V3   0       \n",
       "5 /transfer/190330_SL-HXZ_0566_BFCHY3H7CCXY V3   0       \n",
       "6 /transfer/190330_SL-HXZ_0566_BFCHY3H7CCXY V3   0       \n",
       "  min_genes percent_mito expected_cells total_droplets z_dim z_layers\n",
       "1 0         60           4000           30000          200   1000    \n",
       "2 0         60           4000           30000          200   1000    \n",
       "3 0         60           4000           30000          200   1000    \n",
       "4 0         60           4000           30000          200   1000    \n",
       "5 0         60           4000           30000          200   1000    \n",
       "6 0         60           4000           30000          200   1000    \n",
       "  channel_id_match                site_group\n",
       "1 HTAPP-211-SMP-6751-TST-channel1 liver     \n",
       "2 HTAPP-211-SMP-6751-TST-channel1 liver     \n",
       "3 HTAPP-211-SMP-6751-TST-channel2 liver     \n",
       "4 HTAPP-211-SMP-6751-TST-channel2 liver     \n",
       "5 HTAPP-213-SMP-6752-TST-channel1 chest     \n",
       "6 HTAPP-213-SMP-6752-TST-channel1 chest     "
      ]
     },
     "metadata": {},
     "output_type": "display_data"
    }
   ],
   "source": [
    "head(sheetL1)"
   ]
  },
  {
   "cell_type": "code",
   "execution_count": 83,
   "metadata": {},
   "outputs": [],
   "source": [
    "sheetL1[sheetL1==\"\"]=\"NA\""
   ]
  },
  {
   "cell_type": "code",
   "execution_count": 84,
   "metadata": {},
   "outputs": [],
   "source": [
    "sheetL1=sheetL1[!duplicated(Filename)] #reduce to one entry per fastq file"
   ]
  },
  {
   "cell_type": "code",
   "execution_count": 85,
   "metadata": {},
   "outputs": [
    {
     "data": {
      "text/plain": [
       "\n",
       "TRUE \n",
       " 276 "
      ]
     },
     "metadata": {},
     "output_type": "display_data"
    }
   ],
   "source": [
    "#test that file order stayed the same (i.e. matches the google table)\n",
    "table(sheetL1$Filename==sheetL1_orig$Filename)"
   ]
  },
  {
   "cell_type": "code",
   "execution_count": 86,
   "metadata": {},
   "outputs": [],
   "source": [
    "#write.table(sheetL1,paste0(out,\"/L1_noFastqStats.tsv\"),sep=\"\\t\",quote=F,row.names=F)\n",
    "#added 3 missing samples\n",
    "write.table(sheetL1,paste0(out,\"/L1_noFastqStats_add.tsv\"),sep=\"\\t\",quote=F,row.names=F)"
   ]
  },
  {
   "cell_type": "code",
   "execution_count": 136,
   "metadata": {},
   "outputs": [],
   "source": [
    "get_fastq_info=function(fastq,r=\"R2\"){\n",
    "    message(fastq)\n",
    "    N=system(command = paste0(\"zgrep -c $ \", fastq),intern = TRUE) #$ matches all line ends\n",
    "    incon <- gzfile(fastq)\n",
    "    l1=readLines(incon,1)\n",
    "    l2=readLines(incon,2)[2]\n",
    "    \n",
    "    dict=list(\"HWI-M[0-9]{4}$\" = \"MiSeq\",\n",
    "        \"HWUSI\" = \"Genome Analyzer IIx\",\n",
    "        \"M[0-9]{5}$\"=\"MiSeq\",\n",
    "        \"HWI-C[0-9]{5}$\"=\"HiSeq 1500\",\n",
    "        \"C[0-9]{5}$\"=\"HiSeq 1500\",\n",
    "        \"HWI-D[0-9]{5}$\"=\"HiSeq 2500\",\n",
    "        \"D[0-9]{5}$\"=\"HiSeq 2500\",\n",
    "        \"J[0-9]{5}$\"=\"HiSeq 3000\",\n",
    "        \"K[0-9]{5}$\"=\"HiSeq 3000\",\n",
    "        \"E[0-9]{5}$\"=\"HiSeq X\",\n",
    "        \"NB[0-9]{6}$\"=\"NextSeq\",\n",
    "        \"NS[0-9]{6}$\"=\"NextSeq\")\n",
    "    \n",
    "    for(i in c(1:length(dict))){\n",
    "    re=dict[i]\n",
    "    if (grepl(names(re),gsub(\"@|:.*\",\"\",l1),perl=TRUE)){\n",
    "        pl=as.character(re)\n",
    "        break\n",
    "        } else {pl=\"\"}\n",
    "    }\n",
    "    \n",
    "    len=nchar(l2)\n",
    "    if (r==\"R1\"){\n",
    "    return(list(as.numeric(N),pl,\"\"))}\n",
    "    if (r==\"R2\"){\n",
    "    return(list(as.numeric(N),pl,len))}\n",
    "}"
   ]
  },
  {
   "cell_type": "code",
   "execution_count": 14,
   "metadata": {},
   "outputs": [
    {
     "name": "stderr",
     "output_type": "stream",
     "text": [
      "/scratch/projects/HTAPP_MBC//phase2/pipeline/fastq/10x/2019_04_02_HY3H7CCXY_10x/HY3H7CCXY/HTAPP-211-SMP-6751_TST_channel1/HTAPP-211-SMP-6751_TST_channel1_S1_L001_R1_001.fastq.gz\n"
     ]
    },
    {
     "data": {
      "text/plain": [
       "   user  system elapsed \n",
       "212.399   8.557 120.777 "
      ]
     },
     "metadata": {},
     "output_type": "display_data"
    }
   ],
   "source": [
    "system.time(sheetL1[1,c(\"Valid_Barcodes_Cell_Number\",\"Sequencing_Platform\",\"cDNA_Length\"):=ifelse(`Read Indicator`==\"R2\",list(get_fastq_info(filepath,\"R2\")),list(get_fastq_info(filepath,\"R1\")))[[1]],])"
   ]
  },
  {
   "cell_type": "code",
   "execution_count": 137,
   "metadata": {},
   "outputs": [
    {
     "name": "stderr",
     "output_type": "stream",
     "text": [
      "Warning message in `[.data.table`(sheetL1, , `:=`(c(\"Valid_Barcodes_Cell_Number\", :\n",
      "\"Coercing 'character' RHS to 'double' to match the type of the target column (column 0 named '').\"/scratch/projects/HTAPP_MBC//phase2/pipeline/fastq/10x/2018_07_29_HCMKLBGX7_10x/HCMKLBGX7/HTAPP-806-SMP-6800_fresh_channel1/HTAPP-806-SMP-6800_fresh_channel1_S3_L001_R2_001.fastq.gz\n",
      "Warning message in `[.data.table`(sheetL1, , `:=`(c(\"Valid_Barcodes_Cell_Number\", :\n",
      "\"Coercing 'character' RHS to 'double' to match the type of the target column (column 0 named '').\"/scratch/projects/HTAPP_MBC//phase2/pipeline/fastq/10x/2018_07_29_HCMKLBGX7_10x/HCMKLBGX7/HTAPP-806-SMP-6800_fresh_channel1/HTAPP-806-SMP-6800_fresh_channel1_S3_L002_R2_001.fastq.gz\n",
      "Warning message in `[.data.table`(sheetL1, , `:=`(c(\"Valid_Barcodes_Cell_Number\", :\n",
      "\"Coercing 'character' RHS to 'double' to match the type of the target column (column 0 named '').\"/scratch/projects/HTAPP_MBC//phase2/pipeline/fastq/10x/2019_03_26_HY2K3CCXY_10x/HY2K3CCXY/HTAPP-330-SMP-1082_fresh_channel1/HTAPP-330-SMP-1082_fresh_channel1_S3_L004_R2_001.fastq.gz\n",
      "Warning message in `[.data.table`(sheetL1, , `:=`(c(\"Valid_Barcodes_Cell_Number\", :\n",
      "\"Coercing 'character' RHS to 'double' to match the type of the target column (column 0 named '').\"/scratch/projects/HTAPP_MBC//phase2/pipeline/fastq/10x/2019_08_22_H2WC7CCX2_10x/H2WC7CCX2/HTAPP-988-SMP-7749_fresh_channel1/HTAPP-988-SMP-7749_fresh_channel1_S1_L004_R2_001.fastq.gz\n",
      "Warning message in `[.data.table`(sheetL1, , `:=`(c(\"Valid_Barcodes_Cell_Number\", :\n",
      "\"Coercing 'character' RHS to 'double' to match the type of the target column (column 0 named '').\"/scratch/projects/HTAPP_MBC//phase2/pipeline/fastq/10x/2018_07_29_HCMKLBGX7_10x/HCMKLBGX7/HTAPP-806-SMP-6800_fresh_channel1/HTAPP-806-SMP-6800_fresh_channel1_S3_L003_R2_001.fastq.gz\n",
      "Warning message in `[.data.table`(sheetL1, , `:=`(c(\"Valid_Barcodes_Cell_Number\", :\n",
      "\"Coercing 'character' RHS to 'double' to match the type of the target column (column 0 named '').\"/scratch/projects/HTAPP_MBC//phase2/pipeline/fastq/10x/2018_07_29_HCMKLBGX7_10x/HCMKLBGX7/HTAPP-806-SMP-6800_fresh_channel1/HTAPP-806-SMP-6800_fresh_channel1_S3_L004_R2_001.fastq.gz\n",
      "Warning message in `[.data.table`(sheetL1, , `:=`(c(\"Valid_Barcodes_Cell_Number\", :\n",
      "\"Coercing 'character' RHS to 'double' to match the type of the target column (column 0 named '').\"/scratch/projects/HTAPP_MBC//phase2/pipeline/fastq/10x/2018_07_29_HCMKLBGX7_10x/HCMKLBGX7/HTAPP-806-SMP-6800_fresh_channel2/HTAPP-806-SMP-6800_fresh_channel2_S4_L001_R2_001.fastq.gz\n",
      "Warning message in `[.data.table`(sheetL1, , `:=`(c(\"Valid_Barcodes_Cell_Number\", :\n",
      "\"Coercing 'character' RHS to 'double' to match the type of the target column (column 0 named '').\"/scratch/projects/HTAPP_MBC//phase2/pipeline/fastq/10x/2018_07_29_HCMKLBGX7_10x/HCMKLBGX7/HTAPP-806-SMP-6800_fresh_channel2/HTAPP-806-SMP-6800_fresh_channel2_S4_L002_R2_001.fastq.gz\n",
      "Warning message in `[.data.table`(sheetL1, , `:=`(c(\"Valid_Barcodes_Cell_Number\", :\n",
      "\"Coercing 'character' RHS to 'double' to match the type of the target column (column 0 named '').\"/scratch/projects/HTAPP_MBC//phase2/pipeline/fastq/10x/2018_07_29_HCMKLBGX7_10x/HCMKLBGX7/HTAPP-806-SMP-6800_fresh_channel2/HTAPP-806-SMP-6800_fresh_channel2_S4_L003_R2_001.fastq.gz\n",
      "Warning message in `[.data.table`(sheetL1, , `:=`(c(\"Valid_Barcodes_Cell_Number\", :\n",
      "\"Coercing 'character' RHS to 'double' to match the type of the target column (column 0 named '').\"/scratch/projects/HTAPP_MBC//phase2/pipeline/fastq/10x/2018_07_29_HCMKLBGX7_10x/HCMKLBGX7/HTAPP-806-SMP-6800_fresh_channel2/HTAPP-806-SMP-6800_fresh_channel2_S4_L004_R2_001.fastq.gz\n"
     ]
    }
   ],
   "source": [
    "#for 3 added samples only\n",
    "sheetL1=sheetL1[Component!=\"NA\"]\n",
    "sheetL1[,c(\"Valid_Barcodes_Cell_Number\",\"Sequencing_Platform\",\"cDNA_Length\"):=ifelse(`Read Indicator`==\"R2\",list(get_fastq_info(filepath,\"R2\")),list(list(\"\",\"\",\"\")))[[1]],by=1:nrow(sheetL1)]"
   ]
  },
  {
   "cell_type": "code",
   "execution_count": 19,
   "metadata": {},
   "outputs": [
    {
     "name": "stderr",
     "output_type": "stream",
     "text": [
      "/scratch/projects/HTAPP_MBC//phase2/pipeline/fastq/10x/2019_04_02_HY3H7CCXY_10x/HY3H7CCXY/HTAPP-211-SMP-6751_TST_channel1/HTAPP-211-SMP-6751_TST_channel1_S1_L001_R2_001.fastq.gz\n",
      "/scratch/projects/HTAPP_MBC//phase2/pipeline/fastq/10x/2019_04_02_HY3H7CCXY_10x/HY3H7CCXY/HTAPP-211-SMP-6751_TST_channel2/HTAPP-211-SMP-6751_TST_channel2_S2_L001_R2_001.fastq.gz\n",
      "/scratch/projects/HTAPP_MBC//phase2/pipeline/fastq/10x/2019_04_02_HY3H7CCXY_10x/HY3H7CCXY/HTAPP-213-SMP-6752_TST_channel1/HTAPP-213-SMP-6752_TST_channel1_S3_L001_R2_001.fastq.gz\n",
      "/scratch/projects/HTAPP_MBC//phase2/pipeline/fastq/10x/2019_04_02_HY3H7CCXY_10x/HY3H7CCXY/HTAPP-213-SMP-6752_TST_channel2/HTAPP-213-SMP-6752_TST_channel2_S4_L001_R2_001.fastq.gz\n",
      "/scratch/projects/HTAPP_MBC//phase2/pipeline/fastq/10x/2019_06_12_HWTWCCCXY_10x/HWTWCCCXY/HTAPP-223-SMP-6755_TST_channel1/HTAPP-223-SMP-6755_TST_channel1_S1_L005_R2_001.fastq.gz\n",
      "/scratch/projects/HTAPP_MBC//phase2/pipeline/fastq/10x/2019_06_12_HWTWCCCXY_10x/HWTWCCCXY/HTAPP-223-SMP-6755_TST_channel2/HTAPP-223-SMP-6755_TST_channel2_S2_L005_R2_001.fastq.gz\n",
      "/scratch/projects/HTAPP_MBC//phase2/pipeline/fastq/10x/2019_06_12_HWTWCCCXY_10x/HWTWCCCXY/HTAPP-223-SMP-7537_TST_channel1/HTAPP-223-SMP-7537_TST_channel1_S3_L005_R2_001.fastq.gz\n",
      "/scratch/projects/HTAPP_MBC//phase2/pipeline/fastq/10x/2019_06_12_HWTWCCCXY_10x/HWTWCCCXY/HTAPP-223-SMP-7537_TST_channel2/HTAPP-223-SMP-7537_TST_channel2_S4_L005_R2_001.fastq.gz\n",
      "/scratch/projects/HTAPP_MBC//phase2/pipeline/fastq/10x/2019_05_28_HY3CLCCXY_10x/HY3CLCCXY/HTAPP-225-SMP-6756_TST_channel1/HTAPP-225-SMP-6756_TST_channel1_S1_L005_R2_001.fastq.gz\n",
      "/scratch/projects/HTAPP_MBC//phase2/pipeline/fastq/10x/2019_06_03_HY27MCCXY_10x/HY27MCCXY/HTAPP-226-SMP-6757_TST_channel1/HTAPP-226-SMP-6757_TST_channel1_S1_L002_R2_001.fastq.gz\n",
      "/scratch/projects/HTAPP_MBC//phase2/pipeline/fastq/10x/2019_06_03_HY27MCCXY_10x/HY27MCCXY/HTAPP-226-SMP-6757_TST_channel2/HTAPP-226-SMP-6757_TST_channel2_S2_L002_R2_001.fastq.gz\n",
      "/scratch/projects/HTAPP_MBC//phase2/pipeline/fastq/10x/2019_05_28_HY3FNCCXY_10x/HY3FNCCXY/HTAPP-231-SMP-6758_TST_channel1/HTAPP-231-SMP-6758_TST_channel1_S1_L003_R2_001.fastq.gz\n",
      "/scratch/projects/HTAPP_MBC//phase2/pipeline/fastq/10x/2019_05_28_HY3FNCCXY_10x/HY3FNCCXY/HTAPP-231-SMP-6758_TST_channel2/HTAPP-231-SMP-6758_TST_channel2_S2_L003_R2_001.fastq.gz\n",
      "/scratch/projects/HTAPP_MBC//phase2/pipeline/fastq/10x/2019_05_28_HY3FNCCXY_10x/HY3FNCCXY/HTAPP-232-SMP-6759_TST_channel1/HTAPP-232-SMP-6759_TST_channel1_S3_L003_R2_001.fastq.gz\n",
      "/scratch/projects/HTAPP_MBC//phase2/pipeline/fastq/10x/2019_05_28_HY3FNCCXY_10x/HY3FNCCXY/HTAPP-232-SMP-6759_TST_channel2/HTAPP-232-SMP-6759_TST_channel2_S4_L003_R2_001.fastq.gz\n",
      "/scratch/projects/HTAPP_MBC//phase2/pipeline/fastq/10x/2018_07_29_HCMKLBGX7_10x/HCMKLBGX7/HTAPP-254-SMP-571_CDD_channel2/HTAPP-254-SMP-571_CDD_channel2_S2_L001_R2_001.fastq.gz\n",
      "/scratch/projects/HTAPP_MBC//phase2/pipeline/fastq/10x/2018_07_29_HCMKLBGX7_10x/HCMKLBGX7/HTAPP-254-SMP-571_CDD_channel2/HTAPP-254-SMP-571_CDD_channel2_S2_L002_R2_001.fastq.gz\n",
      "/scratch/projects/HTAPP_MBC//phase2/pipeline/fastq/10x/2018_07_29_HCMKLBGX7_10x/HCMKLBGX7/HTAPP-254-SMP-571_CDD_channel2/HTAPP-254-SMP-571_CDD_channel2_S2_L003_R2_001.fastq.gz\n",
      "/scratch/projects/HTAPP_MBC//phase2/pipeline/fastq/10x/2018_07_29_HCMKLBGX7_10x/HCMKLBGX7/HTAPP-254-SMP-571_CDD_channel2/HTAPP-254-SMP-571_CDD_channel2_S2_L004_R2_001.fastq.gz\n",
      "/scratch/projects/HTAPP_MBC//phase2/pipeline/fastq/10x/2018_07_29_HCMKLBGX7_10x/HCMKLBGX7/HTAPP-254-SMP-571_LD_channel1/HTAPP-254-SMP-571_LD_channel1_S1_L001_R2_001.fastq.gz\n",
      "/scratch/projects/HTAPP_MBC//phase2/pipeline/fastq/10x/2018_07_29_HCMKLBGX7_10x/HCMKLBGX7/HTAPP-254-SMP-571_LD_channel1/HTAPP-254-SMP-571_LD_channel1_S1_L002_R2_001.fastq.gz\n",
      "/scratch/projects/HTAPP_MBC//phase2/pipeline/fastq/10x/2018_07_29_HCMKLBGX7_10x/HCMKLBGX7/HTAPP-254-SMP-571_LD_channel1/HTAPP-254-SMP-571_LD_channel1_S1_L003_R2_001.fastq.gz\n",
      "/scratch/projects/HTAPP_MBC//phase2/pipeline/fastq/10x/2018_07_29_HCMKLBGX7_10x/HCMKLBGX7/HTAPP-254-SMP-571_LD_channel1/HTAPP-254-SMP-571_LD_channel1_S1_L004_R2_001.fastq.gz\n",
      "/scratch/projects/HTAPP_MBC//phase2/pipeline/fastq/10x/2019_03_26_HY2K3CCXY_10x/HY2K3CCXY/HTAPP-262-SMP-602_fresh_channel1/HTAPP-262-SMP-602_fresh_channel1_S1_L004_R2_001.fastq.gz\n",
      "/scratch/projects/HTAPP_MBC//phase2/pipeline/fastq/10x/2019_03_26_HY2K3CCXY_10x/HY2K3CCXY/HTAPP-262-SMP-602_fresh_channel2/HTAPP-262-SMP-602_fresh_channel2_S2_L004_R2_001.fastq.gz\n",
      "/scratch/projects/HTAPP_MBC//phase2/pipeline/fastq/10x/2019_08_05_H2W3LCCX2_10x/H2W3LCCX2/HTAPP-262-SMP-610_TST_channel1/HTAPP-262-SMP-610_TST_channel1_S1_L008_R2_001.fastq.gz\n",
      "/scratch/projects/HTAPP_MBC//phase2/pipeline/fastq/10x/2018_09_27_HLYYNCCXY_10x/HLYYNCCXY/HTAPP-285-SMP-751_fresh_channel1/HTAPP-285-SMP-751_fresh_channel1_S1_L001_R2_001.fastq.gz\n",
      "/scratch/projects/HTAPP_MBC//phase2/pipeline/fastq/10x/2018_09_27_HLYYNCCXY_10x/HLYYNCCXY/HTAPP-285-SMP-751_fresh_channel1/HTAPP-285-SMP-751_fresh_channel1_S1_L001_R2_001.fastq.gz\n",
      "/scratch/projects/HTAPP_MBC//phase2/pipeline/fastq/10x/2018_08_29_HLNCMCCXY_10x/HLNCMCCXY/HTAPP-285-SMP-751_fresh_channel1/HTAPP-285-SMP-751_fresh_channel1_S1_L002_R2_001.fastq.gz\n",
      "/scratch/projects/HTAPP_MBC//phase2/pipeline/fastq/10x/2018_08_29_HLNCMCCXY_10x/HLNCMCCXY/HTAPP-285-SMP-751_fresh_channel1/HTAPP-285-SMP-751_fresh_channel1_S1_L002_R2_001.fastq.gz\n",
      "/scratch/projects/HTAPP_MBC//phase2/pipeline/fastq/10x/2018_09_27_HLYYNCCXY_10x/HLYYNCCXY/HTAPP-285-SMP-751_fresh_channel2/HTAPP-285-SMP-751_fresh_channel2_S2_L001_R2_001.fastq.gz\n",
      "/scratch/projects/HTAPP_MBC//phase2/pipeline/fastq/10x/2018_09_27_HLYYNCCXY_10x/HLYYNCCXY/HTAPP-285-SMP-751_fresh_channel2/HTAPP-285-SMP-751_fresh_channel2_S2_L001_R2_001.fastq.gz\n",
      "/scratch/projects/HTAPP_MBC//phase2/pipeline/fastq/10x/2018_08_29_HLNCMCCXY_10x/HLNCMCCXY/HTAPP-285-SMP-751_fresh_channel2/HTAPP-285-SMP-751_fresh_channel2_S2_L002_R2_001.fastq.gz\n",
      "/scratch/projects/HTAPP_MBC//phase2/pipeline/fastq/10x/2018_08_29_HLNCMCCXY_10x/HLNCMCCXY/HTAPP-285-SMP-751_fresh_channel2/HTAPP-285-SMP-751_fresh_channel2_S2_L002_R2_001.fastq.gz\n",
      "/scratch/projects/HTAPP_MBC//phase2/pipeline/fastq/10x/2018_08_29_HLNCMCCXY_10x/HLNCMCCXY/HTAPP-309-SMP-871_fresh_channel1/HTAPP-309-SMP-871_fresh_channel1_S3_L003_R2_001.fastq.gz\n",
      "/scratch/projects/HTAPP_MBC//phase2/pipeline/fastq/10x/2018_08_29_HLNCMCCXY_10x/HLNCMCCXY/HTAPP-309-SMP-871_fresh_channel2/HTAPP-309-SMP-871_fresh_channel2_S4_L003_R2_001.fastq.gz\n",
      "/scratch/projects/HTAPP_MBC//phase2/pipeline/fastq/10x/2019_03_26_HY25LCCXY_10x/HY25LCCXY/HTAPP-313-SMP-932_fresh_channel1/HTAPP-313-SMP-932_fresh_channel1_S1_L004_R2_001.fastq.gz\n",
      "/scratch/projects/HTAPP_MBC//phase2/pipeline/fastq/10x/2019_03_26_HY25LCCXY_10x/HY25LCCXY/HTAPP-313-SMP-932_fresh_channel2/HTAPP-313-SMP-932_fresh_channel2_S2_L004_R2_001.fastq.gz\n",
      "/scratch/projects/HTAPP_MBC//phase2/pipeline/fastq/10x/2019_02_11_HVWHHCCXY_10x/HVWHHCCXY/HTAPP-321-SMP-1021_fresh_channel1/HTAPP-321-SMP-1021_fresh_channel1_S1_L006_R2_001.fastq.gz\n",
      "/scratch/projects/HTAPP_MBC//phase2/pipeline/fastq/10x/2018_08_29_HLNCMCCXY_10x/HLNCMCCXY/HTAPP-364-SMP-1321_fresh_channel1/HTAPP-364-SMP-1321_fresh_channel1_S5_L002_R2_001.fastq.gz\n",
      "/scratch/projects/HTAPP_MBC//phase2/pipeline/fastq/10x/2018_08_29_HLNCMCCXY_10x/HLNCMCCXY/HTAPP-364-SMP-1321_fresh_channel2/HTAPP-364-SMP-1321_fresh_channel2_S6_L002_R2_001.fastq.gz\n",
      "/scratch/projects/HTAPP_MBC//phase2/pipeline/fastq/10x/2018_09_27_HLYYNCCXY_10x/HLYYNCCXY/HTAPP-382-SMP-1441_fresh_channel1/HTAPP-382-SMP-1441_fresh_channel1_S3_L003_R2_001.fastq.gz\n",
      "/scratch/projects/HTAPP_MBC//phase2/pipeline/fastq/10x/2018_09_27_HLYYNCCXY_10x/HLYYNCCXY/HTAPP-394-SMP-1561_CST_channel1/HTAPP-394-SMP-1561_CST_channel1_S4_L004_R2_001.fastq.gz\n",
      "/scratch/projects/HTAPP_MBC//phase2/pipeline/fastq/10x/2018_09_27_HLYYNCCXY_10x/HLYYNCCXY/HTAPP-394-SMP-1561_NST_channel2/HTAPP-394-SMP-1561_NST_channel2_S5_L004_R2_001.fastq.gz\n",
      "/scratch/projects/HTAPP_MBC//phase2/pipeline/fastq/10x/2018_09_27_HLYYNCCXY_10x/HLYYNCCXY/HTAPP-414-SMP-1681_fresh_channel1/HTAPP-414-SMP-1681_fresh_channel1_S6_L003_R2_001.fastq.gz\n",
      "/scratch/projects/HTAPP_MBC//phase2/pipeline/fastq/10x/2018_09_27_HLYYNCCXY_10x/HLYYNCCXY/HTAPP-414-SMP-1681_fresh_channel2/HTAPP-414-SMP-1681_fresh_channel2_S7_L003_R2_001.fastq.gz\n",
      "/scratch/projects/HTAPP_MBC//phase2/pipeline/fastq/10x/2018_09_18_HM2N7CCXY_10x/HM2N7CCXY/HTAPP-423-SMP-1741_fresh_channel1/HTAPP-423-SMP-1741_fresh_channel1_S1_L001_R2_001.fastq.gz\n",
      "/scratch/projects/HTAPP_MBC//phase2/pipeline/fastq/10x/2018_09_18_HM2N7CCXY_10x/HM2N7CCXY/HTAPP-423-SMP-1741_fresh_channel2/HTAPP-423-SMP-1741_fresh_channel2_S2_L001_R2_001.fastq.gz\n",
      "/scratch/projects/HTAPP_MBC//phase2/pipeline/fastq/10x/2018_09_18_HM2N7CCXY_10x/HM2N7CCXY/HTAPP-425-SMP-1771_fresh_channel1/HTAPP-425-SMP-1771_fresh_channel1_S3_L001_R2_001.fastq.gz\n",
      "/scratch/projects/HTAPP_MBC//phase2/pipeline/fastq/10x/2018_09_18_HM2N7CCXY_10x/HM2N7CCXY/HTAPP-425-SMP-1771_fresh_channel2/HTAPP-425-SMP-1771_fresh_channel2_S4_L001_R2_001.fastq.gz\n",
      "/scratch/projects/HTAPP_MBC//phase2/pipeline/fastq/10x/2019_05_28_HY3FNCCXY_10x/HY3FNCCXY/HTAPP-514-SMP-6760_TST_channel1/HTAPP-514-SMP-6760_TST_channel1_S5_L002_R2_001.fastq.gz\n",
      "/scratch/projects/HTAPP_MBC//phase2/pipeline/fastq/10x/2019_05_28_HY3FNCCXY_10x/HY3FNCCXY/HTAPP-514-SMP-6760_TST_channel2/HTAPP-514-SMP-6760_TST_channel2_S6_L002_R2_001.fastq.gz\n",
      "/scratch/projects/HTAPP_MBC//phase2/pipeline/fastq/10x/2019_04_26_HY2L2CCXY_10x/HY2L2CCXY/HTAPP-516-SMP-6761_CST_channel1/HTAPP-516-SMP-6761_CST_channel1_S1_L006_R2_001.fastq.gz\n",
      "/scratch/projects/HTAPP_MBC//phase2/pipeline/fastq/10x/2019_04_26_HY2L2CCXY_10x/HY2L2CCXY/HTAPP-516-SMP-6761_TST_channel2/HTAPP-516-SMP-6761_TST_channel2_S2_L006_R2_001.fastq.gz\n",
      "/scratch/projects/HTAPP_MBC//phase2/pipeline/fastq/10x/2019_04_08_HY3GYCCXY_10x/HY3GYCCXY/HTAPP-519-SMP-6762_TST_channel1/HTAPP-519-SMP-6762_TST_channel1_S1_L008_R2_001.fastq.gz\n",
      "/scratch/projects/HTAPP_MBC//phase2/pipeline/fastq/10x/2019_04_08_HY3GYCCXY_10x/HY3GYCCXY/HTAPP-521-SMP-6763_TST_channel1/HTAPP-521-SMP-6763_TST_channel1_S2_L008_R2_001.fastq.gz\n",
      "/scratch/projects/HTAPP_MBC//phase2/pipeline/fastq/10x/2019_04_08_HY3GYCCXY_10x/HY3GYCCXY/HTAPP-525-SMP-6765_TST_channel1/HTAPP-525-SMP-6765_TST_channel1_S3_L008_R2_001.fastq.gz\n",
      "/scratch/projects/HTAPP_MBC//phase2/pipeline/fastq/10x/2018_09_29_HM2GMCCXY_10x/HM2GMCCXY/HTAPP-562-SMP-2581_CD45neg_channel2/HTAPP-562-SMP-2581_CD45neg_channel2_S2_L008_R2_001.fastq.gz\n",
      "/scratch/projects/HTAPP_MBC//phase2/pipeline/fastq/10x/2018_09_29_HM2GMCCXY_10x/HM2GMCCXY/HTAPP-562-SMP-2581_fresh_channel1/HTAPP-562-SMP-2581_fresh_channel1_S1_L008_R2_001.fastq.gz\n",
      "/scratch/projects/HTAPP_MBC//phase2/pipeline/fastq/10x/2019_08_22_H2VLKCCX2_10x/H2VLKCCX2/HTAPP-586-SMP-8599_fresh_channel1/HTAPP-586-SMP-8599_fresh_channel1_S1_L006_R2_001.fastq.gz\n",
      "/scratch/projects/HTAPP_MBC//phase2/pipeline/fastq/10x/2018_10_10_HM2N5CCXY_10x/HM2N5CCXY/HTAPP-589-SMP-2851_CST_channel1/HTAPP-589-SMP-2851_CST_channel1_S1_L001_R2_001.fastq.gz\n",
      "/scratch/projects/HTAPP_MBC//phase2/pipeline/fastq/10x/2018_10_10_HM2N5CCXY_10x/HM2N5CCXY/HTAPP-589-SMP-2851_TST_channel2/HTAPP-589-SMP-2851_TST_channel2_S2_L001_R2_001.fastq.gz\n",
      "/scratch/projects/HTAPP_MBC//phase2/pipeline/fastq/10x/2019_07_09_H2VTNCCX2_10x/H2VTNCCX2/HTAPP-589-SMP-2860_TST_channel1/HTAPP-589-SMP-2860_TST_channel1_S1_L003_R2_001.fastq.gz\n",
      "/scratch/projects/HTAPP_MBC//phase2/pipeline/fastq/10x/2019_07_09_H2VTNCCX2_10x/H2VTNCCX2/HTAPP-589-SMP-2860_TST_channel2/HTAPP-589-SMP-2860_TST_channel2_S2_L003_R2_001.fastq.gz\n",
      "/scratch/projects/HTAPP_MBC//phase2/pipeline/fastq/10x/2018_10_29_HM2JGCCXY_10x/HM2JGCCXY/HTAPP-600-SMP-2941_CST_channel1/HTAPP-600-SMP-2941_CST_channel1_S1_L008_R2_001.fastq.gz\n",
      "/scratch/projects/HTAPP_MBC//phase2/pipeline/fastq/10x/2018_10_29_HM2JGCCXY_10x/HM2JGCCXY/HTAPP-600-SMP-2941_NST_channel2/HTAPP-600-SMP-2941_NST_channel2_S2_L008_R2_001.fastq.gz\n",
      "/scratch/projects/HTAPP_MBC//phase2/pipeline/fastq/10x/2019_04_02_HY3H7CCXY_10x/HY3H7CCXY/HTAPP-611-SMP-3062_fresh_channel1/HTAPP-611-SMP-3062_fresh_channel1_S7_L002_R2_001.fastq.gz\n",
      "/scratch/projects/HTAPP_MBC//phase2/pipeline/fastq/10x/2019_04_02_HY3H7CCXY_10x/HY3H7CCXY/HTAPP-611-SMP-3062_fresh_channel2/HTAPP-611-SMP-3062_fresh_channel2_S8_L002_R2_001.fastq.gz\n",
      "/scratch/projects/HTAPP_MBC//phase2/pipeline/fastq/10x/2019_05_28_HY3CLCCXY_10x/HY3CLCCXY/HTAPP-627-SMP-3242_fresh_channel1/HTAPP-627-SMP-3242_fresh_channel1_S2_L005_R2_001.fastq.gz\n",
      "/scratch/projects/HTAPP_MBC//phase2/pipeline/fastq/10x/2019_05_28_HY3CLCCXY_10x/HY3CLCCXY/HTAPP-627-SMP-3242_fresh_channel2/HTAPP-627-SMP-3242_fresh_channel2_S3_L005_R2_001.fastq.gz\n",
      "/scratch/projects/HTAPP_MBC//phase2/pipeline/fastq/10x/2019_05_28_HY3CLCCXY_10x/HY3CLCCXY/HTAPP-649-SMP-3422_fresh_channel1/HTAPP-649-SMP-3422_fresh_channel1_S4_L005_R2_001.fastq.gz\n",
      "/scratch/projects/HTAPP_MBC//phase2/pipeline/fastq/10x/2019_04_26_HY3G5CCXY_10x/HY3G5CCXY/HTAPP-662-SMP-3602_fresh_channel1/HTAPP-662-SMP-3602_fresh_channel1_S1_L002_R2_001.fastq.gz\n",
      "/scratch/projects/HTAPP_MBC//phase2/pipeline/fastq/10x/2019_04_26_HY3G5CCXY_10x/HY3G5CCXY/HTAPP-662-SMP-3602_fresh_channel2/HTAPP-662-SMP-3602_fresh_channel2_S2_L002_R2_001.fastq.gz\n",
      "/scratch/projects/HTAPP_MBC//phase2/pipeline/fastq/10x/2018_11_07_HV3GTCCXY_10x/HV3GTCCXY/HTAPP-735-SMP-3841_fresh_channel1/HTAPP-735-SMP-3841_fresh_channel1_S1_L006_R2_001.fastq.gz\n",
      "/scratch/projects/HTAPP_MBC//phase2/pipeline/fastq/10x/2018_11_07_HV3GTCCXY_10x/HV3GTCCXY/HTAPP-735-SMP-3841_fresh_channel2/HTAPP-735-SMP-3841_fresh_channel2_S2_L006_R2_001.fastq.gz\n",
      "/scratch/projects/HTAPP_MBC//phase2/pipeline/fastq/10x/2018_11_07_HV3GTCCXY_10x/HV3GTCCXY/HTAPP-745-SMP-3961_fresh_channel1/HTAPP-745-SMP-3961_fresh_channel1_S3_L006_R2_001.fastq.gz\n",
      "/scratch/projects/HTAPP_MBC//phase2/pipeline/fastq/10x/2018_11_29_HTYWHCCXY_10x/HTYWHCCXY/HTAPP-752-SMP-4051_CST_channel1/HTAPP-752-SMP-4051_CST_channel1_S1_L004_R2_001.fastq.gz\n",
      "/scratch/projects/HTAPP_MBC//phase2/pipeline/fastq/10x/2018_11_29_HTYWHCCXY_10x/HTYWHCCXY/HTAPP-752-SMP-4051_TST_channel2/HTAPP-752-SMP-4051_TST_channel2_S2_L004_R2_001.fastq.gz\n",
      "/scratch/projects/HTAPP_MBC//phase2/pipeline/fastq/10x/2019_09_05_H2TN7CCX2_10x/H2TN7CCX2/HTAPP-759-SMP-8359_fresh_channel1/HTAPP-759-SMP-8359_fresh_channel1_S1_L006_R2_001.fastq.gz\n",
      "/scratch/projects/HTAPP_MBC//phase2/pipeline/fastq/10x/2019_09_05_H2TN7CCX2_10x/H2TN7CCX2/HTAPP-759-SMP-8359_fresh_channel2/HTAPP-759-SMP-8359_fresh_channel2_S2_L006_R2_001.fastq.gz\n",
      "/scratch/projects/HTAPP_MBC//phase2/pipeline/fastq/10x/2018_11_29_HTYWHCCXY_10x/HTYWHCCXY/HTAPP-783-SMP-4081_fresh_channel1/HTAPP-783-SMP-4081_fresh_channel1_S3_L004_R2_001.fastq.gz\n",
      "/scratch/projects/HTAPP_MBC//phase2/pipeline/fastq/10x/2019_07_09_H2TNCCCX2_10x/H2TNCCCX2/HTAPP-806-SMP-6789_TST_channel1/HTAPP-806-SMP-6789_TST_channel1_S1_L005_R2_001.fastq.gz\n",
      "/scratch/projects/HTAPP_MBC//phase2/pipeline/fastq/10x/2019_07_09_H2TNCCCX2_10x/H2TNCCCX2/HTAPP-806-SMP-6789_TST_channel2/HTAPP-806-SMP-6789_TST_channel2_S2_L005_R2_001.fastq.gz\n",
      "/scratch/projects/HTAPP_MBC//phase2/pipeline/fastq/10x/2019_10_01_H5JYCCCX2_10x/H5JYCCCX2/HTAPP-812-SMP-8239_fresh_channel1/HTAPP-812-SMP-8239_fresh_channel1_S1_L008_R2_001.fastq.gz\n",
      "/scratch/projects/HTAPP_MBC//phase2/pipeline/fastq/10x/2019_07_09_H2TNCCCX2_10x/H2TNCCCX2/HTAPP-814-SMP-6879_TST_channel1/HTAPP-814-SMP-6879_TST_channel1_S3_L005_R2_001.fastq.gz\n",
      "/scratch/projects/HTAPP_MBC//phase2/pipeline/fastq/10x/2019_07_09_H2TNCCCX2_10x/H2TNCCCX2/HTAPP-814-SMP-6879_TST_channel2/HTAPP-814-SMP-6879_TST_channel2_S4_L005_R2_001.fastq.gz\n",
      "/scratch/projects/HTAPP_MBC//phase2/pipeline/fastq/10x/2019_07_25_H2VV5CCX2_10x/H2VV5CCX2/HTAPP-835-SMP-6999_TST_channel1/HTAPP-835-SMP-6999_TST_channel1_S1_L002_R2_001.fastq.gz\n",
      "/scratch/projects/HTAPP_MBC//phase2/pipeline/fastq/10x/2019_07_25_H2VV5CCX2_10x/H2VV5CCX2/HTAPP-835-SMP-6999_TST_channel2/HTAPP-835-SMP-6999_TST_channel2_S2_L002_R2_001.fastq.gz\n",
      "/scratch/projects/HTAPP_MBC//phase2/pipeline/fastq/10x/2018_11_29_HTYWHCCXY_10x/HTYWHCCXY/HTAPP-851-SMP-4351_fresh_channel1/HTAPP-851-SMP-4351_fresh_channel1_S4_L004_R2_001.fastq.gz\n",
      "/scratch/projects/HTAPP_MBC//phase2/pipeline/fastq/10x/2019_03_04_HWTLJCCXY_10x/HWTLJCCXY/HTAPP-853-SMP-4381_fresh_channel1/HTAPP-853-SMP-4381_fresh_channel1_S1_L006_R2_001.fastq.gz\n",
      "/scratch/projects/HTAPP_MBC//phase2/pipeline/fastq/10x/2019_07_25_H2VV5CCX2_10x/H2VV5CCX2/HTAPP-861-SMP-7028_TST_channel1/HTAPP-861-SMP-7028_TST_channel1_S3_L002_R2_001.fastq.gz\n",
      "/scratch/projects/HTAPP_MBC//phase2/pipeline/fastq/10x/2019_07_25_H2VV5CCX2_10x/H2VV5CCX2/HTAPP-861-SMP-7028_TST_channel2/HTAPP-861-SMP-7028_TST_channel2_S4_L002_R2_001.fastq.gz\n",
      "/scratch/projects/HTAPP_MBC//phase2/pipeline/fastq/10x/2019_07_09_H2TNCCCX2_10x/H2TNCCCX2/HTAPP-862-SMP-7059_TST_channel1/HTAPP-862-SMP-7059_TST_channel1_S5_L004_R2_001.fastq.gz\n",
      "/scratch/projects/HTAPP_MBC//phase2/pipeline/fastq/10x/2019_07_09_H2TNCCCX2_10x/H2TNCCCX2/HTAPP-862-SMP-7059_TST_channel2/HTAPP-862-SMP-7059_TST_channel2_S6_L004_R2_001.fastq.gz\n",
      "/scratch/projects/HTAPP_MBC//phase2/pipeline/fastq/10x/2019_07_09_H2TNCCCX2_10x/H2TNCCCX2/HTAPP-862-SMP-7060_TST_channel1/HTAPP-862-SMP-7060_TST_channel1_S7_L003_R2_001.fastq.gz\n",
      "/scratch/projects/HTAPP_MBC//phase2/pipeline/fastq/10x/2019_07_09_H2TNCCCX2_10x/H2TNCCCX2/HTAPP-862-SMP-7060_TST_channel2/HTAPP-862-SMP-7060_TST_channel2_S8_L003_R2_001.fastq.gz\n",
      "/scratch/projects/HTAPP_MBC//phase2/pipeline/fastq/10x/2019_07_09_H2VTNCCX2_10x/H2VTNCCX2/HTAPP-870-SMP-7089_TST_channel1/HTAPP-870-SMP-7089_TST_channel1_S3_L005_R2_001.fastq.gz\n",
      "/scratch/projects/HTAPP_MBC//phase2/pipeline/fastq/10x/2019_07_09_H2VTNCCX2_10x/H2VTNCCX2/HTAPP-870-SMP-7089_TST_channel2/HTAPP-870-SMP-7089_TST_channel2_S4_L005_R2_001.fastq.gz\n",
      "/scratch/projects/HTAPP_MBC//phase2/pipeline/fastq/10x/2019_07_09_H2VTNCCX2_10x/H2VTNCCX2/HTAPP-873-SMP-7119_TST_channel1/HTAPP-873-SMP-7119_TST_channel1_S5_L003_R2_001.fastq.gz\n",
      "/scratch/projects/HTAPP_MBC//phase2/pipeline/fastq/10x/2019_07_09_H2VTNCCX2_10x/H2VTNCCX2/HTAPP-873-SMP-7119_TST_channel2/HTAPP-873-SMP-7119_TST_channel2_S6_L003_R2_001.fastq.gz\n",
      "/scratch/projects/HTAPP_MBC//phase2/pipeline/fastq/10x/2019_07_09_H2VTNCCX2_10x/H2VTNCCX2/HTAPP-878-SMP-7149_TST_channel1/HTAPP-878-SMP-7149_TST_channel1_S7_L002_R2_001.fastq.gz\n",
      "/scratch/projects/HTAPP_MBC//phase2/pipeline/fastq/10x/2019_07_09_H2VTNCCX2_10x/H2VTNCCX2/HTAPP-878-SMP-7149_TST_channel2/HTAPP-878-SMP-7149_TST_channel2_S8_L002_R2_001.fastq.gz\n",
      "/scratch/projects/HTAPP_MBC//phase2/pipeline/fastq/10x/2019_07_09_H2TNCCCX2_10x/H2TNCCCX2/HTAPP-880-SMP-7179_TST_channel1/HTAPP-880-SMP-7179_TST_channel1_S9_L004_R2_001.fastq.gz\n",
      "/scratch/projects/HTAPP_MBC//phase2/pipeline/fastq/10x/2019_07_09_H2TNCCCX2_10x/H2TNCCCX2/HTAPP-880-SMP-7179_TST_channel2/HTAPP-880-SMP-7179_TST_channel2_S10_L004_R2_001.fastq.gz\n",
      "/scratch/projects/HTAPP_MBC//phase2/pipeline/fastq/10x/2019_07_09_H2VTNCCX2_10x/H2VTNCCX2/HTAPP-887-SMP-7239_TST_channel1/HTAPP-887-SMP-7239_TST_channel1_S9_L004_R2_001.fastq.gz\n",
      "/scratch/projects/HTAPP_MBC//phase2/pipeline/fastq/10x/2019_07_09_H2VTNCCX2_10x/H2VTNCCX2/HTAPP-887-SMP-7239_TST_channel2/HTAPP-887-SMP-7239_TST_channel2_S10_L004_R2_001.fastq.gz\n",
      "/scratch/projects/HTAPP_MBC//phase2/pipeline/fastq/10x/2019_04_08_HY3GYCCXY_10x/HY3GYCCXY/HTAPP-887-SMP-7250_TST_channel1/HTAPP-887-SMP-7250_TST_channel1_S4_L008_R2_001.fastq.gz\n",
      "/scratch/projects/HTAPP_MBC//phase2/pipeline/fastq/10x/2019_07_25_H2VV5CCX2_10x/H2VV5CCX2/HTAPP-889-SMP-7269_TST_channel1/HTAPP-889-SMP-7269_TST_channel1_S5_L001_R2_001.fastq.gz\n",
      "/scratch/projects/HTAPP_MBC//phase2/pipeline/fastq/10x/2019_07_25_H2VV5CCX2_10x/H2VV5CCX2/HTAPP-889-SMP-7269_TST_channel2/HTAPP-889-SMP-7269_TST_channel2_S6_L001_R2_001.fastq.gz\n",
      "/scratch/projects/HTAPP_MBC//phase2/pipeline/fastq/10x/2019_07_09_H2TNCCCX2_10x/H2TNCCCX2/HTAPP-889-SMP-7270_TST_channel1/HTAPP-889-SMP-7270_TST_channel1_S11_L003_R2_001.fastq.gz\n",
      "/scratch/projects/HTAPP_MBC//phase2/pipeline/fastq/10x/2019_07_09_H2TNCCCX2_10x/H2TNCCCX2/HTAPP-889-SMP-7270_TST_channel2/HTAPP-889-SMP-7270_TST_channel2_S12_L003_R2_001.fastq.gz\n",
      "/scratch/projects/HTAPP_MBC//phase2/pipeline/fastq/10x/2019_07_25_H2VV5CCX2_10x/H2VV5CCX2/HTAPP-890-SMP-7299_TST_channel1/HTAPP-890-SMP-7299_TST_channel1_S7_L001_R2_001.fastq.gz\n",
      "/scratch/projects/HTAPP_MBC//phase2/pipeline/fastq/10x/2019_07_25_H2VV5CCX2_10x/H2VV5CCX2/HTAPP-890-SMP-7299_TST_channel2/HTAPP-890-SMP-7299_TST_channel2_S8_L001_R2_001.fastq.gz\n",
      "/scratch/projects/HTAPP_MBC//phase2/pipeline/fastq/10x/2019_07_09_H2VTNCCX2_10x/H2VTNCCX2/HTAPP-895-SMP-7359_TST_channel1/HTAPP-895-SMP-7359_TST_channel1_S11_L002_R2_001.fastq.gz\n",
      "/scratch/projects/HTAPP_MBC//phase2/pipeline/fastq/10x/2019_07_09_H2VTNCCX2_10x/H2VTNCCX2/HTAPP-895-SMP-7359_TST_channel2/HTAPP-895-SMP-7359_TST_channel2_S12_L002_R2_001.fastq.gz\n",
      "/scratch/projects/HTAPP_MBC//phase2/pipeline/fastq/10x/2019_06_03_HY27MCCXY_10x/HY27MCCXY/HTAPP-908-SMP-4412_fresh_channel1/HTAPP-908-SMP-4412_fresh_channel1_S3_L002_R2_001.fastq.gz\n",
      "/scratch/projects/HTAPP_MBC//phase2/pipeline/fastq/10x/2019_06_03_HY27MCCXY_10x/HY27MCCXY/HTAPP-908-SMP-4412_fresh_channel2/HTAPP-908-SMP-4412_fresh_channel2_S4_L002_R2_001.fastq.gz\n",
      "/scratch/projects/HTAPP_MBC//phase2/pipeline/fastq/10x/2019_02_11_HVWHHCCXY_10x/HVWHHCCXY/HTAPP-917-SMP-4531_fresh_channel1/HTAPP-917-SMP-4531_fresh_channel1_S2_L006_R2_001.fastq.gz\n",
      "/scratch/projects/HTAPP_MBC//phase2/pipeline/fastq/10x/2019_02_11_HVWHHCCXY_10x/HVWHHCCXY/HTAPP-917-SMP-4531_fresh_channel2/HTAPP-917-SMP-4531_fresh_channel2_S3_L006_R2_001.fastq.gz\n",
      "/scratch/projects/HTAPP_MBC//phase2/pipeline/fastq/10x/2019_07_09_H2VTNCCX2_10x/H2VTNCCX2/HTAPP-944-SMP-7479_TST_channel1/HTAPP-944-SMP-7479_TST_channel1_S13_L004_R2_001.fastq.gz\n",
      "/scratch/projects/HTAPP_MBC//phase2/pipeline/fastq/10x/2019_07_09_H2VTNCCX2_10x/H2VTNCCX2/HTAPP-944-SMP-7479_TST_channel2/HTAPP-944-SMP-7479_TST_channel2_S14_L004_R2_001.fastq.gz\n",
      "/scratch/projects/HTAPP_MBC//phase2/pipeline/fastq/10x/2019_07_09_H2VTNCCX2_10x/H2VTNCCX2/HTAPP-947-SMP-7509_TST_channel1/HTAPP-947-SMP-7509_TST_channel1_S15_L005_R2_001.fastq.gz\n",
      "/scratch/projects/HTAPP_MBC//phase2/pipeline/fastq/10x/2019_07_09_H2VTNCCX2_10x/H2VTNCCX2/HTAPP-947-SMP-7509_TST_channel2/HTAPP-947-SMP-7509_TST_channel2_S16_L005_R2_001.fastq.gz\n",
      "/scratch/projects/HTAPP_MBC//phase2/pipeline/fastq/10x/2019_02_11_HVWHHCCXY_10x/HVWHHCCXY/HTAPP-963-SMP-4741_CST_channel2/HTAPP-963-SMP-4741_CST_channel2_S5_L008_R2_001.fastq.gz\n",
      "/scratch/projects/HTAPP_MBC//phase2/pipeline/fastq/10x/2019_02_11_HVWHHCCXY_10x/HVWHHCCXY/HTAPP-963-SMP-4741_TST_channel1/HTAPP-963-SMP-4741_TST_channel1_S4_L008_R2_001.fastq.gz\n",
      "/scratch/projects/HTAPP_MBC//phase2/pipeline/fastq/10x/2019_07_25_H2VV5CCX2_10x/H2VV5CCX2/HTAPP-982-SMP-7629_fresh_channel1/HTAPP-982-SMP-7629_fresh_channel1_S9_L005_R2_001.fastq.gz\n",
      "/scratch/projects/HTAPP_MBC//phase2/pipeline/fastq/10x/2019_07_25_H2VV5CCX2_10x/H2VV5CCX2/HTAPP-982-SMP-7629_fresh_channel2/HTAPP-982-SMP-7629_fresh_channel2_S10_L005_R2_001.fastq.gz\n",
      "/scratch/projects/HTAPP_MBC//phase2/pipeline/fastq/10x/2019_07_25_H2VV5CCX2_10x/H2VV5CCX2/HTAPP-983-SMP-7659_fresh_channel1/HTAPP-983-SMP-7659_fresh_channel1_S11_L005_R2_001.fastq.gz\n",
      "/scratch/projects/HTAPP_MBC//phase2/pipeline/fastq/10x/2019_10_01_H5JYCCCX2_10x/H5JYCCCX2/HTAPP-997-SMP-7789_TST_channel1/HTAPP-997-SMP-7789_TST_channel1_S2_L007_R2_001.fastq.gz\n",
      "/scratch/projects/HTAPP_MBC//phase2/pipeline/fastq/10x/2019_10_01_H5JYCCCX2_10x/H5JYCCCX2/HTAPP-997-SMP-7789_TST_channel2/HTAPP-997-SMP-7789_TST_channel2_S3_L008_R2_001.fastq.gz\n",
      "/scratch/projects/HTAPP_MBC//phase2/pipeline/fastq/10x/2019_04_08_HY3GYCCXY_10x/HY3GYCCXY/HTAPP-after-SMP-iso_TST_channel1/HTAPP-after-SMP-iso_TST_channel1_S5_L007_R2_001.fastq.gz\n",
      "/scratch/projects/HTAPP_MBC//phase2/pipeline/fastq/10x/2019_04_08_HY3GYCCXY_10x/HY3GYCCXY/HTAPP-before-SMP-iso_TST_channel1/HTAPP-before-SMP-iso_TST_channel1_S6_L006_R2_001.fastq.gz\n"
     ]
    }
   ],
   "source": [
    "sheetL1[,c(\"Valid_Barcodes_Cell_Number\",\"Sequencing_Platform\",\"cDNA_Length\"):=ifelse(`Read Indicator`==\"R2\",list(get_fastq_info(filepath,\"R2\")),list(list(\"\",\"\",\"\")))[[1]],by=1:nrow(sheetL1)]"
   ]
  },
  {
   "cell_type": "code",
   "execution_count": 138,
   "metadata": {},
   "outputs": [],
   "source": [
    "sheetL1=sheetL1[!duplicated(Filename)] #reduce to one entry per fastq file\n",
    "sheetL1[,run:=gsub(\"_R[12]_.*\",\"\",Filename),by=1:nrow(sheetL1)]"
   ]
  },
  {
   "cell_type": "code",
   "execution_count": 139,
   "metadata": {},
   "outputs": [],
   "source": [
    "sheetL1[,Valid_Barcodes_Cell_Number:=Valid_Barcodes_Cell_Number[`Read Indicator`==\"R2\"],by=\"run\"]\n",
    "sheetL1[,Valid_Barcodes_Cell_Number:=as.numeric(Valid_Barcodes_Cell_Number)/4,]\n",
    "sheetL1[,Sequencing_Platform:=Sequencing_Platform[`Read Indicator`==\"R2\"],by=\"run\"]"
   ]
  },
  {
   "cell_type": "code",
   "execution_count": 140,
   "metadata": {},
   "outputs": [
    {
     "data": {
      "text/html": [
       "<table>\n",
       "<caption>A data.table: 6 x 75</caption>\n",
       "<thead>\n",
       "\t<tr><th scope=col>sample_name</th><th scope=col>Component</th><th scope=col>Filename</th><th scope=col>File Format</th><th scope=col>HTAN Parent Biospecimen ID</th><th scope=col>HTAN Data File ID</th><th scope=col>Nucleic Acid Source</th><th scope=col>Cryopreserved Cells in Sample</th><th scope=col>Single Cell Isolation Method</th><th scope=col>Dissociation Method</th><th scope=col>Library Construction Method</th><th scope=col>Read Indicator</th><th scope=col>Read1</th><th scope=col>Read2</th><th scope=col>End Bias</th><th scope=col>Reverse Transcription Primer</th><th scope=col>Spike In</th><th scope=col>Sequencing Platform</th><th scope=col>Total Number of Input Cells</th><th scope=col>Input Cells and Nuclei</th><th scope=col>Library Preparation Days from Index</th><th scope=col>Single Cell Dissociation Days from Index</th><th scope=col>Sequencing Library Construction Days from Index</th><th scope=col>Nucleic Acid Capture Days from Index</th><th scope=col>Protocol Link</th><th scope=col>Technical Replicate Group</th><th scope=col>Both Spike in Mixes</th><th scope=col>Cell Barcode Length</th><th scope=col>Cell Barcode Offset</th><th scope=col>Empty Well Barcode</th><th scope=col>Feature Reference Id</th><th scope=col>Median UMIs per Cell Number</th><th scope=col>Spike In Concentration</th><th scope=col>Spike In Mix 1</th><th scope=col>Spike In Mix 2</th><th scope=col>UMI Barcode Length</th><th scope=col>UMI Barcode Offset</th><th scope=col>Valid Barcodes Cell Number</th><th scope=col>Well Index</th><th scope=col>cDNA Length</th><th scope=col>cDNA Offset</th><th scope=col>file</th><th scope=col>filepath</th><th scope=col>Quality</th><th scope=col>Order</th><th scope=col>run status</th><th scope=col>Note</th><th scope=col>date</th><th scope=col>run_pipeline</th><th scope=col>Channel Name</th><th scope=col>sampleid</th><th scope=col>condition</th><th scope=col>replicate</th><th scope=col>Lane</th><th scope=col>Index</th><th scope=col>cancer</th><th scope=col>site</th><th scope=col>reference</th><th scope=col>chemistry</th><th scope=col>flowcell</th><th scope=col>seq_dir</th><th scope=col>mode</th><th scope=col>min_umis</th><th scope=col>min_genes</th><th scope=col>percent_mito</th><th scope=col>expected_cells</th><th scope=col>total_droplets</th><th scope=col>z_dim</th><th scope=col>z_layers</th><th scope=col>channel_id_match</th><th scope=col>site_group</th><th scope=col>Valid_Barcodes_Cell_Number</th><th scope=col>Sequencing_Platform</th><th scope=col>cDNA_Length</th><th scope=col>run</th></tr>\n",
       "\t<tr><th scope=col>&lt;chr&gt;</th><th scope=col>&lt;chr&gt;</th><th scope=col>&lt;chr&gt;</th><th scope=col>&lt;chr&gt;</th><th scope=col>&lt;lgl&gt;</th><th scope=col>&lt;lgl&gt;</th><th scope=col>&lt;chr&gt;</th><th scope=col>&lt;chr&gt;</th><th scope=col>&lt;chr&gt;</th><th scope=col>&lt;lgl&gt;</th><th scope=col>&lt;chr&gt;</th><th scope=col>&lt;chr&gt;</th><th scope=col>&lt;chr&gt;</th><th scope=col>&lt;chr&gt;</th><th scope=col>&lt;lgl&gt;</th><th scope=col>&lt;chr&gt;</th><th scope=col>&lt;chr&gt;</th><th scope=col>&lt;lgl&gt;</th><th scope=col>&lt;chr&gt;</th><th scope=col>&lt;lgl&gt;</th><th scope=col>&lt;lgl&gt;</th><th scope=col>&lt;lgl&gt;</th><th scope=col>&lt;lgl&gt;</th><th scope=col>&lt;lgl&gt;</th><th scope=col>&lt;lgl&gt;</th><th scope=col>&lt;lgl&gt;</th><th scope=col>&lt;lgl&gt;</th><th scope=col>&lt;chr&gt;</th><th scope=col>&lt;chr&gt;</th><th scope=col>&lt;lgl&gt;</th><th scope=col>&lt;lgl&gt;</th><th scope=col>&lt;lgl&gt;</th><th scope=col>&lt;lgl&gt;</th><th scope=col>&lt;lgl&gt;</th><th scope=col>&lt;lgl&gt;</th><th scope=col>&lt;chr&gt;</th><th scope=col>&lt;chr&gt;</th><th scope=col>&lt;lgl&gt;</th><th scope=col>&lt;lgl&gt;</th><th scope=col>&lt;lgl&gt;</th><th scope=col>&lt;lgl&gt;</th><th scope=col>&lt;chr&gt;</th><th scope=col>&lt;chr&gt;</th><th scope=col>&lt;chr&gt;</th><th scope=col>&lt;int&gt;</th><th scope=col>&lt;chr&gt;</th><th scope=col>&lt;chr&gt;</th><th scope=col>&lt;chr&gt;</th><th scope=col>&lt;lgl&gt;</th><th scope=col>&lt;chr&gt;</th><th scope=col>&lt;chr&gt;</th><th scope=col>&lt;chr&gt;</th><th scope=col>&lt;chr&gt;</th><th scope=col>&lt;chr&gt;</th><th scope=col>&lt;chr&gt;</th><th scope=col>&lt;chr&gt;</th><th scope=col>&lt;chr&gt;</th><th scope=col>&lt;chr&gt;</th><th scope=col>&lt;chr&gt;</th><th scope=col>&lt;chr&gt;</th><th scope=col>&lt;chr&gt;</th><th scope=col>&lt;chr&gt;</th><th scope=col>&lt;int&gt;</th><th scope=col>&lt;int&gt;</th><th scope=col>&lt;int&gt;</th><th scope=col>&lt;int&gt;</th><th scope=col>&lt;int&gt;</th><th scope=col>&lt;int&gt;</th><th scope=col>&lt;int&gt;</th><th scope=col>&lt;chr&gt;</th><th scope=col>&lt;chr&gt;</th><th scope=col>&lt;dbl&gt;</th><th scope=col>&lt;chr&gt;</th><th scope=col>&lt;chr&gt;</th><th scope=col>&lt;chr&gt;</th></tr>\n",
       "</thead>\n",
       "<tbody>\n",
       "\t<tr><td>HTAPP-806-SMP-6800_fresh_channel1</td><td>ScRNA-seqLevel1</td><td>single_cell_RNAseq_level_1_breast/HTAPP-806-SMP-6800_fresh_channel1_S3_L001_R1_001.fastq.gz</td><td>fastq</td><td>NA</td><td>NA</td><td>Single Cell</td><td>NA</td><td>NA</td><td>NA</td><td>10xV2</td><td>R1</td><td>NA</td><td>NA</td><td>NA</td><td>NA</td><td>NA</td><td>NA</td><td>NA</td><td>NA</td><td>NA</td><td>NA</td><td>NA</td><td>NA</td><td>NA</td><td>NA</td><td>NA</td><td>16</td><td>0 </td><td>NA</td><td>NA</td><td>NA</td><td>NA</td><td>NA</td><td>NA</td><td>10</td><td>16</td><td>NA</td><td>NA</td><td>NA</td><td>NA</td><td>HTAPP-806-SMP-6800_fresh_channel1_S3_L001_R1_001.fastq.gz</td><td>/scratch/projects/HTAPP_MBC//phase2/pipeline/fastq/10x/2018_07_29_HCMKLBGX7_10x/HCMKLBGX7/HTAPP-806-SMP-6800_fresh_channel1/HTAPP-806-SMP-6800_fresh_channel1_S3_L001_R1_001.fastq.gz</td><td>NA</td><td> 3</td><td>done3</td><td>NA</td><td>2018_07_29</td><td>FALSE</td><td>0300553_T2_1</td><td>HTAPP-806-SMP-6800</td><td>fresh</td><td>channel1</td><td>4-Jan</td><td>SI-GA-D3</td><td>breast</td><td>left breast</td><td>GRCh38_v3.0.0</td><td>threeprime</td><td>HCMKLBGX7</td><td>/tmp/fc_tmp/180720_NB501337_0482_AHCMKLBGX7</td><td>V2</td><td>0</td><td>0</td><td>60</td><td> 100</td><td>10000</td><td>200</td><td>1000</td><td>HTAPP-806-SMP-6800-fresh-channel1</td><td>breast</td><td>32428986</td><td>NextSeq</td><td>  </td><td>single_cell_RNAseq_level_1_breast/HTAPP-806-SMP-6800_fresh_channel1_S3_L001</td></tr>\n",
       "\t<tr><td>HTAPP-806-SMP-6800_fresh_channel1</td><td>ScRNA-seqLevel1</td><td>single_cell_RNAseq_level_1_breast/HTAPP-806-SMP-6800_fresh_channel1_S3_L001_R2_001.fastq.gz</td><td>fastq</td><td>NA</td><td>NA</td><td>Single Cell</td><td>NA</td><td>NA</td><td>NA</td><td>10xV2</td><td>R2</td><td>NA</td><td>NA</td><td>NA</td><td>NA</td><td>NA</td><td>NA</td><td>NA</td><td>NA</td><td>NA</td><td>NA</td><td>NA</td><td>NA</td><td>NA</td><td>NA</td><td>NA</td><td>NA</td><td>NA</td><td>NA</td><td>NA</td><td>NA</td><td>NA</td><td>NA</td><td>NA</td><td>NA</td><td>NA</td><td>NA</td><td>NA</td><td>NA</td><td>NA</td><td>HTAPP-806-SMP-6800_fresh_channel1_S3_L001_R2_001.fastq.gz</td><td>/scratch/projects/HTAPP_MBC//phase2/pipeline/fastq/10x/2018_07_29_HCMKLBGX7_10x/HCMKLBGX7/HTAPP-806-SMP-6800_fresh_channel1/HTAPP-806-SMP-6800_fresh_channel1_S3_L001_R2_001.fastq.gz</td><td>NA</td><td> 3</td><td>done3</td><td>NA</td><td>2018_07_29</td><td>FALSE</td><td>0300553_T2_1</td><td>HTAPP-806-SMP-6800</td><td>fresh</td><td>channel1</td><td>4-Jan</td><td>SI-GA-D3</td><td>breast</td><td>left breast</td><td>GRCh38_v3.0.0</td><td>threeprime</td><td>HCMKLBGX7</td><td>/tmp/fc_tmp/180720_NB501337_0482_AHCMKLBGX7</td><td>V2</td><td>0</td><td>0</td><td>60</td><td> 100</td><td>10000</td><td>200</td><td>1000</td><td>HTAPP-806-SMP-6800-fresh-channel1</td><td>breast</td><td>32428986</td><td>NextSeq</td><td>55</td><td>single_cell_RNAseq_level_1_breast/HTAPP-806-SMP-6800_fresh_channel1_S3_L001</td></tr>\n",
       "\t<tr><td>HTAPP-806-SMP-6800_fresh_channel1</td><td>ScRNA-seqLevel1</td><td>single_cell_RNAseq_level_1_breast/HTAPP-806-SMP-6800_fresh_channel1_S3_L002_R1_001.fastq.gz</td><td>fastq</td><td>NA</td><td>NA</td><td>Single Cell</td><td>NA</td><td>NA</td><td>NA</td><td>10xV2</td><td>R1</td><td>NA</td><td>NA</td><td>NA</td><td>NA</td><td>NA</td><td>NA</td><td>NA</td><td>NA</td><td>NA</td><td>NA</td><td>NA</td><td>NA</td><td>NA</td><td>NA</td><td>NA</td><td>16</td><td>0 </td><td>NA</td><td>NA</td><td>NA</td><td>NA</td><td>NA</td><td>NA</td><td>10</td><td>16</td><td>NA</td><td>NA</td><td>NA</td><td>NA</td><td>HTAPP-806-SMP-6800_fresh_channel1_S3_L002_R1_001.fastq.gz</td><td>/scratch/projects/HTAPP_MBC//phase2/pipeline/fastq/10x/2018_07_29_HCMKLBGX7_10x/HCMKLBGX7/HTAPP-806-SMP-6800_fresh_channel1/HTAPP-806-SMP-6800_fresh_channel1_S3_L002_R1_001.fastq.gz</td><td>NA</td><td> 3</td><td>done3</td><td>NA</td><td>2018_07_29</td><td>FALSE</td><td>0300553_T2_1</td><td>HTAPP-806-SMP-6800</td><td>fresh</td><td>channel1</td><td>4-Jan</td><td>SI-GA-D3</td><td>breast</td><td>left breast</td><td>GRCh38_v3.0.0</td><td>threeprime</td><td>HCMKLBGX7</td><td>/tmp/fc_tmp/180720_NB501337_0482_AHCMKLBGX7</td><td>V2</td><td>0</td><td>0</td><td>60</td><td> 100</td><td>10000</td><td>200</td><td>1000</td><td>HTAPP-806-SMP-6800-fresh-channel1</td><td>breast</td><td>31631362</td><td>NextSeq</td><td>  </td><td>single_cell_RNAseq_level_1_breast/HTAPP-806-SMP-6800_fresh_channel1_S3_L002</td></tr>\n",
       "\t<tr><td>HTAPP-806-SMP-6800_fresh_channel1</td><td>ScRNA-seqLevel1</td><td>single_cell_RNAseq_level_1_breast/HTAPP-806-SMP-6800_fresh_channel1_S3_L002_R2_001.fastq.gz</td><td>fastq</td><td>NA</td><td>NA</td><td>Single Cell</td><td>NA</td><td>NA</td><td>NA</td><td>10xV2</td><td>R2</td><td>NA</td><td>NA</td><td>NA</td><td>NA</td><td>NA</td><td>NA</td><td>NA</td><td>NA</td><td>NA</td><td>NA</td><td>NA</td><td>NA</td><td>NA</td><td>NA</td><td>NA</td><td>NA</td><td>NA</td><td>NA</td><td>NA</td><td>NA</td><td>NA</td><td>NA</td><td>NA</td><td>NA</td><td>NA</td><td>NA</td><td>NA</td><td>NA</td><td>NA</td><td>HTAPP-806-SMP-6800_fresh_channel1_S3_L002_R2_001.fastq.gz</td><td>/scratch/projects/HTAPP_MBC//phase2/pipeline/fastq/10x/2018_07_29_HCMKLBGX7_10x/HCMKLBGX7/HTAPP-806-SMP-6800_fresh_channel1/HTAPP-806-SMP-6800_fresh_channel1_S3_L002_R2_001.fastq.gz</td><td>NA</td><td> 3</td><td>done3</td><td>NA</td><td>2018_07_29</td><td>FALSE</td><td>0300553_T2_1</td><td>HTAPP-806-SMP-6800</td><td>fresh</td><td>channel1</td><td>4-Jan</td><td>SI-GA-D3</td><td>breast</td><td>left breast</td><td>GRCh38_v3.0.0</td><td>threeprime</td><td>HCMKLBGX7</td><td>/tmp/fc_tmp/180720_NB501337_0482_AHCMKLBGX7</td><td>V2</td><td>0</td><td>0</td><td>60</td><td> 100</td><td>10000</td><td>200</td><td>1000</td><td>HTAPP-806-SMP-6800-fresh-channel1</td><td>breast</td><td>31631362</td><td>NextSeq</td><td>55</td><td>single_cell_RNAseq_level_1_breast/HTAPP-806-SMP-6800_fresh_channel1_S3_L002</td></tr>\n",
       "\t<tr><td>HTAPP-330-SMP-1082_fresh_channel1</td><td>ScRNA-seqLevel1</td><td>single_cell_RNAseq_level_1_breast/HTAPP-330-SMP-1082_fresh_channel1_S3_L004_R1_001.fastq.gz</td><td>fastq</td><td>NA</td><td>NA</td><td>Single Cell</td><td>NA</td><td>NA</td><td>NA</td><td>10xV3</td><td>R1</td><td>NA</td><td>NA</td><td>NA</td><td>NA</td><td>NA</td><td>NA</td><td>NA</td><td>NA</td><td>NA</td><td>NA</td><td>NA</td><td>NA</td><td>NA</td><td>NA</td><td>NA</td><td>16</td><td>0 </td><td>NA</td><td>NA</td><td>NA</td><td>NA</td><td>NA</td><td>NA</td><td>12</td><td>16</td><td>NA</td><td>NA</td><td>NA</td><td>NA</td><td>HTAPP-330-SMP-1082_fresh_channel1_S3_L004_R1_001.fastq.gz</td><td>/scratch/projects/HTAPP_MBC//phase2/pipeline/fastq/10x/2019_03_26_HY2K3CCXY_10x/HY2K3CCXY/HTAPP-330-SMP-1082_fresh_channel1/HTAPP-330-SMP-1082_fresh_channel1_S3_L004_R1_001.fastq.gz</td><td>NA</td><td>46</td><td>done2</td><td>NA</td><td>2019_03_26</td><td>FALSE</td><td>0300842_T1  </td><td>HTAPP-330-SMP-1082</td><td>fresh</td><td>channel1</td><td>4    </td><td>SI-GA-G6</td><td>breast</td><td>liver      </td><td>GRCh38_v3.0.0</td><td>SC3Pv3    </td><td>HY2K3CCXY</td><td>/transfer/190313_SL-HXN_0868_BFCHY2K3CCXY        </td><td>V3</td><td>0</td><td>0</td><td>60</td><td>2000</td><td>30000</td><td>200</td><td>1000</td><td>HTAPP-330-SMP-1082-fresh-channel1</td><td>liver </td><td>43914600</td><td>HiSeq X</td><td>  </td><td>single_cell_RNAseq_level_1_breast/HTAPP-330-SMP-1082_fresh_channel1_S3_L004</td></tr>\n",
       "\t<tr><td>HTAPP-330-SMP-1082_fresh_channel1</td><td>ScRNA-seqLevel1</td><td>single_cell_RNAseq_level_1_breast/HTAPP-330-SMP-1082_fresh_channel1_S3_L004_R2_001.fastq.gz</td><td>fastq</td><td>NA</td><td>NA</td><td>Single Cell</td><td>NA</td><td>NA</td><td>NA</td><td>10xV3</td><td>R2</td><td>NA</td><td>NA</td><td>NA</td><td>NA</td><td>NA</td><td>NA</td><td>NA</td><td>NA</td><td>NA</td><td>NA</td><td>NA</td><td>NA</td><td>NA</td><td>NA</td><td>NA</td><td>NA</td><td>NA</td><td>NA</td><td>NA</td><td>NA</td><td>NA</td><td>NA</td><td>NA</td><td>NA</td><td>NA</td><td>NA</td><td>NA</td><td>NA</td><td>NA</td><td>HTAPP-330-SMP-1082_fresh_channel1_S3_L004_R2_001.fastq.gz</td><td>/scratch/projects/HTAPP_MBC//phase2/pipeline/fastq/10x/2019_03_26_HY2K3CCXY_10x/HY2K3CCXY/HTAPP-330-SMP-1082_fresh_channel1/HTAPP-330-SMP-1082_fresh_channel1_S3_L004_R2_001.fastq.gz</td><td>NA</td><td>46</td><td>done2</td><td>NA</td><td>2019_03_26</td><td>FALSE</td><td>0300842_T1  </td><td>HTAPP-330-SMP-1082</td><td>fresh</td><td>channel1</td><td>4    </td><td>SI-GA-G6</td><td>breast</td><td>liver      </td><td>GRCh38_v3.0.0</td><td>SC3Pv3    </td><td>HY2K3CCXY</td><td>/transfer/190313_SL-HXN_0868_BFCHY2K3CCXY        </td><td>V3</td><td>0</td><td>0</td><td>60</td><td>2000</td><td>30000</td><td>200</td><td>1000</td><td>HTAPP-330-SMP-1082-fresh-channel1</td><td>liver </td><td>43914600</td><td>HiSeq X</td><td>96</td><td>single_cell_RNAseq_level_1_breast/HTAPP-330-SMP-1082_fresh_channel1_S3_L004</td></tr>\n",
       "</tbody>\n",
       "</table>\n"
      ],
      "text/latex": [
       "A data.table: 6 x 75\n",
       "\\begin{tabular}{r|lllllllllllllllllllllllllllllllllllllllllllllllllllllllllllllllllllllllllll}\n",
       " sample\\_name & Component & Filename & File Format & HTAN Parent Biospecimen ID & HTAN Data File ID & Nucleic Acid Source & Cryopreserved Cells in Sample & Single Cell Isolation Method & Dissociation Method & Library Construction Method & Read Indicator & Read1 & Read2 & End Bias & Reverse Transcription Primer & Spike In & Sequencing Platform & Total Number of Input Cells & Input Cells and Nuclei & Library Preparation Days from Index & Single Cell Dissociation Days from Index & Sequencing Library Construction Days from Index & Nucleic Acid Capture Days from Index & Protocol Link & Technical Replicate Group & Both Spike in Mixes & Cell Barcode Length & Cell Barcode Offset & Empty Well Barcode & Feature Reference Id & Median UMIs per Cell Number & Spike In Concentration & Spike In Mix 1 & Spike In Mix 2 & UMI Barcode Length & UMI Barcode Offset & Valid Barcodes Cell Number & Well Index & cDNA Length & cDNA Offset & file & filepath & Quality & Order & run status & Note & date & run\\_pipeline & Channel Name & sampleid & condition & replicate & Lane & Index & cancer & site & reference & chemistry & flowcell & seq\\_dir & mode & min\\_umis & min\\_genes & percent\\_mito & expected\\_cells & total\\_droplets & z\\_dim & z\\_layers & channel\\_id\\_match & site\\_group & Valid\\_Barcodes\\_Cell\\_Number & Sequencing\\_Platform & cDNA\\_Length & run\\\\\n",
       " <chr> & <chr> & <chr> & <chr> & <lgl> & <lgl> & <chr> & <chr> & <chr> & <lgl> & <chr> & <chr> & <chr> & <chr> & <lgl> & <chr> & <chr> & <lgl> & <chr> & <lgl> & <lgl> & <lgl> & <lgl> & <lgl> & <lgl> & <lgl> & <lgl> & <chr> & <chr> & <lgl> & <lgl> & <lgl> & <lgl> & <lgl> & <lgl> & <chr> & <chr> & <lgl> & <lgl> & <lgl> & <lgl> & <chr> & <chr> & <chr> & <int> & <chr> & <chr> & <chr> & <lgl> & <chr> & <chr> & <chr> & <chr> & <chr> & <chr> & <chr> & <chr> & <chr> & <chr> & <chr> & <chr> & <chr> & <int> & <int> & <int> & <int> & <int> & <int> & <int> & <chr> & <chr> & <dbl> & <chr> & <chr> & <chr>\\\\\n",
       "\\hline\n",
       "\t HTAPP-806-SMP-6800\\_fresh\\_channel1 & ScRNA-seqLevel1 & single\\_cell\\_RNAseq\\_level\\_1\\_breast/HTAPP-806-SMP-6800\\_fresh\\_channel1\\_S3\\_L001\\_R1\\_001.fastq.gz & fastq & NA & NA & Single Cell & NA & NA & NA & 10xV2 & R1 & NA & NA & NA & NA & NA & NA & NA & NA & NA & NA & NA & NA & NA & NA & NA & 16 & 0  & NA & NA & NA & NA & NA & NA & 10 & 16 & NA & NA & NA & NA & HTAPP-806-SMP-6800\\_fresh\\_channel1\\_S3\\_L001\\_R1\\_001.fastq.gz & /scratch/projects/HTAPP\\_MBC//phase2/pipeline/fastq/10x/2018\\_07\\_29\\_HCMKLBGX7\\_10x/HCMKLBGX7/HTAPP-806-SMP-6800\\_fresh\\_channel1/HTAPP-806-SMP-6800\\_fresh\\_channel1\\_S3\\_L001\\_R1\\_001.fastq.gz & NA &  3 & done3 & NA & 2018\\_07\\_29 & FALSE & 0300553\\_T2\\_1 & HTAPP-806-SMP-6800 & fresh & channel1 & 4-Jan & SI-GA-D3 & breast & left breast & GRCh38\\_v3.0.0 & threeprime & HCMKLBGX7 & /tmp/fc\\_tmp/180720\\_NB501337\\_0482\\_AHCMKLBGX7 & V2 & 0 & 0 & 60 &  100 & 10000 & 200 & 1000 & HTAPP-806-SMP-6800-fresh-channel1 & breast & 32428986 & NextSeq &    & single\\_cell\\_RNAseq\\_level\\_1\\_breast/HTAPP-806-SMP-6800\\_fresh\\_channel1\\_S3\\_L001\\\\\n",
       "\t HTAPP-806-SMP-6800\\_fresh\\_channel1 & ScRNA-seqLevel1 & single\\_cell\\_RNAseq\\_level\\_1\\_breast/HTAPP-806-SMP-6800\\_fresh\\_channel1\\_S3\\_L001\\_R2\\_001.fastq.gz & fastq & NA & NA & Single Cell & NA & NA & NA & 10xV2 & R2 & NA & NA & NA & NA & NA & NA & NA & NA & NA & NA & NA & NA & NA & NA & NA & NA & NA & NA & NA & NA & NA & NA & NA & NA & NA & NA & NA & NA & NA & HTAPP-806-SMP-6800\\_fresh\\_channel1\\_S3\\_L001\\_R2\\_001.fastq.gz & /scratch/projects/HTAPP\\_MBC//phase2/pipeline/fastq/10x/2018\\_07\\_29\\_HCMKLBGX7\\_10x/HCMKLBGX7/HTAPP-806-SMP-6800\\_fresh\\_channel1/HTAPP-806-SMP-6800\\_fresh\\_channel1\\_S3\\_L001\\_R2\\_001.fastq.gz & NA &  3 & done3 & NA & 2018\\_07\\_29 & FALSE & 0300553\\_T2\\_1 & HTAPP-806-SMP-6800 & fresh & channel1 & 4-Jan & SI-GA-D3 & breast & left breast & GRCh38\\_v3.0.0 & threeprime & HCMKLBGX7 & /tmp/fc\\_tmp/180720\\_NB501337\\_0482\\_AHCMKLBGX7 & V2 & 0 & 0 & 60 &  100 & 10000 & 200 & 1000 & HTAPP-806-SMP-6800-fresh-channel1 & breast & 32428986 & NextSeq & 55 & single\\_cell\\_RNAseq\\_level\\_1\\_breast/HTAPP-806-SMP-6800\\_fresh\\_channel1\\_S3\\_L001\\\\\n",
       "\t HTAPP-806-SMP-6800\\_fresh\\_channel1 & ScRNA-seqLevel1 & single\\_cell\\_RNAseq\\_level\\_1\\_breast/HTAPP-806-SMP-6800\\_fresh\\_channel1\\_S3\\_L002\\_R1\\_001.fastq.gz & fastq & NA & NA & Single Cell & NA & NA & NA & 10xV2 & R1 & NA & NA & NA & NA & NA & NA & NA & NA & NA & NA & NA & NA & NA & NA & NA & 16 & 0  & NA & NA & NA & NA & NA & NA & 10 & 16 & NA & NA & NA & NA & HTAPP-806-SMP-6800\\_fresh\\_channel1\\_S3\\_L002\\_R1\\_001.fastq.gz & /scratch/projects/HTAPP\\_MBC//phase2/pipeline/fastq/10x/2018\\_07\\_29\\_HCMKLBGX7\\_10x/HCMKLBGX7/HTAPP-806-SMP-6800\\_fresh\\_channel1/HTAPP-806-SMP-6800\\_fresh\\_channel1\\_S3\\_L002\\_R1\\_001.fastq.gz & NA &  3 & done3 & NA & 2018\\_07\\_29 & FALSE & 0300553\\_T2\\_1 & HTAPP-806-SMP-6800 & fresh & channel1 & 4-Jan & SI-GA-D3 & breast & left breast & GRCh38\\_v3.0.0 & threeprime & HCMKLBGX7 & /tmp/fc\\_tmp/180720\\_NB501337\\_0482\\_AHCMKLBGX7 & V2 & 0 & 0 & 60 &  100 & 10000 & 200 & 1000 & HTAPP-806-SMP-6800-fresh-channel1 & breast & 31631362 & NextSeq &    & single\\_cell\\_RNAseq\\_level\\_1\\_breast/HTAPP-806-SMP-6800\\_fresh\\_channel1\\_S3\\_L002\\\\\n",
       "\t HTAPP-806-SMP-6800\\_fresh\\_channel1 & ScRNA-seqLevel1 & single\\_cell\\_RNAseq\\_level\\_1\\_breast/HTAPP-806-SMP-6800\\_fresh\\_channel1\\_S3\\_L002\\_R2\\_001.fastq.gz & fastq & NA & NA & Single Cell & NA & NA & NA & 10xV2 & R2 & NA & NA & NA & NA & NA & NA & NA & NA & NA & NA & NA & NA & NA & NA & NA & NA & NA & NA & NA & NA & NA & NA & NA & NA & NA & NA & NA & NA & NA & HTAPP-806-SMP-6800\\_fresh\\_channel1\\_S3\\_L002\\_R2\\_001.fastq.gz & /scratch/projects/HTAPP\\_MBC//phase2/pipeline/fastq/10x/2018\\_07\\_29\\_HCMKLBGX7\\_10x/HCMKLBGX7/HTAPP-806-SMP-6800\\_fresh\\_channel1/HTAPP-806-SMP-6800\\_fresh\\_channel1\\_S3\\_L002\\_R2\\_001.fastq.gz & NA &  3 & done3 & NA & 2018\\_07\\_29 & FALSE & 0300553\\_T2\\_1 & HTAPP-806-SMP-6800 & fresh & channel1 & 4-Jan & SI-GA-D3 & breast & left breast & GRCh38\\_v3.0.0 & threeprime & HCMKLBGX7 & /tmp/fc\\_tmp/180720\\_NB501337\\_0482\\_AHCMKLBGX7 & V2 & 0 & 0 & 60 &  100 & 10000 & 200 & 1000 & HTAPP-806-SMP-6800-fresh-channel1 & breast & 31631362 & NextSeq & 55 & single\\_cell\\_RNAseq\\_level\\_1\\_breast/HTAPP-806-SMP-6800\\_fresh\\_channel1\\_S3\\_L002\\\\\n",
       "\t HTAPP-330-SMP-1082\\_fresh\\_channel1 & ScRNA-seqLevel1 & single\\_cell\\_RNAseq\\_level\\_1\\_breast/HTAPP-330-SMP-1082\\_fresh\\_channel1\\_S3\\_L004\\_R1\\_001.fastq.gz & fastq & NA & NA & Single Cell & NA & NA & NA & 10xV3 & R1 & NA & NA & NA & NA & NA & NA & NA & NA & NA & NA & NA & NA & NA & NA & NA & 16 & 0  & NA & NA & NA & NA & NA & NA & 12 & 16 & NA & NA & NA & NA & HTAPP-330-SMP-1082\\_fresh\\_channel1\\_S3\\_L004\\_R1\\_001.fastq.gz & /scratch/projects/HTAPP\\_MBC//phase2/pipeline/fastq/10x/2019\\_03\\_26\\_HY2K3CCXY\\_10x/HY2K3CCXY/HTAPP-330-SMP-1082\\_fresh\\_channel1/HTAPP-330-SMP-1082\\_fresh\\_channel1\\_S3\\_L004\\_R1\\_001.fastq.gz & NA & 46 & done2 & NA & 2019\\_03\\_26 & FALSE & 0300842\\_T1   & HTAPP-330-SMP-1082 & fresh & channel1 & 4     & SI-GA-G6 & breast & liver       & GRCh38\\_v3.0.0 & SC3Pv3     & HY2K3CCXY & /transfer/190313\\_SL-HXN\\_0868\\_BFCHY2K3CCXY         & V3 & 0 & 0 & 60 & 2000 & 30000 & 200 & 1000 & HTAPP-330-SMP-1082-fresh-channel1 & liver  & 43914600 & HiSeq X &    & single\\_cell\\_RNAseq\\_level\\_1\\_breast/HTAPP-330-SMP-1082\\_fresh\\_channel1\\_S3\\_L004\\\\\n",
       "\t HTAPP-330-SMP-1082\\_fresh\\_channel1 & ScRNA-seqLevel1 & single\\_cell\\_RNAseq\\_level\\_1\\_breast/HTAPP-330-SMP-1082\\_fresh\\_channel1\\_S3\\_L004\\_R2\\_001.fastq.gz & fastq & NA & NA & Single Cell & NA & NA & NA & 10xV3 & R2 & NA & NA & NA & NA & NA & NA & NA & NA & NA & NA & NA & NA & NA & NA & NA & NA & NA & NA & NA & NA & NA & NA & NA & NA & NA & NA & NA & NA & NA & HTAPP-330-SMP-1082\\_fresh\\_channel1\\_S3\\_L004\\_R2\\_001.fastq.gz & /scratch/projects/HTAPP\\_MBC//phase2/pipeline/fastq/10x/2019\\_03\\_26\\_HY2K3CCXY\\_10x/HY2K3CCXY/HTAPP-330-SMP-1082\\_fresh\\_channel1/HTAPP-330-SMP-1082\\_fresh\\_channel1\\_S3\\_L004\\_R2\\_001.fastq.gz & NA & 46 & done2 & NA & 2019\\_03\\_26 & FALSE & 0300842\\_T1   & HTAPP-330-SMP-1082 & fresh & channel1 & 4     & SI-GA-G6 & breast & liver       & GRCh38\\_v3.0.0 & SC3Pv3     & HY2K3CCXY & /transfer/190313\\_SL-HXN\\_0868\\_BFCHY2K3CCXY         & V3 & 0 & 0 & 60 & 2000 & 30000 & 200 & 1000 & HTAPP-330-SMP-1082-fresh-channel1 & liver  & 43914600 & HiSeq X & 96 & single\\_cell\\_RNAseq\\_level\\_1\\_breast/HTAPP-330-SMP-1082\\_fresh\\_channel1\\_S3\\_L004\\\\\n",
       "\\end{tabular}\n"
      ],
      "text/markdown": [
       "\n",
       "A data.table: 6 x 75\n",
       "\n",
       "| sample_name &lt;chr&gt; | Component &lt;chr&gt; | Filename &lt;chr&gt; | File Format &lt;chr&gt; | HTAN Parent Biospecimen ID &lt;lgl&gt; | HTAN Data File ID &lt;lgl&gt; | Nucleic Acid Source &lt;chr&gt; | Cryopreserved Cells in Sample &lt;chr&gt; | Single Cell Isolation Method &lt;chr&gt; | Dissociation Method &lt;lgl&gt; | Library Construction Method &lt;chr&gt; | Read Indicator &lt;chr&gt; | Read1 &lt;chr&gt; | Read2 &lt;chr&gt; | End Bias &lt;lgl&gt; | Reverse Transcription Primer &lt;chr&gt; | Spike In &lt;chr&gt; | Sequencing Platform &lt;lgl&gt; | Total Number of Input Cells &lt;chr&gt; | Input Cells and Nuclei &lt;lgl&gt; | Library Preparation Days from Index &lt;lgl&gt; | Single Cell Dissociation Days from Index &lt;lgl&gt; | Sequencing Library Construction Days from Index &lt;lgl&gt; | Nucleic Acid Capture Days from Index &lt;lgl&gt; | Protocol Link &lt;lgl&gt; | Technical Replicate Group &lt;lgl&gt; | Both Spike in Mixes &lt;lgl&gt; | Cell Barcode Length &lt;chr&gt; | Cell Barcode Offset &lt;chr&gt; | Empty Well Barcode &lt;lgl&gt; | Feature Reference Id &lt;lgl&gt; | Median UMIs per Cell Number &lt;lgl&gt; | Spike In Concentration &lt;lgl&gt; | Spike In Mix 1 &lt;lgl&gt; | Spike In Mix 2 &lt;lgl&gt; | UMI Barcode Length &lt;chr&gt; | UMI Barcode Offset &lt;chr&gt; | Valid Barcodes Cell Number &lt;lgl&gt; | Well Index &lt;lgl&gt; | cDNA Length &lt;lgl&gt; | cDNA Offset &lt;lgl&gt; | file &lt;chr&gt; | filepath &lt;chr&gt; | Quality &lt;chr&gt; | Order &lt;int&gt; | run status &lt;chr&gt; | Note &lt;chr&gt; | date &lt;chr&gt; | run_pipeline &lt;lgl&gt; | Channel Name &lt;chr&gt; | sampleid &lt;chr&gt; | condition &lt;chr&gt; | replicate &lt;chr&gt; | Lane &lt;chr&gt; | Index &lt;chr&gt; | cancer &lt;chr&gt; | site &lt;chr&gt; | reference &lt;chr&gt; | chemistry &lt;chr&gt; | flowcell &lt;chr&gt; | seq_dir &lt;chr&gt; | mode &lt;chr&gt; | min_umis &lt;int&gt; | min_genes &lt;int&gt; | percent_mito &lt;int&gt; | expected_cells &lt;int&gt; | total_droplets &lt;int&gt; | z_dim &lt;int&gt; | z_layers &lt;int&gt; | channel_id_match &lt;chr&gt; | site_group &lt;chr&gt; | Valid_Barcodes_Cell_Number &lt;dbl&gt; | Sequencing_Platform &lt;chr&gt; | cDNA_Length &lt;chr&gt; | run &lt;chr&gt; |\n",
       "|---|---|---|---|---|---|---|---|---|---|---|---|---|---|---|---|---|---|---|---|---|---|---|---|---|---|---|---|---|---|---|---|---|---|---|---|---|---|---|---|---|---|---|---|---|---|---|---|---|---|---|---|---|---|---|---|---|---|---|---|---|---|---|---|---|---|---|---|---|---|---|---|---|---|---|\n",
       "| HTAPP-806-SMP-6800_fresh_channel1 | ScRNA-seqLevel1 | single_cell_RNAseq_level_1_breast/HTAPP-806-SMP-6800_fresh_channel1_S3_L001_R1_001.fastq.gz | fastq | NA | NA | Single Cell | NA | NA | NA | 10xV2 | R1 | NA | NA | NA | NA | NA | NA | NA | NA | NA | NA | NA | NA | NA | NA | NA | 16 | 0  | NA | NA | NA | NA | NA | NA | 10 | 16 | NA | NA | NA | NA | HTAPP-806-SMP-6800_fresh_channel1_S3_L001_R1_001.fastq.gz | /scratch/projects/HTAPP_MBC//phase2/pipeline/fastq/10x/2018_07_29_HCMKLBGX7_10x/HCMKLBGX7/HTAPP-806-SMP-6800_fresh_channel1/HTAPP-806-SMP-6800_fresh_channel1_S3_L001_R1_001.fastq.gz | NA |  3 | done3 | NA | 2018_07_29 | FALSE | 0300553_T2_1 | HTAPP-806-SMP-6800 | fresh | channel1 | 4-Jan | SI-GA-D3 | breast | left breast | GRCh38_v3.0.0 | threeprime | HCMKLBGX7 | /tmp/fc_tmp/180720_NB501337_0482_AHCMKLBGX7 | V2 | 0 | 0 | 60 |  100 | 10000 | 200 | 1000 | HTAPP-806-SMP-6800-fresh-channel1 | breast | 32428986 | NextSeq | <!----> | single_cell_RNAseq_level_1_breast/HTAPP-806-SMP-6800_fresh_channel1_S3_L001 |\n",
       "| HTAPP-806-SMP-6800_fresh_channel1 | ScRNA-seqLevel1 | single_cell_RNAseq_level_1_breast/HTAPP-806-SMP-6800_fresh_channel1_S3_L001_R2_001.fastq.gz | fastq | NA | NA | Single Cell | NA | NA | NA | 10xV2 | R2 | NA | NA | NA | NA | NA | NA | NA | NA | NA | NA | NA | NA | NA | NA | NA | NA | NA | NA | NA | NA | NA | NA | NA | NA | NA | NA | NA | NA | NA | HTAPP-806-SMP-6800_fresh_channel1_S3_L001_R2_001.fastq.gz | /scratch/projects/HTAPP_MBC//phase2/pipeline/fastq/10x/2018_07_29_HCMKLBGX7_10x/HCMKLBGX7/HTAPP-806-SMP-6800_fresh_channel1/HTAPP-806-SMP-6800_fresh_channel1_S3_L001_R2_001.fastq.gz | NA |  3 | done3 | NA | 2018_07_29 | FALSE | 0300553_T2_1 | HTAPP-806-SMP-6800 | fresh | channel1 | 4-Jan | SI-GA-D3 | breast | left breast | GRCh38_v3.0.0 | threeprime | HCMKLBGX7 | /tmp/fc_tmp/180720_NB501337_0482_AHCMKLBGX7 | V2 | 0 | 0 | 60 |  100 | 10000 | 200 | 1000 | HTAPP-806-SMP-6800-fresh-channel1 | breast | 32428986 | NextSeq | 55 | single_cell_RNAseq_level_1_breast/HTAPP-806-SMP-6800_fresh_channel1_S3_L001 |\n",
       "| HTAPP-806-SMP-6800_fresh_channel1 | ScRNA-seqLevel1 | single_cell_RNAseq_level_1_breast/HTAPP-806-SMP-6800_fresh_channel1_S3_L002_R1_001.fastq.gz | fastq | NA | NA | Single Cell | NA | NA | NA | 10xV2 | R1 | NA | NA | NA | NA | NA | NA | NA | NA | NA | NA | NA | NA | NA | NA | NA | 16 | 0  | NA | NA | NA | NA | NA | NA | 10 | 16 | NA | NA | NA | NA | HTAPP-806-SMP-6800_fresh_channel1_S3_L002_R1_001.fastq.gz | /scratch/projects/HTAPP_MBC//phase2/pipeline/fastq/10x/2018_07_29_HCMKLBGX7_10x/HCMKLBGX7/HTAPP-806-SMP-6800_fresh_channel1/HTAPP-806-SMP-6800_fresh_channel1_S3_L002_R1_001.fastq.gz | NA |  3 | done3 | NA | 2018_07_29 | FALSE | 0300553_T2_1 | HTAPP-806-SMP-6800 | fresh | channel1 | 4-Jan | SI-GA-D3 | breast | left breast | GRCh38_v3.0.0 | threeprime | HCMKLBGX7 | /tmp/fc_tmp/180720_NB501337_0482_AHCMKLBGX7 | V2 | 0 | 0 | 60 |  100 | 10000 | 200 | 1000 | HTAPP-806-SMP-6800-fresh-channel1 | breast | 31631362 | NextSeq | <!----> | single_cell_RNAseq_level_1_breast/HTAPP-806-SMP-6800_fresh_channel1_S3_L002 |\n",
       "| HTAPP-806-SMP-6800_fresh_channel1 | ScRNA-seqLevel1 | single_cell_RNAseq_level_1_breast/HTAPP-806-SMP-6800_fresh_channel1_S3_L002_R2_001.fastq.gz | fastq | NA | NA | Single Cell | NA | NA | NA | 10xV2 | R2 | NA | NA | NA | NA | NA | NA | NA | NA | NA | NA | NA | NA | NA | NA | NA | NA | NA | NA | NA | NA | NA | NA | NA | NA | NA | NA | NA | NA | NA | HTAPP-806-SMP-6800_fresh_channel1_S3_L002_R2_001.fastq.gz | /scratch/projects/HTAPP_MBC//phase2/pipeline/fastq/10x/2018_07_29_HCMKLBGX7_10x/HCMKLBGX7/HTAPP-806-SMP-6800_fresh_channel1/HTAPP-806-SMP-6800_fresh_channel1_S3_L002_R2_001.fastq.gz | NA |  3 | done3 | NA | 2018_07_29 | FALSE | 0300553_T2_1 | HTAPP-806-SMP-6800 | fresh | channel1 | 4-Jan | SI-GA-D3 | breast | left breast | GRCh38_v3.0.0 | threeprime | HCMKLBGX7 | /tmp/fc_tmp/180720_NB501337_0482_AHCMKLBGX7 | V2 | 0 | 0 | 60 |  100 | 10000 | 200 | 1000 | HTAPP-806-SMP-6800-fresh-channel1 | breast | 31631362 | NextSeq | 55 | single_cell_RNAseq_level_1_breast/HTAPP-806-SMP-6800_fresh_channel1_S3_L002 |\n",
       "| HTAPP-330-SMP-1082_fresh_channel1 | ScRNA-seqLevel1 | single_cell_RNAseq_level_1_breast/HTAPP-330-SMP-1082_fresh_channel1_S3_L004_R1_001.fastq.gz | fastq | NA | NA | Single Cell | NA | NA | NA | 10xV3 | R1 | NA | NA | NA | NA | NA | NA | NA | NA | NA | NA | NA | NA | NA | NA | NA | 16 | 0  | NA | NA | NA | NA | NA | NA | 12 | 16 | NA | NA | NA | NA | HTAPP-330-SMP-1082_fresh_channel1_S3_L004_R1_001.fastq.gz | /scratch/projects/HTAPP_MBC//phase2/pipeline/fastq/10x/2019_03_26_HY2K3CCXY_10x/HY2K3CCXY/HTAPP-330-SMP-1082_fresh_channel1/HTAPP-330-SMP-1082_fresh_channel1_S3_L004_R1_001.fastq.gz | NA | 46 | done2 | NA | 2019_03_26 | FALSE | 0300842_T1   | HTAPP-330-SMP-1082 | fresh | channel1 | 4     | SI-GA-G6 | breast | liver       | GRCh38_v3.0.0 | SC3Pv3     | HY2K3CCXY | /transfer/190313_SL-HXN_0868_BFCHY2K3CCXY         | V3 | 0 | 0 | 60 | 2000 | 30000 | 200 | 1000 | HTAPP-330-SMP-1082-fresh-channel1 | liver  | 43914600 | HiSeq X | <!----> | single_cell_RNAseq_level_1_breast/HTAPP-330-SMP-1082_fresh_channel1_S3_L004 |\n",
       "| HTAPP-330-SMP-1082_fresh_channel1 | ScRNA-seqLevel1 | single_cell_RNAseq_level_1_breast/HTAPP-330-SMP-1082_fresh_channel1_S3_L004_R2_001.fastq.gz | fastq | NA | NA | Single Cell | NA | NA | NA | 10xV3 | R2 | NA | NA | NA | NA | NA | NA | NA | NA | NA | NA | NA | NA | NA | NA | NA | NA | NA | NA | NA | NA | NA | NA | NA | NA | NA | NA | NA | NA | NA | HTAPP-330-SMP-1082_fresh_channel1_S3_L004_R2_001.fastq.gz | /scratch/projects/HTAPP_MBC//phase2/pipeline/fastq/10x/2019_03_26_HY2K3CCXY_10x/HY2K3CCXY/HTAPP-330-SMP-1082_fresh_channel1/HTAPP-330-SMP-1082_fresh_channel1_S3_L004_R2_001.fastq.gz | NA | 46 | done2 | NA | 2019_03_26 | FALSE | 0300842_T1   | HTAPP-330-SMP-1082 | fresh | channel1 | 4     | SI-GA-G6 | breast | liver       | GRCh38_v3.0.0 | SC3Pv3     | HY2K3CCXY | /transfer/190313_SL-HXN_0868_BFCHY2K3CCXY         | V3 | 0 | 0 | 60 | 2000 | 30000 | 200 | 1000 | HTAPP-330-SMP-1082-fresh-channel1 | liver  | 43914600 | HiSeq X | 96 | single_cell_RNAseq_level_1_breast/HTAPP-330-SMP-1082_fresh_channel1_S3_L004 |\n",
       "\n"
      ],
      "text/plain": [
       "  sample_name                       Component      \n",
       "1 HTAPP-806-SMP-6800_fresh_channel1 ScRNA-seqLevel1\n",
       "2 HTAPP-806-SMP-6800_fresh_channel1 ScRNA-seqLevel1\n",
       "3 HTAPP-806-SMP-6800_fresh_channel1 ScRNA-seqLevel1\n",
       "4 HTAPP-806-SMP-6800_fresh_channel1 ScRNA-seqLevel1\n",
       "5 HTAPP-330-SMP-1082_fresh_channel1 ScRNA-seqLevel1\n",
       "6 HTAPP-330-SMP-1082_fresh_channel1 ScRNA-seqLevel1\n",
       "  Filename                                                                                   \n",
       "1 single_cell_RNAseq_level_1_breast/HTAPP-806-SMP-6800_fresh_channel1_S3_L001_R1_001.fastq.gz\n",
       "2 single_cell_RNAseq_level_1_breast/HTAPP-806-SMP-6800_fresh_channel1_S3_L001_R2_001.fastq.gz\n",
       "3 single_cell_RNAseq_level_1_breast/HTAPP-806-SMP-6800_fresh_channel1_S3_L002_R1_001.fastq.gz\n",
       "4 single_cell_RNAseq_level_1_breast/HTAPP-806-SMP-6800_fresh_channel1_S3_L002_R2_001.fastq.gz\n",
       "5 single_cell_RNAseq_level_1_breast/HTAPP-330-SMP-1082_fresh_channel1_S3_L004_R1_001.fastq.gz\n",
       "6 single_cell_RNAseq_level_1_breast/HTAPP-330-SMP-1082_fresh_channel1_S3_L004_R2_001.fastq.gz\n",
       "  File Format HTAN Parent Biospecimen ID HTAN Data File ID Nucleic Acid Source\n",
       "1 fastq       NA                         NA                Single Cell        \n",
       "2 fastq       NA                         NA                Single Cell        \n",
       "3 fastq       NA                         NA                Single Cell        \n",
       "4 fastq       NA                         NA                Single Cell        \n",
       "5 fastq       NA                         NA                Single Cell        \n",
       "6 fastq       NA                         NA                Single Cell        \n",
       "  Cryopreserved Cells in Sample Single Cell Isolation Method\n",
       "1 NA                            NA                          \n",
       "2 NA                            NA                          \n",
       "3 NA                            NA                          \n",
       "4 NA                            NA                          \n",
       "5 NA                            NA                          \n",
       "6 NA                            NA                          \n",
       "  Dissociation Method Library Construction Method Read Indicator Read1 Read2\n",
       "1 NA                  10xV2                       R1             NA    NA   \n",
       "2 NA                  10xV2                       R2             NA    NA   \n",
       "3 NA                  10xV2                       R1             NA    NA   \n",
       "4 NA                  10xV2                       R2             NA    NA   \n",
       "5 NA                  10xV3                       R1             NA    NA   \n",
       "6 NA                  10xV3                       R2             NA    NA   \n",
       "  End Bias Reverse Transcription Primer Spike In Sequencing Platform\n",
       "1 NA       NA                           NA       NA                 \n",
       "2 NA       NA                           NA       NA                 \n",
       "3 NA       NA                           NA       NA                 \n",
       "4 NA       NA                           NA       NA                 \n",
       "5 NA       NA                           NA       NA                 \n",
       "6 NA       NA                           NA       NA                 \n",
       "  Total Number of Input Cells Input Cells and Nuclei\n",
       "1 NA                          NA                    \n",
       "2 NA                          NA                    \n",
       "3 NA                          NA                    \n",
       "4 NA                          NA                    \n",
       "5 NA                          NA                    \n",
       "6 NA                          NA                    \n",
       "  Library Preparation Days from Index Single Cell Dissociation Days from Index\n",
       "1 NA                                  NA                                      \n",
       "2 NA                                  NA                                      \n",
       "3 NA                                  NA                                      \n",
       "4 NA                                  NA                                      \n",
       "5 NA                                  NA                                      \n",
       "6 NA                                  NA                                      \n",
       "  Sequencing Library Construction Days from Index\n",
       "1 NA                                             \n",
       "2 NA                                             \n",
       "3 NA                                             \n",
       "4 NA                                             \n",
       "5 NA                                             \n",
       "6 NA                                             \n",
       "  Nucleic Acid Capture Days from Index Protocol Link Technical Replicate Group\n",
       "1 NA                                   NA            NA                       \n",
       "2 NA                                   NA            NA                       \n",
       "3 NA                                   NA            NA                       \n",
       "4 NA                                   NA            NA                       \n",
       "5 NA                                   NA            NA                       \n",
       "6 NA                                   NA            NA                       \n",
       "  Both Spike in Mixes Cell Barcode Length Cell Barcode Offset\n",
       "1 NA                  16                  0                  \n",
       "2 NA                  NA                  NA                 \n",
       "3 NA                  16                  0                  \n",
       "4 NA                  NA                  NA                 \n",
       "5 NA                  16                  0                  \n",
       "6 NA                  NA                  NA                 \n",
       "  Empty Well Barcode Feature Reference Id Median UMIs per Cell Number\n",
       "1 NA                 NA                   NA                         \n",
       "2 NA                 NA                   NA                         \n",
       "3 NA                 NA                   NA                         \n",
       "4 NA                 NA                   NA                         \n",
       "5 NA                 NA                   NA                         \n",
       "6 NA                 NA                   NA                         \n",
       "  Spike In Concentration Spike In Mix 1 Spike In Mix 2 UMI Barcode Length\n",
       "1 NA                     NA             NA             10                \n",
       "2 NA                     NA             NA             NA                \n",
       "3 NA                     NA             NA             10                \n",
       "4 NA                     NA             NA             NA                \n",
       "5 NA                     NA             NA             12                \n",
       "6 NA                     NA             NA             NA                \n",
       "  UMI Barcode Offset Valid Barcodes Cell Number Well Index cDNA Length\n",
       "1 16                 NA                         NA         NA         \n",
       "2 NA                 NA                         NA         NA         \n",
       "3 16                 NA                         NA         NA         \n",
       "4 NA                 NA                         NA         NA         \n",
       "5 16                 NA                         NA         NA         \n",
       "6 NA                 NA                         NA         NA         \n",
       "  cDNA Offset file                                                     \n",
       "1 NA          HTAPP-806-SMP-6800_fresh_channel1_S3_L001_R1_001.fastq.gz\n",
       "2 NA          HTAPP-806-SMP-6800_fresh_channel1_S3_L001_R2_001.fastq.gz\n",
       "3 NA          HTAPP-806-SMP-6800_fresh_channel1_S3_L002_R1_001.fastq.gz\n",
       "4 NA          HTAPP-806-SMP-6800_fresh_channel1_S3_L002_R2_001.fastq.gz\n",
       "5 NA          HTAPP-330-SMP-1082_fresh_channel1_S3_L004_R1_001.fastq.gz\n",
       "6 NA          HTAPP-330-SMP-1082_fresh_channel1_S3_L004_R2_001.fastq.gz\n",
       "  filepath                                                                                                                                                                                   \n",
       "1 /scratch/projects/HTAPP_MBC//phase2/pipeline/fastq/10x/2018_07_29_HCMKLBGX7_10x/HCMKLBGX7/HTAPP-806-SMP-6800_fresh_channel1/HTAPP-806-SMP-6800_fresh_channel1_S3_L001_R1_001.fastq.gz\n",
       "2 /scratch/projects/HTAPP_MBC//phase2/pipeline/fastq/10x/2018_07_29_HCMKLBGX7_10x/HCMKLBGX7/HTAPP-806-SMP-6800_fresh_channel1/HTAPP-806-SMP-6800_fresh_channel1_S3_L001_R2_001.fastq.gz\n",
       "3 /scratch/projects/HTAPP_MBC//phase2/pipeline/fastq/10x/2018_07_29_HCMKLBGX7_10x/HCMKLBGX7/HTAPP-806-SMP-6800_fresh_channel1/HTAPP-806-SMP-6800_fresh_channel1_S3_L002_R1_001.fastq.gz\n",
       "4 /scratch/projects/HTAPP_MBC//phase2/pipeline/fastq/10x/2018_07_29_HCMKLBGX7_10x/HCMKLBGX7/HTAPP-806-SMP-6800_fresh_channel1/HTAPP-806-SMP-6800_fresh_channel1_S3_L002_R2_001.fastq.gz\n",
       "5 /scratch/projects/HTAPP_MBC//phase2/pipeline/fastq/10x/2019_03_26_HY2K3CCXY_10x/HY2K3CCXY/HTAPP-330-SMP-1082_fresh_channel1/HTAPP-330-SMP-1082_fresh_channel1_S3_L004_R1_001.fastq.gz\n",
       "6 /scratch/projects/HTAPP_MBC//phase2/pipeline/fastq/10x/2019_03_26_HY2K3CCXY_10x/HY2K3CCXY/HTAPP-330-SMP-1082_fresh_channel1/HTAPP-330-SMP-1082_fresh_channel1_S3_L004_R2_001.fastq.gz\n",
       "  Quality Order run status Note date       run_pipeline Channel Name\n",
       "1 NA       3    done3      NA   2018_07_29 FALSE        0300553_T2_1\n",
       "2 NA       3    done3      NA   2018_07_29 FALSE        0300553_T2_1\n",
       "3 NA       3    done3      NA   2018_07_29 FALSE        0300553_T2_1\n",
       "4 NA       3    done3      NA   2018_07_29 FALSE        0300553_T2_1\n",
       "5 NA      46    done2      NA   2019_03_26 FALSE        0300842_T1  \n",
       "6 NA      46    done2      NA   2019_03_26 FALSE        0300842_T1  \n",
       "  sampleid           condition replicate Lane  Index    cancer site       \n",
       "1 HTAPP-806-SMP-6800 fresh     channel1  4-Jan SI-GA-D3 breast left breast\n",
       "2 HTAPP-806-SMP-6800 fresh     channel1  4-Jan SI-GA-D3 breast left breast\n",
       "3 HTAPP-806-SMP-6800 fresh     channel1  4-Jan SI-GA-D3 breast left breast\n",
       "4 HTAPP-806-SMP-6800 fresh     channel1  4-Jan SI-GA-D3 breast left breast\n",
       "5 HTAPP-330-SMP-1082 fresh     channel1  4     SI-GA-G6 breast liver      \n",
       "6 HTAPP-330-SMP-1082 fresh     channel1  4     SI-GA-G6 breast liver      \n",
       "  reference     chemistry  flowcell \n",
       "1 GRCh38_v3.0.0 threeprime HCMKLBGX7\n",
       "2 GRCh38_v3.0.0 threeprime HCMKLBGX7\n",
       "3 GRCh38_v3.0.0 threeprime HCMKLBGX7\n",
       "4 GRCh38_v3.0.0 threeprime HCMKLBGX7\n",
       "5 GRCh38_v3.0.0 SC3Pv3     HY2K3CCXY\n",
       "6 GRCh38_v3.0.0 SC3Pv3     HY2K3CCXY\n",
       "  seq_dir                                                         mode min_umis\n",
       "1 /tmp/fc_tmp/180720_NB501337_0482_AHCMKLBGX7 V2   0       \n",
       "2 /tmp/fc_tmp/180720_NB501337_0482_AHCMKLBGX7 V2   0       \n",
       "3 /tmp/fc_tmp/180720_NB501337_0482_AHCMKLBGX7 V2   0       \n",
       "4 /tmp/fc_tmp/180720_NB501337_0482_AHCMKLBGX7 V2   0       \n",
       "5 /transfer/190313_SL-HXN_0868_BFCHY2K3CCXY         V3   0       \n",
       "6 /transfer/190313_SL-HXN_0868_BFCHY2K3CCXY         V3   0       \n",
       "  min_genes percent_mito expected_cells total_droplets z_dim z_layers\n",
       "1 0         60            100           10000          200   1000    \n",
       "2 0         60            100           10000          200   1000    \n",
       "3 0         60            100           10000          200   1000    \n",
       "4 0         60            100           10000          200   1000    \n",
       "5 0         60           2000           30000          200   1000    \n",
       "6 0         60           2000           30000          200   1000    \n",
       "  channel_id_match                  site_group Valid_Barcodes_Cell_Number\n",
       "1 HTAPP-806-SMP-6800-fresh-channel1 breast     32428986                  \n",
       "2 HTAPP-806-SMP-6800-fresh-channel1 breast     32428986                  \n",
       "3 HTAPP-806-SMP-6800-fresh-channel1 breast     31631362                  \n",
       "4 HTAPP-806-SMP-6800-fresh-channel1 breast     31631362                  \n",
       "5 HTAPP-330-SMP-1082-fresh-channel1 liver      43914600                  \n",
       "6 HTAPP-330-SMP-1082-fresh-channel1 liver      43914600                  \n",
       "  Sequencing_Platform cDNA_Length\n",
       "1 NextSeq                        \n",
       "2 NextSeq             55         \n",
       "3 NextSeq                        \n",
       "4 NextSeq             55         \n",
       "5 HiSeq X                        \n",
       "6 HiSeq X             96         \n",
       "  run                                                                        \n",
       "1 single_cell_RNAseq_level_1_breast/HTAPP-806-SMP-6800_fresh_channel1_S3_L001\n",
       "2 single_cell_RNAseq_level_1_breast/HTAPP-806-SMP-6800_fresh_channel1_S3_L001\n",
       "3 single_cell_RNAseq_level_1_breast/HTAPP-806-SMP-6800_fresh_channel1_S3_L002\n",
       "4 single_cell_RNAseq_level_1_breast/HTAPP-806-SMP-6800_fresh_channel1_S3_L002\n",
       "5 single_cell_RNAseq_level_1_breast/HTAPP-330-SMP-1082_fresh_channel1_S3_L004\n",
       "6 single_cell_RNAseq_level_1_breast/HTAPP-330-SMP-1082_fresh_channel1_S3_L004"
      ]
     },
     "metadata": {},
     "output_type": "display_data"
    }
   ],
   "source": [
    "head(sheetL1)"
   ]
  },
  {
   "cell_type": "code",
   "execution_count": 21,
   "metadata": {},
   "outputs": [
    {
     "data": {
      "text/html": [
       "<table>\n",
       "<caption>A data.table: 6 x 75</caption>\n",
       "<thead>\n",
       "\t<tr><th scope=col>sample_name</th><th scope=col>Component</th><th scope=col>Filename</th><th scope=col>File Format</th><th scope=col>HTAN Parent Biospecimen ID</th><th scope=col>HTAN Data File ID</th><th scope=col>Nucleic Acid Source</th><th scope=col>Cryopreserved Cells in Sample</th><th scope=col>Single Cell Isolation Method</th><th scope=col>Dissociation Method</th><th scope=col>Library Construction Method</th><th scope=col>Read Indicator</th><th scope=col>Read1</th><th scope=col>Read2</th><th scope=col>End Bias</th><th scope=col>Reverse Transcription Primer</th><th scope=col>Spike In</th><th scope=col>Sequencing Platform</th><th scope=col>Total Number of Input Cells</th><th scope=col>Input Cells and Nuclei</th><th scope=col>Library Preparation Days from Index</th><th scope=col>Single Cell Dissociation Days from Index</th><th scope=col>Sequencing Library Construction Days from Index</th><th scope=col>Nucleic Acid Capture Days from Index</th><th scope=col>Protocol Link</th><th scope=col>Technical Replicate Group</th><th scope=col>Both Spike in Mixes</th><th scope=col>Cell Barcode Length</th><th scope=col>Cell Barcode Offset</th><th scope=col>Empty Well Barcode</th><th scope=col>Feature Reference Id</th><th scope=col>Median UMIs per Cell Number</th><th scope=col>Spike In Concentration</th><th scope=col>Spike In Mix 1</th><th scope=col>Spike In Mix 2</th><th scope=col>UMI Barcode Length</th><th scope=col>UMI Barcode Offset</th><th scope=col>Valid Barcodes Cell Number</th><th scope=col>Well Index</th><th scope=col>cDNA Length</th><th scope=col>cDNA Offset</th><th scope=col>file</th><th scope=col>filepath</th><th scope=col>Quality</th><th scope=col>Order</th><th scope=col>run status</th><th scope=col>Note</th><th scope=col>date</th><th scope=col>run_pipeline</th><th scope=col>Channel Name</th><th scope=col>sampleid</th><th scope=col>condition</th><th scope=col>replicate</th><th scope=col>Lane</th><th scope=col>Index</th><th scope=col>cancer</th><th scope=col>site</th><th scope=col>reference</th><th scope=col>chemistry</th><th scope=col>flowcell</th><th scope=col>seq_dir</th><th scope=col>mode</th><th scope=col>min_umis</th><th scope=col>min_genes</th><th scope=col>percent_mito</th><th scope=col>expected_cells</th><th scope=col>total_droplets</th><th scope=col>z_dim</th><th scope=col>z_layers</th><th scope=col>channel_id_match</th><th scope=col>site_group</th><th scope=col>Valid_Barcodes_Cell_Number</th><th scope=col>Sequencing_Platform</th><th scope=col>cDNA_Length</th><th scope=col>run</th></tr>\n",
       "\t<tr><th scope=col>&lt;chr&gt;</th><th scope=col>&lt;chr&gt;</th><th scope=col>&lt;chr&gt;</th><th scope=col>&lt;chr&gt;</th><th scope=col>&lt;lgl&gt;</th><th scope=col>&lt;lgl&gt;</th><th scope=col>&lt;chr&gt;</th><th scope=col>&lt;chr&gt;</th><th scope=col>&lt;chr&gt;</th><th scope=col>&lt;lgl&gt;</th><th scope=col>&lt;chr&gt;</th><th scope=col>&lt;chr&gt;</th><th scope=col>&lt;chr&gt;</th><th scope=col>&lt;chr&gt;</th><th scope=col>&lt;lgl&gt;</th><th scope=col>&lt;chr&gt;</th><th scope=col>&lt;chr&gt;</th><th scope=col>&lt;lgl&gt;</th><th scope=col>&lt;chr&gt;</th><th scope=col>&lt;lgl&gt;</th><th scope=col>&lt;lgl&gt;</th><th scope=col>&lt;lgl&gt;</th><th scope=col>&lt;lgl&gt;</th><th scope=col>&lt;lgl&gt;</th><th scope=col>&lt;lgl&gt;</th><th scope=col>&lt;lgl&gt;</th><th scope=col>&lt;lgl&gt;</th><th scope=col>&lt;int&gt;</th><th scope=col>&lt;int&gt;</th><th scope=col>&lt;lgl&gt;</th><th scope=col>&lt;lgl&gt;</th><th scope=col>&lt;lgl&gt;</th><th scope=col>&lt;lgl&gt;</th><th scope=col>&lt;lgl&gt;</th><th scope=col>&lt;lgl&gt;</th><th scope=col>&lt;int&gt;</th><th scope=col>&lt;int&gt;</th><th scope=col>&lt;lgl&gt;</th><th scope=col>&lt;lgl&gt;</th><th scope=col>&lt;lgl&gt;</th><th scope=col>&lt;lgl&gt;</th><th scope=col>&lt;chr&gt;</th><th scope=col>&lt;chr&gt;</th><th scope=col>&lt;chr&gt;</th><th scope=col>&lt;int&gt;</th><th scope=col>&lt;chr&gt;</th><th scope=col>&lt;chr&gt;</th><th scope=col>&lt;chr&gt;</th><th scope=col>&lt;lgl&gt;</th><th scope=col>&lt;chr&gt;</th><th scope=col>&lt;chr&gt;</th><th scope=col>&lt;chr&gt;</th><th scope=col>&lt;chr&gt;</th><th scope=col>&lt;chr&gt;</th><th scope=col>&lt;chr&gt;</th><th scope=col>&lt;chr&gt;</th><th scope=col>&lt;chr&gt;</th><th scope=col>&lt;chr&gt;</th><th scope=col>&lt;chr&gt;</th><th scope=col>&lt;chr&gt;</th><th scope=col>&lt;chr&gt;</th><th scope=col>&lt;chr&gt;</th><th scope=col>&lt;int&gt;</th><th scope=col>&lt;int&gt;</th><th scope=col>&lt;int&gt;</th><th scope=col>&lt;int&gt;</th><th scope=col>&lt;int&gt;</th><th scope=col>&lt;int&gt;</th><th scope=col>&lt;int&gt;</th><th scope=col>&lt;chr&gt;</th><th scope=col>&lt;chr&gt;</th><th scope=col>&lt;dbl&gt;</th><th scope=col>&lt;chr&gt;</th><th scope=col>&lt;int&gt;</th><th scope=col>&lt;chr&gt;</th></tr>\n",
       "</thead>\n",
       "<tbody>\n",
       "\t<tr><td>HTAPP-211-SMP-6751_TST_channel1</td><td>ScRNA-seqLevel1</td><td>single_cell_RNAseq_level_1_breast/HTAPP-211-SMP-6751_TST_channel1_S1_L001_R1_001.fastq.gz</td><td>fastq</td><td>NA</td><td>NA</td><td>Single Nucleus</td><td>No</td><td>10x</td><td>NA</td><td>10xV3</td><td>R1</td><td>Cell Barcode and UMI</td><td>cDNA</td><td>NA</td><td>Poly-dT</td><td>No Spike In</td><td>NA</td><td>Not Applicable</td><td>NA</td><td>NA</td><td>NA</td><td>NA</td><td>NA</td><td>NA</td><td>NA</td><td>NA</td><td>16</td><td> 0</td><td>NA</td><td>NA</td><td>NA</td><td>NA</td><td>NA</td><td>NA</td><td>12</td><td>16</td><td>NA</td><td>NA</td><td>NA</td><td>NA</td><td>HTAPP-211-SMP-6751_TST_channel1_S1_L001_R1_001.fastq.gz</td><td>/scratch/projects/HTAPP_MBC//phase2/pipeline/fastq/10x/2019_04_02_HY3H7CCXY_10x/HY3H7CCXY/HTAPP-211-SMP-6751_TST_channel1/HTAPP-211-SMP-6751_TST_channel1_S1_L001_R1_001.fastq.gz</td><td></td><td>47</td><td>done1</td><td></td><td>2019_04_02</td><td>FALSE</td><td>0300628_T1_TST</td><td>HTAPP-211-SMP-6751</td><td>TST</td><td>channel1</td><td>1</td><td>SI-GA-A1</td><td>breast</td><td>liver     </td><td>GRCh38_premrna_v3.0.0</td><td>SC3Pv3</td><td>HY3H7CCXY</td><td>/transfer/190330_SL-HXZ_0566_BFCHY3H7CCXY</td><td>V3</td><td>0</td><td>0</td><td>60</td><td>4000</td><td>30000</td><td>200</td><td>1000</td><td>HTAPP-211-SMP-6751-TST-channel1</td><td>liver</td><td>137691880</td><td>HiSeq X</td><td>NA</td><td>single_cell_RNAseq_level_1_breast/HTAPP-211-SMP-6751_TST_channel1_S1_L001</td></tr>\n",
       "\t<tr><td>HTAPP-211-SMP-6751_TST_channel1</td><td>               </td><td>single_cell_RNAseq_level_1_breast/HTAPP-211-SMP-6751_TST_channel1_S1_L001_R2_001.fastq.gz</td><td>fastq</td><td>NA</td><td>NA</td><td>Single Nucleus</td><td>  </td><td>   </td><td>NA</td><td>10xV3</td><td>R2</td><td>Cell Barcode and UMI</td><td>cDNA</td><td>NA</td><td>Poly-dT</td><td>No Spike In</td><td>NA</td><td>Not Applicable</td><td>NA</td><td>NA</td><td>NA</td><td>NA</td><td>NA</td><td>NA</td><td>NA</td><td>NA</td><td>NA</td><td>NA</td><td>NA</td><td>NA</td><td>NA</td><td>NA</td><td>NA</td><td>NA</td><td>NA</td><td>NA</td><td>NA</td><td>NA</td><td>NA</td><td>NA</td><td>HTAPP-211-SMP-6751_TST_channel1_S1_L001_R2_001.fastq.gz</td><td>/scratch/projects/HTAPP_MBC//phase2/pipeline/fastq/10x/2019_04_02_HY3H7CCXY_10x/HY3H7CCXY/HTAPP-211-SMP-6751_TST_channel1/HTAPP-211-SMP-6751_TST_channel1_S1_L001_R2_001.fastq.gz</td><td></td><td>47</td><td>done1</td><td></td><td>2019_04_02</td><td>FALSE</td><td>0300628_T1_TST</td><td>HTAPP-211-SMP-6751</td><td>TST</td><td>channel1</td><td>1</td><td>SI-GA-A1</td><td>breast</td><td>liver     </td><td>GRCh38_premrna_v3.0.0</td><td>SC3Pv3</td><td>HY3H7CCXY</td><td>/transfer/190330_SL-HXZ_0566_BFCHY3H7CCXY</td><td>V3</td><td>0</td><td>0</td><td>60</td><td>4000</td><td>30000</td><td>200</td><td>1000</td><td>HTAPP-211-SMP-6751-TST-channel1</td><td>liver</td><td>137691880</td><td>HiSeq X</td><td>98</td><td>single_cell_RNAseq_level_1_breast/HTAPP-211-SMP-6751_TST_channel1_S1_L001</td></tr>\n",
       "\t<tr><td>HTAPP-211-SMP-6751_TST_channel2</td><td>               </td><td>single_cell_RNAseq_level_1_breast/HTAPP-211-SMP-6751_TST_channel2_S2_L001_R1_001.fastq.gz</td><td>fastq</td><td>NA</td><td>NA</td><td>Single Nucleus</td><td>  </td><td>   </td><td>NA</td><td>10xV3</td><td>R1</td><td>                    </td><td>    </td><td>NA</td><td>       </td><td>           </td><td>NA</td><td>              </td><td>NA</td><td>NA</td><td>NA</td><td>NA</td><td>NA</td><td>NA</td><td>NA</td><td>NA</td><td>16</td><td> 0</td><td>NA</td><td>NA</td><td>NA</td><td>NA</td><td>NA</td><td>NA</td><td>12</td><td>16</td><td>NA</td><td>NA</td><td>NA</td><td>NA</td><td>HTAPP-211-SMP-6751_TST_channel2_S2_L001_R1_001.fastq.gz</td><td>/scratch/projects/HTAPP_MBC//phase2/pipeline/fastq/10x/2019_04_02_HY3H7CCXY_10x/HY3H7CCXY/HTAPP-211-SMP-6751_TST_channel2/HTAPP-211-SMP-6751_TST_channel2_S2_L001_R1_001.fastq.gz</td><td></td><td>48</td><td>done1</td><td></td><td>2019_04_02</td><td>FALSE</td><td>0300628_T1_TST</td><td>HTAPP-211-SMP-6751</td><td>TST</td><td>channel2</td><td>1</td><td>SI-GA-B1</td><td>breast</td><td>liver     </td><td>GRCh38_premrna_v3.0.0</td><td>SC3Pv3</td><td>HY3H7CCXY</td><td>/transfer/190330_SL-HXZ_0566_BFCHY3H7CCXY</td><td>V3</td><td>0</td><td>0</td><td>60</td><td>4000</td><td>30000</td><td>200</td><td>1000</td><td>HTAPP-211-SMP-6751-TST-channel2</td><td>liver</td><td>107522119</td><td>HiSeq X</td><td>NA</td><td>single_cell_RNAseq_level_1_breast/HTAPP-211-SMP-6751_TST_channel2_S2_L001</td></tr>\n",
       "\t<tr><td>HTAPP-211-SMP-6751_TST_channel2</td><td>               </td><td>single_cell_RNAseq_level_1_breast/HTAPP-211-SMP-6751_TST_channel2_S2_L001_R2_001.fastq.gz</td><td>fastq</td><td>NA</td><td>NA</td><td>Single Nucleus</td><td>  </td><td>   </td><td>NA</td><td>10xV3</td><td>R2</td><td>                    </td><td>    </td><td>NA</td><td>       </td><td>           </td><td>NA</td><td>              </td><td>NA</td><td>NA</td><td>NA</td><td>NA</td><td>NA</td><td>NA</td><td>NA</td><td>NA</td><td>NA</td><td>NA</td><td>NA</td><td>NA</td><td>NA</td><td>NA</td><td>NA</td><td>NA</td><td>NA</td><td>NA</td><td>NA</td><td>NA</td><td>NA</td><td>NA</td><td>HTAPP-211-SMP-6751_TST_channel2_S2_L001_R2_001.fastq.gz</td><td>/scratch/projects/HTAPP_MBC//phase2/pipeline/fastq/10x/2019_04_02_HY3H7CCXY_10x/HY3H7CCXY/HTAPP-211-SMP-6751_TST_channel2/HTAPP-211-SMP-6751_TST_channel2_S2_L001_R2_001.fastq.gz</td><td></td><td>48</td><td>done1</td><td></td><td>2019_04_02</td><td>FALSE</td><td>0300628_T1_TST</td><td>HTAPP-211-SMP-6751</td><td>TST</td><td>channel2</td><td>1</td><td>SI-GA-B1</td><td>breast</td><td>liver     </td><td>GRCh38_premrna_v3.0.0</td><td>SC3Pv3</td><td>HY3H7CCXY</td><td>/transfer/190330_SL-HXZ_0566_BFCHY3H7CCXY</td><td>V3</td><td>0</td><td>0</td><td>60</td><td>4000</td><td>30000</td><td>200</td><td>1000</td><td>HTAPP-211-SMP-6751-TST-channel2</td><td>liver</td><td>107522119</td><td>HiSeq X</td><td>98</td><td>single_cell_RNAseq_level_1_breast/HTAPP-211-SMP-6751_TST_channel2_S2_L001</td></tr>\n",
       "\t<tr><td>HTAPP-213-SMP-6752_TST_channel1</td><td>               </td><td>single_cell_RNAseq_level_1_breast/HTAPP-213-SMP-6752_TST_channel1_S3_L001_R1_001.fastq.gz</td><td>fastq</td><td>NA</td><td>NA</td><td>Single Nucleus</td><td>  </td><td>   </td><td>NA</td><td>10xV3</td><td>R1</td><td>                    </td><td>    </td><td>NA</td><td>       </td><td>           </td><td>NA</td><td>              </td><td>NA</td><td>NA</td><td>NA</td><td>NA</td><td>NA</td><td>NA</td><td>NA</td><td>NA</td><td>16</td><td> 0</td><td>NA</td><td>NA</td><td>NA</td><td>NA</td><td>NA</td><td>NA</td><td>12</td><td>16</td><td>NA</td><td>NA</td><td>NA</td><td>NA</td><td>HTAPP-213-SMP-6752_TST_channel1_S3_L001_R1_001.fastq.gz</td><td>/scratch/projects/HTAPP_MBC//phase2/pipeline/fastq/10x/2019_04_02_HY3H7CCXY_10x/HY3H7CCXY/HTAPP-213-SMP-6752_TST_channel1/HTAPP-213-SMP-6752_TST_channel1_S3_L001_R1_001.fastq.gz</td><td></td><td>49</td><td>done1</td><td></td><td>2019_04_02</td><td>FALSE</td><td>0300596_T1_TST</td><td>HTAPP-213-SMP-6752</td><td>TST</td><td>channel1</td><td>1</td><td>SI-GA-C1</td><td>breast</td><td>chest wall</td><td>GRCh38_premrna_v3.0.0</td><td>SC3Pv3</td><td>HY3H7CCXY</td><td>/transfer/190330_SL-HXZ_0566_BFCHY3H7CCXY</td><td>V3</td><td>0</td><td>0</td><td>60</td><td>4000</td><td>30000</td><td>200</td><td>1000</td><td>HTAPP-213-SMP-6752-TST-channel1</td><td>chest</td><td>109585772</td><td>HiSeq X</td><td>NA</td><td>single_cell_RNAseq_level_1_breast/HTAPP-213-SMP-6752_TST_channel1_S3_L001</td></tr>\n",
       "\t<tr><td>HTAPP-213-SMP-6752_TST_channel1</td><td>               </td><td>single_cell_RNAseq_level_1_breast/HTAPP-213-SMP-6752_TST_channel1_S3_L001_R2_001.fastq.gz</td><td>fastq</td><td>NA</td><td>NA</td><td>Single Nucleus</td><td>  </td><td>   </td><td>NA</td><td>10xV3</td><td>R2</td><td>                    </td><td>    </td><td>NA</td><td>       </td><td>           </td><td>NA</td><td>              </td><td>NA</td><td>NA</td><td>NA</td><td>NA</td><td>NA</td><td>NA</td><td>NA</td><td>NA</td><td>NA</td><td>NA</td><td>NA</td><td>NA</td><td>NA</td><td>NA</td><td>NA</td><td>NA</td><td>NA</td><td>NA</td><td>NA</td><td>NA</td><td>NA</td><td>NA</td><td>HTAPP-213-SMP-6752_TST_channel1_S3_L001_R2_001.fastq.gz</td><td>/scratch/projects/HTAPP_MBC//phase2/pipeline/fastq/10x/2019_04_02_HY3H7CCXY_10x/HY3H7CCXY/HTAPP-213-SMP-6752_TST_channel1/HTAPP-213-SMP-6752_TST_channel1_S3_L001_R2_001.fastq.gz</td><td></td><td>49</td><td>done1</td><td></td><td>2019_04_02</td><td>FALSE</td><td>0300596_T1_TST</td><td>HTAPP-213-SMP-6752</td><td>TST</td><td>channel1</td><td>1</td><td>SI-GA-C1</td><td>breast</td><td>chest wall</td><td>GRCh38_premrna_v3.0.0</td><td>SC3Pv3</td><td>HY3H7CCXY</td><td>/transfer/190330_SL-HXZ_0566_BFCHY3H7CCXY</td><td>V3</td><td>0</td><td>0</td><td>60</td><td>4000</td><td>30000</td><td>200</td><td>1000</td><td>HTAPP-213-SMP-6752-TST-channel1</td><td>chest</td><td>109585772</td><td>HiSeq X</td><td>98</td><td>single_cell_RNAseq_level_1_breast/HTAPP-213-SMP-6752_TST_channel1_S3_L001</td></tr>\n",
       "</tbody>\n",
       "</table>\n"
      ],
      "text/latex": [
       "A data.table: 6 x 75\n",
       "\\begin{tabular}{r|lllllllllllllllllllllllllllllllllllllllllllllllllllllllllllllllllllllllllll}\n",
       " sample\\_name & Component & Filename & File Format & HTAN Parent Biospecimen ID & HTAN Data File ID & Nucleic Acid Source & Cryopreserved Cells in Sample & Single Cell Isolation Method & Dissociation Method & Library Construction Method & Read Indicator & Read1 & Read2 & End Bias & Reverse Transcription Primer & Spike In & Sequencing Platform & Total Number of Input Cells & Input Cells and Nuclei & Library Preparation Days from Index & Single Cell Dissociation Days from Index & Sequencing Library Construction Days from Index & Nucleic Acid Capture Days from Index & Protocol Link & Technical Replicate Group & Both Spike in Mixes & Cell Barcode Length & Cell Barcode Offset & Empty Well Barcode & Feature Reference Id & Median UMIs per Cell Number & Spike In Concentration & Spike In Mix 1 & Spike In Mix 2 & UMI Barcode Length & UMI Barcode Offset & Valid Barcodes Cell Number & Well Index & cDNA Length & cDNA Offset & file & filepath & Quality & Order & run status & Note & date & run\\_pipeline & Channel Name & sampleid & condition & replicate & Lane & Index & cancer & site & reference & chemistry & flowcell & seq\\_dir & mode & min\\_umis & min\\_genes & percent\\_mito & expected\\_cells & total\\_droplets & z\\_dim & z\\_layers & channel\\_id\\_match & site\\_group & Valid\\_Barcodes\\_Cell\\_Number & Sequencing\\_Platform & cDNA\\_Length & run\\\\\n",
       " <chr> & <chr> & <chr> & <chr> & <lgl> & <lgl> & <chr> & <chr> & <chr> & <lgl> & <chr> & <chr> & <chr> & <chr> & <lgl> & <chr> & <chr> & <lgl> & <chr> & <lgl> & <lgl> & <lgl> & <lgl> & <lgl> & <lgl> & <lgl> & <lgl> & <int> & <int> & <lgl> & <lgl> & <lgl> & <lgl> & <lgl> & <lgl> & <int> & <int> & <lgl> & <lgl> & <lgl> & <lgl> & <chr> & <chr> & <chr> & <int> & <chr> & <chr> & <chr> & <lgl> & <chr> & <chr> & <chr> & <chr> & <chr> & <chr> & <chr> & <chr> & <chr> & <chr> & <chr> & <chr> & <chr> & <int> & <int> & <int> & <int> & <int> & <int> & <int> & <chr> & <chr> & <dbl> & <chr> & <int> & <chr>\\\\\n",
       "\\hline\n",
       "\t HTAPP-211-SMP-6751\\_TST\\_channel1 & ScRNA-seqLevel1 & single\\_cell\\_RNAseq\\_level\\_1\\_breast/HTAPP-211-SMP-6751\\_TST\\_channel1\\_S1\\_L001\\_R1\\_001.fastq.gz & fastq & NA & NA & Single Nucleus & No & 10x & NA & 10xV3 & R1 & Cell Barcode and UMI & cDNA & NA & Poly-dT & No Spike In & NA & Not Applicable & NA & NA & NA & NA & NA & NA & NA & NA & 16 &  0 & NA & NA & NA & NA & NA & NA & 12 & 16 & NA & NA & NA & NA & HTAPP-211-SMP-6751\\_TST\\_channel1\\_S1\\_L001\\_R1\\_001.fastq.gz & /scratch/projects/HTAPP\\_MBC//phase2/pipeline/fastq/10x/2019\\_04\\_02\\_HY3H7CCXY\\_10x/HY3H7CCXY/HTAPP-211-SMP-6751\\_TST\\_channel1/HTAPP-211-SMP-6751\\_TST\\_channel1\\_S1\\_L001\\_R1\\_001.fastq.gz &  & 47 & done1 &  & 2019\\_04\\_02 & FALSE & 0300628\\_T1\\_TST & HTAPP-211-SMP-6751 & TST & channel1 & 1 & SI-GA-A1 & breast & liver      & GRCh38\\_premrna\\_v3.0.0 & SC3Pv3 & HY3H7CCXY & /transfer/190330\\_SL-HXZ\\_0566\\_BFCHY3H7CCXY & V3 & 0 & 0 & 60 & 4000 & 30000 & 200 & 1000 & HTAPP-211-SMP-6751-TST-channel1 & liver & 137691880 & HiSeq X & NA & single\\_cell\\_RNAseq\\_level\\_1\\_breast/HTAPP-211-SMP-6751\\_TST\\_channel1\\_S1\\_L001\\\\\n",
       "\t HTAPP-211-SMP-6751\\_TST\\_channel1 &                 & single\\_cell\\_RNAseq\\_level\\_1\\_breast/HTAPP-211-SMP-6751\\_TST\\_channel1\\_S1\\_L001\\_R2\\_001.fastq.gz & fastq & NA & NA & Single Nucleus &    &     & NA & 10xV3 & R2 & Cell Barcode and UMI & cDNA & NA & Poly-dT & No Spike In & NA & Not Applicable & NA & NA & NA & NA & NA & NA & NA & NA & NA & NA & NA & NA & NA & NA & NA & NA & NA & NA & NA & NA & NA & NA & HTAPP-211-SMP-6751\\_TST\\_channel1\\_S1\\_L001\\_R2\\_001.fastq.gz & /scratch/projects/HTAPP\\_MBC//phase2/pipeline/fastq/10x/2019\\_04\\_02\\_HY3H7CCXY\\_10x/HY3H7CCXY/HTAPP-211-SMP-6751\\_TST\\_channel1/HTAPP-211-SMP-6751\\_TST\\_channel1\\_S1\\_L001\\_R2\\_001.fastq.gz &  & 47 & done1 &  & 2019\\_04\\_02 & FALSE & 0300628\\_T1\\_TST & HTAPP-211-SMP-6751 & TST & channel1 & 1 & SI-GA-A1 & breast & liver      & GRCh38\\_premrna\\_v3.0.0 & SC3Pv3 & HY3H7CCXY & /transfer/190330\\_SL-HXZ\\_0566\\_BFCHY3H7CCXY & V3 & 0 & 0 & 60 & 4000 & 30000 & 200 & 1000 & HTAPP-211-SMP-6751-TST-channel1 & liver & 137691880 & HiSeq X & 98 & single\\_cell\\_RNAseq\\_level\\_1\\_breast/HTAPP-211-SMP-6751\\_TST\\_channel1\\_S1\\_L001\\\\\n",
       "\t HTAPP-211-SMP-6751\\_TST\\_channel2 &                 & single\\_cell\\_RNAseq\\_level\\_1\\_breast/HTAPP-211-SMP-6751\\_TST\\_channel2\\_S2\\_L001\\_R1\\_001.fastq.gz & fastq & NA & NA & Single Nucleus &    &     & NA & 10xV3 & R1 &                      &      & NA &         &             & NA &                & NA & NA & NA & NA & NA & NA & NA & NA & 16 &  0 & NA & NA & NA & NA & NA & NA & 12 & 16 & NA & NA & NA & NA & HTAPP-211-SMP-6751\\_TST\\_channel2\\_S2\\_L001\\_R1\\_001.fastq.gz & /scratch/projects/HTAPP\\_MBC//phase2/pipeline/fastq/10x/2019\\_04\\_02\\_HY3H7CCXY\\_10x/HY3H7CCXY/HTAPP-211-SMP-6751\\_TST\\_channel2/HTAPP-211-SMP-6751\\_TST\\_channel2\\_S2\\_L001\\_R1\\_001.fastq.gz &  & 48 & done1 &  & 2019\\_04\\_02 & FALSE & 0300628\\_T1\\_TST & HTAPP-211-SMP-6751 & TST & channel2 & 1 & SI-GA-B1 & breast & liver      & GRCh38\\_premrna\\_v3.0.0 & SC3Pv3 & HY3H7CCXY & /transfer/190330\\_SL-HXZ\\_0566\\_BFCHY3H7CCXY & V3 & 0 & 0 & 60 & 4000 & 30000 & 200 & 1000 & HTAPP-211-SMP-6751-TST-channel2 & liver & 107522119 & HiSeq X & NA & single\\_cell\\_RNAseq\\_level\\_1\\_breast/HTAPP-211-SMP-6751\\_TST\\_channel2\\_S2\\_L001\\\\\n",
       "\t HTAPP-211-SMP-6751\\_TST\\_channel2 &                 & single\\_cell\\_RNAseq\\_level\\_1\\_breast/HTAPP-211-SMP-6751\\_TST\\_channel2\\_S2\\_L001\\_R2\\_001.fastq.gz & fastq & NA & NA & Single Nucleus &    &     & NA & 10xV3 & R2 &                      &      & NA &         &             & NA &                & NA & NA & NA & NA & NA & NA & NA & NA & NA & NA & NA & NA & NA & NA & NA & NA & NA & NA & NA & NA & NA & NA & HTAPP-211-SMP-6751\\_TST\\_channel2\\_S2\\_L001\\_R2\\_001.fastq.gz & /scratch/projects/HTAPP\\_MBC//phase2/pipeline/fastq/10x/2019\\_04\\_02\\_HY3H7CCXY\\_10x/HY3H7CCXY/HTAPP-211-SMP-6751\\_TST\\_channel2/HTAPP-211-SMP-6751\\_TST\\_channel2\\_S2\\_L001\\_R2\\_001.fastq.gz &  & 48 & done1 &  & 2019\\_04\\_02 & FALSE & 0300628\\_T1\\_TST & HTAPP-211-SMP-6751 & TST & channel2 & 1 & SI-GA-B1 & breast & liver      & GRCh38\\_premrna\\_v3.0.0 & SC3Pv3 & HY3H7CCXY & /transfer/190330\\_SL-HXZ\\_0566\\_BFCHY3H7CCXY & V3 & 0 & 0 & 60 & 4000 & 30000 & 200 & 1000 & HTAPP-211-SMP-6751-TST-channel2 & liver & 107522119 & HiSeq X & 98 & single\\_cell\\_RNAseq\\_level\\_1\\_breast/HTAPP-211-SMP-6751\\_TST\\_channel2\\_S2\\_L001\\\\\n",
       "\t HTAPP-213-SMP-6752\\_TST\\_channel1 &                 & single\\_cell\\_RNAseq\\_level\\_1\\_breast/HTAPP-213-SMP-6752\\_TST\\_channel1\\_S3\\_L001\\_R1\\_001.fastq.gz & fastq & NA & NA & Single Nucleus &    &     & NA & 10xV3 & R1 &                      &      & NA &         &             & NA &                & NA & NA & NA & NA & NA & NA & NA & NA & 16 &  0 & NA & NA & NA & NA & NA & NA & 12 & 16 & NA & NA & NA & NA & HTAPP-213-SMP-6752\\_TST\\_channel1\\_S3\\_L001\\_R1\\_001.fastq.gz & /scratch/projects/HTAPP\\_MBC//phase2/pipeline/fastq/10x/2019\\_04\\_02\\_HY3H7CCXY\\_10x/HY3H7CCXY/HTAPP-213-SMP-6752\\_TST\\_channel1/HTAPP-213-SMP-6752\\_TST\\_channel1\\_S3\\_L001\\_R1\\_001.fastq.gz &  & 49 & done1 &  & 2019\\_04\\_02 & FALSE & 0300596\\_T1\\_TST & HTAPP-213-SMP-6752 & TST & channel1 & 1 & SI-GA-C1 & breast & chest wall & GRCh38\\_premrna\\_v3.0.0 & SC3Pv3 & HY3H7CCXY & /transfer/190330\\_SL-HXZ\\_0566\\_BFCHY3H7CCXY & V3 & 0 & 0 & 60 & 4000 & 30000 & 200 & 1000 & HTAPP-213-SMP-6752-TST-channel1 & chest & 109585772 & HiSeq X & NA & single\\_cell\\_RNAseq\\_level\\_1\\_breast/HTAPP-213-SMP-6752\\_TST\\_channel1\\_S3\\_L001\\\\\n",
       "\t HTAPP-213-SMP-6752\\_TST\\_channel1 &                 & single\\_cell\\_RNAseq\\_level\\_1\\_breast/HTAPP-213-SMP-6752\\_TST\\_channel1\\_S3\\_L001\\_R2\\_001.fastq.gz & fastq & NA & NA & Single Nucleus &    &     & NA & 10xV3 & R2 &                      &      & NA &         &             & NA &                & NA & NA & NA & NA & NA & NA & NA & NA & NA & NA & NA & NA & NA & NA & NA & NA & NA & NA & NA & NA & NA & NA & HTAPP-213-SMP-6752\\_TST\\_channel1\\_S3\\_L001\\_R2\\_001.fastq.gz & /scratch/projects/HTAPP\\_MBC//phase2/pipeline/fastq/10x/2019\\_04\\_02\\_HY3H7CCXY\\_10x/HY3H7CCXY/HTAPP-213-SMP-6752\\_TST\\_channel1/HTAPP-213-SMP-6752\\_TST\\_channel1\\_S3\\_L001\\_R2\\_001.fastq.gz &  & 49 & done1 &  & 2019\\_04\\_02 & FALSE & 0300596\\_T1\\_TST & HTAPP-213-SMP-6752 & TST & channel1 & 1 & SI-GA-C1 & breast & chest wall & GRCh38\\_premrna\\_v3.0.0 & SC3Pv3 & HY3H7CCXY & /transfer/190330\\_SL-HXZ\\_0566\\_BFCHY3H7CCXY & V3 & 0 & 0 & 60 & 4000 & 30000 & 200 & 1000 & HTAPP-213-SMP-6752-TST-channel1 & chest & 109585772 & HiSeq X & 98 & single\\_cell\\_RNAseq\\_level\\_1\\_breast/HTAPP-213-SMP-6752\\_TST\\_channel1\\_S3\\_L001\\\\\n",
       "\\end{tabular}\n"
      ],
      "text/markdown": [
       "\n",
       "A data.table: 6 x 75\n",
       "\n",
       "| sample_name &lt;chr&gt; | Component &lt;chr&gt; | Filename &lt;chr&gt; | File Format &lt;chr&gt; | HTAN Parent Biospecimen ID &lt;lgl&gt; | HTAN Data File ID &lt;lgl&gt; | Nucleic Acid Source &lt;chr&gt; | Cryopreserved Cells in Sample &lt;chr&gt; | Single Cell Isolation Method &lt;chr&gt; | Dissociation Method &lt;lgl&gt; | Library Construction Method &lt;chr&gt; | Read Indicator &lt;chr&gt; | Read1 &lt;chr&gt; | Read2 &lt;chr&gt; | End Bias &lt;lgl&gt; | Reverse Transcription Primer &lt;chr&gt; | Spike In &lt;chr&gt; | Sequencing Platform &lt;lgl&gt; | Total Number of Input Cells &lt;chr&gt; | Input Cells and Nuclei &lt;lgl&gt; | Library Preparation Days from Index &lt;lgl&gt; | Single Cell Dissociation Days from Index &lt;lgl&gt; | Sequencing Library Construction Days from Index &lt;lgl&gt; | Nucleic Acid Capture Days from Index &lt;lgl&gt; | Protocol Link &lt;lgl&gt; | Technical Replicate Group &lt;lgl&gt; | Both Spike in Mixes &lt;lgl&gt; | Cell Barcode Length &lt;int&gt; | Cell Barcode Offset &lt;int&gt; | Empty Well Barcode &lt;lgl&gt; | Feature Reference Id &lt;lgl&gt; | Median UMIs per Cell Number &lt;lgl&gt; | Spike In Concentration &lt;lgl&gt; | Spike In Mix 1 &lt;lgl&gt; | Spike In Mix 2 &lt;lgl&gt; | UMI Barcode Length &lt;int&gt; | UMI Barcode Offset &lt;int&gt; | Valid Barcodes Cell Number &lt;lgl&gt; | Well Index &lt;lgl&gt; | cDNA Length &lt;lgl&gt; | cDNA Offset &lt;lgl&gt; | file &lt;chr&gt; | filepath &lt;chr&gt; | Quality &lt;chr&gt; | Order &lt;int&gt; | run status &lt;chr&gt; | Note &lt;chr&gt; | date &lt;chr&gt; | run_pipeline &lt;lgl&gt; | Channel Name &lt;chr&gt; | sampleid &lt;chr&gt; | condition &lt;chr&gt; | replicate &lt;chr&gt; | Lane &lt;chr&gt; | Index &lt;chr&gt; | cancer &lt;chr&gt; | site &lt;chr&gt; | reference &lt;chr&gt; | chemistry &lt;chr&gt; | flowcell &lt;chr&gt; | seq_dir &lt;chr&gt; | mode &lt;chr&gt; | min_umis &lt;int&gt; | min_genes &lt;int&gt; | percent_mito &lt;int&gt; | expected_cells &lt;int&gt; | total_droplets &lt;int&gt; | z_dim &lt;int&gt; | z_layers &lt;int&gt; | channel_id_match &lt;chr&gt; | site_group &lt;chr&gt; | Valid_Barcodes_Cell_Number &lt;dbl&gt; | Sequencing_Platform &lt;chr&gt; | cDNA_Length &lt;int&gt; | run &lt;chr&gt; |\n",
       "|---|---|---|---|---|---|---|---|---|---|---|---|---|---|---|---|---|---|---|---|---|---|---|---|---|---|---|---|---|---|---|---|---|---|---|---|---|---|---|---|---|---|---|---|---|---|---|---|---|---|---|---|---|---|---|---|---|---|---|---|---|---|---|---|---|---|---|---|---|---|---|---|---|---|---|\n",
       "| HTAPP-211-SMP-6751_TST_channel1 | ScRNA-seqLevel1 | single_cell_RNAseq_level_1_breast/HTAPP-211-SMP-6751_TST_channel1_S1_L001_R1_001.fastq.gz | fastq | NA | NA | Single Nucleus | No | 10x | NA | 10xV3 | R1 | Cell Barcode and UMI | cDNA | NA | Poly-dT | No Spike In | NA | Not Applicable | NA | NA | NA | NA | NA | NA | NA | NA | 16 |  0 | NA | NA | NA | NA | NA | NA | 12 | 16 | NA | NA | NA | NA | HTAPP-211-SMP-6751_TST_channel1_S1_L001_R1_001.fastq.gz | /scratch/projects/HTAPP_MBC//phase2/pipeline/fastq/10x/2019_04_02_HY3H7CCXY_10x/HY3H7CCXY/HTAPP-211-SMP-6751_TST_channel1/HTAPP-211-SMP-6751_TST_channel1_S1_L001_R1_001.fastq.gz | <!----> | 47 | done1 | <!----> | 2019_04_02 | FALSE | 0300628_T1_TST | HTAPP-211-SMP-6751 | TST | channel1 | 1 | SI-GA-A1 | breast | liver      | GRCh38_premrna_v3.0.0 | SC3Pv3 | HY3H7CCXY | /transfer/190330_SL-HXZ_0566_BFCHY3H7CCXY | V3 | 0 | 0 | 60 | 4000 | 30000 | 200 | 1000 | HTAPP-211-SMP-6751-TST-channel1 | liver | 137691880 | HiSeq X | NA | single_cell_RNAseq_level_1_breast/HTAPP-211-SMP-6751_TST_channel1_S1_L001 |\n",
       "| HTAPP-211-SMP-6751_TST_channel1 | <!----> | single_cell_RNAseq_level_1_breast/HTAPP-211-SMP-6751_TST_channel1_S1_L001_R2_001.fastq.gz | fastq | NA | NA | Single Nucleus | <!----> | <!----> | NA | 10xV3 | R2 | Cell Barcode and UMI | cDNA | NA | Poly-dT | No Spike In | NA | Not Applicable | NA | NA | NA | NA | NA | NA | NA | NA | NA | NA | NA | NA | NA | NA | NA | NA | NA | NA | NA | NA | NA | NA | HTAPP-211-SMP-6751_TST_channel1_S1_L001_R2_001.fastq.gz | /scratch/projects/HTAPP_MBC//phase2/pipeline/fastq/10x/2019_04_02_HY3H7CCXY_10x/HY3H7CCXY/HTAPP-211-SMP-6751_TST_channel1/HTAPP-211-SMP-6751_TST_channel1_S1_L001_R2_001.fastq.gz | <!----> | 47 | done1 | <!----> | 2019_04_02 | FALSE | 0300628_T1_TST | HTAPP-211-SMP-6751 | TST | channel1 | 1 | SI-GA-A1 | breast | liver      | GRCh38_premrna_v3.0.0 | SC3Pv3 | HY3H7CCXY | /transfer/190330_SL-HXZ_0566_BFCHY3H7CCXY | V3 | 0 | 0 | 60 | 4000 | 30000 | 200 | 1000 | HTAPP-211-SMP-6751-TST-channel1 | liver | 137691880 | HiSeq X | 98 | single_cell_RNAseq_level_1_breast/HTAPP-211-SMP-6751_TST_channel1_S1_L001 |\n",
       "| HTAPP-211-SMP-6751_TST_channel2 | <!----> | single_cell_RNAseq_level_1_breast/HTAPP-211-SMP-6751_TST_channel2_S2_L001_R1_001.fastq.gz | fastq | NA | NA | Single Nucleus | <!----> | <!----> | NA | 10xV3 | R1 | <!----> | <!----> | NA | <!----> | <!----> | NA | <!----> | NA | NA | NA | NA | NA | NA | NA | NA | 16 |  0 | NA | NA | NA | NA | NA | NA | 12 | 16 | NA | NA | NA | NA | HTAPP-211-SMP-6751_TST_channel2_S2_L001_R1_001.fastq.gz | /scratch/projects/HTAPP_MBC//phase2/pipeline/fastq/10x/2019_04_02_HY3H7CCXY_10x/HY3H7CCXY/HTAPP-211-SMP-6751_TST_channel2/HTAPP-211-SMP-6751_TST_channel2_S2_L001_R1_001.fastq.gz | <!----> | 48 | done1 | <!----> | 2019_04_02 | FALSE | 0300628_T1_TST | HTAPP-211-SMP-6751 | TST | channel2 | 1 | SI-GA-B1 | breast | liver      | GRCh38_premrna_v3.0.0 | SC3Pv3 | HY3H7CCXY | /transfer/190330_SL-HXZ_0566_BFCHY3H7CCXY | V3 | 0 | 0 | 60 | 4000 | 30000 | 200 | 1000 | HTAPP-211-SMP-6751-TST-channel2 | liver | 107522119 | HiSeq X | NA | single_cell_RNAseq_level_1_breast/HTAPP-211-SMP-6751_TST_channel2_S2_L001 |\n",
       "| HTAPP-211-SMP-6751_TST_channel2 | <!----> | single_cell_RNAseq_level_1_breast/HTAPP-211-SMP-6751_TST_channel2_S2_L001_R2_001.fastq.gz | fastq | NA | NA | Single Nucleus | <!----> | <!----> | NA | 10xV3 | R2 | <!----> | <!----> | NA | <!----> | <!----> | NA | <!----> | NA | NA | NA | NA | NA | NA | NA | NA | NA | NA | NA | NA | NA | NA | NA | NA | NA | NA | NA | NA | NA | NA | HTAPP-211-SMP-6751_TST_channel2_S2_L001_R2_001.fastq.gz | /scratch/projects/HTAPP_MBC//phase2/pipeline/fastq/10x/2019_04_02_HY3H7CCXY_10x/HY3H7CCXY/HTAPP-211-SMP-6751_TST_channel2/HTAPP-211-SMP-6751_TST_channel2_S2_L001_R2_001.fastq.gz | <!----> | 48 | done1 | <!----> | 2019_04_02 | FALSE | 0300628_T1_TST | HTAPP-211-SMP-6751 | TST | channel2 | 1 | SI-GA-B1 | breast | liver      | GRCh38_premrna_v3.0.0 | SC3Pv3 | HY3H7CCXY | /transfer/190330_SL-HXZ_0566_BFCHY3H7CCXY | V3 | 0 | 0 | 60 | 4000 | 30000 | 200 | 1000 | HTAPP-211-SMP-6751-TST-channel2 | liver | 107522119 | HiSeq X | 98 | single_cell_RNAseq_level_1_breast/HTAPP-211-SMP-6751_TST_channel2_S2_L001 |\n",
       "| HTAPP-213-SMP-6752_TST_channel1 | <!----> | single_cell_RNAseq_level_1_breast/HTAPP-213-SMP-6752_TST_channel1_S3_L001_R1_001.fastq.gz | fastq | NA | NA | Single Nucleus | <!----> | <!----> | NA | 10xV3 | R1 | <!----> | <!----> | NA | <!----> | <!----> | NA | <!----> | NA | NA | NA | NA | NA | NA | NA | NA | 16 |  0 | NA | NA | NA | NA | NA | NA | 12 | 16 | NA | NA | NA | NA | HTAPP-213-SMP-6752_TST_channel1_S3_L001_R1_001.fastq.gz | /scratch/projects/HTAPP_MBC//phase2/pipeline/fastq/10x/2019_04_02_HY3H7CCXY_10x/HY3H7CCXY/HTAPP-213-SMP-6752_TST_channel1/HTAPP-213-SMP-6752_TST_channel1_S3_L001_R1_001.fastq.gz | <!----> | 49 | done1 | <!----> | 2019_04_02 | FALSE | 0300596_T1_TST | HTAPP-213-SMP-6752 | TST | channel1 | 1 | SI-GA-C1 | breast | chest wall | GRCh38_premrna_v3.0.0 | SC3Pv3 | HY3H7CCXY | /transfer/190330_SL-HXZ_0566_BFCHY3H7CCXY | V3 | 0 | 0 | 60 | 4000 | 30000 | 200 | 1000 | HTAPP-213-SMP-6752-TST-channel1 | chest | 109585772 | HiSeq X | NA | single_cell_RNAseq_level_1_breast/HTAPP-213-SMP-6752_TST_channel1_S3_L001 |\n",
       "| HTAPP-213-SMP-6752_TST_channel1 | <!----> | single_cell_RNAseq_level_1_breast/HTAPP-213-SMP-6752_TST_channel1_S3_L001_R2_001.fastq.gz | fastq | NA | NA | Single Nucleus | <!----> | <!----> | NA | 10xV3 | R2 | <!----> | <!----> | NA | <!----> | <!----> | NA | <!----> | NA | NA | NA | NA | NA | NA | NA | NA | NA | NA | NA | NA | NA | NA | NA | NA | NA | NA | NA | NA | NA | NA | HTAPP-213-SMP-6752_TST_channel1_S3_L001_R2_001.fastq.gz | /scratch/projects/HTAPP_MBC//phase2/pipeline/fastq/10x/2019_04_02_HY3H7CCXY_10x/HY3H7CCXY/HTAPP-213-SMP-6752_TST_channel1/HTAPP-213-SMP-6752_TST_channel1_S3_L001_R2_001.fastq.gz | <!----> | 49 | done1 | <!----> | 2019_04_02 | FALSE | 0300596_T1_TST | HTAPP-213-SMP-6752 | TST | channel1 | 1 | SI-GA-C1 | breast | chest wall | GRCh38_premrna_v3.0.0 | SC3Pv3 | HY3H7CCXY | /transfer/190330_SL-HXZ_0566_BFCHY3H7CCXY | V3 | 0 | 0 | 60 | 4000 | 30000 | 200 | 1000 | HTAPP-213-SMP-6752-TST-channel1 | chest | 109585772 | HiSeq X | 98 | single_cell_RNAseq_level_1_breast/HTAPP-213-SMP-6752_TST_channel1_S3_L001 |\n",
       "\n"
      ],
      "text/plain": [
       "  sample_name                     Component      \n",
       "1 HTAPP-211-SMP-6751_TST_channel1 ScRNA-seqLevel1\n",
       "2 HTAPP-211-SMP-6751_TST_channel1                \n",
       "3 HTAPP-211-SMP-6751_TST_channel2                \n",
       "4 HTAPP-211-SMP-6751_TST_channel2                \n",
       "5 HTAPP-213-SMP-6752_TST_channel1                \n",
       "6 HTAPP-213-SMP-6752_TST_channel1                \n",
       "  Filename                                                                                 \n",
       "1 single_cell_RNAseq_level_1_breast/HTAPP-211-SMP-6751_TST_channel1_S1_L001_R1_001.fastq.gz\n",
       "2 single_cell_RNAseq_level_1_breast/HTAPP-211-SMP-6751_TST_channel1_S1_L001_R2_001.fastq.gz\n",
       "3 single_cell_RNAseq_level_1_breast/HTAPP-211-SMP-6751_TST_channel2_S2_L001_R1_001.fastq.gz\n",
       "4 single_cell_RNAseq_level_1_breast/HTAPP-211-SMP-6751_TST_channel2_S2_L001_R2_001.fastq.gz\n",
       "5 single_cell_RNAseq_level_1_breast/HTAPP-213-SMP-6752_TST_channel1_S3_L001_R1_001.fastq.gz\n",
       "6 single_cell_RNAseq_level_1_breast/HTAPP-213-SMP-6752_TST_channel1_S3_L001_R2_001.fastq.gz\n",
       "  File Format HTAN Parent Biospecimen ID HTAN Data File ID Nucleic Acid Source\n",
       "1 fastq       NA                         NA                Single Nucleus     \n",
       "2 fastq       NA                         NA                Single Nucleus     \n",
       "3 fastq       NA                         NA                Single Nucleus     \n",
       "4 fastq       NA                         NA                Single Nucleus     \n",
       "5 fastq       NA                         NA                Single Nucleus     \n",
       "6 fastq       NA                         NA                Single Nucleus     \n",
       "  Cryopreserved Cells in Sample Single Cell Isolation Method\n",
       "1 No                            10x                         \n",
       "2                                                           \n",
       "3                                                           \n",
       "4                                                           \n",
       "5                                                           \n",
       "6                                                           \n",
       "  Dissociation Method Library Construction Method Read Indicator\n",
       "1 NA                  10xV3                       R1            \n",
       "2 NA                  10xV3                       R2            \n",
       "3 NA                  10xV3                       R1            \n",
       "4 NA                  10xV3                       R2            \n",
       "5 NA                  10xV3                       R1            \n",
       "6 NA                  10xV3                       R2            \n",
       "  Read1                Read2 End Bias Reverse Transcription Primer Spike In   \n",
       "1 Cell Barcode and UMI cDNA  NA       Poly-dT                      No Spike In\n",
       "2 Cell Barcode and UMI cDNA  NA       Poly-dT                      No Spike In\n",
       "3                            NA                                               \n",
       "4                            NA                                               \n",
       "5                            NA                                               \n",
       "6                            NA                                               \n",
       "  Sequencing Platform Total Number of Input Cells Input Cells and Nuclei\n",
       "1 NA                  Not Applicable              NA                    \n",
       "2 NA                  Not Applicable              NA                    \n",
       "3 NA                                              NA                    \n",
       "4 NA                                              NA                    \n",
       "5 NA                                              NA                    \n",
       "6 NA                                              NA                    \n",
       "  Library Preparation Days from Index Single Cell Dissociation Days from Index\n",
       "1 NA                                  NA                                      \n",
       "2 NA                                  NA                                      \n",
       "3 NA                                  NA                                      \n",
       "4 NA                                  NA                                      \n",
       "5 NA                                  NA                                      \n",
       "6 NA                                  NA                                      \n",
       "  Sequencing Library Construction Days from Index\n",
       "1 NA                                             \n",
       "2 NA                                             \n",
       "3 NA                                             \n",
       "4 NA                                             \n",
       "5 NA                                             \n",
       "6 NA                                             \n",
       "  Nucleic Acid Capture Days from Index Protocol Link Technical Replicate Group\n",
       "1 NA                                   NA            NA                       \n",
       "2 NA                                   NA            NA                       \n",
       "3 NA                                   NA            NA                       \n",
       "4 NA                                   NA            NA                       \n",
       "5 NA                                   NA            NA                       \n",
       "6 NA                                   NA            NA                       \n",
       "  Both Spike in Mixes Cell Barcode Length Cell Barcode Offset\n",
       "1 NA                  16                   0                 \n",
       "2 NA                  NA                  NA                 \n",
       "3 NA                  16                   0                 \n",
       "4 NA                  NA                  NA                 \n",
       "5 NA                  16                   0                 \n",
       "6 NA                  NA                  NA                 \n",
       "  Empty Well Barcode Feature Reference Id Median UMIs per Cell Number\n",
       "1 NA                 NA                   NA                         \n",
       "2 NA                 NA                   NA                         \n",
       "3 NA                 NA                   NA                         \n",
       "4 NA                 NA                   NA                         \n",
       "5 NA                 NA                   NA                         \n",
       "6 NA                 NA                   NA                         \n",
       "  Spike In Concentration Spike In Mix 1 Spike In Mix 2 UMI Barcode Length\n",
       "1 NA                     NA             NA             12                \n",
       "2 NA                     NA             NA             NA                \n",
       "3 NA                     NA             NA             12                \n",
       "4 NA                     NA             NA             NA                \n",
       "5 NA                     NA             NA             12                \n",
       "6 NA                     NA             NA             NA                \n",
       "  UMI Barcode Offset Valid Barcodes Cell Number Well Index cDNA Length\n",
       "1 16                 NA                         NA         NA         \n",
       "2 NA                 NA                         NA         NA         \n",
       "3 16                 NA                         NA         NA         \n",
       "4 NA                 NA                         NA         NA         \n",
       "5 16                 NA                         NA         NA         \n",
       "6 NA                 NA                         NA         NA         \n",
       "  cDNA Offset file                                                   \n",
       "1 NA          HTAPP-211-SMP-6751_TST_channel1_S1_L001_R1_001.fastq.gz\n",
       "2 NA          HTAPP-211-SMP-6751_TST_channel1_S1_L001_R2_001.fastq.gz\n",
       "3 NA          HTAPP-211-SMP-6751_TST_channel2_S2_L001_R1_001.fastq.gz\n",
       "4 NA          HTAPP-211-SMP-6751_TST_channel2_S2_L001_R2_001.fastq.gz\n",
       "5 NA          HTAPP-213-SMP-6752_TST_channel1_S3_L001_R1_001.fastq.gz\n",
       "6 NA          HTAPP-213-SMP-6752_TST_channel1_S3_L001_R2_001.fastq.gz\n",
       "  filepath                                                                                                                                                                               \n",
       "1 /scratch/projects/HTAPP_MBC//phase2/pipeline/fastq/10x/2019_04_02_HY3H7CCXY_10x/HY3H7CCXY/HTAPP-211-SMP-6751_TST_channel1/HTAPP-211-SMP-6751_TST_channel1_S1_L001_R1_001.fastq.gz\n",
       "2 /scratch/projects/HTAPP_MBC//phase2/pipeline/fastq/10x/2019_04_02_HY3H7CCXY_10x/HY3H7CCXY/HTAPP-211-SMP-6751_TST_channel1/HTAPP-211-SMP-6751_TST_channel1_S1_L001_R2_001.fastq.gz\n",
       "3 /scratch/projects/HTAPP_MBC//phase2/pipeline/fastq/10x/2019_04_02_HY3H7CCXY_10x/HY3H7CCXY/HTAPP-211-SMP-6751_TST_channel2/HTAPP-211-SMP-6751_TST_channel2_S2_L001_R1_001.fastq.gz\n",
       "4 /scratch/projects/HTAPP_MBC//phase2/pipeline/fastq/10x/2019_04_02_HY3H7CCXY_10x/HY3H7CCXY/HTAPP-211-SMP-6751_TST_channel2/HTAPP-211-SMP-6751_TST_channel2_S2_L001_R2_001.fastq.gz\n",
       "5 /scratch/projects/HTAPP_MBC//phase2/pipeline/fastq/10x/2019_04_02_HY3H7CCXY_10x/HY3H7CCXY/HTAPP-213-SMP-6752_TST_channel1/HTAPP-213-SMP-6752_TST_channel1_S3_L001_R1_001.fastq.gz\n",
       "6 /scratch/projects/HTAPP_MBC//phase2/pipeline/fastq/10x/2019_04_02_HY3H7CCXY_10x/HY3H7CCXY/HTAPP-213-SMP-6752_TST_channel1/HTAPP-213-SMP-6752_TST_channel1_S3_L001_R2_001.fastq.gz\n",
       "  Quality Order run status Note date       run_pipeline Channel Name  \n",
       "1         47    done1           2019_04_02 FALSE        0300628_T1_TST\n",
       "2         47    done1           2019_04_02 FALSE        0300628_T1_TST\n",
       "3         48    done1           2019_04_02 FALSE        0300628_T1_TST\n",
       "4         48    done1           2019_04_02 FALSE        0300628_T1_TST\n",
       "5         49    done1           2019_04_02 FALSE        0300596_T1_TST\n",
       "6         49    done1           2019_04_02 FALSE        0300596_T1_TST\n",
       "  sampleid           condition replicate Lane Index    cancer site      \n",
       "1 HTAPP-211-SMP-6751 TST       channel1  1    SI-GA-A1 breast liver     \n",
       "2 HTAPP-211-SMP-6751 TST       channel1  1    SI-GA-A1 breast liver     \n",
       "3 HTAPP-211-SMP-6751 TST       channel2  1    SI-GA-B1 breast liver     \n",
       "4 HTAPP-211-SMP-6751 TST       channel2  1    SI-GA-B1 breast liver     \n",
       "5 HTAPP-213-SMP-6752 TST       channel1  1    SI-GA-C1 breast chest wall\n",
       "6 HTAPP-213-SMP-6752 TST       channel1  1    SI-GA-C1 breast chest wall\n",
       "  reference             chemistry flowcell \n",
       "1 GRCh38_premrna_v3.0.0 SC3Pv3    HY3H7CCXY\n",
       "2 GRCh38_premrna_v3.0.0 SC3Pv3    HY3H7CCXY\n",
       "3 GRCh38_premrna_v3.0.0 SC3Pv3    HY3H7CCXY\n",
       "4 GRCh38_premrna_v3.0.0 SC3Pv3    HY3H7CCXY\n",
       "5 GRCh38_premrna_v3.0.0 SC3Pv3    HY3H7CCXY\n",
       "6 GRCh38_premrna_v3.0.0 SC3Pv3    HY3H7CCXY\n",
       "  seq_dir                                                 mode min_umis\n",
       "1 /transfer/190330_SL-HXZ_0566_BFCHY3H7CCXY V3   0       \n",
       "2 /transfer/190330_SL-HXZ_0566_BFCHY3H7CCXY V3   0       \n",
       "3 /transfer/190330_SL-HXZ_0566_BFCHY3H7CCXY V3   0       \n",
       "4 /transfer/190330_SL-HXZ_0566_BFCHY3H7CCXY V3   0       \n",
       "5 /transfer/190330_SL-HXZ_0566_BFCHY3H7CCXY V3   0       \n",
       "6 /transfer/190330_SL-HXZ_0566_BFCHY3H7CCXY V3   0       \n",
       "  min_genes percent_mito expected_cells total_droplets z_dim z_layers\n",
       "1 0         60           4000           30000          200   1000    \n",
       "2 0         60           4000           30000          200   1000    \n",
       "3 0         60           4000           30000          200   1000    \n",
       "4 0         60           4000           30000          200   1000    \n",
       "5 0         60           4000           30000          200   1000    \n",
       "6 0         60           4000           30000          200   1000    \n",
       "  channel_id_match                site_group Valid_Barcodes_Cell_Number\n",
       "1 HTAPP-211-SMP-6751-TST-channel1 liver      137691880                 \n",
       "2 HTAPP-211-SMP-6751-TST-channel1 liver      137691880                 \n",
       "3 HTAPP-211-SMP-6751-TST-channel2 liver      107522119                 \n",
       "4 HTAPP-211-SMP-6751-TST-channel2 liver      107522119                 \n",
       "5 HTAPP-213-SMP-6752-TST-channel1 chest      109585772                 \n",
       "6 HTAPP-213-SMP-6752-TST-channel1 chest      109585772                 \n",
       "  Sequencing_Platform cDNA_Length\n",
       "1 HiSeq X             NA         \n",
       "2 HiSeq X             98         \n",
       "3 HiSeq X             NA         \n",
       "4 HiSeq X             98         \n",
       "5 HiSeq X             NA         \n",
       "6 HiSeq X             98         \n",
       "  run                                                                      \n",
       "1 single_cell_RNAseq_level_1_breast/HTAPP-211-SMP-6751_TST_channel1_S1_L001\n",
       "2 single_cell_RNAseq_level_1_breast/HTAPP-211-SMP-6751_TST_channel1_S1_L001\n",
       "3 single_cell_RNAseq_level_1_breast/HTAPP-211-SMP-6751_TST_channel2_S2_L001\n",
       "4 single_cell_RNAseq_level_1_breast/HTAPP-211-SMP-6751_TST_channel2_S2_L001\n",
       "5 single_cell_RNAseq_level_1_breast/HTAPP-213-SMP-6752_TST_channel1_S3_L001\n",
       "6 single_cell_RNAseq_level_1_breast/HTAPP-213-SMP-6752_TST_channel1_S3_L001"
      ]
     },
     "metadata": {},
     "output_type": "display_data"
    }
   ],
   "source": [
    "head(sheetL1)"
   ]
  },
  {
   "cell_type": "code",
   "execution_count": 6,
   "metadata": {},
   "outputs": [
    {
     "data": {
      "text/plain": [
       "\n",
       "TRUE \n",
       " 256 "
      ]
     },
     "metadata": {},
     "output_type": "display_data"
    }
   ],
   "source": [
    "#test that file order stayed the same (i.e. matches the google table)\n",
    "table(sheetL1$Filename==sheetL1_orig$Filename)"
   ]
  },
  {
   "cell_type": "code",
   "execution_count": 132,
   "metadata": {},
   "outputs": [
    {
     "data": {
      "text/html": [
       "FALSE"
      ],
      "text/latex": [
       "FALSE"
      ],
      "text/markdown": [
       "FALSE"
      ],
      "text/plain": [
       "[1] FALSE"
      ]
     },
     "metadata": {},
     "output_type": "display_data"
    },
    {
     "data": {
      "text/html": [
       "FALSE"
      ],
      "text/latex": [
       "FALSE"
      ],
      "text/markdown": [
       "FALSE"
      ],
      "text/plain": [
       "[1] FALSE"
      ]
     },
     "metadata": {},
     "output_type": "display_data"
    }
   ],
   "source": [
    "#check that merge went well (no NA in condition)\n",
    "sheetL1[,any(condition==\"NA\")]\n",
    "sheetL1[,any(is.na(condition))]"
   ]
  },
  {
   "cell_type": "code",
   "execution_count": 98,
   "metadata": {},
   "outputs": [],
   "source": [
    "#write.table(sheetL1,paste0(out,\"/L1.tsv\"),sep=\"\\t\",quote=F,row.names=F)\n",
    "#3 added samples only\n",
    "write.table(sheetL1,paste0(out,\"/L1_add.tsv\"),sep=\"\\t\",quote=F,row.names=F)"
   ]
  },
  {
   "cell_type": "code",
   "execution_count": 5,
   "metadata": {},
   "outputs": [],
   "source": [
    "sheetL1=fread(paste0(out,\"/L1.tsv\"))"
   ]
  },
  {
   "cell_type": "markdown",
   "metadata": {},
   "source": [
    "### L2"
   ]
  },
  {
   "cell_type": "code",
   "execution_count": 104,
   "metadata": {},
   "outputs": [],
   "source": [
    "sheetL2 = fread(paste0(codeDir,\"/meta/MBC HTAPP_ HTAN scRNA-seqLevel2.tsv\"))"
   ]
  },
  {
   "cell_type": "code",
   "execution_count": 105,
   "metadata": {},
   "outputs": [],
   "source": [
    "sheetL2_orig=copy(sheetL2)"
   ]
  },
  {
   "cell_type": "code",
   "execution_count": 106,
   "metadata": {},
   "outputs": [],
   "source": [
    "sheetL2[,sample_name:=gsub(\".*/|_possorted_genome_bam.bam\",\"\",Filename),]"
   ]
  },
  {
   "cell_type": "code",
   "execution_count": 107,
   "metadata": {},
   "outputs": [],
   "source": [
    "#get checksum on gcloud\n",
    "#gsutil hash -m -h gs://fc-c37765e7-3ed8-4fbf-b32c-148e5f17071b/00_counts_breast/*/*/possorted_genome_bam.bam > checksums.txt"
   ]
  },
  {
   "cell_type": "code",
   "execution_count": 108,
   "metadata": {},
   "outputs": [],
   "source": [
    "checksum=fread(paste0(metaDir,\"/checksums.txt\"))"
   ]
  },
  {
   "cell_type": "code",
   "execution_count": 109,
   "metadata": {},
   "outputs": [],
   "source": [
    "sheetL2=merge(sheetL2,checksum,by.x=\"sample_name\",by.y=\"sample\",all.x=TRUE,sort=FALSE)"
   ]
  },
  {
   "cell_type": "code",
   "execution_count": 110,
   "metadata": {},
   "outputs": [],
   "source": [
    "sheetL2=merge(sheetL2,unique(sample_sheet[,c(\"channel_id\",\"reference\",\"mode\")]),by.x=\"sample_name\",by.y=\"channel_id\",all.x=TRUE,sort=FALSE)"
   ]
  },
  {
   "cell_type": "code",
   "execution_count": 111,
   "metadata": {},
   "outputs": [],
   "source": [
    "sheetL2[,`Whitelist Cell Barcode File Link`:=ifelse(mode==\"V2\",\"https://github.com/10XGenomics/cellranger/blob/master/lib/python/cellranger/barcodes/737K-august-2016.txt\",\"https://github.com/10XGenomics/cellranger/blob/master/lib/python/cellranger/barcodes/3M-february-2018.txt.gz\"),]"
   ]
  },
  {
   "cell_type": "code",
   "execution_count": 112,
   "metadata": {},
   "outputs": [],
   "source": [
    "sheetL2[,`Genomic Reference URL`:=ifelse(reference==\"GRCh38_premrna_v3.0.0\",\"gs://lab/resources/cellranger/refdata-cellranger-GRCh38_premrna-3.0.0.tar.gz\",\"gs://lab/resources/cellranger/refdata-cellranger-GRCh38-3.0.0.tar.gz\"),]\n",
    "sheetL2[,`Genome Annotation URL`:=ifelse(reference==\"GRCh38_premrna_v3.0.0\",\"gs://lab/resources/cellranger/refdata-cellranger-GRCh38_premrna-3.0.0.tar.gz\",\"gs://lab/resources/cellranger/refdata-cellranger-GRCh38-3.0.0.tar.gz\"),]"
   ]
  },
  {
   "cell_type": "code",
   "execution_count": 116,
   "metadata": {},
   "outputs": [
    {
     "data": {
      "text/html": [
       "<table>\n",
       "<caption>A data.table: 6 x 22</caption>\n",
       "<thead>\n",
       "\t<tr><th scope=col>sample_name</th><th scope=col>Component</th><th scope=col>Filename</th><th scope=col>File Format</th><th scope=col>HTAN Parent Data File ID</th><th scope=col>HTAN Data File ID</th><th scope=col>scRNAseq Workflow Type</th><th scope=col>Workflow Version</th><th scope=col>scRNAseq Workflow Parameters Description</th><th scope=col>Workflow Link</th><th scope=col>Genomic Reference</th><th scope=col>Genomic Reference URL</th><th scope=col>Genome Annotation URL</th><th scope=col>Checksum</th><th scope=col>Whitelist Cell Barcode File Link</th><th scope=col>Cell Barcode Tag</th><th scope=col>UMI Tag</th><th scope=col>Applied Hard Trimming</th><th scope=col>Aligned Read Length</th><th scope=col>checksum</th><th scope=col>reference</th><th scope=col>mode</th></tr>\n",
       "\t<tr><th scope=col>&lt;chr&gt;</th><th scope=col>&lt;chr&gt;</th><th scope=col>&lt;chr&gt;</th><th scope=col>&lt;chr&gt;</th><th scope=col>&lt;lgl&gt;</th><th scope=col>&lt;lgl&gt;</th><th scope=col>&lt;chr&gt;</th><th scope=col>&lt;chr&gt;</th><th scope=col>&lt;chr&gt;</th><th scope=col>&lt;chr&gt;</th><th scope=col>&lt;chr&gt;</th><th scope=col>&lt;chr&gt;</th><th scope=col>&lt;chr&gt;</th><th scope=col>&lt;lgl&gt;</th><th scope=col>&lt;chr&gt;</th><th scope=col>&lt;chr&gt;</th><th scope=col>&lt;chr&gt;</th><th scope=col>&lt;chr&gt;</th><th scope=col>&lt;lgl&gt;</th><th scope=col>&lt;chr&gt;</th><th scope=col>&lt;chr&gt;</th><th scope=col>&lt;chr&gt;</th></tr>\n",
       "</thead>\n",
       "<tbody>\n",
       "\t<tr><td>HTAPP-after-SMP-iso_TST_channel1 </td><td>ScRNA-seqLevel2</td><td>single_cell_RNAseq_level_2_breast/HTAPP-after-SMP-iso_TST_channel1_possorted_genome_bam.bam </td><td>bam</td><td>NA</td><td>NA</td><td>CellRanger</td><td>03.01.2000</td><td>CellRanger default parameters</td><td>https://portal.firecloud.org/?return=terra#methods/scCloud/cellranger_workflow/18</td><td>GRCh38</td><td>gs://lab/resources/cellranger/refdata-cellranger-GRCh38_premrna-3.0.0.tar.gz</td><td>gs://lab/resources/cellranger/refdata-cellranger-GRCh38_premrna-3.0.0.tar.gz</td><td>NA</td><td>https://github.com/10XGenomics/cellranger/blob/master/lib/python/cellranger/barcodes/3M-february-2018.txt.gz</td><td>CB:Z</td><td>UB:Z</td><td>No</td><td>NA</td><td>178eedfbc37ec3c6c45ef5e56e8d034b</td><td>GRCh38_premrna_v3.0.0</td><td>V3</td></tr>\n",
       "\t<tr><td>HTAPP-before-SMP-iso_TST_channel1</td><td>ScRNA-seqLevel2</td><td>single_cell_RNAseq_level_2_breast/HTAPP-before-SMP-iso_TST_channel1_possorted_genome_bam.bam</td><td>bam</td><td>NA</td><td>NA</td><td>CellRanger</td><td>03.01.2000</td><td>CellRanger default parameters</td><td>https://portal.firecloud.org/?return=terra#methods/scCloud/cellranger_workflow/18</td><td>GRCh38</td><td>gs://lab/resources/cellranger/refdata-cellranger-GRCh38_premrna-3.0.0.tar.gz</td><td>gs://lab/resources/cellranger/refdata-cellranger-GRCh38_premrna-3.0.0.tar.gz</td><td>NA</td><td>https://github.com/10XGenomics/cellranger/blob/master/lib/python/cellranger/barcodes/3M-february-2018.txt.gz</td><td>CB:Z</td><td>UB:Z</td><td>No</td><td>NA</td><td>a542c211b1861bf4783531329112878b</td><td>GRCh38_premrna_v3.0.0</td><td>V3</td></tr>\n",
       "\t<tr><td>HTAPP-806-SMP-6800_fresh_channel1</td><td>ScRNA-seqLevel2</td><td>single_cell_RNAseq_level_2_breast/HTAPP-806-SMP-6800_fresh_channel1_possorted_genome_bam.bam</td><td>bam</td><td>NA</td><td>NA</td><td>CellRanger</td><td>03.01.2000</td><td>CellRanger default parameters</td><td>https://portal.firecloud.org/?return=terra#methods/scCloud/cellranger_workflow/18</td><td>GRCh38</td><td>gs://lab/resources/cellranger/refdata-cellranger-GRCh38-3.0.0.tar.gz        </td><td>gs://lab/resources/cellranger/refdata-cellranger-GRCh38-3.0.0.tar.gz        </td><td>NA</td><td>https://github.com/10XGenomics/cellranger/blob/master/lib/python/cellranger/barcodes/737K-august-2016.txt   </td><td>CB:Z</td><td>UB:Z</td><td>No</td><td>NA</td><td>7ed49b05ff648c38e395b76251532e50</td><td>GRCh38_v3.0.0        </td><td>V2</td></tr>\n",
       "\t<tr><td>HTAPP-806-SMP-6800_fresh_channel2</td><td>ScRNA-seqLevel2</td><td>single_cell_RNAseq_level_2_breast/HTAPP-806-SMP-6800_fresh_channel2_possorted_genome_bam.bam</td><td>bam</td><td>NA</td><td>NA</td><td>CellRanger</td><td>03.01.2000</td><td>CellRanger default parameters</td><td>https://portal.firecloud.org/?return=terra#methods/scCloud/cellranger_workflow/18</td><td>GRCh38</td><td>gs://lab/resources/cellranger/refdata-cellranger-GRCh38-3.0.0.tar.gz        </td><td>gs://lab/resources/cellranger/refdata-cellranger-GRCh38-3.0.0.tar.gz        </td><td>NA</td><td>https://github.com/10XGenomics/cellranger/blob/master/lib/python/cellranger/barcodes/737K-august-2016.txt   </td><td>CB:Z</td><td>UB:Z</td><td>No</td><td>NA</td><td>1c30e3f70c72513f47d9cb59076b1961</td><td>GRCh38_v3.0.0        </td><td>V2</td></tr>\n",
       "\t<tr><td>HTAPP-330-SMP-1082_fresh_channel1</td><td>ScRNA-seqLevel2</td><td>single_cell_RNAseq_level_2_breast/HTAPP-330-SMP-1082_fresh_channel1_possorted_genome_bam.bam</td><td>bam</td><td>NA</td><td>NA</td><td>CellRanger</td><td>03.01.2000</td><td>CellRanger default parameters</td><td>https://portal.firecloud.org/?return=terra#methods/scCloud/cellranger_workflow/18</td><td>GRCh38</td><td>gs://lab/resources/cellranger/refdata-cellranger-GRCh38-3.0.0.tar.gz        </td><td>gs://lab/resources/cellranger/refdata-cellranger-GRCh38-3.0.0.tar.gz        </td><td>NA</td><td>https://github.com/10XGenomics/cellranger/blob/master/lib/python/cellranger/barcodes/3M-february-2018.txt.gz</td><td>CB:Z</td><td>UB:Z</td><td>No</td><td>NA</td><td>4a543c156dae225721befb26ce3a1627</td><td>GRCh38_v3.0.0        </td><td>V3</td></tr>\n",
       "\t<tr><td>HTAPP-988-SMP-7749_fresh_channel1</td><td>ScRNA-seqLevel2</td><td>single_cell_RNAseq_level_2_breast/HTAPP-988-SMP-7749_fresh_channel1_possorted_genome_bam.bam</td><td>bam</td><td>NA</td><td>NA</td><td>CellRanger</td><td>03.01.2000</td><td>CellRanger default parameters</td><td>https://portal.firecloud.org/?return=terra#methods/scCloud/cellranger_workflow/18</td><td>GRCh38</td><td>gs://lab/resources/cellranger/refdata-cellranger-GRCh38-3.0.0.tar.gz        </td><td>gs://lab/resources/cellranger/refdata-cellranger-GRCh38-3.0.0.tar.gz        </td><td>NA</td><td>https://github.com/10XGenomics/cellranger/blob/master/lib/python/cellranger/barcodes/3M-february-2018.txt.gz</td><td>CB:Z</td><td>UB:Z</td><td>No</td><td>NA</td><td>2ebd7fb00e0c00aa5aa53e5578de74b2</td><td>GRCh38_v3.0.0        </td><td>V3</td></tr>\n",
       "</tbody>\n",
       "</table>\n"
      ],
      "text/latex": [
       "A data.table: 6 x 22\n",
       "\\begin{tabular}{r|llllllllllllllllllllll}\n",
       " sample\\_name & Component & Filename & File Format & HTAN Parent Data File ID & HTAN Data File ID & scRNAseq Workflow Type & Workflow Version & scRNAseq Workflow Parameters Description & Workflow Link & Genomic Reference & Genomic Reference URL & Genome Annotation URL & Checksum & Whitelist Cell Barcode File Link & Cell Barcode Tag & UMI Tag & Applied Hard Trimming & Aligned Read Length & checksum & reference & mode\\\\\n",
       " <chr> & <chr> & <chr> & <chr> & <lgl> & <lgl> & <chr> & <chr> & <chr> & <chr> & <chr> & <chr> & <chr> & <lgl> & <chr> & <chr> & <chr> & <chr> & <lgl> & <chr> & <chr> & <chr>\\\\\n",
       "\\hline\n",
       "\t HTAPP-after-SMP-iso\\_TST\\_channel1  & ScRNA-seqLevel2 & single\\_cell\\_RNAseq\\_level\\_2\\_breast/HTAPP-after-SMP-iso\\_TST\\_channel1\\_possorted\\_genome\\_bam.bam  & bam & NA & NA & CellRanger & 03.01.2000 & CellRanger default parameters & https://portal.firecloud.org/?return=terra\\#methods/scCloud/cellranger\\_workflow/18 & GRCh38 & gs://lab/resources/cellranger/refdata-cellranger-GRCh38\\_premrna-3.0.0.tar.gz & gs://lab/resources/cellranger/refdata-cellranger-GRCh38\\_premrna-3.0.0.tar.gz & NA & https://github.com/10XGenomics/cellranger/blob/master/lib/python/cellranger/barcodes/3M-february-2018.txt.gz & CB:Z & UB:Z & No & NA & 178eedfbc37ec3c6c45ef5e56e8d034b & GRCh38\\_premrna\\_v3.0.0 & V3\\\\\n",
       "\t HTAPP-before-SMP-iso\\_TST\\_channel1 & ScRNA-seqLevel2 & single\\_cell\\_RNAseq\\_level\\_2\\_breast/HTAPP-before-SMP-iso\\_TST\\_channel1\\_possorted\\_genome\\_bam.bam & bam & NA & NA & CellRanger & 03.01.2000 & CellRanger default parameters & https://portal.firecloud.org/?return=terra\\#methods/scCloud/cellranger\\_workflow/18 & GRCh38 & gs://lab/resources/cellranger/refdata-cellranger-GRCh38\\_premrna-3.0.0.tar.gz & gs://lab/resources/cellranger/refdata-cellranger-GRCh38\\_premrna-3.0.0.tar.gz & NA & https://github.com/10XGenomics/cellranger/blob/master/lib/python/cellranger/barcodes/3M-february-2018.txt.gz & CB:Z & UB:Z & No & NA & a542c211b1861bf4783531329112878b & GRCh38\\_premrna\\_v3.0.0 & V3\\\\\n",
       "\t HTAPP-806-SMP-6800\\_fresh\\_channel1 & ScRNA-seqLevel2 & single\\_cell\\_RNAseq\\_level\\_2\\_breast/HTAPP-806-SMP-6800\\_fresh\\_channel1\\_possorted\\_genome\\_bam.bam & bam & NA & NA & CellRanger & 03.01.2000 & CellRanger default parameters & https://portal.firecloud.org/?return=terra\\#methods/scCloud/cellranger\\_workflow/18 & GRCh38 & gs://lab/resources/cellranger/refdata-cellranger-GRCh38-3.0.0.tar.gz         & gs://lab/resources/cellranger/refdata-cellranger-GRCh38-3.0.0.tar.gz         & NA & https://github.com/10XGenomics/cellranger/blob/master/lib/python/cellranger/barcodes/737K-august-2016.txt    & CB:Z & UB:Z & No & NA & 7ed49b05ff648c38e395b76251532e50 & GRCh38\\_v3.0.0         & V2\\\\\n",
       "\t HTAPP-806-SMP-6800\\_fresh\\_channel2 & ScRNA-seqLevel2 & single\\_cell\\_RNAseq\\_level\\_2\\_breast/HTAPP-806-SMP-6800\\_fresh\\_channel2\\_possorted\\_genome\\_bam.bam & bam & NA & NA & CellRanger & 03.01.2000 & CellRanger default parameters & https://portal.firecloud.org/?return=terra\\#methods/scCloud/cellranger\\_workflow/18 & GRCh38 & gs://lab/resources/cellranger/refdata-cellranger-GRCh38-3.0.0.tar.gz         & gs://lab/resources/cellranger/refdata-cellranger-GRCh38-3.0.0.tar.gz         & NA & https://github.com/10XGenomics/cellranger/blob/master/lib/python/cellranger/barcodes/737K-august-2016.txt    & CB:Z & UB:Z & No & NA & 1c30e3f70c72513f47d9cb59076b1961 & GRCh38\\_v3.0.0         & V2\\\\\n",
       "\t HTAPP-330-SMP-1082\\_fresh\\_channel1 & ScRNA-seqLevel2 & single\\_cell\\_RNAseq\\_level\\_2\\_breast/HTAPP-330-SMP-1082\\_fresh\\_channel1\\_possorted\\_genome\\_bam.bam & bam & NA & NA & CellRanger & 03.01.2000 & CellRanger default parameters & https://portal.firecloud.org/?return=terra\\#methods/scCloud/cellranger\\_workflow/18 & GRCh38 & gs://lab/resources/cellranger/refdata-cellranger-GRCh38-3.0.0.tar.gz         & gs://lab/resources/cellranger/refdata-cellranger-GRCh38-3.0.0.tar.gz         & NA & https://github.com/10XGenomics/cellranger/blob/master/lib/python/cellranger/barcodes/3M-february-2018.txt.gz & CB:Z & UB:Z & No & NA & 4a543c156dae225721befb26ce3a1627 & GRCh38\\_v3.0.0         & V3\\\\\n",
       "\t HTAPP-988-SMP-7749\\_fresh\\_channel1 & ScRNA-seqLevel2 & single\\_cell\\_RNAseq\\_level\\_2\\_breast/HTAPP-988-SMP-7749\\_fresh\\_channel1\\_possorted\\_genome\\_bam.bam & bam & NA & NA & CellRanger & 03.01.2000 & CellRanger default parameters & https://portal.firecloud.org/?return=terra\\#methods/scCloud/cellranger\\_workflow/18 & GRCh38 & gs://lab/resources/cellranger/refdata-cellranger-GRCh38-3.0.0.tar.gz         & gs://lab/resources/cellranger/refdata-cellranger-GRCh38-3.0.0.tar.gz         & NA & https://github.com/10XGenomics/cellranger/blob/master/lib/python/cellranger/barcodes/3M-february-2018.txt.gz & CB:Z & UB:Z & No & NA & 2ebd7fb00e0c00aa5aa53e5578de74b2 & GRCh38\\_v3.0.0         & V3\\\\\n",
       "\\end{tabular}\n"
      ],
      "text/markdown": [
       "\n",
       "A data.table: 6 x 22\n",
       "\n",
       "| sample_name &lt;chr&gt; | Component &lt;chr&gt; | Filename &lt;chr&gt; | File Format &lt;chr&gt; | HTAN Parent Data File ID &lt;lgl&gt; | HTAN Data File ID &lt;lgl&gt; | scRNAseq Workflow Type &lt;chr&gt; | Workflow Version &lt;chr&gt; | scRNAseq Workflow Parameters Description &lt;chr&gt; | Workflow Link &lt;chr&gt; | Genomic Reference &lt;chr&gt; | Genomic Reference URL &lt;chr&gt; | Genome Annotation URL &lt;chr&gt; | Checksum &lt;lgl&gt; | Whitelist Cell Barcode File Link &lt;chr&gt; | Cell Barcode Tag &lt;chr&gt; | UMI Tag &lt;chr&gt; | Applied Hard Trimming &lt;chr&gt; | Aligned Read Length &lt;lgl&gt; | checksum &lt;chr&gt; | reference &lt;chr&gt; | mode &lt;chr&gt; |\n",
       "|---|---|---|---|---|---|---|---|---|---|---|---|---|---|---|---|---|---|---|---|---|---|\n",
       "| HTAPP-after-SMP-iso_TST_channel1  | ScRNA-seqLevel2 | single_cell_RNAseq_level_2_breast/HTAPP-after-SMP-iso_TST_channel1_possorted_genome_bam.bam  | bam | NA | NA | CellRanger | 03.01.2000 | CellRanger default parameters | https://portal.firecloud.org/?return=terra#methods/scCloud/cellranger_workflow/18 | GRCh38 | gs://lab/resources/cellranger/refdata-cellranger-GRCh38_premrna-3.0.0.tar.gz | gs://lab/resources/cellranger/refdata-cellranger-GRCh38_premrna-3.0.0.tar.gz | NA | https://github.com/10XGenomics/cellranger/blob/master/lib/python/cellranger/barcodes/3M-february-2018.txt.gz | CB:Z | UB:Z | No | NA | 178eedfbc37ec3c6c45ef5e56e8d034b | GRCh38_premrna_v3.0.0 | V3 |\n",
       "| HTAPP-before-SMP-iso_TST_channel1 | ScRNA-seqLevel2 | single_cell_RNAseq_level_2_breast/HTAPP-before-SMP-iso_TST_channel1_possorted_genome_bam.bam | bam | NA | NA | CellRanger | 03.01.2000 | CellRanger default parameters | https://portal.firecloud.org/?return=terra#methods/scCloud/cellranger_workflow/18 | GRCh38 | gs://lab/resources/cellranger/refdata-cellranger-GRCh38_premrna-3.0.0.tar.gz | gs://lab/resources/cellranger/refdata-cellranger-GRCh38_premrna-3.0.0.tar.gz | NA | https://github.com/10XGenomics/cellranger/blob/master/lib/python/cellranger/barcodes/3M-february-2018.txt.gz | CB:Z | UB:Z | No | NA | a542c211b1861bf4783531329112878b | GRCh38_premrna_v3.0.0 | V3 |\n",
       "| HTAPP-806-SMP-6800_fresh_channel1 | ScRNA-seqLevel2 | single_cell_RNAseq_level_2_breast/HTAPP-806-SMP-6800_fresh_channel1_possorted_genome_bam.bam | bam | NA | NA | CellRanger | 03.01.2000 | CellRanger default parameters | https://portal.firecloud.org/?return=terra#methods/scCloud/cellranger_workflow/18 | GRCh38 | gs://lab/resources/cellranger/refdata-cellranger-GRCh38-3.0.0.tar.gz         | gs://lab/resources/cellranger/refdata-cellranger-GRCh38-3.0.0.tar.gz         | NA | https://github.com/10XGenomics/cellranger/blob/master/lib/python/cellranger/barcodes/737K-august-2016.txt    | CB:Z | UB:Z | No | NA | 7ed49b05ff648c38e395b76251532e50 | GRCh38_v3.0.0         | V2 |\n",
       "| HTAPP-806-SMP-6800_fresh_channel2 | ScRNA-seqLevel2 | single_cell_RNAseq_level_2_breast/HTAPP-806-SMP-6800_fresh_channel2_possorted_genome_bam.bam | bam | NA | NA | CellRanger | 03.01.2000 | CellRanger default parameters | https://portal.firecloud.org/?return=terra#methods/scCloud/cellranger_workflow/18 | GRCh38 | gs://lab/resources/cellranger/refdata-cellranger-GRCh38-3.0.0.tar.gz         | gs://lab/resources/cellranger/refdata-cellranger-GRCh38-3.0.0.tar.gz         | NA | https://github.com/10XGenomics/cellranger/blob/master/lib/python/cellranger/barcodes/737K-august-2016.txt    | CB:Z | UB:Z | No | NA | 1c30e3f70c72513f47d9cb59076b1961 | GRCh38_v3.0.0         | V2 |\n",
       "| HTAPP-330-SMP-1082_fresh_channel1 | ScRNA-seqLevel2 | single_cell_RNAseq_level_2_breast/HTAPP-330-SMP-1082_fresh_channel1_possorted_genome_bam.bam | bam | NA | NA | CellRanger | 03.01.2000 | CellRanger default parameters | https://portal.firecloud.org/?return=terra#methods/scCloud/cellranger_workflow/18 | GRCh38 | gs://lab/resources/cellranger/refdata-cellranger-GRCh38-3.0.0.tar.gz         | gs://lab/resources/cellranger/refdata-cellranger-GRCh38-3.0.0.tar.gz         | NA | https://github.com/10XGenomics/cellranger/blob/master/lib/python/cellranger/barcodes/3M-february-2018.txt.gz | CB:Z | UB:Z | No | NA | 4a543c156dae225721befb26ce3a1627 | GRCh38_v3.0.0         | V3 |\n",
       "| HTAPP-988-SMP-7749_fresh_channel1 | ScRNA-seqLevel2 | single_cell_RNAseq_level_2_breast/HTAPP-988-SMP-7749_fresh_channel1_possorted_genome_bam.bam | bam | NA | NA | CellRanger | 03.01.2000 | CellRanger default parameters | https://portal.firecloud.org/?return=terra#methods/scCloud/cellranger_workflow/18 | GRCh38 | gs://lab/resources/cellranger/refdata-cellranger-GRCh38-3.0.0.tar.gz         | gs://lab/resources/cellranger/refdata-cellranger-GRCh38-3.0.0.tar.gz         | NA | https://github.com/10XGenomics/cellranger/blob/master/lib/python/cellranger/barcodes/3M-february-2018.txt.gz | CB:Z | UB:Z | No | NA | 2ebd7fb00e0c00aa5aa53e5578de74b2 | GRCh38_v3.0.0         | V3 |\n",
       "\n"
      ],
      "text/plain": [
       "  sample_name                       Component      \n",
       "1 HTAPP-after-SMP-iso_TST_channel1  ScRNA-seqLevel2\n",
       "2 HTAPP-before-SMP-iso_TST_channel1 ScRNA-seqLevel2\n",
       "3 HTAPP-806-SMP-6800_fresh_channel1 ScRNA-seqLevel2\n",
       "4 HTAPP-806-SMP-6800_fresh_channel2 ScRNA-seqLevel2\n",
       "5 HTAPP-330-SMP-1082_fresh_channel1 ScRNA-seqLevel2\n",
       "6 HTAPP-988-SMP-7749_fresh_channel1 ScRNA-seqLevel2\n",
       "  Filename                                                                                    \n",
       "1 single_cell_RNAseq_level_2_breast/HTAPP-after-SMP-iso_TST_channel1_possorted_genome_bam.bam \n",
       "2 single_cell_RNAseq_level_2_breast/HTAPP-before-SMP-iso_TST_channel1_possorted_genome_bam.bam\n",
       "3 single_cell_RNAseq_level_2_breast/HTAPP-806-SMP-6800_fresh_channel1_possorted_genome_bam.bam\n",
       "4 single_cell_RNAseq_level_2_breast/HTAPP-806-SMP-6800_fresh_channel2_possorted_genome_bam.bam\n",
       "5 single_cell_RNAseq_level_2_breast/HTAPP-330-SMP-1082_fresh_channel1_possorted_genome_bam.bam\n",
       "6 single_cell_RNAseq_level_2_breast/HTAPP-988-SMP-7749_fresh_channel1_possorted_genome_bam.bam\n",
       "  File Format HTAN Parent Data File ID HTAN Data File ID scRNAseq Workflow Type\n",
       "1 bam         NA                       NA                CellRanger            \n",
       "2 bam         NA                       NA                CellRanger            \n",
       "3 bam         NA                       NA                CellRanger            \n",
       "4 bam         NA                       NA                CellRanger            \n",
       "5 bam         NA                       NA                CellRanger            \n",
       "6 bam         NA                       NA                CellRanger            \n",
       "  Workflow Version scRNAseq Workflow Parameters Description\n",
       "1 03.01.2000       CellRanger default parameters           \n",
       "2 03.01.2000       CellRanger default parameters           \n",
       "3 03.01.2000       CellRanger default parameters           \n",
       "4 03.01.2000       CellRanger default parameters           \n",
       "5 03.01.2000       CellRanger default parameters           \n",
       "6 03.01.2000       CellRanger default parameters           \n",
       "  Workflow Link                                                                    \n",
       "1 https://portal.firecloud.org/?return=terra#methods/scCloud/cellranger_workflow/18\n",
       "2 https://portal.firecloud.org/?return=terra#methods/scCloud/cellranger_workflow/18\n",
       "3 https://portal.firecloud.org/?return=terra#methods/scCloud/cellranger_workflow/18\n",
       "4 https://portal.firecloud.org/?return=terra#methods/scCloud/cellranger_workflow/18\n",
       "5 https://portal.firecloud.org/?return=terra#methods/scCloud/cellranger_workflow/18\n",
       "6 https://portal.firecloud.org/?return=terra#methods/scCloud/cellranger_workflow/18\n",
       "  Genomic Reference\n",
       "1 GRCh38           \n",
       "2 GRCh38           \n",
       "3 GRCh38           \n",
       "4 GRCh38           \n",
       "5 GRCh38           \n",
       "6 GRCh38           \n",
       "  Genomic Reference URL                                                             \n",
       "1 gs://lab/resources/cellranger/refdata-cellranger-GRCh38_premrna-3.0.0.tar.gz\n",
       "2 gs://lab/resources/cellranger/refdata-cellranger-GRCh38_premrna-3.0.0.tar.gz\n",
       "3 gs://lab/resources/cellranger/refdata-cellranger-GRCh38-3.0.0.tar.gz        \n",
       "4 gs://lab/resources/cellranger/refdata-cellranger-GRCh38-3.0.0.tar.gz        \n",
       "5 gs://lab/resources/cellranger/refdata-cellranger-GRCh38-3.0.0.tar.gz        \n",
       "6 gs://lab/resources/cellranger/refdata-cellranger-GRCh38-3.0.0.tar.gz        \n",
       "  Genome Annotation URL                                                             \n",
       "1 gs://lab/resources/cellranger/refdata-cellranger-GRCh38_premrna-3.0.0.tar.gz\n",
       "2 gs://lab/resources/cellranger/refdata-cellranger-GRCh38_premrna-3.0.0.tar.gz\n",
       "3 gs://lab/resources/cellranger/refdata-cellranger-GRCh38-3.0.0.tar.gz        \n",
       "4 gs://lab/resources/cellranger/refdata-cellranger-GRCh38-3.0.0.tar.gz        \n",
       "5 gs://lab/resources/cellranger/refdata-cellranger-GRCh38-3.0.0.tar.gz        \n",
       "6 gs://lab/resources/cellranger/refdata-cellranger-GRCh38-3.0.0.tar.gz        \n",
       "  Checksum\n",
       "1 NA      \n",
       "2 NA      \n",
       "3 NA      \n",
       "4 NA      \n",
       "5 NA      \n",
       "6 NA      \n",
       "  Whitelist Cell Barcode File Link                                                                            \n",
       "1 https://github.com/10XGenomics/cellranger/blob/master/lib/python/cellranger/barcodes/3M-february-2018.txt.gz\n",
       "2 https://github.com/10XGenomics/cellranger/blob/master/lib/python/cellranger/barcodes/3M-february-2018.txt.gz\n",
       "3 https://github.com/10XGenomics/cellranger/blob/master/lib/python/cellranger/barcodes/737K-august-2016.txt   \n",
       "4 https://github.com/10XGenomics/cellranger/blob/master/lib/python/cellranger/barcodes/737K-august-2016.txt   \n",
       "5 https://github.com/10XGenomics/cellranger/blob/master/lib/python/cellranger/barcodes/3M-february-2018.txt.gz\n",
       "6 https://github.com/10XGenomics/cellranger/blob/master/lib/python/cellranger/barcodes/3M-february-2018.txt.gz\n",
       "  Cell Barcode Tag UMI Tag Applied Hard Trimming Aligned Read Length\n",
       "1 CB:Z             UB:Z    No                    NA                 \n",
       "2 CB:Z             UB:Z    No                    NA                 \n",
       "3 CB:Z             UB:Z    No                    NA                 \n",
       "4 CB:Z             UB:Z    No                    NA                 \n",
       "5 CB:Z             UB:Z    No                    NA                 \n",
       "6 CB:Z             UB:Z    No                    NA                 \n",
       "  checksum                         reference             mode\n",
       "1 178eedfbc37ec3c6c45ef5e56e8d034b GRCh38_premrna_v3.0.0 V3  \n",
       "2 a542c211b1861bf4783531329112878b GRCh38_premrna_v3.0.0 V3  \n",
       "3 7ed49b05ff648c38e395b76251532e50 GRCh38_v3.0.0         V2  \n",
       "4 1c30e3f70c72513f47d9cb59076b1961 GRCh38_v3.0.0         V2  \n",
       "5 4a543c156dae225721befb26ce3a1627 GRCh38_v3.0.0         V3  \n",
       "6 2ebd7fb00e0c00aa5aa53e5578de74b2 GRCh38_v3.0.0         V3  "
      ]
     },
     "metadata": {},
     "output_type": "display_data"
    }
   ],
   "source": [
    "tail(sheetL2)"
   ]
  },
  {
   "cell_type": "code",
   "execution_count": 114,
   "metadata": {},
   "outputs": [
    {
     "data": {
      "text/plain": [
       "\n",
       "TRUE \n",
       " 124 "
      ]
     },
     "metadata": {},
     "output_type": "display_data"
    }
   ],
   "source": [
    "table(sheetL2$Filename==sheetL2_orig$Filename)"
   ]
  },
  {
   "cell_type": "code",
   "execution_count": 133,
   "metadata": {},
   "outputs": [
    {
     "data": {
      "text/html": [
       "FALSE"
      ],
      "text/latex": [
       "FALSE"
      ],
      "text/markdown": [
       "FALSE"
      ],
      "text/plain": [
       "[1] FALSE"
      ]
     },
     "metadata": {},
     "output_type": "display_data"
    },
    {
     "data": {
      "text/html": [
       "FALSE"
      ],
      "text/latex": [
       "FALSE"
      ],
      "text/markdown": [
       "FALSE"
      ],
      "text/plain": [
       "[1] FALSE"
      ]
     },
     "metadata": {},
     "output_type": "display_data"
    }
   ],
   "source": [
    "#check that merge went well (no NA in condition)\n",
    "sheetL2[,any(mode==\"NA\")]\n",
    "sheetL2[,any(is.na(mode))]"
   ]
  },
  {
   "cell_type": "code",
   "execution_count": 115,
   "metadata": {},
   "outputs": [],
   "source": [
    "#write.table(sheetL2,paste0(out,\"/L2.tsv\"),sep=\"\\t\",quote=F,row.names=F)\n",
    "#3 samples added\n",
    "write.table(sheetL2,paste0(out,\"/L2_add.tsv\"),sep=\"\\t\",quote=F,row.names=F)"
   ]
  },
  {
   "cell_type": "markdown",
   "metadata": {},
   "source": [
    "### L3"
   ]
  },
  {
   "cell_type": "code",
   "execution_count": 117,
   "metadata": {},
   "outputs": [],
   "source": [
    "sheetL3 = fread(paste0(codeDir,\"/meta/MBC HTAPP_HTAN scRNA-seqLevel3.tsv\"))"
   ]
  },
  {
   "cell_type": "code",
   "execution_count": 118,
   "metadata": {},
   "outputs": [],
   "source": [
    "sheetL3_orig=copy(sheetL3)"
   ]
  },
  {
   "cell_type": "code",
   "execution_count": 119,
   "metadata": {},
   "outputs": [],
   "source": [
    "sheetL3[,sample_name:=gsub(\".*/|_matrix.mtx.gz\",\"\",Filename),]"
   ]
  },
  {
   "cell_type": "code",
   "execution_count": 120,
   "metadata": {},
   "outputs": [],
   "source": [
    "#use the preliminary filtering stats because the final filtering was not done on the test sampes (NST/CST etc.)\n",
    "annot=fread(paste0(baseDir,\"/analysis/00_stats/summary/all_stats_filt.tsv\"))"
   ]
  },
  {
   "cell_type": "code",
   "execution_count": 121,
   "metadata": {},
   "outputs": [],
   "source": [
    "annot=annot[pass==TRUE]"
   ]
  },
  {
   "cell_type": "code",
   "execution_count": 122,
   "metadata": {},
   "outputs": [
    {
     "data": {
      "text/html": [
       "<table>\n",
       "<caption>A data.table: 6 x 3</caption>\n",
       "<thead>\n",
       "\t<tr><th scope=col>channel_id</th><th scope=col>nCount_RNA</th><th scope=col>nFeature_RNA</th></tr>\n",
       "\t<tr><th scope=col>&lt;chr&gt;</th><th scope=col>&lt;int64&gt;</th><th scope=col>&lt;int&gt;</th></tr>\n",
       "</thead>\n",
       "<tbody>\n",
       "\t<tr><td>HTAPP-211-SMP-6751_TST_channel1</td><td>19870</td><td>7710</td></tr>\n",
       "\t<tr><td>HTAPP-211-SMP-6751_TST_channel1</td><td>18069</td><td>7931</td></tr>\n",
       "\t<tr><td>HTAPP-211-SMP-6751_TST_channel1</td><td>17433</td><td>7559</td></tr>\n",
       "\t<tr><td>HTAPP-211-SMP-6751_TST_channel1</td><td>16689</td><td>6613</td></tr>\n",
       "\t<tr><td>HTAPP-211-SMP-6751_TST_channel1</td><td>16494</td><td>7788</td></tr>\n",
       "\t<tr><td>HTAPP-211-SMP-6751_TST_channel1</td><td>16358</td><td>7774</td></tr>\n",
       "</tbody>\n",
       "</table>\n"
      ],
      "text/latex": [
       "A data.table: 6 x 3\n",
       "\\begin{tabular}{r|lll}\n",
       " channel\\_id & nCount\\_RNA & nFeature\\_RNA\\\\\n",
       " <chr> & <int64> & <int>\\\\\n",
       "\\hline\n",
       "\t HTAPP-211-SMP-6751\\_TST\\_channel1 & 19870 & 7710\\\\\n",
       "\t HTAPP-211-SMP-6751\\_TST\\_channel1 & 18069 & 7931\\\\\n",
       "\t HTAPP-211-SMP-6751\\_TST\\_channel1 & 17433 & 7559\\\\\n",
       "\t HTAPP-211-SMP-6751\\_TST\\_channel1 & 16689 & 6613\\\\\n",
       "\t HTAPP-211-SMP-6751\\_TST\\_channel1 & 16494 & 7788\\\\\n",
       "\t HTAPP-211-SMP-6751\\_TST\\_channel1 & 16358 & 7774\\\\\n",
       "\\end{tabular}\n"
      ],
      "text/markdown": [
       "\n",
       "A data.table: 6 x 3\n",
       "\n",
       "| channel_id &lt;chr&gt; | nCount_RNA &lt;int64&gt; | nFeature_RNA &lt;int&gt; |\n",
       "|---|---|---|\n",
       "| HTAPP-211-SMP-6751_TST_channel1 | 19870 | 7710 |\n",
       "| HTAPP-211-SMP-6751_TST_channel1 | 18069 | 7931 |\n",
       "| HTAPP-211-SMP-6751_TST_channel1 | 17433 | 7559 |\n",
       "| HTAPP-211-SMP-6751_TST_channel1 | 16689 | 6613 |\n",
       "| HTAPP-211-SMP-6751_TST_channel1 | 16494 | 7788 |\n",
       "| HTAPP-211-SMP-6751_TST_channel1 | 16358 | 7774 |\n",
       "\n"
      ],
      "text/plain": [
       "  channel_id                      nCount_RNA nFeature_RNA\n",
       "1 HTAPP-211-SMP-6751_TST_channel1 19870      7710        \n",
       "2 HTAPP-211-SMP-6751_TST_channel1 18069      7931        \n",
       "3 HTAPP-211-SMP-6751_TST_channel1 17433      7559        \n",
       "4 HTAPP-211-SMP-6751_TST_channel1 16689      6613        \n",
       "5 HTAPP-211-SMP-6751_TST_channel1 16494      7788        \n",
       "6 HTAPP-211-SMP-6751_TST_channel1 16358      7774        "
      ]
     },
     "metadata": {},
     "output_type": "display_data"
    }
   ],
   "source": [
    "head(annot[,c(\"channel_id\",\"nCount_RNA\",\"nFeature_RNA\")])"
   ]
  },
  {
   "cell_type": "code",
   "execution_count": 123,
   "metadata": {},
   "outputs": [],
   "source": [
    "annot_red=annot[,.(median_reads=median(nCount_RNA),median_genes=median(nFeature_RNA),Ncells=.N),by=\"channel_id\"]"
   ]
  },
  {
   "cell_type": "code",
   "execution_count": 124,
   "metadata": {},
   "outputs": [
    {
     "data": {
      "text/html": [
       "<table>\n",
       "<caption>A data.table: 6 x 4</caption>\n",
       "<thead>\n",
       "\t<tr><th scope=col>channel_id</th><th scope=col>median_reads</th><th scope=col>median_genes</th><th scope=col>Ncells</th></tr>\n",
       "\t<tr><th scope=col>&lt;chr&gt;</th><th scope=col>&lt;dbl&gt;</th><th scope=col>&lt;dbl&gt;</th><th scope=col>&lt;int&gt;</th></tr>\n",
       "</thead>\n",
       "<tbody>\n",
       "\t<tr><td>HTAPP-211-SMP-6751_TST_channel1</td><td>1818</td><td>1549</td><td>7766</td></tr>\n",
       "\t<tr><td>HTAPP-211-SMP-6751_TST_channel2</td><td>2606</td><td>2033</td><td>8876</td></tr>\n",
       "\t<tr><td>HTAPP-213-SMP-6752_TST_channel1</td><td>2386</td><td>1821</td><td>4921</td></tr>\n",
       "\t<tr><td>HTAPP-213-SMP-6752_TST_channel2</td><td>2152</td><td>1722</td><td>5479</td></tr>\n",
       "\t<tr><td>HTAPP-214-SMP-6753_TST_channel1</td><td>1640</td><td>1462</td><td>  35</td></tr>\n",
       "\t<tr><td>HTAPP-214-SMP-6753_TST_channel2</td><td>1275</td><td>1073</td><td>  29</td></tr>\n",
       "</tbody>\n",
       "</table>\n"
      ],
      "text/latex": [
       "A data.table: 6 x 4\n",
       "\\begin{tabular}{r|llll}\n",
       " channel\\_id & median\\_reads & median\\_genes & Ncells\\\\\n",
       " <chr> & <dbl> & <dbl> & <int>\\\\\n",
       "\\hline\n",
       "\t HTAPP-211-SMP-6751\\_TST\\_channel1 & 1818 & 1549 & 7766\\\\\n",
       "\t HTAPP-211-SMP-6751\\_TST\\_channel2 & 2606 & 2033 & 8876\\\\\n",
       "\t HTAPP-213-SMP-6752\\_TST\\_channel1 & 2386 & 1821 & 4921\\\\\n",
       "\t HTAPP-213-SMP-6752\\_TST\\_channel2 & 2152 & 1722 & 5479\\\\\n",
       "\t HTAPP-214-SMP-6753\\_TST\\_channel1 & 1640 & 1462 &   35\\\\\n",
       "\t HTAPP-214-SMP-6753\\_TST\\_channel2 & 1275 & 1073 &   29\\\\\n",
       "\\end{tabular}\n"
      ],
      "text/markdown": [
       "\n",
       "A data.table: 6 x 4\n",
       "\n",
       "| channel_id &lt;chr&gt; | median_reads &lt;dbl&gt; | median_genes &lt;dbl&gt; | Ncells &lt;int&gt; |\n",
       "|---|---|---|---|\n",
       "| HTAPP-211-SMP-6751_TST_channel1 | 1818 | 1549 | 7766 |\n",
       "| HTAPP-211-SMP-6751_TST_channel2 | 2606 | 2033 | 8876 |\n",
       "| HTAPP-213-SMP-6752_TST_channel1 | 2386 | 1821 | 4921 |\n",
       "| HTAPP-213-SMP-6752_TST_channel2 | 2152 | 1722 | 5479 |\n",
       "| HTAPP-214-SMP-6753_TST_channel1 | 1640 | 1462 |   35 |\n",
       "| HTAPP-214-SMP-6753_TST_channel2 | 1275 | 1073 |   29 |\n",
       "\n"
      ],
      "text/plain": [
       "  channel_id                      median_reads median_genes Ncells\n",
       "1 HTAPP-211-SMP-6751_TST_channel1 1818         1549         7766  \n",
       "2 HTAPP-211-SMP-6751_TST_channel2 2606         2033         8876  \n",
       "3 HTAPP-213-SMP-6752_TST_channel1 2386         1821         4921  \n",
       "4 HTAPP-213-SMP-6752_TST_channel2 2152         1722         5479  \n",
       "5 HTAPP-214-SMP-6753_TST_channel1 1640         1462           35  \n",
       "6 HTAPP-214-SMP-6753_TST_channel2 1275         1073           29  "
      ]
     },
     "metadata": {},
     "output_type": "display_data"
    }
   ],
   "source": [
    "head(annot_red)"
   ]
  },
  {
   "cell_type": "code",
   "execution_count": 125,
   "metadata": {},
   "outputs": [],
   "source": [
    "sheetL3=merge(sheetL3,annot_red,by.x=\"sample_name\",by.y=\"channel_id\",all.x = TRUE,sort = FALSE)"
   ]
  },
  {
   "cell_type": "code",
   "execution_count": 126,
   "metadata": {},
   "outputs": [
    {
     "data": {
      "text/html": [
       "<table>\n",
       "<caption>A data.table: 6 x 21</caption>\n",
       "<thead>\n",
       "\t<tr><th scope=col>sample_name</th><th scope=col>Component</th><th scope=col>Filename</th><th scope=col>File Format</th><th scope=col>HTAN Parent Data File ID</th><th scope=col>HTAN Data File ID</th><th scope=col>Data Category</th><th scope=col>Matrix Type</th><th scope=col>Linked Matrices</th><th scope=col>Cell Median Number Reads</th><th scope=col>Cell Median Number Genes</th><th scope=col>Cell Total</th><th scope=col>scRNAseq Workflow Type</th><th scope=col>scRNAseq Workflow Parameters Description</th><th scope=col>Workflow Link</th><th scope=col>Workflow Version</th><th scope=col>Workflow Start Datetime</th><th scope=col>Workflow End Datetime</th><th scope=col>median_reads</th><th scope=col>median_genes</th><th scope=col>Ncells</th></tr>\n",
       "\t<tr><th scope=col>&lt;chr&gt;</th><th scope=col>&lt;chr&gt;</th><th scope=col>&lt;chr&gt;</th><th scope=col>&lt;lgl&gt;</th><th scope=col>&lt;lgl&gt;</th><th scope=col>&lt;lgl&gt;</th><th scope=col>&lt;lgl&gt;</th><th scope=col>&lt;lgl&gt;</th><th scope=col>&lt;lgl&gt;</th><th scope=col>&lt;lgl&gt;</th><th scope=col>&lt;lgl&gt;</th><th scope=col>&lt;lgl&gt;</th><th scope=col>&lt;lgl&gt;</th><th scope=col>&lt;lgl&gt;</th><th scope=col>&lt;lgl&gt;</th><th scope=col>&lt;lgl&gt;</th><th scope=col>&lt;lgl&gt;</th><th scope=col>&lt;lgl&gt;</th><th scope=col>&lt;dbl&gt;</th><th scope=col>&lt;dbl&gt;</th><th scope=col>&lt;int&gt;</th></tr>\n",
       "</thead>\n",
       "<tbody>\n",
       "\t<tr><td>HTAPP-211-SMP-6751_TST_channel1_barcodes.tsv.gz</td><td></td><td>single_cell_RNAseq_level_3_breast/HTAPP-211-SMP-6751_TST_channel1_barcodes.tsv.gz</td><td>NA</td><td>NA</td><td>NA</td><td>NA</td><td>NA</td><td>NA</td><td>NA</td><td>NA</td><td>NA</td><td>NA</td><td>NA</td><td>NA</td><td>NA</td><td>NA</td><td>NA</td><td>  NA</td><td>  NA</td><td>  NA</td></tr>\n",
       "\t<tr><td>HTAPP-211-SMP-6751_TST_channel1_features.tsv.gz</td><td></td><td>single_cell_RNAseq_level_3_breast/HTAPP-211-SMP-6751_TST_channel1_features.tsv.gz</td><td>NA</td><td>NA</td><td>NA</td><td>NA</td><td>NA</td><td>NA</td><td>NA</td><td>NA</td><td>NA</td><td>NA</td><td>NA</td><td>NA</td><td>NA</td><td>NA</td><td>NA</td><td>  NA</td><td>  NA</td><td>  NA</td></tr>\n",
       "\t<tr><td>HTAPP-211-SMP-6751_TST_channel1                </td><td></td><td>single_cell_RNAseq_level_3_breast/HTAPP-211-SMP-6751_TST_channel1_matrix.mtx.gz  </td><td>NA</td><td>NA</td><td>NA</td><td>NA</td><td>NA</td><td>NA</td><td>NA</td><td>NA</td><td>NA</td><td>NA</td><td>NA</td><td>NA</td><td>NA</td><td>NA</td><td>NA</td><td>1818</td><td>1549</td><td>7766</td></tr>\n",
       "\t<tr><td>HTAPP-211-SMP-6751_TST_channel2_barcodes.tsv.gz</td><td></td><td>single_cell_RNAseq_level_3_breast/HTAPP-211-SMP-6751_TST_channel2_barcodes.tsv.gz</td><td>NA</td><td>NA</td><td>NA</td><td>NA</td><td>NA</td><td>NA</td><td>NA</td><td>NA</td><td>NA</td><td>NA</td><td>NA</td><td>NA</td><td>NA</td><td>NA</td><td>NA</td><td>  NA</td><td>  NA</td><td>  NA</td></tr>\n",
       "\t<tr><td>HTAPP-211-SMP-6751_TST_channel2_features.tsv.gz</td><td></td><td>single_cell_RNAseq_level_3_breast/HTAPP-211-SMP-6751_TST_channel2_features.tsv.gz</td><td>NA</td><td>NA</td><td>NA</td><td>NA</td><td>NA</td><td>NA</td><td>NA</td><td>NA</td><td>NA</td><td>NA</td><td>NA</td><td>NA</td><td>NA</td><td>NA</td><td>NA</td><td>  NA</td><td>  NA</td><td>  NA</td></tr>\n",
       "\t<tr><td>HTAPP-211-SMP-6751_TST_channel2                </td><td></td><td>single_cell_RNAseq_level_3_breast/HTAPP-211-SMP-6751_TST_channel2_matrix.mtx.gz  </td><td>NA</td><td>NA</td><td>NA</td><td>NA</td><td>NA</td><td>NA</td><td>NA</td><td>NA</td><td>NA</td><td>NA</td><td>NA</td><td>NA</td><td>NA</td><td>NA</td><td>NA</td><td>2606</td><td>2033</td><td>8876</td></tr>\n",
       "</tbody>\n",
       "</table>\n"
      ],
      "text/latex": [
       "A data.table: 6 x 21\n",
       "\\begin{tabular}{r|lllllllllllllllllllll}\n",
       " sample\\_name & Component & Filename & File Format & HTAN Parent Data File ID & HTAN Data File ID & Data Category & Matrix Type & Linked Matrices & Cell Median Number Reads & Cell Median Number Genes & Cell Total & scRNAseq Workflow Type & scRNAseq Workflow Parameters Description & Workflow Link & Workflow Version & Workflow Start Datetime & Workflow End Datetime & median\\_reads & median\\_genes & Ncells\\\\\n",
       " <chr> & <chr> & <chr> & <lgl> & <lgl> & <lgl> & <lgl> & <lgl> & <lgl> & <lgl> & <lgl> & <lgl> & <lgl> & <lgl> & <lgl> & <lgl> & <lgl> & <lgl> & <dbl> & <dbl> & <int>\\\\\n",
       "\\hline\n",
       "\t HTAPP-211-SMP-6751\\_TST\\_channel1\\_barcodes.tsv.gz &  & single\\_cell\\_RNAseq\\_level\\_3\\_breast/HTAPP-211-SMP-6751\\_TST\\_channel1\\_barcodes.tsv.gz & NA & NA & NA & NA & NA & NA & NA & NA & NA & NA & NA & NA & NA & NA & NA &   NA &   NA &   NA\\\\\n",
       "\t HTAPP-211-SMP-6751\\_TST\\_channel1\\_features.tsv.gz &  & single\\_cell\\_RNAseq\\_level\\_3\\_breast/HTAPP-211-SMP-6751\\_TST\\_channel1\\_features.tsv.gz & NA & NA & NA & NA & NA & NA & NA & NA & NA & NA & NA & NA & NA & NA & NA &   NA &   NA &   NA\\\\\n",
       "\t HTAPP-211-SMP-6751\\_TST\\_channel1                 &  & single\\_cell\\_RNAseq\\_level\\_3\\_breast/HTAPP-211-SMP-6751\\_TST\\_channel1\\_matrix.mtx.gz   & NA & NA & NA & NA & NA & NA & NA & NA & NA & NA & NA & NA & NA & NA & NA & 1818 & 1549 & 7766\\\\\n",
       "\t HTAPP-211-SMP-6751\\_TST\\_channel2\\_barcodes.tsv.gz &  & single\\_cell\\_RNAseq\\_level\\_3\\_breast/HTAPP-211-SMP-6751\\_TST\\_channel2\\_barcodes.tsv.gz & NA & NA & NA & NA & NA & NA & NA & NA & NA & NA & NA & NA & NA & NA & NA &   NA &   NA &   NA\\\\\n",
       "\t HTAPP-211-SMP-6751\\_TST\\_channel2\\_features.tsv.gz &  & single\\_cell\\_RNAseq\\_level\\_3\\_breast/HTAPP-211-SMP-6751\\_TST\\_channel2\\_features.tsv.gz & NA & NA & NA & NA & NA & NA & NA & NA & NA & NA & NA & NA & NA & NA & NA &   NA &   NA &   NA\\\\\n",
       "\t HTAPP-211-SMP-6751\\_TST\\_channel2                 &  & single\\_cell\\_RNAseq\\_level\\_3\\_breast/HTAPP-211-SMP-6751\\_TST\\_channel2\\_matrix.mtx.gz   & NA & NA & NA & NA & NA & NA & NA & NA & NA & NA & NA & NA & NA & NA & NA & 2606 & 2033 & 8876\\\\\n",
       "\\end{tabular}\n"
      ],
      "text/markdown": [
       "\n",
       "A data.table: 6 x 21\n",
       "\n",
       "| sample_name &lt;chr&gt; | Component &lt;chr&gt; | Filename &lt;chr&gt; | File Format &lt;lgl&gt; | HTAN Parent Data File ID &lt;lgl&gt; | HTAN Data File ID &lt;lgl&gt; | Data Category &lt;lgl&gt; | Matrix Type &lt;lgl&gt; | Linked Matrices &lt;lgl&gt; | Cell Median Number Reads &lt;lgl&gt; | Cell Median Number Genes &lt;lgl&gt; | Cell Total &lt;lgl&gt; | scRNAseq Workflow Type &lt;lgl&gt; | scRNAseq Workflow Parameters Description &lt;lgl&gt; | Workflow Link &lt;lgl&gt; | Workflow Version &lt;lgl&gt; | Workflow Start Datetime &lt;lgl&gt; | Workflow End Datetime &lt;lgl&gt; | median_reads &lt;dbl&gt; | median_genes &lt;dbl&gt; | Ncells &lt;int&gt; |\n",
       "|---|---|---|---|---|---|---|---|---|---|---|---|---|---|---|---|---|---|---|---|---|\n",
       "| HTAPP-211-SMP-6751_TST_channel1_barcodes.tsv.gz | <!----> | single_cell_RNAseq_level_3_breast/HTAPP-211-SMP-6751_TST_channel1_barcodes.tsv.gz | NA | NA | NA | NA | NA | NA | NA | NA | NA | NA | NA | NA | NA | NA | NA |   NA |   NA |   NA |\n",
       "| HTAPP-211-SMP-6751_TST_channel1_features.tsv.gz | <!----> | single_cell_RNAseq_level_3_breast/HTAPP-211-SMP-6751_TST_channel1_features.tsv.gz | NA | NA | NA | NA | NA | NA | NA | NA | NA | NA | NA | NA | NA | NA | NA |   NA |   NA |   NA |\n",
       "| HTAPP-211-SMP-6751_TST_channel1                 | <!----> | single_cell_RNAseq_level_3_breast/HTAPP-211-SMP-6751_TST_channel1_matrix.mtx.gz   | NA | NA | NA | NA | NA | NA | NA | NA | NA | NA | NA | NA | NA | NA | NA | 1818 | 1549 | 7766 |\n",
       "| HTAPP-211-SMP-6751_TST_channel2_barcodes.tsv.gz | <!----> | single_cell_RNAseq_level_3_breast/HTAPP-211-SMP-6751_TST_channel2_barcodes.tsv.gz | NA | NA | NA | NA | NA | NA | NA | NA | NA | NA | NA | NA | NA | NA | NA |   NA |   NA |   NA |\n",
       "| HTAPP-211-SMP-6751_TST_channel2_features.tsv.gz | <!----> | single_cell_RNAseq_level_3_breast/HTAPP-211-SMP-6751_TST_channel2_features.tsv.gz | NA | NA | NA | NA | NA | NA | NA | NA | NA | NA | NA | NA | NA | NA | NA |   NA |   NA |   NA |\n",
       "| HTAPP-211-SMP-6751_TST_channel2                 | <!----> | single_cell_RNAseq_level_3_breast/HTAPP-211-SMP-6751_TST_channel2_matrix.mtx.gz   | NA | NA | NA | NA | NA | NA | NA | NA | NA | NA | NA | NA | NA | NA | NA | 2606 | 2033 | 8876 |\n",
       "\n"
      ],
      "text/plain": [
       "  sample_name                                     Component\n",
       "1 HTAPP-211-SMP-6751_TST_channel1_barcodes.tsv.gz          \n",
       "2 HTAPP-211-SMP-6751_TST_channel1_features.tsv.gz          \n",
       "3 HTAPP-211-SMP-6751_TST_channel1                          \n",
       "4 HTAPP-211-SMP-6751_TST_channel2_barcodes.tsv.gz          \n",
       "5 HTAPP-211-SMP-6751_TST_channel2_features.tsv.gz          \n",
       "6 HTAPP-211-SMP-6751_TST_channel2                          \n",
       "  Filename                                                                         \n",
       "1 single_cell_RNAseq_level_3_breast/HTAPP-211-SMP-6751_TST_channel1_barcodes.tsv.gz\n",
       "2 single_cell_RNAseq_level_3_breast/HTAPP-211-SMP-6751_TST_channel1_features.tsv.gz\n",
       "3 single_cell_RNAseq_level_3_breast/HTAPP-211-SMP-6751_TST_channel1_matrix.mtx.gz  \n",
       "4 single_cell_RNAseq_level_3_breast/HTAPP-211-SMP-6751_TST_channel2_barcodes.tsv.gz\n",
       "5 single_cell_RNAseq_level_3_breast/HTAPP-211-SMP-6751_TST_channel2_features.tsv.gz\n",
       "6 single_cell_RNAseq_level_3_breast/HTAPP-211-SMP-6751_TST_channel2_matrix.mtx.gz  \n",
       "  File Format HTAN Parent Data File ID HTAN Data File ID Data Category\n",
       "1 NA          NA                       NA                NA           \n",
       "2 NA          NA                       NA                NA           \n",
       "3 NA          NA                       NA                NA           \n",
       "4 NA          NA                       NA                NA           \n",
       "5 NA          NA                       NA                NA           \n",
       "6 NA          NA                       NA                NA           \n",
       "  Matrix Type Linked Matrices Cell Median Number Reads Cell Median Number Genes\n",
       "1 NA          NA              NA                       NA                      \n",
       "2 NA          NA              NA                       NA                      \n",
       "3 NA          NA              NA                       NA                      \n",
       "4 NA          NA              NA                       NA                      \n",
       "5 NA          NA              NA                       NA                      \n",
       "6 NA          NA              NA                       NA                      \n",
       "  Cell Total scRNAseq Workflow Type scRNAseq Workflow Parameters Description\n",
       "1 NA         NA                     NA                                      \n",
       "2 NA         NA                     NA                                      \n",
       "3 NA         NA                     NA                                      \n",
       "4 NA         NA                     NA                                      \n",
       "5 NA         NA                     NA                                      \n",
       "6 NA         NA                     NA                                      \n",
       "  Workflow Link Workflow Version Workflow Start Datetime Workflow End Datetime\n",
       "1 NA            NA               NA                      NA                   \n",
       "2 NA            NA               NA                      NA                   \n",
       "3 NA            NA               NA                      NA                   \n",
       "4 NA            NA               NA                      NA                   \n",
       "5 NA            NA               NA                      NA                   \n",
       "6 NA            NA               NA                      NA                   \n",
       "  median_reads median_genes Ncells\n",
       "1   NA           NA           NA  \n",
       "2   NA           NA           NA  \n",
       "3 1818         1549         7766  \n",
       "4   NA           NA           NA  \n",
       "5   NA           NA           NA  \n",
       "6 2606         2033         8876  "
      ]
     },
     "metadata": {},
     "output_type": "display_data"
    }
   ],
   "source": [
    "head(sheetL3)"
   ]
  },
  {
   "cell_type": "code",
   "execution_count": 127,
   "metadata": {},
   "outputs": [
    {
     "data": {
      "text/html": [
       "<table>\n",
       "<caption>A data.table: 2 x 21</caption>\n",
       "<thead>\n",
       "\t<tr><th scope=col>sample_name</th><th scope=col>Component</th><th scope=col>Filename</th><th scope=col>File Format</th><th scope=col>HTAN Parent Data File ID</th><th scope=col>HTAN Data File ID</th><th scope=col>Data Category</th><th scope=col>Matrix Type</th><th scope=col>Linked Matrices</th><th scope=col>Cell Median Number Reads</th><th scope=col>Cell Median Number Genes</th><th scope=col>Cell Total</th><th scope=col>scRNAseq Workflow Type</th><th scope=col>scRNAseq Workflow Parameters Description</th><th scope=col>Workflow Link</th><th scope=col>Workflow Version</th><th scope=col>Workflow Start Datetime</th><th scope=col>Workflow End Datetime</th><th scope=col>median_reads</th><th scope=col>median_genes</th><th scope=col>Ncells</th></tr>\n",
       "\t<tr><th scope=col>&lt;chr&gt;</th><th scope=col>&lt;chr&gt;</th><th scope=col>&lt;chr&gt;</th><th scope=col>&lt;lgl&gt;</th><th scope=col>&lt;lgl&gt;</th><th scope=col>&lt;lgl&gt;</th><th scope=col>&lt;lgl&gt;</th><th scope=col>&lt;lgl&gt;</th><th scope=col>&lt;lgl&gt;</th><th scope=col>&lt;lgl&gt;</th><th scope=col>&lt;lgl&gt;</th><th scope=col>&lt;lgl&gt;</th><th scope=col>&lt;lgl&gt;</th><th scope=col>&lt;lgl&gt;</th><th scope=col>&lt;lgl&gt;</th><th scope=col>&lt;lgl&gt;</th><th scope=col>&lt;lgl&gt;</th><th scope=col>&lt;lgl&gt;</th><th scope=col>&lt;dbl&gt;</th><th scope=col>&lt;dbl&gt;</th><th scope=col>&lt;int&gt;</th></tr>\n",
       "</thead>\n",
       "<tbody>\n",
       "\t<tr><td>HTAPP-after-SMP-iso_TST_channel1 </td><td></td><td>single_cell_RNAseq_level_3_breast/HTAPP-after-SMP-iso_TST_channel1_matrix.mtx.gz </td><td>NA</td><td>NA</td><td>NA</td><td>NA</td><td>NA</td><td>NA</td><td>NA</td><td>NA</td><td>NA</td><td>NA</td><td>NA</td><td>NA</td><td>NA</td><td>NA</td><td>NA</td><td>NA</td><td>NA</td><td>NA</td></tr>\n",
       "\t<tr><td>HTAPP-before-SMP-iso_TST_channel1</td><td></td><td>single_cell_RNAseq_level_3_breast/HTAPP-before-SMP-iso_TST_channel1_matrix.mtx.gz</td><td>NA</td><td>NA</td><td>NA</td><td>NA</td><td>NA</td><td>NA</td><td>NA</td><td>NA</td><td>NA</td><td>NA</td><td>NA</td><td>NA</td><td>NA</td><td>NA</td><td>NA</td><td>NA</td><td>NA</td><td>NA</td></tr>\n",
       "</tbody>\n",
       "</table>\n"
      ],
      "text/latex": [
       "A data.table: 2 x 21\n",
       "\\begin{tabular}{r|lllllllllllllllllllll}\n",
       " sample\\_name & Component & Filename & File Format & HTAN Parent Data File ID & HTAN Data File ID & Data Category & Matrix Type & Linked Matrices & Cell Median Number Reads & Cell Median Number Genes & Cell Total & scRNAseq Workflow Type & scRNAseq Workflow Parameters Description & Workflow Link & Workflow Version & Workflow Start Datetime & Workflow End Datetime & median\\_reads & median\\_genes & Ncells\\\\\n",
       " <chr> & <chr> & <chr> & <lgl> & <lgl> & <lgl> & <lgl> & <lgl> & <lgl> & <lgl> & <lgl> & <lgl> & <lgl> & <lgl> & <lgl> & <lgl> & <lgl> & <lgl> & <dbl> & <dbl> & <int>\\\\\n",
       "\\hline\n",
       "\t HTAPP-after-SMP-iso\\_TST\\_channel1  &  & single\\_cell\\_RNAseq\\_level\\_3\\_breast/HTAPP-after-SMP-iso\\_TST\\_channel1\\_matrix.mtx.gz  & NA & NA & NA & NA & NA & NA & NA & NA & NA & NA & NA & NA & NA & NA & NA & NA & NA & NA\\\\\n",
       "\t HTAPP-before-SMP-iso\\_TST\\_channel1 &  & single\\_cell\\_RNAseq\\_level\\_3\\_breast/HTAPP-before-SMP-iso\\_TST\\_channel1\\_matrix.mtx.gz & NA & NA & NA & NA & NA & NA & NA & NA & NA & NA & NA & NA & NA & NA & NA & NA & NA & NA\\\\\n",
       "\\end{tabular}\n"
      ],
      "text/markdown": [
       "\n",
       "A data.table: 2 x 21\n",
       "\n",
       "| sample_name &lt;chr&gt; | Component &lt;chr&gt; | Filename &lt;chr&gt; | File Format &lt;lgl&gt; | HTAN Parent Data File ID &lt;lgl&gt; | HTAN Data File ID &lt;lgl&gt; | Data Category &lt;lgl&gt; | Matrix Type &lt;lgl&gt; | Linked Matrices &lt;lgl&gt; | Cell Median Number Reads &lt;lgl&gt; | Cell Median Number Genes &lt;lgl&gt; | Cell Total &lt;lgl&gt; | scRNAseq Workflow Type &lt;lgl&gt; | scRNAseq Workflow Parameters Description &lt;lgl&gt; | Workflow Link &lt;lgl&gt; | Workflow Version &lt;lgl&gt; | Workflow Start Datetime &lt;lgl&gt; | Workflow End Datetime &lt;lgl&gt; | median_reads &lt;dbl&gt; | median_genes &lt;dbl&gt; | Ncells &lt;int&gt; |\n",
       "|---|---|---|---|---|---|---|---|---|---|---|---|---|---|---|---|---|---|---|---|---|\n",
       "| HTAPP-after-SMP-iso_TST_channel1  | <!----> | single_cell_RNAseq_level_3_breast/HTAPP-after-SMP-iso_TST_channel1_matrix.mtx.gz  | NA | NA | NA | NA | NA | NA | NA | NA | NA | NA | NA | NA | NA | NA | NA | NA | NA | NA |\n",
       "| HTAPP-before-SMP-iso_TST_channel1 | <!----> | single_cell_RNAseq_level_3_breast/HTAPP-before-SMP-iso_TST_channel1_matrix.mtx.gz | NA | NA | NA | NA | NA | NA | NA | NA | NA | NA | NA | NA | NA | NA | NA | NA | NA | NA |\n",
       "\n"
      ],
      "text/plain": [
       "  sample_name                       Component\n",
       "1 HTAPP-after-SMP-iso_TST_channel1           \n",
       "2 HTAPP-before-SMP-iso_TST_channel1          \n",
       "  Filename                                                                         \n",
       "1 single_cell_RNAseq_level_3_breast/HTAPP-after-SMP-iso_TST_channel1_matrix.mtx.gz \n",
       "2 single_cell_RNAseq_level_3_breast/HTAPP-before-SMP-iso_TST_channel1_matrix.mtx.gz\n",
       "  File Format HTAN Parent Data File ID HTAN Data File ID Data Category\n",
       "1 NA          NA                       NA                NA           \n",
       "2 NA          NA                       NA                NA           \n",
       "  Matrix Type Linked Matrices Cell Median Number Reads Cell Median Number Genes\n",
       "1 NA          NA              NA                       NA                      \n",
       "2 NA          NA              NA                       NA                      \n",
       "  Cell Total scRNAseq Workflow Type scRNAseq Workflow Parameters Description\n",
       "1 NA         NA                     NA                                      \n",
       "2 NA         NA                     NA                                      \n",
       "  Workflow Link Workflow Version Workflow Start Datetime Workflow End Datetime\n",
       "1 NA            NA               NA                      NA                   \n",
       "2 NA            NA               NA                      NA                   \n",
       "  median_reads median_genes Ncells\n",
       "1 NA           NA           NA    \n",
       "2 NA           NA           NA    "
      ]
     },
     "metadata": {},
     "output_type": "display_data"
    }
   ],
   "source": [
    "sheetL3[is.na(median_reads)&!grepl(\"gz\",sample_name)]"
   ]
  },
  {
   "cell_type": "code",
   "execution_count": 128,
   "metadata": {},
   "outputs": [
    {
     "data": {
      "text/plain": [
       "\n",
       "TRUE \n",
       " 372 "
      ]
     },
     "metadata": {},
     "output_type": "display_data"
    }
   ],
   "source": [
    "table(sheetL3$Filename==sheetL3_orig$Filename)"
   ]
  },
  {
   "cell_type": "code",
   "execution_count": 129,
   "metadata": {},
   "outputs": [],
   "source": [
    "#write.table(sheetL3,paste0(out,\"/L3.tsv\"),sep=\"\\t\",quote=F,row.names=F)\n",
    "#3 samples added\n",
    "write.table(sheetL3,paste0(out,\"/L3_add.tsv\"),sep=\"\\t\",quote=F,row.names=F)"
   ]
  },
  {
   "cell_type": "code",
   "execution_count": null,
   "metadata": {},
   "outputs": [],
   "source": []
  }
 ],
 "metadata": {
  "kernelspec": {
   "display_name": "R_S3",
   "language": "R",
   "name": "ir_s3"
  },
  "language_info": {
   "codemirror_mode": "r",
   "file_extension": ".r",
   "mimetype": "text/x-r-source",
   "name": "R",
   "pygments_lexer": "r",
   "version": "3.6.3"
  }
 },
 "nbformat": 4,
 "nbformat_minor": 2
}
