{
 "cells": [
  {
   "cell_type": "code",
   "execution_count": 1,
   "metadata": {},
   "outputs": [
    {
     "name": "stderr",
     "output_type": "stream",
     "text": [
      "\n",
      "Attaching package: 'dplyr'\n",
      "\n",
      "\n",
      "The following objects are masked from 'package:data.table':\n",
      "\n",
      "    between, first, last\n",
      "\n",
      "\n",
      "The following objects are masked from 'package:stats':\n",
      "\n",
      "    filter, lag\n",
      "\n",
      "\n",
      "The following objects are masked from 'package:base':\n",
      "\n",
      "    intersect, setdiff, setequal, union\n",
      "\n",
      "\n"
     ]
    }
   ],
   "source": [
    "library(data.table)\n",
    "library(ggplot2)\n",
    "library(tidyr)\n",
    "library(grid)\n",
    "library(dplyr)"
   ]
  },
  {
   "cell_type": "code",
   "execution_count": 2,
   "metadata": {},
   "outputs": [],
   "source": [
    "#some nicer themes and useful functions\n",
    "theme_set(theme_bw(base_size=10))\n",
    "theme_update(axis.text=element_text(color=\"black\"), panel.grid.minor = element_blank(),panel.background = element_rect(fill = \"white\"))\n",
    "rotate_labels=function(angle=60,vjust=1,hjust=1){return(theme(axis.text.x = element_text(angle = angle, vjust = vjust,hjust=hjust)))}"
   ]
  },
  {
   "cell_type": "code",
   "execution_count": 3,
   "metadata": {},
   "outputs": [
    {
     "name": "stderr",
     "output_type": "stream",
     "text": [
      "Warning message in dir.create(out, recursive = TRUE):\n",
      "\"'/ahg/regevdata/projects/PediatricCancer/results/2021_04_15_powerEstimator' already exists\"\n"
     ]
    }
   ],
   "source": [
    "#specify where to save outputs\n",
    "out=\"/ahg/regevdata/projects/PediatricCancer/results/2021_04_15_powerEstimator/\"\n",
    "dir.create(out,recursive = TRUE)"
   ]
  },
  {
   "cell_type": "code",
   "execution_count": 4,
   "metadata": {},
   "outputs": [
    {
     "data": {
      "text/plain": [
       "\n",
       "     B cell Endothelial Erythrocyte   Malignant     Myeloid      Stroma \n",
       "       6840       44680         261      344124       36498       52346 \n",
       "     T cell        Zona \n",
       "      31510       14290 "
      ]
     },
     "metadata": {},
     "output_type": "display_data"
    },
    {
     "data": {
      "text/html": [
       "<table>\n",
       "<caption>A data.table: 6 x 24</caption>\n",
       "<thead>\n",
       "\t<tr><th scope=col>cellid</th><th scope=col>name</th><th scope=col>nCount_RNA</th><th scope=col>nFeature_RNA</th><th scope=col>nGene</th><th scope=col>Channel</th><th scope=col>Replicate</th><th scope=col>Condition</th><th scope=col>nUMI</th><th scope=col>percent_mito</th><th scope=col>...</th><th scope=col>condition</th><th scope=col>doublet</th><th scope=col>doubletscore</th><th scope=col>nRead_RNA</th><th scope=col>nHK_RNA</th><th scope=col>SingleR.cell.labels</th><th scope=col>SingleR.cluster.labels</th><th scope=col>conos_clusters</th><th scope=col>annotate_coarse</th><th scope=col>cell_type</th></tr>\n",
       "\t<tr><th scope=col>&lt;chr&gt;</th><th scope=col>&lt;chr&gt;</th><th scope=col>&lt;int&gt;</th><th scope=col>&lt;int&gt;</th><th scope=col>&lt;int&gt;</th><th scope=col>&lt;chr&gt;</th><th scope=col>&lt;int&gt;</th><th scope=col>&lt;chr&gt;</th><th scope=col>&lt;int&gt;</th><th scope=col>&lt;dbl&gt;</th><th scope=col>...</th><th scope=col>&lt;chr&gt;</th><th scope=col>&lt;lgl&gt;</th><th scope=col>&lt;dbl&gt;</th><th scope=col>&lt;int&gt;</th><th scope=col>&lt;int&gt;</th><th scope=col>&lt;chr&gt;</th><th scope=col>&lt;chr&gt;</th><th scope=col>&lt;int&gt;</th><th scope=col>&lt;chr&gt;</th><th scope=col>&lt;chr&gt;</th></tr>\n",
       "</thead>\n",
       "<tbody>\n",
       "\t<tr><td>HTAPP-312-SMP-901_fresh-T1_channel1-TTTGTCATCTATCGCC</td><td>HTAPP-312-SMP-901</td><td>36277</td><td>6161</td><td>6161</td><td>HTAPP-312-SMP-901_fresh-T1_channel1</td><td>1</td><td>fresh-T1</td><td>36277</td><td>4.484935</td><td>...</td><td>cell</td><td>FALSE</td><td>0.1578947</td><td>5548</td><td>83</td><td>Neurons</td><td>Neurons</td><td>1</td><td>Stromal_Malignant</td><td>Malignant</td></tr>\n",
       "\t<tr><td>HTAPP-312-SMP-901_fresh-T1_channel1-AACTCCCTCACGCGGT</td><td>HTAPP-312-SMP-901</td><td>34855</td><td>5889</td><td>5889</td><td>HTAPP-312-SMP-901_fresh-T1_channel1</td><td>1</td><td>fresh-T1</td><td>34855</td><td>4.010902</td><td>...</td><td>cell</td><td>FALSE</td><td>0.1923331</td><td>9633</td><td>83</td><td>Neurons</td><td>Neurons</td><td>1</td><td>Stromal_Malignant</td><td>Malignant</td></tr>\n",
       "\t<tr><td>HTAPP-312-SMP-901_fresh-T1_channel1-GCTGCTTGTGTAATGA</td><td>HTAPP-312-SMP-901</td><td>33654</td><td>5906</td><td>5906</td><td>HTAPP-312-SMP-901_fresh-T1_channel1</td><td>1</td><td>fresh-T1</td><td>33654</td><td>5.853688</td><td>...</td><td>cell</td><td>FALSE</td><td>0.2067511</td><td>4701</td><td>82</td><td>Neurons</td><td>Neurons</td><td>1</td><td>Stromal_Malignant</td><td>Malignant</td></tr>\n",
       "\t<tr><td>HTAPP-312-SMP-901_fresh-T1_channel1-CTCAGAAAGTGTCTCA</td><td>HTAPP-312-SMP-901</td><td>32768</td><td>5828</td><td>5828</td><td>HTAPP-312-SMP-901_fresh-T1_channel1</td><td>1</td><td>fresh-T1</td><td>32768</td><td>6.771851</td><td>...</td><td>cell</td><td>FALSE</td><td>0.2419355</td><td>5403</td><td>83</td><td>Neurons</td><td>Neurons</td><td>1</td><td>Stromal_Malignant</td><td>Malignant</td></tr>\n",
       "\t<tr><td>HTAPP-312-SMP-901_fresh-T1_channel1-ACGCCGAAGCAGCGTA</td><td>HTAPP-312-SMP-901</td><td>32089</td><td>5156</td><td>5156</td><td>HTAPP-312-SMP-901_fresh-T1_channel1</td><td>1</td><td>fresh-T1</td><td>32089</td><td>5.082739</td><td>...</td><td>cell</td><td>FALSE</td><td>0.1191432</td><td>1298</td><td>82</td><td>Neurons</td><td>Neurons</td><td>1</td><td>Stromal_Malignant</td><td>Malignant</td></tr>\n",
       "\t<tr><td>HTAPP-312-SMP-901_fresh-T1_channel1-TTCGGTCTCAAGAAGT</td><td>HTAPP-312-SMP-901</td><td>30704</td><td>5908</td><td>5908</td><td>HTAPP-312-SMP-901_fresh-T1_channel1</td><td>1</td><td>fresh-T1</td><td>30704</td><td>4.810448</td><td>...</td><td>cell</td><td>FALSE</td><td>0.1795511</td><td>8978</td><td>86</td><td>Neurons</td><td>Neurons</td><td>1</td><td>Stromal_Malignant</td><td>Malignant</td></tr>\n",
       "</tbody>\n",
       "</table>\n"
      ],
      "text/latex": [
       "A data.table: 6 x 24\n",
       "\\begin{tabular}{lllllllllllllllllllll}\n",
       " cellid & name & nCount\\_RNA & nFeature\\_RNA & nGene & Channel & Replicate & Condition & nUMI & percent\\_mito & ... & condition & doublet & doubletscore & nRead\\_RNA & nHK\\_RNA & SingleR.cell.labels & SingleR.cluster.labels & conos\\_clusters & annotate\\_coarse & cell\\_type\\\\\n",
       " <chr> & <chr> & <int> & <int> & <int> & <chr> & <int> & <chr> & <int> & <dbl> & ... & <chr> & <lgl> & <dbl> & <int> & <int> & <chr> & <chr> & <int> & <chr> & <chr>\\\\\n",
       "\\hline\n",
       "\t HTAPP-312-SMP-901\\_fresh-T1\\_channel1-TTTGTCATCTATCGCC & HTAPP-312-SMP-901 & 36277 & 6161 & 6161 & HTAPP-312-SMP-901\\_fresh-T1\\_channel1 & 1 & fresh-T1 & 36277 & 4.484935 & ... & cell & FALSE & 0.1578947 & 5548 & 83 & Neurons & Neurons & 1 & Stromal\\_Malignant & Malignant\\\\\n",
       "\t HTAPP-312-SMP-901\\_fresh-T1\\_channel1-AACTCCCTCACGCGGT & HTAPP-312-SMP-901 & 34855 & 5889 & 5889 & HTAPP-312-SMP-901\\_fresh-T1\\_channel1 & 1 & fresh-T1 & 34855 & 4.010902 & ... & cell & FALSE & 0.1923331 & 9633 & 83 & Neurons & Neurons & 1 & Stromal\\_Malignant & Malignant\\\\\n",
       "\t HTAPP-312-SMP-901\\_fresh-T1\\_channel1-GCTGCTTGTGTAATGA & HTAPP-312-SMP-901 & 33654 & 5906 & 5906 & HTAPP-312-SMP-901\\_fresh-T1\\_channel1 & 1 & fresh-T1 & 33654 & 5.853688 & ... & cell & FALSE & 0.2067511 & 4701 & 82 & Neurons & Neurons & 1 & Stromal\\_Malignant & Malignant\\\\\n",
       "\t HTAPP-312-SMP-901\\_fresh-T1\\_channel1-CTCAGAAAGTGTCTCA & HTAPP-312-SMP-901 & 32768 & 5828 & 5828 & HTAPP-312-SMP-901\\_fresh-T1\\_channel1 & 1 & fresh-T1 & 32768 & 6.771851 & ... & cell & FALSE & 0.2419355 & 5403 & 83 & Neurons & Neurons & 1 & Stromal\\_Malignant & Malignant\\\\\n",
       "\t HTAPP-312-SMP-901\\_fresh-T1\\_channel1-ACGCCGAAGCAGCGTA & HTAPP-312-SMP-901 & 32089 & 5156 & 5156 & HTAPP-312-SMP-901\\_fresh-T1\\_channel1 & 1 & fresh-T1 & 32089 & 5.082739 & ... & cell & FALSE & 0.1191432 & 1298 & 82 & Neurons & Neurons & 1 & Stromal\\_Malignant & Malignant\\\\\n",
       "\t HTAPP-312-SMP-901\\_fresh-T1\\_channel1-TTCGGTCTCAAGAAGT & HTAPP-312-SMP-901 & 30704 & 5908 & 5908 & HTAPP-312-SMP-901\\_fresh-T1\\_channel1 & 1 & fresh-T1 & 30704 & 4.810448 & ... & cell & FALSE & 0.1795511 & 8978 & 86 & Neurons & Neurons & 1 & Stromal\\_Malignant & Malignant\\\\\n",
       "\\end{tabular}\n"
      ],
      "text/markdown": [
       "\n",
       "A data.table: 6 x 24\n",
       "\n",
       "| cellid &lt;chr&gt; | name &lt;chr&gt; | nCount_RNA &lt;int&gt; | nFeature_RNA &lt;int&gt; | nGene &lt;int&gt; | Channel &lt;chr&gt; | Replicate &lt;int&gt; | Condition &lt;chr&gt; | nUMI &lt;int&gt; | percent_mito &lt;dbl&gt; | ... ... | condition &lt;chr&gt; | doublet &lt;lgl&gt; | doubletscore &lt;dbl&gt; | nRead_RNA &lt;int&gt; | nHK_RNA &lt;int&gt; | SingleR.cell.labels &lt;chr&gt; | SingleR.cluster.labels &lt;chr&gt; | conos_clusters &lt;int&gt; | annotate_coarse &lt;chr&gt; | cell_type &lt;chr&gt; |\n",
       "|---|---|---|---|---|---|---|---|---|---|---|---|---|---|---|---|---|---|---|---|---|\n",
       "| HTAPP-312-SMP-901_fresh-T1_channel1-TTTGTCATCTATCGCC | HTAPP-312-SMP-901 | 36277 | 6161 | 6161 | HTAPP-312-SMP-901_fresh-T1_channel1 | 1 | fresh-T1 | 36277 | 4.484935 | ... | cell | FALSE | 0.1578947 | 5548 | 83 | Neurons | Neurons | 1 | Stromal_Malignant | Malignant |\n",
       "| HTAPP-312-SMP-901_fresh-T1_channel1-AACTCCCTCACGCGGT | HTAPP-312-SMP-901 | 34855 | 5889 | 5889 | HTAPP-312-SMP-901_fresh-T1_channel1 | 1 | fresh-T1 | 34855 | 4.010902 | ... | cell | FALSE | 0.1923331 | 9633 | 83 | Neurons | Neurons | 1 | Stromal_Malignant | Malignant |\n",
       "| HTAPP-312-SMP-901_fresh-T1_channel1-GCTGCTTGTGTAATGA | HTAPP-312-SMP-901 | 33654 | 5906 | 5906 | HTAPP-312-SMP-901_fresh-T1_channel1 | 1 | fresh-T1 | 33654 | 5.853688 | ... | cell | FALSE | 0.2067511 | 4701 | 82 | Neurons | Neurons | 1 | Stromal_Malignant | Malignant |\n",
       "| HTAPP-312-SMP-901_fresh-T1_channel1-CTCAGAAAGTGTCTCA | HTAPP-312-SMP-901 | 32768 | 5828 | 5828 | HTAPP-312-SMP-901_fresh-T1_channel1 | 1 | fresh-T1 | 32768 | 6.771851 | ... | cell | FALSE | 0.2419355 | 5403 | 83 | Neurons | Neurons | 1 | Stromal_Malignant | Malignant |\n",
       "| HTAPP-312-SMP-901_fresh-T1_channel1-ACGCCGAAGCAGCGTA | HTAPP-312-SMP-901 | 32089 | 5156 | 5156 | HTAPP-312-SMP-901_fresh-T1_channel1 | 1 | fresh-T1 | 32089 | 5.082739 | ... | cell | FALSE | 0.1191432 | 1298 | 82 | Neurons | Neurons | 1 | Stromal_Malignant | Malignant |\n",
       "| HTAPP-312-SMP-901_fresh-T1_channel1-TTCGGTCTCAAGAAGT | HTAPP-312-SMP-901 | 30704 | 5908 | 5908 | HTAPP-312-SMP-901_fresh-T1_channel1 | 1 | fresh-T1 | 30704 | 4.810448 | ... | cell | FALSE | 0.1795511 | 8978 | 86 | Neurons | Neurons | 1 | Stromal_Malignant | Malignant |\n",
       "\n"
      ],
      "text/plain": [
       "  cellid                                               name             \n",
       "1 HTAPP-312-SMP-901_fresh-T1_channel1-TTTGTCATCTATCGCC HTAPP-312-SMP-901\n",
       "2 HTAPP-312-SMP-901_fresh-T1_channel1-AACTCCCTCACGCGGT HTAPP-312-SMP-901\n",
       "3 HTAPP-312-SMP-901_fresh-T1_channel1-GCTGCTTGTGTAATGA HTAPP-312-SMP-901\n",
       "4 HTAPP-312-SMP-901_fresh-T1_channel1-CTCAGAAAGTGTCTCA HTAPP-312-SMP-901\n",
       "5 HTAPP-312-SMP-901_fresh-T1_channel1-ACGCCGAAGCAGCGTA HTAPP-312-SMP-901\n",
       "6 HTAPP-312-SMP-901_fresh-T1_channel1-TTCGGTCTCAAGAAGT HTAPP-312-SMP-901\n",
       "  nCount_RNA nFeature_RNA nGene Channel                             Replicate\n",
       "1 36277      6161         6161  HTAPP-312-SMP-901_fresh-T1_channel1 1        \n",
       "2 34855      5889         5889  HTAPP-312-SMP-901_fresh-T1_channel1 1        \n",
       "3 33654      5906         5906  HTAPP-312-SMP-901_fresh-T1_channel1 1        \n",
       "4 32768      5828         5828  HTAPP-312-SMP-901_fresh-T1_channel1 1        \n",
       "5 32089      5156         5156  HTAPP-312-SMP-901_fresh-T1_channel1 1        \n",
       "6 30704      5908         5908  HTAPP-312-SMP-901_fresh-T1_channel1 1        \n",
       "  Condition nUMI  percent_mito ... condition doublet doubletscore nRead_RNA\n",
       "1 fresh-T1  36277 4.484935     ... cell      FALSE   0.1578947    5548     \n",
       "2 fresh-T1  34855 4.010902     ... cell      FALSE   0.1923331    9633     \n",
       "3 fresh-T1  33654 5.853688     ... cell      FALSE   0.2067511    4701     \n",
       "4 fresh-T1  32768 6.771851     ... cell      FALSE   0.2419355    5403     \n",
       "5 fresh-T1  32089 5.082739     ... cell      FALSE   0.1191432    1298     \n",
       "6 fresh-T1  30704 4.810448     ... cell      FALSE   0.1795511    8978     \n",
       "  nHK_RNA SingleR.cell.labels SingleR.cluster.labels conos_clusters\n",
       "1 83      Neurons             Neurons                1             \n",
       "2 83      Neurons             Neurons                1             \n",
       "3 82      Neurons             Neurons                1             \n",
       "4 83      Neurons             Neurons                1             \n",
       "5 82      Neurons             Neurons                1             \n",
       "6 86      Neurons             Neurons                1             \n",
       "  annotate_coarse   cell_type\n",
       "1 Stromal_Malignant Malignant\n",
       "2 Stromal_Malignant Malignant\n",
       "3 Stromal_Malignant Malignant\n",
       "4 Stromal_Malignant Malignant\n",
       "5 Stromal_Malignant Malignant\n",
       "6 Stromal_Malignant Malignant"
      ]
     },
     "metadata": {},
     "output_type": "display_data"
    },
    {
     "data": {
      "text/html": [
       "<style>\n",
       ".list-inline {list-style: none; margin:0; padding: 0}\n",
       ".list-inline>li {display: inline-block}\n",
       ".list-inline>li:not(:last-child)::after {content: \"\\00b7\"; padding: 0 .5ex}\n",
       "</style>\n",
       "<ol class=list-inline><li>'cellid'</li><li>'name'</li><li>'nCount_RNA'</li><li>'nFeature_RNA'</li><li>'nGene'</li><li>'Channel'</li><li>'Replicate'</li><li>'Condition'</li><li>'nUMI'</li><li>'percent_mito'</li><li>'scale'</li><li>'louvain_labels'</li><li>'leiden_labels'</li><li>'chemistry'</li><li>'condition'</li><li>'doublet'</li><li>'doubletscore'</li><li>'nRead_RNA'</li><li>'nHK_RNA'</li><li>'SingleR.cell.labels'</li><li>'SingleR.cluster.labels'</li><li>'conos_clusters'</li><li>'annotate_coarse'</li><li>'cell_type'</li></ol>\n"
      ],
      "text/latex": [
       "\\begin{enumerate*}\n",
       "\\item 'cellid'\n",
       "\\item 'name'\n",
       "\\item 'nCount\\_RNA'\n",
       "\\item 'nFeature\\_RNA'\n",
       "\\item 'nGene'\n",
       "\\item 'Channel'\n",
       "\\item 'Replicate'\n",
       "\\item 'Condition'\n",
       "\\item 'nUMI'\n",
       "\\item 'percent\\_mito'\n",
       "\\item 'scale'\n",
       "\\item 'louvain\\_labels'\n",
       "\\item 'leiden\\_labels'\n",
       "\\item 'chemistry'\n",
       "\\item 'condition'\n",
       "\\item 'doublet'\n",
       "\\item 'doubletscore'\n",
       "\\item 'nRead\\_RNA'\n",
       "\\item 'nHK\\_RNA'\n",
       "\\item 'SingleR.cell.labels'\n",
       "\\item 'SingleR.cluster.labels'\n",
       "\\item 'conos\\_clusters'\n",
       "\\item 'annotate\\_coarse'\n",
       "\\item 'cell\\_type'\n",
       "\\end{enumerate*}\n"
      ],
      "text/markdown": [
       "1. 'cellid'\n",
       "2. 'name'\n",
       "3. 'nCount_RNA'\n",
       "4. 'nFeature_RNA'\n",
       "5. 'nGene'\n",
       "6. 'Channel'\n",
       "7. 'Replicate'\n",
       "8. 'Condition'\n",
       "9. 'nUMI'\n",
       "10. 'percent_mito'\n",
       "11. 'scale'\n",
       "12. 'louvain_labels'\n",
       "13. 'leiden_labels'\n",
       "14. 'chemistry'\n",
       "15. 'condition'\n",
       "16. 'doublet'\n",
       "17. 'doubletscore'\n",
       "18. 'nRead_RNA'\n",
       "19. 'nHK_RNA'\n",
       "20. 'SingleR.cell.labels'\n",
       "21. 'SingleR.cluster.labels'\n",
       "22. 'conos_clusters'\n",
       "23. 'annotate_coarse'\n",
       "24. 'cell_type'\n",
       "\n",
       "\n"
      ],
      "text/plain": [
       " [1] \"cellid\"                 \"name\"                   \"nCount_RNA\"            \n",
       " [4] \"nFeature_RNA\"           \"nGene\"                  \"Channel\"               \n",
       " [7] \"Replicate\"              \"Condition\"              \"nUMI\"                  \n",
       "[10] \"percent_mito\"           \"scale\"                  \"louvain_labels\"        \n",
       "[13] \"leiden_labels\"          \"chemistry\"              \"condition\"             \n",
       "[16] \"doublet\"                \"doubletscore\"           \"nRead_RNA\"             \n",
       "[19] \"nHK_RNA\"                \"SingleR.cell.labels\"    \"SingleR.cluster.labels\"\n",
       "[22] \"conos_clusters\"         \"annotate_coarse\"        \"cell_type\"             "
      ]
     },
     "metadata": {},
     "output_type": "display_data"
    }
   ],
   "source": [
    "#Load a table that contains a cell type annotation for each cell. This is usually the seurat meta or scanpy obs slot saved as tsv (or similar).\n",
    "#annot=fread(\"/ahg/regevdata/projects/PediatricCancer/results/2020_09_15_neuroblastoma_inferCNV/metadata_allcells_allnuclei_addCNV_annotate.csv\")\n",
    "annot=fread(\"/ahg/regevdata/projects/PediatricCancer/results/2021_04_28_neuroblastoma_slideseq//metadata_allcells_allnuclei_addCNV_annotate_refine_slideseq_samples.csv\")  # from neuroblastoma_slideseq_common_reference.Rmd\n",
    "\n",
    "setnames(annot, \"orig.ident\", \"name\")\n",
    "setnames(annot, \"V1\", \"cellid\")\n",
    "setnames(annot, \"annotate_refine_1\", \"cell_type\")\n",
    "#setnames(annot, \"SingleR.cluster.labels\", \"cell_type\")\n",
    "\n",
    "# Group all malignant cell types under a single label, Malignant\n",
    "annot$cell_type <- dplyr::recode(annot$cell_type, \"cycling sympathoblast\" = \"Malignant\", \"sympathoblast\" = \"Malignant\", \"SCP\" = \"Malignant\")\n",
    "table(annot$cell_type)\n",
    "\n",
    "head(annot)\n",
    "colnames(annot)"
   ]
  },
  {
   "cell_type": "code",
   "execution_count": 5,
   "metadata": {},
   "outputs": [
    {
     "data": {
      "text/plain": [
       "\n",
       "     B cell Endothelial Erythrocyte   Malignant     Myeloid      Stroma \n",
       "       6840       44680         261      344124       36498       52346 \n",
       "     T cell        Zona \n",
       "      31510       14290 "
      ]
     },
     "metadata": {},
     "output_type": "display_data"
    }
   ],
   "source": [
    "annot$cell_type <- dplyr::recode(annot$cell_type, \"cycling sympathoblast\" = \"Malignant\", \"sympathoblast\" = \"Malignant\", \"SCP\" = \"Malignant\")\n",
    "table(annot$cell_type)"
   ]
  },
  {
   "cell_type": "code",
   "execution_count": 6,
   "metadata": {},
   "outputs": [
    {
     "name": "stdout",
     "output_type": "stream",
     "text": [
      "HTAPP-100-SMP-1 HTAPP-102-SMP-11 HTAPP-114-SMP-21 HTAPP-116-SMP-31 HTAPP-120-SMP-41 HTAPP-123-SMP-51 HTAPP-124-SMP-61 HTAPP-125-SMP-71 HTAPP-126-SMP-81 HTAPP-130-SMP-91 HTAPP-136-SMP-102 HTAPP-141-SMP-111 HTAPP-141-SMP-119 HTAPP-145-SMP-121 HTAPP-146-SMP-131 HTAPP-148-SMP-141 HTAPP-155-SMP-151 HTAPP-159-SMP-171 HTAPP-163-SMP-181 HTAPP-164-SMP-191 HTAPP-166-SMP-201 HTAPP-167-SMP-211 HTAPP-168-SMP-221 HTAPP-171-SMP-231 HTAPP-184-SMP-241 HTAPP-194-SMP-251 HTAPP-195-SMP-261 HTAPP-196-SMP-271 HTAPP-198-SMP-281 HTAPP-204-SMP-6601 HTAPP-233-SMP-361 HTAPP-244-SMP-451 HTAPP-312-SMP-901 HTAPP-312-SMP-902 HTAPP-352-SMP-1231 HTAPP-376-SMP-1381 HTAPP-396-SMP-1621 HTAPP-437-SMP-1861 HTAPP-527-SMP-6767 HTAPP-621-SMP-3181 HTAPP-656-SMP-3481_TST HTAPP-656-SMP-3481_fresh HTAPP-672-SMP-8509 HTAPP-683-SMP-6769 HTAPP-756-SMP-6779 HTAPP-766-SMP-6780 HTAPP-768-SMP-6781 HTAPP-797-SMP-4232 HTAPP-800-SMP-6783 HTAPP-800-SMP-6784 HTAPP-803-SMP-6786 HTAPP-811-SMP-6832 HTAPP-811-SMP-6833 HTAPP-811-SMP-6834 HTAPP-813-SMP-6848 HTAPP-829-SMP-6975 HTAPP-931-SMP-7448\n"
     ]
    },
    {
     "data": {
      "text/html": [
       "<table>\n",
       "<caption>A data.table: 2 x 2</caption>\n",
       "<thead>\n",
       "\t<tr><th scope=col>condition</th><th scope=col>Nsamples</th></tr>\n",
       "\t<tr><th scope=col>&lt;chr&gt;</th><th scope=col>&lt;int&gt;</th></tr>\n",
       "</thead>\n",
       "<tbody>\n",
       "\t<tr><td>cell   </td><td>13</td></tr>\n",
       "\t<tr><td>nucleus</td><td>44</td></tr>\n",
       "</tbody>\n",
       "</table>\n"
      ],
      "text/latex": [
       "A data.table: 2 x 2\n",
       "\\begin{tabular}{ll}\n",
       " condition & Nsamples\\\\\n",
       " <chr> & <int>\\\\\n",
       "\\hline\n",
       "\t cell    & 13\\\\\n",
       "\t nucleus & 44\\\\\n",
       "\\end{tabular}\n"
      ],
      "text/markdown": [
       "\n",
       "A data.table: 2 x 2\n",
       "\n",
       "| condition &lt;chr&gt; | Nsamples &lt;int&gt; |\n",
       "|---|---|\n",
       "| cell    | 13 |\n",
       "| nucleus | 44 |\n",
       "\n"
      ],
      "text/plain": [
       "  condition Nsamples\n",
       "1 cell      13      \n",
       "2 nucleus   44      "
      ]
     },
     "metadata": {},
     "output_type": "display_data"
    },
    {
     "data": {
      "text/html": [
       "<table>\n",
       "<caption>A data.table: 2 x 2</caption>\n",
       "<thead>\n",
       "\t<tr><th scope=col>condition</th><th scope=col>Ncells</th></tr>\n",
       "\t<tr><th scope=col>&lt;chr&gt;</th><th scope=col>&lt;int&gt;</th></tr>\n",
       "</thead>\n",
       "<tbody>\n",
       "\t<tr><td>cell   </td><td> 85052</td></tr>\n",
       "\t<tr><td>nucleus</td><td>445497</td></tr>\n",
       "</tbody>\n",
       "</table>\n"
      ],
      "text/latex": [
       "A data.table: 2 x 2\n",
       "\\begin{tabular}{ll}\n",
       " condition & Ncells\\\\\n",
       " <chr> & <int>\\\\\n",
       "\\hline\n",
       "\t cell    &  85052\\\\\n",
       "\t nucleus & 445497\\\\\n",
       "\\end{tabular}\n"
      ],
      "text/markdown": [
       "\n",
       "A data.table: 2 x 2\n",
       "\n",
       "| condition &lt;chr&gt; | Ncells &lt;int&gt; |\n",
       "|---|---|\n",
       "| cell    |  85052 |\n",
       "| nucleus | 445497 |\n",
       "\n"
      ],
      "text/plain": [
       "  condition Ncells\n",
       "1 cell       85052\n",
       "2 nucleus   445497"
      ]
     },
     "metadata": {},
     "output_type": "display_data"
    }
   ],
   "source": [
    "# get some stats on the cohort\n",
    "cat(sort(unique(annot$name)))\n",
    "cat('\\n')\n",
    "cat(unique(annot$ccpm_id))\n",
    "annot[,.(Nsamples=length(unique(name))),by=condition]\n",
    "annot[,.(Ncells=.N),by=c(\"condition\")]"
   ]
  },
  {
   "cell_type": "markdown",
   "metadata": {},
   "source": [
    "### 0 Preparation "
   ]
  },
  {
   "cell_type": "code",
   "execution_count": 7,
   "metadata": {},
   "outputs": [
    {
     "data": {
      "text/html": [
       "<table>\n",
       "<caption>A data.table: 6 x 4</caption>\n",
       "<thead>\n",
       "\t<tr><th scope=col>name</th><th scope=col>cell_type</th><th scope=col>condition</th><th scope=col>N_cells</th></tr>\n",
       "\t<tr><th scope=col>&lt;chr&gt;</th><th scope=col>&lt;chr&gt;</th><th scope=col>&lt;chr&gt;</th><th scope=col>&lt;int&gt;</th></tr>\n",
       "</thead>\n",
       "<tbody>\n",
       "\t<tr><td>HTAPP-312-SMP-901       </td><td>Malignant  </td><td>cell</td><td>4992</td></tr>\n",
       "\t<tr><td>HTAPP-312-SMP-901       </td><td>Myeloid    </td><td>cell</td><td>  62</td></tr>\n",
       "\t<tr><td>HTAPP-312-SMP-901       </td><td>T cell     </td><td>cell</td><td>  19</td></tr>\n",
       "\t<tr><td>HTAPP-656-SMP-3481_fresh</td><td>Zona       </td><td>cell</td><td> 123</td></tr>\n",
       "\t<tr><td>HTAPP-656-SMP-3481_fresh</td><td>Endothelial</td><td>cell</td><td> 370</td></tr>\n",
       "\t<tr><td>HTAPP-656-SMP-3481_fresh</td><td>Myeloid    </td><td>cell</td><td> 465</td></tr>\n",
       "</tbody>\n",
       "</table>\n"
      ],
      "text/latex": [
       "A data.table: 6 x 4\n",
       "\\begin{tabular}{llll}\n",
       " name & cell\\_type & condition & N\\_cells\\\\\n",
       " <chr> & <chr> & <chr> & <int>\\\\\n",
       "\\hline\n",
       "\t HTAPP-312-SMP-901        & Malignant   & cell & 4992\\\\\n",
       "\t HTAPP-312-SMP-901        & Myeloid     & cell &   62\\\\\n",
       "\t HTAPP-312-SMP-901        & T cell      & cell &   19\\\\\n",
       "\t HTAPP-656-SMP-3481\\_fresh & Zona        & cell &  123\\\\\n",
       "\t HTAPP-656-SMP-3481\\_fresh & Endothelial & cell &  370\\\\\n",
       "\t HTAPP-656-SMP-3481\\_fresh & Myeloid     & cell &  465\\\\\n",
       "\\end{tabular}\n"
      ],
      "text/markdown": [
       "\n",
       "A data.table: 6 x 4\n",
       "\n",
       "| name &lt;chr&gt; | cell_type &lt;chr&gt; | condition &lt;chr&gt; | N_cells &lt;int&gt; |\n",
       "|---|---|---|---|\n",
       "| HTAPP-312-SMP-901        | Malignant   | cell | 4992 |\n",
       "| HTAPP-312-SMP-901        | Myeloid     | cell |   62 |\n",
       "| HTAPP-312-SMP-901        | T cell      | cell |   19 |\n",
       "| HTAPP-656-SMP-3481_fresh | Zona        | cell |  123 |\n",
       "| HTAPP-656-SMP-3481_fresh | Endothelial | cell |  370 |\n",
       "| HTAPP-656-SMP-3481_fresh | Myeloid     | cell |  465 |\n",
       "\n"
      ],
      "text/plain": [
       "  name                     cell_type   condition N_cells\n",
       "1 HTAPP-312-SMP-901        Malignant   cell      4992   \n",
       "2 HTAPP-312-SMP-901        Myeloid     cell        62   \n",
       "3 HTAPP-312-SMP-901        T cell      cell        19   \n",
       "4 HTAPP-656-SMP-3481_fresh Zona        cell       123   \n",
       "5 HTAPP-656-SMP-3481_fresh Endothelial cell       370   \n",
       "6 HTAPP-656-SMP-3481_fresh Myeloid     cell       465   "
      ]
     },
     "metadata": {},
     "output_type": "display_data"
    }
   ],
   "source": [
    "#Reduce the annotation table to only relevant columns and calculate per-sample cell type numbers.\n",
    "#Minimum requirement: sample name (here \"name\") and annotated cell type of a cell (here \"cell_type\"). \n",
    "#All other columns are covariates by which one might want to subset the data\n",
    "#cell_counts=annot[,.(N_cells=.N),by=c(\"name\",\"cell_type\",\"condition\",\"site_biopsy\",\"ER_biopsy\",\"PR_biopsy\",\"HER2_biopsy\")]\n",
    "cell_counts=annot[,.(N_cells=.N),by=c(\"name\", \"cell_type\", \"condition\")]\n",
    "#cell_counts=annot[,.(N_cells=.N),by=c(\"name\", \"SingleR.cluster.labels\", \"Channel\", \"condition\")]\n",
    "head(cell_counts)"
   ]
  },
  {
   "cell_type": "markdown",
   "metadata": {},
   "source": [
    "### 1 Perfom the core of the analyis step by step on one set of sampels"
   ]
  },
  {
   "cell_type": "code",
   "execution_count": 8,
   "metadata": {},
   "outputs": [],
   "source": [
    "#Function to plot beta distribution densities given priors stored in dt\n",
    "plot_density=function(dt){\n",
    "    l=list()\n",
    "    for (i in 1:nrow(dt)){\n",
    "    x=seq(from = 0,to = 1,by = 0.01)\n",
    "    tc_dat=data.table(Frequency=x,Density=dbeta(x=x,shape1=1+dt[i,]$Ntc,shape2=1+dt[i,]$Nntc))\n",
    "    pl=ggplot(tc_dat,aes(Frequency,Density))+geom_line()+geom_vline(xintercept = dt[i,]$ftc,col=\"red\")+ggtitle(dt[i,]$name)+theme(plot.title = element_text(size = 8))\n",
    "    l[[i]]=pl\n",
    "    }\n",
    "    return(l)\n",
    "}"
   ]
  },
  {
   "cell_type": "markdown",
   "metadata": {},
   "source": [
    "#### 1.1 Setup"
   ]
  },
  {
   "cell_type": "code",
   "execution_count": 9,
   "metadata": {},
   "outputs": [],
   "source": [
    "#subset\n",
    "sub=cell_counts[condition==\"cell\"]\n",
    "#target cell type\n",
    "tc=\"T cell\""
   ]
  },
  {
   "cell_type": "code",
   "execution_count": 10,
   "metadata": {},
   "outputs": [],
   "source": [
    "minC=50 #minimum number of cells from cell type of interest required\n",
    "minS=5 #minimum number of samples with minC cells (referred to as \"positive samples\")\n",
    "conf=0.95 #required confidence level of prediction\n",
    "maxNc=8000 #maximum number of cells that can be sampled per sample\n",
    "n=5 #number of samples to be included in the training set"
   ]
  },
  {
   "cell_type": "code",
   "execution_count": 11,
   "metadata": {},
   "outputs": [],
   "source": [
    "# split in train and test samples\n",
    "set.seed(42)\n",
    "train_samples=sample(unique(sub$name),size=n,replace=FALSE)\n",
    "train=sub[name%in%train_samples]\n",
    "test=sub[!name%in%train_samples]"
   ]
  },
  {
   "cell_type": "markdown",
   "metadata": {},
   "source": [
    "#### 1.2 Analysis"
   ]
  },
  {
   "cell_type": "code",
   "execution_count": 12,
   "metadata": {},
   "outputs": [],
   "source": [
    "# per sample caluclate number of target cells and number of non-target cells\n",
    "train_c=train[,.(Ntc=N_cells[cell_type==tc],Nntc=sum(N_cells[cell_type!=tc])),by=\"name\"]\n",
    "train_c[is.na(train_c)]=0"
   ]
  },
  {
   "cell_type": "code",
   "execution_count": 13,
   "metadata": {},
   "outputs": [
    {
     "data": {
      "text/html": [
       "<table>\n",
       "<caption>A data.table: 5 x 6</caption>\n",
       "<thead>\n",
       "\t<tr><th scope=col>name</th><th scope=col>Ntc</th><th scope=col>Nntc</th><th scope=col>ftc</th><th scope=col>ptc</th><th scope=col>Nc</th></tr>\n",
       "\t<tr><th scope=col>&lt;chr&gt;</th><th scope=col>&lt;int&gt;</th><th scope=col>&lt;int&gt;</th><th scope=col>&lt;dbl&gt;</th><th scope=col>&lt;dbl&gt;</th><th scope=col>&lt;dbl&gt;</th></tr>\n",
       "</thead>\n",
       "<tbody>\n",
       "\t<tr><td>HTAPP-312-SMP-901 </td><td>  19</td><td>5054</td><td>0.00261375</td><td>0.03253477</td><td>19129.6045</td></tr>\n",
       "\t<tr><td>HTAPP-797-SMP-4232</td><td>2882</td><td>7733</td><td>0.26447063</td><td>1.00000000</td><td>  189.0569</td></tr>\n",
       "\t<tr><td>HTAPP-813-SMP-6848</td><td> 106</td><td>6570</td><td>0.01358063</td><td>0.99999999</td><td> 3681.7155</td></tr>\n",
       "\t<tr><td>HTAPP-164-SMP-191 </td><td> 130</td><td>2650</td><td>0.04067379</td><td>1.00000000</td><td> 1229.2928</td></tr>\n",
       "\t<tr><td>HTAPP-931-SMP-7448</td><td>  90</td><td>3146</td><td>0.02349849</td><td>1.00000000</td><td> 2127.7962</td></tr>\n",
       "</tbody>\n",
       "</table>\n"
      ],
      "text/latex": [
       "A data.table: 5 x 6\n",
       "\\begin{tabular}{llllll}\n",
       " name & Ntc & Nntc & ftc & ptc & Nc\\\\\n",
       " <chr> & <int> & <int> & <dbl> & <dbl> & <dbl>\\\\\n",
       "\\hline\n",
       "\t HTAPP-312-SMP-901  &   19 & 5054 & 0.00261375 & 0.03253477 & 19129.6045\\\\\n",
       "\t HTAPP-797-SMP-4232 & 2882 & 7733 & 0.26447063 & 1.00000000 &   189.0569\\\\\n",
       "\t HTAPP-813-SMP-6848 &  106 & 6570 & 0.01358063 & 0.99999999 &  3681.7155\\\\\n",
       "\t HTAPP-164-SMP-191  &  130 & 2650 & 0.04067379 & 1.00000000 &  1229.2928\\\\\n",
       "\t HTAPP-931-SMP-7448 &   90 & 3146 & 0.02349849 & 1.00000000 &  2127.7962\\\\\n",
       "\\end{tabular}\n"
      ],
      "text/markdown": [
       "\n",
       "A data.table: 5 x 6\n",
       "\n",
       "| name &lt;chr&gt; | Ntc &lt;int&gt; | Nntc &lt;int&gt; | ftc &lt;dbl&gt; | ptc &lt;dbl&gt; | Nc &lt;dbl&gt; |\n",
       "|---|---|---|---|---|---|\n",
       "| HTAPP-312-SMP-901  |   19 | 5054 | 0.00261375 | 0.03253477 | 19129.6045 |\n",
       "| HTAPP-797-SMP-4232 | 2882 | 7733 | 0.26447063 | 1.00000000 |   189.0569 |\n",
       "| HTAPP-813-SMP-6848 |  106 | 6570 | 0.01358063 | 0.99999999 |  3681.7155 |\n",
       "| HTAPP-164-SMP-191  |  130 | 2650 | 0.04067379 | 1.00000000 |  1229.2928 |\n",
       "| HTAPP-931-SMP-7448 |   90 | 3146 | 0.02349849 | 1.00000000 |  2127.7962 |\n",
       "\n"
      ],
      "text/plain": [
       "  name               Ntc  Nntc ftc        ptc        Nc        \n",
       "1 HTAPP-312-SMP-901    19 5054 0.00261375 0.03253477 19129.6045\n",
       "2 HTAPP-797-SMP-4232 2882 7733 0.26447063 1.00000000   189.0569\n",
       "3 HTAPP-813-SMP-6848  106 6570 0.01358063 0.99999999  3681.7155\n",
       "4 HTAPP-164-SMP-191   130 2650 0.04067379 1.00000000  1229.2928\n",
       "5 HTAPP-931-SMP-7448   90 3146 0.02349849 1.00000000  2127.7962"
      ]
     },
     "metadata": {},
     "output_type": "display_data"
    }
   ],
   "source": [
    "# target cell type fraction at selcted confidence level\n",
    "train_c[,ftc:=qbeta(p=c(1-conf),shape1=1+Ntc,shape2=1+Nntc),by=name]\n",
    "# probability of being a sample with enough cells of the target cell type\n",
    "train_c[,ptc:=mean(pbinom(minC-1,maxNc,prob = rbeta(1000,shape1 =1+Ntc ,shape2 = 1+Nntc),lower.tail = FALSE)),by=name]\n",
    "# number of cells needed at selected confidence level (basis to estimate minimum number of cells per sample that need to be sampled)\n",
    "train_c[,Nc:=minC/ftc,]\n",
    "train_c"
   ]
  },
  {
   "cell_type": "code",
   "execution_count": 14,
   "metadata": {},
   "outputs": [
    {
     "data": {
      "image/png": "[encoded data removed]",
      "text/plain": [
       "plot without title"
      ]
     },
     "metadata": {
      "image/png": {
       "height": 120,
       "width": 720
      }
     },
     "output_type": "display_data"
    }
   ],
   "source": [
    "# plot target cell type frequency distribution for each sample.\n",
    "#Indicated in red is the frequency at which the probability of observing a higher frequency is the confidence level (conf).\n",
    "options(repr.plot.width = 12, repr.plot.height =2)\n",
    "pl=plot_density(train_c)\n",
    "cowplot::plot_grid(plotlist = pl,ncol=5)"
   ]
  },
  {
   "cell_type": "code",
   "execution_count": 15,
   "metadata": {},
   "outputs": [],
   "source": [
    "# calculate deiscrete and continuous number of samples with (positive) and without (negative) enough cells of the target cell type \n",
    "train_s=train_c[,.(Ntc=sum(Nc<=maxNc),Nntc=sum(Nc>maxNc),ftc_c=sum(ptc),ftc_nc=sum(1-ptc))]\n",
    "train_s[,ftc:=qbeta(p=c(1-conf),shape1=1+Ntc,shape2=1+Nntc)] # discrete fraction of positive samples\n",
    "train_s[,ftc_cont:=qbeta(p=c(1-conf),shape1=1+ftc_c,shape2=1+ftc_nc)] #continuous fraction of discrete samples\n",
    "#Rough estimates for the number of smaples needed\n",
    "train_s[,Nc:=minS/ftc,] #discrete estimate\n",
    "train_s[,Nc_cont:=minS/ftc_cont,] #continuous estimate\n",
    "train_s[,Nc_low:=minS/qbeta(p=c(1-conf),shape1=1+Ntc+1,shape2=1+Nntc-1),] #discrete estimate if one more sample was positive\n",
    "train_s[,Nc_high:=minS/qbeta(p=c(1-conf),shape1=1+Ntc-1,shape2=1+Nntc+1),] #discrete estimate if one more sample was positive\n",
    "\n",
    "# Adjust the continuous estimate such that averaged across 1000 sampling experiments the desired probability of success (conf) is reached. \n",
    "#--> Nc_ref is the recommended number of samples.\n",
    "train_s[,Nc_ref:=ceiling(Nc_cont),]\n",
    "train_s[,post_conf:=mean(pbinom(minS-1,Nc_ref,prob = rbeta(1000,shape1 =1+ftc_c ,shape2 = 1+ftc_nc),lower.tail = FALSE))]\n",
    "stopifnot(train_s$post_conf<conf)\n",
    "while (train_s$post_conf<conf){\n",
    "    train_s[,Nc_ref:=Nc_ref+1,]\n",
    "    train_s[,post_conf:=mean(pbinom(minS-1,Nc_ref,prob = rbeta(1000,shape1 =1+ftc_c ,shape2 = 1+ftc_nc),lower.tail = FALSE))]\n",
    "}\n",
    "\n",
    "train_s"
   ]
  },
  {
   "cell_type": "code",
   "execution_count": 16,
   "metadata": {},
   "outputs": [
    {
     "data": {
      "text/html": [
       "<table>\n",
       "<caption>A data.table: 1 x 12</caption>\n",
       "<thead>\n",
       "\t<tr><th scope=col>Ntc</th><th scope=col>Nntc</th><th scope=col>ftc_c</th><th scope=col>ftc_nc</th><th scope=col>ftc</th><th scope=col>ftc_cont</th><th scope=col>Nc</th><th scope=col>Nc_cont</th><th scope=col>Nc_low</th><th scope=col>Nc_high</th><th scope=col>Nc_ref</th><th scope=col>post_conf</th></tr>\n",
       "\t<tr><th scope=col>&lt;int&gt;</th><th scope=col>&lt;int&gt;</th><th scope=col>&lt;dbl&gt;</th><th scope=col>&lt;dbl&gt;</th><th scope=col>&lt;dbl&gt;</th><th scope=col>&lt;dbl&gt;</th><th scope=col>&lt;dbl&gt;</th><th scope=col>&lt;dbl&gt;</th><th scope=col>&lt;dbl&gt;</th><th scope=col>&lt;dbl&gt;</th><th scope=col>&lt;dbl&gt;</th><th scope=col>&lt;dbl&gt;</th></tr>\n",
       "</thead>\n",
       "<tbody>\n",
       "\t<tr><td>4</td><td>1</td><td>4.032535</td><td>0.9674652</td><td>0.4181966</td><td>0.4235451</td><td>11.9561</td><td>11.80512</td><td>8.237745</td><td>18.42718</td><td>13</td><td>0.9560968</td></tr>\n",
       "</tbody>\n",
       "</table>\n"
      ],
      "text/latex": [
       "A data.table: 1 x 12\n",
       "\\begin{tabular}{llllllllllll}\n",
       " Ntc & Nntc & ftc\\_c & ftc\\_nc & ftc & ftc\\_cont & Nc & Nc\\_cont & Nc\\_low & Nc\\_high & Nc\\_ref & post\\_conf\\\\\n",
       " <int> & <int> & <dbl> & <dbl> & <dbl> & <dbl> & <dbl> & <dbl> & <dbl> & <dbl> & <dbl> & <dbl>\\\\\n",
       "\\hline\n",
       "\t 4 & 1 & 4.032535 & 0.9674652 & 0.4181966 & 0.4235451 & 11.9561 & 11.80512 & 8.237745 & 18.42718 & 13 & 0.9560968\\\\\n",
       "\\end{tabular}\n"
      ],
      "text/markdown": [
       "\n",
       "A data.table: 1 x 12\n",
       "\n",
       "| Ntc &lt;int&gt; | Nntc &lt;int&gt; | ftc_c &lt;dbl&gt; | ftc_nc &lt;dbl&gt; | ftc &lt;dbl&gt; | ftc_cont &lt;dbl&gt; | Nc &lt;dbl&gt; | Nc_cont &lt;dbl&gt; | Nc_low &lt;dbl&gt; | Nc_high &lt;dbl&gt; | Nc_ref &lt;dbl&gt; | post_conf &lt;dbl&gt; |\n",
       "|---|---|---|---|---|---|---|---|---|---|---|---|\n",
       "| 4 | 1 | 4.032535 | 0.9674652 | 0.4181966 | 0.4235451 | 11.9561 | 11.80512 | 8.237745 | 18.42718 | 13 | 0.9560968 |\n",
       "\n"
      ],
      "text/plain": [
       "  Ntc Nntc ftc_c    ftc_nc    ftc       ftc_cont  Nc      Nc_cont  Nc_low  \n",
       "1 4   1    4.032535 0.9674652 0.4181966 0.4235451 11.9561 11.80512 8.237745\n",
       "  Nc_high  Nc_ref post_conf\n",
       "1 18.42718 13     0.9560968"
      ]
     },
     "metadata": {},
     "output_type": "display_data"
    }
   ],
   "source": [
    "train_s"
   ]
  },
  {
   "cell_type": "code",
   "execution_count": 17,
   "metadata": {},
   "outputs": [
    {
     "data": {
      "text/html": [
       "3681.71552027731"
      ],
      "text/latex": [
       "3681.71552027731"
      ],
      "text/markdown": [
       "3681.71552027731"
      ],
      "text/plain": [
       "[1] 3681.716"
      ]
     },
     "metadata": {},
     "output_type": "display_data"
    }
   ],
   "source": [
    "#refine maxNc (number of cells profiled per sample) such that the minimum number of cells per sample can be recommended that retains the same result\n",
    "Nc_pass=train_c$Nc[train_c$Nc<=maxNc]\n",
    "if (length(Nc_pass)>0){\n",
    "   maxNc_re=max(Nc_pass) \n",
    "}else{\n",
    "    maxNc_re=maxNc\n",
    "}\n",
    "maxNc_re"
   ]
  },
  {
   "cell_type": "code",
   "execution_count": 18,
   "metadata": {},
   "outputs": [
    {
     "data": {
      "image/png": "[encoded data removed]",
      "text/plain": [
       "plot without title"
      ]
     },
     "metadata": {
      "image/png": {
       "height": 120,
       "width": 180
      }
     },
     "output_type": "display_data"
    }
   ],
   "source": [
    "# plot the positive sample frequency distribution. \n",
    "#Indicated in red is the frequency at which the probability of observing a higher frequency is the confidence level (conf).\n",
    "options(repr.plot.width = 3, repr.plot.height =2)\n",
    "pl=plot_density(train_s)\n",
    "cowplot::plot_grid(plotlist = pl,ncol=1)"
   ]
  },
  {
   "cell_type": "code",
   "execution_count": 19,
   "metadata": {},
   "outputs": [],
   "source": [
    "#Calculate probability of success (p) (as defined in the setup) in dependence of the number of profiled samples/patients (size)\n",
    "fs=data.table(f=seq(0,1,0.1))\n",
    "fs[,d:=dbeta(x=f,shape1=1+train_s$ftc_c,shape2=1+train_s$ftc_nc)]\n",
    "\n",
    "fs_screen=data.table()\n",
    "for (size in c(1:100)){\n",
    "    tmp=copy(fs)\n",
    "    tmp[,p:=pbinom(q=minS-1,size = size,prob = f,lower.tail = FALSE),by=1:nrow(tmp)]\n",
    "    tmp[,size:=size,]\n",
    "    fs_screen=rbindlist(list(fs_screen,tmp))\n",
    "}\n",
    "ps=fs_screen[,.(p=sum(p*d)/sum(d)),by=size]"
   ]
  },
  {
   "cell_type": "code",
   "execution_count": 20,
   "metadata": {},
   "outputs": [
    {
     "data": {
      "image/png": "[encoded data removed]",
      "text/plain": [
       "plot without title"
      ]
     },
     "metadata": {
      "image/png": {
       "height": 120,
       "width": 180
      }
     },
     "output_type": "display_data"
    }
   ],
   "source": [
    "options(repr.plot.width = 3, repr.plot.height =2)\n",
    "ggplot(ps,aes(x=size,y=p))+geom_line()+geom_vline(xintercept = ceiling(train_s$Nc_ref),col=\"red\")+geom_hline(yintercept = conf,col=\"red\")"
   ]
  },
  {
   "cell_type": "code",
   "execution_count": 21,
   "metadata": {},
   "outputs": [
    {
     "data": {
      "text/html": [
       "<table>\n",
       "<caption>A data.table: 8 x 4</caption>\n",
       "<thead>\n",
       "\t<tr><th scope=col>name</th><th scope=col>cell_type</th><th scope=col>condition</th><th scope=col>N_cells</th></tr>\n",
       "\t<tr><th scope=col>&lt;chr&gt;</th><th scope=col>&lt;chr&gt;</th><th scope=col>&lt;chr&gt;</th><th scope=col>&lt;int&gt;</th></tr>\n",
       "</thead>\n",
       "<tbody>\n",
       "\t<tr><td>HTAPP-656-SMP-3481_fresh</td><td>T cell</td><td>cell</td><td>2063</td></tr>\n",
       "\t<tr><td>HTAPP-312-SMP-902       </td><td>T cell</td><td>cell</td><td> 626</td></tr>\n",
       "\t<tr><td>HTAPP-672-SMP-8509      </td><td>T cell</td><td>cell</td><td> 253</td></tr>\n",
       "\t<tr><td>HTAPP-159-SMP-171       </td><td>T cell</td><td>cell</td><td>  29</td></tr>\n",
       "\t<tr><td>HTAPP-163-SMP-181       </td><td>T cell</td><td>cell</td><td> 865</td></tr>\n",
       "\t<tr><td>HTAPP-166-SMP-201       </td><td>T cell</td><td>cell</td><td> 308</td></tr>\n",
       "\t<tr><td>HTAPP-167-SMP-211       </td><td>T cell</td><td>cell</td><td> 553</td></tr>\n",
       "\t<tr><td>HTAPP-168-SMP-221       </td><td>T cell</td><td>cell</td><td>4278</td></tr>\n",
       "</tbody>\n",
       "</table>\n"
      ],
      "text/latex": [
       "A data.table: 8 x 4\n",
       "\\begin{tabular}{llll}\n",
       " name & cell\\_type & condition & N\\_cells\\\\\n",
       " <chr> & <chr> & <chr> & <int>\\\\\n",
       "\\hline\n",
       "\t HTAPP-656-SMP-3481\\_fresh & T cell & cell & 2063\\\\\n",
       "\t HTAPP-312-SMP-902        & T cell & cell &  626\\\\\n",
       "\t HTAPP-672-SMP-8509       & T cell & cell &  253\\\\\n",
       "\t HTAPP-159-SMP-171        & T cell & cell &   29\\\\\n",
       "\t HTAPP-163-SMP-181        & T cell & cell &  865\\\\\n",
       "\t HTAPP-166-SMP-201        & T cell & cell &  308\\\\\n",
       "\t HTAPP-167-SMP-211        & T cell & cell &  553\\\\\n",
       "\t HTAPP-168-SMP-221        & T cell & cell & 4278\\\\\n",
       "\\end{tabular}\n"
      ],
      "text/markdown": [
       "\n",
       "A data.table: 8 x 4\n",
       "\n",
       "| name &lt;chr&gt; | cell_type &lt;chr&gt; | condition &lt;chr&gt; | N_cells &lt;int&gt; |\n",
       "|---|---|---|---|\n",
       "| HTAPP-656-SMP-3481_fresh | T cell | cell | 2063 |\n",
       "| HTAPP-312-SMP-902        | T cell | cell |  626 |\n",
       "| HTAPP-672-SMP-8509       | T cell | cell |  253 |\n",
       "| HTAPP-159-SMP-171        | T cell | cell |   29 |\n",
       "| HTAPP-163-SMP-181        | T cell | cell |  865 |\n",
       "| HTAPP-166-SMP-201        | T cell | cell |  308 |\n",
       "| HTAPP-167-SMP-211        | T cell | cell |  553 |\n",
       "| HTAPP-168-SMP-221        | T cell | cell | 4278 |\n",
       "\n"
      ],
      "text/plain": [
       "  name                     cell_type condition N_cells\n",
       "1 HTAPP-656-SMP-3481_fresh T cell    cell      2063   \n",
       "2 HTAPP-312-SMP-902        T cell    cell       626   \n",
       "3 HTAPP-672-SMP-8509       T cell    cell       253   \n",
       "4 HTAPP-159-SMP-171        T cell    cell        29   \n",
       "5 HTAPP-163-SMP-181        T cell    cell       865   \n",
       "6 HTAPP-166-SMP-201        T cell    cell       308   \n",
       "7 HTAPP-167-SMP-211        T cell    cell       553   \n",
       "8 HTAPP-168-SMP-221        T cell    cell      4278   "
      ]
     },
     "metadata": {},
     "output_type": "display_data"
    }
   ],
   "source": [
    "#Check the number of positive samples in the test set as \"validation\". In this case prediction holds true because all test samples happen to be positive. \n",
    "#Not really relevant, because the is no statistic. Proper validation needs sampling etc. and is included below.\n",
    "test[cell_type==tc]"
   ]
  },
  {
   "cell_type": "markdown",
   "metadata": {},
   "source": [
    "### 2 Comprehensive assessment and validation with different settings and parameters"
   ]
  },
  {
   "cell_type": "markdown",
   "metadata": {},
   "source": [
    "#### 2.1 A function to predict and validate the number of samples that need to be profiled in order to fulfil the specified requirements (used in all subsequent steps)"
   ]
  },
  {
   "cell_type": "code",
   "execution_count": 22,
   "metadata": {},
   "outputs": [],
   "source": [
    "# This function is used as the core of all subsequent analysis and streamlines the step-wise process from section 1. \n",
    "#Additionnally it provides the possibility for within and cross-sample validation.\n",
    "#Parameters:\n",
    "#sub - Subset of the data to use for the analysis. (dataTable where each row denotes the number of cells of a given cell type in a given sample: name|cell_type|N_cells)\n",
    "#tc - Target cell type (cell type of which a certain number of cells (minC) needs to be detected in a certain number of samples (minS))\n",
    "#prior_sf - Prior expectation of the fraction of positive samples (range: 0-1)\n",
    "#weight - The (hypothetical) number of samples the prior_sf estimate is based on (How sure are you your prior is correct?). The higher, the more influence prior_sf gets compared to what is seen in the data. Set to 0 to not use a prior.\n",
    "#sample - number of samples used to for training/predicting. Must be smaller than the total number of samples available in the dataset.\n",
    "#sample_same - If TRUE, use the same number of samples in the test set as are in the training set (sample). If FALSE, use all samples that are not in the training set.\n",
    "#seed - Random seed for sample selecetion.\n",
    "\n",
    "#----------Specify requirements here-------------------------------------------------------\n",
    "#minC - Minimum number of cells from cell type of interest required\n",
    "#minS - Minimum number of samples with minC cells (referred to as \"positive samples\")\n",
    "#conf - Required confidence level of prediction\n",
    "#maxNc - Maximum number of cells that can be sampled per sample\n",
    "#------------------------------------------------------------------------------------------\n",
    "#maxS - Maximum number of samples to be considered for the success-probability plot.\n",
    "#max_cross - Number of random sample samplings (\"cross-validation\" loops)\n",
    "#same - If TRUE, do validation using samplings from the traing-set distribution. If FALSE, do validation using samplings from the test-set (unseen samples) distribution.\n",
    "#do.test - If TRUE, perfom validation. If FALSE, no validation is run (saves time).\n",
    "#progress - If TRUE, show progress.\n",
    "\n",
    "\n",
    "#get_sampleN=function(sub,tc=\"T\",prior_sf=0.5,weight=0,sample=5,sample_same=FALSE,seed=42,minC=50,minS=5,conf=0.95,maxNc=8000,maxS=100,max_cross=100,same=FALSE,do.test=FALSE,progress=TRUE){\n",
    "get_sampleN=function(sub,prior_sf=0.5,weight=0,sample=5,sample_same=FALSE,seed=42,minC=50,minS=5,conf=0.95,maxNc=8000,maxS=100,max_cross=100,same=FALSE,do.test=FALSE,progress=FALSE, tc){\n",
    "    \n",
    "    #Set up beta distribution parameters\n",
    "    sa=1+prior_sf*weight\n",
    "    sb=1+(1-prior_sf)*weight\n",
    "    \n",
    "    \n",
    "    #set up train and test sample groupings\n",
    "    all_samples=unique(sub$name)\n",
    "    set.seed(seed)\n",
    "\n",
    "    if (choose(k = sample,n=length(all_samples))>200000){\n",
    "        split=list()\n",
    "        for (i in c(1:max_cross)){\n",
    "            split[[i]]=sample(all_samples,sample,replace = FALSE)}  \n",
    "    }else{\n",
    "        comb_mat=combn(all_samples,sample)\n",
    "        split=as.list(as.data.frame(comb_mat[,sample(ncol(comb_mat),min(c(ncol(comb_mat),max_cross)),replace = FALSE),drop=FALSE],stringsAsFactors = FALSE))}\n",
    "\n",
    "    #loop through the sample groupings\n",
    "    res=data.table()\n",
    "    ps=data.table()\n",
    "    test_res=data.table()\n",
    "    \n",
    "    for (i in 1:length(split)){\n",
    "        train_samples=split[[i]]    \n",
    "        train=sub[name%in%train_samples]\n",
    "        if (same==FALSE){\n",
    "            if (sample_same==FALSE){\n",
    "                test=sub[!name%in%train_samples]\n",
    "            }else{\n",
    "                test=sub[name%in%sample(unique(name)[!unique(name)%in%train_samples],sample)]}\n",
    "        }else{\n",
    "            test=train\n",
    "        }\n",
    "        \n",
    "        #train calculations    \n",
    "        train_c=train[,.(Ntc=N_cells[cell_type==tc],Nntc=sum(N_cells[cell_type!=tc])),by=\"name\"]\n",
    "        train_c[is.na(train_c)]=0\n",
    "        train_c[,ftc:=qbeta(p=c(1-conf),shape1=1+Ntc,shape2=1+Nntc),by=name]\n",
    "        train_c[,ptc:=mean(pbinom(minC-1,maxNc,prob = rbeta(1000,shape1 =1+Ntc ,shape2 = 1+Nntc),lower.tail = FALSE)),by=name]\n",
    "        train_c[,Nc:=minC/ftc,]\n",
    "        \n",
    "        train_s=train_c[,.(Ntc=sum(Nc<=maxNc),Nntc=sum(Nc>maxNc),ftc_c=sum(ptc),ftc_nc=sum(1-ptc))]\n",
    "        train_s[,ftc:=qbeta(p=c(1-conf),shape1=sa+Ntc,shape2=sb+Nntc)]\n",
    "        train_s[,ftc_cont:=qbeta(p=c(1-conf),shape1=sa+ftc_c,shape2=sb+ftc_nc)]\n",
    "        train_s[,Nc:=minS/ftc,]\n",
    "        train_s[,Nc_cont:=minS/ftc_cont,]\n",
    "        \n",
    "        #refine number of recommended samples to achieve the decired confidence level\n",
    "        train_s[,Nc_ref:=ceiling(Nc_cont),]\n",
    "        train_s[,post_conf:=mean(pbinom(minS-1,Nc_ref,prob = rbeta(1000,shape1 =sa+ftc_c ,shape2 = sb+ftc_nc),lower.tail = FALSE))]\n",
    "        if (progress==TRUE){\n",
    "            message('\\r',paste0(sample,\"/\",train_s$Nc_ref,\"/\",train_s$post_conf,\"/\",sa,\"/\",sb),appendLF = FALSE)\n",
    "        }\n",
    "        if(train_s$post_conf<conf){\n",
    "            cond=\"(train_s$post_conf<conf)\"\n",
    "            add=1\n",
    "        }else if (train_s$post_conf>conf){\n",
    "            cond=\"(train_s$post_conf>conf)\"\n",
    "            add=-1\n",
    "        }else{cond=FALSE}\n",
    "        while (eval(parse(text=cond))){\n",
    "            train_s[,Nc_ref:=Nc_ref+add,]\n",
    "            train_s[,post_conf:=mean(pbinom(minS-1,Nc_ref,prob = rbeta(1000,shape1 =sa+ftc_c ,shape2 = sb+ftc_nc),lower.tail = FALSE))]\n",
    "            if (progress==TRUE){\n",
    "                message('\\r',paste0(sample,\"/\",train_s$Nc_ref,\"/\",train_s$post_conf,\"/\",sa,\"/\",sb),appendLF = FALSE)\n",
    "            }\n",
    "        }   \n",
    "        while (train_s$post_conf<conf){\n",
    "            train_s[,Nc_ref:=Nc_ref+1,]\n",
    "            train_s[,post_conf:=mean(pbinom(minS-1,Nc_ref,prob = rbeta(1000,shape1 =sa+ftc_c ,shape2 = sb+ftc_nc),lower.tail = FALSE))]\n",
    "            if (progress==TRUE){\n",
    "                message('\\r',paste0(sample,\"/\",train_s$Nc_ref,\"/\",train_s$post_conf,\"/\",sa,\"/\",sb),appendLF = FALSE)\n",
    "            }\n",
    "        }\n",
    "      \n",
    "        #refine maxNc such that the minimum number of cells per sample can be recommended that retains the same result\n",
    "        Nc_pass=train_c$Nc[train_c$Nc<=maxNc]\n",
    "        if (length(Nc_pass)>0){\n",
    "           maxNc_re=max(Nc_pass) \n",
    "        }else{\n",
    "            maxNc_re=maxNc\n",
    "        }\n",
    "    \n",
    "        #test calculations    \n",
    "        if (do.test==TRUE){\n",
    "            test_c=test[,.(Ntc=N_cells[cell_type==tc],Nntc=sum(N_cells[cell_type!=tc])),by=\"name\"]\n",
    "            test_c[is.na(test_c)]=0\n",
    "            test_c[,ftc:=qbeta(p=c(1-conf),shape1=1+Ntc,shape2=1+Nntc),by=name]\n",
    "            test_c[,ptc:=mean(pbinom(minC-1,maxNc,prob = rbeta(1000,shape1 =1+Ntc ,shape2 = 1+Nntc),lower.tail = FALSE)),by=name]\n",
    "            test_c[,Nc:=minC/ftc,]\n",
    "            test_s=test_c[,.(Ntc=sum(Nc<=maxNc),Nntc=sum(Nc>maxNc),ftc_c=sum(ptc),ftc_nc=sum(1-ptc))]\n",
    "            freqs=rbeta(n=1000, shape1=sa+test_s$ftc_c,shape2=sb+test_s$ftc_nc) # sample \"success\" frequencies from beta distribution\n",
    "            hit_rate=pbinom(minS-1,train_s$Nc_ref,prob = freqs,lower.tail = FALSE)\n",
    "            test_res=rbindlist(list(test_res,data.table(Nsample=sample,i=i,train_samples=paste0(train_samples,collapse = \"|\"),test_samples=paste0(unique(test$name),collapse = \"|\"),freq=freqs, hit_rate=hit_rate,\n",
    "                                                        Nc_h=minS/freqs,Nc_ref=train_s$Nc_ref,post_conf=train_s$post_conf,a_test=test_s$ftc_c,b_test=test_s$ftc_nc,a_train=train_s$ftc_c,b_train=train_s$ftc_nc)))    \n",
    "        }\n",
    "    # calculate success probability in dependence of number of assessed samples\n",
    "        fs=data.table(f=seq(0,1,0.1))\n",
    "        fs[,d:=dbeta(x=f,shape1=sa+train_s$ftc_c,shape2=sb+train_s$ftc_nc)]\n",
    "        fs_screen=data.table()\n",
    "        for (size in c(1:maxS)){\n",
    "            tmp=copy(fs)\n",
    "            tmp[,p:=pbinom(q=minS-1,size = size,prob = f,lower.tail = FALSE),by=1:nrow(tmp)]\n",
    "            tmp[,size:=size,]\n",
    "            fs_screen=rbindlist(list(fs_screen,tmp))\n",
    "        }\n",
    "        ps_tmp=fs_screen[,.(p=sum(p*d)/sum(d)),by=size]\n",
    "        ps=rbindlist(list(ps,ps_tmp[,c(\"i\",\"sample\",\"samples\"):=list(i,sample,paste0(train_samples,collapse = \"|\")),]))\n",
    "            \n",
    "        res_tmp=data.table(i=i,sample=sample,samples=paste0(train_samples,collapse = \"|\"),Nsamples=train_s$Nc,Nsamples_cont=train_s$Nc_cont,Nsamples_ref=train_s$Nc_ref,post_conf=train_s$post_conf,maxNc_re=maxNc_re)\n",
    "        res=rbindlist(list(res,res_tmp))\n",
    "    }\n",
    "    return(list(res,ps,test_res)) \n",
    "}"
   ]
  },
  {
   "cell_type": "markdown",
   "metadata": {},
   "source": [
    "#### 2.2 Sweep number of samples used to train"
   ]
  },
  {
   "cell_type": "code",
   "execution_count": 23,
   "metadata": {},
   "outputs": [],
   "source": [
    "sub=cell_counts[condition==\"cell\"]\n",
    "#sub=cell_counts[name %in% c(\"HTAPP-656-SMP-3481_fresh\", \"HTAPP-312-SMP-902\", \"HTAPP-797-SMP-4232\")]"
   ]
  },
  {
   "cell_type": "code",
   "execution_count": 24,
   "metadata": {},
   "outputs": [
    {
     "data": {
      "text/html": [
       "<table>\n",
       "<caption>A data.table: 65 x 4</caption>\n",
       "<thead>\n",
       "\t<tr><th scope=col>name</th><th scope=col>cell_type</th><th scope=col>condition</th><th scope=col>N_cells</th></tr>\n",
       "\t<tr><th scope=col>&lt;chr&gt;</th><th scope=col>&lt;chr&gt;</th><th scope=col>&lt;chr&gt;</th><th scope=col>&lt;int&gt;</th></tr>\n",
       "</thead>\n",
       "<tbody>\n",
       "\t<tr><td>HTAPP-312-SMP-901       </td><td>Malignant  </td><td>cell</td><td>4992</td></tr>\n",
       "\t<tr><td>HTAPP-312-SMP-901       </td><td>Myeloid    </td><td>cell</td><td>  62</td></tr>\n",
       "\t<tr><td>HTAPP-312-SMP-901       </td><td>T cell     </td><td>cell</td><td>  19</td></tr>\n",
       "\t<tr><td>HTAPP-656-SMP-3481_fresh</td><td>Zona       </td><td>cell</td><td> 123</td></tr>\n",
       "\t<tr><td>HTAPP-656-SMP-3481_fresh</td><td>Endothelial</td><td>cell</td><td> 370</td></tr>\n",
       "\t<tr><td>HTAPP-656-SMP-3481_fresh</td><td>Myeloid    </td><td>cell</td><td> 465</td></tr>\n",
       "\t<tr><td>HTAPP-656-SMP-3481_fresh</td><td>T cell     </td><td>cell</td><td>2063</td></tr>\n",
       "\t<tr><td>HTAPP-656-SMP-3481_fresh</td><td>Malignant  </td><td>cell</td><td> 832</td></tr>\n",
       "\t<tr><td>HTAPP-656-SMP-3481_fresh</td><td>B cell     </td><td>cell</td><td>  89</td></tr>\n",
       "\t<tr><td>HTAPP-312-SMP-902       </td><td>Stroma     </td><td>cell</td><td> 518</td></tr>\n",
       "\t<tr><td>HTAPP-312-SMP-902       </td><td>Endothelial</td><td>cell</td><td> 226</td></tr>\n",
       "\t<tr><td>HTAPP-312-SMP-902       </td><td>Myeloid    </td><td>cell</td><td> 193</td></tr>\n",
       "\t<tr><td>HTAPP-312-SMP-902       </td><td>Malignant  </td><td>cell</td><td>1990</td></tr>\n",
       "\t<tr><td>HTAPP-312-SMP-902       </td><td>T cell     </td><td>cell</td><td> 626</td></tr>\n",
       "\t<tr><td>HTAPP-797-SMP-4232      </td><td>Endothelial</td><td>cell</td><td> 330</td></tr>\n",
       "\t<tr><td>HTAPP-797-SMP-4232      </td><td>B cell     </td><td>cell</td><td>1508</td></tr>\n",
       "\t<tr><td>HTAPP-797-SMP-4232      </td><td>Myeloid    </td><td>cell</td><td>3632</td></tr>\n",
       "\t<tr><td>HTAPP-797-SMP-4232      </td><td>Stroma     </td><td>cell</td><td>1025</td></tr>\n",
       "\t<tr><td>HTAPP-797-SMP-4232      </td><td>Malignant  </td><td>cell</td><td>1238</td></tr>\n",
       "\t<tr><td>HTAPP-797-SMP-4232      </td><td>T cell     </td><td>cell</td><td>2882</td></tr>\n",
       "\t<tr><td>HTAPP-813-SMP-6848      </td><td>Malignant  </td><td>cell</td><td>6570</td></tr>\n",
       "\t<tr><td>HTAPP-813-SMP-6848      </td><td>T cell     </td><td>cell</td><td> 106</td></tr>\n",
       "\t<tr><td>HTAPP-672-SMP-8509      </td><td>Malignant  </td><td>cell</td><td>4314</td></tr>\n",
       "\t<tr><td>HTAPP-672-SMP-8509      </td><td>Myeloid    </td><td>cell</td><td>1052</td></tr>\n",
       "\t<tr><td>HTAPP-672-SMP-8509      </td><td>Endothelial</td><td>cell</td><td> 106</td></tr>\n",
       "\t<tr><td>HTAPP-672-SMP-8509      </td><td>T cell     </td><td>cell</td><td> 253</td></tr>\n",
       "\t<tr><td>HTAPP-672-SMP-8509      </td><td>Stroma     </td><td>cell</td><td> 299</td></tr>\n",
       "\t<tr><td>HTAPP-159-SMP-171       </td><td>Malignant  </td><td>cell</td><td>6802</td></tr>\n",
       "\t<tr><td>HTAPP-159-SMP-171       </td><td>Endothelial</td><td>cell</td><td> 109</td></tr>\n",
       "\t<tr><td>HTAPP-159-SMP-171       </td><td>Myeloid    </td><td>cell</td><td>  56</td></tr>\n",
       "\t<tr><td>...</td><td>...</td><td>...</td><td>...</td></tr>\n",
       "\t<tr><td>HTAPP-163-SMP-181 </td><td>T cell     </td><td>cell</td><td>  865</td></tr>\n",
       "\t<tr><td>HTAPP-163-SMP-181 </td><td>B cell     </td><td>cell</td><td>   67</td></tr>\n",
       "\t<tr><td>HTAPP-164-SMP-191 </td><td>Malignant  </td><td>cell</td><td> 2501</td></tr>\n",
       "\t<tr><td>HTAPP-164-SMP-191 </td><td>Myeloid    </td><td>cell</td><td>   55</td></tr>\n",
       "\t<tr><td>HTAPP-164-SMP-191 </td><td>Endothelial</td><td>cell</td><td>   32</td></tr>\n",
       "\t<tr><td>HTAPP-164-SMP-191 </td><td>T cell     </td><td>cell</td><td>  130</td></tr>\n",
       "\t<tr><td>HTAPP-164-SMP-191 </td><td>Stroma     </td><td>cell</td><td>   49</td></tr>\n",
       "\t<tr><td>HTAPP-164-SMP-191 </td><td>B cell     </td><td>cell</td><td>   13</td></tr>\n",
       "\t<tr><td>HTAPP-166-SMP-201 </td><td>Endothelial</td><td>cell</td><td>  278</td></tr>\n",
       "\t<tr><td>HTAPP-166-SMP-201 </td><td>Malignant  </td><td>cell</td><td> 2641</td></tr>\n",
       "\t<tr><td>HTAPP-166-SMP-201 </td><td>T cell     </td><td>cell</td><td>  308</td></tr>\n",
       "\t<tr><td>HTAPP-166-SMP-201 </td><td>Myeloid    </td><td>cell</td><td>  734</td></tr>\n",
       "\t<tr><td>HTAPP-166-SMP-201 </td><td>Stroma     </td><td>cell</td><td>   89</td></tr>\n",
       "\t<tr><td>HTAPP-167-SMP-211 </td><td>Malignant  </td><td>cell</td><td> 1986</td></tr>\n",
       "\t<tr><td>HTAPP-167-SMP-211 </td><td>Endothelial</td><td>cell</td><td> 1222</td></tr>\n",
       "\t<tr><td>HTAPP-167-SMP-211 </td><td>Myeloid    </td><td>cell</td><td>  645</td></tr>\n",
       "\t<tr><td>HTAPP-167-SMP-211 </td><td>T cell     </td><td>cell</td><td>  553</td></tr>\n",
       "\t<tr><td>HTAPP-167-SMP-211 </td><td>Stroma     </td><td>cell</td><td>  660</td></tr>\n",
       "\t<tr><td>HTAPP-168-SMP-221 </td><td>Malignant  </td><td>cell</td><td>13450</td></tr>\n",
       "\t<tr><td>HTAPP-168-SMP-221 </td><td>Myeloid    </td><td>cell</td><td> 4478</td></tr>\n",
       "\t<tr><td>HTAPP-168-SMP-221 </td><td>Endothelial</td><td>cell</td><td>  665</td></tr>\n",
       "\t<tr><td>HTAPP-168-SMP-221 </td><td>B cell     </td><td>cell</td><td>    9</td></tr>\n",
       "\t<tr><td>HTAPP-168-SMP-221 </td><td>T cell     </td><td>cell</td><td> 4278</td></tr>\n",
       "\t<tr><td>HTAPP-168-SMP-221 </td><td>Stroma     </td><td>cell</td><td>  451</td></tr>\n",
       "\t<tr><td>HTAPP-931-SMP-7448</td><td>Malignant  </td><td>cell</td><td> 2938</td></tr>\n",
       "\t<tr><td>HTAPP-931-SMP-7448</td><td>Stroma     </td><td>cell</td><td>   81</td></tr>\n",
       "\t<tr><td>HTAPP-931-SMP-7448</td><td>Endothelial</td><td>cell</td><td>   26</td></tr>\n",
       "\t<tr><td>HTAPP-931-SMP-7448</td><td>Myeloid    </td><td>cell</td><td>   22</td></tr>\n",
       "\t<tr><td>HTAPP-931-SMP-7448</td><td>T cell     </td><td>cell</td><td>   90</td></tr>\n",
       "\t<tr><td>HTAPP-931-SMP-7448</td><td>B cell     </td><td>cell</td><td>   79</td></tr>\n",
       "</tbody>\n",
       "</table>\n"
      ],
      "text/latex": [
       "A data.table: 65 x 4\n",
       "\\begin{tabular}{llll}\n",
       " name & cell\\_type & condition & N\\_cells\\\\\n",
       " <chr> & <chr> & <chr> & <int>\\\\\n",
       "\\hline\n",
       "\t HTAPP-312-SMP-901        & Malignant   & cell & 4992\\\\\n",
       "\t HTAPP-312-SMP-901        & Myeloid     & cell &   62\\\\\n",
       "\t HTAPP-312-SMP-901        & T cell      & cell &   19\\\\\n",
       "\t HTAPP-656-SMP-3481\\_fresh & Zona        & cell &  123\\\\\n",
       "\t HTAPP-656-SMP-3481\\_fresh & Endothelial & cell &  370\\\\\n",
       "\t HTAPP-656-SMP-3481\\_fresh & Myeloid     & cell &  465\\\\\n",
       "\t HTAPP-656-SMP-3481\\_fresh & T cell      & cell & 2063\\\\\n",
       "\t HTAPP-656-SMP-3481\\_fresh & Malignant   & cell &  832\\\\\n",
       "\t HTAPP-656-SMP-3481\\_fresh & B cell      & cell &   89\\\\\n",
       "\t HTAPP-312-SMP-902        & Stroma      & cell &  518\\\\\n",
       "\t HTAPP-312-SMP-902        & Endothelial & cell &  226\\\\\n",
       "\t HTAPP-312-SMP-902        & Myeloid     & cell &  193\\\\\n",
       "\t HTAPP-312-SMP-902        & Malignant   & cell & 1990\\\\\n",
       "\t HTAPP-312-SMP-902        & T cell      & cell &  626\\\\\n",
       "\t HTAPP-797-SMP-4232       & Endothelial & cell &  330\\\\\n",
       "\t HTAPP-797-SMP-4232       & B cell      & cell & 1508\\\\\n",
       "\t HTAPP-797-SMP-4232       & Myeloid     & cell & 3632\\\\\n",
       "\t HTAPP-797-SMP-4232       & Stroma      & cell & 1025\\\\\n",
       "\t HTAPP-797-SMP-4232       & Malignant   & cell & 1238\\\\\n",
       "\t HTAPP-797-SMP-4232       & T cell      & cell & 2882\\\\\n",
       "\t HTAPP-813-SMP-6848       & Malignant   & cell & 6570\\\\\n",
       "\t HTAPP-813-SMP-6848       & T cell      & cell &  106\\\\\n",
       "\t HTAPP-672-SMP-8509       & Malignant   & cell & 4314\\\\\n",
       "\t HTAPP-672-SMP-8509       & Myeloid     & cell & 1052\\\\\n",
       "\t HTAPP-672-SMP-8509       & Endothelial & cell &  106\\\\\n",
       "\t HTAPP-672-SMP-8509       & T cell      & cell &  253\\\\\n",
       "\t HTAPP-672-SMP-8509       & Stroma      & cell &  299\\\\\n",
       "\t HTAPP-159-SMP-171        & Malignant   & cell & 6802\\\\\n",
       "\t HTAPP-159-SMP-171        & Endothelial & cell &  109\\\\\n",
       "\t HTAPP-159-SMP-171        & Myeloid     & cell &   56\\\\\n",
       "\t ... & ... & ... & ...\\\\\n",
       "\t HTAPP-163-SMP-181  & T cell      & cell &   865\\\\\n",
       "\t HTAPP-163-SMP-181  & B cell      & cell &    67\\\\\n",
       "\t HTAPP-164-SMP-191  & Malignant   & cell &  2501\\\\\n",
       "\t HTAPP-164-SMP-191  & Myeloid     & cell &    55\\\\\n",
       "\t HTAPP-164-SMP-191  & Endothelial & cell &    32\\\\\n",
       "\t HTAPP-164-SMP-191  & T cell      & cell &   130\\\\\n",
       "\t HTAPP-164-SMP-191  & Stroma      & cell &    49\\\\\n",
       "\t HTAPP-164-SMP-191  & B cell      & cell &    13\\\\\n",
       "\t HTAPP-166-SMP-201  & Endothelial & cell &   278\\\\\n",
       "\t HTAPP-166-SMP-201  & Malignant   & cell &  2641\\\\\n",
       "\t HTAPP-166-SMP-201  & T cell      & cell &   308\\\\\n",
       "\t HTAPP-166-SMP-201  & Myeloid     & cell &   734\\\\\n",
       "\t HTAPP-166-SMP-201  & Stroma      & cell &    89\\\\\n",
       "\t HTAPP-167-SMP-211  & Malignant   & cell &  1986\\\\\n",
       "\t HTAPP-167-SMP-211  & Endothelial & cell &  1222\\\\\n",
       "\t HTAPP-167-SMP-211  & Myeloid     & cell &   645\\\\\n",
       "\t HTAPP-167-SMP-211  & T cell      & cell &   553\\\\\n",
       "\t HTAPP-167-SMP-211  & Stroma      & cell &   660\\\\\n",
       "\t HTAPP-168-SMP-221  & Malignant   & cell & 13450\\\\\n",
       "\t HTAPP-168-SMP-221  & Myeloid     & cell &  4478\\\\\n",
       "\t HTAPP-168-SMP-221  & Endothelial & cell &   665\\\\\n",
       "\t HTAPP-168-SMP-221  & B cell      & cell &     9\\\\\n",
       "\t HTAPP-168-SMP-221  & T cell      & cell &  4278\\\\\n",
       "\t HTAPP-168-SMP-221  & Stroma      & cell &   451\\\\\n",
       "\t HTAPP-931-SMP-7448 & Malignant   & cell &  2938\\\\\n",
       "\t HTAPP-931-SMP-7448 & Stroma      & cell &    81\\\\\n",
       "\t HTAPP-931-SMP-7448 & Endothelial & cell &    26\\\\\n",
       "\t HTAPP-931-SMP-7448 & Myeloid     & cell &    22\\\\\n",
       "\t HTAPP-931-SMP-7448 & T cell      & cell &    90\\\\\n",
       "\t HTAPP-931-SMP-7448 & B cell      & cell &    79\\\\\n",
       "\\end{tabular}\n"
      ],
      "text/markdown": [
       "\n",
       "A data.table: 65 x 4\n",
       "\n",
       "| name &lt;chr&gt; | cell_type &lt;chr&gt; | condition &lt;chr&gt; | N_cells &lt;int&gt; |\n",
       "|---|---|---|---|\n",
       "| HTAPP-312-SMP-901        | Malignant   | cell | 4992 |\n",
       "| HTAPP-312-SMP-901        | Myeloid     | cell |   62 |\n",
       "| HTAPP-312-SMP-901        | T cell      | cell |   19 |\n",
       "| HTAPP-656-SMP-3481_fresh | Zona        | cell |  123 |\n",
       "| HTAPP-656-SMP-3481_fresh | Endothelial | cell |  370 |\n",
       "| HTAPP-656-SMP-3481_fresh | Myeloid     | cell |  465 |\n",
       "| HTAPP-656-SMP-3481_fresh | T cell      | cell | 2063 |\n",
       "| HTAPP-656-SMP-3481_fresh | Malignant   | cell |  832 |\n",
       "| HTAPP-656-SMP-3481_fresh | B cell      | cell |   89 |\n",
       "| HTAPP-312-SMP-902        | Stroma      | cell |  518 |\n",
       "| HTAPP-312-SMP-902        | Endothelial | cell |  226 |\n",
       "| HTAPP-312-SMP-902        | Myeloid     | cell |  193 |\n",
       "| HTAPP-312-SMP-902        | Malignant   | cell | 1990 |\n",
       "| HTAPP-312-SMP-902        | T cell      | cell |  626 |\n",
       "| HTAPP-797-SMP-4232       | Endothelial | cell |  330 |\n",
       "| HTAPP-797-SMP-4232       | B cell      | cell | 1508 |\n",
       "| HTAPP-797-SMP-4232       | Myeloid     | cell | 3632 |\n",
       "| HTAPP-797-SMP-4232       | Stroma      | cell | 1025 |\n",
       "| HTAPP-797-SMP-4232       | Malignant   | cell | 1238 |\n",
       "| HTAPP-797-SMP-4232       | T cell      | cell | 2882 |\n",
       "| HTAPP-813-SMP-6848       | Malignant   | cell | 6570 |\n",
       "| HTAPP-813-SMP-6848       | T cell      | cell |  106 |\n",
       "| HTAPP-672-SMP-8509       | Malignant   | cell | 4314 |\n",
       "| HTAPP-672-SMP-8509       | Myeloid     | cell | 1052 |\n",
       "| HTAPP-672-SMP-8509       | Endothelial | cell |  106 |\n",
       "| HTAPP-672-SMP-8509       | T cell      | cell |  253 |\n",
       "| HTAPP-672-SMP-8509       | Stroma      | cell |  299 |\n",
       "| HTAPP-159-SMP-171        | Malignant   | cell | 6802 |\n",
       "| HTAPP-159-SMP-171        | Endothelial | cell |  109 |\n",
       "| HTAPP-159-SMP-171        | Myeloid     | cell |   56 |\n",
       "| ... | ... | ... | ... |\n",
       "| HTAPP-163-SMP-181  | T cell      | cell |   865 |\n",
       "| HTAPP-163-SMP-181  | B cell      | cell |    67 |\n",
       "| HTAPP-164-SMP-191  | Malignant   | cell |  2501 |\n",
       "| HTAPP-164-SMP-191  | Myeloid     | cell |    55 |\n",
       "| HTAPP-164-SMP-191  | Endothelial | cell |    32 |\n",
       "| HTAPP-164-SMP-191  | T cell      | cell |   130 |\n",
       "| HTAPP-164-SMP-191  | Stroma      | cell |    49 |\n",
       "| HTAPP-164-SMP-191  | B cell      | cell |    13 |\n",
       "| HTAPP-166-SMP-201  | Endothelial | cell |   278 |\n",
       "| HTAPP-166-SMP-201  | Malignant   | cell |  2641 |\n",
       "| HTAPP-166-SMP-201  | T cell      | cell |   308 |\n",
       "| HTAPP-166-SMP-201  | Myeloid     | cell |   734 |\n",
       "| HTAPP-166-SMP-201  | Stroma      | cell |    89 |\n",
       "| HTAPP-167-SMP-211  | Malignant   | cell |  1986 |\n",
       "| HTAPP-167-SMP-211  | Endothelial | cell |  1222 |\n",
       "| HTAPP-167-SMP-211  | Myeloid     | cell |   645 |\n",
       "| HTAPP-167-SMP-211  | T cell      | cell |   553 |\n",
       "| HTAPP-167-SMP-211  | Stroma      | cell |   660 |\n",
       "| HTAPP-168-SMP-221  | Malignant   | cell | 13450 |\n",
       "| HTAPP-168-SMP-221  | Myeloid     | cell |  4478 |\n",
       "| HTAPP-168-SMP-221  | Endothelial | cell |   665 |\n",
       "| HTAPP-168-SMP-221  | B cell      | cell |     9 |\n",
       "| HTAPP-168-SMP-221  | T cell      | cell |  4278 |\n",
       "| HTAPP-168-SMP-221  | Stroma      | cell |   451 |\n",
       "| HTAPP-931-SMP-7448 | Malignant   | cell |  2938 |\n",
       "| HTAPP-931-SMP-7448 | Stroma      | cell |    81 |\n",
       "| HTAPP-931-SMP-7448 | Endothelial | cell |    26 |\n",
       "| HTAPP-931-SMP-7448 | Myeloid     | cell |    22 |\n",
       "| HTAPP-931-SMP-7448 | T cell      | cell |    90 |\n",
       "| HTAPP-931-SMP-7448 | B cell      | cell |    79 |\n",
       "\n"
      ],
      "text/plain": [
       "    name                     cell_type   condition N_cells\n",
       "1   HTAPP-312-SMP-901        Malignant   cell      4992   \n",
       "2   HTAPP-312-SMP-901        Myeloid     cell        62   \n",
       "3   HTAPP-312-SMP-901        T cell      cell        19   \n",
       "4   HTAPP-656-SMP-3481_fresh Zona        cell       123   \n",
       "5   HTAPP-656-SMP-3481_fresh Endothelial cell       370   \n",
       "6   HTAPP-656-SMP-3481_fresh Myeloid     cell       465   \n",
       "7   HTAPP-656-SMP-3481_fresh T cell      cell      2063   \n",
       "8   HTAPP-656-SMP-3481_fresh Malignant   cell       832   \n",
       "9   HTAPP-656-SMP-3481_fresh B cell      cell        89   \n",
       "10  HTAPP-312-SMP-902        Stroma      cell       518   \n",
       "11  HTAPP-312-SMP-902        Endothelial cell       226   \n",
       "12  HTAPP-312-SMP-902        Myeloid     cell       193   \n",
       "13  HTAPP-312-SMP-902        Malignant   cell      1990   \n",
       "14  HTAPP-312-SMP-902        T cell      cell       626   \n",
       "15  HTAPP-797-SMP-4232       Endothelial cell       330   \n",
       "16  HTAPP-797-SMP-4232       B cell      cell      1508   \n",
       "17  HTAPP-797-SMP-4232       Myeloid     cell      3632   \n",
       "18  HTAPP-797-SMP-4232       Stroma      cell      1025   \n",
       "19  HTAPP-797-SMP-4232       Malignant   cell      1238   \n",
       "20  HTAPP-797-SMP-4232       T cell      cell      2882   \n",
       "21  HTAPP-813-SMP-6848       Malignant   cell      6570   \n",
       "22  HTAPP-813-SMP-6848       T cell      cell       106   \n",
       "23  HTAPP-672-SMP-8509       Malignant   cell      4314   \n",
       "24  HTAPP-672-SMP-8509       Myeloid     cell      1052   \n",
       "25  HTAPP-672-SMP-8509       Endothelial cell       106   \n",
       "26  HTAPP-672-SMP-8509       T cell      cell       253   \n",
       "27  HTAPP-672-SMP-8509       Stroma      cell       299   \n",
       "28  HTAPP-159-SMP-171        Malignant   cell      6802   \n",
       "29  HTAPP-159-SMP-171        Endothelial cell       109   \n",
       "30  HTAPP-159-SMP-171        Myeloid     cell        56   \n",
       "... ...                      ...         ...       ...    \n",
       "36  HTAPP-163-SMP-181        T cell      cell        865  \n",
       "37  HTAPP-163-SMP-181        B cell      cell         67  \n",
       "38  HTAPP-164-SMP-191        Malignant   cell       2501  \n",
       "39  HTAPP-164-SMP-191        Myeloid     cell         55  \n",
       "40  HTAPP-164-SMP-191        Endothelial cell         32  \n",
       "41  HTAPP-164-SMP-191        T cell      cell        130  \n",
       "42  HTAPP-164-SMP-191        Stroma      cell         49  \n",
       "43  HTAPP-164-SMP-191        B cell      cell         13  \n",
       "44  HTAPP-166-SMP-201        Endothelial cell        278  \n",
       "45  HTAPP-166-SMP-201        Malignant   cell       2641  \n",
       "46  HTAPP-166-SMP-201        T cell      cell        308  \n",
       "47  HTAPP-166-SMP-201        Myeloid     cell        734  \n",
       "48  HTAPP-166-SMP-201        Stroma      cell         89  \n",
       "49  HTAPP-167-SMP-211        Malignant   cell       1986  \n",
       "50  HTAPP-167-SMP-211        Endothelial cell       1222  \n",
       "51  HTAPP-167-SMP-211        Myeloid     cell        645  \n",
       "52  HTAPP-167-SMP-211        T cell      cell        553  \n",
       "53  HTAPP-167-SMP-211        Stroma      cell        660  \n",
       "54  HTAPP-168-SMP-221        Malignant   cell      13450  \n",
       "55  HTAPP-168-SMP-221        Myeloid     cell       4478  \n",
       "56  HTAPP-168-SMP-221        Endothelial cell        665  \n",
       "57  HTAPP-168-SMP-221        B cell      cell          9  \n",
       "58  HTAPP-168-SMP-221        T cell      cell       4278  \n",
       "59  HTAPP-168-SMP-221        Stroma      cell        451  \n",
       "60  HTAPP-931-SMP-7448       Malignant   cell       2938  \n",
       "61  HTAPP-931-SMP-7448       Stroma      cell         81  \n",
       "62  HTAPP-931-SMP-7448       Endothelial cell         26  \n",
       "63  HTAPP-931-SMP-7448       Myeloid     cell         22  \n",
       "64  HTAPP-931-SMP-7448       T cell      cell         90  \n",
       "65  HTAPP-931-SMP-7448       B cell      cell         79  "
      ]
     },
     "metadata": {},
     "output_type": "display_data"
    }
   ],
   "source": [
    "sub"
   ]
  },
  {
   "cell_type": "code",
   "execution_count": 25,
   "metadata": {},
   "outputs": [
    {
     "name": "stderr",
     "output_type": "stream",
     "text": [
      "1/13\n",
      "2/13\n",
      "3/13\n",
      "4/13\n",
      "5/13\n",
      "6/13\n",
      "7/13\n",
      "8/13\n",
      "9/13\n",
      "10/13\n",
      "11/13\n",
      "12/13\n",
      "13/13\n"
     ]
    }
   ],
   "source": [
    "res=data.table()\n",
    "ps=data.table()\n",
    "totN=length(unique(sub$name))\n",
    "for (n in 1:totN){\n",
    "    message('\\r',paste0(n,\"/\",totN),appendLF = FALSE)\n",
    "    ret=get_sampleN(sub,sample=n, tc = \"T cell\")\n",
    "    res=rbindlist(list(res,ret[[1]]))\n",
    "    ps=rbindlist(list(ps,ret[[2]]))\n",
    "}"
   ]
  },
  {
   "cell_type": "code",
   "execution_count": 26,
   "metadata": {},
   "outputs": [
    {
     "data": {
      "image/png": "[encoded data removed]",
      "text/plain": [
       "plot without title"
      ]
     },
     "metadata": {
      "image/png": {
       "height": 120,
       "width": 540
      }
     },
     "output_type": "display_data"
    }
   ],
   "source": [
    "#Plot recommended number of samples in dependence of the number of samples used to make the prediction/recommendattion. \n",
    "#The 3 slightly different ways of calculating the recommended number of samples. Nsamples_ref is considered the most accurate one and is (internally) used in further analysis.\n",
    "options(repr.plot.width = 9, repr.plot.height =2)\n",
    "lim=res[sample==max(sample)]$Nsamples\n",
    "lim_cont=res[sample==max(sample)]$Nsamples_cont\n",
    "lim_ref=res[sample==max(sample)]$Nsamples_ref\n",
    "p1=ggplot(res,aes(x=sample,y=log10(Nsamples),group=sample))+geom_boxplot(outlier.size = 0.5)+geom_hline(yintercept = log10(lim),col=\"red\",lty=20)+annotate(geom=\"text\",label=ceiling(lim),y=log10(lim+5),x=res[sample==max(sample)]$sample,col=\"red\",size=3)\n",
    "p2=ggplot(res,aes(x=sample,y=log10(Nsamples_cont),group=sample))+geom_boxplot(outlier.size = 0.5)+geom_hline(yintercept = log10(lim_cont),col=\"red\",lty=20)+annotate(geom=\"text\",label=ceiling(lim_cont),y=log10(lim_cont+5),x=res[sample==max(sample)]$sample,col=\"red\",size=3)\n",
    "p3=ggplot(res,aes(x=sample,y=log10(Nsamples_ref),group=sample))+geom_boxplot(outlier.size = 0.5)+geom_hline(yintercept = log10(lim_ref),col=\"red\",lty=20)+annotate(geom=\"text\",label=ceiling(lim_ref),y=log10(lim_ref+5),x=res[sample==max(sample)]$sample,col=\"red\",size=3)\n",
    "cowplot::plot_grid(p1,p2,p3,ncol = 3)"
   ]
  },
  {
   "cell_type": "code",
   "execution_count": 27,
   "metadata": {},
   "outputs": [
    {
     "data": {
      "image/png": "[encoded data removed]",
      "text/plain": [
       "plot without title"
      ]
     },
     "metadata": {
      "image/png": {
       "height": 120,
       "width": 180
      }
     },
     "output_type": "display_data"
    }
   ],
   "source": [
    "options(repr.plot.width = 3, repr.plot.height =2)\n",
    "ggplot(res,aes(x=sample,y=maxNc_re,group=sample))+geom_boxplot()"
   ]
  },
  {
   "cell_type": "code",
   "execution_count": 28,
   "metadata": {},
   "outputs": [
    {
     "data": {
      "image/png": "[encoded data removed]",
      "text/plain": [
       "plot without title"
      ]
     },
     "metadata": {
      "image/png": {
       "height": 240,
       "width": 300
      }
     },
     "output_type": "display_data"
    }
   ],
   "source": [
    "#Success probablility in dependence of the number of profiled samples (size), shown separately for each of the 100 rendom samplings.\n",
    "options(repr.plot.width = 5, repr.plot.height =4)\n",
    "ggplot(ps,aes(x=size,y=p,group=samples,col=sample))+geom_line(alpha=0.3)+scale_color_gradient(high=\"red\",low=\"blue\") #+facet_wrap(~sample,ncol=3)"
   ]
  },
  {
   "cell_type": "code",
   "execution_count": 29,
   "metadata": {},
   "outputs": [
    {
     "name": "stderr",
     "output_type": "stream",
     "text": [
      "`geom_smooth()` using method = 'gam' and formula 'y ~ s(x, bs = \"cs\")'\n",
      "\n",
      "Warning message:\n",
      "\"Removed 391 rows containing missing values (geom_smooth).\"\n"
     ]
    },
    {
     "data": {
      "image/png": "[encoded data removed]",
      "text/plain": [
       "plot without title"
      ]
     },
     "metadata": {
      "image/png": {
       "height": 240,
       "width": 300
      }
     },
     "output_type": "display_data"
    }
   ],
   "source": [
    "#Same as above but combined per number of train samples (sample)\n",
    "options(repr.plot.width = 5, repr.plot.height =4)\n",
    "ggplot(ps,aes(x=size,y=p,group=sample,col=sample))+geom_smooth(size=0.3)+scale_color_gradient(high=\"red\",low=\"blue\")+ylim(c(0,1)) #+facet_wrap(~sample,ncol=3)"
   ]
  },
  {
   "cell_type": "markdown",
   "metadata": {},
   "source": [
    "#### 2.3 Validation analysis using all non-train samples as test samples (assessed across different numbers of training samples)"
   ]
  },
  {
   "cell_type": "code",
   "execution_count": 30,
   "metadata": {},
   "outputs": [],
   "source": [
    "sub=cell_counts[condition==\"cell\"]"
   ]
  },
  {
   "cell_type": "code",
   "execution_count": 31,
   "metadata": {},
   "outputs": [],
   "source": [
    "sub_t=sub[,.(Ntc=N_cells[cell_type==\"T cell\"],Nntc=sum(N_cells[cell_type!=\"T cell\"])),by=\"name\"]\n",
    "sub_t[is.na(sub_t)]=0\n",
    "sub_t[,f:=Ntc/Nntc,]"
   ]
  },
  {
   "cell_type": "code",
   "execution_count": 32,
   "metadata": {},
   "outputs": [
    {
     "name": "stderr",
     "output_type": "stream",
     "text": [
      "`stat_bin()` using `bins = 30`. Pick better value with `binwidth`.\n",
      "\n"
     ]
    },
    {
     "data": {
      "image/png": "[encoded data removed]",
      "text/plain": [
       "plot without title"
      ]
     },
     "metadata": {
      "image/png": {
       "height": 120,
       "width": 180
      }
     },
     "output_type": "display_data"
    }
   ],
   "source": [
    "#Histogram of target cell frequencies\n",
    "options(repr.plot.width = 3, repr.plot.height =2)\n",
    "ggplot(sub_t, aes(x=f))+geom_histogram()"
   ]
  },
  {
   "cell_type": "code",
   "execution_count": 33,
   "metadata": {},
   "outputs": [],
   "source": [
    "val=data.table()\n",
    "val_cross=data.table()\n",
    "totN=length(unique(sub$name))\n",
    "for (n in 1:totN){\n",
    "    ret=get_sampleN(sub,sample=n, tc = \"T cell\", max_cross = 1000,conf = 0.95,do.test = TRUE,same = TRUE)\n",
    "    ret_cross=get_sampleN(sub,sample=n, tc = \"T cell\", max_cross = 1000,conf = 0.95,do.test = TRUE,same = FALSE)\n",
    "    val=rbindlist(list(val,ret[[3]]))\n",
    "    val_cross=rbindlist(list(val_cross,ret_cross[[3]]))\n",
    "}"
   ]
  },
  {
   "cell_type": "code",
   "execution_count": null,
   "metadata": {},
   "outputs": [],
   "source": [
    "save(val,file = paste0(out,\"/validation.RData\"))\n",
    "save(val_cross,file = paste0(out,\"/validation_cross.RData\"))"
   ]
  },
  {
   "cell_type": "code",
   "execution_count": null,
   "metadata": {},
   "outputs": [],
   "source": [
    "val[,mode:=\"same\",]\n",
    "val_cross[,mode:=\"cross\",]\n",
    "val_all=rbindlist(list(val,val_cross))"
   ]
  },
  {
   "cell_type": "code",
   "execution_count": null,
   "metadata": {},
   "outputs": [],
   "source": [
    "head(val_all)"
   ]
  },
  {
   "cell_type": "code",
   "execution_count": null,
   "metadata": {},
   "outputs": [],
   "source": [
    "val_comb=val_all[,.(mean_hit_rate=mean(hit_rate)),by=c(\"i\",\"Nsample\",\"train_samples\",\"test_samples\",\"Nc_ref\",\"post_conf\",\"a_test\",\"b_test\",\"a_train\",\"b_train\",\"mode\")]"
   ]
  },
  {
   "cell_type": "code",
   "execution_count": null,
   "metadata": {},
   "outputs": [],
   "source": [
    "head(val_comb)"
   ]
  },
  {
   "cell_type": "code",
   "execution_count": null,
   "metadata": {},
   "outputs": [],
   "source": [
    "get_ct_freq=function(dat,sample_str){\n",
    "    samples=unlist(strsplit(sample_str,\"\\\\|\"))\n",
    "    freq=mean(dat[name%in%samples,]$f)\n",
    "    zeros=sum(dat[name%in%samples,]$f==0)\n",
    "    list(freq,zeros)\n",
    "}\n",
    "\n",
    "val_comb[,c(\"tc_f_train\",\"tc_z_train\"):=get_ct_freq(sub_t,train_samples),by=c(\"i\",\"Nsample\",\"mode\")]\n",
    "val_comb[,c(\"tc_f_test\",\"tc_z_test\"):=get_ct_freq(sub_t,test_samples),by=c(\"i\",\"Nsample\",\"mode\")]\n",
    "val_comb[,d_tc_f:=tc_f_train-tc_f_test,by=c(\"i\",\"Nsample\",\"mode\")]\n",
    "val_comb[,d_tc_z:=tc_z_train-tc_z_test,by=c(\"i\",\"Nsample\",\"mode\")]"
   ]
  },
  {
   "cell_type": "code",
   "execution_count": null,
   "metadata": {},
   "outputs": [],
   "source": [
    "options(repr.plot.width = 4, repr.plot.height =3)\n",
    "ggplot(val_comb,aes(y=mean_hit_rate,x=Nsample,group=mode,col=mode))+\n",
    "stat_summary(fun.data=mean_se, geom=\"errorbar\", width=0.3)+\n",
    "stat_summary(fun.y=mean, geom=\"point\",pch=4)+\n",
    "geom_hline(yintercept=0.95,lty=20,color=\"black\")"
   ]
  },
  {
   "cell_type": "code",
   "execution_count": null,
   "metadata": {},
   "outputs": [],
   "source": [
    "options(repr.plot.width = 34, repr.plot.height =12)\n",
    "ggplot(val_all, aes(x=hit_rate))+geom_histogram(bins = 100)+geom_vline(xintercept = 0.95,lty=20,col=\"red\")+facet_wrap(mode~Nsample, scale=\"free\")"
   ]
  },
  {
   "cell_type": "code",
   "execution_count": null,
   "metadata": {},
   "outputs": [],
   "source": [
    "options(repr.plot.width = 34, repr.plot.height =12)\n",
    "ggplot(val_comb, aes(x=mean_hit_rate))+geom_histogram(bins = 100)+geom_vline(xintercept = 0.95,lty=20,col=\"red\")+facet_wrap(mode~Nsample, scale=\"free\")"
   ]
  },
  {
   "cell_type": "code",
   "execution_count": null,
   "metadata": {},
   "outputs": [],
   "source": [
    "options(repr.plot.width = 12, repr.plot.height =6)\n",
    "ggplot(val_comb[Nsample<21&mode==\"same\"], aes(x=mean_hit_rate,y=post_conf))+geom_point(alpha=0.1)+facet_wrap(~Nsample)+geom_vline(xintercept = 0.95,lty=20,col=\"red\")"
   ]
  },
  {
   "cell_type": "code",
   "execution_count": null,
   "metadata": {},
   "outputs": [],
   "source": [
    "options(repr.plot.width = 12, repr.plot.height =6) \n",
    "ggplot(val_comb[Nsample<21&mode==\"cross\"], aes(x=mean_hit_rate,y=d_tc_z))+geom_point(alpha=0.1)+facet_wrap(~Nsample)+geom_vline(xintercept = 0.95,lty=20,col=\"red\")"
   ]
  },
  {
   "cell_type": "markdown",
   "metadata": {},
   "source": [
    "#### 2.4 Cross-validation is only sensible with the same number of test an training samples (--> same as 2.3 but using same number of train and test samples)"
   ]
  },
  {
   "cell_type": "code",
   "execution_count": null,
   "metadata": {},
   "outputs": [],
   "source": [
    "sub=cell_counts[condition==\"cell\"]"
   ]
  },
  {
   "cell_type": "code",
   "execution_count": null,
   "metadata": {},
   "outputs": [],
   "source": [
    "all_samples=unique(sub$name)\n",
    "totN=length(unique(sub$name))\n",
    "totN=floor(totN/2)\n",
    "totN"
   ]
  },
  {
   "cell_type": "code",
   "execution_count": null,
   "metadata": {},
   "outputs": [],
   "source": [
    "val=data.table()\n",
    "val_cross=data.table()\n",
    "for (n in 1:totN){\n",
    "    ret_def<-get_sampleN(sub,sample=n,tc = \"T cell\", sample_same = TRUE,max_cross = 1000,conf = 0.95,do.test = TRUE)\n",
    "    ret_def_same<-get_sampleN(sub,sample=n,tc = \"T cell\", max_cross = 1000,conf = 0.95,same = TRUE,do.test = TRUE)\n",
    "    val=rbindlist(list(val,ret_def_same[[3]]))\n",
    "    val_cross=rbindlist(list(val_cross,ret_def[[3]]))\n",
    "}"
   ]
  },
  {
   "cell_type": "code",
   "execution_count": null,
   "metadata": {},
   "outputs": [],
   "source": [
    "save(val,file = paste0(out,\"/validation_10.RData\"))\n",
    "save(val_cross,file = paste0(out,\"/validation_cross_10.RData\"))"
   ]
  },
  {
   "cell_type": "code",
   "execution_count": null,
   "metadata": {},
   "outputs": [],
   "source": [
    "val_cross[,mode:=\"cross\",]\n",
    "val[,mode:=\"same\",]\n",
    "val=rbindlist(list(val_cross,val))"
   ]
  },
  {
   "cell_type": "code",
   "execution_count": null,
   "metadata": {},
   "outputs": [],
   "source": [
    "val_comb=val[,.(mean_hit_rate=mean(hit_rate)),by=c(\"i\",\"Nsample\",\"train_samples\",\"test_samples\",\"Nc_ref\",\"post_conf\",\"a_test\",\"b_test\",\"a_train\",\"b_train\",\"mode\")]"
   ]
  },
  {
   "cell_type": "code",
   "execution_count": null,
   "metadata": {},
   "outputs": [],
   "source": [
    "get_ct_freq=function(dat,sample_str){\n",
    "    samples=unlist(strsplit(sample_str,\"\\\\|\"))\n",
    "    freq=mean(dat[name%in%samples,]$f)\n",
    "    zeros=sum(dat[name%in%samples,]$f==0)\n",
    "    list(freq,zeros)\n",
    "}\n",
    "\n",
    "val_comb[,c(\"tc_f_train\",\"tc_z_train\"):=get_ct_freq(sub_t,train_samples),by=c(\"i\",\"Nsample\",\"mode\")]\n",
    "val_comb[,c(\"tc_f_test\",\"tc_z_test\"):=get_ct_freq(sub_t,test_samples),by=c(\"i\",\"Nsample\",\"mode\")]\n",
    "val_comb[,d_tc_f:=tc_f_train-tc_f_test,by=c(\"i\",\"Nsample\",\"mode\")]\n",
    "val_comb[,d_tc_z:=tc_z_train-tc_z_test,by=c(\"i\",\"Nsample\",\"mode\")]"
   ]
  },
  {
   "cell_type": "code",
   "execution_count": null,
   "metadata": {},
   "outputs": [],
   "source": [
    "options(repr.plot.width = 30, repr.plot.height =3.5)\n",
    "ggplot(val, aes(x=hit_rate))+geom_histogram(bins = 100)+geom_vline(xintercept = 0.95,lty=20,col=\"red\")+facet_grid(mode~Nsample)"
   ]
  },
  {
   "cell_type": "code",
   "execution_count": null,
   "metadata": {},
   "outputs": [],
   "source": [
    "options(repr.plot.width = 4, repr.plot.height =4)\n",
    "p1=ggplot(val_comb,aes(y=mean_hit_rate,x=Nsample,group=mode,col=mode))+\n",
    "stat_summary(fun.data=mean_se, geom=\"errorbar\", width=0.3)+\n",
    "stat_summary(fun.y=mean, geom=\"point\",pch=4)+\n",
    "geom_hline(yintercept=0.95,lty=20,color=\"black\")+\n",
    "theme(axis.title.x = element_blank(), axis.text.x = element_blank())\n",
    "\n",
    "p2=ggplot(val_comb,aes(y=Nc_ref,x=Nsample,group=mode,col=mode))+\n",
    "stat_summary(fun.data=mean_se, geom=\"errorbar\", width=0.3)+\n",
    "stat_summary(fun.y=mean, geom=\"point\",pch=4)\n",
    "grid.draw(rbind(ggplotGrob(p1), ggplotGrob(p2), size = \"first\"))\n",
    "#grid.arrange(p1, p2, nrow=2)"
   ]
  },
  {
   "cell_type": "code",
   "execution_count": null,
   "metadata": {},
   "outputs": [],
   "source": [
    "options(repr.plot.width = 30, repr.plot.height =4.5)\n",
    "ggplot(val_comb, aes(x=mean_hit_rate))+geom_histogram(bins = 100)+geom_vline(xintercept = 0.95,lty=20,col=\"red\")+facet_wrap(mode~Nsample,scale=\"free\",nrow=2)"
   ]
  },
  {
   "cell_type": "code",
   "execution_count": null,
   "metadata": {},
   "outputs": [],
   "source": [
    "options(repr.plot.width = 18, repr.plot.height =4)\n",
    "ggplot(val_comb[mode==\"cross\"],aes(y=d_tc_z,x=mean_hit_rate))+geom_point(alpha=0.5)+geom_vline(xintercept = 0.95,col=\"red\",lty=20)+facet_wrap(~Nsample,scale=\"free\",nrow=2)"
   ]
  },
  {
   "cell_type": "markdown",
   "metadata": {},
   "source": [
    "#### 2.5 Compare different cell types"
   ]
  },
  {
   "cell_type": "code",
   "execution_count": null,
   "metadata": {},
   "outputs": [],
   "source": [
    "sub=cell_counts[condition==\"cell\"]"
   ]
  },
  {
   "cell_type": "code",
   "execution_count": null,
   "metadata": {},
   "outputs": [],
   "source": [
    "sub_ct=melt(sub[,.(cts=.N,T=N_cells[cell_type==\"T cell\"]/sum(N_cells),B=N_cells[cell_type==\"B cell\"]/sum(N_cells),Malignant=N_cells[cell_type==\"Malignant\"]/sum(N_cells)),by=\"name\"],id.vars = \"name\",na.rm = FALSE)\n",
    "sub_ct[is.na(sub_ct)]=0"
   ]
  },
  {
   "cell_type": "code",
   "execution_count": null,
   "metadata": {},
   "outputs": [],
   "source": [
    "#Target cell type frequency distributions\n",
    "options(repr.plot.width = 9, repr.plot.height =2)\n",
    "ggplot(sub_ct, aes(x=value))+geom_histogram()+facet_wrap(~variable,nrow=1,scale=\"free\")"
   ]
  },
  {
   "cell_type": "code",
   "execution_count": null,
   "metadata": {},
   "outputs": [],
   "source": [
    "# frequency of \"positive samples\" estimate\n",
    "sub_ct[,sum(value>0.01)/.N,by=\"variable\"]"
   ]
  },
  {
   "cell_type": "code",
   "execution_count": null,
   "metadata": {},
   "outputs": [],
   "source": [
    "all_samples=unique(sub$name)\n",
    "totN=length(unique(sub$name))\n",
    "totN_half=floor(totN/2)\n",
    "totN\n",
    "totN_half"
   ]
  },
  {
   "cell_type": "code",
   "execution_count": null,
   "metadata": {},
   "outputs": [],
   "source": [
    "#Specify parameters for different cell types/runs. Here also using the positive sample frequency prior: (tc,prior_sf,weight) \n",
    "cts=list(c(\"T cell\",0.5,5),c(\"B cell\",0.0001,5),c(\"Malignant\",0.6,5),c(\"T cell\",0,0),c(\"B cell\",0,0),c(\"Malignant\",0,0))"
   ]
  },
  {
   "cell_type": "code",
   "execution_count": null,
   "metadata": {},
   "outputs": [],
   "source": [
    "val=data.table()\n",
    "val_cross=data.table()\n",
    "ps=data.table()\n",
    "for (n in 1:totN){\n",
    "    for (c in cts){\n",
    "        ct=c[1]\n",
    "        sf=as.numeric(c[2])\n",
    "        w=as.numeric(c[3])\n",
    "        if (n<=totN_half){\n",
    "            ret_def<-get_sampleN(sub,tc = ct,prior_sf =sf ,weight = w,sample=n,sample_same = TRUE,max_cross = 100,conf = 0.95,do.test = TRUE)\n",
    "            val_cross=rbindlist(list(val_cross,ret_def[[3]][,c(\"ct\",\"sf\",\"w\"):=list(ct,sf,w),]))\n",
    "        }\n",
    "    ret_def_same<-get_sampleN(sub,tc = ct,prior_sf =sf,weight = w,sample=n,max_cross = 100,conf = 0.95,same = TRUE,do.test = TRUE)\n",
    "    val=rbindlist(list(val,ret_def_same[[3]][,c(\"ct\",\"sf\",\"w\"):=list(ct,sf,w),]))\n",
    "    ps=rbindlist(list(ps,ret_def_same[[2]][,c(\"ct\",\"sf\",\"w\"):=list(ct,sf,w),]))    \n",
    "        }\n",
    "}"
   ]
  },
  {
   "cell_type": "code",
   "execution_count": null,
   "metadata": {},
   "outputs": [],
   "source": [
    "save(val,file = paste0(out,\"/validation_ct.RData\"))\n",
    "save(val_cross,file = paste0(out,\"/validation_cross_ct.RData\"))\n",
    "save(ps,file = paste0(out,\"/success_prob_ct.RData\"))"
   ]
  },
  {
   "cell_type": "code",
   "execution_count": null,
   "metadata": {},
   "outputs": [],
   "source": [
    "load(paste0(out,\"/validation_ct.RData\"))\n",
    "load(paste0(out,\"/validation_cross_ct.RData\"))"
   ]
  },
  {
   "cell_type": "code",
   "execution_count": null,
   "metadata": {},
   "outputs": [],
   "source": [
    "val_cross[,mode:=\"cross\",]\n",
    "val[,mode:=\"same\",]\n",
    "val_all=rbindlist(list(val_cross,val))"
   ]
  },
  {
   "cell_type": "code",
   "execution_count": null,
   "metadata": {},
   "outputs": [],
   "source": [
    "val_comb=val_all[,.(mean_hit_rate=mean(hit_rate),sd_hit_rate=sd(hit_rate),mean_Nc_h=mean(Nc_h[Nc_h<quantile(Nc_h,0.9999)]),sd_Nc_h=sd(Nc_h[Nc_h<quantile(Nc_h,0.9999)])),by=c(\"i\",\"ct\",\"Nsample\",\"train_samples\",\"test_samples\",\"Nc_ref\",\"post_conf\",\"a_test\",\"b_test\",\"a_train\",\"b_train\",\"mode\",\"sf\",\"w\")]"
   ]
  },
  {
   "cell_type": "code",
   "execution_count": null,
   "metadata": {},
   "outputs": [],
   "source": [
    "options(repr.plot.width = 14, repr.plot.height =8)\n",
    "p1=ggplot(val_comb,aes(y=mean_hit_rate,x=Nsample,group=mode,col=mode))+\n",
    "stat_summary(fun.data=mean_se, geom=\"errorbar\", width=0.3)+\n",
    "stat_summary(fun.y=mean, geom=\"point\",pch=4)+\n",
    "geom_hline(yintercept=0.95,lty=20,color=\"black\")+\n",
    "theme(axis.title.x = element_blank(), axis.text.x = element_blank())+facet_wrap(w~ct, nrow=1)\n",
    "\n",
    "p2=ggplot(val_comb,aes(y=sd_hit_rate,x=Nsample,group=mode,col=mode))+\n",
    "stat_summary(fun.data=mean_se, geom=\"errorbar\", width=0.3)+\n",
    "stat_summary(fun.y=mean, geom=\"point\",pch=4)+\n",
    "theme(axis.title.x = element_blank(), axis.text.x = element_blank())+facet_wrap(w~ct, nrow=1)\n",
    "\n",
    "p3=ggplot(val_comb,aes(y=mean_Nc_h,x=Nsample,group=mode,col=mode))+\n",
    "stat_summary(fun.data=mean_se, geom=\"errorbar\", width=0.3)+\n",
    "stat_summary(fun.y=mean, geom=\"point\",pch=4)+\n",
    "theme(axis.title.x = element_blank(), axis.text.x = element_blank())+facet_wrap(w~ct, nrow=1,scale=\"free_y\")\n",
    "\n",
    "p4=ggplot(val_comb,aes(y=sd_Nc_h,x=Nsample,group=mode,col=mode))+\n",
    "stat_summary(fun.data=mean_se, geom=\"errorbar\", width=0.3)+\n",
    "stat_summary(fun.y=mean, geom=\"point\",pch=4)+\n",
    "theme(axis.title.x = element_blank(), axis.text.x = element_blank())+facet_wrap(w~ct, nrow=1,scale=\"free_y\")\n",
    "\n",
    "p5=ggplot(val_comb,aes(y=Nc_ref,x=Nsample,group=mode,col=mode))+\n",
    "stat_summary(fun.data=mean_se, geom=\"errorbar\", width=0.3)+\n",
    "stat_summary(fun.y=mean, geom=\"point\",pch=4)+facet_wrap(w~ct, nrow=1,scale=\"free_y\")\n",
    "grid::grid.draw(rbind(ggplotGrob(p1), ggplotGrob(p2),ggplotGrob(p3),ggplotGrob(p4),ggplotGrob(p5) ,size = \"first\"))\n",
    "#grid.arrange(p1, p2, nrow=2)"
   ]
  },
  {
   "cell_type": "code",
   "execution_count": null,
   "metadata": {},
   "outputs": [],
   "source": [
    "val_comb[Nsample%in%c(10,19,21)&mode==\"same\",.(nCombis=.N,median_Nc_ref=median(Nc_ref),mean_Nc_ref=mean(Nc_ref),sd_Nc_ref=sd(Nc_ref)),by=c(\"ct\",\"Nsample\",\"w\")]"
   ]
  },
  {
   "cell_type": "markdown",
   "metadata": {},
   "source": [
    "#### 2.6 Same as above but in a larger, more heterogenious set (now all biopsy sites are included, not only liver)"
   ]
  },
  {
   "cell_type": "code",
   "execution_count": null,
   "metadata": {},
   "outputs": [],
   "source": [
    "sub=cell_counts[condition==\"cell\"]"
   ]
  },
  {
   "cell_type": "code",
   "execution_count": null,
   "metadata": {},
   "outputs": [],
   "source": [
    "sub_ct=melt(sub[,.(cts=.N,T=N_cells[cell_type==\"T cell\"]/sum(N_cells),B=N_cells[cell_type==\"B cell\"]/sum(N_cells),Malignant=N_cells[cell_type==\"Malignant\"]/sum(N_cells)),by=\"name\"],id.vars = \"name\",na.rm = FALSE)\n",
    "sub_ct[is.na(sub_ct)]=0"
   ]
  },
  {
   "cell_type": "code",
   "execution_count": null,
   "metadata": {},
   "outputs": [],
   "source": [
    "options(repr.plot.width = 9, repr.plot.height =2)\n",
    "ggplot(sub_ct, aes(x=value))+geom_histogram()+facet_wrap(~variable,nrow=1,scale=\"free\")"
   ]
  },
  {
   "cell_type": "code",
   "execution_count": null,
   "metadata": {},
   "outputs": [],
   "source": [
    "sub_ct[,sum(value>0.01)/.N,by=\"variable\"]"
   ]
  },
  {
   "cell_type": "code",
   "execution_count": null,
   "metadata": {},
   "outputs": [],
   "source": [
    "all_samples=unique(sub$name)\n",
    "totN=length(unique(sub$name))\n",
    "totN_half=floor(totN/2)\n",
    "totN\n",
    "totN_half"
   ]
  },
  {
   "cell_type": "code",
   "execution_count": null,
   "metadata": {},
   "outputs": [],
   "source": [
    "cts=list(c(\"T cell\",0.7,5),c(\"B cell\",0.05,5),c(\"Malignant\",0.8,5),c(\"T cell\",0,0),c(\"B cell\",0,0),c(\"Malignant\",0,0))"
   ]
  },
  {
   "cell_type": "code",
   "execution_count": null,
   "metadata": {},
   "outputs": [],
   "source": [
    "val=data.table()\n",
    "val_cross=data.table()\n",
    "ps=data.table()\n",
    "for (c in cts){\n",
    "    print(c[1])\n",
    "    for (n in 1:totN){\n",
    "        ct=c[1]\n",
    "        sf=as.numeric(c[2])\n",
    "        w=as.numeric(c[3])\n",
    "        if (n<=totN_half){\n",
    "            ret_def<-get_sampleN(sub,tc = ct,prior_sf =sf ,weight = w,sample=n,sample_same = TRUE,max_cross = 100,conf = 0.95,do.test = TRUE)\n",
    "            val_cross=rbindlist(list(val_cross,ret_def[[3]][,c(\"ct\",\"sf\",\"w\"):=list(ct,sf,w),]))\n",
    "        }\n",
    "    ret_def_same<-get_sampleN(sub,tc = ct,prior_sf =sf,weight = w,sample=n,max_cross = 100,conf = 0.95,same = TRUE,do.test = TRUE)\n",
    "    val=rbindlist(list(val,ret_def_same[[3]][,c(\"ct\",\"sf\",\"w\"):=list(ct,sf,w),]))\n",
    "    ps=rbindlist(list(ps,ret_def_same[[2]][,c(\"ct\",\"sf\",\"w\"):=list(ct,sf,w),]))    \n",
    "        }\n",
    "}"
   ]
  },
  {
   "cell_type": "code",
   "execution_count": null,
   "metadata": {},
   "outputs": [],
   "source": [
    "save(val,file = paste0(out,\"/validation_ct_het.RData\"))\n",
    "save(val_cross,file = paste0(out,\"/validation_cross_ct_het.RData\"))\n",
    "save(ps,file = paste0(out,\"/success_prob_ct_het.RData\"))"
   ]
  },
  {
   "cell_type": "code",
   "execution_count": null,
   "metadata": {},
   "outputs": [],
   "source": [
    "load(paste0(out,\"/validation_ct_het.RData\"))\n",
    "load(paste0(out,\"/validation_cross_ct_het.RData\"))"
   ]
  },
  {
   "cell_type": "code",
   "execution_count": null,
   "metadata": {},
   "outputs": [],
   "source": [
    "val_cross[,mode:=\"cross\",]\n",
    "val[,mode:=\"same\",]\n",
    "val_all=rbindlist(list(val_cross,val))"
   ]
  },
  {
   "cell_type": "code",
   "execution_count": null,
   "metadata": {},
   "outputs": [],
   "source": [
    "val_comb=val_all[,.(mean_hit_rate=mean(hit_rate),sd_hit_rate=sd(hit_rate),mean_Nc_h=mean(Nc_h[Nc_h<quantile(Nc_h,0.9999)]),sd_Nc_h=sd(Nc_h[Nc_h<quantile(Nc_h,0.9999)])),by=c(\"i\",\"ct\",\"Nsample\",\"train_samples\",\"test_samples\",\"Nc_ref\",\"post_conf\",\"a_test\",\"b_test\",\"a_train\",\"b_train\",\"mode\",\"sf\",\"w\")]"
   ]
  },
  {
   "cell_type": "code",
   "execution_count": null,
   "metadata": {},
   "outputs": [],
   "source": [
    "options(repr.plot.width = 16, repr.plot.height =9)\n",
    "p1=ggplot(val_comb,aes(y=mean_hit_rate,x=Nsample,group=mode,col=mode))+\n",
    "stat_summary(fun.data=mean_se, geom=\"errorbar\", width=0.3)+\n",
    "stat_summary(fun.y=mean, geom=\"point\",pch=4)+\n",
    "geom_hline(yintercept=0.95,lty=20,color=\"black\")+\n",
    "theme(axis.title.x = element_blank(), axis.text.x = element_blank())+facet_wrap(w~ct, nrow=1)\n",
    "\n",
    "p2=ggplot(val_comb,aes(y=sd_hit_rate,x=Nsample,group=mode,col=mode))+\n",
    "stat_summary(fun.data=mean_se, geom=\"errorbar\", width=0.3)+\n",
    "stat_summary(fun.y=mean, geom=\"point\",pch=4)+\n",
    "theme(axis.title.x = element_blank(), axis.text.x = element_blank())+facet_wrap(w~ct, nrow=1)\n",
    "\n",
    "p3=ggplot(val_comb,aes(y=mean_Nc_h,x=Nsample,group=mode,col=mode))+\n",
    "stat_summary(fun.data=mean_se, geom=\"errorbar\", width=0.3)+\n",
    "stat_summary(fun.y=mean, geom=\"point\",pch=4)+\n",
    "theme(axis.title.x = element_blank(), axis.text.x = element_blank())+facet_wrap(w~ct, nrow=1,scale=\"free_y\")\n",
    "\n",
    "p4=ggplot(val_comb,aes(y=sd_Nc_h,x=Nsample,group=mode,col=mode))+\n",
    "stat_summary(fun.data=mean_se, geom=\"errorbar\", width=0.3)+\n",
    "stat_summary(fun.y=mean, geom=\"point\",pch=4)+\n",
    "theme(axis.title.x = element_blank(), axis.text.x = element_blank())+facet_wrap(w~ct, nrow=1,scale=\"free_y\")\n",
    "\n",
    "p5=ggplot(val_comb,aes(y=Nc_ref,x=Nsample,group=mode,col=mode))+\n",
    "stat_summary(fun.data=mean_se, geom=\"errorbar\", width=0.3)+\n",
    "stat_summary(fun.y=mean, geom=\"point\",pch=4)+facet_wrap(w~ct, nrow=1,scale=\"free_y\")\n",
    "grid::grid.draw(rbind(ggplotGrob(p1), ggplotGrob(p2),ggplotGrob(p3),ggplotGrob(p4),ggplotGrob(p5) ,size = \"first\"))\n",
    "#grid.arrange(p1, p2, nrow=2)"
   ]
  },
  {
   "cell_type": "code",
   "execution_count": null,
   "metadata": {},
   "outputs": [],
   "source": [
    "val_comb[Nsample%in%c(10,19,35,37)&mode==\"same\",.(nCombis=.N,median_Nc_ref=median(Nc_ref),mean_Nc_ref=mean(Nc_ref),sd_Nc_ref=sd(Nc_ref)),by=c(\"ct\",\"Nsample\",\"w\")]"
   ]
  },
  {
   "cell_type": "markdown",
   "metadata": {},
   "source": [
    "### 3 Sweep across different combinations of requeirements. --> How many samples do I need to profile if parameter 1 = x and parameter 2 = y?"
   ]
  },
  {
   "cell_type": "code",
   "execution_count": 23,
   "metadata": {},
   "outputs": [],
   "source": [
    "#Out of the four requirements (minC, minS, MaxNc, conf) two are set to a constant reasonable value, while the other two are swept throug a reasonable range. \n",
    "#The recommended number of samples to be assessed is recorded and later displayed."
   ]
  },
  {
   "cell_type": "code",
   "execution_count": 44,
   "metadata": {},
   "outputs": [],
   "source": [
    "sub=cell_counts[condition==\"cell\"]"
   ]
  },
  {
   "cell_type": "code",
   "execution_count": 45,
   "metadata": {},
   "outputs": [],
   "source": [
    "set=\"CS\"\n",
    "minCs=seq(10,200,10)\n",
    "# minSs=seq(2,50,2)\n",
    "minSs=seq(2,10,2)\n",
    "maxNcs=8000 \n",
    "confs=0.95 "
   ]
  },
  {
   "cell_type": "code",
   "execution_count": 46,
   "metadata": {},
   "outputs": [],
   "source": [
    "set=\"NCo\"\n",
    "minCs=100\n",
    "# minSs=10\n",
    "minSs=5\n",
    "maxNcs=seq(1000,10000,1000) \n",
    "confs=seq(0.7,0.98,0.02)"
   ]
  },
  {
   "cell_type": "code",
   "execution_count": 47,
   "metadata": {},
   "outputs": [],
   "source": [
    "set=\"SCo\"\n",
    "minCs=100\n",
    "# minSs=seq(2,50,2)\n",
    "minSs=seq(2,10,2)\n",
    "maxNcs=4000\n",
    "confs=seq(0.7,0.98,0.02)"
   ]
  },
  {
   "cell_type": "code",
   "execution_count": 48,
   "metadata": {},
   "outputs": [],
   "source": [
    "set=\"CCo\"\n",
    "minCs=seq(10,200,10)\n",
    "# minSs=10\n",
    "minSs=5\n",
    "maxNcs=4000\n",
    "confs=seq(0.7,0.98,0.02)"
   ]
  },
  {
   "cell_type": "code",
   "execution_count": 49,
   "metadata": {},
   "outputs": [],
   "source": [
    "set=\"SN\"\n",
    "minCs=100\n",
    "# minSs=seq(2,50,2)\n",
    "minSs=seq(2,10,2)\n",
    "maxNcs=seq(1000,10000,1000) \n",
    "confs=0.95"
   ]
  },
  {
   "cell_type": "code",
   "execution_count": 50,
   "metadata": {},
   "outputs": [],
   "source": [
    "set=\"CN\"\n",
    "minCs=seq(10,200,10)\n",
    "# minSs=10\n",
    "minSs=5\n",
    "maxNcs=seq(1000,10000,1000) \n",
    "confs=0.95"
   ]
  },
  {
   "cell_type": "code",
   "execution_count": 51,
   "metadata": {},
   "outputs": [],
   "source": [
    "res=data.table()\n",
    "ps=data.table()"
   ]
  },
  {
   "cell_type": "code",
   "execution_count": 52,
   "metadata": {},
   "outputs": [
    {
     "name": "stderr",
     "output_type": "stream",
     "text": [
      "10/10/1000/0.95\n",
      "10/10/2000/0.95\n",
      "10/10/3000/0.95\n",
      "10/10/4000/0.95\n",
      "10/10/5000/0.95\n"
     ]
    }
   ],
   "source": [
    "#select one set from above, then run this block. Repeat for all sets you want to run. The results will be added (not overwritten).\n",
    "for (minC in minCs){\n",
    "    for (minS in minSs){\n",
    "        for (maxNc in maxNcs){\n",
    "            for (conf in confs){\n",
    "                message('\\r',paste0(minC,\"/\",minS,\"/\",maxNc,\"/\",conf),appendLF = FALSE)\n",
    "                #ret<-get_sampleN(sub,tc = \"T cell\", sample=21, minC=minC,minS=minS,maxNc=maxNc,conf=conf,max_cross = 100,progress = FALSE)\n",
    "                ret<-get_sampleN(sub,tc = \"T cell\", sample=5, minC=minC,minS=minS,maxNc=maxNc,conf=conf,max_cross = 100,progress = FALSE)\n",
    "                res=rbindlist(list(res,ret[[1]][,c(\"minC\",\"minS\",\"maxNc\",\"conf\",\"set\"):=list(minC,minS,maxNc,conf,set),]))\n",
    "                ps=rbindlist(list(ps,ret[[2]][,c(\"minC\",\"minS\",\"maxNc\",\"conf\",\"set\"):=list(minC,minS,maxNc,conf,set),]))\n",
    "            }\n",
    "            \n",
    "        }\n",
    "    }\n",
    "}"
   ]
  },
  {
   "cell_type": "code",
   "execution_count": null,
   "metadata": {},
   "outputs": [],
   "source": [
    "save(res,file = paste0(out,\"/param_sweep_res.RData\"))\n",
    "save(ps,file = paste0(out,\"/param_sweep_ps.RData\"))"
   ]
  },
  {
   "cell_type": "code",
   "execution_count": null,
   "metadata": {},
   "outputs": [],
   "source": [
    "options(repr.plot.width = 15, repr.plot.height =3)\n",
    "p1=ggplot(res[set==\"CS\"],(aes(x=minS,y=minC,fill=Nsamples_ref)))+geom_tile()+scale_fill_gradient(high=\"red\",low=\"blue\")\n",
    "p2=ggplot(res[set==\"CS\"],(aes(x=minS,y=Nsamples_ref,group=minC,col=minC)))+geom_line()+scale_color_gradient(high=\"red\",low=\"blue\")\n",
    "p3=ggplot(res[set==\"CS\"],(aes(x=minC,y=Nsamples_ref,group=minS,col=minS)))+geom_line()+scale_color_gradient(high=\"red\",low=\"blue\")\n",
    "cowplot::plot_grid(p1,p2,p3,ncol=3)"
   ]
  },
  {
   "cell_type": "code",
   "execution_count": null,
   "metadata": {},
   "outputs": [],
   "source": [
    "options(repr.plot.width = 15, repr.plot.height =3)\n",
    "p1=ggplot(res[set==\"NCo\"],(aes(x=conf,y=maxNc,fill=Nsamples_ref)))+geom_tile()+scale_fill_gradient(high=\"red\",low=\"blue\")\n",
    "p2=ggplot(res[set==\"NCo\"],(aes(x=conf,y=Nsamples_ref,group=maxNc,col=maxNc)))+geom_line()+scale_color_gradient(high=\"red\",low=\"blue\")\n",
    "p3=ggplot(res[set==\"NCo\"],(aes(x=maxNc,y=Nsamples_ref,group=conf,col=conf)))+geom_line()+scale_color_gradient(high=\"red\",low=\"blue\")\n",
    "cowplot::plot_grid(p1,p2,p3,ncol=3)"
   ]
  },
  {
   "cell_type": "code",
   "execution_count": null,
   "metadata": {},
   "outputs": [],
   "source": [
    "options(repr.plot.width = 15, repr.plot.height =3)\n",
    "p1=ggplot(res[set==\"SCo\"],(aes(x=conf,y=minS,fill=Nsamples_ref)))+geom_tile()+scale_fill_gradient(high=\"red\",low=\"blue\")\n",
    "p2=ggplot(res[set==\"SCo\"],(aes(x=conf,y=Nsamples_ref,group=minS,col=minS)))+geom_line()+scale_color_gradient(high=\"red\",low=\"blue\")\n",
    "p3=ggplot(res[set==\"SCo\"],(aes(x=minS,y=Nsamples_ref,group=conf,col=conf)))+geom_line()+scale_color_gradient(high=\"red\",low=\"blue\")\n",
    "cowplot::plot_grid(p1,p2,p3,ncol=3)"
   ]
  },
  {
   "cell_type": "code",
   "execution_count": null,
   "metadata": {},
   "outputs": [],
   "source": [
    "options(repr.plot.width = 15, repr.plot.height =3)\n",
    "p1=ggplot(res[set==\"CCo\"],(aes(x=conf,y=minC,fill=Nsamples_ref)))+geom_tile()+scale_fill_gradient(high=\"red\",low=\"blue\")\n",
    "p2=ggplot(res[set==\"CCo\"],(aes(x=conf,y=Nsamples_ref,group=minC,col=minC)))+geom_line()+scale_color_gradient(high=\"red\",low=\"blue\")\n",
    "p3=ggplot(res[set==\"CCo\"],(aes(x=minC,y=Nsamples_ref,group=conf,col=conf)))+geom_line()+scale_color_gradient(high=\"red\",low=\"blue\")\n",
    "cowplot::plot_grid(p1,p2,p3,ncol=3)"
   ]
  },
  {
   "cell_type": "code",
   "execution_count": null,
   "metadata": {},
   "outputs": [],
   "source": [
    "options(repr.plot.width = 15, repr.plot.height =3)\n",
    "p1=ggplot(res[set==\"SN\"],(aes(x=maxNc,y=minS,fill=Nsamples_ref)))+geom_tile()+scale_fill_gradient(high=\"red\",low=\"blue\")\n",
    "p2=ggplot(res[set==\"SN\"],(aes(x=maxNc,y=Nsamples_ref,group=minS,col=minS)))+geom_line()+scale_color_gradient(high=\"red\",low=\"blue\")\n",
    "p3=ggplot(res[set==\"SN\"],(aes(x=minS,y=Nsamples_ref,group=maxNc,col=maxNc)))+geom_line()+scale_color_gradient(high=\"red\",low=\"blue\")\n",
    "cowplot::plot_grid(p1,p2,p3,ncol=3)"
   ]
  },
  {
   "cell_type": "code",
   "execution_count": null,
   "metadata": {},
   "outputs": [],
   "source": [
    "options(repr.plot.width = 15, repr.plot.height =3)\n",
    "p1=ggplot(res[set==\"CN\"],(aes(x=maxNc,y=minC,fill=Nsamples_ref)))+geom_tile()+scale_fill_gradient(high=\"red\",low=\"blue\")\n",
    "p2=ggplot(res[set==\"CN\"],(aes(x=maxNc,y=Nsamples_ref,group=minC,col=minC)))+geom_line()+scale_color_gradient(high=\"red\",low=\"blue\")\n",
    "p3=ggplot(res[set==\"CN\"],(aes(x=minC,y=Nsamples_ref,group=maxNc,col=maxNc)))+geom_line()+scale_color_gradient(high=\"red\",low=\"blue\")\n",
    "cowplot::plot_grid(p1,p2,p3,ncol=3)"
   ]
  },
  {
   "cell_type": "code",
   "execution_count": null,
   "metadata": {},
   "outputs": [],
   "source": [
    "options(repr.plot.width = 4, repr.plot.height =3)\n",
    "ggplot(ps[set==\"CS\"],(aes(x=size,y=p,group=paste0(minC,minS),col=minS)))+geom_line(alpha=0.5)+scale_color_gradient(high=\"red\",low=\"blue\")\n",
    "ggplot(ps[set==\"SN\"],(aes(x=size,y=p,group=paste0(minS,maxNc),col=maxNc)))+geom_line(alpha=0.5)+scale_color_gradient(high=\"red\",low=\"blue\")\n",
    "ggplot(ps[set==\"CN\"],(aes(x=size,y=p,group=paste0(minC,maxNc),col=maxNc)))+geom_line(alpha=0.5)+scale_color_gradient(high=\"red\",low=\"blue\")"
   ]
  },
  {
   "cell_type": "code",
   "execution_count": null,
   "metadata": {},
   "outputs": [],
   "source": []
  }
 ],
 "metadata": {
  "kernelspec": {
   "display_name": "R",
   "language": "R",
   "name": "ir"
  },
  "language_info": {
   "codemirror_mode": "r",
   "file_extension": ".r",
   "mimetype": "text/x-r-source",
   "name": "R",
   "pygments_lexer": "r",
   "version": "4.0.0"
  }
 },
 "nbformat": 4,
 "nbformat_minor": 4
}
